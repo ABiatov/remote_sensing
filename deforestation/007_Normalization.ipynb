{
 "cells": [
  {
   "cell_type": "markdown",
   "metadata": {},
   "source": [
    "# Нормализация сцен Ландсат"
   ]
  },
  {
   "cell_type": "markdown",
   "metadata": {},
   "source": [
    "Даны разновременные сцены Ландсат, покрывающие одну и ту же территорию. Яркости пикселей разных сцен изначально несравнимы между собой вследствие различий в условиях съемки. Требуется промасштабировать яркости пикселей этих сцен таким образом, чтобы появилась возможность сравнивать их между собой и отслеживать динамику изменений яркостей. Эта процедура называется относительной нормализацией.\n",
    "\n",
    "Нормализация, применяемая в данном документе, следует методике из статьи Du Y., Teillet P. M., Cihlar J. Radiometric normalization of multitemporal high-resolution satellite images with quality control for land cover change detection //Remote sensing of Environment. – 2002. – Т. 82. – №. 1. – С. 123-134.\n",
    "\n",
    "Основные положения статьи:\n",
    "\n",
    "1. Если нелинейные эффекты от снимка к снимку незначительны по сравнению с линейными, и искажения равномерно распределены в пространстве, то можно производить линейную нормализацию.\n",
    "2. Для линейной нормализации следует выбрать псевдоинвариантные объекты (PIF) и линейно преобразовать яркости пикселей таким образом, чтобы статистики яркостей (среднее и дисперсия), вычисленные по выбранным PIF совпадали у различных сцен.\n",
    "3. PIF можно выбирать вручную, но это долго и не объективно. В статье предлагается процедура автоматического выбора PIF."
   ]
  },
  {
   "cell_type": "code",
   "execution_count": null,
   "metadata": {
    "collapsed": true
   },
   "outputs": [],
   "source": []
  },
  {
   "cell_type": "code",
   "execution_count": null,
   "metadata": {
    "collapsed": true
   },
   "outputs": [],
   "source": []
  },
  {
   "cell_type": "code",
   "execution_count": null,
   "metadata": {
    "collapsed": true
   },
   "outputs": [],
   "source": []
  }
 ],
 "metadata": {
  "kernelspec": {
   "display_name": "Python 2",
   "language": "python",
   "name": "python2"
  },
  "language_info": {
   "codemirror_mode": {
    "name": "ipython",
    "version": 2
   },
   "file_extension": ".py",
   "mimetype": "text/x-python",
   "name": "python",
   "nbconvert_exporter": "python",
   "pygments_lexer": "ipython2",
   "version": "2.7.6"
  }
 },
 "nbformat": 4,
 "nbformat_minor": 0
}
