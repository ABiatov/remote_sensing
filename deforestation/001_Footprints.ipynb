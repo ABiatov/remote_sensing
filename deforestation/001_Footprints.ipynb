{
 "cells": [
  {
   "cell_type": "markdown",
   "metadata": {},
   "source": [
    "# Подготовка к работе: \"отпечатки\" сцен"
   ]
  },
  {
   "cell_type": "markdown",
   "metadata": {},
   "source": [
    "Для того, чтобы анализировать, как ведет себя поверхность Земли во времени, удобно составить каталог сцен. Этот каталог представляет собой векторный слой (карту в терминологии GRASS), геометрия в котором -- отпечатки сцен, а атрибутика содержит дату съемки и другую вспомогательную информацию.\n",
    "\n",
    "Такой каталог позволит по заданной точке быстро получить список сцен и фильтровать их по датам."
   ]
  },
  {
   "cell_type": "markdown",
   "metadata": {},
   "source": [
    "## Импорт"
   ]
  },
  {
   "cell_type": "markdown",
   "metadata": {},
   "source": [
    "Импортируем необходимые модули, а также создадим MAPSET (назовем его footprints), в котором будем работать. По окончании расчетов скопируем полученную карту в PERMANENT и удалим временный MAPSET. "
   ]
  },
  {
   "cell_type": "code",
   "execution_count": 1,
   "metadata": {
    "collapsed": true
   },
   "outputs": [],
   "source": [
    "import utilites\n",
    "reload(utilites)\n",
    "\n",
    "from utilites import (\n",
    "    get_grassdata_path,\n",
    "    get_location_name,\n",
    "    get_location_path,\n",
    "    format_timestamp,\n",
    ")"
   ]
  },
  {
   "cell_type": "code",
   "execution_count": 2,
   "metadata": {
    "collapsed": true
   },
   "outputs": [],
   "source": [
    "from grasslib import GRASS\n",
    "\n",
    "grs = GRASS(gisbase='/usr/lib/grass70', \n",
    "            dbase=get_grassdata_path(), \n",
    "            location=get_location_name()\n",
    ")"
   ]
  },
  {
   "cell_type": "code",
   "execution_count": 3,
   "metadata": {
    "collapsed": false
   },
   "outputs": [
    {
     "name": "stdout",
     "output_type": "stream",
     "text": [
      "footprints\n",
      "\n"
     ]
    }
   ],
   "source": [
    "grs.grass.run_command('g.mapset', mapset='footprints', flags='c')\n",
    "mapset = grs.grass.read_command('g.mapset', flags='p')\n",
    "print mapset"
   ]
  },
  {
   "cell_type": "markdown",
   "metadata": {},
   "source": [
    "Формируем список сцен:"
   ]
  },
  {
   "cell_type": "code",
   "execution_count": 4,
   "metadata": {
    "collapsed": false
   },
   "outputs": [
    {
     "name": "stdout",
     "output_type": "stream",
     "text": [
      "['toar_LC81120272015157LGN00@landsat', 'toar_LC81120272015189LGN00@landsat', 'toar_LC81120272015333LGN00@landsat', 'toar_LC81120272015365LGN00@landsat', 'toar_LC81120272016032LGN01@landsat', 'toar_LC81120282015141LGN00@landsat', 'toar_LC81120282015189LGN00@landsat', 'toar_LC81120282015237LGN00@landsat', 'toar_LC81120282015317LGN00@landsat', 'toar_LC81120282015365LGN00@landsat', 'toar_LC81120282016016LGN00@landsat', 'toar_LC81120282016032LGN01@landsat', 'toar_LC81130272015356LGN00@landsat']\n"
     ]
    }
   ],
   "source": [
    "scenes = grs.grass.list_strings(\"group\", mapset='landsat', pattern='toar_*')\n",
    "print scenes"
   ]
  },
  {
   "cell_type": "markdown",
   "metadata": {},
   "source": [
    "## Создание отпечатка для сцены"
   ]
  },
  {
   "cell_type": "markdown",
   "metadata": {},
   "source": [
    "Поскольку нам понадобится создать отпечаток для каждой сцены, то будет удобно написать функцию, которая:\n",
    "\n",
    " * принимает на вход название группы изображений сцены;\n",
    " * формирует метаданные описания сцены (в первую очередь, даты), а также генерирует отпечаток сцены и сохраняет его в виде отдельной карты.\n",
    " \n",
    "Геометрию отпечатка сцены сгенерируем по следующему алгоритму:\n",
    "\n",
    "1. Выберем первый попавшийся канал из сцены (отпечатки всех каналов плюс-минус одинаковы).\n",
    "2. Создадим маску по этому каналу (замаскируем все, что null).\n",
    "3. На базе растра маски создадим временную векторную карту.\n",
    "4. Генерализуем ее (это не обязательно, но иначе полигон будет иметь много вершин, занимать лишнее место на диске и время обработки);\n",
    "5. Заполним поля атрибутов.\n",
    "6. Удалим временные карты."
   ]
  },
  {
   "cell_type": "code",
   "execution_count": 5,
   "metadata": {
    "collapsed": false
   },
   "outputs": [],
   "source": [
    "def add_footprint(scene, mapset, grass):\n",
    "    # grass -- объект-обертка над GRASS\n",
    "    \n",
    "    year = scene[14: 18]\n",
    "    day = scene[18:21]\n",
    "\n",
    "    # Шаг 1\n",
    "    bandname = scene + '_B1@' + mapset\n",
    "    # Шаг 2\n",
    "    try:\n",
    "        grass.grass.run_command('r.mask', flags='r')\n",
    "    except:\n",
    "        pass  # Растра маски не было\n",
    "    grass.grass.run_command(\n",
    "        'g.region', raster=bandname, res=10000)  # Точность не нужна\n",
    "    grass.grass.run_command('r.mask', raster=bandname)\n",
    "    \n",
    "    # Шаг 3\n",
    "    grass.grass.run_command(\n",
    "        'r.to.vect', \n",
    "        input=\"MASK\", output='tmp', type='area', flags='t',\n",
    "        overwrite=True\n",
    "    )\n",
    "    grass.grass.run_command(\n",
    "        'v.category', input='tmp', output=scene, option='add',\n",
    "        overwrite=True\n",
    "    )\n",
    "    \n",
    "    # Шаг 4\n",
    "    # Пропускаем, он вызывает ошибку \"Segmentation fault\", \n",
    "    # нужно отписаться о баге\n",
    "    \n",
    "    # Шаг 5  \n",
    "    grass.grass.run_command(\n",
    "        'v.db.addtable', map=scene,\n",
    "        columns=\"name text, year integer, day integer\"\n",
    "    )\n",
    "    grass.grass.run_command(\n",
    "        'v.db.update', map=scene, column='name', value=scene)\n",
    "    grass.grass.run_command(\n",
    "        'v.db.update', map=scene, column='year', value=year)\n",
    "    grass.grass.run_command(\n",
    "        'v.db.update', map=scene, column='day', value=day)\n",
    "    \n",
    "    # Шаг 6\n",
    "    grass.grass.run_command(\n",
    "        'g.remove', type='vector', pattern='tmp*', flags='f')\n",
    "    grass.grass.run_command('r.mask', flags='r')"
   ]
  },
  {
   "cell_type": "markdown",
   "metadata": {},
   "source": [
    "Прогоним эту функцию в цикле над каждой сценой:"
   ]
  },
  {
   "cell_type": "code",
   "execution_count": 6,
   "metadata": {
    "collapsed": false
   },
   "outputs": [
    {
     "name": "stdout",
     "output_type": "stream",
     "text": [
      "toar_LC81120272015157LGN00 landsat\n",
      "toar_LC81120272015189LGN00 landsat\n",
      "toar_LC81120272015333LGN00 landsat\n",
      "toar_LC81120272015365LGN00 landsat\n",
      "toar_LC81120272016032LGN01 landsat\n",
      "toar_LC81120282015141LGN00 landsat\n",
      "toar_LC81120282015189LGN00 landsat\n",
      "toar_LC81120282015237LGN00 landsat\n",
      "toar_LC81120282015317LGN00 landsat\n",
      "toar_LC81120282015365LGN00 landsat\n",
      "toar_LC81120282016016LGN00 landsat\n",
      "toar_LC81120282016032LGN01 landsat\n",
      "toar_LC81130272015356LGN00 landsat\n",
      "['toar_LC81120272015157LGN00@footprints', 'toar_LC81120272015189LGN00@footprints', 'toar_LC81120272015333LGN00@footprints', 'toar_LC81120272015365LGN00@footprints', 'toar_LC81120272016032LGN01@footprints', 'toar_LC81120282015141LGN00@footprints', 'toar_LC81120282015189LGN00@footprints', 'toar_LC81120282015237LGN00@footprints', 'toar_LC81120282015317LGN00@footprints', 'toar_LC81120282015365LGN00@footprints', 'toar_LC81120282016016LGN00@footprints', 'toar_LC81120282016032LGN01@footprints', 'toar_LC81130272015356LGN00@footprints']\n"
     ]
    }
   ],
   "source": [
    "for scene in scenes:\n",
    "    scene, mapset = scene.split('@')\n",
    "    print scene, mapset\n",
    "    add_footprint(scene, mapset, grs)\n",
    "\n",
    "print grs.grass.list_strings(\"vect\", mapset='footprints')"
   ]
  },
  {
   "cell_type": "markdown",
   "metadata": {},
   "source": [
    "## Создание пространственно-временой БД"
   ]
  },
  {
   "cell_type": "markdown",
   "metadata": {},
   "source": [
    "### Добавление информации о датах"
   ]
  },
  {
   "cell_type": "markdown",
   "metadata": {},
   "source": [
    "Добавим дату в метаданные к отпечаткам:"
   ]
  },
  {
   "cell_type": "code",
   "execution_count": 7,
   "metadata": {
    "collapsed": false
   },
   "outputs": [],
   "source": [
    "footprints = grs.grass.list_strings(\"vect\", mapset='footprints')\n",
    "for fp in footprints:\n",
    "    year, day = grs.grass.read_command(\n",
    "        'v.db.select', map=fp, columns='year,day', separator=' ', flags='c').split()\n",
    "    year, day = int(year), int(day)\n",
    "    stamp = format_timestamp(year, day)\n",
    "    grs.grass.run_command('v.timestamp', map=fp, date=stamp)"
   ]
  },
  {
   "cell_type": "markdown",
   "metadata": {},
   "source": [
    "### Создание пространственно-временной БД и регистрация карт"
   ]
  },
  {
   "cell_type": "code",
   "execution_count": 8,
   "metadata": {
    "collapsed": false
   },
   "outputs": [
    {
     "data": {
      "text/plain": [
       "0"
      ]
     },
     "execution_count": 8,
     "metadata": {},
     "output_type": "execute_result"
    }
   ],
   "source": [
    "grs.grass.run_command(\n",
    "    't.create', type='stvds', temporaltype='absolute', \n",
    "    output='landsat_footprints', title=\"Footprints of Landsat scenes\",\n",
    "    description=\"Footprints of Landsat scenes\", semantictype='mean',\n",
    "    overwrite=True\n",
    ")"
   ]
  },
  {
   "cell_type": "code",
   "execution_count": 9,
   "metadata": {
    "collapsed": false
   },
   "outputs": [],
   "source": [
    "for fp in footprints:\n",
    "    grs.grass.run_command(\n",
    "        't.register', input='landsat_footprints', maps=fp, type='vector')"
   ]
  },
  {
   "cell_type": "code",
   "execution_count": 10,
   "metadata": {
    "collapsed": false
   },
   "outputs": [
    {
     "name": "stdout",
     "output_type": "stream",
     "text": [
      " +-------------------- Space Time Vector Dataset -----------------------------+\n",
      " |                                                                            |\n",
      " +-------------------- Basic information -------------------------------------+\n",
      " | Id: ........................ landsat_footprints@footprints\n",
      " | Name: ...................... landsat_footprints\n",
      " | Mapset: .................... footprints\n",
      " | Creator: ................... klsvd\n",
      " | Temporal type: ............. absolute\n",
      " | Creation time: ............. 2016-05-06 10:23:45.443609\n",
      " | Modification time:.......... 2016-05-06 10:23:51.062923\n",
      " | Semantic type:.............. mean\n",
      " +-------------------- Absolute time -----------------------------------------+\n",
      " | Start time:................. 2015-05-22 00:00:00\n",
      " | End time:................... 2016-02-02 00:00:00\n",
      " | Granularity:................ 1 day\n",
      " | Temporal type of maps:...... point\n",
      " +-------------------- Spatial extent ----------------------------------------+\n",
      " | North:...................... 5374515.0\n",
      " | South:...................... 4978485.0\n",
      " | East:.. .................... 708015.0\n",
      " | West:....................... 355485.0\n",
      " | Top:........................ 0.0\n",
      " | Bottom:..................... 0.0\n",
      " +-------------------- Metadata information ----------------------------------+\n",
      " | Vector register table:...... vector_map_register_19776ec22e13431391902a7b562355db\n",
      " | Number of points ........... 0\n",
      " | Number of lines ............ 0\n",
      " | Number of boundaries ....... 13\n",
      " | Number of centroids ........ 13\n",
      " | Number of faces ............ 0\n",
      " | Number of kernels .......... 0\n",
      " | Number of primitives ....... 26\n",
      " | Number of nodes ............ 13\n",
      " | Number of areas ............ 13\n",
      " | Number of islands .......... 13\n",
      " | Number of holes ............ 0\n",
      " | Number of volumes .......... 0\n",
      " | Number of registered maps:.. 13\n",
      " |\n",
      " | Title:\n",
      " | Footprints of Landsat scenes\n",
      " | Description:\n",
      " | Footprints of Landsat scenes\n",
      " | Command history:\n",
      " | # 2016-05-06 10:23:45 \n",
      " | t.create --o\n",
      " |     description=\"Footprints of Landsat scenes\"\n",
      " |     title=\"Footprints of Landsat scenes\" semantictype=\"mean\"\n",
      " |     output=\"landsat_footprints\" type=\"stvds\" temporaltype=\"absolute\"\n",
      " | # 2016-05-06 10:23:45 \n",
      " | t.register input=\"landsat_footprints\" type=\"vector\"\n",
      " |     maps=\"toar_LC81120272015157LGN00@footprints\"\n",
      " | # 2016-05-06 10:23:46 \n",
      " | t.register input=\"landsat_footprints\" type=\"vector\"\n",
      " |     maps=\"toar_LC81120272015189LGN00@footprints\"\n",
      " | # 2016-05-06 10:23:46 \n",
      " | t.register input=\"landsat_footprints\" type=\"vector\"\n",
      " |     maps=\"toar_LC81120272015333LGN00@footprints\"\n",
      " | # 2016-05-06 10:23:47 \n",
      " | t.register input=\"landsat_footprints\" type=\"vector\"\n",
      " |     maps=\"toar_LC81120272015365LGN00@footprints\"\n",
      " | # 2016-05-06 10:23:47 \n",
      " | t.register input=\"landsat_footprints\" type=\"vector\"\n",
      " |     maps=\"toar_LC81120272016032LGN01@footprints\"\n",
      " | # 2016-05-06 10:23:48 \n",
      " | t.register input=\"landsat_footprints\" type=\"vector\"\n",
      " |     maps=\"toar_LC81120282015141LGN00@footprints\"\n",
      " | # 2016-05-06 10:23:48 \n",
      " | t.register input=\"landsat_footprints\" type=\"vector\"\n",
      " |     maps=\"toar_LC81120282015189LGN00@footprints\"\n",
      " | # 2016-05-06 10:23:48 \n",
      " | t.register input=\"landsat_footprints\" type=\"vector\"\n",
      " |     maps=\"toar_LC81120282015237LGN00@footprints\"\n",
      " | # 2016-05-06 10:23:49 \n",
      " | t.register input=\"landsat_footprints\" type=\"vector\"\n",
      " |     maps=\"toar_LC81120282015317LGN00@footprints\"\n",
      " | # 2016-05-06 10:23:49 \n",
      " | t.register input=\"landsat_footprints\" type=\"vector\"\n",
      " |     maps=\"toar_LC81120282015365LGN00@footprints\"\n",
      " | # 2016-05-06 10:23:50 \n",
      " | t.register input=\"landsat_footprints\" type=\"vector\"\n",
      " |     maps=\"toar_LC81120282016016LGN00@footprints\"\n",
      " | # 2016-05-06 10:23:50 \n",
      " | t.register input=\"landsat_footprints\" type=\"vector\"\n",
      " |     maps=\"toar_LC81120282016032LGN01@footprints\"\n",
      " | # 2016-05-06 10:23:51 \n",
      " | t.register input=\"landsat_footprints\" type=\"vector\"\n",
      " |     maps=\"toar_LC81130272015356LGN00@footprints\"\n",
      " | \n",
      " +----------------------------------------------------------------------------+\n",
      "\n"
     ]
    }
   ],
   "source": [
    "print grs.grass.read_command('t.info', type='stvds', input='landsat_footprints')"
   ]
  },
  {
   "cell_type": "markdown",
   "metadata": {},
   "source": [
    "## Примеры запросов к БД"
   ]
  },
  {
   "cell_type": "markdown",
   "metadata": {
    "collapsed": true
   },
   "source": [
    "### Выборка карт"
   ]
  },
  {
   "cell_type": "code",
   "execution_count": 11,
   "metadata": {
    "collapsed": false
   },
   "outputs": [
    {
     "name": "stdout",
     "output_type": "stream",
     "text": [
      "name|layer|mapset|start_time|end_time\n",
      "toar_LC81120282015141LGN00|None|footprints|2015-05-22 00:00:00|None\n",
      "toar_LC81120272015157LGN00|None|footprints|2015-06-07 00:00:00|None\n",
      "toar_LC81120272015189LGN00|None|footprints|2015-07-09 00:00:00|None\n",
      "toar_LC81120282015189LGN00|None|footprints|2015-07-09 00:00:00|None\n",
      "toar_LC81120282015237LGN00|None|footprints|2015-08-26 00:00:00|None\n",
      "toar_LC81120282015317LGN00|None|footprints|2015-11-14 00:00:00|None\n",
      "toar_LC81120272015333LGN00|None|footprints|2015-11-30 00:00:00|None\n",
      "toar_LC81130272015356LGN00|None|footprints|2015-12-23 00:00:00|None\n",
      "toar_LC81120272015365LGN00|None|footprints|2016-01-01 00:00:00|None\n",
      "toar_LC81120282015365LGN00|None|footprints|2016-01-01 00:00:00|None\n",
      "toar_LC81120282016016LGN00|None|footprints|2016-01-17 00:00:00|None\n",
      "toar_LC81120272016032LGN01|None|footprints|2016-02-02 00:00:00|None\n",
      "toar_LC81120282016032LGN01|None|footprints|2016-02-02 00:00:00|None\n",
      "\n"
     ]
    }
   ],
   "source": [
    "print grs.grass.read_command('t.vect.list', input='landsat_footprints')"
   ]
  },
  {
   "cell_type": "markdown",
   "metadata": {},
   "source": [
    "Выборка по дате. Дата хранится как строковое выражение, поэтому выборка происходит на базе сравнения строк:"
   ]
  },
  {
   "cell_type": "code",
   "execution_count": 12,
   "metadata": {
    "collapsed": false
   },
   "outputs": [
    {
     "name": "stdout",
     "output_type": "stream",
     "text": [
      "name|layer|mapset|start_time|end_time\n",
      "toar_LC81120282015141LGN00|None|footprints|2015-05-22 00:00:00|None\n",
      "toar_LC81120272015157LGN00|None|footprints|2015-06-07 00:00:00|None\n",
      "toar_LC81120272015189LGN00|None|footprints|2015-07-09 00:00:00|None\n",
      "toar_LC81120282015189LGN00|None|footprints|2015-07-09 00:00:00|None\n",
      "\n",
      "\n",
      "name|layer|mapset|start_time|end_time\n",
      "toar_LC81120272016032LGN01|None|footprints|2016-02-02 00:00:00|None\n",
      "toar_LC81120282016032LGN01|None|footprints|2016-02-02 00:00:00|None\n",
      "\n"
     ]
    }
   ],
   "source": [
    "print grs.grass.read_command('t.vect.list', input='landsat_footprints', where=\"start_time < '2015-08-14'\")\n",
    "print\n",
    "print grs.grass.read_command('t.vect.list', input='landsat_footprints', where=\"start_time like '%02%'\")"
   ]
  },
  {
   "cell_type": "markdown",
   "metadata": {},
   "source": [
    "Выборка с преобразованием строки в дату:"
   ]
  },
  {
   "cell_type": "code",
   "execution_count": 13,
   "metadata": {
    "collapsed": false
   },
   "outputs": [
    {
     "name": "stdout",
     "output_type": "stream",
     "text": [
      "name|layer|mapset|start_time|end_time\n",
      "toar_LC81120272015157LGN00|None|footprints|2015-06-07 00:00:00|None\n",
      "\n"
     ]
    }
   ],
   "source": [
    "print grs.grass.read_command('t.vect.list', input='landsat_footprints', where=\"strftime('%m', start_time)='06'\")"
   ]
  },
  {
   "cell_type": "markdown",
   "metadata": {},
   "source": [
    "Более серьезные примеры с использованием временных топологических отношений можно посмотреть [в документации GRASS](https://grass.osgeo.org/grass70/manuals/t.select.html)."
   ]
  },
  {
   "cell_type": "code",
   "execution_count": null,
   "metadata": {
    "collapsed": true
   },
   "outputs": [],
   "source": []
  },
  {
   "cell_type": "code",
   "execution_count": null,
   "metadata": {
    "collapsed": true
   },
   "outputs": [],
   "source": []
  }
 ],
 "metadata": {
  "kernelspec": {
   "display_name": "Python 2",
   "language": "python",
   "name": "python2"
  },
  "language_info": {
   "codemirror_mode": {
    "name": "ipython",
    "version": 2
   },
   "file_extension": ".py",
   "mimetype": "text/x-python",
   "name": "python",
   "nbconvert_exporter": "python",
   "pygments_lexer": "ipython2",
   "version": "2.7.6"
  }
 },
 "nbformat": 4,
 "nbformat_minor": 0
}
