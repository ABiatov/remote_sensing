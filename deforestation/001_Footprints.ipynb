{
 "cells": [
  {
   "cell_type": "markdown",
   "metadata": {
    "deletable": true,
    "editable": true
   },
   "source": [
    "# Подготовка к работе: \"отпечатки\" сцен"
   ]
  },
  {
   "cell_type": "markdown",
   "metadata": {
    "deletable": true,
    "editable": true
   },
   "source": [
    "Для того, чтобы анализировать, как ведет себя поверхность Земли во времени, удобно составить каталог сцен. Этот каталог представляет собой векторный слой (карту в терминологии GRASS), геометрия в котором -- отпечатки сцен, а атрибутика содержит дату съемки и другую вспомогательную информацию.\n",
    "\n",
    "Такой каталог позволит по заданной точке быстро получить список сцен и фильтровать их по датам."
   ]
  },
  {
   "cell_type": "markdown",
   "metadata": {
    "deletable": true,
    "editable": true
   },
   "source": [
    "## Импорт"
   ]
  },
  {
   "cell_type": "markdown",
   "metadata": {
    "deletable": true,
    "editable": true
   },
   "source": [
    "Импортируем необходимые модули, а также создадим MAPSET (назовем его footprints), в котором будем работать. По окончании расчетов скопируем полученную карту в PERMANENT и удалим временный MAPSET. "
   ]
  },
  {
   "cell_type": "code",
   "execution_count": null,
   "metadata": {
    "collapsed": true,
    "deletable": true,
    "editable": true
   },
   "outputs": [],
   "source": [
    "import utilites\n",
    "reload(utilites)\n",
    "\n",
    "from utilites import (\n",
    "    get_grassdata_path,\n",
    "    get_location_name,\n",
    "    get_location_path,\n",
    "    format_timestamp,\n",
    ")"
   ]
  },
  {
   "cell_type": "code",
   "execution_count": null,
   "metadata": {
    "collapsed": true,
    "deletable": true,
    "editable": true
   },
   "outputs": [],
   "source": [
    "from grasslib import GRASS\n",
    "\n",
    "grs = GRASS(gisbase='/usr/lib/grass70', \n",
    "            dbase=get_grassdata_path(), \n",
    "            location=get_location_name()\n",
    ")"
   ]
  },
  {
   "cell_type": "code",
   "execution_count": null,
   "metadata": {
    "collapsed": false,
    "deletable": true,
    "editable": true
   },
   "outputs": [],
   "source": [
    "grs.grass.run_command('g.mapset', mapset='footprints', flags='c')\n",
    "mapset = grs.grass.read_command('g.mapset', flags='p')\n",
    "print mapset"
   ]
  },
  {
   "cell_type": "markdown",
   "metadata": {
    "deletable": true,
    "editable": true
   },
   "source": [
    "Формируем список сцен:"
   ]
  },
  {
   "cell_type": "code",
   "execution_count": null,
   "metadata": {
    "collapsed": false,
    "deletable": true,
    "editable": true
   },
   "outputs": [],
   "source": [
    "scenes = grs.grass.list_strings(\"group\", mapset='landsat', pattern='toar_*')\n",
    "print scenes"
   ]
  },
  {
   "cell_type": "markdown",
   "metadata": {
    "deletable": true,
    "editable": true
   },
   "source": [
    "## Создание отпечатка для сцены"
   ]
  },
  {
   "cell_type": "markdown",
   "metadata": {
    "deletable": true,
    "editable": true
   },
   "source": [
    "Поскольку нам понадобится создать отпечаток для каждой сцены, то будет удобно написать функцию, которая:\n",
    "\n",
    " * принимает на вход название группы изображений сцены;\n",
    " * формирует метаданные описания сцены (в первую очередь, даты), а также генерирует отпечаток сцены и сохраняет его в виде отдельной карты.\n",
    " \n",
    "Геометрию отпечатка сцены сгенерируем по следующему алгоритму:\n",
    "\n",
    "1. Выберем первый попавшийся канал из сцены (отпечатки всех каналов плюс-минус одинаковы).\n",
    "2. Создадим маску по этому каналу (замаскируем все, что null).\n",
    "3. На базе растра маски создадим временную векторную карту.\n",
    "4. Генерализуем ее (это не обязательно, но иначе полигон будет иметь много вершин, занимать лишнее место на диске и время обработки);\n",
    "5. Заполним поля атрибутов.\n",
    "6. Удалим временные карты."
   ]
  },
  {
   "cell_type": "code",
   "execution_count": null,
   "metadata": {
    "collapsed": false,
    "deletable": true,
    "editable": true
   },
   "outputs": [],
   "source": [
    "def add_footprint(scene, mapset, grass):\n",
    "    # grass -- объект-обертка над GRASS\n",
    "    \n",
    "    year = scene[14: 18]\n",
    "    day = scene[18:21]\n",
    "\n",
    "    # Шаг 1\n",
    "    bandname = scene + '_B1@' + mapset\n",
    "    # Шаг 2\n",
    "    try:\n",
    "        grass.grass.run_command('r.mask', flags='r')\n",
    "    except:\n",
    "        pass  # Растра маски не было\n",
    "    grass.grass.run_command(\n",
    "        'g.region', raster=bandname, res=10000)  # Точность не нужна\n",
    "    grass.grass.run_command('r.mask', raster=bandname)\n",
    "    \n",
    "    # Шаг 3\n",
    "    grass.grass.run_command(\n",
    "        'r.to.vect', \n",
    "        input=\"MASK\", output='tmp', type='area', flags='t',\n",
    "        overwrite=True\n",
    "    )\n",
    "    grass.grass.run_command(\n",
    "        'v.category', input='tmp', output=scene, option='add',\n",
    "        overwrite=True\n",
    "    )\n",
    "    \n",
    "    # Шаг 4\n",
    "    # Пропускаем, он вызывает ошибку \"Segmentation fault\", \n",
    "    # нужно отписаться о баге\n",
    "    \n",
    "    # Шаг 5  \n",
    "    grass.grass.run_command(\n",
    "        'v.db.addtable', map=scene,\n",
    "        columns=\"name text, year integer, day integer\"\n",
    "    )\n",
    "    grass.grass.run_command(\n",
    "        'v.db.update', map=scene, column='name', value=scene)\n",
    "    grass.grass.run_command(\n",
    "        'v.db.update', map=scene, column='year', value=year)\n",
    "    grass.grass.run_command(\n",
    "        'v.db.update', map=scene, column='day', value=day)\n",
    "    \n",
    "    # Шаг 6\n",
    "    grass.grass.run_command(\n",
    "        'g.remove', type='vector', pattern='tmp*', flags='f')\n",
    "    grass.grass.run_command('r.mask', flags='r')"
   ]
  },
  {
   "cell_type": "markdown",
   "metadata": {
    "deletable": true,
    "editable": true
   },
   "source": [
    "Прогоним эту функцию в цикле над каждой сценой:"
   ]
  },
  {
   "cell_type": "code",
   "execution_count": null,
   "metadata": {
    "collapsed": false,
    "deletable": true,
    "editable": true
   },
   "outputs": [],
   "source": [
    "for scene in scenes:\n",
    "    scene, mapset = scene.split('@')\n",
    "    print scene, mapset\n",
    "    add_footprint(scene, mapset, grs)\n",
    "\n",
    "print grs.grass.list_strings(\"vect\", mapset='footprints')"
   ]
  },
  {
   "cell_type": "markdown",
   "metadata": {
    "deletable": true,
    "editable": true
   },
   "source": [
    "## Создание пространственно-временой БД"
   ]
  },
  {
   "cell_type": "markdown",
   "metadata": {
    "deletable": true,
    "editable": true
   },
   "source": [
    "### Добавление информации о датах"
   ]
  },
  {
   "cell_type": "markdown",
   "metadata": {
    "deletable": true,
    "editable": true
   },
   "source": [
    "Добавим дату в метаданные к отпечаткам:"
   ]
  },
  {
   "cell_type": "code",
   "execution_count": null,
   "metadata": {
    "collapsed": false,
    "deletable": true,
    "editable": true
   },
   "outputs": [],
   "source": [
    "footprints = grs.grass.list_strings(\"vect\", mapset='footprints')\n",
    "for fp in footprints:\n",
    "    year, day = grs.grass.read_command(\n",
    "        'v.db.select', map=fp, columns='year,day', separator=' ', flags='c').split()\n",
    "    year, day = int(year), int(day)\n",
    "    stamp = format_timestamp(year, day)\n",
    "    grs.grass.run_command('v.timestamp', map=fp, date=stamp)"
   ]
  },
  {
   "cell_type": "markdown",
   "metadata": {
    "deletable": true,
    "editable": true
   },
   "source": [
    "### Создание пространственно-временной БД и регистрация карт"
   ]
  },
  {
   "cell_type": "code",
   "execution_count": null,
   "metadata": {
    "collapsed": false,
    "deletable": true,
    "editable": true
   },
   "outputs": [],
   "source": [
    "grs.grass.run_command(\n",
    "    't.create', type='stvds', temporaltype='absolute', \n",
    "    output='landsat_footprints', title=\"Footprints of Landsat scenes\",\n",
    "    description=\"Footprints of Landsat scenes\", semantictype='mean',\n",
    "    overwrite=True\n",
    ")"
   ]
  },
  {
   "cell_type": "code",
   "execution_count": null,
   "metadata": {
    "collapsed": false,
    "deletable": true,
    "editable": true
   },
   "outputs": [],
   "source": [
    "for fp in footprints:\n",
    "    grs.grass.run_command(\n",
    "        't.register', input='landsat_footprints', maps=fp, type='vector')"
   ]
  },
  {
   "cell_type": "code",
   "execution_count": null,
   "metadata": {
    "collapsed": false,
    "deletable": true,
    "editable": true
   },
   "outputs": [],
   "source": [
    "print grs.grass.read_command('t.info', type='stvds', input='landsat_footprints')"
   ]
  },
  {
   "cell_type": "markdown",
   "metadata": {
    "deletable": true,
    "editable": true
   },
   "source": [
    "## Примеры запросов к БД"
   ]
  },
  {
   "cell_type": "markdown",
   "metadata": {
    "collapsed": true,
    "deletable": true,
    "editable": true
   },
   "source": [
    "### Выборка карт"
   ]
  },
  {
   "cell_type": "code",
   "execution_count": null,
   "metadata": {
    "collapsed": false,
    "deletable": true,
    "editable": true
   },
   "outputs": [],
   "source": [
    "print grs.grass.read_command('t.vect.list', input='landsat_footprints')"
   ]
  },
  {
   "cell_type": "markdown",
   "metadata": {
    "deletable": true,
    "editable": true
   },
   "source": [
    "Выборка по дате. Дата хранится как строковое выражение, поэтому выборка происходит на базе сравнения строк:"
   ]
  },
  {
   "cell_type": "code",
   "execution_count": null,
   "metadata": {
    "collapsed": false,
    "deletable": true,
    "editable": true
   },
   "outputs": [],
   "source": [
    "print grs.grass.read_command('t.vect.list', input='landsat_footprints', where=\"start_time < '2015-08-14'\")\n",
    "print\n",
    "print grs.grass.read_command('t.vect.list', input='landsat_footprints', where=\"start_time like '%02%'\")"
   ]
  },
  {
   "cell_type": "markdown",
   "metadata": {
    "deletable": true,
    "editable": true
   },
   "source": [
    "Выборка с преобразованием строки в дату:"
   ]
  },
  {
   "cell_type": "code",
   "execution_count": null,
   "metadata": {
    "collapsed": false,
    "deletable": true,
    "editable": true
   },
   "outputs": [],
   "source": [
    "print grs.grass.read_command('t.vect.list', input='landsat_footprints', where=\"strftime('%m', start_time)='06'\")"
   ]
  },
  {
   "cell_type": "markdown",
   "metadata": {
    "deletable": true,
    "editable": true
   },
   "source": [
    "Более серьезные примеры с использованием временных топологических отношений можно посмотреть [в документации GRASS](https://grass.osgeo.org/grass70/manuals/t.select.html)."
   ]
  },
  {
   "cell_type": "code",
   "execution_count": null,
   "metadata": {
    "collapsed": true,
    "deletable": true,
    "editable": true
   },
   "outputs": [],
   "source": []
  },
  {
   "cell_type": "code",
   "execution_count": null,
   "metadata": {
    "collapsed": true,
    "deletable": true,
    "editable": true
   },
   "outputs": [],
   "source": []
  }
 ],
 "metadata": {
  "kernelspec": {
   "display_name": "Python 2",
   "language": "python",
   "name": "python2"
  },
  "language_info": {
   "codemirror_mode": {
    "name": "ipython",
    "version": 2
   },
   "file_extension": ".py",
   "mimetype": "text/x-python",
   "name": "python",
   "nbconvert_exporter": "python",
   "pygments_lexer": "ipython2",
   "version": "2.7.12"
  }
 },
 "nbformat": 4,
 "nbformat_minor": 0
}
