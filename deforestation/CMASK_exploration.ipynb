{
 "cells": [
  {
   "cell_type": "markdown",
   "metadata": {},
   "source": [
    "# Статанализ масок облаков и снега"
   ]
  },
  {
   "cell_type": "markdown",
   "metadata": {},
   "source": [
    "В файл были экспортированы обучающие данные по облачности и снегу (см. https://176.9.38.120/cruncher/notebooks/deforestation/CMask_trainings.ipynb)."
   ]
  },
  {
   "cell_type": "code",
   "execution_count": 1,
   "metadata": {
    "collapsed": false
   },
   "outputs": [],
   "source": [
    "points = read.table('data/CMask_trainings/random_points.csv', header=TRUE, sep=';')\n",
    "\n",
    "# summary(points)"
   ]
  },
  {
   "cell_type": "markdown",
   "metadata": {},
   "source": [
    "Содержимое колонок:\n",
    "\n",
    "  * cat -- идентификатор точки, в которой производились измерения;\n",
    "  * l1_b1 -- l1_b11 -- данные LANDSAT8 (после атмосферной коррекции) по сцене LC81120282015365LGN00;\n",
    "  * l2_b1 -- l2_b11 -- данные LANDSAT8 (после атмосферной коррекции) по сцене LC81130272015356LGN00;\n",
    "  * t1, t2 -- данные по наземным объектам сцен LC81120282015365LGN00 и LC81130272015356LGN00 соответственно, значения: 1-облака;2-снег;3-остальное.\n",
    "  * x, y -- координаты (UTM);"
   ]
  },
  {
   "cell_type": "markdown",
   "metadata": {},
   "source": [
    "Соберем данные в dataframe для удобства анализа так, чтобы в нем одна строка соответствовала одному измерению, а не двум, как сейчас:"
   ]
  },
  {
   "cell_type": "code",
   "execution_count": 2,
   "metadata": {
    "collapsed": false
   },
   "outputs": [
    {
     "data": {
      "text/plain": [
       "      cat              x                y               t        \n",
       " Min.   :    1   Min.   :434113   Min.   :4979683   Cloud: 1579  \n",
       " 1st Qu.:12508   1st Qu.:496221   1st Qu.:5060181   Snow : 3644  \n",
       " Median :24998   Median :536605   Median :5117104   Other:45316  \n",
       " Mean   :24998   Mean   :541089   Mean   :5112347                \n",
       " 3rd Qu.:37496   3rd Qu.:586255   3rd Qu.:5165598                \n",
       " Max.   :50000   Max.   :664168   Max.   :5215814                \n",
       "       b1               b2                b3                b4         \n",
       " Min.   :0.1124   Min.   :0.08453   Min.   :0.04529   Min.   :0.02953  \n",
       " 1st Qu.:0.2011   1st Qu.:0.16832   1st Qu.:0.11290   1st Qu.:0.09587  \n",
       " Median :0.2291   Median :0.19891   Median :0.14421   Median :0.13350  \n",
       " Mean   :0.2529   Mean   :0.22642   Mean   :0.17388   Mean   :0.17051  \n",
       " 3rd Qu.:0.2732   3rd Qu.:0.24862   3rd Qu.:0.19710   3rd Qu.:0.19912  \n",
       " Max.   :0.9407   Max.   :1.07539   Max.   :1.17382   Max.   :1.45950  \n",
       "       b5               b6                 b7                  b8         \n",
       " Min.   :0.0266   Min.   :0.002429   Min.   :0.0009371   Min.   :0.03806  \n",
       " 1st Qu.:0.1505   1st Qu.:0.045226   1st Qu.:0.0346359   1st Qu.:0.10428  \n",
       " Median :0.2089   Median :0.064413   Median :0.0517046   Median :0.13835  \n",
       " Mean   :0.2411   Mean   :0.070830   Mean   :0.0587442   Mean   :0.17102  \n",
       " 3rd Qu.:0.2940   3rd Qu.:0.085904   3rd Qu.:0.0727751   3rd Qu.:0.19648  \n",
       " Max.   :1.7880   Max.   :0.835206   Max.   :0.7258888   Max.   :1.25935  \n",
       "       b9                  b10             b11        scene     \n",
       " Min.   :-0.0001246   Min.   :232.4   Min.   :224.4   S1:41907  \n",
       " 1st Qu.: 0.0038000   1st Qu.:250.1   1st Qu.:247.7   S2: 8632  \n",
       " Median : 0.0054196   Median :252.2   Median :249.9             \n",
       " Mean   : 0.0106870   Mean   :252.4   Mean   :250.0             \n",
       " 3rd Qu.: 0.0095934   3rd Qu.:254.5   3rd Qu.:252.3             \n",
       " Max.   : 0.2826308   Max.   :263.5   Max.   :261.4             "
      ]
     },
     "metadata": {},
     "output_type": "display_data"
    }
   ],
   "source": [
    "tmp1 = points[c('cat', 'x', 'y', 't1',\n",
    "                'l1_b1', 'l1_b2', 'l1_b3', 'l1_b4', 'l1_b5', 'l1_b6', \n",
    "                'l1_b7', 'l1_b8', 'l1_b9', 'l1_b10', 'l1_b11'\n",
    "               )]\n",
    "names(tmp1) = c('cat', 'x', 'y', 't',\n",
    "                'b1', 'b2', 'b3', 'b4', 'b5', 'b6', 'b7', 'b8', 'b9', 'b10', 'b11'\n",
    "               )\n",
    "\n",
    "tmp1$scene = 'S1' # 'LC81120282015365LGN00'\n",
    "\n",
    "tmp2 = points[c('cat', 'x', 'y', 't2',\n",
    "                'l2_b1', 'l2_b2', 'l2_b3', 'l2_b4', 'l2_b5', 'l2_b6', \n",
    "                'l2_b7', 'l2_b8', 'l2_b9', 'l2_b10', 'l2_b11'\n",
    "               )]\n",
    "names(tmp2) = c('cat', 'x', 'y', 't',\n",
    "                'b1', 'b2', 'b3', 'b4', 'b5', 'b6', 'b7', 'b8', 'b9', 'b10', 'b11'\n",
    "               )\n",
    "tmp2$scene = 'S2' # 'LC81130272015356LGN00'\n",
    "\n",
    "\n",
    "points = rbind(tmp1, tmp2)\n",
    "\n",
    "points$t[points$t==0] = NA\n",
    "\n",
    "points$scene = factor(points$scene)\n",
    "points$t = factor(points$t)\n",
    "levels(points$t) <- list(Cloud=1, Snow=2, Other=3)\n",
    "\n",
    "points = na.omit(points)\n",
    "\n",
    "summary(points)"
   ]
  },
  {
   "cell_type": "markdown",
   "metadata": {},
   "source": [
    "Видим, что в 9-м канале после атмосферной коррекции получились отрицательные значения. Объясняется это, по всей видимости, тем, что используемые в ходе коррекции константы (gain или bias, см. метаданные) содержали неподходящие для данной сцены значения. Аналогично, почти во всех каналах значения отражающей способности оказались выше 1."
   ]
  },
  {
   "cell_type": "code",
   "execution_count": 3,
   "metadata": {
    "collapsed": false
   },
   "outputs": [
    {
     "data": {
      "text/html": [
       "<ol class=list-inline>\n",
       "\t<li>50539</li>\n",
       "\t<li>16</li>\n",
       "</ol>\n"
      ],
      "text/latex": [
       "\\begin{enumerate*}\n",
       "\\item 50539\n",
       "\\item 16\n",
       "\\end{enumerate*}\n"
      ],
      "text/markdown": [
       "1. 50539\n",
       "2. 16\n",
       "\n",
       "\n"
      ],
      "text/plain": [
       "[1] 50539    16"
      ]
     },
     "metadata": {},
     "output_type": "display_data"
    }
   ],
   "source": [
    "# Число примеров, оставшихся после удаления отсутсвующих данных\n",
    "dim(points)"
   ]
  },
  {
   "cell_type": "code",
   "execution_count": 4,
   "metadata": {
    "collapsed": true
   },
   "outputs": [],
   "source": [
    "points$b8[points$b9 < 0] = 0.0\n",
    "\n",
    "points$b2[points$b2 > 1] = 1.0\n",
    "points$b3[points$b3 > 1] = 1.0\n",
    "points$b4[points$b4 > 1] = 1.0\n",
    "points$b5[points$b5 > 1] = 1.0\n",
    "points$b8[points$b8 > 1] = 1.0"
   ]
  },
  {
   "cell_type": "markdown",
   "metadata": {},
   "source": [
    "## Первый взгляд на данные"
   ]
  },
  {
   "cell_type": "markdown",
   "metadata": {},
   "source": [
    "### Отражающая способность различных объектов"
   ]
  },
  {
   "cell_type": "markdown",
   "metadata": {},
   "source": [
    "Построим ящики с усами по каждому каналу и сравним какие значения отражающей способности типичны для каждого типа поверхности."
   ]
  },
  {
   "cell_type": "code",
   "execution_count": 5,
   "metadata": {
    "collapsed": false
   },
   "outputs": [
    {
     "data": {
      "text/html": [
       "<strong>png:</strong> 2"
      ],
      "text/latex": [
       "\\textbf{png:} 2"
      ],
      "text/markdown": [
       "**png:** 2"
      ],
      "text/plain": [
       "png \n",
       "  2 "
      ]
     },
     "metadata": {},
     "output_type": "display_data"
    }
   ],
   "source": [
    "opar = par(no.readonly = TRUE)      # make a copy of current settings\n",
    "\n",
    "png(\"Img/CMASK/type_vs_bands.png\", width=728, height=728, units=\"px\")\n",
    "    par(mfrow = c(3,4))\n",
    "    boxplot(b1 ~ t, data=points, ylab='b1')\n",
    "    boxplot(b2 ~ t, data=points, ylab='b2')\n",
    "    boxplot(b3 ~ t, data=points, ylab='b3')\n",
    "    boxplot(b4 ~ t, data=points, ylab='b4')\n",
    "\n",
    "    boxplot(b5 ~ t, data=points, ylab='b5')\n",
    "    boxplot(b6 ~ t, data=points, ylab='b6')\n",
    "    boxplot(b7 ~ t, data=points, ylab='b7')\n",
    "    boxplot(b8 ~ t, data=points, ylab='b8')\n",
    "\n",
    "    boxplot(b9 ~ t, data=points, ylab='b9')\n",
    "    boxplot(b10 ~ t, data=points, ylab='b10')\n",
    "    boxplot(b11 ~ t, data=points, ylab='b11')\n",
    "    par(opar)\n",
    "dev.off()"
   ]
  },
  {
   "cell_type": "markdown",
   "metadata": {},
   "source": [
    "<img src=\"https://176.9.38.120/cruncher/files/deforestation/Img/CMASK/type_vs_bands.png\">\n",
    "\n",
    "* 1-й--5-й и 8-й каналы ведут себя примерно одинаково: яркости пикслеей, соотвествующие снегу, выше, чем яркости облачных пикселей. А яркость пикселей облаков и снега обычно выше, чем пикселей других объектов. Однако, нельзя провести четкой границы -- области яркостей пикселей различных объектов довольно сильно пересекаются. Видно, что в этих каналах распределение имеет длинный правый хвост: на графиках видны выбросы в верхней части ящиков. Возможно, что стоит преобразовать каналы, чтобы получить более симметричное распределение. Поскольку восьмой канал - панхроматический, то он несет в основном пространственную информацию, а ничего нового с точки зрения спектральной информации не привносит. Поэтому в дальнейшем он буде опущен при анализе.\n",
    "* 6-й--7-й каналы: высокое отражение в облачных областях, чуть меньшее в заснеженных и еще меньше для остальных объектов. Точно также данные показывают длинный правый хвост в распределении.\n",
    "* 9-й канал: очень длинный правый хвост в облачных пикселях. Значения облачных пикселей в целом значительно выше, чем у остальных. Поскольку этот канал был разработан для исследования атмосферных эффектов, то, возможно, этот канал будет одним из основных маркеров облако/не облако.\n",
    "* 10-й и 11-й каналы (температура) cхожи между собой: на них заметно, что температура облаков обычно выше, чем остальных объектов (зима?), хотя у облаков бросается в глаза очень длинный левый хвост распределения."
   ]
  },
  {
   "cell_type": "markdown",
   "metadata": {},
   "source": [
    "Преобразуем данные, чтобы получить более равномерные распределения. При этом выкинем из анализа 8-й канал, основную часть каналов прологарифмируем для избавления от длинных хвостов, 9-й канал возведем в степень, а 10-й и 11-й каналы оставим без изменений (длинный хвост только у облаков, а не у всего канала):"
   ]
  },
  {
   "cell_type": "code",
   "execution_count": 6,
   "metadata": {
    "collapsed": false
   },
   "outputs": [
    {
     "data": {
      "text/html": [
       "<strong>png:</strong> 2"
      ],
      "text/latex": [
       "\\textbf{png:} 2"
      ],
      "text/markdown": [
       "**png:** 2"
      ],
      "text/plain": [
       "png \n",
       "  2 "
      ]
     },
     "metadata": {},
     "output_type": "display_data"
    }
   ],
   "source": [
    "png(\"Img/CMASK/type_vs_logbands.png\", width=728, height=728, units=\"px\")\n",
    "    par(mfrow = c(2, 4))\n",
    "    boxplot(log(b1) ~ t, data=points, ylab='log(b1')\n",
    "    boxplot(log(b2) ~ t, data=points, ylab='log(b2')\n",
    "    boxplot(log(b3) ~ t, data=points, ylab='log(b3')\n",
    "    boxplot(log(b4) ~ t, data=points, ylab='log(b4')\n",
    "\n",
    "    boxplot(log(b5) ~ t, data=points, ylab='log(b5)')\n",
    "    boxplot(log(b6) ~ t, data=points, ylab='log(b6)')\n",
    "    boxplot(log(b7) ~ t, data=points, ylab='log(b7)')\n",
    "\n",
    "    boxplot(I(b9^0.5) ~ t, data=points, ylab='sqrt(b9)')\n",
    "    par(opar)\n",
    "dev.off()"
   ]
  },
  {
   "cell_type": "markdown",
   "metadata": {},
   "source": [
    "<img src=\"https://176.9.38.120/cruncher/files/deforestation/Img/CMASK/type_vs_logbands.png\">\n",
    "\n",
    "Видно, что распределения частично выровнялись, хотя местами по-прежнему остались длинные хвосты."
   ]
  },
  {
   "cell_type": "markdown",
   "metadata": {},
   "source": [
    "### Зависимость от сцены"
   ]
  },
  {
   "cell_type": "markdown",
   "metadata": {},
   "source": [
    "Построим те же самые ящики с усами, но попробуем понять, насколько отличаются данные не только из-за объектов, но и из-за того, что они представлены в разных сценах."
   ]
  },
  {
   "cell_type": "code",
   "execution_count": 7,
   "metadata": {
    "collapsed": false
   },
   "outputs": [
    {
     "data": {
      "text/html": [
       "<strong>png:</strong> 2"
      ],
      "text/latex": [
       "\\textbf{png:} 2"
      ],
      "text/markdown": [
       "**png:** 2"
      ],
      "text/plain": [
       "png \n",
       "  2 "
      ]
     },
     "metadata": {},
     "output_type": "display_data"
    }
   ],
   "source": [
    "png(\"Img/CMASK/scene_vs_logbands.png\", width=728, height=728, units=\"px\")\n",
    "    par(mfrow = c(3, 4))\n",
    "    boxplot(log(b1) ~ scene, data=points, ylab='log(b1)')\n",
    "    boxplot(log(b2) ~ scene, data=points, ylab='log(b2)')\n",
    "    boxplot(log(b3) ~ scene, data=points, ylab='log(b3)')\n",
    "    boxplot(log(b4) ~ scene, data=points, ylab='log(b4)')\n",
    "\n",
    "    boxplot(log(b5) ~ scene, data=points, ylab='log(b5)')\n",
    "    boxplot(log(b6) ~ scene, data=points, ylab='log(b6)')\n",
    "    boxplot(log(b7) ~ scene, data=points, ylab='log(b7)')\n",
    "\n",
    "    boxplot(I(b9^0.5) ~ scene, data=points, ylab='sqrt(b9)')\n",
    "\n",
    "    boxplot(b10 ~ scene, data=points, ylab='b10')\n",
    "    boxplot(b11 ~ scene, data=points, ylab='b11')\n",
    "\n",
    "    par(opar)\n",
    "dev.off()"
   ]
  },
  {
   "cell_type": "markdown",
   "metadata": {},
   "source": [
    "<img src=\"https://176.9.38.120/cruncher/files/deforestation/Img/CMASK/scene_vs_logbands.png\">\n",
    "\n",
    "Итак, мы видим, что сцена 2 (LC81130272015356LGN00) более яркая, чем сцена 1 (LC81120282015365LGN00) во всех каналах. Вопрос в том, насколько велика эта вариативность данных, которая вносится разными условиями съемки, и не может ли оказаться так, что условия съемки влияют на яркость пикселей гораздо больше, чем тип обеъкта (см., например, различия якркостей в 10-м и 11-м каналах).\n",
    "\n",
    "Для того, чтобы ответить на этот вопрос построим ящики для отдельных каналов."
   ]
  },
  {
   "cell_type": "markdown",
   "metadata": {},
   "source": [
    "#### Канал B1\n",
    "\n",
    "В первом канале видно, что яркость снега может меняться в достаточно широких пределах в зависимости от сцены, настолько, что она яркости облаков и снежных участков могут пересекаться в большой степени."
   ]
  },
  {
   "cell_type": "code",
   "execution_count": 8,
   "metadata": {
    "collapsed": false
   },
   "outputs": [
    {
     "data": {
      "text/html": [
       "<strong>png:</strong> 2"
      ],
      "text/latex": [
       "\\textbf{png:} 2"
      ],
      "text/markdown": [
       "**png:** 2"
      ],
      "text/plain": [
       "png \n",
       "  2 "
      ]
     },
     "metadata": {},
     "output_type": "display_data"
    }
   ],
   "source": [
    "png(\"Img/CMASK/scene_type_vs_b1.png\", width=728, height=728, units=\"px\")\n",
    "    boxplot(log(b1) ~ scene+t, data=points, ylab='log(b1)')\n",
    "dev.off()"
   ]
  },
  {
   "cell_type": "markdown",
   "metadata": {},
   "source": [
    "<img src=\"https://176.9.38.120/cruncher/files/deforestation/Img/CMASK/scene_type_vs_b1.png\">"
   ]
  },
  {
   "cell_type": "markdown",
   "metadata": {},
   "source": [
    "#### Канал B2\n",
    "\n",
    "Аналогичная картина и во втором канале."
   ]
  },
  {
   "cell_type": "code",
   "execution_count": 9,
   "metadata": {
    "collapsed": false
   },
   "outputs": [
    {
     "data": {
      "text/html": [
       "<strong>png:</strong> 2"
      ],
      "text/latex": [
       "\\textbf{png:} 2"
      ],
      "text/markdown": [
       "**png:** 2"
      ],
      "text/plain": [
       "png \n",
       "  2 "
      ]
     },
     "metadata": {},
     "output_type": "display_data"
    }
   ],
   "source": [
    "png(\"Img/CMASK/scene_type_vs_b2.png\", width=728, height=728, units=\"px\")\n",
    "    boxplot(log(b2) ~ scene+t, data=points, ylab='log(b2)')\n",
    "dev.off()"
   ]
  },
  {
   "cell_type": "markdown",
   "metadata": {},
   "source": [
    "<img src=\"https://176.9.38.120/cruncher/files/deforestation/Img/CMASK/scene_type_vs_b2.png\">"
   ]
  },
  {
   "cell_type": "markdown",
   "metadata": {},
   "source": [
    "#### Канал B3\n",
    "\n",
    "Аналогично и в третьем:"
   ]
  },
  {
   "cell_type": "code",
   "execution_count": 10,
   "metadata": {
    "collapsed": false
   },
   "outputs": [
    {
     "data": {
      "text/html": [
       "<strong>png:</strong> 2"
      ],
      "text/latex": [
       "\\textbf{png:} 2"
      ],
      "text/markdown": [
       "**png:** 2"
      ],
      "text/plain": [
       "png \n",
       "  2 "
      ]
     },
     "metadata": {},
     "output_type": "display_data"
    }
   ],
   "source": [
    "png(\"Img/CMASK/scene_type_vs_b3.png\", width=728, height=728, units=\"px\")\n",
    "    boxplot(log(b3) ~ scene+t, data=points, ylab='log(b3)')\n",
    "dev.off()"
   ]
  },
  {
   "cell_type": "markdown",
   "metadata": {},
   "source": [
    "<img src=\"https://176.9.38.120/cruncher/files/deforestation/Img/CMASK/scene_type_vs_b3.png\">"
   ]
  },
  {
   "cell_type": "markdown",
   "metadata": {},
   "source": [
    "#### Канал B4"
   ]
  },
  {
   "cell_type": "code",
   "execution_count": 11,
   "metadata": {
    "collapsed": false
   },
   "outputs": [
    {
     "data": {
      "text/html": [
       "<strong>png:</strong> 2"
      ],
      "text/latex": [
       "\\textbf{png:} 2"
      ],
      "text/markdown": [
       "**png:** 2"
      ],
      "text/plain": [
       "png \n",
       "  2 "
      ]
     },
     "metadata": {},
     "output_type": "display_data"
    }
   ],
   "source": [
    "png(\"Img/CMASK/scene_type_vs_b4.png\", width=728, height=728, units=\"px\")\n",
    "    boxplot(log(b4) ~ scene+t, data=points, ylab='log(b4)')\n",
    "dev.off()"
   ]
  },
  {
   "cell_type": "markdown",
   "metadata": {},
   "source": [
    "<img src=\"https://176.9.38.120/cruncher/files/deforestation/Img/CMASK/scene_type_vs_b4.png\">"
   ]
  },
  {
   "cell_type": "markdown",
   "metadata": {},
   "source": [
    "#### Канал B5"
   ]
  },
  {
   "cell_type": "code",
   "execution_count": 12,
   "metadata": {
    "collapsed": false
   },
   "outputs": [
    {
     "data": {
      "text/html": [
       "<strong>png:</strong> 2"
      ],
      "text/latex": [
       "\\textbf{png:} 2"
      ],
      "text/markdown": [
       "**png:** 2"
      ],
      "text/plain": [
       "png \n",
       "  2 "
      ]
     },
     "metadata": {},
     "output_type": "display_data"
    }
   ],
   "source": [
    "png(\"Img/CMASK/scene_type_vs_b5.png\", width=728, height=728, units=\"px\")\n",
    "    boxplot(log(b5) ~ scene+t, data=points, ylab='log(b5)')\n",
    "dev.off()"
   ]
  },
  {
   "cell_type": "markdown",
   "metadata": {},
   "source": [
    "<img src=\"https://176.9.38.120/cruncher/files/deforestation/Img/CMASK/scene_type_vs_b5.png\">"
   ]
  },
  {
   "cell_type": "markdown",
   "metadata": {},
   "source": [
    "#### Канал B6\n",
    "\n",
    "Зато 6-й канал, похоже, меньше зависит от сцены, чем предыдущие:"
   ]
  },
  {
   "cell_type": "code",
   "execution_count": 13,
   "metadata": {
    "collapsed": false
   },
   "outputs": [
    {
     "data": {
      "text/html": [
       "<strong>png:</strong> 2"
      ],
      "text/latex": [
       "\\textbf{png:} 2"
      ],
      "text/markdown": [
       "**png:** 2"
      ],
      "text/plain": [
       "png \n",
       "  2 "
      ]
     },
     "metadata": {},
     "output_type": "display_data"
    }
   ],
   "source": [
    "png(\"Img/CMASK/scene_type_vs_b6.png\", width=728, height=728, units=\"px\")\n",
    "    boxplot(log(b6) ~ scene+t, data=points, ylab='log(b6)')\n",
    "dev.off()"
   ]
  },
  {
   "cell_type": "markdown",
   "metadata": {},
   "source": [
    "<img src=\"https://176.9.38.120/cruncher/files/deforestation/Img/CMASK/scene_type_vs_b6.png\">"
   ]
  },
  {
   "cell_type": "markdown",
   "metadata": {},
   "source": [
    "#### Канал B7\n",
    "\n",
    "Очень похож на 6-й канал, но вариативность данных внутри классов в нем чуть меньше."
   ]
  },
  {
   "cell_type": "code",
   "execution_count": 14,
   "metadata": {
    "collapsed": false
   },
   "outputs": [
    {
     "data": {
      "text/html": [
       "<strong>png:</strong> 2"
      ],
      "text/latex": [
       "\\textbf{png:} 2"
      ],
      "text/markdown": [
       "**png:** 2"
      ],
      "text/plain": [
       "png \n",
       "  2 "
      ]
     },
     "metadata": {},
     "output_type": "display_data"
    }
   ],
   "source": [
    "png(\"Img/CMASK/scene_type_vs_b7.png\", width=728, height=728, units=\"px\")\n",
    "    boxplot(log(b7) ~ scene+t, data=points, ylab='log(b7)')\n",
    "dev.off()"
   ]
  },
  {
   "cell_type": "markdown",
   "metadata": {},
   "source": [
    "<img src=\"https://176.9.38.120/cruncher/files/deforestation/Img/CMASK/scene_type_vs_b7.png\">"
   ]
  },
  {
   "cell_type": "markdown",
   "metadata": {},
   "source": [
    "#### Канал B9\n",
    "\n",
    "В 9-м канале вариативность яркостей облачных пикселей между сценами очень велика. Похоже, что от сцены тут зависит больше, чем от типа объекта."
   ]
  },
  {
   "cell_type": "code",
   "execution_count": 15,
   "metadata": {
    "collapsed": false
   },
   "outputs": [
    {
     "data": {
      "text/html": [
       "<strong>png:</strong> 2"
      ],
      "text/latex": [
       "\\textbf{png:} 2"
      ],
      "text/markdown": [
       "**png:** 2"
      ],
      "text/plain": [
       "png \n",
       "  2 "
      ]
     },
     "metadata": {},
     "output_type": "display_data"
    }
   ],
   "source": [
    "png(\"Img/CMASK/scene_type_vs_b9.png\", width=728, height=728, units=\"px\")\n",
    "    boxplot(I(b9^0.5) ~ scene+t, data=points, ylab='sqrt(b9)')\n",
    "dev.off()"
   ]
  },
  {
   "cell_type": "markdown",
   "metadata": {},
   "source": [
    "<img src=\"https://176.9.38.120/cruncher/files/deforestation/Img/CMASK/scene_type_vs_b9.png\">"
   ]
  },
  {
   "cell_type": "markdown",
   "metadata": {},
   "source": [
    "#### Канал B10\n",
    "\n",
    "Аналогичная проблема облачных пикселей и в 10-м канале: от сцены зависит больше, чем от типа объекта, особенно ярко это проявляется для облаков."
   ]
  },
  {
   "cell_type": "code",
   "execution_count": 16,
   "metadata": {
    "collapsed": false
   },
   "outputs": [
    {
     "data": {
      "text/html": [
       "<strong>png:</strong> 2"
      ],
      "text/latex": [
       "\\textbf{png:} 2"
      ],
      "text/markdown": [
       "**png:** 2"
      ],
      "text/plain": [
       "png \n",
       "  2 "
      ]
     },
     "metadata": {},
     "output_type": "display_data"
    }
   ],
   "source": [
    "png(\"Img/CMASK/scene_type_vs_b10.png\", width=728, height=728, units=\"px\")\n",
    "    boxplot(b10 ~ scene+t, data=points, ylab='b10')\n",
    "dev.off()"
   ]
  },
  {
   "cell_type": "markdown",
   "metadata": {},
   "source": [
    "<img src=\"https://176.9.38.120/cruncher/files/deforestation/Img/CMASK/scene_type_vs_b10.png\">"
   ]
  },
  {
   "cell_type": "markdown",
   "metadata": {},
   "source": [
    "#### Канал B11\n",
    "\n",
    "Та же самая проблема: от сцены зависит больше, чем от типа объекта."
   ]
  },
  {
   "cell_type": "code",
   "execution_count": 17,
   "metadata": {
    "collapsed": false
   },
   "outputs": [
    {
     "data": {
      "text/html": [
       "<strong>png:</strong> 2"
      ],
      "text/latex": [
       "\\textbf{png:} 2"
      ],
      "text/markdown": [
       "**png:** 2"
      ],
      "text/plain": [
       "png \n",
       "  2 "
      ]
     },
     "metadata": {},
     "output_type": "display_data"
    }
   ],
   "source": [
    "png(\"Img/CMASK/scene_type_vs_b11.png\", width=728, height=728, units=\"px\")\n",
    "    boxplot(b11 ~ scene+t, data=points, ylab='b11')\n",
    "dev.off()"
   ]
  },
  {
   "cell_type": "markdown",
   "metadata": {},
   "source": [
    "<img src=\"https://176.9.38.120/cruncher/files/deforestation/Img/CMASK/scene_type_vs_b11.png\">"
   ]
  },
  {
   "cell_type": "markdown",
   "metadata": {},
   "source": [
    "### Вывод\n",
    "\n",
    " * Для различения облаков и снега, видимо, необходимо использовать каналы 1--7. В каналах 9--11 также содержится полезная информация, но воспользоваться ей будет сложнее из-за большей вариативности из-за условий съемки.\n",
    " * Каналы 1--5 и каналы 6--7 образуют две группы переменных. Переменные в каждой группе ведут себя схожим образом (поведение каналов 1--5 очень похоже между собой для выбранных классов; аналогично с каналами 6 и 7). Поскольку многие методы очень чувствительны к корреляции объясняющих переменных, то есть смысл подумать о том, чтобы выбрать по одному каналу из каждой группы. Возможно такое уменьшение числа переменных (но и корреляции между ними) даст положительный эффект на точность распознавания."
   ]
  },
  {
   "cell_type": "markdown",
   "metadata": {},
   "source": [
    "## Простая модель"
   ]
  },
  {
   "cell_type": "markdown",
   "metadata": {},
   "source": [
    "В этом разделе построим простейшую модель на основе логистической регрессии и посмотрим, насколько она решает задачу разделения интересующих нас объектов. Пойдем по следующей схеме работы:\n",
    "\n",
    "1. Предварительный выбор объясняющих переменных. Объясняющих переменных (каналов, в нашем случае) много, но они сильно коррелируют между собой. Для большей устойчивости решения выберем несколько переменных, остальные пока проигнорируем (на следующем этапе оценим правильность выбора переменных).\n",
    "2. Создание фиктивных переменных. Поскольку у нас выделено три объекта (класс \"все остальное\" назовем условно одним объектом), и они не упорядочены, то нам понадобится создать фиктивные переменные, которые мы будем использовать.\n",
    "3. Построение моделей, отражающих связь между объясняющими переменными и зависимыми.\n",
    "4. Исследуем модели, проверив, выполняются ли условия, на которые опирается процедура построения логистической регрессии.\n",
    "5. Посмотрим, насколько изменится качество модели, если выбрать другой набор объясняющих переменных."
   ]
  },
  {
   "cell_type": "markdown",
   "metadata": {},
   "source": [
    "### Предварительный выбор объясняющих переменных"
   ]
  },
  {
   "cell_type": "markdown",
   "metadata": {},
   "source": [
    "Посмотрим еще раз на взаимную корреляциию объясняющих переменных (для ускорения отрисовки сделаем небольшую подвыборку данных). "
   ]
  },
  {
   "cell_type": "code",
   "execution_count": 18,
   "metadata": {
    "collapsed": false
   },
   "outputs": [
    {
     "data": {
      "text/html": [
       "<strong>png:</strong> 2"
      ],
      "text/latex": [
       "\\textbf{png:} 2"
      ],
      "text/markdown": [
       "**png:** 2"
      ],
      "text/plain": [
       "png \n",
       "  2 "
      ]
     },
     "metadata": {},
     "output_type": "display_data"
    }
   ],
   "source": [
    "psample_ind = sample(1:length(points[, 1]), size=500)\n",
    "psample = points[psample_ind, ]\n",
    "\n",
    "png(\"Img/CMASK/all_bands.png\", width=728, height=728, units=\"px\")\n",
    "  pairs(~log(b1)+log(b2)+log(b3)+log(b4)+log(b5)+log(b6)+log(b7)+sqrt(b9)+b10+b11, data=psample, pch=19, cex=0.1) \n",
    "dev.off()"
   ]
  },
  {
   "cell_type": "markdown",
   "metadata": {},
   "source": [
    "<img src=\"https://176.9.38.120/cruncher/files/deforestation/Img/CMASK/all_bands.png\">\n",
    "\n",
    "Итак, мы видим, что очень сильна корреляция между 6-м и 7-м каналами, затем между 10-м и 11-м каналами, а также между 1-м, 2-м, 3-м и 4-м каналами, на эти 4 канала довольно похож 5-й, но все-таки, видимо, его следует выделить в отдельную группу. Ту же самую картину мы увидим, если расчитаем коэффициент корреляции между этими переменными:"
   ]
  },
  {
   "cell_type": "code",
   "execution_count": 19,
   "metadata": {
    "collapsed": false
   },
   "outputs": [
    {
     "data": {
      "text/html": [
       "<table>\n",
       "<thead><tr><th></th><th scope=col>log.points.b1.</th><th scope=col>log.points.b2.</th><th scope=col>log.points.b3.</th><th scope=col>log.points.b4.</th><th scope=col>log.points.b5.</th><th scope=col>log.points.b6.</th><th scope=col>log.points.b7.</th><th scope=col>sqrt.points.b9...0.001.</th><th scope=col>points.b10</th><th scope=col>points.b11</th></tr></thead>\n",
       "<tbody>\n",
       "\t<tr><th scope=row>log.points.b1.</th><td>1.00000000</td><td>0.99643580</td><td>0.97639013</td><td>0.95335102</td><td>0.77517809</td><td>0.56200970</td><td>0.62302423</td><td>0.29965771</td><td>0.01198254</td><td>0.02497259</td></tr>\n",
       "\t<tr><th scope=row>log.points.b2.</th><td>0.99643580</td><td>1.00000000</td><td>0.99003616</td><td>0.97372490</td><td>0.81425120</td><td>0.60139706</td><td>0.66104285</td><td>0.30740816</td><td>0.01601809</td><td>0.02772027</td></tr>\n",
       "\t<tr><th scope=row>log.points.b3.</th><td>0.97639013</td><td>0.99003616</td><td>1.00000000</td><td>0.99513008</td><td>0.87490047</td><td>0.66889060</td><td>0.72503729</td><td>0.32957731</td><td>0.03250238</td><td>0.03846062</td></tr>\n",
       "\t<tr><th scope=row>log.points.b4.</th><td>0.95335102</td><td>0.97372490</td><td>0.99513008</td><td>1.00000000</td><td>0.90503815</td><td>0.71378830</td><td>0.76718334</td><td>0.32889596</td><td>0.04236531</td><td>0.04731348</td></tr>\n",
       "\t<tr><th scope=row>log.points.b5.</th><td>0.7751781</td><td>0.8142512</td><td>0.8749005</td><td>0.9050381</td><td>1.0000000</td><td>0.8445939</td><td>0.8719638</td><td>0.3426454</td><td>0.1084817</td><td>0.1027279</td></tr>\n",
       "\t<tr><th scope=row>log.points.b6.</th><td>0.56200970</td><td>0.60139706</td><td>0.66889060</td><td>0.71378830</td><td>0.84459391</td><td>1.00000000</td><td>0.99188780</td><td>0.44287939</td><td>0.08266380</td><td>0.06304586</td></tr>\n",
       "\t<tr><th scope=row>log.points.b7.</th><td>0.62302423</td><td>0.66104285</td><td>0.72503729</td><td>0.76718334</td><td>0.87196375</td><td>0.99188780</td><td>1.00000000</td><td>0.44975283</td><td>0.05640044</td><td>0.03886842</td></tr>\n",
       "\t<tr><th scope=row>sqrt.points.b9...0.001.</th><td> 0.2996577</td><td> 0.3074082</td><td> 0.3295773</td><td> 0.3288960</td><td> 0.3426454</td><td> 0.4428794</td><td> 0.4497528</td><td> 1.0000000</td><td>-0.3242166</td><td>-0.4123782</td></tr>\n",
       "\t<tr><th scope=row>points.b10</th><td> 0.01198254</td><td> 0.01601809</td><td> 0.03250238</td><td> 0.04236531</td><td> 0.10848175</td><td> 0.08266380</td><td> 0.05640044</td><td>-0.32421662</td><td> 1.00000000</td><td> 0.98045369</td></tr>\n",
       "\t<tr><th scope=row>points.b11</th><td> 0.02497259</td><td> 0.02772027</td><td> 0.03846062</td><td> 0.04731348</td><td> 0.10272787</td><td> 0.06304586</td><td> 0.03886842</td><td>-0.41237817</td><td> 0.98045369</td><td> 1.00000000</td></tr>\n",
       "</tbody>\n",
       "</table>\n"
      ],
      "text/latex": [
       "\\begin{tabular}{r|llllllllll}\n",
       "  & log.points.b1. & log.points.b2. & log.points.b3. & log.points.b4. & log.points.b5. & log.points.b6. & log.points.b7. & sqrt.points.b9...0.001. & points.b10 & points.b11\\\\\n",
       "\\hline\n",
       "\tlog.points.b1. & 1.00000000 & 0.99643580 & 0.97639013 & 0.95335102 & 0.77517809 & 0.56200970 & 0.62302423 & 0.29965771 & 0.01198254 & 0.02497259\\\\\n",
       "\tlog.points.b2. & 0.99643580 & 1.00000000 & 0.99003616 & 0.97372490 & 0.81425120 & 0.60139706 & 0.66104285 & 0.30740816 & 0.01601809 & 0.02772027\\\\\n",
       "\tlog.points.b3. & 0.97639013 & 0.99003616 & 1.00000000 & 0.99513008 & 0.87490047 & 0.66889060 & 0.72503729 & 0.32957731 & 0.03250238 & 0.03846062\\\\\n",
       "\tlog.points.b4. & 0.95335102 & 0.97372490 & 0.99513008 & 1.00000000 & 0.90503815 & 0.71378830 & 0.76718334 & 0.32889596 & 0.04236531 & 0.04731348\\\\\n",
       "\tlog.points.b5. & 0.7751781 & 0.8142512 & 0.8749005 & 0.9050381 & 1.0000000 & 0.8445939 & 0.8719638 & 0.3426454 & 0.1084817 & 0.1027279\\\\\n",
       "\tlog.points.b6. & 0.56200970 & 0.60139706 & 0.66889060 & 0.71378830 & 0.84459391 & 1.00000000 & 0.99188780 & 0.44287939 & 0.08266380 & 0.06304586\\\\\n",
       "\tlog.points.b7. & 0.62302423 & 0.66104285 & 0.72503729 & 0.76718334 & 0.87196375 & 0.99188780 & 1.00000000 & 0.44975283 & 0.05640044 & 0.03886842\\\\\n",
       "\tsqrt.points.b9...0.001. &  0.2996577 &  0.3074082 &  0.3295773 &  0.3288960 &  0.3426454 &  0.4428794 &  0.4497528 &  1.0000000 & -0.3242166 & -0.4123782\\\\\n",
       "\tpoints.b10 &  0.01198254 &  0.01601809 &  0.03250238 &  0.04236531 &  0.10848175 &  0.08266380 &  0.05640044 & -0.32421662 &  1.00000000 &  0.98045369\\\\\n",
       "\tpoints.b11 &  0.02497259 &  0.02772027 &  0.03846062 &  0.04731348 &  0.10272787 &  0.06304586 &  0.03886842 & -0.41237817 &  0.98045369 &  1.00000000\\\\\n",
       "\\end{tabular}\n"
      ],
      "text/markdown": [
       "1. 1\n",
       "2. 0.996435796889246\n",
       "3. 0.9763901319868\n",
       "4. 0.953351023484513\n",
       "5. 0.775178088109431\n",
       "6. 0.562009697179605\n",
       "7. 0.623024234480269\n",
       "8. 0.299657709859052\n",
       "9. 0.0119825356248786\n",
       "10. 0.024972586289897\n",
       "11. 0.996435796889246\n",
       "12. 1\n",
       "13. 0.990036159584728\n",
       "14. 0.973724897010808\n",
       "15. 0.814251197688858\n",
       "16. 0.60139706422661\n",
       "17. 0.661042853893137\n",
       "18. 0.307408159137716\n",
       "19. 0.0160180938753695\n",
       "20. 0.0277202747715705\n",
       "21. 0.9763901319868\n",
       "22. 0.990036159584728\n",
       "23. 1\n",
       "24. 0.995130084766264\n",
       "25. 0.874900467417883\n",
       "26. 0.668890599599743\n",
       "27. 0.725037286044434\n",
       "28. 0.329577307600681\n",
       "29. 0.0325023788273763\n",
       "30. 0.0384606215913988\n",
       "31. 0.953351023484513\n",
       "32. 0.973724897010808\n",
       "33. 0.995130084766264\n",
       "34. 1\n",
       "35. 0.905038147543162\n",
       "36. 0.713788295943907\n",
       "37. 0.767183342051756\n",
       "38. 0.32889595974889\n",
       "39. 0.0423653136674107\n",
       "40. 0.0473134753984493\n",
       "41. 0.775178088109431\n",
       "42. 0.814251197688858\n",
       "43. 0.874900467417883\n",
       "44. 0.905038147543162\n",
       "45. 1\n",
       "46. 0.844593909732359\n",
       "47. 0.87196375168203\n",
       "48. 0.342645431975565\n",
       "49. 0.108481749418647\n",
       "50. 0.102727873230643\n",
       "51. 0.562009697179605\n",
       "52. 0.60139706422661\n",
       "53. 0.668890599599743\n",
       "54. 0.713788295943907\n",
       "55. 0.844593909732359\n",
       "56. 1\n",
       "57. 0.991887803004992\n",
       "58. 0.442879385641016\n",
       "59. 0.0826637982205459\n",
       "60. 0.0630458561570635\n",
       "61. 0.623024234480269\n",
       "62. 0.661042853893137\n",
       "63. 0.725037286044434\n",
       "64. 0.767183342051756\n",
       "65. 0.87196375168203\n",
       "66. 0.991887803004992\n",
       "67. 1\n",
       "68. 0.44975282696785\n",
       "69. 0.056400437610034\n",
       "70. 0.0388684218449842\n",
       "71. 0.299657709859052\n",
       "72. 0.307408159137716\n",
       "73. 0.329577307600681\n",
       "74. 0.32889595974889\n",
       "75. 0.342645431975565\n",
       "76. 0.442879385641016\n",
       "77. 0.44975282696785\n",
       "78. 1\n",
       "79. -0.324216618410855\n",
       "80. -0.412378170169657\n",
       "81. 0.0119825356248786\n",
       "82. 0.0160180938753695\n",
       "83. 0.0325023788273763\n",
       "84. 0.0423653136674107\n",
       "85. 0.108481749418647\n",
       "86. 0.0826637982205459\n",
       "87. 0.056400437610034\n",
       "88. -0.324216618410855\n",
       "89. 1\n",
       "90. 0.980453688977778\n",
       "91. 0.024972586289897\n",
       "92. 0.0277202747715705\n",
       "93. 0.0384606215913988\n",
       "94. 0.0473134753984493\n",
       "95. 0.102727873230643\n",
       "96. 0.0630458561570635\n",
       "97. 0.0388684218449842\n",
       "98. -0.412378170169657\n",
       "99. 0.980453688977778\n",
       "100. 1\n",
       "\n",
       "\n"
      ],
      "text/plain": [
       "                        log.points.b1. log.points.b2. log.points.b3.\n",
       "log.points.b1.              1.00000000     0.99643580     0.97639013\n",
       "log.points.b2.              0.99643580     1.00000000     0.99003616\n",
       "log.points.b3.              0.97639013     0.99003616     1.00000000\n",
       "log.points.b4.              0.95335102     0.97372490     0.99513008\n",
       "log.points.b5.              0.77517809     0.81425120     0.87490047\n",
       "log.points.b6.              0.56200970     0.60139706     0.66889060\n",
       "log.points.b7.              0.62302423     0.66104285     0.72503729\n",
       "sqrt.points.b9...0.001.     0.29965771     0.30740816     0.32957731\n",
       "points.b10                  0.01198254     0.01601809     0.03250238\n",
       "points.b11                  0.02497259     0.02772027     0.03846062\n",
       "                        log.points.b4. log.points.b5. log.points.b6.\n",
       "log.points.b1.              0.95335102      0.7751781     0.56200970\n",
       "log.points.b2.              0.97372490      0.8142512     0.60139706\n",
       "log.points.b3.              0.99513008      0.8749005     0.66889060\n",
       "log.points.b4.              1.00000000      0.9050381     0.71378830\n",
       "log.points.b5.              0.90503815      1.0000000     0.84459391\n",
       "log.points.b6.              0.71378830      0.8445939     1.00000000\n",
       "log.points.b7.              0.76718334      0.8719638     0.99188780\n",
       "sqrt.points.b9...0.001.     0.32889596      0.3426454     0.44287939\n",
       "points.b10                  0.04236531      0.1084817     0.08266380\n",
       "points.b11                  0.04731348      0.1027279     0.06304586\n",
       "                        log.points.b7. sqrt.points.b9...0.001.  points.b10\n",
       "log.points.b1.              0.62302423               0.2996577  0.01198254\n",
       "log.points.b2.              0.66104285               0.3074082  0.01601809\n",
       "log.points.b3.              0.72503729               0.3295773  0.03250238\n",
       "log.points.b4.              0.76718334               0.3288960  0.04236531\n",
       "log.points.b5.              0.87196375               0.3426454  0.10848175\n",
       "log.points.b6.              0.99188780               0.4428794  0.08266380\n",
       "log.points.b7.              1.00000000               0.4497528  0.05640044\n",
       "sqrt.points.b9...0.001.     0.44975283               1.0000000 -0.32421662\n",
       "points.b10                  0.05640044              -0.3242166  1.00000000\n",
       "points.b11                  0.03886842              -0.4123782  0.98045369\n",
       "                         points.b11\n",
       "log.points.b1.           0.02497259\n",
       "log.points.b2.           0.02772027\n",
       "log.points.b3.           0.03846062\n",
       "log.points.b4.           0.04731348\n",
       "log.points.b5.           0.10272787\n",
       "log.points.b6.           0.06304586\n",
       "log.points.b7.           0.03886842\n",
       "sqrt.points.b9...0.001. -0.41237817\n",
       "points.b10               0.98045369\n",
       "points.b11               1.00000000"
      ]
     },
     "metadata": {},
     "output_type": "display_data"
    }
   ],
   "source": [
    "cor(data.frame(log(points$b1), log(points$b2), log(points$b3), log(points$b4), log(points$b5),\n",
    "    log(points$b6), log(points$b7), sqrt(points$b9+0.001), points$b10, points$b11))"
   ]
  },
  {
   "cell_type": "markdown",
   "metadata": {},
   "source": [
    "### Фиктивные переменные"
   ]
  },
  {
   "cell_type": "markdown",
   "metadata": {},
   "source": [
    "Возможно, есть хороший способ создания фиктивных переменных вместо одной зависимой переменной, но я всю процедуру сделаю руками: введу три новых переменных answ1, answ2, answ3 которые будут кодировать тот факт, что пиксель принадлежит облачному, снежному или иному участку снимка соответственно. Для этого создам новый набор данных, в котором будут содержаться только интересующие нас переменные."
   ]
  },
  {
   "cell_type": "code",
   "execution_count": 20,
   "metadata": {
    "collapsed": true
   },
   "outputs": [],
   "source": [
    "pdata = data.frame(answ1=(points$t=='Cloud'), answ2=(points$t=='Snow'), answ3=(points$t=='Other'), \n",
    "                   b1=points$b1, b2=points$b2, b3=points$b3, b4=points$b4, b5=points$b5, b6=points$b6, \n",
    "                   b7=points$b7, b9=points$b9, b10=points$b10, b11=points$b11, scene=points$scene\n",
    "                  )"
   ]
  },
  {
   "cell_type": "markdown",
   "metadata": {},
   "source": [
    "### Построение моделей"
   ]
  },
  {
   "cell_type": "markdown",
   "metadata": {},
   "source": [
    "Построим три модели (по числу фиктивных переменных) на базе логистической регрессии. Также не будем использовать преобразование переменных на этом этапе построения моделей. Начанем с определения того, что пиксель является облаком."
   ]
  },
  {
   "cell_type": "markdown",
   "metadata": {},
   "source": [
    "#### Облако-не-облако"
   ]
  },
  {
   "cell_type": "markdown",
   "metadata": {},
   "source": [
    "Построим модель определяющую, явлеяется ли данный пиксель облаком и найдем те каналы, которые дают наибольшее качество модели (как отмечалось выше, среди имеющихся объясняющих переменных очень высокая корреляция). Для начала построим модель со всеми имеющимися переменными, включая название сцены."
   ]
  },
  {
   "cell_type": "code",
   "execution_count": 21,
   "metadata": {
    "collapsed": false
   },
   "outputs": [
    {
     "name": "stderr",
     "output_type": "stream",
     "text": [
      "Warning message:\n",
      ": glm.fit: fitted probabilities numerically 0 or 1 occurred"
     ]
    },
    {
     "data": {
      "text/plain": [
       "\n",
       "Call:\n",
       "glm(formula = answ1 ~ b1 + b2 + b3 + b4 + b5 + b6 + b7 + b9 + \n",
       "    b10 + b11 + scene, family = binomial, data = pdata)\n",
       "\n",
       "Deviance Residuals: \n",
       "    Min       1Q   Median       3Q      Max  \n",
       "-4.3471  -0.0178  -0.0075  -0.0043   3.7550  \n",
       "\n",
       "Coefficients:\n",
       "            Estimate Std. Error z value Pr(>|z|)    \n",
       "(Intercept)  -9.2134    12.6052  -0.731  0.46483    \n",
       "b1            3.8466    36.9262   0.104  0.91703    \n",
       "b2           14.6088    37.8190   0.386  0.69929    \n",
       "b3          -99.3805    39.7492  -2.500  0.01241 *  \n",
       "b4           85.4198    27.3904   3.119  0.00182 ** \n",
       "b5          -37.1751     3.9036  -9.523  < 2e-16 ***\n",
       "b6          -10.9699    12.0687  -0.909  0.36337    \n",
       "b7          112.6315    14.7005   7.662 1.83e-14 ***\n",
       "b9           52.7175     8.2705   6.374 1.84e-10 ***\n",
       "b10          -0.1721     0.1278  -1.347  0.17794    \n",
       "b11           0.1736     0.1287   1.349  0.17749    \n",
       "sceneS2       4.5265     0.5016   9.023  < 2e-16 ***\n",
       "---\n",
       "Signif. codes:  0 ‘***’ 0.001 ‘**’ 0.01 ‘*’ 0.05 ‘.’ 0.1 ‘ ’ 1\n",
       "\n",
       "(Dispersion parameter for binomial family taken to be 1)\n",
       "\n",
       "    Null deviance: 14053.6  on 50538  degrees of freedom\n",
       "Residual deviance:  1289.2  on 50527  degrees of freedom\n",
       "AIC: 1313.2\n",
       "\n",
       "Number of Fisher Scoring iterations: 11\n"
      ]
     },
     "metadata": {},
     "output_type": "display_data"
    }
   ],
   "source": [
    "simple.glm1 = glm(answ1~b1 + b2 + b3 + b4 + b5 + b6 +b7 + b9 + b10 + b11 + scene, data=pdata, family=binomial)\n",
    "summary(simple.glm1)"
   ]
  },
  {
   "cell_type": "markdown",
   "metadata": {},
   "source": [
    "Оценкой качества модели может служить несколько параметров, например отклонения (остатки, Deviance) прогнозируемых величин от тех, что зафиксированы на самом деле, другая оценка качества - Akaike Information Criterion (AIC), в котором учитывается как качество подгонки модели, так и ее сложность.  Если оринтироваться на Akaike Information Criterion, то AIC коэффициент у simple.glm2 равен 1313.2 (чем меньше, тем лучше). Но мы видим, что часть коэффициентов регрессии статистически не значимы."
   ]
  },
  {
   "cell_type": "markdown",
   "metadata": {},
   "source": [
    "Последовательно будем избавляться от \"лишних\" коэффициентов регрессии. Для этого в цикле будем удалять по одному коэффициенту и оценивать, как изменился результат. Качество будем оценивать по отклонениям прогнозных значений от реальных. Однако, поскольку у полной модели больше коэффициентов в уравнении регрессии, то и отклонения полной модели будут меньше. Поэтому значимость определенного коэффициента, будем определять по следующей схеме: \n",
    " * выкинем одну переменную, например, b1;\n",
    " * очевидно, что в модели без этой переменной (т.е. с коэффициентом b1 == 0) отклонения должны быть больше, чем в модели с этим коэффициентом, поскольку в полной модели $p_2 = 11$ параметров, а в \"урезанной\" модели $p_1=10$ параметров;\n",
    " * соответственно мы можем выдвинуть гипотезу, что коэффициент перед b1 равен нулю и проверить ее, сравнив величины отклонений этих двух моделей: чем больше разность отклонений моделей, тем больше вероятность того, что коэффициент перед b1 ненулевой;\n",
    " * разность отклонений двух моделей ассимтотически распределена как Хи-квадрат с $p_2 - p_1 = 1$ степенями свободы: $D_1 - D_1 \\sim X^2_{p_2 - p_1}$\n",
    " * пробежавшись по всем переменным мы можем определить значимость каждой из них.\n",
    " \n",
    "Эту процедуру автоматизирует функция drop1. Воспользуемся ей:"
   ]
  },
  {
   "cell_type": "code",
   "execution_count": 22,
   "metadata": {
    "collapsed": false
   },
   "outputs": [
    {
     "name": "stderr",
     "output_type": "stream",
     "text": [
      "Warning message:\n",
      ": glm.fit: fitted probabilities numerically 0 or 1 occurredWarning message:\n",
      ": glm.fit: fitted probabilities numerically 0 or 1 occurredWarning message:\n",
      ": glm.fit: fitted probabilities numerically 0 or 1 occurredWarning message:\n",
      ": glm.fit: fitted probabilities numerically 0 or 1 occurredWarning message:\n",
      ": glm.fit: fitted probabilities numerically 0 or 1 occurredWarning message:\n",
      ": glm.fit: fitted probabilities numerically 0 or 1 occurredWarning message:\n",
      ": glm.fit: fitted probabilities numerically 0 or 1 occurredWarning message:\n",
      ": glm.fit: fitted probabilities numerically 0 or 1 occurredWarning message:\n",
      ": glm.fit: fitted probabilities numerically 0 or 1 occurredWarning message:\n",
      ": glm.fit: fitted probabilities numerically 0 or 1 occurredWarning message:\n",
      ": glm.fit: fitted probabilities numerically 0 or 1 occurred"
     ]
    },
    {
     "data": {
      "text/html": [
       "<table>\n",
       "<thead><tr><th></th><th scope=col>Df</th><th scope=col>Deviance</th><th scope=col>AIC</th><th scope=col>LRT</th><th scope=col>Pr(&gt;Chi)</th></tr></thead>\n",
       "<tbody>\n",
       "\t<tr><th scope=row>&lt;none&gt;</th><td>      NA</td><td>1289.236</td><td>1313.236</td><td>      NA</td><td>      NA</td></tr>\n",
       "\t<tr><th scope=row>b1</th><td>1.000000e+00</td><td>1.289247e+03</td><td>1.311247e+03</td><td>1.085342e-02</td><td>9.170267e-01</td></tr>\n",
       "\t<tr><th scope=row>b2</th><td>   1.0000000</td><td>1289.3857572</td><td>1311.3857572</td><td>   0.1494317</td><td>   0.6990790</td></tr>\n",
       "\t<tr><th scope=row>b3</th><td>1.000000e+00</td><td>1.295625e+03</td><td>1.317625e+03</td><td>6.388735e+00</td><td>1.148469e-02</td></tr>\n",
       "\t<tr><th scope=row>b4</th><td>1.000000e+00</td><td>1.299156e+03</td><td>1.321156e+03</td><td>9.919714e+00</td><td>1.635178e-03</td></tr>\n",
       "\t<tr><th scope=row>b5</th><td>1.000000e+00</td><td>1.394102e+03</td><td>1.416102e+03</td><td>1.048654e+02</td><td>1.307192e-24</td></tr>\n",
       "\t<tr><th scope=row>b6</th><td>   1.0000000</td><td>1290.0648232</td><td>1312.0648232</td><td>   0.8284977</td><td>   0.3627073</td></tr>\n",
       "\t<tr><th scope=row>b7</th><td>1.000000e+00</td><td>1.353729e+03</td><td>1.375729e+03</td><td>6.449295e+01</td><td>9.687858e-16</td></tr>\n",
       "\t<tr><th scope=row>b9</th><td>1.000000e+00</td><td>1.336635e+03</td><td>1.358635e+03</td><td>4.739900e+01</td><td>5.791226e-12</td></tr>\n",
       "\t<tr><th scope=row>b10</th><td>   1.0000000</td><td>1291.0570998</td><td>1313.0570998</td><td>   1.8207743</td><td>   0.1772211</td></tr>\n",
       "\t<tr><th scope=row>b11</th><td>   1.0000000</td><td>1291.0647014</td><td>1313.0647014</td><td>   1.8283759</td><td>   0.1763195</td></tr>\n",
       "\t<tr><th scope=row>scene</th><td>1.000000e+00</td><td>1.392564e+03</td><td>1.414564e+03</td><td>1.033274e+02</td><td>2.841017e-24</td></tr>\n",
       "</tbody>\n",
       "</table>\n"
      ],
      "text/latex": [
       "\\begin{tabular}{r|lllll}\n",
       "  & Df & Deviance & AIC & LRT & Pr(>Chi)\\\\\n",
       "\\hline\n",
       "\t<none> &       NA & 1289.236 & 1313.236 &       NA &       NA\\\\\n",
       "\tb1 & 1.000000e+00 & 1.289247e+03 & 1.311247e+03 & 1.085342e-02 & 9.170267e-01\\\\\n",
       "\tb2 &    1.0000000 & 1289.3857572 & 1311.3857572 &    0.1494317 &    0.6990790\\\\\n",
       "\tb3 & 1.000000e+00 & 1.295625e+03 & 1.317625e+03 & 6.388735e+00 & 1.148469e-02\\\\\n",
       "\tb4 & 1.000000e+00 & 1.299156e+03 & 1.321156e+03 & 9.919714e+00 & 1.635178e-03\\\\\n",
       "\tb5 & 1.000000e+00 & 1.394102e+03 & 1.416102e+03 & 1.048654e+02 & 1.307192e-24\\\\\n",
       "\tb6 &    1.0000000 & 1290.0648232 & 1312.0648232 &    0.8284977 &    0.3627073\\\\\n",
       "\tb7 & 1.000000e+00 & 1.353729e+03 & 1.375729e+03 & 6.449295e+01 & 9.687858e-16\\\\\n",
       "\tb9 & 1.000000e+00 & 1.336635e+03 & 1.358635e+03 & 4.739900e+01 & 5.791226e-12\\\\\n",
       "\tb10 &    1.0000000 & 1291.0570998 & 1313.0570998 &    1.8207743 &    0.1772211\\\\\n",
       "\tb11 &    1.0000000 & 1291.0647014 & 1313.0647014 &    1.8283759 &    0.1763195\\\\\n",
       "\tscene & 1.000000e+00 & 1.392564e+03 & 1.414564e+03 & 1.033274e+02 & 2.841017e-24\\\\\n",
       "\\end{tabular}\n"
      ],
      "text/plain": [
       "Single term deletions\n",
       "\n",
       "Model:\n",
       "answ1 ~ b1 + b2 + b3 + b4 + b5 + b6 + b7 + b9 + b10 + b11 + scene\n",
       "       Df Deviance    AIC     LRT  Pr(>Chi)    \n",
       "<none>      1289.2 1313.2                      \n",
       "b1      1   1289.2 1311.2   0.011  0.917027    \n",
       "b2      1   1289.4 1311.4   0.149  0.699079    \n",
       "b3      1   1295.6 1317.6   6.389  0.011485 *  \n",
       "b4      1   1299.2 1321.2   9.920  0.001635 ** \n",
       "b5      1   1394.1 1416.1 104.865 < 2.2e-16 ***\n",
       "b6      1   1290.1 1312.1   0.828  0.362707    \n",
       "b7      1   1353.7 1375.7  64.493 9.688e-16 ***\n",
       "b9      1   1336.6 1358.6  47.399 5.791e-12 ***\n",
       "b10     1   1291.1 1313.1   1.821  0.177221    \n",
       "b11     1   1291.1 1313.1   1.828  0.176320    \n",
       "scene   1   1392.6 1414.6 103.327 < 2.2e-16 ***\n",
       "---\n",
       "Signif. codes:  0 ‘***’ 0.001 ‘**’ 0.01 ‘*’ 0.05 ‘.’ 0.1 ‘ ’ 1"
      ]
     },
     "metadata": {},
     "output_type": "display_data"
    }
   ],
   "source": [
    "drop1(simple.glm1, test=\"Chi\")"
   ]
  },
  {
   "cell_type": "markdown",
   "metadata": {},
   "source": [
    "Итого, у модели, содержащей все переменные, остатки (Deviance) равняются 1289.236. Если мы викинем b1, то остатки будут равны 1.289247e+03(=1289.247), разность остатков составляет 1.085342e-02=0.01085, соотвественно p-значение распределения Хи-квадрат с одной степенью свободы равно 9.170267e-01, что явно очень много и мы можем выкинуть эту переменную безбоязненно."
   ]
  },
  {
   "cell_type": "markdown",
   "metadata": {},
   "source": [
    "Повторяем данную процедуру для нового набора переменных:"
   ]
  },
  {
   "cell_type": "code",
   "execution_count": 23,
   "metadata": {
    "collapsed": false
   },
   "outputs": [
    {
     "name": "stderr",
     "output_type": "stream",
     "text": [
      "Warning message:\n",
      ": glm.fit: fitted probabilities numerically 0 or 1 occurred"
     ]
    },
    {
     "data": {
      "text/plain": [
       "\n",
       "Call:\n",
       "glm(formula = answ1 ~ b2 + b3 + b4 + b5 + b6 + b7 + b9 + b10 + \n",
       "    b11 + scene, family = binomial, data = pdata)\n",
       "\n",
       "Deviance Residuals: \n",
       "    Min       1Q   Median       3Q      Max  \n",
       "-4.3477  -0.0178  -0.0075  -0.0043   3.7519  \n",
       "\n",
       "Coefficients:\n",
       "            Estimate Std. Error z value Pr(>|z|)    \n",
       "(Intercept)  -9.1119    12.5661  -0.725 0.468381    \n",
       "b2           18.2279    14.9870   1.216 0.223889    \n",
       "b3          -97.4374    35.1160  -2.775 0.005525 ** \n",
       "b4           83.7884    22.4958   3.725 0.000196 ***\n",
       "b5          -37.2842     3.7608  -9.914  < 2e-16 ***\n",
       "b6          -10.7796    11.9278  -0.904 0.366136    \n",
       "b7          112.3931    14.5178   7.742 9.81e-15 ***\n",
       "b9           52.7780     8.2485   6.399 1.57e-10 ***\n",
       "b10          -0.1730     0.1275  -1.357 0.174754    \n",
       "b11           0.1745     0.1284   1.360 0.173874    \n",
       "sceneS2       4.5337     0.4969   9.124  < 2e-16 ***\n",
       "---\n",
       "Signif. codes:  0 ‘***’ 0.001 ‘**’ 0.01 ‘*’ 0.05 ‘.’ 0.1 ‘ ’ 1\n",
       "\n",
       "(Dispersion parameter for binomial family taken to be 1)\n",
       "\n",
       "    Null deviance: 14053.6  on 50538  degrees of freedom\n",
       "Residual deviance:  1289.2  on 50528  degrees of freedom\n",
       "AIC: 1311.2\n",
       "\n",
       "Number of Fisher Scoring iterations: 11\n"
      ]
     },
     "metadata": {},
     "output_type": "display_data"
    },
    {
     "name": "stderr",
     "output_type": "stream",
     "text": [
      "Warning message:\n",
      ": glm.fit: fitted probabilities numerically 0 or 1 occurredWarning message:\n",
      ": glm.fit: fitted probabilities numerically 0 or 1 occurredWarning message:\n",
      ": glm.fit: fitted probabilities numerically 0 or 1 occurredWarning message:\n",
      ": glm.fit: fitted probabilities numerically 0 or 1 occurredWarning message:\n",
      ": glm.fit: fitted probabilities numerically 0 or 1 occurredWarning message:\n",
      ": glm.fit: fitted probabilities numerically 0 or 1 occurredWarning message:\n",
      ": glm.fit: fitted probabilities numerically 0 or 1 occurredWarning message:\n",
      ": glm.fit: fitted probabilities numerically 0 or 1 occurredWarning message:\n",
      ": glm.fit: fitted probabilities numerically 0 or 1 occurredWarning message:\n",
      ": glm.fit: fitted probabilities numerically 0 or 1 occurred"
     ]
    },
    {
     "data": {
      "text/html": [
       "<table>\n",
       "<thead><tr><th></th><th scope=col>Df</th><th scope=col>Deviance</th><th scope=col>AIC</th><th scope=col>LRT</th><th scope=col>Pr(&gt;Chi)</th></tr></thead>\n",
       "<tbody>\n",
       "\t<tr><th scope=row>&lt;none&gt;</th><td>      NA</td><td>1289.247</td><td>1311.247</td><td>      NA</td><td>      NA</td></tr>\n",
       "\t<tr><th scope=row>b2</th><td>   1.000000</td><td>1290.736493</td><td>1310.736493</td><td>   1.489314</td><td>   0.222323</td></tr>\n",
       "\t<tr><th scope=row>b3</th><td>1.000000e+00</td><td>1.296720e+03</td><td>1.316720e+03</td><td>7.472685e+00</td><td>6.264206e-03</td></tr>\n",
       "\t<tr><th scope=row>b4</th><td>1.000000e+00</td><td>1.302318e+03</td><td>1.322318e+03</td><td>1.307111e+01</td><td>2.998858e-04</td></tr>\n",
       "\t<tr><th scope=row>b5</th><td>1.000000e+00</td><td>1.403461e+03</td><td>1.423461e+03</td><td>1.142136e+02</td><td>1.170027e-26</td></tr>\n",
       "\t<tr><th scope=row>b6</th><td>   1.0000000</td><td>1290.0659227</td><td>1310.0659227</td><td>   0.8187438</td><td>   0.3655477</td></tr>\n",
       "\t<tr><th scope=row>b7</th><td>1.000000e+00</td><td>1.354922e+03</td><td>1.374922e+03</td><td>6.567495e+01</td><td>5.317747e-16</td></tr>\n",
       "\t<tr><th scope=row>b9</th><td>1.000000e+00</td><td>1.337127e+03</td><td>1.357127e+03</td><td>4.787991e+01</td><td>4.531409e-12</td></tr>\n",
       "\t<tr><th scope=row>b10</th><td>   1.0000000</td><td>1291.0949258</td><td>1311.0949258</td><td>   1.8477469</td><td>   0.1740457</td></tr>\n",
       "\t<tr><th scope=row>b11</th><td>   1.0000000</td><td>1291.1067768</td><td>1311.1067768</td><td>   1.8595978</td><td>   0.1726712</td></tr>\n",
       "\t<tr><th scope=row>scene</th><td>1.000000e+00</td><td>1.395808e+03</td><td>1.415808e+03</td><td>1.065606e+02</td><td>5.556672e-25</td></tr>\n",
       "</tbody>\n",
       "</table>\n"
      ],
      "text/latex": [
       "\\begin{tabular}{r|lllll}\n",
       "  & Df & Deviance & AIC & LRT & Pr(>Chi)\\\\\n",
       "\\hline\n",
       "\t<none> &       NA & 1289.247 & 1311.247 &       NA &       NA\\\\\n",
       "\tb2 &    1.000000 & 1290.736493 & 1310.736493 &    1.489314 &    0.222323\\\\\n",
       "\tb3 & 1.000000e+00 & 1.296720e+03 & 1.316720e+03 & 7.472685e+00 & 6.264206e-03\\\\\n",
       "\tb4 & 1.000000e+00 & 1.302318e+03 & 1.322318e+03 & 1.307111e+01 & 2.998858e-04\\\\\n",
       "\tb5 & 1.000000e+00 & 1.403461e+03 & 1.423461e+03 & 1.142136e+02 & 1.170027e-26\\\\\n",
       "\tb6 &    1.0000000 & 1290.0659227 & 1310.0659227 &    0.8187438 &    0.3655477\\\\\n",
       "\tb7 & 1.000000e+00 & 1.354922e+03 & 1.374922e+03 & 6.567495e+01 & 5.317747e-16\\\\\n",
       "\tb9 & 1.000000e+00 & 1.337127e+03 & 1.357127e+03 & 4.787991e+01 & 4.531409e-12\\\\\n",
       "\tb10 &    1.0000000 & 1291.0949258 & 1311.0949258 &    1.8477469 &    0.1740457\\\\\n",
       "\tb11 &    1.0000000 & 1291.1067768 & 1311.1067768 &    1.8595978 &    0.1726712\\\\\n",
       "\tscene & 1.000000e+00 & 1.395808e+03 & 1.415808e+03 & 1.065606e+02 & 5.556672e-25\\\\\n",
       "\\end{tabular}\n"
      ],
      "text/plain": [
       "Single term deletions\n",
       "\n",
       "Model:\n",
       "answ1 ~ b2 + b3 + b4 + b5 + b6 + b7 + b9 + b10 + b11 + scene\n",
       "       Df Deviance    AIC     LRT  Pr(>Chi)    \n",
       "<none>      1289.2 1311.2                      \n",
       "b2      1   1290.7 1310.7   1.489 0.2223230    \n",
       "b3      1   1296.7 1316.7   7.473 0.0062642 ** \n",
       "b4      1   1302.3 1322.3  13.071 0.0002999 ***\n",
       "b5      1   1403.5 1423.5 114.214 < 2.2e-16 ***\n",
       "b6      1   1290.1 1310.1   0.819 0.3655477    \n",
       "b7      1   1354.9 1374.9  65.675 5.318e-16 ***\n",
       "b9      1   1337.1 1357.1  47.880 4.531e-12 ***\n",
       "b10     1   1291.1 1311.1   1.848 0.1740457    \n",
       "b11     1   1291.1 1311.1   1.860 0.1726712    \n",
       "scene   1   1395.8 1415.8 106.561 < 2.2e-16 ***\n",
       "---\n",
       "Signif. codes:  0 ‘***’ 0.001 ‘**’ 0.01 ‘*’ 0.05 ‘.’ 0.1 ‘ ’ 1"
      ]
     },
     "metadata": {},
     "output_type": "display_data"
    }
   ],
   "source": [
    "simple.glm2 = glm(answ1~ b2 + b3 + b4 + b5 + b6 +b7 + b9 + b10 + b11 + scene, data=pdata, family=binomial)\n",
    "summary(simple.glm2)\n",
    "drop1(simple.glm2, test=\"Chi\")"
   ]
  },
  {
   "cell_type": "markdown",
   "metadata": {},
   "source": [
    "AIC улучшилось, но остаются еще незначимые коэффициенты. Выкидываем b6 и продолжаем:"
   ]
  },
  {
   "cell_type": "code",
   "execution_count": 24,
   "metadata": {
    "collapsed": false
   },
   "outputs": [
    {
     "name": "stderr",
     "output_type": "stream",
     "text": [
      "Warning message:\n",
      ": glm.fit: fitted probabilities numerically 0 or 1 occurred"
     ]
    },
    {
     "data": {
      "text/plain": [
       "\n",
       "Call:\n",
       "glm(formula = answ1 ~ b2 + b3 + b4 + b5 + b7 + b9 + b10 + b11 + \n",
       "    scene, family = binomial, data = pdata)\n",
       "\n",
       "Deviance Residuals: \n",
       "    Min       1Q   Median       3Q      Max  \n",
       "-4.3163  -0.0181  -0.0077  -0.0044   3.7809  \n",
       "\n",
       "Coefficients:\n",
       "            Estimate Std. Error z value Pr(>|z|)    \n",
       "(Intercept)  -7.0150    12.3120  -0.570 0.568830    \n",
       "b2           19.0142    14.9371   1.273 0.203035    \n",
       "b3          -96.5989    35.0669  -2.755 0.005875 ** \n",
       "b4           83.9253    22.4924   3.731 0.000191 ***\n",
       "b5          -38.2918     3.5976 -10.644  < 2e-16 ***\n",
       "b7           99.8653     4.0618  24.586  < 2e-16 ***\n",
       "b9           51.7107     8.1173   6.370 1.88e-10 ***\n",
       "b10          -0.1684     0.1272  -1.324 0.185347    \n",
       "b11           0.1612     0.1273   1.266 0.205495    \n",
       "sceneS2       4.4812     0.4922   9.104  < 2e-16 ***\n",
       "---\n",
       "Signif. codes:  0 ‘***’ 0.001 ‘**’ 0.01 ‘*’ 0.05 ‘.’ 0.1 ‘ ’ 1\n",
       "\n",
       "(Dispersion parameter for binomial family taken to be 1)\n",
       "\n",
       "    Null deviance: 14053.6  on 50538  degrees of freedom\n",
       "Residual deviance:  1290.1  on 50529  degrees of freedom\n",
       "AIC: 1310.1\n",
       "\n",
       "Number of Fisher Scoring iterations: 11\n"
      ]
     },
     "metadata": {},
     "output_type": "display_data"
    },
    {
     "name": "stderr",
     "output_type": "stream",
     "text": [
      "Warning message:\n",
      ": glm.fit: fitted probabilities numerically 0 or 1 occurredWarning message:\n",
      ": glm.fit: fitted probabilities numerically 0 or 1 occurredWarning message:\n",
      ": glm.fit: fitted probabilities numerically 0 or 1 occurredWarning message:\n",
      ": glm.fit: fitted probabilities numerically 0 or 1 occurredWarning message:\n",
      ": glm.fit: fitted probabilities numerically 0 or 1 occurredWarning message:\n",
      ": glm.fit: fitted probabilities numerically 0 or 1 occurredWarning message:\n",
      ": glm.fit: fitted probabilities numerically 0 or 1 occurredWarning message:\n",
      ": glm.fit: fitted probabilities numerically 0 or 1 occurredWarning message:\n",
      ": glm.fit: fitted probabilities numerically 0 or 1 occurred"
     ]
    },
    {
     "data": {
      "text/html": [
       "<table>\n",
       "<thead><tr><th></th><th scope=col>Df</th><th scope=col>Deviance</th><th scope=col>AIC</th><th scope=col>LRT</th><th scope=col>Pr(&gt;Chi)</th></tr></thead>\n",
       "<tbody>\n",
       "\t<tr><th scope=row>&lt;none&gt;</th><td>      NA</td><td>1290.066</td><td>1310.066</td><td>      NA</td><td>      NA</td></tr>\n",
       "\t<tr><th scope=row>b2</th><td>   1.0000000</td><td>1291.6942095</td><td>1309.6942095</td><td>   1.6282868</td><td>   0.2019402</td></tr>\n",
       "\t<tr><th scope=row>b3</th><td>1.000000e+00</td><td>1.297433e+03</td><td>1.315433e+03</td><td>7.366960e+00</td><td>6.643313e-03</td></tr>\n",
       "\t<tr><th scope=row>b4</th><td>1.000000e+00</td><td>1.303180e+03</td><td>1.321180e+03</td><td>1.311393e+01</td><td>2.931089e-04</td></tr>\n",
       "\t<tr><th scope=row>b5</th><td>1.000000e+00</td><td>1.424451e+03</td><td>1.442451e+03</td><td>1.343853e+02</td><td>4.499798e-31</td></tr>\n",
       "\t<tr><th scope=row>b7</th><td>   1.000</td><td>4899.839</td><td>4917.839</td><td>3609.773</td><td>   0.000</td></tr>\n",
       "\t<tr><th scope=row>b9</th><td>1.000000e+00</td><td>1.337128e+03</td><td>1.355128e+03</td><td>4.706173e+01</td><td>6.878583e-12</td></tr>\n",
       "\t<tr><th scope=row>b10</th><td>   1.000000</td><td>1291.825125</td><td>1309.825125</td><td>   1.759202</td><td>   0.184724</td></tr>\n",
       "\t<tr><th scope=row>b11</th><td>   1.000000</td><td>1291.676106</td><td>1309.676106</td><td>   1.610184</td><td>   0.204466</td></tr>\n",
       "\t<tr><th scope=row>scene</th><td>1.000000e+00</td><td>1.396101e+03</td><td>1.414101e+03</td><td>1.060354e+02</td><td>7.243042e-25</td></tr>\n",
       "</tbody>\n",
       "</table>\n"
      ],
      "text/latex": [
       "\\begin{tabular}{r|lllll}\n",
       "  & Df & Deviance & AIC & LRT & Pr(>Chi)\\\\\n",
       "\\hline\n",
       "\t<none> &       NA & 1290.066 & 1310.066 &       NA &       NA\\\\\n",
       "\tb2 &    1.0000000 & 1291.6942095 & 1309.6942095 &    1.6282868 &    0.2019402\\\\\n",
       "\tb3 & 1.000000e+00 & 1.297433e+03 & 1.315433e+03 & 7.366960e+00 & 6.643313e-03\\\\\n",
       "\tb4 & 1.000000e+00 & 1.303180e+03 & 1.321180e+03 & 1.311393e+01 & 2.931089e-04\\\\\n",
       "\tb5 & 1.000000e+00 & 1.424451e+03 & 1.442451e+03 & 1.343853e+02 & 4.499798e-31\\\\\n",
       "\tb7 &    1.000 & 4899.839 & 4917.839 & 3609.773 &    0.000\\\\\n",
       "\tb9 & 1.000000e+00 & 1.337128e+03 & 1.355128e+03 & 4.706173e+01 & 6.878583e-12\\\\\n",
       "\tb10 &    1.000000 & 1291.825125 & 1309.825125 &    1.759202 &    0.184724\\\\\n",
       "\tb11 &    1.000000 & 1291.676106 & 1309.676106 &    1.610184 &    0.204466\\\\\n",
       "\tscene & 1.000000e+00 & 1.396101e+03 & 1.414101e+03 & 1.060354e+02 & 7.243042e-25\\\\\n",
       "\\end{tabular}\n"
      ],
      "text/plain": [
       "Single term deletions\n",
       "\n",
       "Model:\n",
       "answ1 ~ b2 + b3 + b4 + b5 + b7 + b9 + b10 + b11 + scene\n",
       "       Df Deviance    AIC    LRT  Pr(>Chi)    \n",
       "<none>      1290.1 1310.1                     \n",
       "b2      1   1291.7 1309.7    1.6 0.2019402    \n",
       "b3      1   1297.4 1315.4    7.4 0.0066433 ** \n",
       "b4      1   1303.2 1321.2   13.1 0.0002931 ***\n",
       "b5      1   1424.5 1442.5  134.4 < 2.2e-16 ***\n",
       "b7      1   4899.8 4917.8 3609.8 < 2.2e-16 ***\n",
       "b9      1   1337.1 1355.1   47.1 6.879e-12 ***\n",
       "b10     1   1291.8 1309.8    1.8 0.1847240    \n",
       "b11     1   1291.7 1309.7    1.6 0.2044660    \n",
       "scene   1   1396.1 1414.1  106.0 < 2.2e-16 ***\n",
       "---\n",
       "Signif. codes:  0 ‘***’ 0.001 ‘**’ 0.01 ‘*’ 0.05 ‘.’ 0.1 ‘ ’ 1"
      ]
     },
     "metadata": {},
     "output_type": "display_data"
    }
   ],
   "source": [
    "simple.glm3 = glm(answ1~ b2 + b3 + b4 + b5 +b7 + b9 + b10 + b11 + scene, data=pdata, family=binomial)\n",
    "summary(simple.glm3)\n",
    "drop1(simple.glm3, test=\"Chi\")"
   ]
  },
  {
   "cell_type": "markdown",
   "metadata": {},
   "source": [
    "Выкидываем b11:"
   ]
  },
  {
   "cell_type": "code",
   "execution_count": 25,
   "metadata": {
    "collapsed": false
   },
   "outputs": [
    {
     "name": "stderr",
     "output_type": "stream",
     "text": [
      "Warning message:\n",
      ": glm.fit: fitted probabilities numerically 0 or 1 occurred"
     ]
    },
    {
     "data": {
      "text/plain": [
       "\n",
       "Call:\n",
       "glm(formula = answ1 ~ b2 + b3 + b4 + b5 + b7 + b9 + b10 + scene, \n",
       "    family = binomial, data = pdata)\n",
       "\n",
       "Deviance Residuals: \n",
       "    Min       1Q   Median       3Q      Max  \n",
       "-4.2828  -0.0182  -0.0079  -0.0045   3.8098  \n",
       "\n",
       "Coefficients:\n",
       "              Estimate Std. Error z value Pr(>|z|)    \n",
       "(Intercept)   -4.43754   12.15280  -0.365 0.715003    \n",
       "b2            21.35727   14.89459   1.434 0.151602    \n",
       "b3          -100.04779   35.09888  -2.850 0.004366 ** \n",
       "b4            85.05952   22.54604   3.773 0.000161 ***\n",
       "b5           -38.14592    3.59761 -10.603  < 2e-16 ***\n",
       "b7            99.46042    4.05353  24.537  < 2e-16 ***\n",
       "b9            47.12670    7.24054   6.509 7.58e-11 ***\n",
       "b10           -0.01923    0.04797  -0.401 0.688521    \n",
       "sceneS2        4.49335    0.49467   9.084  < 2e-16 ***\n",
       "---\n",
       "Signif. codes:  0 ‘***’ 0.001 ‘**’ 0.01 ‘*’ 0.05 ‘.’ 0.1 ‘ ’ 1\n",
       "\n",
       "(Dispersion parameter for binomial family taken to be 1)\n",
       "\n",
       "    Null deviance: 14053.6  on 50538  degrees of freedom\n",
       "Residual deviance:  1291.7  on 50530  degrees of freedom\n",
       "AIC: 1309.7\n",
       "\n",
       "Number of Fisher Scoring iterations: 11\n"
      ]
     },
     "metadata": {},
     "output_type": "display_data"
    },
    {
     "name": "stderr",
     "output_type": "stream",
     "text": [
      "Warning message:\n",
      ": glm.fit: fitted probabilities numerically 0 or 1 occurredWarning message:\n",
      ": glm.fit: fitted probabilities numerically 0 or 1 occurredWarning message:\n",
      ": glm.fit: fitted probabilities numerically 0 or 1 occurredWarning message:\n",
      ": glm.fit: fitted probabilities numerically 0 or 1 occurredWarning message:\n",
      ": glm.fit: fitted probabilities numerically 0 or 1 occurredWarning message:\n",
      ": glm.fit: fitted probabilities numerically 0 or 1 occurredWarning message:\n",
      ": glm.fit: fitted probabilities numerically 0 or 1 occurredWarning message:\n",
      ": glm.fit: fitted probabilities numerically 0 or 1 occurred"
     ]
    },
    {
     "data": {
      "text/html": [
       "<table>\n",
       "<thead><tr><th></th><th scope=col>Df</th><th scope=col>Deviance</th><th scope=col>AIC</th><th scope=col>LRT</th><th scope=col>Pr(&gt;Chi)</th></tr></thead>\n",
       "<tbody>\n",
       "\t<tr><th scope=row>&lt;none&gt;</th><td>      NA</td><td>1291.676</td><td>1309.676</td><td>      NA</td><td>      NA</td></tr>\n",
       "\t<tr><th scope=row>b2</th><td>   1.0000000</td><td>1293.7482433</td><td>1309.7482433</td><td>   2.0721370</td><td>   0.1500112</td></tr>\n",
       "\t<tr><th scope=row>b3</th><td>1.000000e+00</td><td>1.299534e+03</td><td>1.315534e+03</td><td>7.857899e+00</td><td>5.059917e-03</td></tr>\n",
       "\t<tr><th scope=row>b4</th><td>1.000000e+00</td><td>1.305059e+03</td><td>1.321059e+03</td><td>1.338269e+01</td><td>2.539573e-04</td></tr>\n",
       "\t<tr><th scope=row>b5</th><td>1.000000e+00</td><td>1.424819e+03</td><td>1.440819e+03</td><td>1.331431e+02</td><td>8.412265e-31</td></tr>\n",
       "\t<tr><th scope=row>b7</th><td>   1.000</td><td>5055.419</td><td>5071.419</td><td>3763.743</td><td>   0.000</td></tr>\n",
       "\t<tr><th scope=row>b9</th><td>1.000000e+00</td><td>1.343497e+03</td><td>1.359497e+03</td><td>5.182112e+01</td><td>6.079422e-13</td></tr>\n",
       "\t<tr><th scope=row>b10</th><td>   1.0000000</td><td>1291.8368792</td><td>1307.8368792</td><td>   0.1607729</td><td>   0.6884459</td></tr>\n",
       "\t<tr><th scope=row>scene</th><td>1.000000e+00</td><td>1.397027e+03</td><td>1.413027e+03</td><td>1.053510e+02</td><td>1.023088e-24</td></tr>\n",
       "</tbody>\n",
       "</table>\n"
      ],
      "text/latex": [
       "\\begin{tabular}{r|lllll}\n",
       "  & Df & Deviance & AIC & LRT & Pr(>Chi)\\\\\n",
       "\\hline\n",
       "\t<none> &       NA & 1291.676 & 1309.676 &       NA &       NA\\\\\n",
       "\tb2 &    1.0000000 & 1293.7482433 & 1309.7482433 &    2.0721370 &    0.1500112\\\\\n",
       "\tb3 & 1.000000e+00 & 1.299534e+03 & 1.315534e+03 & 7.857899e+00 & 5.059917e-03\\\\\n",
       "\tb4 & 1.000000e+00 & 1.305059e+03 & 1.321059e+03 & 1.338269e+01 & 2.539573e-04\\\\\n",
       "\tb5 & 1.000000e+00 & 1.424819e+03 & 1.440819e+03 & 1.331431e+02 & 8.412265e-31\\\\\n",
       "\tb7 &    1.000 & 5055.419 & 5071.419 & 3763.743 &    0.000\\\\\n",
       "\tb9 & 1.000000e+00 & 1.343497e+03 & 1.359497e+03 & 5.182112e+01 & 6.079422e-13\\\\\n",
       "\tb10 &    1.0000000 & 1291.8368792 & 1307.8368792 &    0.1607729 &    0.6884459\\\\\n",
       "\tscene & 1.000000e+00 & 1.397027e+03 & 1.413027e+03 & 1.053510e+02 & 1.023088e-24\\\\\n",
       "\\end{tabular}\n"
      ],
      "text/plain": [
       "Single term deletions\n",
       "\n",
       "Model:\n",
       "answ1 ~ b2 + b3 + b4 + b5 + b7 + b9 + b10 + scene\n",
       "       Df Deviance    AIC    LRT  Pr(>Chi)    \n",
       "<none>      1291.7 1309.7                     \n",
       "b2      1   1293.7 1309.7    2.1  0.150011    \n",
       "b3      1   1299.5 1315.5    7.9  0.005060 ** \n",
       "b4      1   1305.1 1321.1   13.4  0.000254 ***\n",
       "b5      1   1424.8 1440.8  133.1 < 2.2e-16 ***\n",
       "b7      1   5055.4 5071.4 3763.7 < 2.2e-16 ***\n",
       "b9      1   1343.5 1359.5   51.8 6.079e-13 ***\n",
       "b10     1   1291.8 1307.8    0.2  0.688446    \n",
       "scene   1   1397.0 1413.0  105.4 < 2.2e-16 ***\n",
       "---\n",
       "Signif. codes:  0 ‘***’ 0.001 ‘**’ 0.01 ‘*’ 0.05 ‘.’ 0.1 ‘ ’ 1"
      ]
     },
     "metadata": {},
     "output_type": "display_data"
    }
   ],
   "source": [
    "simple.glm4 = glm(answ1~ b2 + b3 + b4 + b5 +b7 + b9 + b10 + scene, data=pdata, family=binomial)\n",
    "summary(simple.glm4)\n",
    "drop1(simple.glm4, test=\"Chi\")"
   ]
  },
  {
   "cell_type": "markdown",
   "metadata": {},
   "source": [
    "Выкидываем b10:"
   ]
  },
  {
   "cell_type": "code",
   "execution_count": 26,
   "metadata": {
    "collapsed": false
   },
   "outputs": [
    {
     "name": "stderr",
     "output_type": "stream",
     "text": [
      "Warning message:\n",
      ": glm.fit: fitted probabilities numerically 0 or 1 occurred"
     ]
    },
    {
     "data": {
      "text/plain": [
       "\n",
       "Call:\n",
       "glm(formula = answ1 ~ b2 + b3 + b4 + b5 + b7 + b9 + scene, family = binomial, \n",
       "    data = pdata)\n",
       "\n",
       "Deviance Residuals: \n",
       "    Min       1Q   Median       3Q      Max  \n",
       "-4.2833  -0.0181  -0.0078  -0.0044   3.8032  \n",
       "\n",
       "Coefficients:\n",
       "            Estimate Std. Error z value Pr(>|z|)    \n",
       "(Intercept)  -9.2983     0.8449 -11.005  < 2e-16 ***\n",
       "b2           21.1895    14.8760   1.424 0.154329    \n",
       "b3          -99.2954    35.0346  -2.834 0.004594 ** \n",
       "b4           84.8760    22.5369   3.766 0.000166 ***\n",
       "b5          -38.4694     3.5044 -10.977  < 2e-16 ***\n",
       "b7           99.6230     4.0391  24.665  < 2e-16 ***\n",
       "b9           48.4723     6.4534   7.511 5.86e-14 ***\n",
       "sceneS2       4.3921     0.4248  10.340  < 2e-16 ***\n",
       "---\n",
       "Signif. codes:  0 ‘***’ 0.001 ‘**’ 0.01 ‘*’ 0.05 ‘.’ 0.1 ‘ ’ 1\n",
       "\n",
       "(Dispersion parameter for binomial family taken to be 1)\n",
       "\n",
       "    Null deviance: 14053.6  on 50538  degrees of freedom\n",
       "Residual deviance:  1291.8  on 50531  degrees of freedom\n",
       "AIC: 1307.8\n",
       "\n",
       "Number of Fisher Scoring iterations: 11\n"
      ]
     },
     "metadata": {},
     "output_type": "display_data"
    },
    {
     "name": "stderr",
     "output_type": "stream",
     "text": [
      "Warning message:\n",
      ": glm.fit: fitted probabilities numerically 0 or 1 occurredWarning message:\n",
      ": glm.fit: fitted probabilities numerically 0 or 1 occurredWarning message:\n",
      ": glm.fit: fitted probabilities numerically 0 or 1 occurredWarning message:\n",
      ": glm.fit: fitted probabilities numerically 0 or 1 occurredWarning message:\n",
      ": glm.fit: fitted probabilities numerically 0 or 1 occurredWarning message:\n",
      ": glm.fit: fitted probabilities numerically 0 or 1 occurredWarning message:\n",
      ": glm.fit: fitted probabilities numerically 0 or 1 occurred"
     ]
    },
    {
     "data": {
      "text/html": [
       "<table>\n",
       "<thead><tr><th></th><th scope=col>Df</th><th scope=col>Deviance</th><th scope=col>AIC</th><th scope=col>LRT</th><th scope=col>Pr(&gt;Chi)</th></tr></thead>\n",
       "<tbody>\n",
       "\t<tr><th scope=row>&lt;none&gt;</th><td>      NA</td><td>1291.837</td><td>1307.837</td><td>      NA</td><td>      NA</td></tr>\n",
       "\t<tr><th scope=row>b2</th><td>   1.0000000</td><td>1293.8817588</td><td>1307.8817588</td><td>   2.0448796</td><td>   0.1527191</td></tr>\n",
       "\t<tr><th scope=row>b3</th><td>1.000000e+00</td><td>1.299609e+03</td><td>1.313609e+03</td><td>7.772014e+00</td><td>5.306184e-03</td></tr>\n",
       "\t<tr><th scope=row>b4</th><td>1.000000e+00</td><td>1.305183e+03</td><td>1.319183e+03</td><td>1.334640e+01</td><td>2.589188e-04</td></tr>\n",
       "\t<tr><th scope=row>b5</th><td>1.000000e+00</td><td>1.440487e+03</td><td>1.454487e+03</td><td>1.486501e+02</td><td>3.420042e-34</td></tr>\n",
       "\t<tr><th scope=row>b7</th><td>   1.000</td><td>5110.063</td><td>5124.063</td><td>3818.226</td><td>   0.000</td></tr>\n",
       "\t<tr><th scope=row>b9</th><td>1.000000e+00</td><td>1.362258e+03</td><td>1.376258e+03</td><td>7.042144e+01</td><td>4.789659e-17</td></tr>\n",
       "\t<tr><th scope=row>scene</th><td>1.000000e+00</td><td>1.448253e+03</td><td>1.462253e+03</td><td>1.564162e+02</td><td>6.866208e-36</td></tr>\n",
       "</tbody>\n",
       "</table>\n"
      ],
      "text/latex": [
       "\\begin{tabular}{r|lllll}\n",
       "  & Df & Deviance & AIC & LRT & Pr(>Chi)\\\\\n",
       "\\hline\n",
       "\t<none> &       NA & 1291.837 & 1307.837 &       NA &       NA\\\\\n",
       "\tb2 &    1.0000000 & 1293.8817588 & 1307.8817588 &    2.0448796 &    0.1527191\\\\\n",
       "\tb3 & 1.000000e+00 & 1.299609e+03 & 1.313609e+03 & 7.772014e+00 & 5.306184e-03\\\\\n",
       "\tb4 & 1.000000e+00 & 1.305183e+03 & 1.319183e+03 & 1.334640e+01 & 2.589188e-04\\\\\n",
       "\tb5 & 1.000000e+00 & 1.440487e+03 & 1.454487e+03 & 1.486501e+02 & 3.420042e-34\\\\\n",
       "\tb7 &    1.000 & 5110.063 & 5124.063 & 3818.226 &    0.000\\\\\n",
       "\tb9 & 1.000000e+00 & 1.362258e+03 & 1.376258e+03 & 7.042144e+01 & 4.789659e-17\\\\\n",
       "\tscene & 1.000000e+00 & 1.448253e+03 & 1.462253e+03 & 1.564162e+02 & 6.866208e-36\\\\\n",
       "\\end{tabular}\n"
      ],
      "text/plain": [
       "Single term deletions\n",
       "\n",
       "Model:\n",
       "answ1 ~ b2 + b3 + b4 + b5 + b7 + b9 + scene\n",
       "       Df Deviance    AIC    LRT  Pr(>Chi)    \n",
       "<none>      1291.8 1307.8                     \n",
       "b2      1   1293.9 1307.9    2.0 0.1527191    \n",
       "b3      1   1299.6 1313.6    7.8 0.0053062 ** \n",
       "b4      1   1305.2 1319.2   13.3 0.0002589 ***\n",
       "b5      1   1440.5 1454.5  148.7 < 2.2e-16 ***\n",
       "b7      1   5110.1 5124.1 3818.2 < 2.2e-16 ***\n",
       "b9      1   1362.3 1376.3   70.4 < 2.2e-16 ***\n",
       "scene   1   1448.3 1462.3  156.4 < 2.2e-16 ***\n",
       "---\n",
       "Signif. codes:  0 ‘***’ 0.001 ‘**’ 0.01 ‘*’ 0.05 ‘.’ 0.1 ‘ ’ 1"
      ]
     },
     "metadata": {},
     "output_type": "display_data"
    }
   ],
   "source": [
    "simple.glm5 = glm(answ1~ b2 + b3 + b4 + b5 +b7 + b9 + scene, data=pdata, family=binomial)\n",
    "summary(simple.glm5)\n",
    "drop1(simple.glm5, test=\"Chi\")"
   ]
  },
  {
   "cell_type": "markdown",
   "metadata": {},
   "source": [
    "Избавляемся от незначимого коэффициента b2:"
   ]
  },
  {
   "cell_type": "code",
   "execution_count": 27,
   "metadata": {
    "collapsed": false
   },
   "outputs": [
    {
     "name": "stderr",
     "output_type": "stream",
     "text": [
      "Warning message:\n",
      ": glm.fit: fitted probabilities numerically 0 or 1 occurred"
     ]
    },
    {
     "data": {
      "text/plain": [
       "\n",
       "Call:\n",
       "glm(formula = answ1 ~ b3 + b4 + b5 + b7 + b9 + scene, family = binomial, \n",
       "    data = pdata)\n",
       "\n",
       "Deviance Residuals: \n",
       "    Min       1Q   Median       3Q      Max  \n",
       "-4.2517  -0.0178  -0.0077  -0.0044   3.7779  \n",
       "\n",
       "Coefficients:\n",
       "            Estimate Std. Error z value Pr(>|z|)    \n",
       "(Intercept)  -8.6519     0.7169 -12.069  < 2e-16 ***\n",
       "b3          -58.9995    21.2553  -2.776 0.005507 ** \n",
       "b4           69.9411    20.2974   3.446 0.000569 ***\n",
       "b5          -39.8046     3.3812 -11.772  < 2e-16 ***\n",
       "b7           99.1685     4.0099  24.731  < 2e-16 ***\n",
       "b9           48.9073     6.4829   7.544 4.56e-14 ***\n",
       "sceneS2       4.4688     0.4258  10.494  < 2e-16 ***\n",
       "---\n",
       "Signif. codes:  0 ‘***’ 0.001 ‘**’ 0.01 ‘*’ 0.05 ‘.’ 0.1 ‘ ’ 1\n",
       "\n",
       "(Dispersion parameter for binomial family taken to be 1)\n",
       "\n",
       "    Null deviance: 14053.6  on 50538  degrees of freedom\n",
       "Residual deviance:  1293.9  on 50532  degrees of freedom\n",
       "AIC: 1307.9\n",
       "\n",
       "Number of Fisher Scoring iterations: 11\n"
      ]
     },
     "metadata": {},
     "output_type": "display_data"
    },
    {
     "name": "stderr",
     "output_type": "stream",
     "text": [
      "Warning message:\n",
      ": glm.fit: fitted probabilities numerically 0 or 1 occurredWarning message:\n",
      ": glm.fit: fitted probabilities numerically 0 or 1 occurredWarning message:\n",
      ": glm.fit: fitted probabilities numerically 0 or 1 occurredWarning message:\n",
      ": glm.fit: fitted probabilities numerically 0 or 1 occurredWarning message:\n",
      ": glm.fit: fitted probabilities numerically 0 or 1 occurredWarning message:\n",
      ": glm.fit: fitted probabilities numerically 0 or 1 occurred"
     ]
    },
    {
     "data": {
      "text/html": [
       "<table>\n",
       "<thead><tr><th></th><th scope=col>Df</th><th scope=col>Deviance</th><th scope=col>AIC</th><th scope=col>LRT</th><th scope=col>Pr(&gt;Chi)</th></tr></thead>\n",
       "<tbody>\n",
       "\t<tr><th scope=row>&lt;none&gt;</th><td>      NA</td><td>1293.882</td><td>1307.882</td><td>      NA</td><td>      NA</td></tr>\n",
       "\t<tr><th scope=row>b3</th><td>1.000000e+00</td><td>1.301168e+03</td><td>1.313168e+03</td><td>7.286727e+00</td><td>6.946592e-03</td></tr>\n",
       "\t<tr><th scope=row>b4</th><td>1.000000e+00</td><td>1.305237e+03</td><td>1.317237e+03</td><td>1.135539e+01</td><td>7.522941e-04</td></tr>\n",
       "\t<tr><th scope=row>b5</th><td>1.000000e+00</td><td>1.492950e+03</td><td>1.504950e+03</td><td>1.990681e+02</td><td>3.335693e-45</td></tr>\n",
       "\t<tr><th scope=row>b7</th><td>   1.000</td><td>5114.362</td><td>5126.362</td><td>3820.481</td><td>   0.000</td></tr>\n",
       "\t<tr><th scope=row>b9</th><td>1.000000e+00</td><td>1.367413e+03</td><td>1.379413e+03</td><td>7.353171e+01</td><td>9.903246e-18</td></tr>\n",
       "\t<tr><th scope=row>scene</th><td>1.000000e+00</td><td>1.462616e+03</td><td>1.474616e+03</td><td>1.687340e+02</td><td>1.398566e-38</td></tr>\n",
       "</tbody>\n",
       "</table>\n"
      ],
      "text/latex": [
       "\\begin{tabular}{r|lllll}\n",
       "  & Df & Deviance & AIC & LRT & Pr(>Chi)\\\\\n",
       "\\hline\n",
       "\t<none> &       NA & 1293.882 & 1307.882 &       NA &       NA\\\\\n",
       "\tb3 & 1.000000e+00 & 1.301168e+03 & 1.313168e+03 & 7.286727e+00 & 6.946592e-03\\\\\n",
       "\tb4 & 1.000000e+00 & 1.305237e+03 & 1.317237e+03 & 1.135539e+01 & 7.522941e-04\\\\\n",
       "\tb5 & 1.000000e+00 & 1.492950e+03 & 1.504950e+03 & 1.990681e+02 & 3.335693e-45\\\\\n",
       "\tb7 &    1.000 & 5114.362 & 5126.362 & 3820.481 &    0.000\\\\\n",
       "\tb9 & 1.000000e+00 & 1.367413e+03 & 1.379413e+03 & 7.353171e+01 & 9.903246e-18\\\\\n",
       "\tscene & 1.000000e+00 & 1.462616e+03 & 1.474616e+03 & 1.687340e+02 & 1.398566e-38\\\\\n",
       "\\end{tabular}\n"
      ],
      "text/plain": [
       "Single term deletions\n",
       "\n",
       "Model:\n",
       "answ1 ~ b3 + b4 + b5 + b7 + b9 + scene\n",
       "       Df Deviance    AIC    LRT  Pr(>Chi)    \n",
       "<none>      1293.9 1307.9                     \n",
       "b3      1   1301.2 1313.2    7.3 0.0069466 ** \n",
       "b4      1   1305.2 1317.2   11.4 0.0007523 ***\n",
       "b5      1   1492.9 1504.9  199.1 < 2.2e-16 ***\n",
       "b7      1   5114.4 5126.4 3820.5 < 2.2e-16 ***\n",
       "b9      1   1367.4 1379.4   73.5 < 2.2e-16 ***\n",
       "scene   1   1462.6 1474.6  168.7 < 2.2e-16 ***\n",
       "---\n",
       "Signif. codes:  0 ‘***’ 0.001 ‘**’ 0.01 ‘*’ 0.05 ‘.’ 0.1 ‘ ’ 1"
      ]
     },
     "metadata": {},
     "output_type": "display_data"
    }
   ],
   "source": [
    "simple.glm6 = glm(answ1~ b3 + b4 + b5 +b7 + b9 + scene, data=pdata, family=binomial)\n",
    "summary(simple.glm6)\n",
    "drop1(simple.glm6, test=\"Chi\")"
   ]
  },
  {
   "cell_type": "markdown",
   "metadata": {},
   "source": [
    "Больше удалять нечего. Эта модель -- максимум точности, которой мы можем достичь при анализе. К сожалению, среди значимых коэффициентов осталась переменная scene, что означает, что в модели должен фигурировать идентификатор сцены. Автоматически это означает, что для каждой сцены, по сути, мы должы будем строить свою модель. Альтернативный вариант -- использование смешанных моделей (mixed effects), что даст значительно усложнение всех вычислений.\n",
    "\n",
    "Итак, надежда на то, что сцена окажется не значимой, и можно построить модель, в которой не фигурирует идентификатор сцены, не оправдалась. Вернемся на шаг назад, вручную удалим все переменные, которые зависят от сцены (см. первый этап анализа), затем повторим процедуру отбора оптимальной модели и посмотрим, насколько ухудшадся показатели такой модели по сравнению с simple.glm6. \n",
    "\n",
    "Ниже повторяется вся процедура отбора переменных без дополнительных комментарив:"
   ]
  },
  {
   "cell_type": "code",
   "execution_count": 28,
   "metadata": {
    "collapsed": false
   },
   "outputs": [
    {
     "name": "stderr",
     "output_type": "stream",
     "text": [
      "Warning message:\n",
      ": glm.fit: fitted probabilities numerically 0 or 1 occurred"
     ]
    },
    {
     "data": {
      "text/plain": [
       "\n",
       "Call:\n",
       "glm(formula = answ1 ~ b1 + b2 + b3 + b4 + b5 + b6 + b7, family = binomial, \n",
       "    data = pdata)\n",
       "\n",
       "Deviance Residuals: \n",
       "    Min       1Q   Median       3Q      Max  \n",
       "-4.3647  -0.0290  -0.0156  -0.0091   4.3224  \n",
       "\n",
       "Coefficients:\n",
       "            Estimate Std. Error z value Pr(>|z|)    \n",
       "(Intercept)  -15.105      1.288 -11.725  < 2e-16 ***\n",
       "b1           102.756     36.813   2.791  0.00525 ** \n",
       "b2           -65.801     40.518  -1.624  0.10437    \n",
       "b3           -70.817     33.606  -2.107  0.03509 *  \n",
       "b4            47.993     21.618   2.220  0.02642 *  \n",
       "b5           -30.658      3.171  -9.670  < 2e-16 ***\n",
       "b6            34.449     11.312   3.045  0.00232 ** \n",
       "b7            80.444     13.096   6.142 8.13e-10 ***\n",
       "---\n",
       "Signif. codes:  0 ‘***’ 0.001 ‘**’ 0.01 ‘*’ 0.05 ‘.’ 0.1 ‘ ’ 1\n",
       "\n",
       "(Dispersion parameter for binomial family taken to be 1)\n",
       "\n",
       "    Null deviance: 14053.6  on 50538  degrees of freedom\n",
       "Residual deviance:  1438.2  on 50531  degrees of freedom\n",
       "AIC: 1454.2\n",
       "\n",
       "Number of Fisher Scoring iterations: 10\n"
      ]
     },
     "metadata": {},
     "output_type": "display_data"
    },
    {
     "name": "stderr",
     "output_type": "stream",
     "text": [
      "Warning message:\n",
      ": glm.fit: fitted probabilities numerically 0 or 1 occurredWarning message:\n",
      ": glm.fit: fitted probabilities numerically 0 or 1 occurredWarning message:\n",
      ": glm.fit: fitted probabilities numerically 0 or 1 occurredWarning message:\n",
      ": glm.fit: fitted probabilities numerically 0 or 1 occurredWarning message:\n",
      ": glm.fit: fitted probabilities numerically 0 or 1 occurredWarning message:\n",
      ": glm.fit: fitted probabilities numerically 0 or 1 occurredWarning message:\n",
      ": glm.fit: fitted probabilities numerically 0 or 1 occurred"
     ]
    },
    {
     "data": {
      "text/html": [
       "<table>\n",
       "<thead><tr><th></th><th scope=col>Df</th><th scope=col>Deviance</th><th scope=col>AIC</th><th scope=col>LRT</th><th scope=col>Pr(&gt;Chi)</th></tr></thead>\n",
       "<tbody>\n",
       "\t<tr><th scope=row>&lt;none&gt;</th><td>      NA</td><td>1438.155</td><td>1454.155</td><td>      NA</td><td>      NA</td></tr>\n",
       "\t<tr><th scope=row>b1</th><td>1.000000e+00</td><td>1.446026e+03</td><td>1.460026e+03</td><td>7.871087e+00</td><td>5.023144e-03</td></tr>\n",
       "\t<tr><th scope=row>b2</th><td>   1.000000</td><td>1440.805798</td><td>1454.805798</td><td>   2.651043</td><td>   0.103482</td></tr>\n",
       "\t<tr><th scope=row>b3</th><td>1.000000e+00</td><td>1.442571e+03</td><td>1.456571e+03</td><td>4.416502e+00</td><td>3.559292e-02</td></tr>\n",
       "\t<tr><th scope=row>b4</th><td>1.000000e+00</td><td>1.443011e+03</td><td>1.457011e+03</td><td>4.855902e+00</td><td>2.755171e-02</td></tr>\n",
       "\t<tr><th scope=row>b5</th><td>1.000000e+00</td><td>1.545974e+03</td><td>1.559974e+03</td><td>1.078194e+02</td><td>2.944222e-25</td></tr>\n",
       "\t<tr><th scope=row>b6</th><td>1.000000e+00</td><td>1.447446e+03</td><td>1.461446e+03</td><td>9.291302e+00</td><td>2.302445e-03</td></tr>\n",
       "\t<tr><th scope=row>b7</th><td>1.000000e+00</td><td>1.477756e+03</td><td>1.491756e+03</td><td>3.960169e+01</td><td>3.114140e-10</td></tr>\n",
       "</tbody>\n",
       "</table>\n"
      ],
      "text/latex": [
       "\\begin{tabular}{r|lllll}\n",
       "  & Df & Deviance & AIC & LRT & Pr(>Chi)\\\\\n",
       "\\hline\n",
       "\t<none> &       NA & 1438.155 & 1454.155 &       NA &       NA\\\\\n",
       "\tb1 & 1.000000e+00 & 1.446026e+03 & 1.460026e+03 & 7.871087e+00 & 5.023144e-03\\\\\n",
       "\tb2 &    1.000000 & 1440.805798 & 1454.805798 &    2.651043 &    0.103482\\\\\n",
       "\tb3 & 1.000000e+00 & 1.442571e+03 & 1.456571e+03 & 4.416502e+00 & 3.559292e-02\\\\\n",
       "\tb4 & 1.000000e+00 & 1.443011e+03 & 1.457011e+03 & 4.855902e+00 & 2.755171e-02\\\\\n",
       "\tb5 & 1.000000e+00 & 1.545974e+03 & 1.559974e+03 & 1.078194e+02 & 2.944222e-25\\\\\n",
       "\tb6 & 1.000000e+00 & 1.447446e+03 & 1.461446e+03 & 9.291302e+00 & 2.302445e-03\\\\\n",
       "\tb7 & 1.000000e+00 & 1.477756e+03 & 1.491756e+03 & 3.960169e+01 & 3.114140e-10\\\\\n",
       "\\end{tabular}\n"
      ],
      "text/plain": [
       "Single term deletions\n",
       "\n",
       "Model:\n",
       "answ1 ~ b1 + b2 + b3 + b4 + b5 + b6 + b7\n",
       "       Df Deviance    AIC     LRT  Pr(>Chi)    \n",
       "<none>      1438.2 1454.2                      \n",
       "b1      1   1446.0 1460.0   7.871  0.005023 ** \n",
       "b2      1   1440.8 1454.8   2.651  0.103482    \n",
       "b3      1   1442.6 1456.6   4.417  0.035593 *  \n",
       "b4      1   1443.0 1457.0   4.856  0.027552 *  \n",
       "b5      1   1546.0 1560.0 107.819 < 2.2e-16 ***\n",
       "b6      1   1447.5 1461.5   9.291  0.002302 ** \n",
       "b7      1   1477.8 1491.8  39.602 3.114e-10 ***\n",
       "---\n",
       "Signif. codes:  0 ‘***’ 0.001 ‘**’ 0.01 ‘*’ 0.05 ‘.’ 0.1 ‘ ’ 1"
      ]
     },
     "metadata": {},
     "output_type": "display_data"
    }
   ],
   "source": [
    "simple.glm7 = glm(answ1~b1 + b2 + b3 + b4 + b5 + b6 +b7, data=pdata, family=binomial)\n",
    "summary(simple.glm7)\n",
    "drop1(simple.glm7, test=\"Chi\")"
   ]
  },
  {
   "cell_type": "code",
   "execution_count": 29,
   "metadata": {
    "collapsed": false
   },
   "outputs": [
    {
     "name": "stderr",
     "output_type": "stream",
     "text": [
      "Warning message:\n",
      ": glm.fit: fitted probabilities numerically 0 or 1 occurred"
     ]
    },
    {
     "data": {
      "text/plain": [
       "\n",
       "Call:\n",
       "glm(formula = answ1 ~ b1 + b3 + b4 + b5 + b6 + b7, family = binomial, \n",
       "    data = pdata)\n",
       "\n",
       "Deviance Residuals: \n",
       "    Min       1Q   Median       3Q      Max  \n",
       "-4.3814  -0.0291  -0.0158  -0.0093   4.3174  \n",
       "\n",
       "Coefficients:\n",
       "            Estimate Std. Error z value Pr(>|z|)    \n",
       "(Intercept)  -13.943      1.065 -13.093  < 2e-16 ***\n",
       "b1            47.000     13.733   3.422 0.000621 ***\n",
       "b3           -63.187     33.583  -1.882 0.059902 .  \n",
       "b4            29.917     18.754   1.595 0.110650    \n",
       "b5           -31.536      3.131 -10.073  < 2e-16 ***\n",
       "b6            38.963     10.989   3.545 0.000392 ***\n",
       "b7            75.563     12.743   5.930 3.04e-09 ***\n",
       "---\n",
       "Signif. codes:  0 ‘***’ 0.001 ‘**’ 0.01 ‘*’ 0.05 ‘.’ 0.1 ‘ ’ 1\n",
       "\n",
       "(Dispersion parameter for binomial family taken to be 1)\n",
       "\n",
       "    Null deviance: 14053.6  on 50538  degrees of freedom\n",
       "Residual deviance:  1440.8  on 50532  degrees of freedom\n",
       "AIC: 1454.8\n",
       "\n",
       "Number of Fisher Scoring iterations: 10\n"
      ]
     },
     "metadata": {},
     "output_type": "display_data"
    },
    {
     "name": "stderr",
     "output_type": "stream",
     "text": [
      "Warning message:\n",
      ": glm.fit: fitted probabilities numerically 0 or 1 occurredWarning message:\n",
      ": glm.fit: fitted probabilities numerically 0 or 1 occurredWarning message:\n",
      ": glm.fit: fitted probabilities numerically 0 or 1 occurredWarning message:\n",
      ": glm.fit: fitted probabilities numerically 0 or 1 occurredWarning message:\n",
      ": glm.fit: fitted probabilities numerically 0 or 1 occurredWarning message:\n",
      ": glm.fit: fitted probabilities numerically 0 or 1 occurred"
     ]
    },
    {
     "data": {
      "text/html": [
       "<table>\n",
       "<thead><tr><th></th><th scope=col>Df</th><th scope=col>Deviance</th><th scope=col>AIC</th><th scope=col>LRT</th><th scope=col>Pr(&gt;Chi)</th></tr></thead>\n",
       "<tbody>\n",
       "\t<tr><th scope=row>&lt;none&gt;</th><td>      NA</td><td>1440.806</td><td>1454.806</td><td>      NA</td><td>      NA</td></tr>\n",
       "\t<tr><th scope=row>b1</th><td>1.000000e+00</td><td>1.457519e+03</td><td>1.469519e+03</td><td>1.671286e+01</td><td>4.348525e-05</td></tr>\n",
       "\t<tr><th scope=row>b3</th><td>1.000000e+00</td><td>1.444625e+03</td><td>1.456625e+03</td><td>3.819134e+00</td><td>5.067041e-02</td></tr>\n",
       "\t<tr><th scope=row>b4</th><td>   1.0000000</td><td>1443.3783405</td><td>1455.3783405</td><td>   2.5725424</td><td>   0.1087329</td></tr>\n",
       "\t<tr><th scope=row>b5</th><td>1.000000e+00</td><td>1.558526e+03</td><td>1.570526e+03</td><td>1.177206e+02</td><td>1.996197e-27</td></tr>\n",
       "\t<tr><th scope=row>b6</th><td>1.000000e+00</td><td>1.453345e+03</td><td>1.465345e+03</td><td>1.253926e+01</td><td>3.984911e-04</td></tr>\n",
       "\t<tr><th scope=row>b7</th><td>1.000000e+00</td><td>1.477811e+03</td><td>1.489811e+03</td><td>3.700510e+01</td><td>1.178204e-09</td></tr>\n",
       "</tbody>\n",
       "</table>\n"
      ],
      "text/latex": [
       "\\begin{tabular}{r|lllll}\n",
       "  & Df & Deviance & AIC & LRT & Pr(>Chi)\\\\\n",
       "\\hline\n",
       "\t<none> &       NA & 1440.806 & 1454.806 &       NA &       NA\\\\\n",
       "\tb1 & 1.000000e+00 & 1.457519e+03 & 1.469519e+03 & 1.671286e+01 & 4.348525e-05\\\\\n",
       "\tb3 & 1.000000e+00 & 1.444625e+03 & 1.456625e+03 & 3.819134e+00 & 5.067041e-02\\\\\n",
       "\tb4 &    1.0000000 & 1443.3783405 & 1455.3783405 &    2.5725424 &    0.1087329\\\\\n",
       "\tb5 & 1.000000e+00 & 1.558526e+03 & 1.570526e+03 & 1.177206e+02 & 1.996197e-27\\\\\n",
       "\tb6 & 1.000000e+00 & 1.453345e+03 & 1.465345e+03 & 1.253926e+01 & 3.984911e-04\\\\\n",
       "\tb7 & 1.000000e+00 & 1.477811e+03 & 1.489811e+03 & 3.700510e+01 & 1.178204e-09\\\\\n",
       "\\end{tabular}\n"
      ],
      "text/plain": [
       "Single term deletions\n",
       "\n",
       "Model:\n",
       "answ1 ~ b1 + b3 + b4 + b5 + b6 + b7\n",
       "       Df Deviance    AIC     LRT  Pr(>Chi)    \n",
       "<none>      1440.8 1454.8                      \n",
       "b1      1   1457.5 1469.5  16.713 4.349e-05 ***\n",
       "b3      1   1444.6 1456.6   3.819 0.0506704 .  \n",
       "b4      1   1443.4 1455.4   2.573 0.1087329    \n",
       "b5      1   1558.5 1570.5 117.721 < 2.2e-16 ***\n",
       "b6      1   1453.3 1465.3  12.539 0.0003985 ***\n",
       "b7      1   1477.8 1489.8  37.005 1.178e-09 ***\n",
       "---\n",
       "Signif. codes:  0 ‘***’ 0.001 ‘**’ 0.01 ‘*’ 0.05 ‘.’ 0.1 ‘ ’ 1"
      ]
     },
     "metadata": {},
     "output_type": "display_data"
    }
   ],
   "source": [
    "simple.glm8 = glm(answ1~b1 + b3 + b4 + b5 + b6 +b7, data=pdata, family=binomial)\n",
    "summary(simple.glm8)\n",
    "drop1(simple.glm8, test=\"Chi\")"
   ]
  },
  {
   "cell_type": "code",
   "execution_count": 30,
   "metadata": {
    "collapsed": false
   },
   "outputs": [
    {
     "name": "stderr",
     "output_type": "stream",
     "text": [
      "Warning message:\n",
      ": glm.fit: fitted probabilities numerically 0 or 1 occurred"
     ]
    },
    {
     "data": {
      "text/plain": [
       "\n",
       "Call:\n",
       "glm(formula = answ1 ~ b1 + b3 + b5 + b6 + b7, family = binomial, \n",
       "    data = pdata)\n",
       "\n",
       "Deviance Residuals: \n",
       "    Min       1Q   Median       3Q      Max  \n",
       "-4.3205  -0.0293  -0.0163  -0.0096   4.2957  \n",
       "\n",
       "Coefficients:\n",
       "            Estimate Std. Error z value Pr(>|z|)    \n",
       "(Intercept)  -13.513      1.000 -13.512  < 2e-16 ***\n",
       "b1            32.036      9.411   3.404 0.000664 ***\n",
       "b3           -13.358     10.785  -1.239 0.215518    \n",
       "b5           -32.009      3.074 -10.411  < 2e-16 ***\n",
       "b6            42.514     10.723   3.965 7.34e-05 ***\n",
       "b7            70.289     12.227   5.749 8.99e-09 ***\n",
       "---\n",
       "Signif. codes:  0 ‘***’ 0.001 ‘**’ 0.01 ‘*’ 0.05 ‘.’ 0.1 ‘ ’ 1\n",
       "\n",
       "(Dispersion parameter for binomial family taken to be 1)\n",
       "\n",
       "    Null deviance: 14053.6  on 50538  degrees of freedom\n",
       "Residual deviance:  1443.4  on 50533  degrees of freedom\n",
       "AIC: 1455.4\n",
       "\n",
       "Number of Fisher Scoring iterations: 10\n"
      ]
     },
     "metadata": {},
     "output_type": "display_data"
    },
    {
     "name": "stderr",
     "output_type": "stream",
     "text": [
      "Warning message:\n",
      ": glm.fit: fitted probabilities numerically 0 or 1 occurredWarning message:\n",
      ": glm.fit: fitted probabilities numerically 0 or 1 occurredWarning message:\n",
      ": glm.fit: fitted probabilities numerically 0 or 1 occurredWarning message:\n",
      ": glm.fit: fitted probabilities numerically 0 or 1 occurredWarning message:\n",
      ": glm.fit: fitted probabilities numerically 0 or 1 occurred"
     ]
    },
    {
     "data": {
      "text/html": [
       "<table>\n",
       "<thead><tr><th></th><th scope=col>Df</th><th scope=col>Deviance</th><th scope=col>AIC</th><th scope=col>LRT</th><th scope=col>Pr(&gt;Chi)</th></tr></thead>\n",
       "<tbody>\n",
       "\t<tr><th scope=row>&lt;none&gt;</th><td>      NA</td><td>1443.378</td><td>1455.378</td><td>      NA</td><td>      NA</td></tr>\n",
       "\t<tr><th scope=row>b1</th><td>1.000000e+00</td><td>1.457523e+03</td><td>1.467523e+03</td><td>1.414423e+01</td><td>1.693160e-04</td></tr>\n",
       "\t<tr><th scope=row>b3</th><td>   1.0000000</td><td>1444.9792568</td><td>1454.9792568</td><td>   1.6009163</td><td>   0.2057734</td></tr>\n",
       "\t<tr><th scope=row>b5</th><td>1.000000e+00</td><td>1.567276e+03</td><td>1.577276e+03</td><td>1.238977e+02</td><td>8.869957e-29</td></tr>\n",
       "\t<tr><th scope=row>b6</th><td>1.000000e+00</td><td>1.459115e+03</td><td>1.469115e+03</td><td>1.573627e+01</td><td>7.281458e-05</td></tr>\n",
       "\t<tr><th scope=row>b7</th><td>1.000000e+00</td><td>1.477851e+03</td><td>1.487851e+03</td><td>3.447230e+01</td><td>4.323603e-09</td></tr>\n",
       "</tbody>\n",
       "</table>\n"
      ],
      "text/latex": [
       "\\begin{tabular}{r|lllll}\n",
       "  & Df & Deviance & AIC & LRT & Pr(>Chi)\\\\\n",
       "\\hline\n",
       "\t<none> &       NA & 1443.378 & 1455.378 &       NA &       NA\\\\\n",
       "\tb1 & 1.000000e+00 & 1.457523e+03 & 1.467523e+03 & 1.414423e+01 & 1.693160e-04\\\\\n",
       "\tb3 &    1.0000000 & 1444.9792568 & 1454.9792568 &    1.6009163 &    0.2057734\\\\\n",
       "\tb5 & 1.000000e+00 & 1.567276e+03 & 1.577276e+03 & 1.238977e+02 & 8.869957e-29\\\\\n",
       "\tb6 & 1.000000e+00 & 1.459115e+03 & 1.469115e+03 & 1.573627e+01 & 7.281458e-05\\\\\n",
       "\tb7 & 1.000000e+00 & 1.477851e+03 & 1.487851e+03 & 3.447230e+01 & 4.323603e-09\\\\\n",
       "\\end{tabular}\n"
      ],
      "text/plain": [
       "Single term deletions\n",
       "\n",
       "Model:\n",
       "answ1 ~ b1 + b3 + b5 + b6 + b7\n",
       "       Df Deviance    AIC     LRT  Pr(>Chi)    \n",
       "<none>      1443.4 1455.4                      \n",
       "b1      1   1457.5 1467.5  14.144 0.0001693 ***\n",
       "b3      1   1445.0 1455.0   1.601 0.2057734    \n",
       "b5      1   1567.3 1577.3 123.898 < 2.2e-16 ***\n",
       "b6      1   1459.1 1469.1  15.736 7.281e-05 ***\n",
       "b7      1   1477.8 1487.8  34.472 4.324e-09 ***\n",
       "---\n",
       "Signif. codes:  0 ‘***’ 0.001 ‘**’ 0.01 ‘*’ 0.05 ‘.’ 0.1 ‘ ’ 1"
      ]
     },
     "metadata": {},
     "output_type": "display_data"
    }
   ],
   "source": [
    "simple.glm9 = glm(answ1~b1 + b3 + b5 + b6 +b7, data=pdata, family=binomial)\n",
    "summary(simple.glm9)\n",
    "drop1(simple.glm9, test=\"Chi\")"
   ]
  },
  {
   "cell_type": "code",
   "execution_count": 31,
   "metadata": {
    "collapsed": false
   },
   "outputs": [
    {
     "name": "stderr",
     "output_type": "stream",
     "text": [
      "Warning message:\n",
      ": glm.fit: fitted probabilities numerically 0 or 1 occurred"
     ]
    },
    {
     "data": {
      "text/plain": [
       "\n",
       "Call:\n",
       "glm(formula = answ1 ~ b1 + b5 + b6 + b7, family = binomial, data = pdata)\n",
       "\n",
       "Deviance Residuals: \n",
       "    Min       1Q   Median       3Q      Max  \n",
       "-4.3348  -0.0290  -0.0160  -0.0096   4.2994  \n",
       "\n",
       "Coefficients:\n",
       "            Estimate Std. Error z value Pr(>|z|)    \n",
       "(Intercept) -12.4185     0.4587 -27.073  < 2e-16 ***\n",
       "b1           20.8339     2.6116   7.977 1.49e-15 ***\n",
       "b5          -34.7703     2.1604 -16.095  < 2e-16 ***\n",
       "b6           45.3291    10.4937   4.320 1.56e-05 ***\n",
       "b7           67.9584    12.0931   5.620 1.91e-08 ***\n",
       "---\n",
       "Signif. codes:  0 ‘***’ 0.001 ‘**’ 0.01 ‘*’ 0.05 ‘.’ 0.1 ‘ ’ 1\n",
       "\n",
       "(Dispersion parameter for binomial family taken to be 1)\n",
       "\n",
       "    Null deviance: 14054  on 50538  degrees of freedom\n",
       "Residual deviance:  1445  on 50534  degrees of freedom\n",
       "AIC: 1455\n",
       "\n",
       "Number of Fisher Scoring iterations: 10\n"
      ]
     },
     "metadata": {},
     "output_type": "display_data"
    },
    {
     "name": "stderr",
     "output_type": "stream",
     "text": [
      "Warning message:\n",
      ": glm.fit: fitted probabilities numerically 0 or 1 occurredWarning message:\n",
      ": glm.fit: fitted probabilities numerically 0 or 1 occurredWarning message:\n",
      ": glm.fit: fitted probabilities numerically 0 or 1 occurredWarning message:\n",
      ": glm.fit: fitted probabilities numerically 0 or 1 occurred"
     ]
    },
    {
     "data": {
      "text/html": [
       "<table>\n",
       "<thead><tr><th></th><th scope=col>Df</th><th scope=col>Deviance</th><th scope=col>AIC</th><th scope=col>LRT</th><th scope=col>Pr(&gt;Chi)</th></tr></thead>\n",
       "<tbody>\n",
       "\t<tr><th scope=row>&lt;none&gt;</th><td>      NA</td><td>1444.979</td><td>1454.979</td><td>      NA</td><td>      NA</td></tr>\n",
       "\t<tr><th scope=row>b1</th><td>1.000000e+00</td><td>1.514534e+03</td><td>1.522534e+03</td><td>6.955486e+01</td><td>7.431837e-17</td></tr>\n",
       "\t<tr><th scope=row>b5</th><td> 1.000000e+00</td><td> 2.008890e+03</td><td> 2.016890e+03</td><td> 5.639107e+02</td><td>1.185530e-124</td></tr>\n",
       "\t<tr><th scope=row>b6</th><td>1.000000e+00</td><td>1.463680e+03</td><td>1.471680e+03</td><td>1.870055e+01</td><td>1.529382e-05</td></tr>\n",
       "\t<tr><th scope=row>b7</th><td>1.000000e+00</td><td>1.477961e+03</td><td>1.485961e+03</td><td>3.298191e+01</td><td>9.302018e-09</td></tr>\n",
       "</tbody>\n",
       "</table>\n"
      ],
      "text/latex": [
       "\\begin{tabular}{r|lllll}\n",
       "  & Df & Deviance & AIC & LRT & Pr(>Chi)\\\\\n",
       "\\hline\n",
       "\t<none> &       NA & 1444.979 & 1454.979 &       NA &       NA\\\\\n",
       "\tb1 & 1.000000e+00 & 1.514534e+03 & 1.522534e+03 & 6.955486e+01 & 7.431837e-17\\\\\n",
       "\tb5 &  1.000000e+00 &  2.008890e+03 &  2.016890e+03 &  5.639107e+02 & 1.185530e-124\\\\\n",
       "\tb6 & 1.000000e+00 & 1.463680e+03 & 1.471680e+03 & 1.870055e+01 & 1.529382e-05\\\\\n",
       "\tb7 & 1.000000e+00 & 1.477961e+03 & 1.485961e+03 & 3.298191e+01 & 9.302018e-09\\\\\n",
       "\\end{tabular}\n"
      ],
      "text/plain": [
       "Single term deletions\n",
       "\n",
       "Model:\n",
       "answ1 ~ b1 + b5 + b6 + b7\n",
       "       Df Deviance    AIC    LRT  Pr(>Chi)    \n",
       "<none>      1445.0 1455.0                     \n",
       "b1      1   1514.5 1522.5  69.55 < 2.2e-16 ***\n",
       "b5      1   2008.9 2016.9 563.91 < 2.2e-16 ***\n",
       "b6      1   1463.7 1471.7  18.70 1.529e-05 ***\n",
       "b7      1   1478.0 1486.0  32.98 9.302e-09 ***\n",
       "---\n",
       "Signif. codes:  0 ‘***’ 0.001 ‘**’ 0.01 ‘*’ 0.05 ‘.’ 0.1 ‘ ’ 1"
      ]
     },
     "metadata": {},
     "output_type": "display_data"
    }
   ],
   "source": [
    "simple.glm10 = glm(answ1~b1 + b5 + b6 +b7, data=pdata, family=binomial)\n",
    "summary(simple.glm10)\n",
    "drop1(simple.glm10, test=\"Chi\")"
   ]
  },
  {
   "cell_type": "markdown",
   "metadata": {},
   "source": [
    "Итак, в этом случае оптимальный набор переменных: b1, b5, b6, b7. AIC: 1455 (для сравнения: AIC у simple.glm6 равен 1307.9)."
   ]
  },
  {
   "cell_type": "markdown",
   "metadata": {
    "collapsed": true
   },
   "source": [
    "##### Валидация модели"
   ]
  },
  {
   "cell_type": "markdown",
   "metadata": {},
   "source": [
    "Посмотрим, нет ли каких-либо закономерностей в ответах. Для этого построим график зависимостей остатков от подогнанных значений."
   ]
  },
  {
   "cell_type": "markdown",
   "metadata": {},
   "source": [
    "Для оценки качества модели изучим поведение зависимости остатков (невязка модели) от прогнозируемой величины и от независимых переменных. В идеале остатки не должны показывать каких-либо закономерностей."
   ]
  },
  {
   "cell_type": "code",
   "execution_count": 32,
   "metadata": {
    "collapsed": false
   },
   "outputs": [
    {
     "data": {
      "text/html": [
       "<strong>png:</strong> 2"
      ],
      "text/latex": [
       "\\textbf{png:} 2"
      ],
      "text/markdown": [
       "**png:** 2"
      ],
      "text/plain": [
       "png \n",
       "  2 "
      ]
     },
     "metadata": {},
     "output_type": "display_data"
    }
   ],
   "source": [
    "E10 = resid(simple.glm10, type=\"response\")\n",
    "png(\"Img/CMASK/glm10_res_fitted.png\", width=728, height=728, units=\"px\")\n",
    "  plot(simple.glm10$fitted.values, E10, cex=0.1)\n",
    "dev.off()"
   ]
  },
  {
   "cell_type": "markdown",
   "metadata": {},
   "source": [
    "<img src=\"https://176.9.38.120/cruncher/files/deforestation/Img/CMASK/glm10_res_fitted.png\">"
   ]
  },
  {
   "cell_type": "markdown",
   "metadata": {},
   "source": [
    "Поскольку ответ логистической регрессии это один или ноль, а значений, использующихся для подгонки достаточно много, то на графике видим две полосы точек (остатков). В итогое понять, есть ли закономерность в остатках становится сложно. Поэтому упорядочим полученные ответы по возрастанию fitted.values, разобьем их на группы и посчитаем в каждой группе среднее значение невязки (средний остаток)."
   ]
  },
  {
   "cell_type": "code",
   "execution_count": 33,
   "metadata": {
    "collapsed": false
   },
   "outputs": [
    {
     "data": {
      "text/html": [
       "<strong>png:</strong> 2"
      ],
      "text/latex": [
       "\\textbf{png:} 2"
      ],
      "text/markdown": [
       "**png:** 2"
      ],
      "text/plain": [
       "png \n",
       "  2 "
      ]
     },
     "metadata": {},
     "output_type": "display_data"
    }
   ],
   "source": [
    "ER10 = data.frame(err=E10, fitted=simple.glm10$fitted.values, \n",
    "                b1=pdata$b1, b2=pdata$b2, b3=pdata$b3, b4=pdata$b4, b5=pdata$b5, b6=pdata$b6, \n",
    "                b7=pdata$b7, b9=pdata$b9, b10=pdata$b10, b11=pdata$b11, scene=pdata$scene)\n",
    "\n",
    "# Сортируем по порядку прогнозируемых величин\n",
    "ER10 = ER10[order(ER10$fitted), ]\n",
    "\n",
    "# Разбиваем на группы\n",
    "group_size = 100\n",
    "ER10 = cbind(id=(1:length(ER10$fitted))%/% group_size, ER10)\n",
    "# Вычислим среднее значение ошибки в каждой группе и поместим в таблицу\n",
    "lookup_table = aggregate(ER10['err'], by=list(ER10$id), FUN=mean)\n",
    "names(lookup_table) = c('id', 'err')\n",
    "\n",
    "# Создадим вектор из средний значений ошибок \n",
    "a = sapply(ER10$id, function(id){lookup_table[lookup_table$id==id, 'err']})\n",
    "\n",
    "ER10 = cbind(ER10, mean.err=a)\n",
    "\n",
    "\n",
    "png(\"Img/CMASK/glm10_res_fitted_srt.png\", width=728, height=728, units=\"px\")\n",
    "  plot(ER10$fitted, ER10$mean.err, cex=0.1)\n",
    "dev.off()"
   ]
  },
  {
   "cell_type": "markdown",
   "metadata": {},
   "source": [
    "<img src=\"https://176.9.38.120/cruncher/files/deforestation/Img/CMASK/glm10_res_fitted_srt.png\">"
   ]
  },
  {
   "cell_type": "markdown",
   "metadata": {},
   "source": [
    "Как видим, в усредненных остатках есть некоторая тенденция: если прогнозируемое значение близко к нулю (не облако), то остаток скорее будет отцательным, для средних прогнозируемых значений остатки чаще положительны, а если прогнозируемое значение близко к единице, то отстаток опять будет скорее отрицательным. Для идеально подогнанной кривой усредненные остатки должны быть более-менее равномерно разбросаны вокруг нуля и не зависеть от прогнозируемой величины."
   ]
  },
  {
   "cell_type": "markdown",
   "metadata": {},
   "source": [
    "Аналогично, построим графики зависимостей остатков от всех переменных (как использованных в модели, так и не использованных)."
   ]
  },
  {
   "cell_type": "code",
   "execution_count": 34,
   "metadata": {
    "collapsed": false
   },
   "outputs": [
    {
     "data": {
      "text/html": [
       "<strong>png:</strong> 2"
      ],
      "text/latex": [
       "\\textbf{png:} 2"
      ],
      "text/markdown": [
       "**png:** 2"
      ],
      "text/plain": [
       "png \n",
       "  2 "
      ]
     },
     "metadata": {},
     "output_type": "display_data"
    }
   ],
   "source": [
    "png(\"Img/CMASK/glm10_res_bXX_srt.png\", width=728, height=728, units=\"px\")\n",
    "    par(mfrow = c(3, 4))\n",
    "    plot(ER10$b1, ER10$mean.err, cex=0.1)\n",
    "    plot(ER10$b2, ER10$mean.err, cex=0.1)\n",
    "    plot(ER10$b3, ER10$mean.err, cex=0.1)\n",
    "    plot(ER10$b4, ER10$mean.err, cex=0.1)\n",
    "\n",
    "    plot(ER10$b5, ER10$mean.err, cex=0.1)\n",
    "    plot(ER10$b6, ER10$mean.err, cex=0.1)\n",
    "    plot(ER10$b7, ER10$mean.err, cex=0.1)\n",
    "\n",
    "    plot(ER10$b9, ER10$mean.err, cex=0.1)\n",
    "\n",
    "    plot(ER10$b10, ER10$mean.err, cex=0.1)\n",
    "    plot(ER10$b11, ER10$mean.err, cex=0.1)\n",
    "\n",
    "    boxplot(ER10$mean.err ~ ER10$scene, cex=0.1)\n",
    "\n",
    "    par(opar)\n",
    "dev.off()"
   ]
  },
  {
   "cell_type": "markdown",
   "metadata": {},
   "source": [
    "<img src=\"https://176.9.38.120/cruncher/files/deforestation/Img/CMASK/glm10_res_bXX_srt.png\">"
   ]
  },
  {
   "cell_type": "markdown",
   "metadata": {},
   "source": [
    "Каких-то бросающихся в глаза тенденций (например, низких значений остатков при высоких величинах переменных или чего-нибудь в этом роде) в зависимости остатков от каналов не заметно: отрицательные остатки обычно уравновешиваются положительными. Также хорошая новость в том, что остатки не показывают зависимости от сцены."
   ]
  },
  {
   "cell_type": "code",
   "execution_count": 35,
   "metadata": {
    "collapsed": false
   },
   "outputs": [
    {
     "name": "stderr",
     "output_type": "stream",
     "text": [
      "Loading required package: nlme\n",
      "This is mgcv 1.7-28. For overview type 'help(\"mgcv-package\")'.\n"
     ]
    }
   ],
   "source": [
    "library(mgcv)"
   ]
  }
 ],
 "metadata": {
  "kernelspec": {
   "display_name": "R",
   "language": "R",
   "name": "ir"
  },
  "language_info": {
   "codemirror_mode": "r",
   "file_extension": ".r",
   "mimetype": "text/x-r-source",
   "name": "R",
   "pygments_lexer": "r",
   "version": "3.3.1"
  }
 },
 "nbformat": 4,
 "nbformat_minor": 0
}
