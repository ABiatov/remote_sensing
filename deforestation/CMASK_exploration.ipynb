{
 "cells": [
  {
   "cell_type": "markdown",
   "metadata": {},
   "source": [
    "# Статанализ масок облаков и снега"
   ]
  },
  {
   "cell_type": "markdown",
   "metadata": {},
   "source": [
    "В документе исследуется вопрос о том, как построить маски облачности и снега, пользуясь статистическими методами. Здесь были использованы выборки с двух сцен Landsat-8 и размеченные данные по трем классам: облако, снег, остальное. Документ состоит из нескольких связанных разделов.\n",
    "\n",
    " * В разделе [Предобработка](#Preprocessing) дается ссылка на исходные данные и производится очистка данных от явно ошибочных значений.\n",
    " * В разделе [Первый взгляд на данные](#Exploration) производится разведочный анализ данных. Раздел состоит из следующих частей:\n",
    "   - [Отражающая способность различных объектов](#Reflectance): здесь рассматривается вопрос о том, какими спектральными характеристиками обладает каждый из интересующих классов.\n",
    "   - [Зависимость от сцены](#Reflectance-Scene): здесь исследуюется вопрос о том, в каких каналах вариативность данных в зависимости от сцены высока, а в каких нет.\n",
    "   - [Вывод](#Exploration-Resume): сводка основных полученных результатов.\n",
    " * Раздел [Простая модель](#SimpleModel) посвящен разработке статистических моделей для классификации. Здесь содержатся следующие подразделы:\n",
    "   - [Выбор объясняющих переменных](#CovariatesSelection): в этом подразделе производится визуальная оценка тех каналов, которые потенциально будут наиболее полезными при построении модели.\n",
    "   - [Фиктивные переменные](#DummyVars): строятся фиктивные переменные, которые будут использоваться при построении моделей.\n",
    "   - [Построение моделей](#Modelling): в разделе создаются различного рода статмодели и исследуется их качество. Это наиболее обширный подраздел во всем документе и он делится на несколько секций. В первых секциях исследуются модели на базе логистической регрессии. Затем рассматриваются аддитивные модели.\n",
    "   Все секции устроены одинаково, но логика и ход создания модели подробно описаны только для первой из них (облачность). Вторая секция (снег) в основном следует описанной логике и подробности в ней опускаются.\n",
    "     + [ЛР модель для облаков](#Clouds)\n",
    "       * [Построение собственно модели](#CloudsModel)\n",
    "       * [Валидация модели](#CloudsValidation)\n",
    "       * [Вывод по модели](#CloudsResume)\n",
    "     + [ЛР модель для снега](#Snow)\n",
    "       * [Модель-1](#SnowModel1)\n",
    "       * [Валидация модели-1](#SnowValidation1)\n",
    "       * [Модель-2](#SnowModel2)\n",
    "       * [Валидация модели-2](#SnowValidation2)\n",
    "       * [Модель-3](#SnowModel3)\n",
    "       * [Валидация модели-3](#SnowValidation3)\n",
    "       * [Вывод по модели](#SnowResume)\n"
   ]
  },
  {
   "cell_type": "markdown",
   "metadata": {},
   "source": [
    "<a id='Preprocessing'></a>\n",
    "## Предобработка "
   ]
  },
  {
   "cell_type": "markdown",
   "metadata": {},
   "source": [
    "В файл были экспортированы обучающие данные по облачности и снегу (см. https://176.9.38.120/cruncher/notebooks/deforestation/CMask_trainings.ipynb)."
   ]
  },
  {
   "cell_type": "code",
   "execution_count": 1,
   "metadata": {
    "collapsed": false
   },
   "outputs": [],
   "source": [
    "points = read.table('data/CMask_trainings/random_points.csv', header=TRUE, sep=';')\n",
    "\n",
    "# summary(points)"
   ]
  },
  {
   "cell_type": "markdown",
   "metadata": {},
   "source": [
    "Содержимое колонок:\n",
    "\n",
    "  * cat -- идентификатор точки, в которой производились измерения;\n",
    "  * l1_b1 -- l1_b11 -- данные LANDSAT8 (после атмосферной коррекции) по сцене LC81120282015365LGN00;\n",
    "  * l2_b1 -- l2_b11 -- данные LANDSAT8 (после атмосферной коррекции) по сцене LC81130272015356LGN00;\n",
    "  * t1, t2 -- данные по наземным объектам сцен LC81120282015365LGN00 и LC81130272015356LGN00 соответственно, значения: 1-облака;2-снег;3-остальное.\n",
    "  * x, y -- координаты (UTM);"
   ]
  },
  {
   "cell_type": "markdown",
   "metadata": {},
   "source": [
    "Соберем данные в dataframe для удобства анализа так, чтобы в нем одна строка соответствовала одному измерению, а не двум, как сейчас:"
   ]
  },
  {
   "cell_type": "code",
   "execution_count": 2,
   "metadata": {
    "collapsed": false
   },
   "outputs": [
    {
     "data": {
      "text/plain": [
       "      cat              x                y               t        \n",
       " Min.   :    1   Min.   :434113   Min.   :4979683   Cloud: 1579  \n",
       " 1st Qu.:12508   1st Qu.:496221   1st Qu.:5060181   Snow : 3644  \n",
       " Median :24998   Median :536605   Median :5117104   Other:45316  \n",
       " Mean   :24998   Mean   :541089   Mean   :5112347                \n",
       " 3rd Qu.:37496   3rd Qu.:586255   3rd Qu.:5165598                \n",
       " Max.   :50000   Max.   :664168   Max.   :5215814                \n",
       "       b1               b2                b3                b4         \n",
       " Min.   :0.1124   Min.   :0.08453   Min.   :0.04529   Min.   :0.02953  \n",
       " 1st Qu.:0.2011   1st Qu.:0.16832   1st Qu.:0.11290   1st Qu.:0.09587  \n",
       " Median :0.2291   Median :0.19891   Median :0.14421   Median :0.13350  \n",
       " Mean   :0.2529   Mean   :0.22642   Mean   :0.17388   Mean   :0.17051  \n",
       " 3rd Qu.:0.2732   3rd Qu.:0.24862   3rd Qu.:0.19710   3rd Qu.:0.19912  \n",
       " Max.   :0.9407   Max.   :1.07539   Max.   :1.17382   Max.   :1.45950  \n",
       "       b5               b6                 b7                  b8         \n",
       " Min.   :0.0266   Min.   :0.002429   Min.   :0.0009371   Min.   :0.03806  \n",
       " 1st Qu.:0.1505   1st Qu.:0.045226   1st Qu.:0.0346359   1st Qu.:0.10428  \n",
       " Median :0.2089   Median :0.064413   Median :0.0517046   Median :0.13835  \n",
       " Mean   :0.2411   Mean   :0.070830   Mean   :0.0587442   Mean   :0.17102  \n",
       " 3rd Qu.:0.2940   3rd Qu.:0.085904   3rd Qu.:0.0727751   3rd Qu.:0.19648  \n",
       " Max.   :1.7880   Max.   :0.835206   Max.   :0.7258888   Max.   :1.25935  \n",
       "       b9                  b10             b11        scene     \n",
       " Min.   :-0.0001246   Min.   :232.4   Min.   :224.4   S1:41907  \n",
       " 1st Qu.: 0.0038000   1st Qu.:250.1   1st Qu.:247.7   S2: 8632  \n",
       " Median : 0.0054196   Median :252.2   Median :249.9             \n",
       " Mean   : 0.0106870   Mean   :252.4   Mean   :250.0             \n",
       " 3rd Qu.: 0.0095934   3rd Qu.:254.5   3rd Qu.:252.3             \n",
       " Max.   : 0.2826308   Max.   :263.5   Max.   :261.4             "
      ]
     },
     "metadata": {},
     "output_type": "display_data"
    }
   ],
   "source": [
    "tmp1 = points[c('cat', 'x', 'y', 't1',\n",
    "                'l1_b1', 'l1_b2', 'l1_b3', 'l1_b4', 'l1_b5', 'l1_b6', \n",
    "                'l1_b7', 'l1_b8', 'l1_b9', 'l1_b10', 'l1_b11'\n",
    "               )]\n",
    "names(tmp1) = c('cat', 'x', 'y', 't',\n",
    "                'b1', 'b2', 'b3', 'b4', 'b5', 'b6', 'b7', 'b8', 'b9', 'b10', 'b11'\n",
    "               )\n",
    "\n",
    "tmp1$scene = 'S1' # 'LC81120282015365LGN00'\n",
    "\n",
    "tmp2 = points[c('cat', 'x', 'y', 't2',\n",
    "                'l2_b1', 'l2_b2', 'l2_b3', 'l2_b4', 'l2_b5', 'l2_b6', \n",
    "                'l2_b7', 'l2_b8', 'l2_b9', 'l2_b10', 'l2_b11'\n",
    "               )]\n",
    "names(tmp2) = c('cat', 'x', 'y', 't',\n",
    "                'b1', 'b2', 'b3', 'b4', 'b5', 'b6', 'b7', 'b8', 'b9', 'b10', 'b11'\n",
    "               )\n",
    "tmp2$scene = 'S2' # 'LC81130272015356LGN00'\n",
    "\n",
    "\n",
    "points = rbind(tmp1, tmp2)\n",
    "\n",
    "points$t[points$t==0] = NA\n",
    "\n",
    "points$scene = factor(points$scene)\n",
    "points$t = factor(points$t)\n",
    "levels(points$t) <- list(Cloud=1, Snow=2, Other=3)\n",
    "\n",
    "points = na.omit(points)\n",
    "\n",
    "summary(points)"
   ]
  },
  {
   "cell_type": "markdown",
   "metadata": {},
   "source": [
    "Видим, что в 9-м канале после атмосферной коррекции получились отрицательные значения. Объясняется это, по всей видимости, тем, что используемые в ходе коррекции константы (gain или bias, см. метаданные) содержали неподходящие для данной сцены значения. Аналогично, почти во всех каналах значения отражающей способности оказались выше 1."
   ]
  },
  {
   "cell_type": "code",
   "execution_count": 3,
   "metadata": {
    "collapsed": false
   },
   "outputs": [
    {
     "data": {
      "text/html": [
       "<ol class=list-inline>\n",
       "\t<li>50539</li>\n",
       "\t<li>16</li>\n",
       "</ol>\n"
      ],
      "text/latex": [
       "\\begin{enumerate*}\n",
       "\\item 50539\n",
       "\\item 16\n",
       "\\end{enumerate*}\n"
      ],
      "text/markdown": [
       "1. 50539\n",
       "2. 16\n",
       "\n",
       "\n"
      ],
      "text/plain": [
       "[1] 50539    16"
      ]
     },
     "metadata": {},
     "output_type": "display_data"
    }
   ],
   "source": [
    "# Число примеров, оставшихся после удаления отсутсвующих данных\n",
    "dim(points)"
   ]
  },
  {
   "cell_type": "code",
   "execution_count": 4,
   "metadata": {
    "collapsed": true
   },
   "outputs": [],
   "source": [
    "points$b8[points$b9 < 0] = 0.0\n",
    "\n",
    "points$b2[points$b2 > 1] = 1.0\n",
    "points$b3[points$b3 > 1] = 1.0\n",
    "points$b4[points$b4 > 1] = 1.0\n",
    "points$b5[points$b5 > 1] = 1.0\n",
    "points$b8[points$b8 > 1] = 1.0"
   ]
  },
  {
   "cell_type": "markdown",
   "metadata": {},
   "source": [
    "<a id='Exploration'></a>\n",
    "## Первый взгляд на данные"
   ]
  },
  {
   "cell_type": "markdown",
   "metadata": {},
   "source": [
    "<a id='Reflectance'></a>\n",
    "### Отражающая способность различных объектов"
   ]
  },
  {
   "cell_type": "markdown",
   "metadata": {},
   "source": [
    "Построим ящики с усами по каждому каналу и сравним какие значения отражающей способности типичны для каждого типа поверхности."
   ]
  },
  {
   "cell_type": "code",
   "execution_count": 5,
   "metadata": {
    "collapsed": false
   },
   "outputs": [
    {
     "data": {
      "text/html": [
       "<strong>png:</strong> 2"
      ],
      "text/latex": [
       "\\textbf{png:} 2"
      ],
      "text/markdown": [
       "**png:** 2"
      ],
      "text/plain": [
       "png \n",
       "  2 "
      ]
     },
     "metadata": {},
     "output_type": "display_data"
    }
   ],
   "source": [
    "opar = par(no.readonly = TRUE)      # make a copy of current settings\n",
    "\n",
    "png(\"Img/CMASK/type_vs_bands.png\", width=728, height=728, units=\"px\")\n",
    "    par(mfrow = c(3,4))\n",
    "    boxplot(b1 ~ t, data=points, ylab='b1')\n",
    "    boxplot(b2 ~ t, data=points, ylab='b2')\n",
    "    boxplot(b3 ~ t, data=points, ylab='b3')\n",
    "    boxplot(b4 ~ t, data=points, ylab='b4')\n",
    "\n",
    "    boxplot(b5 ~ t, data=points, ylab='b5')\n",
    "    boxplot(b6 ~ t, data=points, ylab='b6')\n",
    "    boxplot(b7 ~ t, data=points, ylab='b7')\n",
    "    boxplot(b8 ~ t, data=points, ylab='b8')\n",
    "\n",
    "    boxplot(b9 ~ t, data=points, ylab='b9')\n",
    "    boxplot(b10 ~ t, data=points, ylab='b10')\n",
    "    boxplot(b11 ~ t, data=points, ylab='b11')\n",
    "    par(opar)\n",
    "dev.off()"
   ]
  },
  {
   "cell_type": "markdown",
   "metadata": {},
   "source": [
    "<img src=\"https://176.9.38.120/cruncher/files/deforestation/Img/CMASK/type_vs_bands.png\">\n",
    "\n",
    "* 1-й--5-й и 8-й каналы ведут себя примерно одинаково: яркости пикслеей, соотвествующие снегу, выше, чем яркости облачных пикселей. А яркость пикселей облаков и снега обычно выше, чем пикселей других объектов. Однако, нельзя провести четкой границы -- области яркостей пикселей различных объектов довольно сильно пересекаются. Видно, что в этих каналах распределение имеет длинный правый хвост: на графиках видны выбросы в верхней части ящиков. Возможно, что стоит преобразовать каналы, чтобы получить более симметричное распределение. Поскольку восьмой канал - панхроматический, то он несет в основном пространственную информацию, а ничего нового с точки зрения спектральной информации не привносит. Поэтому в дальнейшем он буде опущен при анализе.\n",
    "* 6-й--7-й каналы: высокое отражение в облачных областях, чуть меньшее в заснеженных и еще меньше для остальных объектов. Точно также данные показывают длинный правый хвост в распределении.\n",
    "* 9-й канал: очень длинный правый хвост в облачных пикселях. Значения облачных пикселей в целом значительно выше, чем у остальных. Поскольку этот канал был разработан для исследования атмосферных эффектов, то, возможно, этот канал будет одним из основных маркеров облако/не облако.\n",
    "* 10-й и 11-й каналы (температура) cхожи между собой: на них заметно, что температура облаков обычно выше, чем остальных объектов (зима?), хотя у облаков бросается в глаза очень длинный левый хвост распределения."
   ]
  },
  {
   "cell_type": "markdown",
   "metadata": {},
   "source": [
    "Преобразуем данные, чтобы получить более равномерные распределения. При этом выкинем из анализа 8-й канал, основную часть каналов прологарифмируем для избавления от длинных хвостов, 9-й канал возведем в степень, а 10-й и 11-й каналы оставим без изменений (длинный хвост только у облаков, а не у всего канала):"
   ]
  },
  {
   "cell_type": "code",
   "execution_count": 6,
   "metadata": {
    "collapsed": false
   },
   "outputs": [
    {
     "data": {
      "text/html": [
       "<strong>png:</strong> 2"
      ],
      "text/latex": [
       "\\textbf{png:} 2"
      ],
      "text/markdown": [
       "**png:** 2"
      ],
      "text/plain": [
       "png \n",
       "  2 "
      ]
     },
     "metadata": {},
     "output_type": "display_data"
    }
   ],
   "source": [
    "png(\"Img/CMASK/type_vs_logbands.png\", width=728, height=728, units=\"px\")\n",
    "    par(mfrow = c(2, 4))\n",
    "    boxplot(log(b1) ~ t, data=points, ylab='log(b1')\n",
    "    boxplot(log(b2) ~ t, data=points, ylab='log(b2')\n",
    "    boxplot(log(b3) ~ t, data=points, ylab='log(b3')\n",
    "    boxplot(log(b4) ~ t, data=points, ylab='log(b4')\n",
    "\n",
    "    boxplot(log(b5) ~ t, data=points, ylab='log(b5)')\n",
    "    boxplot(log(b6) ~ t, data=points, ylab='log(b6)')\n",
    "    boxplot(log(b7) ~ t, data=points, ylab='log(b7)')\n",
    "\n",
    "    boxplot(I(b9^0.5) ~ t, data=points, ylab='sqrt(b9)')\n",
    "    par(opar)\n",
    "dev.off()"
   ]
  },
  {
   "cell_type": "markdown",
   "metadata": {},
   "source": [
    "<img src=\"https://176.9.38.120/cruncher/files/deforestation/Img/CMASK/type_vs_logbands.png\">\n",
    "\n",
    "Видно, что распределения частично выровнялись, хотя местами по-прежнему остались длинные хвосты."
   ]
  },
  {
   "cell_type": "markdown",
   "metadata": {},
   "source": [
    "<a id='Reflectance-Scene'></a>\n",
    "### Зависимость от сцены"
   ]
  },
  {
   "cell_type": "markdown",
   "metadata": {},
   "source": [
    "Построим те же самые ящики с усами, но попробуем понять, насколько отличаются данные не только из-за объектов, но и из-за того, что они представлены в разных сценах."
   ]
  },
  {
   "cell_type": "code",
   "execution_count": 7,
   "metadata": {
    "collapsed": false
   },
   "outputs": [
    {
     "data": {
      "text/html": [
       "<strong>png:</strong> 2"
      ],
      "text/latex": [
       "\\textbf{png:} 2"
      ],
      "text/markdown": [
       "**png:** 2"
      ],
      "text/plain": [
       "png \n",
       "  2 "
      ]
     },
     "metadata": {},
     "output_type": "display_data"
    }
   ],
   "source": [
    "png(\"Img/CMASK/scene_vs_logbands.png\", width=728, height=728, units=\"px\")\n",
    "    par(mfrow = c(3, 4))\n",
    "    boxplot(log(b1) ~ scene, data=points, ylab='log(b1)')\n",
    "    boxplot(log(b2) ~ scene, data=points, ylab='log(b2)')\n",
    "    boxplot(log(b3) ~ scene, data=points, ylab='log(b3)')\n",
    "    boxplot(log(b4) ~ scene, data=points, ylab='log(b4)')\n",
    "\n",
    "    boxplot(log(b5) ~ scene, data=points, ylab='log(b5)')\n",
    "    boxplot(log(b6) ~ scene, data=points, ylab='log(b6)')\n",
    "    boxplot(log(b7) ~ scene, data=points, ylab='log(b7)')\n",
    "\n",
    "    boxplot(I(b9^0.5) ~ scene, data=points, ylab='sqrt(b9)')\n",
    "\n",
    "    boxplot(b10 ~ scene, data=points, ylab='b10')\n",
    "    boxplot(b11 ~ scene, data=points, ylab='b11')\n",
    "\n",
    "    par(opar)\n",
    "dev.off()"
   ]
  },
  {
   "cell_type": "markdown",
   "metadata": {},
   "source": [
    "<img src=\"https://176.9.38.120/cruncher/files/deforestation/Img/CMASK/scene_vs_logbands.png\">\n",
    "\n",
    "Итак, мы видим, что сцена 2 (LC81130272015356LGN00) более яркая, чем сцена 1 (LC81120282015365LGN00) во всех каналах. Вопрос в том, насколько велика эта вариативность данных, которая вносится разными условиями съемки, и не может ли оказаться так, что условия съемки влияют на яркость пикселей гораздо больше, чем тип обеъкта (см., например, различия якркостей в 10-м и 11-м каналах).\n",
    "\n",
    "Для того, чтобы ответить на этот вопрос построим ящики для отдельных каналов."
   ]
  },
  {
   "cell_type": "markdown",
   "metadata": {},
   "source": [
    "#### Канал B1\n",
    "\n",
    "В первом канале видно, что яркость снега может меняться в достаточно широких пределах в зависимости от сцены, настолько, что она яркости облаков и снежных участков могут пересекаться в большой степени."
   ]
  },
  {
   "cell_type": "code",
   "execution_count": 8,
   "metadata": {
    "collapsed": false
   },
   "outputs": [
    {
     "data": {
      "text/html": [
       "<strong>png:</strong> 2"
      ],
      "text/latex": [
       "\\textbf{png:} 2"
      ],
      "text/markdown": [
       "**png:** 2"
      ],
      "text/plain": [
       "png \n",
       "  2 "
      ]
     },
     "metadata": {},
     "output_type": "display_data"
    }
   ],
   "source": [
    "png(\"Img/CMASK/scene_type_vs_b1.png\", width=728, height=728, units=\"px\")\n",
    "    boxplot(log(b1) ~ scene+t, data=points, ylab='log(b1)')\n",
    "dev.off()"
   ]
  },
  {
   "cell_type": "markdown",
   "metadata": {},
   "source": [
    "<img src=\"https://176.9.38.120/cruncher/files/deforestation/Img/CMASK/scene_type_vs_b1.png\">"
   ]
  },
  {
   "cell_type": "markdown",
   "metadata": {},
   "source": [
    "#### Канал B2\n",
    "\n",
    "Аналогичная картина и во втором канале."
   ]
  },
  {
   "cell_type": "code",
   "execution_count": 9,
   "metadata": {
    "collapsed": false
   },
   "outputs": [
    {
     "data": {
      "text/html": [
       "<strong>png:</strong> 2"
      ],
      "text/latex": [
       "\\textbf{png:} 2"
      ],
      "text/markdown": [
       "**png:** 2"
      ],
      "text/plain": [
       "png \n",
       "  2 "
      ]
     },
     "metadata": {},
     "output_type": "display_data"
    }
   ],
   "source": [
    "png(\"Img/CMASK/scene_type_vs_b2.png\", width=728, height=728, units=\"px\")\n",
    "    boxplot(log(b2) ~ scene+t, data=points, ylab='log(b2)')\n",
    "dev.off()"
   ]
  },
  {
   "cell_type": "markdown",
   "metadata": {},
   "source": [
    "<img src=\"https://176.9.38.120/cruncher/files/deforestation/Img/CMASK/scene_type_vs_b2.png\">"
   ]
  },
  {
   "cell_type": "markdown",
   "metadata": {},
   "source": [
    "#### Канал B3\n",
    "\n",
    "Аналогично и в третьем:"
   ]
  },
  {
   "cell_type": "code",
   "execution_count": 10,
   "metadata": {
    "collapsed": false
   },
   "outputs": [
    {
     "data": {
      "text/html": [
       "<strong>png:</strong> 2"
      ],
      "text/latex": [
       "\\textbf{png:} 2"
      ],
      "text/markdown": [
       "**png:** 2"
      ],
      "text/plain": [
       "png \n",
       "  2 "
      ]
     },
     "metadata": {},
     "output_type": "display_data"
    }
   ],
   "source": [
    "png(\"Img/CMASK/scene_type_vs_b3.png\", width=728, height=728, units=\"px\")\n",
    "    boxplot(log(b3) ~ scene+t, data=points, ylab='log(b3)')\n",
    "dev.off()"
   ]
  },
  {
   "cell_type": "markdown",
   "metadata": {},
   "source": [
    "<img src=\"https://176.9.38.120/cruncher/files/deforestation/Img/CMASK/scene_type_vs_b3.png\">"
   ]
  },
  {
   "cell_type": "markdown",
   "metadata": {},
   "source": [
    "#### Канал B4"
   ]
  },
  {
   "cell_type": "code",
   "execution_count": 11,
   "metadata": {
    "collapsed": false
   },
   "outputs": [
    {
     "data": {
      "text/html": [
       "<strong>png:</strong> 2"
      ],
      "text/latex": [
       "\\textbf{png:} 2"
      ],
      "text/markdown": [
       "**png:** 2"
      ],
      "text/plain": [
       "png \n",
       "  2 "
      ]
     },
     "metadata": {},
     "output_type": "display_data"
    }
   ],
   "source": [
    "png(\"Img/CMASK/scene_type_vs_b4.png\", width=728, height=728, units=\"px\")\n",
    "    boxplot(log(b4) ~ scene+t, data=points, ylab='log(b4)')\n",
    "dev.off()"
   ]
  },
  {
   "cell_type": "markdown",
   "metadata": {},
   "source": [
    "<img src=\"https://176.9.38.120/cruncher/files/deforestation/Img/CMASK/scene_type_vs_b4.png\">"
   ]
  },
  {
   "cell_type": "markdown",
   "metadata": {},
   "source": [
    "#### Канал B5"
   ]
  },
  {
   "cell_type": "code",
   "execution_count": 12,
   "metadata": {
    "collapsed": false
   },
   "outputs": [
    {
     "data": {
      "text/html": [
       "<strong>png:</strong> 2"
      ],
      "text/latex": [
       "\\textbf{png:} 2"
      ],
      "text/markdown": [
       "**png:** 2"
      ],
      "text/plain": [
       "png \n",
       "  2 "
      ]
     },
     "metadata": {},
     "output_type": "display_data"
    }
   ],
   "source": [
    "png(\"Img/CMASK/scene_type_vs_b5.png\", width=728, height=728, units=\"px\")\n",
    "    boxplot(log(b5) ~ scene+t, data=points, ylab='log(b5)')\n",
    "dev.off()"
   ]
  },
  {
   "cell_type": "markdown",
   "metadata": {},
   "source": [
    "<img src=\"https://176.9.38.120/cruncher/files/deforestation/Img/CMASK/scene_type_vs_b5.png\">"
   ]
  },
  {
   "cell_type": "markdown",
   "metadata": {},
   "source": [
    "#### Канал B6\n",
    "\n",
    "Зато 6-й канал, похоже, меньше зависит от сцены, чем предыдущие:"
   ]
  },
  {
   "cell_type": "code",
   "execution_count": 13,
   "metadata": {
    "collapsed": false
   },
   "outputs": [
    {
     "data": {
      "text/html": [
       "<strong>png:</strong> 2"
      ],
      "text/latex": [
       "\\textbf{png:} 2"
      ],
      "text/markdown": [
       "**png:** 2"
      ],
      "text/plain": [
       "png \n",
       "  2 "
      ]
     },
     "metadata": {},
     "output_type": "display_data"
    }
   ],
   "source": [
    "png(\"Img/CMASK/scene_type_vs_b6.png\", width=728, height=728, units=\"px\")\n",
    "    boxplot(log(b6) ~ scene+t, data=points, ylab='log(b6)')\n",
    "dev.off()"
   ]
  },
  {
   "cell_type": "markdown",
   "metadata": {},
   "source": [
    "<img src=\"https://176.9.38.120/cruncher/files/deforestation/Img/CMASK/scene_type_vs_b6.png\">"
   ]
  },
  {
   "cell_type": "markdown",
   "metadata": {},
   "source": [
    "#### Канал B7\n",
    "\n",
    "Очень похож на 6-й канал, но вариативность данных внутри классов в нем чуть меньше."
   ]
  },
  {
   "cell_type": "code",
   "execution_count": 14,
   "metadata": {
    "collapsed": false
   },
   "outputs": [
    {
     "data": {
      "text/html": [
       "<strong>png:</strong> 2"
      ],
      "text/latex": [
       "\\textbf{png:} 2"
      ],
      "text/markdown": [
       "**png:** 2"
      ],
      "text/plain": [
       "png \n",
       "  2 "
      ]
     },
     "metadata": {},
     "output_type": "display_data"
    }
   ],
   "source": [
    "png(\"Img/CMASK/scene_type_vs_b7.png\", width=728, height=728, units=\"px\")\n",
    "    boxplot(log(b7) ~ scene+t, data=points, ylab='log(b7)')\n",
    "dev.off()"
   ]
  },
  {
   "cell_type": "markdown",
   "metadata": {},
   "source": [
    "<img src=\"https://176.9.38.120/cruncher/files/deforestation/Img/CMASK/scene_type_vs_b7.png\">"
   ]
  },
  {
   "cell_type": "markdown",
   "metadata": {},
   "source": [
    "#### Канал B9\n",
    "\n",
    "В 9-м канале вариативность яркостей облачных пикселей между сценами очень велика. Похоже, что от сцены тут зависит больше, чем от типа объекта."
   ]
  },
  {
   "cell_type": "code",
   "execution_count": 15,
   "metadata": {
    "collapsed": false
   },
   "outputs": [
    {
     "data": {
      "text/html": [
       "<strong>png:</strong> 2"
      ],
      "text/latex": [
       "\\textbf{png:} 2"
      ],
      "text/markdown": [
       "**png:** 2"
      ],
      "text/plain": [
       "png \n",
       "  2 "
      ]
     },
     "metadata": {},
     "output_type": "display_data"
    }
   ],
   "source": [
    "png(\"Img/CMASK/scene_type_vs_b9.png\", width=728, height=728, units=\"px\")\n",
    "    boxplot(I(b9^0.5) ~ scene+t, data=points, ylab='sqrt(b9)')\n",
    "dev.off()"
   ]
  },
  {
   "cell_type": "markdown",
   "metadata": {},
   "source": [
    "<img src=\"https://176.9.38.120/cruncher/files/deforestation/Img/CMASK/scene_type_vs_b9.png\">"
   ]
  },
  {
   "cell_type": "markdown",
   "metadata": {},
   "source": [
    "#### Канал B10\n",
    "\n",
    "Аналогичная проблема облачных пикселей и в 10-м канале: от сцены зависит больше, чем от типа объекта, особенно ярко это проявляется для облаков."
   ]
  },
  {
   "cell_type": "code",
   "execution_count": 16,
   "metadata": {
    "collapsed": false
   },
   "outputs": [
    {
     "data": {
      "text/html": [
       "<strong>png:</strong> 2"
      ],
      "text/latex": [
       "\\textbf{png:} 2"
      ],
      "text/markdown": [
       "**png:** 2"
      ],
      "text/plain": [
       "png \n",
       "  2 "
      ]
     },
     "metadata": {},
     "output_type": "display_data"
    }
   ],
   "source": [
    "png(\"Img/CMASK/scene_type_vs_b10.png\", width=728, height=728, units=\"px\")\n",
    "    boxplot(b10 ~ scene+t, data=points, ylab='b10')\n",
    "dev.off()"
   ]
  },
  {
   "cell_type": "markdown",
   "metadata": {},
   "source": [
    "<img src=\"https://176.9.38.120/cruncher/files/deforestation/Img/CMASK/scene_type_vs_b10.png\">"
   ]
  },
  {
   "cell_type": "markdown",
   "metadata": {},
   "source": [
    "#### Канал B11\n",
    "\n",
    "Та же самая проблема: от сцены зависит больше, чем от типа объекта."
   ]
  },
  {
   "cell_type": "code",
   "execution_count": 17,
   "metadata": {
    "collapsed": false
   },
   "outputs": [
    {
     "data": {
      "text/html": [
       "<strong>png:</strong> 2"
      ],
      "text/latex": [
       "\\textbf{png:} 2"
      ],
      "text/markdown": [
       "**png:** 2"
      ],
      "text/plain": [
       "png \n",
       "  2 "
      ]
     },
     "metadata": {},
     "output_type": "display_data"
    }
   ],
   "source": [
    "png(\"Img/CMASK/scene_type_vs_b11.png\", width=728, height=728, units=\"px\")\n",
    "    boxplot(b11 ~ scene+t, data=points, ylab='b11')\n",
    "dev.off()"
   ]
  },
  {
   "cell_type": "markdown",
   "metadata": {},
   "source": [
    "<img src=\"https://176.9.38.120/cruncher/files/deforestation/Img/CMASK/scene_type_vs_b11.png\">"
   ]
  },
  {
   "cell_type": "markdown",
   "metadata": {},
   "source": [
    "<a id='Exploration-Resume'></a>\n",
    "### Вывод\n",
    "\n",
    " * Для различения облаков и снега, видимо, необходимо использовать каналы 1--7. В каналах 9--11 также содержится полезная информация, но воспользоваться ей будет сложнее из-за большей вариативности из-за условий съемки.\n",
    " * Каналы 1--5 и каналы 6--7 образуют две группы переменных. Переменные в каждой группе ведут себя схожим образом (поведение каналов 1--5 очень похоже между собой для выбранных классов; аналогично с каналами 6 и 7). Поскольку многие методы очень чувствительны к корреляции объясняющих переменных, то есть смысл подумать о том, чтобы выбрать по одному каналу из каждой группы. Возможно такое уменьшение числа переменных (но и корреляции между ними) даст положительный эффект на точность распознавания."
   ]
  },
  {
   "cell_type": "markdown",
   "metadata": {},
   "source": [
    "<a id='SimpleModel'></a>\n",
    "## Простая модель"
   ]
  },
  {
   "cell_type": "markdown",
   "metadata": {},
   "source": [
    "В этом разделе построим простейшую модель на основе логистической регрессии и посмотрим, насколько она решает задачу разделения интересующих нас объектов. Пойдем по следующей схеме работы:\n",
    "\n",
    "1. Предварительный выбор объясняющих переменных. Объясняющих переменных (каналов, в нашем случае) много, но они сильно коррелируют между собой. Для большей устойчивости решения выберем несколько переменных, остальные пока проигнорируем (на следующем этапе оценим правильность выбора переменных).\n",
    "2. Создание фиктивных переменных. Поскольку у нас выделено три объекта (класс \"все остальное\" назовем условно одним объектом), и они не упорядочены, то нам понадобится создать фиктивные переменные, которые мы будем использовать.\n",
    "3. Построение моделей, отражающих связь между объясняющими переменными и зависимыми.\n",
    "4. Исследуем модели, проверив, выполняются ли условия, на которые опирается процедура построения логистической регрессии.\n",
    "5. Посмотрим, насколько изменится качество модели, если выбрать другой набор объясняющих переменных."
   ]
  },
  {
   "cell_type": "markdown",
   "metadata": {},
   "source": [
    "<a id='CovariatesSelection'></a>\n",
    "### Предварительный выбор объясняющих переменных"
   ]
  },
  {
   "cell_type": "markdown",
   "metadata": {},
   "source": [
    "Посмотрим еще раз на взаимную корреляциию объясняющих переменных (для ускорения отрисовки сделаем небольшую подвыборку данных). "
   ]
  },
  {
   "cell_type": "code",
   "execution_count": 18,
   "metadata": {
    "collapsed": false
   },
   "outputs": [
    {
     "data": {
      "text/html": [
       "<strong>png:</strong> 2"
      ],
      "text/latex": [
       "\\textbf{png:} 2"
      ],
      "text/markdown": [
       "**png:** 2"
      ],
      "text/plain": [
       "png \n",
       "  2 "
      ]
     },
     "metadata": {},
     "output_type": "display_data"
    }
   ],
   "source": [
    "psample_ind = sample(1:length(points[, 1]), size=500)\n",
    "psample = points[psample_ind, ]\n",
    "\n",
    "png(\"Img/CMASK/all_bands.png\", width=728, height=728, units=\"px\")\n",
    "  pairs(~log(b1)+log(b2)+log(b3)+log(b4)+log(b5)+log(b6)+log(b7)+sqrt(b9)+b10+b11, data=psample, pch=19, cex=0.1) \n",
    "dev.off()"
   ]
  },
  {
   "cell_type": "markdown",
   "metadata": {},
   "source": [
    "<img src=\"https://176.9.38.120/cruncher/files/deforestation/Img/CMASK/all_bands.png\">\n",
    "\n",
    "Итак, мы видим, что очень сильна корреляция между 6-м и 7-м каналами, затем между 10-м и 11-м каналами, а также между 1-м, 2-м, 3-м и 4-м каналами, на эти 4 канала довольно похож 5-й, но все-таки, видимо, его следует выделить в отдельную группу. Ту же самую картину мы увидим, если расчитаем коэффициент корреляции между этими переменными:"
   ]
  },
  {
   "cell_type": "code",
   "execution_count": 19,
   "metadata": {
    "collapsed": false
   },
   "outputs": [
    {
     "data": {
      "text/html": [
       "<table>\n",
       "<thead><tr><th></th><th scope=col>log.points.b1.</th><th scope=col>log.points.b2.</th><th scope=col>log.points.b3.</th><th scope=col>log.points.b4.</th><th scope=col>log.points.b5.</th><th scope=col>log.points.b6.</th><th scope=col>log.points.b7.</th><th scope=col>sqrt.points.b9...0.001.</th><th scope=col>points.b10</th><th scope=col>points.b11</th></tr></thead>\n",
       "<tbody>\n",
       "\t<tr><th scope=row>log.points.b1.</th><td>1.00000000</td><td>0.99643580</td><td>0.97639013</td><td>0.95335102</td><td>0.77517809</td><td>0.56200970</td><td>0.62302423</td><td>0.29965771</td><td>0.01198254</td><td>0.02497259</td></tr>\n",
       "\t<tr><th scope=row>log.points.b2.</th><td>0.99643580</td><td>1.00000000</td><td>0.99003616</td><td>0.97372490</td><td>0.81425120</td><td>0.60139706</td><td>0.66104285</td><td>0.30740816</td><td>0.01601809</td><td>0.02772027</td></tr>\n",
       "\t<tr><th scope=row>log.points.b3.</th><td>0.97639013</td><td>0.99003616</td><td>1.00000000</td><td>0.99513008</td><td>0.87490047</td><td>0.66889060</td><td>0.72503729</td><td>0.32957731</td><td>0.03250238</td><td>0.03846062</td></tr>\n",
       "\t<tr><th scope=row>log.points.b4.</th><td>0.95335102</td><td>0.97372490</td><td>0.99513008</td><td>1.00000000</td><td>0.90503815</td><td>0.71378830</td><td>0.76718334</td><td>0.32889596</td><td>0.04236531</td><td>0.04731348</td></tr>\n",
       "\t<tr><th scope=row>log.points.b5.</th><td>0.7751781</td><td>0.8142512</td><td>0.8749005</td><td>0.9050381</td><td>1.0000000</td><td>0.8445939</td><td>0.8719638</td><td>0.3426454</td><td>0.1084817</td><td>0.1027279</td></tr>\n",
       "\t<tr><th scope=row>log.points.b6.</th><td>0.56200970</td><td>0.60139706</td><td>0.66889060</td><td>0.71378830</td><td>0.84459391</td><td>1.00000000</td><td>0.99188780</td><td>0.44287939</td><td>0.08266380</td><td>0.06304586</td></tr>\n",
       "\t<tr><th scope=row>log.points.b7.</th><td>0.62302423</td><td>0.66104285</td><td>0.72503729</td><td>0.76718334</td><td>0.87196375</td><td>0.99188780</td><td>1.00000000</td><td>0.44975283</td><td>0.05640044</td><td>0.03886842</td></tr>\n",
       "\t<tr><th scope=row>sqrt.points.b9...0.001.</th><td> 0.2996577</td><td> 0.3074082</td><td> 0.3295773</td><td> 0.3288960</td><td> 0.3426454</td><td> 0.4428794</td><td> 0.4497528</td><td> 1.0000000</td><td>-0.3242166</td><td>-0.4123782</td></tr>\n",
       "\t<tr><th scope=row>points.b10</th><td> 0.01198254</td><td> 0.01601809</td><td> 0.03250238</td><td> 0.04236531</td><td> 0.10848175</td><td> 0.08266380</td><td> 0.05640044</td><td>-0.32421662</td><td> 1.00000000</td><td> 0.98045369</td></tr>\n",
       "\t<tr><th scope=row>points.b11</th><td> 0.02497259</td><td> 0.02772027</td><td> 0.03846062</td><td> 0.04731348</td><td> 0.10272787</td><td> 0.06304586</td><td> 0.03886842</td><td>-0.41237817</td><td> 0.98045369</td><td> 1.00000000</td></tr>\n",
       "</tbody>\n",
       "</table>\n"
      ],
      "text/latex": [
       "\\begin{tabular}{r|llllllllll}\n",
       "  & log.points.b1. & log.points.b2. & log.points.b3. & log.points.b4. & log.points.b5. & log.points.b6. & log.points.b7. & sqrt.points.b9...0.001. & points.b10 & points.b11\\\\\n",
       "\\hline\n",
       "\tlog.points.b1. & 1.00000000 & 0.99643580 & 0.97639013 & 0.95335102 & 0.77517809 & 0.56200970 & 0.62302423 & 0.29965771 & 0.01198254 & 0.02497259\\\\\n",
       "\tlog.points.b2. & 0.99643580 & 1.00000000 & 0.99003616 & 0.97372490 & 0.81425120 & 0.60139706 & 0.66104285 & 0.30740816 & 0.01601809 & 0.02772027\\\\\n",
       "\tlog.points.b3. & 0.97639013 & 0.99003616 & 1.00000000 & 0.99513008 & 0.87490047 & 0.66889060 & 0.72503729 & 0.32957731 & 0.03250238 & 0.03846062\\\\\n",
       "\tlog.points.b4. & 0.95335102 & 0.97372490 & 0.99513008 & 1.00000000 & 0.90503815 & 0.71378830 & 0.76718334 & 0.32889596 & 0.04236531 & 0.04731348\\\\\n",
       "\tlog.points.b5. & 0.7751781 & 0.8142512 & 0.8749005 & 0.9050381 & 1.0000000 & 0.8445939 & 0.8719638 & 0.3426454 & 0.1084817 & 0.1027279\\\\\n",
       "\tlog.points.b6. & 0.56200970 & 0.60139706 & 0.66889060 & 0.71378830 & 0.84459391 & 1.00000000 & 0.99188780 & 0.44287939 & 0.08266380 & 0.06304586\\\\\n",
       "\tlog.points.b7. & 0.62302423 & 0.66104285 & 0.72503729 & 0.76718334 & 0.87196375 & 0.99188780 & 1.00000000 & 0.44975283 & 0.05640044 & 0.03886842\\\\\n",
       "\tsqrt.points.b9...0.001. &  0.2996577 &  0.3074082 &  0.3295773 &  0.3288960 &  0.3426454 &  0.4428794 &  0.4497528 &  1.0000000 & -0.3242166 & -0.4123782\\\\\n",
       "\tpoints.b10 &  0.01198254 &  0.01601809 &  0.03250238 &  0.04236531 &  0.10848175 &  0.08266380 &  0.05640044 & -0.32421662 &  1.00000000 &  0.98045369\\\\\n",
       "\tpoints.b11 &  0.02497259 &  0.02772027 &  0.03846062 &  0.04731348 &  0.10272787 &  0.06304586 &  0.03886842 & -0.41237817 &  0.98045369 &  1.00000000\\\\\n",
       "\\end{tabular}\n"
      ],
      "text/markdown": [
       "1. 1\n",
       "2. 0.996435796889246\n",
       "3. 0.9763901319868\n",
       "4. 0.953351023484513\n",
       "5. 0.775178088109431\n",
       "6. 0.562009697179605\n",
       "7. 0.623024234480269\n",
       "8. 0.299657709859052\n",
       "9. 0.0119825356248786\n",
       "10. 0.024972586289897\n",
       "11. 0.996435796889246\n",
       "12. 1\n",
       "13. 0.990036159584728\n",
       "14. 0.973724897010808\n",
       "15. 0.814251197688858\n",
       "16. 0.60139706422661\n",
       "17. 0.661042853893137\n",
       "18. 0.307408159137716\n",
       "19. 0.0160180938753695\n",
       "20. 0.0277202747715705\n",
       "21. 0.9763901319868\n",
       "22. 0.990036159584728\n",
       "23. 1\n",
       "24. 0.995130084766264\n",
       "25. 0.874900467417883\n",
       "26. 0.668890599599743\n",
       "27. 0.725037286044434\n",
       "28. 0.329577307600681\n",
       "29. 0.0325023788273763\n",
       "30. 0.0384606215913988\n",
       "31. 0.953351023484513\n",
       "32. 0.973724897010808\n",
       "33. 0.995130084766264\n",
       "34. 1\n",
       "35. 0.905038147543162\n",
       "36. 0.713788295943907\n",
       "37. 0.767183342051756\n",
       "38. 0.32889595974889\n",
       "39. 0.0423653136674107\n",
       "40. 0.0473134753984493\n",
       "41. 0.775178088109431\n",
       "42. 0.814251197688858\n",
       "43. 0.874900467417883\n",
       "44. 0.905038147543162\n",
       "45. 1\n",
       "46. 0.844593909732359\n",
       "47. 0.87196375168203\n",
       "48. 0.342645431975565\n",
       "49. 0.108481749418647\n",
       "50. 0.102727873230643\n",
       "51. 0.562009697179605\n",
       "52. 0.60139706422661\n",
       "53. 0.668890599599743\n",
       "54. 0.713788295943907\n",
       "55. 0.844593909732359\n",
       "56. 1\n",
       "57. 0.991887803004992\n",
       "58. 0.442879385641016\n",
       "59. 0.0826637982205459\n",
       "60. 0.0630458561570635\n",
       "61. 0.623024234480269\n",
       "62. 0.661042853893137\n",
       "63. 0.725037286044434\n",
       "64. 0.767183342051756\n",
       "65. 0.87196375168203\n",
       "66. 0.991887803004992\n",
       "67. 1\n",
       "68. 0.44975282696785\n",
       "69. 0.056400437610034\n",
       "70. 0.0388684218449842\n",
       "71. 0.299657709859052\n",
       "72. 0.307408159137716\n",
       "73. 0.329577307600681\n",
       "74. 0.32889595974889\n",
       "75. 0.342645431975565\n",
       "76. 0.442879385641016\n",
       "77. 0.44975282696785\n",
       "78. 1\n",
       "79. -0.324216618410855\n",
       "80. -0.412378170169657\n",
       "81. 0.0119825356248786\n",
       "82. 0.0160180938753695\n",
       "83. 0.0325023788273763\n",
       "84. 0.0423653136674107\n",
       "85. 0.108481749418647\n",
       "86. 0.0826637982205459\n",
       "87. 0.056400437610034\n",
       "88. -0.324216618410855\n",
       "89. 1\n",
       "90. 0.980453688977778\n",
       "91. 0.024972586289897\n",
       "92. 0.0277202747715705\n",
       "93. 0.0384606215913988\n",
       "94. 0.0473134753984493\n",
       "95. 0.102727873230643\n",
       "96. 0.0630458561570635\n",
       "97. 0.0388684218449842\n",
       "98. -0.412378170169657\n",
       "99. 0.980453688977778\n",
       "100. 1\n",
       "\n",
       "\n"
      ],
      "text/plain": [
       "                        log.points.b1. log.points.b2. log.points.b3.\n",
       "log.points.b1.              1.00000000     0.99643580     0.97639013\n",
       "log.points.b2.              0.99643580     1.00000000     0.99003616\n",
       "log.points.b3.              0.97639013     0.99003616     1.00000000\n",
       "log.points.b4.              0.95335102     0.97372490     0.99513008\n",
       "log.points.b5.              0.77517809     0.81425120     0.87490047\n",
       "log.points.b6.              0.56200970     0.60139706     0.66889060\n",
       "log.points.b7.              0.62302423     0.66104285     0.72503729\n",
       "sqrt.points.b9...0.001.     0.29965771     0.30740816     0.32957731\n",
       "points.b10                  0.01198254     0.01601809     0.03250238\n",
       "points.b11                  0.02497259     0.02772027     0.03846062\n",
       "                        log.points.b4. log.points.b5. log.points.b6.\n",
       "log.points.b1.              0.95335102      0.7751781     0.56200970\n",
       "log.points.b2.              0.97372490      0.8142512     0.60139706\n",
       "log.points.b3.              0.99513008      0.8749005     0.66889060\n",
       "log.points.b4.              1.00000000      0.9050381     0.71378830\n",
       "log.points.b5.              0.90503815      1.0000000     0.84459391\n",
       "log.points.b6.              0.71378830      0.8445939     1.00000000\n",
       "log.points.b7.              0.76718334      0.8719638     0.99188780\n",
       "sqrt.points.b9...0.001.     0.32889596      0.3426454     0.44287939\n",
       "points.b10                  0.04236531      0.1084817     0.08266380\n",
       "points.b11                  0.04731348      0.1027279     0.06304586\n",
       "                        log.points.b7. sqrt.points.b9...0.001.  points.b10\n",
       "log.points.b1.              0.62302423               0.2996577  0.01198254\n",
       "log.points.b2.              0.66104285               0.3074082  0.01601809\n",
       "log.points.b3.              0.72503729               0.3295773  0.03250238\n",
       "log.points.b4.              0.76718334               0.3288960  0.04236531\n",
       "log.points.b5.              0.87196375               0.3426454  0.10848175\n",
       "log.points.b6.              0.99188780               0.4428794  0.08266380\n",
       "log.points.b7.              1.00000000               0.4497528  0.05640044\n",
       "sqrt.points.b9...0.001.     0.44975283               1.0000000 -0.32421662\n",
       "points.b10                  0.05640044              -0.3242166  1.00000000\n",
       "points.b11                  0.03886842              -0.4123782  0.98045369\n",
       "                         points.b11\n",
       "log.points.b1.           0.02497259\n",
       "log.points.b2.           0.02772027\n",
       "log.points.b3.           0.03846062\n",
       "log.points.b4.           0.04731348\n",
       "log.points.b5.           0.10272787\n",
       "log.points.b6.           0.06304586\n",
       "log.points.b7.           0.03886842\n",
       "sqrt.points.b9...0.001. -0.41237817\n",
       "points.b10               0.98045369\n",
       "points.b11               1.00000000"
      ]
     },
     "metadata": {},
     "output_type": "display_data"
    }
   ],
   "source": [
    "cor(data.frame(log(points$b1), log(points$b2), log(points$b3), log(points$b4), log(points$b5),\n",
    "    log(points$b6), log(points$b7), sqrt(points$b9+0.001), points$b10, points$b11))"
   ]
  },
  {
   "cell_type": "markdown",
   "metadata": {},
   "source": [
    "<a id='DummyVars'></a>\n",
    "### Фиктивные переменные"
   ]
  },
  {
   "cell_type": "markdown",
   "metadata": {},
   "source": [
    "Возможно, есть хороший способ создания фиктивных переменных вместо одной зависимой переменной, но я всю процедуру сделаю руками: введу три новых переменных answ1, answ2, answ3 которые будут кодировать тот факт, что пиксель принадлежит облачному, снежному или иному участку снимка соответственно. Для этого создам новый набор данных, в котором будут содержаться только интересующие нас переменные."
   ]
  },
  {
   "cell_type": "code",
   "execution_count": 20,
   "metadata": {
    "collapsed": true
   },
   "outputs": [],
   "source": [
    "pdata = data.frame(answ1=(points$t=='Cloud'), answ2=(points$t=='Snow'), answ3=(points$t=='Other'), \n",
    "                   b1=points$b1, b2=points$b2, b3=points$b3, b4=points$b4, b5=points$b5, b6=points$b6, \n",
    "                   b7=points$b7, b9=points$b9, b10=points$b10, b11=points$b11, scene=points$scene\n",
    "                  )"
   ]
  },
  {
   "cell_type": "markdown",
   "metadata": {},
   "source": [
    "<a id='Modelling'></a>\n",
    "### Построение моделей"
   ]
  },
  {
   "cell_type": "markdown",
   "metadata": {},
   "source": [
    "Построим три модели (по числу фиктивных переменных) на базе логистической регрессии. Также не будем использовать преобразование переменных на этом этапе построения моделей. Начанем с определения того, что пиксель является облаком."
   ]
  },
  {
   "cell_type": "markdown",
   "metadata": {},
   "source": [
    "<a id='Clouds'></a>\n",
    "#### Облако-не-облако"
   ]
  },
  {
   "cell_type": "markdown",
   "metadata": {},
   "source": [
    "<a id='CloudsModel'></a>\n",
    "##### Модель"
   ]
  },
  {
   "cell_type": "markdown",
   "metadata": {},
   "source": [
    "Построим модель определяющую, явлеяется ли данный пиксель облаком и найдем те каналы, которые дают наибольшее качество модели (как отмечалось выше, среди имеющихся объясняющих переменных очень высокая корреляция). Для начала построим модель со всеми имеющимися переменными, включая название сцены."
   ]
  },
  {
   "cell_type": "code",
   "execution_count": 21,
   "metadata": {
    "collapsed": false
   },
   "outputs": [
    {
     "name": "stderr",
     "output_type": "stream",
     "text": [
      "Warning message:\n",
      ": glm.fit: fitted probabilities numerically 0 or 1 occurred"
     ]
    },
    {
     "data": {
      "text/plain": [
       "\n",
       "Call:\n",
       "glm(formula = answ1 ~ b1 + b2 + b3 + b4 + b5 + b6 + b7 + b9 + \n",
       "    b10 + b11 + scene, family = binomial, data = pdata)\n",
       "\n",
       "Deviance Residuals: \n",
       "    Min       1Q   Median       3Q      Max  \n",
       "-4.3471  -0.0178  -0.0075  -0.0043   3.7550  \n",
       "\n",
       "Coefficients:\n",
       "            Estimate Std. Error z value Pr(>|z|)    \n",
       "(Intercept)  -9.2134    12.6052  -0.731  0.46483    \n",
       "b1            3.8466    36.9262   0.104  0.91703    \n",
       "b2           14.6088    37.8190   0.386  0.69929    \n",
       "b3          -99.3805    39.7492  -2.500  0.01241 *  \n",
       "b4           85.4198    27.3904   3.119  0.00182 ** \n",
       "b5          -37.1751     3.9036  -9.523  < 2e-16 ***\n",
       "b6          -10.9699    12.0687  -0.909  0.36337    \n",
       "b7          112.6315    14.7005   7.662 1.83e-14 ***\n",
       "b9           52.7175     8.2705   6.374 1.84e-10 ***\n",
       "b10          -0.1721     0.1278  -1.347  0.17794    \n",
       "b11           0.1736     0.1287   1.349  0.17749    \n",
       "sceneS2       4.5265     0.5016   9.023  < 2e-16 ***\n",
       "---\n",
       "Signif. codes:  0 ‘***’ 0.001 ‘**’ 0.01 ‘*’ 0.05 ‘.’ 0.1 ‘ ’ 1\n",
       "\n",
       "(Dispersion parameter for binomial family taken to be 1)\n",
       "\n",
       "    Null deviance: 14053.6  on 50538  degrees of freedom\n",
       "Residual deviance:  1289.2  on 50527  degrees of freedom\n",
       "AIC: 1313.2\n",
       "\n",
       "Number of Fisher Scoring iterations: 11\n"
      ]
     },
     "metadata": {},
     "output_type": "display_data"
    }
   ],
   "source": [
    "simple.glm1 = glm(answ1~b1 + b2 + b3 + b4 + b5 + b6 +b7 + b9 + b10 + b11 + scene, data=pdata, family=binomial)\n",
    "summary(simple.glm1)"
   ]
  },
  {
   "cell_type": "markdown",
   "metadata": {},
   "source": [
    "Оценкой качества модели может служить несколько параметров, например отклонения (остатки, Deviance) прогнозируемых величин от тех, что зафиксированы на самом деле, другая оценка качества - Akaike Information Criterion (AIC), в котором учитывается как качество подгонки модели, так и ее сложность.  Если оринтироваться на Akaike Information Criterion, то AIC коэффициент у simple.glm2 равен 1313.2 (чем меньше, тем лучше). Но мы видим, что часть коэффициентов регрессии статистически не значимы."
   ]
  },
  {
   "cell_type": "markdown",
   "metadata": {},
   "source": [
    "Последовательно будем избавляться от \"лишних\" коэффициентов регрессии. Для этого в цикле будем удалять по одному коэффициенту и оценивать, как изменился результат. Качество будем оценивать по отклонениям прогнозных значений от реальных. Однако, поскольку у полной модели больше коэффициентов в уравнении регрессии, то и отклонения полной модели будут меньше. Поэтому значимость определенного коэффициента, будем определять по следующей схеме: \n",
    " * выкинем одну переменную, например, b1;\n",
    " * очевидно, что в модели без этой переменной (т.е. с коэффициентом b1 == 0) отклонения должны быть больше, чем в модели с этим коэффициентом, поскольку в полной модели $p_2 = 11$ параметров, а в \"урезанной\" модели $p_1=10$ параметров;\n",
    " * соответственно мы можем выдвинуть гипотезу, что коэффициент перед b1 равен нулю и проверить ее, сравнив величины отклонений этих двух моделей: чем больше разность отклонений моделей, тем больше вероятность того, что коэффициент перед b1 ненулевой;\n",
    " * разность отклонений двух моделей ассимтотически распределена как Хи-квадрат с $p_2 - p_1 = 1$ степенями свободы: $D_1 - D_1 \\sim X^2_{p_2 - p_1}$\n",
    " * пробежавшись по всем переменным мы можем определить значимость каждой из них.\n",
    " \n",
    "Эту процедуру автоматизирует функция drop1. Воспользуемся ей:"
   ]
  },
  {
   "cell_type": "code",
   "execution_count": 22,
   "metadata": {
    "collapsed": false
   },
   "outputs": [
    {
     "name": "stderr",
     "output_type": "stream",
     "text": [
      "Warning message:\n",
      ": glm.fit: fitted probabilities numerically 0 or 1 occurredWarning message:\n",
      ": glm.fit: fitted probabilities numerically 0 or 1 occurredWarning message:\n",
      ": glm.fit: fitted probabilities numerically 0 or 1 occurredWarning message:\n",
      ": glm.fit: fitted probabilities numerically 0 or 1 occurredWarning message:\n",
      ": glm.fit: fitted probabilities numerically 0 or 1 occurredWarning message:\n",
      ": glm.fit: fitted probabilities numerically 0 or 1 occurredWarning message:\n",
      ": glm.fit: fitted probabilities numerically 0 or 1 occurredWarning message:\n",
      ": glm.fit: fitted probabilities numerically 0 or 1 occurredWarning message:\n",
      ": glm.fit: fitted probabilities numerically 0 or 1 occurredWarning message:\n",
      ": glm.fit: fitted probabilities numerically 0 or 1 occurredWarning message:\n",
      ": glm.fit: fitted probabilities numerically 0 or 1 occurred"
     ]
    },
    {
     "data": {
      "text/html": [
       "<table>\n",
       "<thead><tr><th></th><th scope=col>Df</th><th scope=col>Deviance</th><th scope=col>AIC</th><th scope=col>LRT</th><th scope=col>Pr(&gt;Chi)</th></tr></thead>\n",
       "<tbody>\n",
       "\t<tr><th scope=row>&lt;none&gt;</th><td>      NA</td><td>1289.236</td><td>1313.236</td><td>      NA</td><td>      NA</td></tr>\n",
       "\t<tr><th scope=row>b1</th><td>1.000000e+00</td><td>1.289247e+03</td><td>1.311247e+03</td><td>1.085342e-02</td><td>9.170267e-01</td></tr>\n",
       "\t<tr><th scope=row>b2</th><td>   1.0000000</td><td>1289.3857572</td><td>1311.3857572</td><td>   0.1494317</td><td>   0.6990790</td></tr>\n",
       "\t<tr><th scope=row>b3</th><td>1.000000e+00</td><td>1.295625e+03</td><td>1.317625e+03</td><td>6.388735e+00</td><td>1.148469e-02</td></tr>\n",
       "\t<tr><th scope=row>b4</th><td>1.000000e+00</td><td>1.299156e+03</td><td>1.321156e+03</td><td>9.919714e+00</td><td>1.635178e-03</td></tr>\n",
       "\t<tr><th scope=row>b5</th><td>1.000000e+00</td><td>1.394102e+03</td><td>1.416102e+03</td><td>1.048654e+02</td><td>1.307192e-24</td></tr>\n",
       "\t<tr><th scope=row>b6</th><td>   1.0000000</td><td>1290.0648232</td><td>1312.0648232</td><td>   0.8284977</td><td>   0.3627073</td></tr>\n",
       "\t<tr><th scope=row>b7</th><td>1.000000e+00</td><td>1.353729e+03</td><td>1.375729e+03</td><td>6.449295e+01</td><td>9.687858e-16</td></tr>\n",
       "\t<tr><th scope=row>b9</th><td>1.000000e+00</td><td>1.336635e+03</td><td>1.358635e+03</td><td>4.739900e+01</td><td>5.791226e-12</td></tr>\n",
       "\t<tr><th scope=row>b10</th><td>   1.0000000</td><td>1291.0570998</td><td>1313.0570998</td><td>   1.8207743</td><td>   0.1772211</td></tr>\n",
       "\t<tr><th scope=row>b11</th><td>   1.0000000</td><td>1291.0647014</td><td>1313.0647014</td><td>   1.8283759</td><td>   0.1763195</td></tr>\n",
       "\t<tr><th scope=row>scene</th><td>1.000000e+00</td><td>1.392564e+03</td><td>1.414564e+03</td><td>1.033274e+02</td><td>2.841017e-24</td></tr>\n",
       "</tbody>\n",
       "</table>\n"
      ],
      "text/latex": [
       "\\begin{tabular}{r|lllll}\n",
       "  & Df & Deviance & AIC & LRT & Pr(>Chi)\\\\\n",
       "\\hline\n",
       "\t<none> &       NA & 1289.236 & 1313.236 &       NA &       NA\\\\\n",
       "\tb1 & 1.000000e+00 & 1.289247e+03 & 1.311247e+03 & 1.085342e-02 & 9.170267e-01\\\\\n",
       "\tb2 &    1.0000000 & 1289.3857572 & 1311.3857572 &    0.1494317 &    0.6990790\\\\\n",
       "\tb3 & 1.000000e+00 & 1.295625e+03 & 1.317625e+03 & 6.388735e+00 & 1.148469e-02\\\\\n",
       "\tb4 & 1.000000e+00 & 1.299156e+03 & 1.321156e+03 & 9.919714e+00 & 1.635178e-03\\\\\n",
       "\tb5 & 1.000000e+00 & 1.394102e+03 & 1.416102e+03 & 1.048654e+02 & 1.307192e-24\\\\\n",
       "\tb6 &    1.0000000 & 1290.0648232 & 1312.0648232 &    0.8284977 &    0.3627073\\\\\n",
       "\tb7 & 1.000000e+00 & 1.353729e+03 & 1.375729e+03 & 6.449295e+01 & 9.687858e-16\\\\\n",
       "\tb9 & 1.000000e+00 & 1.336635e+03 & 1.358635e+03 & 4.739900e+01 & 5.791226e-12\\\\\n",
       "\tb10 &    1.0000000 & 1291.0570998 & 1313.0570998 &    1.8207743 &    0.1772211\\\\\n",
       "\tb11 &    1.0000000 & 1291.0647014 & 1313.0647014 &    1.8283759 &    0.1763195\\\\\n",
       "\tscene & 1.000000e+00 & 1.392564e+03 & 1.414564e+03 & 1.033274e+02 & 2.841017e-24\\\\\n",
       "\\end{tabular}\n"
      ],
      "text/plain": [
       "Single term deletions\n",
       "\n",
       "Model:\n",
       "answ1 ~ b1 + b2 + b3 + b4 + b5 + b6 + b7 + b9 + b10 + b11 + scene\n",
       "       Df Deviance    AIC     LRT  Pr(>Chi)    \n",
       "<none>      1289.2 1313.2                      \n",
       "b1      1   1289.2 1311.2   0.011  0.917027    \n",
       "b2      1   1289.4 1311.4   0.149  0.699079    \n",
       "b3      1   1295.6 1317.6   6.389  0.011485 *  \n",
       "b4      1   1299.2 1321.2   9.920  0.001635 ** \n",
       "b5      1   1394.1 1416.1 104.865 < 2.2e-16 ***\n",
       "b6      1   1290.1 1312.1   0.828  0.362707    \n",
       "b7      1   1353.7 1375.7  64.493 9.688e-16 ***\n",
       "b9      1   1336.6 1358.6  47.399 5.791e-12 ***\n",
       "b10     1   1291.1 1313.1   1.821  0.177221    \n",
       "b11     1   1291.1 1313.1   1.828  0.176320    \n",
       "scene   1   1392.6 1414.6 103.327 < 2.2e-16 ***\n",
       "---\n",
       "Signif. codes:  0 ‘***’ 0.001 ‘**’ 0.01 ‘*’ 0.05 ‘.’ 0.1 ‘ ’ 1"
      ]
     },
     "metadata": {},
     "output_type": "display_data"
    }
   ],
   "source": [
    "drop1(simple.glm1, test=\"Chi\")"
   ]
  },
  {
   "cell_type": "markdown",
   "metadata": {},
   "source": [
    "Итого, у модели, содержащей все переменные, остатки (Deviance) равняются 1289.236. Если мы викинем b1, то остатки будут равны 1.289247e+03(=1289.247), разность остатков составляет 1.085342e-02=0.01085, соотвественно p-значение распределения Хи-квадрат с одной степенью свободы равно 9.170267e-01, что явно очень много и мы можем выкинуть эту переменную безбоязненно."
   ]
  },
  {
   "cell_type": "markdown",
   "metadata": {},
   "source": [
    "Повторяем данную процедуру для нового набора переменных:"
   ]
  },
  {
   "cell_type": "code",
   "execution_count": 23,
   "metadata": {
    "collapsed": false
   },
   "outputs": [
    {
     "name": "stderr",
     "output_type": "stream",
     "text": [
      "Warning message:\n",
      ": glm.fit: fitted probabilities numerically 0 or 1 occurred"
     ]
    },
    {
     "data": {
      "text/plain": [
       "\n",
       "Call:\n",
       "glm(formula = answ1 ~ b2 + b3 + b4 + b5 + b6 + b7 + b9 + b10 + \n",
       "    b11 + scene, family = binomial, data = pdata)\n",
       "\n",
       "Deviance Residuals: \n",
       "    Min       1Q   Median       3Q      Max  \n",
       "-4.3477  -0.0178  -0.0075  -0.0043   3.7519  \n",
       "\n",
       "Coefficients:\n",
       "            Estimate Std. Error z value Pr(>|z|)    \n",
       "(Intercept)  -9.1119    12.5661  -0.725 0.468381    \n",
       "b2           18.2279    14.9870   1.216 0.223889    \n",
       "b3          -97.4374    35.1160  -2.775 0.005525 ** \n",
       "b4           83.7884    22.4958   3.725 0.000196 ***\n",
       "b5          -37.2842     3.7608  -9.914  < 2e-16 ***\n",
       "b6          -10.7796    11.9278  -0.904 0.366136    \n",
       "b7          112.3931    14.5178   7.742 9.81e-15 ***\n",
       "b9           52.7780     8.2485   6.399 1.57e-10 ***\n",
       "b10          -0.1730     0.1275  -1.357 0.174754    \n",
       "b11           0.1745     0.1284   1.360 0.173874    \n",
       "sceneS2       4.5337     0.4969   9.124  < 2e-16 ***\n",
       "---\n",
       "Signif. codes:  0 ‘***’ 0.001 ‘**’ 0.01 ‘*’ 0.05 ‘.’ 0.1 ‘ ’ 1\n",
       "\n",
       "(Dispersion parameter for binomial family taken to be 1)\n",
       "\n",
       "    Null deviance: 14053.6  on 50538  degrees of freedom\n",
       "Residual deviance:  1289.2  on 50528  degrees of freedom\n",
       "AIC: 1311.2\n",
       "\n",
       "Number of Fisher Scoring iterations: 11\n"
      ]
     },
     "metadata": {},
     "output_type": "display_data"
    },
    {
     "name": "stderr",
     "output_type": "stream",
     "text": [
      "Warning message:\n",
      ": glm.fit: fitted probabilities numerically 0 or 1 occurredWarning message:\n",
      ": glm.fit: fitted probabilities numerically 0 or 1 occurredWarning message:\n",
      ": glm.fit: fitted probabilities numerically 0 or 1 occurredWarning message:\n",
      ": glm.fit: fitted probabilities numerically 0 or 1 occurredWarning message:\n",
      ": glm.fit: fitted probabilities numerically 0 or 1 occurredWarning message:\n",
      ": glm.fit: fitted probabilities numerically 0 or 1 occurredWarning message:\n",
      ": glm.fit: fitted probabilities numerically 0 or 1 occurredWarning message:\n",
      ": glm.fit: fitted probabilities numerically 0 or 1 occurredWarning message:\n",
      ": glm.fit: fitted probabilities numerically 0 or 1 occurredWarning message:\n",
      ": glm.fit: fitted probabilities numerically 0 or 1 occurred"
     ]
    },
    {
     "data": {
      "text/html": [
       "<table>\n",
       "<thead><tr><th></th><th scope=col>Df</th><th scope=col>Deviance</th><th scope=col>AIC</th><th scope=col>LRT</th><th scope=col>Pr(&gt;Chi)</th></tr></thead>\n",
       "<tbody>\n",
       "\t<tr><th scope=row>&lt;none&gt;</th><td>      NA</td><td>1289.247</td><td>1311.247</td><td>      NA</td><td>      NA</td></tr>\n",
       "\t<tr><th scope=row>b2</th><td>   1.000000</td><td>1290.736493</td><td>1310.736493</td><td>   1.489314</td><td>   0.222323</td></tr>\n",
       "\t<tr><th scope=row>b3</th><td>1.000000e+00</td><td>1.296720e+03</td><td>1.316720e+03</td><td>7.472685e+00</td><td>6.264206e-03</td></tr>\n",
       "\t<tr><th scope=row>b4</th><td>1.000000e+00</td><td>1.302318e+03</td><td>1.322318e+03</td><td>1.307111e+01</td><td>2.998858e-04</td></tr>\n",
       "\t<tr><th scope=row>b5</th><td>1.000000e+00</td><td>1.403461e+03</td><td>1.423461e+03</td><td>1.142136e+02</td><td>1.170027e-26</td></tr>\n",
       "\t<tr><th scope=row>b6</th><td>   1.0000000</td><td>1290.0659227</td><td>1310.0659227</td><td>   0.8187438</td><td>   0.3655477</td></tr>\n",
       "\t<tr><th scope=row>b7</th><td>1.000000e+00</td><td>1.354922e+03</td><td>1.374922e+03</td><td>6.567495e+01</td><td>5.317747e-16</td></tr>\n",
       "\t<tr><th scope=row>b9</th><td>1.000000e+00</td><td>1.337127e+03</td><td>1.357127e+03</td><td>4.787991e+01</td><td>4.531409e-12</td></tr>\n",
       "\t<tr><th scope=row>b10</th><td>   1.0000000</td><td>1291.0949258</td><td>1311.0949258</td><td>   1.8477469</td><td>   0.1740457</td></tr>\n",
       "\t<tr><th scope=row>b11</th><td>   1.0000000</td><td>1291.1067768</td><td>1311.1067768</td><td>   1.8595978</td><td>   0.1726712</td></tr>\n",
       "\t<tr><th scope=row>scene</th><td>1.000000e+00</td><td>1.395808e+03</td><td>1.415808e+03</td><td>1.065606e+02</td><td>5.556672e-25</td></tr>\n",
       "</tbody>\n",
       "</table>\n"
      ],
      "text/latex": [
       "\\begin{tabular}{r|lllll}\n",
       "  & Df & Deviance & AIC & LRT & Pr(>Chi)\\\\\n",
       "\\hline\n",
       "\t<none> &       NA & 1289.247 & 1311.247 &       NA &       NA\\\\\n",
       "\tb2 &    1.000000 & 1290.736493 & 1310.736493 &    1.489314 &    0.222323\\\\\n",
       "\tb3 & 1.000000e+00 & 1.296720e+03 & 1.316720e+03 & 7.472685e+00 & 6.264206e-03\\\\\n",
       "\tb4 & 1.000000e+00 & 1.302318e+03 & 1.322318e+03 & 1.307111e+01 & 2.998858e-04\\\\\n",
       "\tb5 & 1.000000e+00 & 1.403461e+03 & 1.423461e+03 & 1.142136e+02 & 1.170027e-26\\\\\n",
       "\tb6 &    1.0000000 & 1290.0659227 & 1310.0659227 &    0.8187438 &    0.3655477\\\\\n",
       "\tb7 & 1.000000e+00 & 1.354922e+03 & 1.374922e+03 & 6.567495e+01 & 5.317747e-16\\\\\n",
       "\tb9 & 1.000000e+00 & 1.337127e+03 & 1.357127e+03 & 4.787991e+01 & 4.531409e-12\\\\\n",
       "\tb10 &    1.0000000 & 1291.0949258 & 1311.0949258 &    1.8477469 &    0.1740457\\\\\n",
       "\tb11 &    1.0000000 & 1291.1067768 & 1311.1067768 &    1.8595978 &    0.1726712\\\\\n",
       "\tscene & 1.000000e+00 & 1.395808e+03 & 1.415808e+03 & 1.065606e+02 & 5.556672e-25\\\\\n",
       "\\end{tabular}\n"
      ],
      "text/plain": [
       "Single term deletions\n",
       "\n",
       "Model:\n",
       "answ1 ~ b2 + b3 + b4 + b5 + b6 + b7 + b9 + b10 + b11 + scene\n",
       "       Df Deviance    AIC     LRT  Pr(>Chi)    \n",
       "<none>      1289.2 1311.2                      \n",
       "b2      1   1290.7 1310.7   1.489 0.2223230    \n",
       "b3      1   1296.7 1316.7   7.473 0.0062642 ** \n",
       "b4      1   1302.3 1322.3  13.071 0.0002999 ***\n",
       "b5      1   1403.5 1423.5 114.214 < 2.2e-16 ***\n",
       "b6      1   1290.1 1310.1   0.819 0.3655477    \n",
       "b7      1   1354.9 1374.9  65.675 5.318e-16 ***\n",
       "b9      1   1337.1 1357.1  47.880 4.531e-12 ***\n",
       "b10     1   1291.1 1311.1   1.848 0.1740457    \n",
       "b11     1   1291.1 1311.1   1.860 0.1726712    \n",
       "scene   1   1395.8 1415.8 106.561 < 2.2e-16 ***\n",
       "---\n",
       "Signif. codes:  0 ‘***’ 0.001 ‘**’ 0.01 ‘*’ 0.05 ‘.’ 0.1 ‘ ’ 1"
      ]
     },
     "metadata": {},
     "output_type": "display_data"
    }
   ],
   "source": [
    "simple.glm2 = glm(answ1~ b2 + b3 + b4 + b5 + b6 +b7 + b9 + b10 + b11 + scene, data=pdata, family=binomial)\n",
    "summary(simple.glm2)\n",
    "drop1(simple.glm2, test=\"Chi\")"
   ]
  },
  {
   "cell_type": "markdown",
   "metadata": {},
   "source": [
    "AIC улучшилось, но остаются еще незначимые коэффициенты. Выкидываем b6 и продолжаем:"
   ]
  },
  {
   "cell_type": "code",
   "execution_count": 24,
   "metadata": {
    "collapsed": false
   },
   "outputs": [
    {
     "name": "stderr",
     "output_type": "stream",
     "text": [
      "Warning message:\n",
      ": glm.fit: fitted probabilities numerically 0 or 1 occurred"
     ]
    },
    {
     "data": {
      "text/plain": [
       "\n",
       "Call:\n",
       "glm(formula = answ1 ~ b2 + b3 + b4 + b5 + b7 + b9 + b10 + b11 + \n",
       "    scene, family = binomial, data = pdata)\n",
       "\n",
       "Deviance Residuals: \n",
       "    Min       1Q   Median       3Q      Max  \n",
       "-4.3163  -0.0181  -0.0077  -0.0044   3.7809  \n",
       "\n",
       "Coefficients:\n",
       "            Estimate Std. Error z value Pr(>|z|)    \n",
       "(Intercept)  -7.0150    12.3120  -0.570 0.568830    \n",
       "b2           19.0142    14.9371   1.273 0.203035    \n",
       "b3          -96.5989    35.0669  -2.755 0.005875 ** \n",
       "b4           83.9253    22.4924   3.731 0.000191 ***\n",
       "b5          -38.2918     3.5976 -10.644  < 2e-16 ***\n",
       "b7           99.8653     4.0618  24.586  < 2e-16 ***\n",
       "b9           51.7107     8.1173   6.370 1.88e-10 ***\n",
       "b10          -0.1684     0.1272  -1.324 0.185347    \n",
       "b11           0.1612     0.1273   1.266 0.205495    \n",
       "sceneS2       4.4812     0.4922   9.104  < 2e-16 ***\n",
       "---\n",
       "Signif. codes:  0 ‘***’ 0.001 ‘**’ 0.01 ‘*’ 0.05 ‘.’ 0.1 ‘ ’ 1\n",
       "\n",
       "(Dispersion parameter for binomial family taken to be 1)\n",
       "\n",
       "    Null deviance: 14053.6  on 50538  degrees of freedom\n",
       "Residual deviance:  1290.1  on 50529  degrees of freedom\n",
       "AIC: 1310.1\n",
       "\n",
       "Number of Fisher Scoring iterations: 11\n"
      ]
     },
     "metadata": {},
     "output_type": "display_data"
    },
    {
     "name": "stderr",
     "output_type": "stream",
     "text": [
      "Warning message:\n",
      ": glm.fit: fitted probabilities numerically 0 or 1 occurredWarning message:\n",
      ": glm.fit: fitted probabilities numerically 0 or 1 occurredWarning message:\n",
      ": glm.fit: fitted probabilities numerically 0 or 1 occurredWarning message:\n",
      ": glm.fit: fitted probabilities numerically 0 or 1 occurredWarning message:\n",
      ": glm.fit: fitted probabilities numerically 0 or 1 occurredWarning message:\n",
      ": glm.fit: fitted probabilities numerically 0 or 1 occurredWarning message:\n",
      ": glm.fit: fitted probabilities numerically 0 or 1 occurredWarning message:\n",
      ": glm.fit: fitted probabilities numerically 0 or 1 occurredWarning message:\n",
      ": glm.fit: fitted probabilities numerically 0 or 1 occurred"
     ]
    },
    {
     "data": {
      "text/html": [
       "<table>\n",
       "<thead><tr><th></th><th scope=col>Df</th><th scope=col>Deviance</th><th scope=col>AIC</th><th scope=col>LRT</th><th scope=col>Pr(&gt;Chi)</th></tr></thead>\n",
       "<tbody>\n",
       "\t<tr><th scope=row>&lt;none&gt;</th><td>      NA</td><td>1290.066</td><td>1310.066</td><td>      NA</td><td>      NA</td></tr>\n",
       "\t<tr><th scope=row>b2</th><td>   1.0000000</td><td>1291.6942095</td><td>1309.6942095</td><td>   1.6282868</td><td>   0.2019402</td></tr>\n",
       "\t<tr><th scope=row>b3</th><td>1.000000e+00</td><td>1.297433e+03</td><td>1.315433e+03</td><td>7.366960e+00</td><td>6.643313e-03</td></tr>\n",
       "\t<tr><th scope=row>b4</th><td>1.000000e+00</td><td>1.303180e+03</td><td>1.321180e+03</td><td>1.311393e+01</td><td>2.931089e-04</td></tr>\n",
       "\t<tr><th scope=row>b5</th><td>1.000000e+00</td><td>1.424451e+03</td><td>1.442451e+03</td><td>1.343853e+02</td><td>4.499798e-31</td></tr>\n",
       "\t<tr><th scope=row>b7</th><td>   1.000</td><td>4899.839</td><td>4917.839</td><td>3609.773</td><td>   0.000</td></tr>\n",
       "\t<tr><th scope=row>b9</th><td>1.000000e+00</td><td>1.337128e+03</td><td>1.355128e+03</td><td>4.706173e+01</td><td>6.878583e-12</td></tr>\n",
       "\t<tr><th scope=row>b10</th><td>   1.000000</td><td>1291.825125</td><td>1309.825125</td><td>   1.759202</td><td>   0.184724</td></tr>\n",
       "\t<tr><th scope=row>b11</th><td>   1.000000</td><td>1291.676106</td><td>1309.676106</td><td>   1.610184</td><td>   0.204466</td></tr>\n",
       "\t<tr><th scope=row>scene</th><td>1.000000e+00</td><td>1.396101e+03</td><td>1.414101e+03</td><td>1.060354e+02</td><td>7.243042e-25</td></tr>\n",
       "</tbody>\n",
       "</table>\n"
      ],
      "text/latex": [
       "\\begin{tabular}{r|lllll}\n",
       "  & Df & Deviance & AIC & LRT & Pr(>Chi)\\\\\n",
       "\\hline\n",
       "\t<none> &       NA & 1290.066 & 1310.066 &       NA &       NA\\\\\n",
       "\tb2 &    1.0000000 & 1291.6942095 & 1309.6942095 &    1.6282868 &    0.2019402\\\\\n",
       "\tb3 & 1.000000e+00 & 1.297433e+03 & 1.315433e+03 & 7.366960e+00 & 6.643313e-03\\\\\n",
       "\tb4 & 1.000000e+00 & 1.303180e+03 & 1.321180e+03 & 1.311393e+01 & 2.931089e-04\\\\\n",
       "\tb5 & 1.000000e+00 & 1.424451e+03 & 1.442451e+03 & 1.343853e+02 & 4.499798e-31\\\\\n",
       "\tb7 &    1.000 & 4899.839 & 4917.839 & 3609.773 &    0.000\\\\\n",
       "\tb9 & 1.000000e+00 & 1.337128e+03 & 1.355128e+03 & 4.706173e+01 & 6.878583e-12\\\\\n",
       "\tb10 &    1.000000 & 1291.825125 & 1309.825125 &    1.759202 &    0.184724\\\\\n",
       "\tb11 &    1.000000 & 1291.676106 & 1309.676106 &    1.610184 &    0.204466\\\\\n",
       "\tscene & 1.000000e+00 & 1.396101e+03 & 1.414101e+03 & 1.060354e+02 & 7.243042e-25\\\\\n",
       "\\end{tabular}\n"
      ],
      "text/plain": [
       "Single term deletions\n",
       "\n",
       "Model:\n",
       "answ1 ~ b2 + b3 + b4 + b5 + b7 + b9 + b10 + b11 + scene\n",
       "       Df Deviance    AIC    LRT  Pr(>Chi)    \n",
       "<none>      1290.1 1310.1                     \n",
       "b2      1   1291.7 1309.7    1.6 0.2019402    \n",
       "b3      1   1297.4 1315.4    7.4 0.0066433 ** \n",
       "b4      1   1303.2 1321.2   13.1 0.0002931 ***\n",
       "b5      1   1424.5 1442.5  134.4 < 2.2e-16 ***\n",
       "b7      1   4899.8 4917.8 3609.8 < 2.2e-16 ***\n",
       "b9      1   1337.1 1355.1   47.1 6.879e-12 ***\n",
       "b10     1   1291.8 1309.8    1.8 0.1847240    \n",
       "b11     1   1291.7 1309.7    1.6 0.2044660    \n",
       "scene   1   1396.1 1414.1  106.0 < 2.2e-16 ***\n",
       "---\n",
       "Signif. codes:  0 ‘***’ 0.001 ‘**’ 0.01 ‘*’ 0.05 ‘.’ 0.1 ‘ ’ 1"
      ]
     },
     "metadata": {},
     "output_type": "display_data"
    }
   ],
   "source": [
    "simple.glm3 = glm(answ1~ b2 + b3 + b4 + b5 +b7 + b9 + b10 + b11 + scene, data=pdata, family=binomial)\n",
    "summary(simple.glm3)\n",
    "drop1(simple.glm3, test=\"Chi\")"
   ]
  },
  {
   "cell_type": "markdown",
   "metadata": {},
   "source": [
    "Выкидываем b11:"
   ]
  },
  {
   "cell_type": "code",
   "execution_count": 25,
   "metadata": {
    "collapsed": false
   },
   "outputs": [
    {
     "name": "stderr",
     "output_type": "stream",
     "text": [
      "Warning message:\n",
      ": glm.fit: fitted probabilities numerically 0 or 1 occurred"
     ]
    },
    {
     "data": {
      "text/plain": [
       "\n",
       "Call:\n",
       "glm(formula = answ1 ~ b2 + b3 + b4 + b5 + b7 + b9 + b10 + scene, \n",
       "    family = binomial, data = pdata)\n",
       "\n",
       "Deviance Residuals: \n",
       "    Min       1Q   Median       3Q      Max  \n",
       "-4.2828  -0.0182  -0.0079  -0.0045   3.8098  \n",
       "\n",
       "Coefficients:\n",
       "              Estimate Std. Error z value Pr(>|z|)    \n",
       "(Intercept)   -4.43754   12.15280  -0.365 0.715003    \n",
       "b2            21.35727   14.89459   1.434 0.151602    \n",
       "b3          -100.04779   35.09888  -2.850 0.004366 ** \n",
       "b4            85.05952   22.54604   3.773 0.000161 ***\n",
       "b5           -38.14592    3.59761 -10.603  < 2e-16 ***\n",
       "b7            99.46042    4.05353  24.537  < 2e-16 ***\n",
       "b9            47.12670    7.24054   6.509 7.58e-11 ***\n",
       "b10           -0.01923    0.04797  -0.401 0.688521    \n",
       "sceneS2        4.49335    0.49467   9.084  < 2e-16 ***\n",
       "---\n",
       "Signif. codes:  0 ‘***’ 0.001 ‘**’ 0.01 ‘*’ 0.05 ‘.’ 0.1 ‘ ’ 1\n",
       "\n",
       "(Dispersion parameter for binomial family taken to be 1)\n",
       "\n",
       "    Null deviance: 14053.6  on 50538  degrees of freedom\n",
       "Residual deviance:  1291.7  on 50530  degrees of freedom\n",
       "AIC: 1309.7\n",
       "\n",
       "Number of Fisher Scoring iterations: 11\n"
      ]
     },
     "metadata": {},
     "output_type": "display_data"
    },
    {
     "name": "stderr",
     "output_type": "stream",
     "text": [
      "Warning message:\n",
      ": glm.fit: fitted probabilities numerically 0 or 1 occurredWarning message:\n",
      ": glm.fit: fitted probabilities numerically 0 or 1 occurredWarning message:\n",
      ": glm.fit: fitted probabilities numerically 0 or 1 occurredWarning message:\n",
      ": glm.fit: fitted probabilities numerically 0 or 1 occurredWarning message:\n",
      ": glm.fit: fitted probabilities numerically 0 or 1 occurredWarning message:\n",
      ": glm.fit: fitted probabilities numerically 0 or 1 occurredWarning message:\n",
      ": glm.fit: fitted probabilities numerically 0 or 1 occurredWarning message:\n",
      ": glm.fit: fitted probabilities numerically 0 or 1 occurred"
     ]
    },
    {
     "data": {
      "text/html": [
       "<table>\n",
       "<thead><tr><th></th><th scope=col>Df</th><th scope=col>Deviance</th><th scope=col>AIC</th><th scope=col>LRT</th><th scope=col>Pr(&gt;Chi)</th></tr></thead>\n",
       "<tbody>\n",
       "\t<tr><th scope=row>&lt;none&gt;</th><td>      NA</td><td>1291.676</td><td>1309.676</td><td>      NA</td><td>      NA</td></tr>\n",
       "\t<tr><th scope=row>b2</th><td>   1.0000000</td><td>1293.7482433</td><td>1309.7482433</td><td>   2.0721370</td><td>   0.1500112</td></tr>\n",
       "\t<tr><th scope=row>b3</th><td>1.000000e+00</td><td>1.299534e+03</td><td>1.315534e+03</td><td>7.857899e+00</td><td>5.059917e-03</td></tr>\n",
       "\t<tr><th scope=row>b4</th><td>1.000000e+00</td><td>1.305059e+03</td><td>1.321059e+03</td><td>1.338269e+01</td><td>2.539573e-04</td></tr>\n",
       "\t<tr><th scope=row>b5</th><td>1.000000e+00</td><td>1.424819e+03</td><td>1.440819e+03</td><td>1.331431e+02</td><td>8.412265e-31</td></tr>\n",
       "\t<tr><th scope=row>b7</th><td>   1.000</td><td>5055.419</td><td>5071.419</td><td>3763.743</td><td>   0.000</td></tr>\n",
       "\t<tr><th scope=row>b9</th><td>1.000000e+00</td><td>1.343497e+03</td><td>1.359497e+03</td><td>5.182112e+01</td><td>6.079422e-13</td></tr>\n",
       "\t<tr><th scope=row>b10</th><td>   1.0000000</td><td>1291.8368792</td><td>1307.8368792</td><td>   0.1607729</td><td>   0.6884459</td></tr>\n",
       "\t<tr><th scope=row>scene</th><td>1.000000e+00</td><td>1.397027e+03</td><td>1.413027e+03</td><td>1.053510e+02</td><td>1.023088e-24</td></tr>\n",
       "</tbody>\n",
       "</table>\n"
      ],
      "text/latex": [
       "\\begin{tabular}{r|lllll}\n",
       "  & Df & Deviance & AIC & LRT & Pr(>Chi)\\\\\n",
       "\\hline\n",
       "\t<none> &       NA & 1291.676 & 1309.676 &       NA &       NA\\\\\n",
       "\tb2 &    1.0000000 & 1293.7482433 & 1309.7482433 &    2.0721370 &    0.1500112\\\\\n",
       "\tb3 & 1.000000e+00 & 1.299534e+03 & 1.315534e+03 & 7.857899e+00 & 5.059917e-03\\\\\n",
       "\tb4 & 1.000000e+00 & 1.305059e+03 & 1.321059e+03 & 1.338269e+01 & 2.539573e-04\\\\\n",
       "\tb5 & 1.000000e+00 & 1.424819e+03 & 1.440819e+03 & 1.331431e+02 & 8.412265e-31\\\\\n",
       "\tb7 &    1.000 & 5055.419 & 5071.419 & 3763.743 &    0.000\\\\\n",
       "\tb9 & 1.000000e+00 & 1.343497e+03 & 1.359497e+03 & 5.182112e+01 & 6.079422e-13\\\\\n",
       "\tb10 &    1.0000000 & 1291.8368792 & 1307.8368792 &    0.1607729 &    0.6884459\\\\\n",
       "\tscene & 1.000000e+00 & 1.397027e+03 & 1.413027e+03 & 1.053510e+02 & 1.023088e-24\\\\\n",
       "\\end{tabular}\n"
      ],
      "text/plain": [
       "Single term deletions\n",
       "\n",
       "Model:\n",
       "answ1 ~ b2 + b3 + b4 + b5 + b7 + b9 + b10 + scene\n",
       "       Df Deviance    AIC    LRT  Pr(>Chi)    \n",
       "<none>      1291.7 1309.7                     \n",
       "b2      1   1293.7 1309.7    2.1  0.150011    \n",
       "b3      1   1299.5 1315.5    7.9  0.005060 ** \n",
       "b4      1   1305.1 1321.1   13.4  0.000254 ***\n",
       "b5      1   1424.8 1440.8  133.1 < 2.2e-16 ***\n",
       "b7      1   5055.4 5071.4 3763.7 < 2.2e-16 ***\n",
       "b9      1   1343.5 1359.5   51.8 6.079e-13 ***\n",
       "b10     1   1291.8 1307.8    0.2  0.688446    \n",
       "scene   1   1397.0 1413.0  105.4 < 2.2e-16 ***\n",
       "---\n",
       "Signif. codes:  0 ‘***’ 0.001 ‘**’ 0.01 ‘*’ 0.05 ‘.’ 0.1 ‘ ’ 1"
      ]
     },
     "metadata": {},
     "output_type": "display_data"
    }
   ],
   "source": [
    "simple.glm4 = glm(answ1~ b2 + b3 + b4 + b5 +b7 + b9 + b10 + scene, data=pdata, family=binomial)\n",
    "summary(simple.glm4)\n",
    "drop1(simple.glm4, test=\"Chi\")"
   ]
  },
  {
   "cell_type": "markdown",
   "metadata": {},
   "source": [
    "Выкидываем b10:"
   ]
  },
  {
   "cell_type": "code",
   "execution_count": 26,
   "metadata": {
    "collapsed": false
   },
   "outputs": [
    {
     "name": "stderr",
     "output_type": "stream",
     "text": [
      "Warning message:\n",
      ": glm.fit: fitted probabilities numerically 0 or 1 occurred"
     ]
    },
    {
     "data": {
      "text/plain": [
       "\n",
       "Call:\n",
       "glm(formula = answ1 ~ b2 + b3 + b4 + b5 + b7 + b9 + scene, family = binomial, \n",
       "    data = pdata)\n",
       "\n",
       "Deviance Residuals: \n",
       "    Min       1Q   Median       3Q      Max  \n",
       "-4.2833  -0.0181  -0.0078  -0.0044   3.8032  \n",
       "\n",
       "Coefficients:\n",
       "            Estimate Std. Error z value Pr(>|z|)    \n",
       "(Intercept)  -9.2983     0.8449 -11.005  < 2e-16 ***\n",
       "b2           21.1895    14.8760   1.424 0.154329    \n",
       "b3          -99.2954    35.0346  -2.834 0.004594 ** \n",
       "b4           84.8760    22.5369   3.766 0.000166 ***\n",
       "b5          -38.4694     3.5044 -10.977  < 2e-16 ***\n",
       "b7           99.6230     4.0391  24.665  < 2e-16 ***\n",
       "b9           48.4723     6.4534   7.511 5.86e-14 ***\n",
       "sceneS2       4.3921     0.4248  10.340  < 2e-16 ***\n",
       "---\n",
       "Signif. codes:  0 ‘***’ 0.001 ‘**’ 0.01 ‘*’ 0.05 ‘.’ 0.1 ‘ ’ 1\n",
       "\n",
       "(Dispersion parameter for binomial family taken to be 1)\n",
       "\n",
       "    Null deviance: 14053.6  on 50538  degrees of freedom\n",
       "Residual deviance:  1291.8  on 50531  degrees of freedom\n",
       "AIC: 1307.8\n",
       "\n",
       "Number of Fisher Scoring iterations: 11\n"
      ]
     },
     "metadata": {},
     "output_type": "display_data"
    },
    {
     "name": "stderr",
     "output_type": "stream",
     "text": [
      "Warning message:\n",
      ": glm.fit: fitted probabilities numerically 0 or 1 occurredWarning message:\n",
      ": glm.fit: fitted probabilities numerically 0 or 1 occurredWarning message:\n",
      ": glm.fit: fitted probabilities numerically 0 or 1 occurredWarning message:\n",
      ": glm.fit: fitted probabilities numerically 0 or 1 occurredWarning message:\n",
      ": glm.fit: fitted probabilities numerically 0 or 1 occurredWarning message:\n",
      ": glm.fit: fitted probabilities numerically 0 or 1 occurredWarning message:\n",
      ": glm.fit: fitted probabilities numerically 0 or 1 occurred"
     ]
    },
    {
     "data": {
      "text/html": [
       "<table>\n",
       "<thead><tr><th></th><th scope=col>Df</th><th scope=col>Deviance</th><th scope=col>AIC</th><th scope=col>LRT</th><th scope=col>Pr(&gt;Chi)</th></tr></thead>\n",
       "<tbody>\n",
       "\t<tr><th scope=row>&lt;none&gt;</th><td>      NA</td><td>1291.837</td><td>1307.837</td><td>      NA</td><td>      NA</td></tr>\n",
       "\t<tr><th scope=row>b2</th><td>   1.0000000</td><td>1293.8817588</td><td>1307.8817588</td><td>   2.0448796</td><td>   0.1527191</td></tr>\n",
       "\t<tr><th scope=row>b3</th><td>1.000000e+00</td><td>1.299609e+03</td><td>1.313609e+03</td><td>7.772014e+00</td><td>5.306184e-03</td></tr>\n",
       "\t<tr><th scope=row>b4</th><td>1.000000e+00</td><td>1.305183e+03</td><td>1.319183e+03</td><td>1.334640e+01</td><td>2.589188e-04</td></tr>\n",
       "\t<tr><th scope=row>b5</th><td>1.000000e+00</td><td>1.440487e+03</td><td>1.454487e+03</td><td>1.486501e+02</td><td>3.420042e-34</td></tr>\n",
       "\t<tr><th scope=row>b7</th><td>   1.000</td><td>5110.063</td><td>5124.063</td><td>3818.226</td><td>   0.000</td></tr>\n",
       "\t<tr><th scope=row>b9</th><td>1.000000e+00</td><td>1.362258e+03</td><td>1.376258e+03</td><td>7.042144e+01</td><td>4.789659e-17</td></tr>\n",
       "\t<tr><th scope=row>scene</th><td>1.000000e+00</td><td>1.448253e+03</td><td>1.462253e+03</td><td>1.564162e+02</td><td>6.866208e-36</td></tr>\n",
       "</tbody>\n",
       "</table>\n"
      ],
      "text/latex": [
       "\\begin{tabular}{r|lllll}\n",
       "  & Df & Deviance & AIC & LRT & Pr(>Chi)\\\\\n",
       "\\hline\n",
       "\t<none> &       NA & 1291.837 & 1307.837 &       NA &       NA\\\\\n",
       "\tb2 &    1.0000000 & 1293.8817588 & 1307.8817588 &    2.0448796 &    0.1527191\\\\\n",
       "\tb3 & 1.000000e+00 & 1.299609e+03 & 1.313609e+03 & 7.772014e+00 & 5.306184e-03\\\\\n",
       "\tb4 & 1.000000e+00 & 1.305183e+03 & 1.319183e+03 & 1.334640e+01 & 2.589188e-04\\\\\n",
       "\tb5 & 1.000000e+00 & 1.440487e+03 & 1.454487e+03 & 1.486501e+02 & 3.420042e-34\\\\\n",
       "\tb7 &    1.000 & 5110.063 & 5124.063 & 3818.226 &    0.000\\\\\n",
       "\tb9 & 1.000000e+00 & 1.362258e+03 & 1.376258e+03 & 7.042144e+01 & 4.789659e-17\\\\\n",
       "\tscene & 1.000000e+00 & 1.448253e+03 & 1.462253e+03 & 1.564162e+02 & 6.866208e-36\\\\\n",
       "\\end{tabular}\n"
      ],
      "text/plain": [
       "Single term deletions\n",
       "\n",
       "Model:\n",
       "answ1 ~ b2 + b3 + b4 + b5 + b7 + b9 + scene\n",
       "       Df Deviance    AIC    LRT  Pr(>Chi)    \n",
       "<none>      1291.8 1307.8                     \n",
       "b2      1   1293.9 1307.9    2.0 0.1527191    \n",
       "b3      1   1299.6 1313.6    7.8 0.0053062 ** \n",
       "b4      1   1305.2 1319.2   13.3 0.0002589 ***\n",
       "b5      1   1440.5 1454.5  148.7 < 2.2e-16 ***\n",
       "b7      1   5110.1 5124.1 3818.2 < 2.2e-16 ***\n",
       "b9      1   1362.3 1376.3   70.4 < 2.2e-16 ***\n",
       "scene   1   1448.3 1462.3  156.4 < 2.2e-16 ***\n",
       "---\n",
       "Signif. codes:  0 ‘***’ 0.001 ‘**’ 0.01 ‘*’ 0.05 ‘.’ 0.1 ‘ ’ 1"
      ]
     },
     "metadata": {},
     "output_type": "display_data"
    }
   ],
   "source": [
    "simple.glm5 = glm(answ1~ b2 + b3 + b4 + b5 +b7 + b9 + scene, data=pdata, family=binomial)\n",
    "summary(simple.glm5)\n",
    "drop1(simple.glm5, test=\"Chi\")"
   ]
  },
  {
   "cell_type": "markdown",
   "metadata": {},
   "source": [
    "Избавляемся от незначимого коэффициента b2:"
   ]
  },
  {
   "cell_type": "code",
   "execution_count": 27,
   "metadata": {
    "collapsed": false
   },
   "outputs": [
    {
     "name": "stderr",
     "output_type": "stream",
     "text": [
      "Warning message:\n",
      ": glm.fit: fitted probabilities numerically 0 or 1 occurred"
     ]
    },
    {
     "data": {
      "text/plain": [
       "\n",
       "Call:\n",
       "glm(formula = answ1 ~ b3 + b4 + b5 + b7 + b9 + scene, family = binomial, \n",
       "    data = pdata)\n",
       "\n",
       "Deviance Residuals: \n",
       "    Min       1Q   Median       3Q      Max  \n",
       "-4.2517  -0.0178  -0.0077  -0.0044   3.7779  \n",
       "\n",
       "Coefficients:\n",
       "            Estimate Std. Error z value Pr(>|z|)    \n",
       "(Intercept)  -8.6519     0.7169 -12.069  < 2e-16 ***\n",
       "b3          -58.9995    21.2553  -2.776 0.005507 ** \n",
       "b4           69.9411    20.2974   3.446 0.000569 ***\n",
       "b5          -39.8046     3.3812 -11.772  < 2e-16 ***\n",
       "b7           99.1685     4.0099  24.731  < 2e-16 ***\n",
       "b9           48.9073     6.4829   7.544 4.56e-14 ***\n",
       "sceneS2       4.4688     0.4258  10.494  < 2e-16 ***\n",
       "---\n",
       "Signif. codes:  0 ‘***’ 0.001 ‘**’ 0.01 ‘*’ 0.05 ‘.’ 0.1 ‘ ’ 1\n",
       "\n",
       "(Dispersion parameter for binomial family taken to be 1)\n",
       "\n",
       "    Null deviance: 14053.6  on 50538  degrees of freedom\n",
       "Residual deviance:  1293.9  on 50532  degrees of freedom\n",
       "AIC: 1307.9\n",
       "\n",
       "Number of Fisher Scoring iterations: 11\n"
      ]
     },
     "metadata": {},
     "output_type": "display_data"
    },
    {
     "name": "stderr",
     "output_type": "stream",
     "text": [
      "Warning message:\n",
      ": glm.fit: fitted probabilities numerically 0 or 1 occurredWarning message:\n",
      ": glm.fit: fitted probabilities numerically 0 or 1 occurredWarning message:\n",
      ": glm.fit: fitted probabilities numerically 0 or 1 occurredWarning message:\n",
      ": glm.fit: fitted probabilities numerically 0 or 1 occurredWarning message:\n",
      ": glm.fit: fitted probabilities numerically 0 or 1 occurredWarning message:\n",
      ": glm.fit: fitted probabilities numerically 0 or 1 occurred"
     ]
    },
    {
     "data": {
      "text/html": [
       "<table>\n",
       "<thead><tr><th></th><th scope=col>Df</th><th scope=col>Deviance</th><th scope=col>AIC</th><th scope=col>LRT</th><th scope=col>Pr(&gt;Chi)</th></tr></thead>\n",
       "<tbody>\n",
       "\t<tr><th scope=row>&lt;none&gt;</th><td>      NA</td><td>1293.882</td><td>1307.882</td><td>      NA</td><td>      NA</td></tr>\n",
       "\t<tr><th scope=row>b3</th><td>1.000000e+00</td><td>1.301168e+03</td><td>1.313168e+03</td><td>7.286727e+00</td><td>6.946592e-03</td></tr>\n",
       "\t<tr><th scope=row>b4</th><td>1.000000e+00</td><td>1.305237e+03</td><td>1.317237e+03</td><td>1.135539e+01</td><td>7.522941e-04</td></tr>\n",
       "\t<tr><th scope=row>b5</th><td>1.000000e+00</td><td>1.492950e+03</td><td>1.504950e+03</td><td>1.990681e+02</td><td>3.335693e-45</td></tr>\n",
       "\t<tr><th scope=row>b7</th><td>   1.000</td><td>5114.362</td><td>5126.362</td><td>3820.481</td><td>   0.000</td></tr>\n",
       "\t<tr><th scope=row>b9</th><td>1.000000e+00</td><td>1.367413e+03</td><td>1.379413e+03</td><td>7.353171e+01</td><td>9.903246e-18</td></tr>\n",
       "\t<tr><th scope=row>scene</th><td>1.000000e+00</td><td>1.462616e+03</td><td>1.474616e+03</td><td>1.687340e+02</td><td>1.398566e-38</td></tr>\n",
       "</tbody>\n",
       "</table>\n"
      ],
      "text/latex": [
       "\\begin{tabular}{r|lllll}\n",
       "  & Df & Deviance & AIC & LRT & Pr(>Chi)\\\\\n",
       "\\hline\n",
       "\t<none> &       NA & 1293.882 & 1307.882 &       NA &       NA\\\\\n",
       "\tb3 & 1.000000e+00 & 1.301168e+03 & 1.313168e+03 & 7.286727e+00 & 6.946592e-03\\\\\n",
       "\tb4 & 1.000000e+00 & 1.305237e+03 & 1.317237e+03 & 1.135539e+01 & 7.522941e-04\\\\\n",
       "\tb5 & 1.000000e+00 & 1.492950e+03 & 1.504950e+03 & 1.990681e+02 & 3.335693e-45\\\\\n",
       "\tb7 &    1.000 & 5114.362 & 5126.362 & 3820.481 &    0.000\\\\\n",
       "\tb9 & 1.000000e+00 & 1.367413e+03 & 1.379413e+03 & 7.353171e+01 & 9.903246e-18\\\\\n",
       "\tscene & 1.000000e+00 & 1.462616e+03 & 1.474616e+03 & 1.687340e+02 & 1.398566e-38\\\\\n",
       "\\end{tabular}\n"
      ],
      "text/plain": [
       "Single term deletions\n",
       "\n",
       "Model:\n",
       "answ1 ~ b3 + b4 + b5 + b7 + b9 + scene\n",
       "       Df Deviance    AIC    LRT  Pr(>Chi)    \n",
       "<none>      1293.9 1307.9                     \n",
       "b3      1   1301.2 1313.2    7.3 0.0069466 ** \n",
       "b4      1   1305.2 1317.2   11.4 0.0007523 ***\n",
       "b5      1   1492.9 1504.9  199.1 < 2.2e-16 ***\n",
       "b7      1   5114.4 5126.4 3820.5 < 2.2e-16 ***\n",
       "b9      1   1367.4 1379.4   73.5 < 2.2e-16 ***\n",
       "scene   1   1462.6 1474.6  168.7 < 2.2e-16 ***\n",
       "---\n",
       "Signif. codes:  0 ‘***’ 0.001 ‘**’ 0.01 ‘*’ 0.05 ‘.’ 0.1 ‘ ’ 1"
      ]
     },
     "metadata": {},
     "output_type": "display_data"
    }
   ],
   "source": [
    "simple.glm6 = glm(answ1~ b3 + b4 + b5 +b7 + b9 + scene, data=pdata, family=binomial)\n",
    "summary(simple.glm6)\n",
    "drop1(simple.glm6, test=\"Chi\")"
   ]
  },
  {
   "cell_type": "markdown",
   "metadata": {},
   "source": [
    "Больше удалять нечего. Эта модель -- максимум точности, которой мы можем достичь при анализе. К сожалению, среди значимых коэффициентов осталась переменная scene, что означает, что в модели должен фигурировать идентификатор сцены. Автоматически это означает, что для каждой сцены, по сути, мы должы будем строить свою модель. Альтернативный вариант -- использование смешанных моделей (mixed effects), что даст значительно усложнение всех вычислений.\n",
    "\n",
    "Итак, надежда на то, что сцена окажется не значимой, и можно построить модель, в которой не фигурирует идентификатор сцены, не оправдалась. Вернемся на шаг назад, вручную удалим все переменные, которые зависят от сцены (см. первый этап анализа), затем повторим процедуру отбора оптимальной модели и посмотрим, насколько ухудшадся показатели такой модели по сравнению с simple.glm6. \n",
    "\n",
    "Ниже повторяется вся процедура отбора переменных без дополнительных комментарив:"
   ]
  },
  {
   "cell_type": "code",
   "execution_count": 28,
   "metadata": {
    "collapsed": false
   },
   "outputs": [
    {
     "name": "stderr",
     "output_type": "stream",
     "text": [
      "Warning message:\n",
      ": glm.fit: fitted probabilities numerically 0 or 1 occurred"
     ]
    },
    {
     "data": {
      "text/plain": [
       "\n",
       "Call:\n",
       "glm(formula = answ1 ~ b1 + b2 + b3 + b4 + b5 + b6 + b7, family = binomial, \n",
       "    data = pdata)\n",
       "\n",
       "Deviance Residuals: \n",
       "    Min       1Q   Median       3Q      Max  \n",
       "-4.3647  -0.0290  -0.0156  -0.0091   4.3224  \n",
       "\n",
       "Coefficients:\n",
       "            Estimate Std. Error z value Pr(>|z|)    \n",
       "(Intercept)  -15.105      1.288 -11.725  < 2e-16 ***\n",
       "b1           102.756     36.813   2.791  0.00525 ** \n",
       "b2           -65.801     40.518  -1.624  0.10437    \n",
       "b3           -70.817     33.606  -2.107  0.03509 *  \n",
       "b4            47.993     21.618   2.220  0.02642 *  \n",
       "b5           -30.658      3.171  -9.670  < 2e-16 ***\n",
       "b6            34.449     11.312   3.045  0.00232 ** \n",
       "b7            80.444     13.096   6.142 8.13e-10 ***\n",
       "---\n",
       "Signif. codes:  0 ‘***’ 0.001 ‘**’ 0.01 ‘*’ 0.05 ‘.’ 0.1 ‘ ’ 1\n",
       "\n",
       "(Dispersion parameter for binomial family taken to be 1)\n",
       "\n",
       "    Null deviance: 14053.6  on 50538  degrees of freedom\n",
       "Residual deviance:  1438.2  on 50531  degrees of freedom\n",
       "AIC: 1454.2\n",
       "\n",
       "Number of Fisher Scoring iterations: 10\n"
      ]
     },
     "metadata": {},
     "output_type": "display_data"
    },
    {
     "name": "stderr",
     "output_type": "stream",
     "text": [
      "Warning message:\n",
      ": glm.fit: fitted probabilities numerically 0 or 1 occurredWarning message:\n",
      ": glm.fit: fitted probabilities numerically 0 or 1 occurredWarning message:\n",
      ": glm.fit: fitted probabilities numerically 0 or 1 occurredWarning message:\n",
      ": glm.fit: fitted probabilities numerically 0 or 1 occurredWarning message:\n",
      ": glm.fit: fitted probabilities numerically 0 or 1 occurredWarning message:\n",
      ": glm.fit: fitted probabilities numerically 0 or 1 occurredWarning message:\n",
      ": glm.fit: fitted probabilities numerically 0 or 1 occurred"
     ]
    },
    {
     "data": {
      "text/html": [
       "<table>\n",
       "<thead><tr><th></th><th scope=col>Df</th><th scope=col>Deviance</th><th scope=col>AIC</th><th scope=col>LRT</th><th scope=col>Pr(&gt;Chi)</th></tr></thead>\n",
       "<tbody>\n",
       "\t<tr><th scope=row>&lt;none&gt;</th><td>      NA</td><td>1438.155</td><td>1454.155</td><td>      NA</td><td>      NA</td></tr>\n",
       "\t<tr><th scope=row>b1</th><td>1.000000e+00</td><td>1.446026e+03</td><td>1.460026e+03</td><td>7.871087e+00</td><td>5.023144e-03</td></tr>\n",
       "\t<tr><th scope=row>b2</th><td>   1.000000</td><td>1440.805798</td><td>1454.805798</td><td>   2.651043</td><td>   0.103482</td></tr>\n",
       "\t<tr><th scope=row>b3</th><td>1.000000e+00</td><td>1.442571e+03</td><td>1.456571e+03</td><td>4.416502e+00</td><td>3.559292e-02</td></tr>\n",
       "\t<tr><th scope=row>b4</th><td>1.000000e+00</td><td>1.443011e+03</td><td>1.457011e+03</td><td>4.855902e+00</td><td>2.755171e-02</td></tr>\n",
       "\t<tr><th scope=row>b5</th><td>1.000000e+00</td><td>1.545974e+03</td><td>1.559974e+03</td><td>1.078194e+02</td><td>2.944222e-25</td></tr>\n",
       "\t<tr><th scope=row>b6</th><td>1.000000e+00</td><td>1.447446e+03</td><td>1.461446e+03</td><td>9.291302e+00</td><td>2.302445e-03</td></tr>\n",
       "\t<tr><th scope=row>b7</th><td>1.000000e+00</td><td>1.477756e+03</td><td>1.491756e+03</td><td>3.960169e+01</td><td>3.114140e-10</td></tr>\n",
       "</tbody>\n",
       "</table>\n"
      ],
      "text/latex": [
       "\\begin{tabular}{r|lllll}\n",
       "  & Df & Deviance & AIC & LRT & Pr(>Chi)\\\\\n",
       "\\hline\n",
       "\t<none> &       NA & 1438.155 & 1454.155 &       NA &       NA\\\\\n",
       "\tb1 & 1.000000e+00 & 1.446026e+03 & 1.460026e+03 & 7.871087e+00 & 5.023144e-03\\\\\n",
       "\tb2 &    1.000000 & 1440.805798 & 1454.805798 &    2.651043 &    0.103482\\\\\n",
       "\tb3 & 1.000000e+00 & 1.442571e+03 & 1.456571e+03 & 4.416502e+00 & 3.559292e-02\\\\\n",
       "\tb4 & 1.000000e+00 & 1.443011e+03 & 1.457011e+03 & 4.855902e+00 & 2.755171e-02\\\\\n",
       "\tb5 & 1.000000e+00 & 1.545974e+03 & 1.559974e+03 & 1.078194e+02 & 2.944222e-25\\\\\n",
       "\tb6 & 1.000000e+00 & 1.447446e+03 & 1.461446e+03 & 9.291302e+00 & 2.302445e-03\\\\\n",
       "\tb7 & 1.000000e+00 & 1.477756e+03 & 1.491756e+03 & 3.960169e+01 & 3.114140e-10\\\\\n",
       "\\end{tabular}\n"
      ],
      "text/plain": [
       "Single term deletions\n",
       "\n",
       "Model:\n",
       "answ1 ~ b1 + b2 + b3 + b4 + b5 + b6 + b7\n",
       "       Df Deviance    AIC     LRT  Pr(>Chi)    \n",
       "<none>      1438.2 1454.2                      \n",
       "b1      1   1446.0 1460.0   7.871  0.005023 ** \n",
       "b2      1   1440.8 1454.8   2.651  0.103482    \n",
       "b3      1   1442.6 1456.6   4.417  0.035593 *  \n",
       "b4      1   1443.0 1457.0   4.856  0.027552 *  \n",
       "b5      1   1546.0 1560.0 107.819 < 2.2e-16 ***\n",
       "b6      1   1447.5 1461.5   9.291  0.002302 ** \n",
       "b7      1   1477.8 1491.8  39.602 3.114e-10 ***\n",
       "---\n",
       "Signif. codes:  0 ‘***’ 0.001 ‘**’ 0.01 ‘*’ 0.05 ‘.’ 0.1 ‘ ’ 1"
      ]
     },
     "metadata": {},
     "output_type": "display_data"
    }
   ],
   "source": [
    "simple.glm7 = glm(answ1~b1 + b2 + b3 + b4 + b5 + b6 +b7, data=pdata, family=binomial)\n",
    "summary(simple.glm7)\n",
    "drop1(simple.glm7, test=\"Chi\")"
   ]
  },
  {
   "cell_type": "code",
   "execution_count": 29,
   "metadata": {
    "collapsed": false
   },
   "outputs": [
    {
     "name": "stderr",
     "output_type": "stream",
     "text": [
      "Warning message:\n",
      ": glm.fit: fitted probabilities numerically 0 or 1 occurred"
     ]
    },
    {
     "data": {
      "text/plain": [
       "\n",
       "Call:\n",
       "glm(formula = answ1 ~ b1 + b3 + b4 + b5 + b6 + b7, family = binomial, \n",
       "    data = pdata)\n",
       "\n",
       "Deviance Residuals: \n",
       "    Min       1Q   Median       3Q      Max  \n",
       "-4.3814  -0.0291  -0.0158  -0.0093   4.3174  \n",
       "\n",
       "Coefficients:\n",
       "            Estimate Std. Error z value Pr(>|z|)    \n",
       "(Intercept)  -13.943      1.065 -13.093  < 2e-16 ***\n",
       "b1            47.000     13.733   3.422 0.000621 ***\n",
       "b3           -63.187     33.583  -1.882 0.059902 .  \n",
       "b4            29.917     18.754   1.595 0.110650    \n",
       "b5           -31.536      3.131 -10.073  < 2e-16 ***\n",
       "b6            38.963     10.989   3.545 0.000392 ***\n",
       "b7            75.563     12.743   5.930 3.04e-09 ***\n",
       "---\n",
       "Signif. codes:  0 ‘***’ 0.001 ‘**’ 0.01 ‘*’ 0.05 ‘.’ 0.1 ‘ ’ 1\n",
       "\n",
       "(Dispersion parameter for binomial family taken to be 1)\n",
       "\n",
       "    Null deviance: 14053.6  on 50538  degrees of freedom\n",
       "Residual deviance:  1440.8  on 50532  degrees of freedom\n",
       "AIC: 1454.8\n",
       "\n",
       "Number of Fisher Scoring iterations: 10\n"
      ]
     },
     "metadata": {},
     "output_type": "display_data"
    },
    {
     "name": "stderr",
     "output_type": "stream",
     "text": [
      "Warning message:\n",
      ": glm.fit: fitted probabilities numerically 0 or 1 occurredWarning message:\n",
      ": glm.fit: fitted probabilities numerically 0 or 1 occurredWarning message:\n",
      ": glm.fit: fitted probabilities numerically 0 or 1 occurredWarning message:\n",
      ": glm.fit: fitted probabilities numerically 0 or 1 occurredWarning message:\n",
      ": glm.fit: fitted probabilities numerically 0 or 1 occurredWarning message:\n",
      ": glm.fit: fitted probabilities numerically 0 or 1 occurred"
     ]
    },
    {
     "data": {
      "text/html": [
       "<table>\n",
       "<thead><tr><th></th><th scope=col>Df</th><th scope=col>Deviance</th><th scope=col>AIC</th><th scope=col>LRT</th><th scope=col>Pr(&gt;Chi)</th></tr></thead>\n",
       "<tbody>\n",
       "\t<tr><th scope=row>&lt;none&gt;</th><td>      NA</td><td>1440.806</td><td>1454.806</td><td>      NA</td><td>      NA</td></tr>\n",
       "\t<tr><th scope=row>b1</th><td>1.000000e+00</td><td>1.457519e+03</td><td>1.469519e+03</td><td>1.671286e+01</td><td>4.348525e-05</td></tr>\n",
       "\t<tr><th scope=row>b3</th><td>1.000000e+00</td><td>1.444625e+03</td><td>1.456625e+03</td><td>3.819134e+00</td><td>5.067041e-02</td></tr>\n",
       "\t<tr><th scope=row>b4</th><td>   1.0000000</td><td>1443.3783405</td><td>1455.3783405</td><td>   2.5725424</td><td>   0.1087329</td></tr>\n",
       "\t<tr><th scope=row>b5</th><td>1.000000e+00</td><td>1.558526e+03</td><td>1.570526e+03</td><td>1.177206e+02</td><td>1.996197e-27</td></tr>\n",
       "\t<tr><th scope=row>b6</th><td>1.000000e+00</td><td>1.453345e+03</td><td>1.465345e+03</td><td>1.253926e+01</td><td>3.984911e-04</td></tr>\n",
       "\t<tr><th scope=row>b7</th><td>1.000000e+00</td><td>1.477811e+03</td><td>1.489811e+03</td><td>3.700510e+01</td><td>1.178204e-09</td></tr>\n",
       "</tbody>\n",
       "</table>\n"
      ],
      "text/latex": [
       "\\begin{tabular}{r|lllll}\n",
       "  & Df & Deviance & AIC & LRT & Pr(>Chi)\\\\\n",
       "\\hline\n",
       "\t<none> &       NA & 1440.806 & 1454.806 &       NA &       NA\\\\\n",
       "\tb1 & 1.000000e+00 & 1.457519e+03 & 1.469519e+03 & 1.671286e+01 & 4.348525e-05\\\\\n",
       "\tb3 & 1.000000e+00 & 1.444625e+03 & 1.456625e+03 & 3.819134e+00 & 5.067041e-02\\\\\n",
       "\tb4 &    1.0000000 & 1443.3783405 & 1455.3783405 &    2.5725424 &    0.1087329\\\\\n",
       "\tb5 & 1.000000e+00 & 1.558526e+03 & 1.570526e+03 & 1.177206e+02 & 1.996197e-27\\\\\n",
       "\tb6 & 1.000000e+00 & 1.453345e+03 & 1.465345e+03 & 1.253926e+01 & 3.984911e-04\\\\\n",
       "\tb7 & 1.000000e+00 & 1.477811e+03 & 1.489811e+03 & 3.700510e+01 & 1.178204e-09\\\\\n",
       "\\end{tabular}\n"
      ],
      "text/plain": [
       "Single term deletions\n",
       "\n",
       "Model:\n",
       "answ1 ~ b1 + b3 + b4 + b5 + b6 + b7\n",
       "       Df Deviance    AIC     LRT  Pr(>Chi)    \n",
       "<none>      1440.8 1454.8                      \n",
       "b1      1   1457.5 1469.5  16.713 4.349e-05 ***\n",
       "b3      1   1444.6 1456.6   3.819 0.0506704 .  \n",
       "b4      1   1443.4 1455.4   2.573 0.1087329    \n",
       "b5      1   1558.5 1570.5 117.721 < 2.2e-16 ***\n",
       "b6      1   1453.3 1465.3  12.539 0.0003985 ***\n",
       "b7      1   1477.8 1489.8  37.005 1.178e-09 ***\n",
       "---\n",
       "Signif. codes:  0 ‘***’ 0.001 ‘**’ 0.01 ‘*’ 0.05 ‘.’ 0.1 ‘ ’ 1"
      ]
     },
     "metadata": {},
     "output_type": "display_data"
    }
   ],
   "source": [
    "simple.glm8 = glm(answ1~b1 + b3 + b4 + b5 + b6 +b7, data=pdata, family=binomial)\n",
    "summary(simple.glm8)\n",
    "drop1(simple.glm8, test=\"Chi\")"
   ]
  },
  {
   "cell_type": "code",
   "execution_count": 30,
   "metadata": {
    "collapsed": false
   },
   "outputs": [
    {
     "name": "stderr",
     "output_type": "stream",
     "text": [
      "Warning message:\n",
      ": glm.fit: fitted probabilities numerically 0 or 1 occurred"
     ]
    },
    {
     "data": {
      "text/plain": [
       "\n",
       "Call:\n",
       "glm(formula = answ1 ~ b1 + b3 + b5 + b6 + b7, family = binomial, \n",
       "    data = pdata)\n",
       "\n",
       "Deviance Residuals: \n",
       "    Min       1Q   Median       3Q      Max  \n",
       "-4.3205  -0.0293  -0.0163  -0.0096   4.2957  \n",
       "\n",
       "Coefficients:\n",
       "            Estimate Std. Error z value Pr(>|z|)    \n",
       "(Intercept)  -13.513      1.000 -13.512  < 2e-16 ***\n",
       "b1            32.036      9.411   3.404 0.000664 ***\n",
       "b3           -13.358     10.785  -1.239 0.215518    \n",
       "b5           -32.009      3.074 -10.411  < 2e-16 ***\n",
       "b6            42.514     10.723   3.965 7.34e-05 ***\n",
       "b7            70.289     12.227   5.749 8.99e-09 ***\n",
       "---\n",
       "Signif. codes:  0 ‘***’ 0.001 ‘**’ 0.01 ‘*’ 0.05 ‘.’ 0.1 ‘ ’ 1\n",
       "\n",
       "(Dispersion parameter for binomial family taken to be 1)\n",
       "\n",
       "    Null deviance: 14053.6  on 50538  degrees of freedom\n",
       "Residual deviance:  1443.4  on 50533  degrees of freedom\n",
       "AIC: 1455.4\n",
       "\n",
       "Number of Fisher Scoring iterations: 10\n"
      ]
     },
     "metadata": {},
     "output_type": "display_data"
    },
    {
     "name": "stderr",
     "output_type": "stream",
     "text": [
      "Warning message:\n",
      ": glm.fit: fitted probabilities numerically 0 or 1 occurredWarning message:\n",
      ": glm.fit: fitted probabilities numerically 0 or 1 occurredWarning message:\n",
      ": glm.fit: fitted probabilities numerically 0 or 1 occurredWarning message:\n",
      ": glm.fit: fitted probabilities numerically 0 or 1 occurredWarning message:\n",
      ": glm.fit: fitted probabilities numerically 0 or 1 occurred"
     ]
    },
    {
     "data": {
      "text/html": [
       "<table>\n",
       "<thead><tr><th></th><th scope=col>Df</th><th scope=col>Deviance</th><th scope=col>AIC</th><th scope=col>LRT</th><th scope=col>Pr(&gt;Chi)</th></tr></thead>\n",
       "<tbody>\n",
       "\t<tr><th scope=row>&lt;none&gt;</th><td>      NA</td><td>1443.378</td><td>1455.378</td><td>      NA</td><td>      NA</td></tr>\n",
       "\t<tr><th scope=row>b1</th><td>1.000000e+00</td><td>1.457523e+03</td><td>1.467523e+03</td><td>1.414423e+01</td><td>1.693160e-04</td></tr>\n",
       "\t<tr><th scope=row>b3</th><td>   1.0000000</td><td>1444.9792568</td><td>1454.9792568</td><td>   1.6009163</td><td>   0.2057734</td></tr>\n",
       "\t<tr><th scope=row>b5</th><td>1.000000e+00</td><td>1.567276e+03</td><td>1.577276e+03</td><td>1.238977e+02</td><td>8.869957e-29</td></tr>\n",
       "\t<tr><th scope=row>b6</th><td>1.000000e+00</td><td>1.459115e+03</td><td>1.469115e+03</td><td>1.573627e+01</td><td>7.281458e-05</td></tr>\n",
       "\t<tr><th scope=row>b7</th><td>1.000000e+00</td><td>1.477851e+03</td><td>1.487851e+03</td><td>3.447230e+01</td><td>4.323603e-09</td></tr>\n",
       "</tbody>\n",
       "</table>\n"
      ],
      "text/latex": [
       "\\begin{tabular}{r|lllll}\n",
       "  & Df & Deviance & AIC & LRT & Pr(>Chi)\\\\\n",
       "\\hline\n",
       "\t<none> &       NA & 1443.378 & 1455.378 &       NA &       NA\\\\\n",
       "\tb1 & 1.000000e+00 & 1.457523e+03 & 1.467523e+03 & 1.414423e+01 & 1.693160e-04\\\\\n",
       "\tb3 &    1.0000000 & 1444.9792568 & 1454.9792568 &    1.6009163 &    0.2057734\\\\\n",
       "\tb5 & 1.000000e+00 & 1.567276e+03 & 1.577276e+03 & 1.238977e+02 & 8.869957e-29\\\\\n",
       "\tb6 & 1.000000e+00 & 1.459115e+03 & 1.469115e+03 & 1.573627e+01 & 7.281458e-05\\\\\n",
       "\tb7 & 1.000000e+00 & 1.477851e+03 & 1.487851e+03 & 3.447230e+01 & 4.323603e-09\\\\\n",
       "\\end{tabular}\n"
      ],
      "text/plain": [
       "Single term deletions\n",
       "\n",
       "Model:\n",
       "answ1 ~ b1 + b3 + b5 + b6 + b7\n",
       "       Df Deviance    AIC     LRT  Pr(>Chi)    \n",
       "<none>      1443.4 1455.4                      \n",
       "b1      1   1457.5 1467.5  14.144 0.0001693 ***\n",
       "b3      1   1445.0 1455.0   1.601 0.2057734    \n",
       "b5      1   1567.3 1577.3 123.898 < 2.2e-16 ***\n",
       "b6      1   1459.1 1469.1  15.736 7.281e-05 ***\n",
       "b7      1   1477.8 1487.8  34.472 4.324e-09 ***\n",
       "---\n",
       "Signif. codes:  0 ‘***’ 0.001 ‘**’ 0.01 ‘*’ 0.05 ‘.’ 0.1 ‘ ’ 1"
      ]
     },
     "metadata": {},
     "output_type": "display_data"
    }
   ],
   "source": [
    "simple.glm9 = glm(answ1~b1 + b3 + b5 + b6 +b7, data=pdata, family=binomial)\n",
    "summary(simple.glm9)\n",
    "drop1(simple.glm9, test=\"Chi\")"
   ]
  },
  {
   "cell_type": "code",
   "execution_count": 31,
   "metadata": {
    "collapsed": false
   },
   "outputs": [
    {
     "name": "stderr",
     "output_type": "stream",
     "text": [
      "Warning message:\n",
      ": glm.fit: fitted probabilities numerically 0 or 1 occurred"
     ]
    },
    {
     "data": {
      "text/plain": [
       "\n",
       "Call:\n",
       "glm(formula = answ1 ~ b1 + b5 + b6 + b7, family = binomial, data = pdata)\n",
       "\n",
       "Deviance Residuals: \n",
       "    Min       1Q   Median       3Q      Max  \n",
       "-4.3348  -0.0290  -0.0160  -0.0096   4.2994  \n",
       "\n",
       "Coefficients:\n",
       "            Estimate Std. Error z value Pr(>|z|)    \n",
       "(Intercept) -12.4185     0.4587 -27.073  < 2e-16 ***\n",
       "b1           20.8339     2.6116   7.977 1.49e-15 ***\n",
       "b5          -34.7703     2.1604 -16.095  < 2e-16 ***\n",
       "b6           45.3291    10.4937   4.320 1.56e-05 ***\n",
       "b7           67.9584    12.0931   5.620 1.91e-08 ***\n",
       "---\n",
       "Signif. codes:  0 ‘***’ 0.001 ‘**’ 0.01 ‘*’ 0.05 ‘.’ 0.1 ‘ ’ 1\n",
       "\n",
       "(Dispersion parameter for binomial family taken to be 1)\n",
       "\n",
       "    Null deviance: 14054  on 50538  degrees of freedom\n",
       "Residual deviance:  1445  on 50534  degrees of freedom\n",
       "AIC: 1455\n",
       "\n",
       "Number of Fisher Scoring iterations: 10\n"
      ]
     },
     "metadata": {},
     "output_type": "display_data"
    },
    {
     "name": "stderr",
     "output_type": "stream",
     "text": [
      "Warning message:\n",
      ": glm.fit: fitted probabilities numerically 0 or 1 occurredWarning message:\n",
      ": glm.fit: fitted probabilities numerically 0 or 1 occurredWarning message:\n",
      ": glm.fit: fitted probabilities numerically 0 or 1 occurredWarning message:\n",
      ": glm.fit: fitted probabilities numerically 0 or 1 occurred"
     ]
    },
    {
     "data": {
      "text/html": [
       "<table>\n",
       "<thead><tr><th></th><th scope=col>Df</th><th scope=col>Deviance</th><th scope=col>AIC</th><th scope=col>LRT</th><th scope=col>Pr(&gt;Chi)</th></tr></thead>\n",
       "<tbody>\n",
       "\t<tr><th scope=row>&lt;none&gt;</th><td>      NA</td><td>1444.979</td><td>1454.979</td><td>      NA</td><td>      NA</td></tr>\n",
       "\t<tr><th scope=row>b1</th><td>1.000000e+00</td><td>1.514534e+03</td><td>1.522534e+03</td><td>6.955486e+01</td><td>7.431837e-17</td></tr>\n",
       "\t<tr><th scope=row>b5</th><td> 1.000000e+00</td><td> 2.008890e+03</td><td> 2.016890e+03</td><td> 5.639107e+02</td><td>1.185530e-124</td></tr>\n",
       "\t<tr><th scope=row>b6</th><td>1.000000e+00</td><td>1.463680e+03</td><td>1.471680e+03</td><td>1.870055e+01</td><td>1.529382e-05</td></tr>\n",
       "\t<tr><th scope=row>b7</th><td>1.000000e+00</td><td>1.477961e+03</td><td>1.485961e+03</td><td>3.298191e+01</td><td>9.302018e-09</td></tr>\n",
       "</tbody>\n",
       "</table>\n"
      ],
      "text/latex": [
       "\\begin{tabular}{r|lllll}\n",
       "  & Df & Deviance & AIC & LRT & Pr(>Chi)\\\\\n",
       "\\hline\n",
       "\t<none> &       NA & 1444.979 & 1454.979 &       NA &       NA\\\\\n",
       "\tb1 & 1.000000e+00 & 1.514534e+03 & 1.522534e+03 & 6.955486e+01 & 7.431837e-17\\\\\n",
       "\tb5 &  1.000000e+00 &  2.008890e+03 &  2.016890e+03 &  5.639107e+02 & 1.185530e-124\\\\\n",
       "\tb6 & 1.000000e+00 & 1.463680e+03 & 1.471680e+03 & 1.870055e+01 & 1.529382e-05\\\\\n",
       "\tb7 & 1.000000e+00 & 1.477961e+03 & 1.485961e+03 & 3.298191e+01 & 9.302018e-09\\\\\n",
       "\\end{tabular}\n"
      ],
      "text/plain": [
       "Single term deletions\n",
       "\n",
       "Model:\n",
       "answ1 ~ b1 + b5 + b6 + b7\n",
       "       Df Deviance    AIC    LRT  Pr(>Chi)    \n",
       "<none>      1445.0 1455.0                     \n",
       "b1      1   1514.5 1522.5  69.55 < 2.2e-16 ***\n",
       "b5      1   2008.9 2016.9 563.91 < 2.2e-16 ***\n",
       "b6      1   1463.7 1471.7  18.70 1.529e-05 ***\n",
       "b7      1   1478.0 1486.0  32.98 9.302e-09 ***\n",
       "---\n",
       "Signif. codes:  0 ‘***’ 0.001 ‘**’ 0.01 ‘*’ 0.05 ‘.’ 0.1 ‘ ’ 1"
      ]
     },
     "metadata": {},
     "output_type": "display_data"
    }
   ],
   "source": [
    "simple.glm10 = glm(answ1~b1 + b5 + b6 +b7, data=pdata, family=binomial)\n",
    "summary(simple.glm10)\n",
    "drop1(simple.glm10, test=\"Chi\")"
   ]
  },
  {
   "cell_type": "markdown",
   "metadata": {},
   "source": [
    "Итак, в этом случае оптимальный набор переменных: b1, b5, b6, b7. AIC: 1455 (для сравнения: AIC у simple.glm6 равен 1307.9)."
   ]
  },
  {
   "cell_type": "markdown",
   "metadata": {
    "collapsed": true
   },
   "source": [
    "<a id='CloudsValidation'></a>\n",
    "##### Валидация модели"
   ]
  },
  {
   "cell_type": "markdown",
   "metadata": {},
   "source": [
    "Посмотрим, нет ли каких-либо закономерностей в ответах. Для этого построим график зависимостей остатков от подогнанных значений."
   ]
  },
  {
   "cell_type": "markdown",
   "metadata": {},
   "source": [
    "Для оценки качества модели изучим поведение зависимости остатков (невязка модели) от прогнозируемой величины и от независимых переменных. В идеале остатки не должны показывать каких-либо закономерностей."
   ]
  },
  {
   "cell_type": "code",
   "execution_count": 32,
   "metadata": {
    "collapsed": false
   },
   "outputs": [
    {
     "data": {
      "text/html": [
       "<strong>png:</strong> 2"
      ],
      "text/latex": [
       "\\textbf{png:} 2"
      ],
      "text/markdown": [
       "**png:** 2"
      ],
      "text/plain": [
       "png \n",
       "  2 "
      ]
     },
     "metadata": {},
     "output_type": "display_data"
    }
   ],
   "source": [
    "E10 = resid(simple.glm10, type=\"response\")\n",
    "png(\"Img/CMASK/glm10_res_fitted.png\", width=728, height=728, units=\"px\")\n",
    "  plot(simple.glm10$fitted.values, E10, cex=0.1)\n",
    "dev.off()"
   ]
  },
  {
   "cell_type": "markdown",
   "metadata": {},
   "source": [
    "<img src=\"https://176.9.38.120/cruncher/files/deforestation/Img/CMASK/glm10_res_fitted.png\">"
   ]
  },
  {
   "cell_type": "markdown",
   "metadata": {},
   "source": [
    "Поскольку ответ логистической регрессии это один или ноль, а значений, использующихся для подгонки достаточно много, то на графике видим две полосы точек (остатков). В итогое понять, есть ли закономерность в остатках становится сложно. Поэтому упорядочим полученные ответы по возрастанию fitted.values, разобьем их на группы и посчитаем в каждой группе среднее значение невязки (средний остаток)."
   ]
  },
  {
   "cell_type": "code",
   "execution_count": 33,
   "metadata": {
    "collapsed": false
   },
   "outputs": [
    {
     "data": {
      "text/html": [
       "<strong>png:</strong> 2"
      ],
      "text/latex": [
       "\\textbf{png:} 2"
      ],
      "text/markdown": [
       "**png:** 2"
      ],
      "text/plain": [
       "png \n",
       "  2 "
      ]
     },
     "metadata": {},
     "output_type": "display_data"
    }
   ],
   "source": [
    "ER10 = data.frame(err=E10, fitted=simple.glm10$fitted.values, \n",
    "                b1=pdata$b1, b2=pdata$b2, b3=pdata$b3, b4=pdata$b4, b5=pdata$b5, b6=pdata$b6, \n",
    "                b7=pdata$b7, b9=pdata$b9, b10=pdata$b10, b11=pdata$b11, scene=pdata$scene)\n",
    "\n",
    "# Сортируем по порядку прогнозируемых величин\n",
    "ER10 = ER10[order(ER10$fitted), ]\n",
    "\n",
    "# Разбиваем на группы\n",
    "group_size = 100\n",
    "ER10 = cbind(id=(1:length(ER10$fitted))%/% group_size, ER10)\n",
    "# Вычислим среднее значение ошибки в каждой группе и поместим в таблицу\n",
    "lookup_table = aggregate(ER10['err'], by=list(ER10$id), FUN=mean)\n",
    "names(lookup_table) = c('id', 'err')\n",
    "\n",
    "# Создадим вектор из средний значений ошибок \n",
    "a = sapply(ER10$id, function(id){lookup_table[lookup_table$id==id, 'err']})\n",
    "\n",
    "ER10 = cbind(ER10, mean.err=a)\n",
    "\n",
    "\n",
    "png(\"Img/CMASK/glm10_res_fitted_srt.png\", width=728, height=728, units=\"px\")\n",
    "  plot(ER10$fitted, ER10$mean.err, cex=0.1)\n",
    "dev.off()"
   ]
  },
  {
   "cell_type": "markdown",
   "metadata": {},
   "source": [
    "<img src=\"https://176.9.38.120/cruncher/files/deforestation/Img/CMASK/glm10_res_fitted_srt.png\">"
   ]
  },
  {
   "cell_type": "markdown",
   "metadata": {},
   "source": [
    "Как видим, в усредненных остатках есть некоторая тенденция: если прогнозируемое значение близко к нулю (не облако), то остаток скорее будет отцательным, для средних прогнозируемых значений остатки чаще положительны, а если прогнозируемое значение близко к единице, то отстаток опять будет скорее отрицательным. Для идеально подогнанной кривой усредненные остатки должны быть более-менее равномерно разбросаны вокруг нуля и не зависеть от прогнозируемой величины."
   ]
  },
  {
   "cell_type": "markdown",
   "metadata": {},
   "source": [
    "Аналогично, построим графики зависимостей остатков от всех переменных (как использованных в модели, так и не использованных)."
   ]
  },
  {
   "cell_type": "code",
   "execution_count": 34,
   "metadata": {
    "collapsed": false
   },
   "outputs": [
    {
     "data": {
      "text/html": [
       "<strong>png:</strong> 2"
      ],
      "text/latex": [
       "\\textbf{png:} 2"
      ],
      "text/markdown": [
       "**png:** 2"
      ],
      "text/plain": [
       "png \n",
       "  2 "
      ]
     },
     "metadata": {},
     "output_type": "display_data"
    }
   ],
   "source": [
    "png(\"Img/CMASK/glm10_res_bXX_srt.png\", width=728, height=728, units=\"px\")\n",
    "    par(mfrow = c(3, 4))\n",
    "    plot(ER10$b1, ER10$mean.err, cex=0.1)\n",
    "    plot(ER10$b2, ER10$mean.err, cex=0.1)\n",
    "    plot(ER10$b3, ER10$mean.err, cex=0.1)\n",
    "    plot(ER10$b4, ER10$mean.err, cex=0.1)\n",
    "\n",
    "    plot(ER10$b5, ER10$mean.err, cex=0.1)\n",
    "    plot(ER10$b6, ER10$mean.err, cex=0.1)\n",
    "    plot(ER10$b7, ER10$mean.err, cex=0.1)\n",
    "\n",
    "    plot(ER10$b9, ER10$mean.err, cex=0.1)\n",
    "\n",
    "    plot(ER10$b10, ER10$mean.err, cex=0.1)\n",
    "    plot(ER10$b11, ER10$mean.err, cex=0.1)\n",
    "\n",
    "    boxplot(ER10$mean.err ~ ER10$scene, cex=0.1)\n",
    "\n",
    "    par(opar)\n",
    "dev.off()"
   ]
  },
  {
   "cell_type": "markdown",
   "metadata": {},
   "source": [
    "<img src=\"https://176.9.38.120/cruncher/files/deforestation/Img/CMASK/glm10_res_bXX_srt.png\">"
   ]
  },
  {
   "cell_type": "markdown",
   "metadata": {},
   "source": [
    "Каких-то бросающихся в глаза тенденций (например, низких значений остатков при высоких величинах переменных или чего-нибудь в этом роде) в зависимости остатков от каналов не заметно: отрицательные остатки обычно уравновешиваются положительными. Также хорошая новость в том, что остатки не показывают зависимости от сцены."
   ]
  },
  {
   "cell_type": "markdown",
   "metadata": {},
   "source": [
    "<a id='CloudsResume'></a>\n",
    "##### Вывод"
   ]
  },
  {
   "cell_type": "markdown",
   "metadata": {},
   "source": [
    "Таким образом возьмем в качестве первого приближения данную модель:"
   ]
  },
  {
   "cell_type": "code",
   "execution_count": 36,
   "metadata": {
    "collapsed": true
   },
   "outputs": [],
   "source": [
    "cloud.model = simple.glm10"
   ]
  },
  {
   "cell_type": "markdown",
   "metadata": {},
   "source": [
    "Будем считать с некоторыми оговорками (см. закономерности в остатах на графике остатки-прогнозные величины), что модель отражает реальное положение дел."
   ]
  },
  {
   "cell_type": "markdown",
   "metadata": {},
   "source": [
    "<a id='Snow'></a>\n",
    "#### Снег-не-снег"
   ]
  },
  {
   "cell_type": "markdown",
   "metadata": {},
   "source": [
    "<a id='SnowModel1'></a>\n",
    "#### Построение модели"
   ]
  },
  {
   "cell_type": "markdown",
   "metadata": {},
   "source": [
    "Построим модель определяющую, явлеяется ли данный пиксель снегом. Для начала построим модель со всеми имеющимися переменными, включая название сцены. Логика построения следует логике, описанной в разделе построения модели по облакам. Поэтому подробности здесь опускаются."
   ]
  },
  {
   "cell_type": "code",
   "execution_count": 38,
   "metadata": {
    "collapsed": false
   },
   "outputs": [
    {
     "data": {
      "text/plain": [
       "\n",
       "Call:\n",
       "glm(formula = answ2 ~ b1 + b2 + b3 + b4 + b5 + b6 + b7 + b9 + \n",
       "    b10 + b11 + scene, family = binomial, data = pdata)\n",
       "\n",
       "Deviance Residuals: \n",
       "    Min       1Q   Median       3Q      Max  \n",
       "-5.4517  -0.0508  -0.0264  -0.0154   4.6237  \n",
       "\n",
       "Coefficients:\n",
       "             Estimate Std. Error z value Pr(>|z|)    \n",
       "(Intercept)  33.24812    5.69266   5.841 5.20e-09 ***\n",
       "b1          -14.17302   10.64750  -1.331  0.18315    \n",
       "b2           10.32504   11.31638   0.912  0.36156    \n",
       "b3          -23.81504    9.11468  -2.613  0.00898 ** \n",
       "b4           71.49703    6.89834  10.364  < 2e-16 ***\n",
       "b5           -4.11483    1.46946  -2.800  0.00511 ** \n",
       "b6           34.39465    8.34044   4.124 3.73e-05 ***\n",
       "b7          -85.42956    9.90302  -8.627  < 2e-16 ***\n",
       "b9            1.81237    2.95947   0.612  0.54028    \n",
       "b10           0.03536    0.07452   0.474  0.63516    \n",
       "b11          -0.20574    0.07156  -2.875  0.00404 ** \n",
       "sceneS2      -3.08600    0.22752 -13.564  < 2e-16 ***\n",
       "---\n",
       "Signif. codes:  0 ‘***’ 0.001 ‘**’ 0.01 ‘*’ 0.05 ‘.’ 0.1 ‘ ’ 1\n",
       "\n",
       "(Dispersion parameter for binomial family taken to be 1)\n",
       "\n",
       "    Null deviance: 26184  on 50538  degrees of freedom\n",
       "Residual deviance:  4111  on 50527  degrees of freedom\n",
       "AIC: 4135\n",
       "\n",
       "Number of Fisher Scoring iterations: 9\n"
      ]
     },
     "metadata": {},
     "output_type": "display_data"
    },
    {
     "name": "stderr",
     "output_type": "stream",
     "text": [
      "Warning message:\n",
      ": glm.fit: fitted probabilities numerically 0 or 1 occurred"
     ]
    },
    {
     "data": {
      "text/html": [
       "<table>\n",
       "<thead><tr><th></th><th scope=col>Df</th><th scope=col>Deviance</th><th scope=col>AIC</th><th scope=col>LRT</th><th scope=col>Pr(&gt;Chi)</th></tr></thead>\n",
       "<tbody>\n",
       "\t<tr><th scope=row>&lt;none&gt;</th><td>      NA</td><td>4111.006</td><td>4135.006</td><td>      NA</td><td>      NA</td></tr>\n",
       "\t<tr><th scope=row>b1</th><td>   1.0000000</td><td>4112.7820595</td><td>4134.7820595</td><td>   1.7756547</td><td>   0.1826838</td></tr>\n",
       "\t<tr><th scope=row>b2</th><td>   1.0000000</td><td>4111.8393444</td><td>4133.8393444</td><td>   0.8329396</td><td>   0.3614239</td></tr>\n",
       "\t<tr><th scope=row>b3</th><td>1.000000e+00</td><td>4.117866e+03</td><td>4.139866e+03</td><td>6.859756e+00</td><td>8.815857e-03</td></tr>\n",
       "\t<tr><th scope=row>b4</th><td>1.000000e+00</td><td>4.222330e+03</td><td>4.244330e+03</td><td>1.113240e+02</td><td>5.024817e-26</td></tr>\n",
       "\t<tr><th scope=row>b5</th><td>1.000000e+00</td><td>4.118951e+03</td><td>4.140951e+03</td><td>7.945046e+00</td><td>4.821919e-03</td></tr>\n",
       "\t<tr><th scope=row>b6</th><td>1.000000e+00</td><td>4.128463e+03</td><td>4.150463e+03</td><td>1.745688e+01</td><td>2.938990e-05</td></tr>\n",
       "\t<tr><th scope=row>b7</th><td>1.000000e+00</td><td>4.189994e+03</td><td>4.211994e+03</td><td>7.898715e+01</td><td>6.251515e-19</td></tr>\n",
       "\t<tr><th scope=row>b9</th><td>   1.0000000</td><td>4111.3809981</td><td>4133.3809981</td><td>   0.3745933</td><td>   0.5405111</td></tr>\n",
       "\t<tr><th scope=row>b10</th><td>   1.0000000</td><td>4111.2316338</td><td>4133.2316338</td><td>   0.2252290</td><td>   0.6350842</td></tr>\n",
       "\t<tr><th scope=row>b11</th><td>1.000000e+00</td><td>4.119307e+03</td><td>4.141307e+03</td><td>8.300266e+00</td><td>3.963928e-03</td></tr>\n",
       "\t<tr><th scope=row>scene</th><td>1.000000e+00</td><td>4.310316e+03</td><td>4.332316e+03</td><td>1.993096e+02</td><td>2.954593e-45</td></tr>\n",
       "</tbody>\n",
       "</table>\n"
      ],
      "text/latex": [
       "\\begin{tabular}{r|lllll}\n",
       "  & Df & Deviance & AIC & LRT & Pr(>Chi)\\\\\n",
       "\\hline\n",
       "\t<none> &       NA & 4111.006 & 4135.006 &       NA &       NA\\\\\n",
       "\tb1 &    1.0000000 & 4112.7820595 & 4134.7820595 &    1.7756547 &    0.1826838\\\\\n",
       "\tb2 &    1.0000000 & 4111.8393444 & 4133.8393444 &    0.8329396 &    0.3614239\\\\\n",
       "\tb3 & 1.000000e+00 & 4.117866e+03 & 4.139866e+03 & 6.859756e+00 & 8.815857e-03\\\\\n",
       "\tb4 & 1.000000e+00 & 4.222330e+03 & 4.244330e+03 & 1.113240e+02 & 5.024817e-26\\\\\n",
       "\tb5 & 1.000000e+00 & 4.118951e+03 & 4.140951e+03 & 7.945046e+00 & 4.821919e-03\\\\\n",
       "\tb6 & 1.000000e+00 & 4.128463e+03 & 4.150463e+03 & 1.745688e+01 & 2.938990e-05\\\\\n",
       "\tb7 & 1.000000e+00 & 4.189994e+03 & 4.211994e+03 & 7.898715e+01 & 6.251515e-19\\\\\n",
       "\tb9 &    1.0000000 & 4111.3809981 & 4133.3809981 &    0.3745933 &    0.5405111\\\\\n",
       "\tb10 &    1.0000000 & 4111.2316338 & 4133.2316338 &    0.2252290 &    0.6350842\\\\\n",
       "\tb11 & 1.000000e+00 & 4.119307e+03 & 4.141307e+03 & 8.300266e+00 & 3.963928e-03\\\\\n",
       "\tscene & 1.000000e+00 & 4.310316e+03 & 4.332316e+03 & 1.993096e+02 & 2.954593e-45\\\\\n",
       "\\end{tabular}\n"
      ],
      "text/plain": [
       "Single term deletions\n",
       "\n",
       "Model:\n",
       "answ2 ~ b1 + b2 + b3 + b4 + b5 + b6 + b7 + b9 + b10 + b11 + scene\n",
       "       Df Deviance    AIC     LRT  Pr(>Chi)    \n",
       "<none>      4111.0 4135.0                      \n",
       "b1      1   4112.8 4134.8   1.776  0.182684    \n",
       "b2      1   4111.8 4133.8   0.833  0.361424    \n",
       "b3      1   4117.9 4139.9   6.860  0.008816 ** \n",
       "b4      1   4222.3 4244.3 111.324 < 2.2e-16 ***\n",
       "b5      1   4119.0 4141.0   7.945  0.004822 ** \n",
       "b6      1   4128.5 4150.5  17.457 2.939e-05 ***\n",
       "b7      1   4190.0 4212.0  78.987 < 2.2e-16 ***\n",
       "b9      1   4111.4 4133.4   0.375  0.540511    \n",
       "b10     1   4111.2 4133.2   0.225  0.635084    \n",
       "b11     1   4119.3 4141.3   8.300  0.003964 ** \n",
       "scene   1   4310.3 4332.3 199.310 < 2.2e-16 ***\n",
       "---\n",
       "Signif. codes:  0 ‘***’ 0.001 ‘**’ 0.01 ‘*’ 0.05 ‘.’ 0.1 ‘ ’ 1"
      ]
     },
     "metadata": {},
     "output_type": "display_data"
    }
   ],
   "source": [
    "simple.glm11 = glm(answ2~b1 + b2 + b3 + b4 + b5 + b6 +b7 + b9 + b10 + b11 + scene, data=pdata, family=binomial)\n",
    "summary(simple.glm11)\n",
    "drop1(simple.glm11, test=\"Chi\")"
   ]
  },
  {
   "cell_type": "code",
   "execution_count": null,
   "metadata": {
    "collapsed": true
   },
   "outputs": [],
   "source": [
    "drop1(simple.glm11, test=\"Chi\")"
   ]
  },
  {
   "cell_type": "code",
   "execution_count": 39,
   "metadata": {
    "collapsed": false
   },
   "outputs": [
    {
     "data": {
      "text/plain": [
       "\n",
       "Call:\n",
       "glm(formula = answ2 ~ b1 + b2 + b3 + b4 + b5 + b6 + b7 + b9 + \n",
       "    b11 + scene, family = binomial, data = pdata)\n",
       "\n",
       "Deviance Residuals: \n",
       "    Min       1Q   Median       3Q      Max  \n",
       "-5.4573  -0.0508  -0.0263  -0.0154   4.6179  \n",
       "\n",
       "Coefficients:\n",
       "             Estimate Std. Error z value Pr(>|z|)    \n",
       "(Intercept)  34.09838    5.40337   6.311 2.78e-10 ***\n",
       "b1          -14.72704   10.58590  -1.391  0.16417    \n",
       "b2           10.48689   11.31599   0.927  0.35407    \n",
       "b3          -23.17515    9.01273  -2.571  0.01013 *  \n",
       "b4           71.15259    6.86105  10.371  < 2e-16 ***\n",
       "b5           -4.07003    1.46638  -2.776  0.00551 ** \n",
       "b6           34.46864    8.31974   4.143 3.43e-05 ***\n",
       "b7          -85.55749    9.87576  -8.663  < 2e-16 ***\n",
       "b9            2.36791    2.71726   0.871  0.38352    \n",
       "b11          -0.17332    0.02123  -8.166 3.20e-16 ***\n",
       "sceneS2      -3.06232    0.22178 -13.808  < 2e-16 ***\n",
       "---\n",
       "Signif. codes:  0 ‘***’ 0.001 ‘**’ 0.01 ‘*’ 0.05 ‘.’ 0.1 ‘ ’ 1\n",
       "\n",
       "(Dispersion parameter for binomial family taken to be 1)\n",
       "\n",
       "    Null deviance: 26183.7  on 50538  degrees of freedom\n",
       "Residual deviance:  4111.2  on 50528  degrees of freedom\n",
       "AIC: 4133.2\n",
       "\n",
       "Number of Fisher Scoring iterations: 9\n"
      ]
     },
     "metadata": {},
     "output_type": "display_data"
    },
    {
     "name": "stderr",
     "output_type": "stream",
     "text": [
      "Warning message:\n",
      ": glm.fit: fitted probabilities numerically 0 or 1 occurred"
     ]
    },
    {
     "data": {
      "text/html": [
       "<table>\n",
       "<thead><tr><th></th><th scope=col>Df</th><th scope=col>Deviance</th><th scope=col>AIC</th><th scope=col>LRT</th><th scope=col>Pr(&gt;Chi)</th></tr></thead>\n",
       "<tbody>\n",
       "\t<tr><th scope=row>&lt;none&gt;</th><td>      NA</td><td>4111.232</td><td>4133.232</td><td>      NA</td><td>      NA</td></tr>\n",
       "\t<tr><th scope=row>b1</th><td>   1.0000000</td><td>4113.1714514</td><td>4133.1714514</td><td>   1.9398176</td><td>   0.1636883</td></tr>\n",
       "\t<tr><th scope=row>b2</th><td>   1.0000000</td><td>4112.0909800</td><td>4132.0909800</td><td>   0.8593462</td><td>   0.3539217</td></tr>\n",
       "\t<tr><th scope=row>b3</th><td>1.000000e+00</td><td>4.117874e+03</td><td>4.137874e+03</td><td>6.642334e+00</td><td>9.958336e-03</td></tr>\n",
       "\t<tr><th scope=row>b4</th><td>1.000000e+00</td><td>4.222863e+03</td><td>4.242863e+03</td><td>1.116313e+02</td><td>4.303379e-26</td></tr>\n",
       "\t<tr><th scope=row>b5</th><td>1.000000e+00</td><td>4.119037e+03</td><td>4.139037e+03</td><td>7.805142e+00</td><td>5.209777e-03</td></tr>\n",
       "\t<tr><th scope=row>b6</th><td>1.000000e+00</td><td>4.128843e+03</td><td>4.148843e+03</td><td>1.761181e+01</td><td>2.709011e-05</td></tr>\n",
       "\t<tr><th scope=row>b7</th><td>1.000000e+00</td><td>4.190758e+03</td><td>4.210758e+03</td><td>7.952612e+01</td><td>4.758928e-19</td></tr>\n",
       "\t<tr><th scope=row>b9</th><td>   1.0000000</td><td>4111.9898219</td><td>4131.9898219</td><td>   0.7581881</td><td>   0.3838962</td></tr>\n",
       "\t<tr><th scope=row>b11</th><td>1.000000e+00</td><td>4.179633e+03</td><td>4.199633e+03</td><td>6.840134e+01</td><td>1.333869e-16</td></tr>\n",
       "\t<tr><th scope=row>scene</th><td>1.000000e+00</td><td>4.316766e+03</td><td>4.336766e+03</td><td>2.055341e+02</td><td>1.294911e-46</td></tr>\n",
       "</tbody>\n",
       "</table>\n"
      ],
      "text/latex": [
       "\\begin{tabular}{r|lllll}\n",
       "  & Df & Deviance & AIC & LRT & Pr(>Chi)\\\\\n",
       "\\hline\n",
       "\t<none> &       NA & 4111.232 & 4133.232 &       NA &       NA\\\\\n",
       "\tb1 &    1.0000000 & 4113.1714514 & 4133.1714514 &    1.9398176 &    0.1636883\\\\\n",
       "\tb2 &    1.0000000 & 4112.0909800 & 4132.0909800 &    0.8593462 &    0.3539217\\\\\n",
       "\tb3 & 1.000000e+00 & 4.117874e+03 & 4.137874e+03 & 6.642334e+00 & 9.958336e-03\\\\\n",
       "\tb4 & 1.000000e+00 & 4.222863e+03 & 4.242863e+03 & 1.116313e+02 & 4.303379e-26\\\\\n",
       "\tb5 & 1.000000e+00 & 4.119037e+03 & 4.139037e+03 & 7.805142e+00 & 5.209777e-03\\\\\n",
       "\tb6 & 1.000000e+00 & 4.128843e+03 & 4.148843e+03 & 1.761181e+01 & 2.709011e-05\\\\\n",
       "\tb7 & 1.000000e+00 & 4.190758e+03 & 4.210758e+03 & 7.952612e+01 & 4.758928e-19\\\\\n",
       "\tb9 &    1.0000000 & 4111.9898219 & 4131.9898219 &    0.7581881 &    0.3838962\\\\\n",
       "\tb11 & 1.000000e+00 & 4.179633e+03 & 4.199633e+03 & 6.840134e+01 & 1.333869e-16\\\\\n",
       "\tscene & 1.000000e+00 & 4.316766e+03 & 4.336766e+03 & 2.055341e+02 & 1.294911e-46\\\\\n",
       "\\end{tabular}\n"
      ],
      "text/plain": [
       "Single term deletions\n",
       "\n",
       "Model:\n",
       "answ2 ~ b1 + b2 + b3 + b4 + b5 + b6 + b7 + b9 + b11 + scene\n",
       "       Df Deviance    AIC     LRT  Pr(>Chi)    \n",
       "<none>      4111.2 4133.2                      \n",
       "b1      1   4113.2 4133.2   1.940  0.163688    \n",
       "b2      1   4112.1 4132.1   0.859  0.353922    \n",
       "b3      1   4117.9 4137.9   6.642  0.009958 ** \n",
       "b4      1   4222.9 4242.9 111.631 < 2.2e-16 ***\n",
       "b5      1   4119.0 4139.0   7.805  0.005210 ** \n",
       "b6      1   4128.8 4148.8  17.612 2.709e-05 ***\n",
       "b7      1   4190.8 4210.8  79.526 < 2.2e-16 ***\n",
       "b9      1   4112.0 4132.0   0.758  0.383896    \n",
       "b11     1   4179.6 4199.6  68.401 < 2.2e-16 ***\n",
       "scene   1   4316.8 4336.8 205.534 < 2.2e-16 ***\n",
       "---\n",
       "Signif. codes:  0 ‘***’ 0.001 ‘**’ 0.01 ‘*’ 0.05 ‘.’ 0.1 ‘ ’ 1"
      ]
     },
     "metadata": {},
     "output_type": "display_data"
    }
   ],
   "source": [
    "simple.glm12 = glm(answ2~b1 + b2 + b3 + b4 + b5 + b6 +b7 + b9 + b11 + scene, data=pdata, family=binomial)\n",
    "summary(simple.glm12)\n",
    "drop1(simple.glm12, test=\"Chi\")"
   ]
  },
  {
   "cell_type": "code",
   "execution_count": 40,
   "metadata": {
    "collapsed": false
   },
   "outputs": [
    {
     "data": {
      "text/plain": [
       "\n",
       "Call:\n",
       "glm(formula = answ2 ~ b1 + b2 + b3 + b4 + b5 + b6 + b7 + b11 + \n",
       "    scene, family = binomial, data = pdata)\n",
       "\n",
       "Deviance Residuals: \n",
       "    Min       1Q   Median       3Q      Max  \n",
       "-5.4431  -0.0509  -0.0263  -0.0152   4.6231  \n",
       "\n",
       "Coefficients:\n",
       "             Estimate Std. Error z value Pr(>|z|)    \n",
       "(Intercept)  36.81251    4.43940   8.292  < 2e-16 ***\n",
       "b1          -15.17628   10.57761  -1.435  0.15136    \n",
       "b2           10.79602   11.31651   0.954  0.34008    \n",
       "b3          -22.05583    8.91525  -2.474  0.01336 *  \n",
       "b4           69.92144    6.70580  10.427  < 2e-16 ***\n",
       "b5           -3.79797    1.43135  -2.653  0.00797 ** \n",
       "b6           34.88959    8.36651   4.170 3.04e-05 ***\n",
       "b7          -85.25847    9.94872  -8.570  < 2e-16 ***\n",
       "b11          -0.18434    0.01715 -10.749  < 2e-16 ***\n",
       "sceneS2      -3.02956    0.21920 -13.821  < 2e-16 ***\n",
       "---\n",
       "Signif. codes:  0 ‘***’ 0.001 ‘**’ 0.01 ‘*’ 0.05 ‘.’ 0.1 ‘ ’ 1\n",
       "\n",
       "(Dispersion parameter for binomial family taken to be 1)\n",
       "\n",
       "    Null deviance: 26184  on 50538  degrees of freedom\n",
       "Residual deviance:  4112  on 50529  degrees of freedom\n",
       "AIC: 4132\n",
       "\n",
       "Number of Fisher Scoring iterations: 9\n"
      ]
     },
     "metadata": {},
     "output_type": "display_data"
    },
    {
     "name": "stderr",
     "output_type": "stream",
     "text": [
      "Warning message:\n",
      ": glm.fit: fitted probabilities numerically 0 or 1 occurred"
     ]
    },
    {
     "data": {
      "text/html": [
       "<table>\n",
       "<thead><tr><th></th><th scope=col>Df</th><th scope=col>Deviance</th><th scope=col>AIC</th><th scope=col>LRT</th><th scope=col>Pr(&gt;Chi)</th></tr></thead>\n",
       "<tbody>\n",
       "\t<tr><th scope=row>&lt;none&gt;</th><td>     NA</td><td>4111.99</td><td>4131.99</td><td>     NA</td><td>     NA</td></tr>\n",
       "\t<tr><th scope=row>b1</th><td>   1.0000000</td><td>4114.0531486</td><td>4132.0531486</td><td>   2.0633267</td><td>   0.1508805</td></tr>\n",
       "\t<tr><th scope=row>b2</th><td>   1.0000000</td><td>4112.9005246</td><td>4130.9005246</td><td>   0.9107027</td><td>   0.3399281</td></tr>\n",
       "\t<tr><th scope=row>b3</th><td>1.000000e+00</td><td>4.118135e+03</td><td>4.136135e+03</td><td>6.145505e+00</td><td>1.317465e-02</td></tr>\n",
       "\t<tr><th scope=row>b4</th><td>1.000000e+00</td><td>4.224519e+03</td><td>4.242519e+03</td><td>1.125294e+02</td><td>2.735712e-26</td></tr>\n",
       "\t<tr><th scope=row>b5</th><td>1.000000e+00</td><td>4.119116e+03</td><td>4.137116e+03</td><td>7.126318e+00</td><td>7.596057e-03</td></tr>\n",
       "\t<tr><th scope=row>b6</th><td>1.000000e+00</td><td>4.129763e+03</td><td>4.147763e+03</td><td>1.777360e+01</td><td>2.488116e-05</td></tr>\n",
       "\t<tr><th scope=row>b7</th><td>1.000000e+00</td><td>4.190824e+03</td><td>4.208824e+03</td><td>7.883422e+01</td><td>6.754667e-19</td></tr>\n",
       "\t<tr><th scope=row>b11</th><td>1.000000e+00</td><td>4.221619e+03</td><td>4.239619e+03</td><td>1.096292e+02</td><td>1.181485e-25</td></tr>\n",
       "\t<tr><th scope=row>scene</th><td>1.000000e+00</td><td>4.322975e+03</td><td>4.340975e+03</td><td>2.109850e+02</td><td>8.374492e-48</td></tr>\n",
       "</tbody>\n",
       "</table>\n"
      ],
      "text/latex": [
       "\\begin{tabular}{r|lllll}\n",
       "  & Df & Deviance & AIC & LRT & Pr(>Chi)\\\\\n",
       "\\hline\n",
       "\t<none> &      NA & 4111.99 & 4131.99 &      NA &      NA\\\\\n",
       "\tb1 &    1.0000000 & 4114.0531486 & 4132.0531486 &    2.0633267 &    0.1508805\\\\\n",
       "\tb2 &    1.0000000 & 4112.9005246 & 4130.9005246 &    0.9107027 &    0.3399281\\\\\n",
       "\tb3 & 1.000000e+00 & 4.118135e+03 & 4.136135e+03 & 6.145505e+00 & 1.317465e-02\\\\\n",
       "\tb4 & 1.000000e+00 & 4.224519e+03 & 4.242519e+03 & 1.125294e+02 & 2.735712e-26\\\\\n",
       "\tb5 & 1.000000e+00 & 4.119116e+03 & 4.137116e+03 & 7.126318e+00 & 7.596057e-03\\\\\n",
       "\tb6 & 1.000000e+00 & 4.129763e+03 & 4.147763e+03 & 1.777360e+01 & 2.488116e-05\\\\\n",
       "\tb7 & 1.000000e+00 & 4.190824e+03 & 4.208824e+03 & 7.883422e+01 & 6.754667e-19\\\\\n",
       "\tb11 & 1.000000e+00 & 4.221619e+03 & 4.239619e+03 & 1.096292e+02 & 1.181485e-25\\\\\n",
       "\tscene & 1.000000e+00 & 4.322975e+03 & 4.340975e+03 & 2.109850e+02 & 8.374492e-48\\\\\n",
       "\\end{tabular}\n"
      ],
      "text/plain": [
       "Single term deletions\n",
       "\n",
       "Model:\n",
       "answ2 ~ b1 + b2 + b3 + b4 + b5 + b6 + b7 + b11 + scene\n",
       "       Df Deviance    AIC     LRT  Pr(>Chi)    \n",
       "<none>      4112.0 4132.0                      \n",
       "b1      1   4114.1 4132.1   2.063  0.150880    \n",
       "b2      1   4112.9 4130.9   0.911  0.339928    \n",
       "b3      1   4118.1 4136.1   6.146  0.013175 *  \n",
       "b4      1   4224.5 4242.5 112.529 < 2.2e-16 ***\n",
       "b5      1   4119.1 4137.1   7.126  0.007596 ** \n",
       "b6      1   4129.8 4147.8  17.774 2.488e-05 ***\n",
       "b7      1   4190.8 4208.8  78.834 < 2.2e-16 ***\n",
       "b11     1   4221.6 4239.6 109.629 < 2.2e-16 ***\n",
       "scene   1   4323.0 4341.0 210.985 < 2.2e-16 ***\n",
       "---\n",
       "Signif. codes:  0 ‘***’ 0.001 ‘**’ 0.01 ‘*’ 0.05 ‘.’ 0.1 ‘ ’ 1"
      ]
     },
     "metadata": {},
     "output_type": "display_data"
    }
   ],
   "source": [
    "simple.glm13 = glm(answ2~b1 + b2 + b3 + b4 + b5 + b6 +b7 + b11 + scene, data=pdata, family=binomial)\n",
    "summary(simple.glm13)\n",
    "drop1(simple.glm13, test=\"Chi\")"
   ]
  },
  {
   "cell_type": "code",
   "execution_count": 41,
   "metadata": {
    "collapsed": false
   },
   "outputs": [
    {
     "data": {
      "text/plain": [
       "\n",
       "Call:\n",
       "glm(formula = answ2 ~ b1 + b3 + b4 + b5 + b6 + b7 + b11 + scene, \n",
       "    family = binomial, data = pdata)\n",
       "\n",
       "Deviance Residuals: \n",
       "    Min       1Q   Median       3Q      Max  \n",
       "-5.4438  -0.0509  -0.0262  -0.0152   4.6187  \n",
       "\n",
       "Coefficients:\n",
       "             Estimate Std. Error z value Pr(>|z|)    \n",
       "(Intercept)  36.17094    4.39281   8.234  < 2e-16 ***\n",
       "b1           -5.78434    3.85134  -1.502  0.13312    \n",
       "b3          -23.09351    8.84408  -2.611  0.00902 ** \n",
       "b4           72.35617    6.20721  11.657  < 2e-16 ***\n",
       "b5           -3.48863    1.39372  -2.503  0.01231 *  \n",
       "b6           33.55301    8.24377   4.070  4.7e-05 ***\n",
       "b7          -83.75310    9.81167  -8.536  < 2e-16 ***\n",
       "b11          -0.18271    0.01708 -10.694  < 2e-16 ***\n",
       "sceneS2      -3.05746    0.21716 -14.079  < 2e-16 ***\n",
       "---\n",
       "Signif. codes:  0 ‘***’ 0.001 ‘**’ 0.01 ‘*’ 0.05 ‘.’ 0.1 ‘ ’ 1\n",
       "\n",
       "(Dispersion parameter for binomial family taken to be 1)\n",
       "\n",
       "    Null deviance: 26183.7  on 50538  degrees of freedom\n",
       "Residual deviance:  4112.9  on 50530  degrees of freedom\n",
       "AIC: 4130.9\n",
       "\n",
       "Number of Fisher Scoring iterations: 9\n"
      ]
     },
     "metadata": {},
     "output_type": "display_data"
    },
    {
     "name": "stderr",
     "output_type": "stream",
     "text": [
      "Warning message:\n",
      ": glm.fit: fitted probabilities numerically 0 or 1 occurred"
     ]
    },
    {
     "data": {
      "text/html": [
       "<table>\n",
       "<thead><tr><th></th><th scope=col>Df</th><th scope=col>Deviance</th><th scope=col>AIC</th><th scope=col>LRT</th><th scope=col>Pr(&gt;Chi)</th></tr></thead>\n",
       "<tbody>\n",
       "\t<tr><th scope=row>&lt;none&gt;</th><td>      NA</td><td>4112.901</td><td>4130.901</td><td>      NA</td><td>      NA</td></tr>\n",
       "\t<tr><th scope=row>b1</th><td>   1.0000000</td><td>4115.1544676</td><td>4131.1544676</td><td>   2.2539431</td><td>   0.1332744</td></tr>\n",
       "\t<tr><th scope=row>b3</th><td>1.000000e+00</td><td>4.119748e+03</td><td>4.135748e+03</td><td>6.847703e+00</td><td>8.875530e-03</td></tr>\n",
       "\t<tr><th scope=row>b4</th><td>1.000000e+00</td><td>4.254200e+03</td><td>4.270200e+03</td><td>1.412991e+02</td><td>1.384008e-32</td></tr>\n",
       "\t<tr><th scope=row>b5</th><td>   1.0000000</td><td>4119.2409890</td><td>4135.2409890</td><td>   6.3404644</td><td>   0.0118014</td></tr>\n",
       "\t<tr><th scope=row>b6</th><td>1.000000e+00</td><td>4.129821e+03</td><td>4.145821e+03</td><td>1.692082e+01</td><td>3.897174e-05</td></tr>\n",
       "\t<tr><th scope=row>b7</th><td>1.000000e+00</td><td>4.191100e+03</td><td>4.207100e+03</td><td>7.819986e+01</td><td>9.312503e-19</td></tr>\n",
       "\t<tr><th scope=row>b11</th><td>1.000000e+00</td><td>4.221650e+03</td><td>4.237650e+03</td><td>1.087494e+02</td><td>1.841552e-25</td></tr>\n",
       "\t<tr><th scope=row>scene</th><td>1.000000e+00</td><td>4.333768e+03</td><td>4.349768e+03</td><td>2.208676e+02</td><td>5.849799e-50</td></tr>\n",
       "</tbody>\n",
       "</table>\n"
      ],
      "text/latex": [
       "\\begin{tabular}{r|lllll}\n",
       "  & Df & Deviance & AIC & LRT & Pr(>Chi)\\\\\n",
       "\\hline\n",
       "\t<none> &       NA & 4112.901 & 4130.901 &       NA &       NA\\\\\n",
       "\tb1 &    1.0000000 & 4115.1544676 & 4131.1544676 &    2.2539431 &    0.1332744\\\\\n",
       "\tb3 & 1.000000e+00 & 4.119748e+03 & 4.135748e+03 & 6.847703e+00 & 8.875530e-03\\\\\n",
       "\tb4 & 1.000000e+00 & 4.254200e+03 & 4.270200e+03 & 1.412991e+02 & 1.384008e-32\\\\\n",
       "\tb5 &    1.0000000 & 4119.2409890 & 4135.2409890 &    6.3404644 &    0.0118014\\\\\n",
       "\tb6 & 1.000000e+00 & 4.129821e+03 & 4.145821e+03 & 1.692082e+01 & 3.897174e-05\\\\\n",
       "\tb7 & 1.000000e+00 & 4.191100e+03 & 4.207100e+03 & 7.819986e+01 & 9.312503e-19\\\\\n",
       "\tb11 & 1.000000e+00 & 4.221650e+03 & 4.237650e+03 & 1.087494e+02 & 1.841552e-25\\\\\n",
       "\tscene & 1.000000e+00 & 4.333768e+03 & 4.349768e+03 & 2.208676e+02 & 5.849799e-50\\\\\n",
       "\\end{tabular}\n"
      ],
      "text/plain": [
       "Single term deletions\n",
       "\n",
       "Model:\n",
       "answ2 ~ b1 + b3 + b4 + b5 + b6 + b7 + b11 + scene\n",
       "       Df Deviance    AIC     LRT  Pr(>Chi)    \n",
       "<none>      4112.9 4130.9                      \n",
       "b1      1   4115.2 4131.2   2.254  0.133274    \n",
       "b3      1   4119.7 4135.7   6.848  0.008876 ** \n",
       "b4      1   4254.2 4270.2 141.299 < 2.2e-16 ***\n",
       "b5      1   4119.2 4135.2   6.340  0.011801 *  \n",
       "b6      1   4129.8 4145.8  16.921 3.897e-05 ***\n",
       "b7      1   4191.1 4207.1  78.200 < 2.2e-16 ***\n",
       "b11     1   4221.6 4237.6 108.749 < 2.2e-16 ***\n",
       "scene   1   4333.8 4349.8 220.868 < 2.2e-16 ***\n",
       "---\n",
       "Signif. codes:  0 ‘***’ 0.001 ‘**’ 0.01 ‘*’ 0.05 ‘.’ 0.1 ‘ ’ 1"
      ]
     },
     "metadata": {},
     "output_type": "display_data"
    }
   ],
   "source": [
    "simple.glm14 = glm(answ2~b1 + b3 + b4 + b5 + b6 +b7 + b11 + scene, data=pdata, family=binomial)\n",
    "summary(simple.glm14)\n",
    "drop1(simple.glm14, test=\"Chi\")"
   ]
  },
  {
   "cell_type": "code",
   "execution_count": 42,
   "metadata": {
    "collapsed": false
   },
   "outputs": [
    {
     "data": {
      "text/plain": [
       "\n",
       "Call:\n",
       "glm(formula = answ2 ~ b3 + b4 + b5 + b6 + b7 + b11 + scene, family = binomial, \n",
       "    data = pdata)\n",
       "\n",
       "Deviance Residuals: \n",
       "    Min       1Q   Median       3Q      Max  \n",
       "-5.4249  -0.0506  -0.0259  -0.0150   4.6135  \n",
       "\n",
       "Coefficients:\n",
       "             Estimate Std. Error z value Pr(>|z|)    \n",
       "(Intercept)  34.01617    4.14562   8.205 2.30e-16 ***\n",
       "b3          -32.34756    6.36748  -5.080 3.77e-07 ***\n",
       "b4           74.41082    6.05557  12.288  < 2e-16 ***\n",
       "b5           -2.15573    1.06873  -2.017 0.043685 *  \n",
       "b6           30.29606    7.90794   3.831 0.000128 ***\n",
       "b7          -80.01316    9.42609  -8.488  < 2e-16 ***\n",
       "b11          -0.17615    0.01649 -10.679  < 2e-16 ***\n",
       "sceneS2      -3.14354    0.20940 -15.012  < 2e-16 ***\n",
       "---\n",
       "Signif. codes:  0 ‘***’ 0.001 ‘**’ 0.01 ‘*’ 0.05 ‘.’ 0.1 ‘ ’ 1\n",
       "\n",
       "(Dispersion parameter for binomial family taken to be 1)\n",
       "\n",
       "    Null deviance: 26183.7  on 50538  degrees of freedom\n",
       "Residual deviance:  4115.2  on 50531  degrees of freedom\n",
       "AIC: 4131.2\n",
       "\n",
       "Number of Fisher Scoring iterations: 9\n"
      ]
     },
     "metadata": {},
     "output_type": "display_data"
    },
    {
     "name": "stderr",
     "output_type": "stream",
     "text": [
      "Warning message:\n",
      ": glm.fit: fitted probabilities numerically 0 or 1 occurred"
     ]
    },
    {
     "data": {
      "text/html": [
       "<table>\n",
       "<thead><tr><th></th><th scope=col>Df</th><th scope=col>Deviance</th><th scope=col>AIC</th><th scope=col>LRT</th><th scope=col>Pr(&gt;Chi)</th></tr></thead>\n",
       "<tbody>\n",
       "\t<tr><th scope=row>&lt;none&gt;</th><td>      NA</td><td>4115.154</td><td>4131.154</td><td>      NA</td><td>      NA</td></tr>\n",
       "\t<tr><th scope=row>b3</th><td>1.000000e+00</td><td>4.140997e+03</td><td>4.154997e+03</td><td>2.584229e+01</td><td>3.704807e-07</td></tr>\n",
       "\t<tr><th scope=row>b4</th><td>1.000000e+00</td><td>4.273135e+03</td><td>4.287135e+03</td><td>1.579808e+02</td><td>3.124854e-36</td></tr>\n",
       "\t<tr><th scope=row>b5</th><td>1.000000e+00</td><td>4.119261e+03</td><td>4.133261e+03</td><td>4.106518e+00</td><td>4.271824e-02</td></tr>\n",
       "\t<tr><th scope=row>b6</th><td>1.000000e+00</td><td>4.130038e+03</td><td>4.144038e+03</td><td>1.488334e+01</td><td>1.143688e-04</td></tr>\n",
       "\t<tr><th scope=row>b7</th><td>1.000000e+00</td><td>4.191505e+03</td><td>4.205505e+03</td><td>7.635068e+01</td><td>2.375096e-18</td></tr>\n",
       "\t<tr><th scope=row>b11</th><td>1.000000e+00</td><td>4.222762e+03</td><td>4.236762e+03</td><td>1.076074e+02</td><td>3.276637e-25</td></tr>\n",
       "\t<tr><th scope=row>scene</th><td>1.000000e+00</td><td>4.373083e+03</td><td>4.387083e+03</td><td>2.579285e+02</td><td>4.853573e-58</td></tr>\n",
       "</tbody>\n",
       "</table>\n"
      ],
      "text/latex": [
       "\\begin{tabular}{r|lllll}\n",
       "  & Df & Deviance & AIC & LRT & Pr(>Chi)\\\\\n",
       "\\hline\n",
       "\t<none> &       NA & 4115.154 & 4131.154 &       NA &       NA\\\\\n",
       "\tb3 & 1.000000e+00 & 4.140997e+03 & 4.154997e+03 & 2.584229e+01 & 3.704807e-07\\\\\n",
       "\tb4 & 1.000000e+00 & 4.273135e+03 & 4.287135e+03 & 1.579808e+02 & 3.124854e-36\\\\\n",
       "\tb5 & 1.000000e+00 & 4.119261e+03 & 4.133261e+03 & 4.106518e+00 & 4.271824e-02\\\\\n",
       "\tb6 & 1.000000e+00 & 4.130038e+03 & 4.144038e+03 & 1.488334e+01 & 1.143688e-04\\\\\n",
       "\tb7 & 1.000000e+00 & 4.191505e+03 & 4.205505e+03 & 7.635068e+01 & 2.375096e-18\\\\\n",
       "\tb11 & 1.000000e+00 & 4.222762e+03 & 4.236762e+03 & 1.076074e+02 & 3.276637e-25\\\\\n",
       "\tscene & 1.000000e+00 & 4.373083e+03 & 4.387083e+03 & 2.579285e+02 & 4.853573e-58\\\\\n",
       "\\end{tabular}\n"
      ],
      "text/plain": [
       "Single term deletions\n",
       "\n",
       "Model:\n",
       "answ2 ~ b3 + b4 + b5 + b6 + b7 + b11 + scene\n",
       "       Df Deviance    AIC     LRT  Pr(>Chi)    \n",
       "<none>      4115.2 4131.2                      \n",
       "b3      1   4141.0 4155.0  25.842 3.705e-07 ***\n",
       "b4      1   4273.1 4287.1 157.981 < 2.2e-16 ***\n",
       "b5      1   4119.3 4133.3   4.107 0.0427182 *  \n",
       "b6      1   4130.0 4144.0  14.883 0.0001144 ***\n",
       "b7      1   4191.5 4205.5  76.351 < 2.2e-16 ***\n",
       "b11     1   4222.8 4236.8 107.607 < 2.2e-16 ***\n",
       "scene   1   4373.1 4387.1 257.928 < 2.2e-16 ***\n",
       "---\n",
       "Signif. codes:  0 ‘***’ 0.001 ‘**’ 0.01 ‘*’ 0.05 ‘.’ 0.1 ‘ ’ 1"
      ]
     },
     "metadata": {},
     "output_type": "display_data"
    }
   ],
   "source": [
    "simple.glm15 = glm(answ2 ~ b3 + b4 + b5 + b6 +b7 + b11 + scene, data=pdata, family=binomial)\n",
    "summary(simple.glm15)\n",
    "drop1(simple.glm15, test=\"Chi\")"
   ]
  },
  {
   "cell_type": "code",
   "execution_count": 43,
   "metadata": {
    "collapsed": false
   },
   "outputs": [
    {
     "data": {
      "text/plain": [
       "\n",
       "Call:\n",
       "glm(formula = answ2 ~ b3 + b4 + b6 + b7 + b11 + scene, family = binomial, \n",
       "    data = pdata)\n",
       "\n",
       "Deviance Residuals: \n",
       "    Min       1Q   Median       3Q      Max  \n",
       "-5.3954  -0.0504  -0.0255  -0.0148   4.5795  \n",
       "\n",
       "Coefficients:\n",
       "             Estimate Std. Error z value Pr(>|z|)    \n",
       "(Intercept)  34.19077    4.12776   8.283  < 2e-16 ***\n",
       "b3          -25.06529    5.25553  -4.769 1.85e-06 ***\n",
       "b4           66.09273    4.42352  14.941  < 2e-16 ***\n",
       "b6           28.22973    7.78989   3.624  0.00029 ***\n",
       "b7          -78.21511    9.32161  -8.391  < 2e-16 ***\n",
       "b11          -0.17823    0.01639 -10.873  < 2e-16 ***\n",
       "sceneS2      -3.10642    0.20840 -14.906  < 2e-16 ***\n",
       "---\n",
       "Signif. codes:  0 ‘***’ 0.001 ‘**’ 0.01 ‘*’ 0.05 ‘.’ 0.1 ‘ ’ 1\n",
       "\n",
       "(Dispersion parameter for binomial family taken to be 1)\n",
       "\n",
       "    Null deviance: 26183.7  on 50538  degrees of freedom\n",
       "Residual deviance:  4119.3  on 50532  degrees of freedom\n",
       "AIC: 4133.3\n",
       "\n",
       "Number of Fisher Scoring iterations: 9\n"
      ]
     },
     "metadata": {},
     "output_type": "display_data"
    },
    {
     "name": "stderr",
     "output_type": "stream",
     "text": [
      "Warning message:\n",
      ": glm.fit: fitted probabilities numerically 0 or 1 occurred"
     ]
    },
    {
     "data": {
      "text/html": [
       "<table>\n",
       "<thead><tr><th></th><th scope=col>Df</th><th scope=col>Deviance</th><th scope=col>AIC</th><th scope=col>LRT</th><th scope=col>Pr(&gt;Chi)</th></tr></thead>\n",
       "<tbody>\n",
       "\t<tr><th scope=row>&lt;none&gt;</th><td>      NA</td><td>4119.261</td><td>4133.261</td><td>      NA</td><td>      NA</td></tr>\n",
       "\t<tr><th scope=row>b3</th><td>1.000000e+00</td><td>4.142048e+03</td><td>4.154048e+03</td><td>2.278739e+01</td><td>1.809492e-06</td></tr>\n",
       "\t<tr><th scope=row>b4</th><td>1.000000e+00</td><td>4.355058e+03</td><td>4.367058e+03</td><td>2.357970e+02</td><td>3.244709e-53</td></tr>\n",
       "\t<tr><th scope=row>b6</th><td>1.000000e+00</td><td>4.132546e+03</td><td>4.144546e+03</td><td>1.328467e+01</td><td>2.675846e-04</td></tr>\n",
       "\t<tr><th scope=row>b7</th><td>1.000000e+00</td><td>4.193610e+03</td><td>4.205610e+03</td><td>7.434896e+01</td><td>6.545960e-18</td></tr>\n",
       "\t<tr><th scope=row>b11</th><td>1.000000e+00</td><td>4.231264e+03</td><td>4.243264e+03</td><td>1.120034e+02</td><td>3.566982e-26</td></tr>\n",
       "\t<tr><th scope=row>scene</th><td>1.000000e+00</td><td>4.373469e+03</td><td>4.385469e+03</td><td>2.542077e+02</td><td>3.141538e-57</td></tr>\n",
       "</tbody>\n",
       "</table>\n"
      ],
      "text/latex": [
       "\\begin{tabular}{r|lllll}\n",
       "  & Df & Deviance & AIC & LRT & Pr(>Chi)\\\\\n",
       "\\hline\n",
       "\t<none> &       NA & 4119.261 & 4133.261 &       NA &       NA\\\\\n",
       "\tb3 & 1.000000e+00 & 4.142048e+03 & 4.154048e+03 & 2.278739e+01 & 1.809492e-06\\\\\n",
       "\tb4 & 1.000000e+00 & 4.355058e+03 & 4.367058e+03 & 2.357970e+02 & 3.244709e-53\\\\\n",
       "\tb6 & 1.000000e+00 & 4.132546e+03 & 4.144546e+03 & 1.328467e+01 & 2.675846e-04\\\\\n",
       "\tb7 & 1.000000e+00 & 4.193610e+03 & 4.205610e+03 & 7.434896e+01 & 6.545960e-18\\\\\n",
       "\tb11 & 1.000000e+00 & 4.231264e+03 & 4.243264e+03 & 1.120034e+02 & 3.566982e-26\\\\\n",
       "\tscene & 1.000000e+00 & 4.373469e+03 & 4.385469e+03 & 2.542077e+02 & 3.141538e-57\\\\\n",
       "\\end{tabular}\n"
      ],
      "text/plain": [
       "Single term deletions\n",
       "\n",
       "Model:\n",
       "answ2 ~ b3 + b4 + b6 + b7 + b11 + scene\n",
       "       Df Deviance    AIC     LRT  Pr(>Chi)    \n",
       "<none>      4119.3 4133.3                      \n",
       "b3      1   4142.0 4154.0  22.787 1.809e-06 ***\n",
       "b4      1   4355.1 4367.1 235.797 < 2.2e-16 ***\n",
       "b6      1   4132.5 4144.5  13.285 0.0002676 ***\n",
       "b7      1   4193.6 4205.6  74.349 < 2.2e-16 ***\n",
       "b11     1   4231.3 4243.3 112.003 < 2.2e-16 ***\n",
       "scene   1   4373.5 4385.5 254.208 < 2.2e-16 ***\n",
       "---\n",
       "Signif. codes:  0 ‘***’ 0.001 ‘**’ 0.01 ‘*’ 0.05 ‘.’ 0.1 ‘ ’ 1"
      ]
     },
     "metadata": {},
     "output_type": "display_data"
    }
   ],
   "source": [
    "simple.glm16 = glm(answ2 ~ b3 + b4 + b6 +b7 + b11 + scene, data=pdata, family=binomial)\n",
    "summary(simple.glm16)\n",
    "drop1(simple.glm16, test=\"Chi\")"
   ]
  },
  {
   "cell_type": "markdown",
   "metadata": {
    "collapsed": true
   },
   "source": [
    "Здесь также, как и в предыдущем случае, остались переменные, зависящие от сцены. У данной модели AIC равен 4133.3. Построим модель, в которой не будет тепловых каналов и идентификатора сцены."
   ]
  },
  {
   "cell_type": "code",
   "execution_count": 48,
   "metadata": {
    "collapsed": false
   },
   "outputs": [
    {
     "data": {
      "text/plain": [
       "\n",
       "Call:\n",
       "glm(formula = answ2 ~ b1 + b2 + b3 + b4 + b5 + b6 + b7, family = binomial, \n",
       "    data = pdata)\n",
       "\n",
       "Deviance Residuals: \n",
       "    Min       1Q   Median       3Q      Max  \n",
       "-5.6076  -0.0759  -0.0432  -0.0320   3.6605  \n",
       "\n",
       "Coefficients:\n",
       "            Estimate Std. Error z value Pr(>|z|)    \n",
       "(Intercept)   -4.730      0.426 -11.103  < 2e-16 ***\n",
       "b1           -57.366      9.232  -6.213 5.18e-10 ***\n",
       "b2            46.454     10.064   4.616 3.91e-06 ***\n",
       "b3           -23.972      8.120  -2.952  0.00316 ** \n",
       "b4            67.635      5.946  11.375  < 2e-16 ***\n",
       "b5            -7.566      1.342  -5.638 1.72e-08 ***\n",
       "b6           -12.266      7.752  -1.582  0.11357    \n",
       "b7           -25.834      9.313  -2.774  0.00554 ** \n",
       "---\n",
       "Signif. codes:  0 ‘***’ 0.001 ‘**’ 0.01 ‘*’ 0.05 ‘.’ 0.1 ‘ ’ 1\n",
       "\n",
       "(Dispersion parameter for binomial family taken to be 1)\n",
       "\n",
       "    Null deviance: 26183.7  on 50538  degrees of freedom\n",
       "Residual deviance:  5135.5  on 50531  degrees of freedom\n",
       "AIC: 5151.5\n",
       "\n",
       "Number of Fisher Scoring iterations: 8\n"
      ]
     },
     "metadata": {},
     "output_type": "display_data"
    },
    {
     "name": "stderr",
     "output_type": "stream",
     "text": [
      "Warning message:\n",
      ": glm.fit: fitted probabilities numerically 0 or 1 occurred"
     ]
    },
    {
     "data": {
      "text/html": [
       "<table>\n",
       "<thead><tr><th></th><th scope=col>Df</th><th scope=col>Deviance</th><th scope=col>AIC</th><th scope=col>LRT</th><th scope=col>Pr(&gt;Chi)</th></tr></thead>\n",
       "<tbody>\n",
       "\t<tr><th scope=row>&lt;none&gt;</th><td>      NA</td><td>5135.475</td><td>5151.475</td><td>      NA</td><td>      NA</td></tr>\n",
       "\t<tr><th scope=row>b1</th><td>1.000000e+00</td><td>5.174659e+03</td><td>5.188659e+03</td><td>3.918435e+01</td><td>3.856181e-10</td></tr>\n",
       "\t<tr><th scope=row>b2</th><td>1.000000e+00</td><td>5.156883e+03</td><td>5.170883e+03</td><td>2.140826e+01</td><td>3.711685e-06</td></tr>\n",
       "\t<tr><th scope=row>b3</th><td>1.000000e+00</td><td>5.144243e+03</td><td>5.158243e+03</td><td>8.768644e+00</td><td>3.064533e-03</td></tr>\n",
       "\t<tr><th scope=row>b4</th><td>1.000000e+00</td><td>5.270597e+03</td><td>5.284597e+03</td><td>1.351221e+02</td><td>3.104808e-31</td></tr>\n",
       "\t<tr><th scope=row>b5</th><td>1.000000e+00</td><td>5.168265e+03</td><td>5.182265e+03</td><td>3.278981e+01</td><td>1.026816e-08</td></tr>\n",
       "\t<tr><th scope=row>b6</th><td>   1.0000000</td><td>5137.9712192</td><td>5151.9712192</td><td>   2.4965271</td><td>   0.1140977</td></tr>\n",
       "\t<tr><th scope=row>b7</th><td>1.000000e+00</td><td>5.143285e+03</td><td>5.157285e+03</td><td>7.809859e+00</td><td>5.196196e-03</td></tr>\n",
       "</tbody>\n",
       "</table>\n"
      ],
      "text/latex": [
       "\\begin{tabular}{r|lllll}\n",
       "  & Df & Deviance & AIC & LRT & Pr(>Chi)\\\\\n",
       "\\hline\n",
       "\t<none> &       NA & 5135.475 & 5151.475 &       NA &       NA\\\\\n",
       "\tb1 & 1.000000e+00 & 5.174659e+03 & 5.188659e+03 & 3.918435e+01 & 3.856181e-10\\\\\n",
       "\tb2 & 1.000000e+00 & 5.156883e+03 & 5.170883e+03 & 2.140826e+01 & 3.711685e-06\\\\\n",
       "\tb3 & 1.000000e+00 & 5.144243e+03 & 5.158243e+03 & 8.768644e+00 & 3.064533e-03\\\\\n",
       "\tb4 & 1.000000e+00 & 5.270597e+03 & 5.284597e+03 & 1.351221e+02 & 3.104808e-31\\\\\n",
       "\tb5 & 1.000000e+00 & 5.168265e+03 & 5.182265e+03 & 3.278981e+01 & 1.026816e-08\\\\\n",
       "\tb6 &    1.0000000 & 5137.9712192 & 5151.9712192 &    2.4965271 &    0.1140977\\\\\n",
       "\tb7 & 1.000000e+00 & 5.143285e+03 & 5.157285e+03 & 7.809859e+00 & 5.196196e-03\\\\\n",
       "\\end{tabular}\n"
      ],
      "text/plain": [
       "Single term deletions\n",
       "\n",
       "Model:\n",
       "answ2 ~ b1 + b2 + b3 + b4 + b5 + b6 + b7\n",
       "       Df Deviance    AIC     LRT  Pr(>Chi)    \n",
       "<none>      5135.5 5151.5                      \n",
       "b1      1   5174.7 5188.7  39.184 3.856e-10 ***\n",
       "b2      1   5156.9 5170.9  21.408 3.712e-06 ***\n",
       "b3      1   5144.2 5158.2   8.769  0.003065 ** \n",
       "b4      1   5270.6 5284.6 135.122 < 2.2e-16 ***\n",
       "b5      1   5168.3 5182.3  32.790 1.027e-08 ***\n",
       "b6      1   5138.0 5152.0   2.497  0.114098    \n",
       "b7      1   5143.3 5157.3   7.810  0.005196 ** \n",
       "---\n",
       "Signif. codes:  0 ‘***’ 0.001 ‘**’ 0.01 ‘*’ 0.05 ‘.’ 0.1 ‘ ’ 1"
      ]
     },
     "metadata": {},
     "output_type": "display_data"
    }
   ],
   "source": [
    "simple.glm17 = glm(answ2 ~ b1 + b2 + b3 + b4 + b5 + b6 +b7, data=pdata, family=binomial)\n",
    "summary(simple.glm17)\n",
    "drop1(simple.glm17, test=\"Chi\")"
   ]
  },
  {
   "cell_type": "code",
   "execution_count": 49,
   "metadata": {
    "collapsed": false
   },
   "outputs": [
    {
     "data": {
      "text/plain": [
       "\n",
       "Call:\n",
       "glm(formula = answ2 ~ b1 + b2 + b3 + b4 + b5 + b7, family = binomial, \n",
       "    data = pdata)\n",
       "\n",
       "Deviance Residuals: \n",
       "    Min       1Q   Median       3Q      Max  \n",
       "-5.6318  -0.0763  -0.0435  -0.0324   3.6541  \n",
       "\n",
       "Coefficients:\n",
       "            Estimate Std. Error z value Pr(>|z|)    \n",
       "(Intercept)  -4.6623     0.4245 -10.984  < 2e-16 ***\n",
       "b1          -60.6583     9.0127  -6.730 1.69e-11 ***\n",
       "b2           48.9352     9.9530   4.917 8.81e-07 ***\n",
       "b3          -21.1969     7.9413  -2.669   0.0076 ** \n",
       "b4           66.8803     5.9383  11.263  < 2e-16 ***\n",
       "b5           -8.1754     1.2890  -6.342 2.26e-10 ***\n",
       "b7          -40.4613     1.2929 -31.296  < 2e-16 ***\n",
       "---\n",
       "Signif. codes:  0 ‘***’ 0.001 ‘**’ 0.01 ‘*’ 0.05 ‘.’ 0.1 ‘ ’ 1\n",
       "\n",
       "(Dispersion parameter for binomial family taken to be 1)\n",
       "\n",
       "    Null deviance: 26184  on 50538  degrees of freedom\n",
       "Residual deviance:  5138  on 50532  degrees of freedom\n",
       "AIC: 5152\n",
       "\n",
       "Number of Fisher Scoring iterations: 8\n"
      ]
     },
     "metadata": {},
     "output_type": "display_data"
    },
    {
     "name": "stderr",
     "output_type": "stream",
     "text": [
      "Warning message:\n",
      ": glm.fit: fitted probabilities numerically 0 or 1 occurred"
     ]
    },
    {
     "data": {
      "text/html": [
       "<table>\n",
       "<thead><tr><th></th><th scope=col>Df</th><th scope=col>Deviance</th><th scope=col>AIC</th><th scope=col>LRT</th><th scope=col>Pr(&gt;Chi)</th></tr></thead>\n",
       "<tbody>\n",
       "\t<tr><th scope=row>&lt;none&gt;</th><td>      NA</td><td>5137.971</td><td>5151.971</td><td>      NA</td><td>      NA</td></tr>\n",
       "\t<tr><th scope=row>b1</th><td>1.000000e+00</td><td>5.183923e+03</td><td>5.195923e+03</td><td>4.595177e+01</td><td>1.212001e-11</td></tr>\n",
       "\t<tr><th scope=row>b2</th><td>1.000000e+00</td><td>5.162247e+03</td><td>5.174247e+03</td><td>2.427528e+01</td><td>8.350384e-07</td></tr>\n",
       "\t<tr><th scope=row>b3</th><td>1.000000e+00</td><td>5.145148e+03</td><td>5.157148e+03</td><td>7.176870e+00</td><td>7.384942e-03</td></tr>\n",
       "\t<tr><th scope=row>b4</th><td>1.000000e+00</td><td>5.270858e+03</td><td>5.282858e+03</td><td>1.328873e+02</td><td>9.569505e-31</td></tr>\n",
       "\t<tr><th scope=row>b5</th><td>1.000000e+00</td><td>5.179596e+03</td><td>5.191596e+03</td><td>4.162431e+01</td><td>1.106093e-10</td></tr>\n",
       "\t<tr><th scope=row>b7</th><td>   1.000</td><td>7193.120</td><td>7205.120</td><td>2055.149</td><td>   0.000</td></tr>\n",
       "</tbody>\n",
       "</table>\n"
      ],
      "text/latex": [
       "\\begin{tabular}{r|lllll}\n",
       "  & Df & Deviance & AIC & LRT & Pr(>Chi)\\\\\n",
       "\\hline\n",
       "\t<none> &       NA & 5137.971 & 5151.971 &       NA &       NA\\\\\n",
       "\tb1 & 1.000000e+00 & 5.183923e+03 & 5.195923e+03 & 4.595177e+01 & 1.212001e-11\\\\\n",
       "\tb2 & 1.000000e+00 & 5.162247e+03 & 5.174247e+03 & 2.427528e+01 & 8.350384e-07\\\\\n",
       "\tb3 & 1.000000e+00 & 5.145148e+03 & 5.157148e+03 & 7.176870e+00 & 7.384942e-03\\\\\n",
       "\tb4 & 1.000000e+00 & 5.270858e+03 & 5.282858e+03 & 1.328873e+02 & 9.569505e-31\\\\\n",
       "\tb5 & 1.000000e+00 & 5.179596e+03 & 5.191596e+03 & 4.162431e+01 & 1.106093e-10\\\\\n",
       "\tb7 &    1.000 & 7193.120 & 7205.120 & 2055.149 &    0.000\\\\\n",
       "\\end{tabular}\n"
      ],
      "text/plain": [
       "Single term deletions\n",
       "\n",
       "Model:\n",
       "answ2 ~ b1 + b2 + b3 + b4 + b5 + b7\n",
       "       Df Deviance    AIC     LRT  Pr(>Chi)    \n",
       "<none>      5138.0 5152.0                      \n",
       "b1      1   5183.9 5195.9   45.95 1.212e-11 ***\n",
       "b2      1   5162.2 5174.2   24.28 8.350e-07 ***\n",
       "b3      1   5145.1 5157.1    7.18  0.007385 ** \n",
       "b4      1   5270.9 5282.9  132.89 < 2.2e-16 ***\n",
       "b5      1   5179.6 5191.6   41.62 1.106e-10 ***\n",
       "b7      1   7193.1 7205.1 2055.15 < 2.2e-16 ***\n",
       "---\n",
       "Signif. codes:  0 ‘***’ 0.001 ‘**’ 0.01 ‘*’ 0.05 ‘.’ 0.1 ‘ ’ 1"
      ]
     },
     "metadata": {},
     "output_type": "display_data"
    }
   ],
   "source": [
    "simple.glm18 = glm(answ2 ~ b1 + b2 + b3 + b4 + b5 +b7, data=pdata, family=binomial)\n",
    "summary(simple.glm18)\n",
    "drop1(simple.glm18, test=\"Chi\")"
   ]
  },
  {
   "cell_type": "markdown",
   "metadata": {},
   "source": [
    "Итак оптимальный набор переменных: b1, b2, b3, b4, b5, b7. AIC: 5152 (для сравнения: AIC у simple.glm16 равен 4133.3)."
   ]
  },
  {
   "cell_type": "markdown",
   "metadata": {},
   "source": [
    "<a id='SnowValidation1'></a>\n",
    "##### Валидация модели"
   ]
  },
  {
   "cell_type": "code",
   "execution_count": 51,
   "metadata": {
    "collapsed": false
   },
   "outputs": [
    {
     "data": {
      "text/html": [
       "<strong>png:</strong> 2"
      ],
      "text/latex": [
       "\\textbf{png:} 2"
      ],
      "text/markdown": [
       "**png:** 2"
      ],
      "text/plain": [
       "png \n",
       "  2 "
      ]
     },
     "metadata": {},
     "output_type": "display_data"
    }
   ],
   "source": [
    "E18 = resid(simple.glm18, type=\"response\")\n",
    "ER18 = data.frame(err=E18, fitted=simple.glm18$fitted.values, \n",
    "                b1=pdata$b1, b2=pdata$b2, b3=pdata$b3, b4=pdata$b4, b5=pdata$b5, b6=pdata$b6, \n",
    "                b7=pdata$b7, b9=pdata$b9, b10=pdata$b10, b11=pdata$b11, scene=pdata$scene)\n",
    "\n",
    "# Сортируем по порядку прогнозируемых величин\n",
    "ER18 = ER18[order(ER18$fitted), ]\n",
    "\n",
    "# Разбиваем на группы\n",
    "group_size = 100\n",
    "ER18 = cbind(id=(1:length(ER18$fitted))%/% group_size, ER18)\n",
    "# Вычислим среднее значение ошибки в каждой группе и поместим в таблицу\n",
    "lookup_table = aggregate(ER18['err'], by=list(ER18$id), FUN=mean)\n",
    "names(lookup_table) = c('id', 'err')\n",
    "\n",
    "# Создадим вектор из средний значений ошибок \n",
    "a = sapply(ER18$id, function(id){lookup_table[lookup_table$id==id, 'err']})\n",
    "\n",
    "ER18 = cbind(ER18, mean.err=a)\n",
    "\n",
    "\n",
    "png(\"Img/CMASK/glm18_res_fitted_srt.png\", width=728, height=728, units=\"px\")\n",
    "  plot(ER18$fitted, ER18$mean.err, cex=0.1)\n",
    "dev.off()"
   ]
  },
  {
   "cell_type": "markdown",
   "metadata": {},
   "source": [
    "<img src=\"https://176.9.38.120/cruncher/files/deforestation/Img/CMASK/glm18_res_fitted_srt.png\">"
   ]
  },
  {
   "cell_type": "markdown",
   "metadata": {},
   "source": [
    "Как и ранее, в остатках очень нехорошее поведение -- для средних значений прогнозных величин остатки имеют тенденцию увеличиваться.\n",
    "\n",
    "Зависимость остатков от объясняющих переменных:"
   ]
  },
  {
   "cell_type": "code",
   "execution_count": 52,
   "metadata": {
    "collapsed": false
   },
   "outputs": [
    {
     "data": {
      "text/html": [
       "<strong>png:</strong> 2"
      ],
      "text/latex": [
       "\\textbf{png:} 2"
      ],
      "text/markdown": [
       "**png:** 2"
      ],
      "text/plain": [
       "png \n",
       "  2 "
      ]
     },
     "metadata": {},
     "output_type": "display_data"
    }
   ],
   "source": [
    "png(\"Img/CMASK/glm18_res_bXX_srt.png\", width=728, height=728, units=\"px\")\n",
    "    par(mfrow = c(3, 4))\n",
    "    plot(ER18$b1, ER18$mean.err, cex=0.1)\n",
    "    plot(ER18$b2, ER18$mean.err, cex=0.1)\n",
    "    plot(ER18$b3, ER18$mean.err, cex=0.1)\n",
    "    plot(ER18$b4, ER18$mean.err, cex=0.1)\n",
    "\n",
    "    plot(ER18$b5, ER18$mean.err, cex=0.1)\n",
    "    plot(ER18$b6, ER18$mean.err, cex=0.1)\n",
    "    plot(ER18$b7, ER18$mean.err, cex=0.1)\n",
    "\n",
    "    plot(ER18$b9, ER18$mean.err, cex=0.1)\n",
    "\n",
    "    plot(ER18$b10, ER18$mean.err, cex=0.1)\n",
    "    plot(ER18$b11, ER18$mean.err, cex=0.1)\n",
    "\n",
    "    boxplot(ER18$mean.err ~ ER18$scene, cex=0.1)\n",
    "\n",
    "    par(opar)\n",
    "dev.off()"
   ]
  },
  {
   "cell_type": "markdown",
   "metadata": {},
   "source": [
    "<img src=\"https://176.9.38.120/cruncher/files/deforestation/Img/CMASK/glm18_res_bXX_srt.png\">"
   ]
  },
  {
   "cell_type": "markdown",
   "metadata": {},
   "source": [
    "В целом графики остатков чуть хуже, чем для модели облачности. В частности, видно, что остатки для второй сцены имеют больший разброс, чем для первой, заметны также некоторые закономерности в размещении остатков в зависимости от значений объясняющих переменных. Например, для значений b5 из диапазона 0.6--0.8 остатки с большой вероятностью будут отрицательными. Аналогичные проблемы видны в b3, b4 и b9, но 9-й канал у нас не используется в модели, поскольку температура очень сильно колеблется от сцены к сцене."
   ]
  },
  {
   "cell_type": "markdown",
   "metadata": {},
   "source": [
    "<a id='SnowModel2'></a>\n",
    "#### Построение модели-2"
   ]
  },
  {
   "cell_type": "markdown",
   "metadata": {},
   "source": [
    "Поскольку модель, построенная в предыдущем разделе показывает не очень хорошее поведение остатков в зависимости от объясняющих переменных, попробуем ее улучшить. Для этого добавим в модель квадратичные члены для b3, b4, b5 и посмотрим, улучшится ли модель."
   ]
  },
  {
   "cell_type": "code",
   "execution_count": 53,
   "metadata": {
    "collapsed": false
   },
   "outputs": [
    {
     "data": {
      "text/plain": [
       "\n",
       "Call:\n",
       "glm(formula = answ2 ~ b1 + b2 + b3 + b4 + b5 + b6 + b7 + I(b3^2) + \n",
       "    I(b4^2) + I(b5^2), family = binomial, data = pdata)\n",
       "\n",
       "Deviance Residuals: \n",
       "    Min       1Q   Median       3Q      Max  \n",
       "-4.3219  -0.0398  -0.0139  -0.0065   4.5141  \n",
       "\n",
       "Coefficients:\n",
       "             Estimate Std. Error z value Pr(>|z|)    \n",
       "(Intercept)   -8.1972     0.6243 -13.130  < 2e-16 ***\n",
       "b1           -94.5588     8.8780 -10.651  < 2e-16 ***\n",
       "b2            76.7963     9.9764   7.698 1.38e-14 ***\n",
       "b3             7.1260    11.9593   0.596   0.5513    \n",
       "b4           118.2437    10.6754  11.076  < 2e-16 ***\n",
       "b5           -48.2176     4.7824 -10.082  < 2e-16 ***\n",
       "b6             6.2635     7.2951   0.859   0.3906    \n",
       "b7           -38.3978     8.6063  -4.462 8.13e-06 ***\n",
       "I(b3^2)       19.9117     8.5997   2.315   0.0206 *  \n",
       "I(b4^2)     -109.8865     8.7341 -12.581  < 2e-16 ***\n",
       "I(b5^2)       39.3102     4.8756   8.063 7.47e-16 ***\n",
       "---\n",
       "Signif. codes:  0 ‘***’ 0.001 ‘**’ 0.01 ‘*’ 0.05 ‘.’ 0.1 ‘ ’ 1\n",
       "\n",
       "(Dispersion parameter for binomial family taken to be 1)\n",
       "\n",
       "    Null deviance: 26183.7  on 50538  degrees of freedom\n",
       "Residual deviance:  4383.6  on 50528  degrees of freedom\n",
       "AIC: 4405.6\n",
       "\n",
       "Number of Fisher Scoring iterations: 10\n"
      ]
     },
     "metadata": {},
     "output_type": "display_data"
    },
    {
     "data": {
      "text/html": [
       "<table>\n",
       "<thead><tr><th></th><th scope=col>Df</th><th scope=col>Deviance</th><th scope=col>AIC</th><th scope=col>LRT</th><th scope=col>Pr(&gt;Chi)</th></tr></thead>\n",
       "<tbody>\n",
       "\t<tr><th scope=row>&lt;none&gt;</th><td>      NA</td><td>4383.646</td><td>4405.646</td><td>      NA</td><td>      NA</td></tr>\n",
       "\t<tr><th scope=row>b1</th><td>1.000000e+00</td><td>4.501077e+03</td><td>4.521077e+03</td><td>1.174315e+02</td><td>2.309395e-27</td></tr>\n",
       "\t<tr><th scope=row>b2</th><td>1.000000e+00</td><td>4.443611e+03</td><td>4.463611e+03</td><td>5.996528e+01</td><td>9.654562e-15</td></tr>\n",
       "\t<tr><th scope=row>b3</th><td>   1.0000000</td><td>4384.0004338</td><td>4404.0004338</td><td>   0.3549280</td><td>   0.5513367</td></tr>\n",
       "\t<tr><th scope=row>b4</th><td>1.000000e+00</td><td>4.507220e+03</td><td>4.527220e+03</td><td>1.235748e+02</td><td>1.043764e-28</td></tr>\n",
       "\t<tr><th scope=row>b5</th><td>1.000000e+00</td><td>4.497308e+03</td><td>4.517308e+03</td><td>1.136623e+02</td><td>1.545024e-26</td></tr>\n",
       "\t<tr><th scope=row>b6</th><td>   1.0000000</td><td>4384.3836678</td><td>4404.3836678</td><td>   0.7381619</td><td>   0.3902503</td></tr>\n",
       "\t<tr><th scope=row>b7</th><td>1.000000e+00</td><td>4.404078e+03</td><td>4.424078e+03</td><td>2.043274e+01</td><td>6.176414e-06</td></tr>\n",
       "\t<tr><th scope=row>I(b3^2)</th><td>1.000000e+00</td><td>4.388833e+03</td><td>4.408833e+03</td><td>5.187063e+00</td><td>2.275564e-02</td></tr>\n",
       "\t<tr><th scope=row>I(b4^2)</th><td>1.000000e+00</td><td>4.521703e+03</td><td>4.541703e+03</td><td>1.380578e+02</td><td>7.078595e-32</td></tr>\n",
       "\t<tr><th scope=row>I(b5^2)</th><td>1.000000e+00</td><td>4.455271e+03</td><td>4.475271e+03</td><td>7.162514e+01</td><td>2.602202e-17</td></tr>\n",
       "</tbody>\n",
       "</table>\n"
      ],
      "text/latex": [
       "\\begin{tabular}{r|lllll}\n",
       "  & Df & Deviance & AIC & LRT & Pr(>Chi)\\\\\n",
       "\\hline\n",
       "\t<none> &       NA & 4383.646 & 4405.646 &       NA &       NA\\\\\n",
       "\tb1 & 1.000000e+00 & 4.501077e+03 & 4.521077e+03 & 1.174315e+02 & 2.309395e-27\\\\\n",
       "\tb2 & 1.000000e+00 & 4.443611e+03 & 4.463611e+03 & 5.996528e+01 & 9.654562e-15\\\\\n",
       "\tb3 &    1.0000000 & 4384.0004338 & 4404.0004338 &    0.3549280 &    0.5513367\\\\\n",
       "\tb4 & 1.000000e+00 & 4.507220e+03 & 4.527220e+03 & 1.235748e+02 & 1.043764e-28\\\\\n",
       "\tb5 & 1.000000e+00 & 4.497308e+03 & 4.517308e+03 & 1.136623e+02 & 1.545024e-26\\\\\n",
       "\tb6 &    1.0000000 & 4384.3836678 & 4404.3836678 &    0.7381619 &    0.3902503\\\\\n",
       "\tb7 & 1.000000e+00 & 4.404078e+03 & 4.424078e+03 & 2.043274e+01 & 6.176414e-06\\\\\n",
       "\tI(b3\\textasciicircum{}2) & 1.000000e+00 & 4.388833e+03 & 4.408833e+03 & 5.187063e+00 & 2.275564e-02\\\\\n",
       "\tI(b4\\textasciicircum{}2) & 1.000000e+00 & 4.521703e+03 & 4.541703e+03 & 1.380578e+02 & 7.078595e-32\\\\\n",
       "\tI(b5\\textasciicircum{}2) & 1.000000e+00 & 4.455271e+03 & 4.475271e+03 & 7.162514e+01 & 2.602202e-17\\\\\n",
       "\\end{tabular}\n"
      ],
      "text/plain": [
       "Single term deletions\n",
       "\n",
       "Model:\n",
       "answ2 ~ b1 + b2 + b3 + b4 + b5 + b6 + b7 + I(b3^2) + I(b4^2) + \n",
       "    I(b5^2)\n",
       "        Df Deviance    AIC     LRT  Pr(>Chi)    \n",
       "<none>       4383.6 4405.6                      \n",
       "b1       1   4501.1 4521.1 117.432 < 2.2e-16 ***\n",
       "b2       1   4443.6 4463.6  59.965 9.655e-15 ***\n",
       "b3       1   4384.0 4404.0   0.355   0.55134    \n",
       "b4       1   4507.2 4527.2 123.575 < 2.2e-16 ***\n",
       "b5       1   4497.3 4517.3 113.662 < 2.2e-16 ***\n",
       "b6       1   4384.4 4404.4   0.738   0.39025    \n",
       "b7       1   4404.1 4424.1  20.433 6.176e-06 ***\n",
       "I(b3^2)  1   4388.8 4408.8   5.187   0.02276 *  \n",
       "I(b4^2)  1   4521.7 4541.7 138.058 < 2.2e-16 ***\n",
       "I(b5^2)  1   4455.3 4475.3  71.625 < 2.2e-16 ***\n",
       "---\n",
       "Signif. codes:  0 ‘***’ 0.001 ‘**’ 0.01 ‘*’ 0.05 ‘.’ 0.1 ‘ ’ 1"
      ]
     },
     "metadata": {},
     "output_type": "display_data"
    }
   ],
   "source": [
    "simple.glm19 = glm(answ2 ~ b1 + b2 + b3 + b4 + b5 + b6 +b7 + I(b3^2) + I(b4^2) + I(b5^2), data=pdata, family=binomial)\n",
    "summary(simple.glm19)\n",
    "drop1(simple.glm19, test=\"Chi\")"
   ]
  },
  {
   "cell_type": "code",
   "execution_count": 54,
   "metadata": {
    "collapsed": false
   },
   "outputs": [
    {
     "data": {
      "text/plain": [
       "\n",
       "Call:\n",
       "glm(formula = answ2 ~ b1 + b2 + b4 + b5 + b6 + b7 + I(b3^2) + \n",
       "    I(b4^2) + I(b5^2), family = binomial, data = pdata)\n",
       "\n",
       "Deviance Residuals: \n",
       "    Min       1Q   Median       3Q      Max  \n",
       "-4.3308  -0.0398  -0.0140  -0.0065   4.5190  \n",
       "\n",
       "Coefficients:\n",
       "             Estimate Std. Error z value Pr(>|z|)    \n",
       "(Intercept)   -8.0645     0.5821 -13.854  < 2e-16 ***\n",
       "b1           -92.7050     8.3211 -11.141  < 2e-16 ***\n",
       "b2            75.8724     9.8649   7.691 1.46e-14 ***\n",
       "b4           123.5774     5.8349  21.179  < 2e-16 ***\n",
       "b5           -48.7298     4.7049 -10.357  < 2e-16 ***\n",
       "b6             5.6561     7.2329   0.782    0.434    \n",
       "b7           -37.7132     8.5405  -4.416 1.01e-05 ***\n",
       "I(b3^2)       24.1449     4.8031   5.027 4.98e-07 ***\n",
       "I(b4^2)     -113.1112     6.8502 -16.512  < 2e-16 ***\n",
       "I(b5^2)       39.8459     4.7905   8.318  < 2e-16 ***\n",
       "---\n",
       "Signif. codes:  0 ‘***’ 0.001 ‘**’ 0.01 ‘*’ 0.05 ‘.’ 0.1 ‘ ’ 1\n",
       "\n",
       "(Dispersion parameter for binomial family taken to be 1)\n",
       "\n",
       "    Null deviance: 26184  on 50538  degrees of freedom\n",
       "Residual deviance:  4384  on 50529  degrees of freedom\n",
       "AIC: 4404\n",
       "\n",
       "Number of Fisher Scoring iterations: 10\n"
      ]
     },
     "metadata": {},
     "output_type": "display_data"
    },
    {
     "data": {
      "text/html": [
       "<table>\n",
       "<thead><tr><th></th><th scope=col>Df</th><th scope=col>Deviance</th><th scope=col>AIC</th><th scope=col>LRT</th><th scope=col>Pr(&gt;Chi)</th></tr></thead>\n",
       "<tbody>\n",
       "\t<tr><th scope=row>&lt;none&gt;</th><td>  NA</td><td>4384</td><td>4404</td><td>  NA</td><td>  NA</td></tr>\n",
       "\t<tr><th scope=row>b1</th><td>1.000000e+00</td><td>4.514639e+03</td><td>4.532639e+03</td><td>1.306385e+02</td><td>2.970643e-30</td></tr>\n",
       "\t<tr><th scope=row>b2</th><td>1.000000e+00</td><td>4.444088e+03</td><td>4.462088e+03</td><td>6.008740e+01</td><td>9.073754e-15</td></tr>\n",
       "\t<tr><th scope=row>b4</th><td> 1.000000e+00</td><td> 4.960808e+03</td><td> 4.978808e+03</td><td> 5.768075e+02</td><td>1.855752e-127</td></tr>\n",
       "\t<tr><th scope=row>b5</th><td>1.000000e+00</td><td>4.505077e+03</td><td>4.523077e+03</td><td>1.210762e+02</td><td>3.677245e-28</td></tr>\n",
       "\t<tr><th scope=row>b6</th><td>   1.0000000</td><td>4384.6130013</td><td>4402.6130013</td><td>   0.6125675</td><td>   0.4338228</td></tr>\n",
       "\t<tr><th scope=row>b7</th><td>1.000000e+00</td><td>4.404083e+03</td><td>4.422083e+03</td><td>2.008251e+01</td><td>7.417181e-06</td></tr>\n",
       "\t<tr><th scope=row>I(b3^2)</th><td>1.000000e+00</td><td>4.409985e+03</td><td>4.427985e+03</td><td>2.598474e+01</td><td>3.441267e-07</td></tr>\n",
       "\t<tr><th scope=row>I(b4^2)</th><td>1.000000e+00</td><td>4.646765e+03</td><td>4.664765e+03</td><td>2.627642e+02</td><td>4.285389e-59</td></tr>\n",
       "\t<tr><th scope=row>I(b5^2)</th><td>1.000000e+00</td><td>4.461275e+03</td><td>4.479275e+03</td><td>7.727437e+01</td><td>1.487845e-18</td></tr>\n",
       "</tbody>\n",
       "</table>\n"
      ],
      "text/latex": [
       "\\begin{tabular}{r|lllll}\n",
       "  & Df & Deviance & AIC & LRT & Pr(>Chi)\\\\\n",
       "\\hline\n",
       "\t<none> &   NA & 4384 & 4404 &   NA &   NA\\\\\n",
       "\tb1 & 1.000000e+00 & 4.514639e+03 & 4.532639e+03 & 1.306385e+02 & 2.970643e-30\\\\\n",
       "\tb2 & 1.000000e+00 & 4.444088e+03 & 4.462088e+03 & 6.008740e+01 & 9.073754e-15\\\\\n",
       "\tb4 &  1.000000e+00 &  4.960808e+03 &  4.978808e+03 &  5.768075e+02 & 1.855752e-127\\\\\n",
       "\tb5 & 1.000000e+00 & 4.505077e+03 & 4.523077e+03 & 1.210762e+02 & 3.677245e-28\\\\\n",
       "\tb6 &    1.0000000 & 4384.6130013 & 4402.6130013 &    0.6125675 &    0.4338228\\\\\n",
       "\tb7 & 1.000000e+00 & 4.404083e+03 & 4.422083e+03 & 2.008251e+01 & 7.417181e-06\\\\\n",
       "\tI(b3\\textasciicircum{}2) & 1.000000e+00 & 4.409985e+03 & 4.427985e+03 & 2.598474e+01 & 3.441267e-07\\\\\n",
       "\tI(b4\\textasciicircum{}2) & 1.000000e+00 & 4.646765e+03 & 4.664765e+03 & 2.627642e+02 & 4.285389e-59\\\\\n",
       "\tI(b5\\textasciicircum{}2) & 1.000000e+00 & 4.461275e+03 & 4.479275e+03 & 7.727437e+01 & 1.487845e-18\\\\\n",
       "\\end{tabular}\n"
      ],
      "text/plain": [
       "Single term deletions\n",
       "\n",
       "Model:\n",
       "answ2 ~ b1 + b2 + b4 + b5 + b6 + b7 + I(b3^2) + I(b4^2) + I(b5^2)\n",
       "        Df Deviance    AIC    LRT  Pr(>Chi)    \n",
       "<none>       4384.0 4404.0                     \n",
       "b1       1   4514.6 4532.6 130.64 < 2.2e-16 ***\n",
       "b2       1   4444.1 4462.1  60.09 9.074e-15 ***\n",
       "b4       1   4960.8 4978.8 576.81 < 2.2e-16 ***\n",
       "b5       1   4505.1 4523.1 121.08 < 2.2e-16 ***\n",
       "b6       1   4384.6 4402.6   0.61    0.4338    \n",
       "b7       1   4404.1 4422.1  20.08 7.417e-06 ***\n",
       "I(b3^2)  1   4410.0 4428.0  25.98 3.441e-07 ***\n",
       "I(b4^2)  1   4646.8 4664.8 262.76 < 2.2e-16 ***\n",
       "I(b5^2)  1   4461.3 4479.3  77.27 < 2.2e-16 ***\n",
       "---\n",
       "Signif. codes:  0 ‘***’ 0.001 ‘**’ 0.01 ‘*’ 0.05 ‘.’ 0.1 ‘ ’ 1"
      ]
     },
     "metadata": {},
     "output_type": "display_data"
    }
   ],
   "source": [
    "simple.glm20 = glm(answ2 ~ b1 + b2 + b4 + b5 + b6 +b7 + I(b3^2) + I(b4^2) + I(b5^2), data=pdata, family=binomial)\n",
    "summary(simple.glm20)\n",
    "drop1(simple.glm20, test=\"Chi\")"
   ]
  },
  {
   "cell_type": "code",
   "execution_count": 55,
   "metadata": {
    "collapsed": false
   },
   "outputs": [
    {
     "data": {
      "text/plain": [
       "\n",
       "Call:\n",
       "glm(formula = answ2 ~ b1 + b2 + b4 + b5 + b7 + I(b3^2) + I(b4^2) + \n",
       "    I(b5^2), family = binomial, data = pdata)\n",
       "\n",
       "Deviance Residuals: \n",
       "    Min       1Q   Median       3Q      Max  \n",
       "-4.3185  -0.0398  -0.0140  -0.0065   4.5174  \n",
       "\n",
       "Coefficients:\n",
       "            Estimate Std. Error z value Pr(>|z|)    \n",
       "(Intercept)   -8.091      0.581 -13.927  < 2e-16 ***\n",
       "b1           -91.610      8.187 -11.190  < 2e-16 ***\n",
       "b2            74.884      9.772   7.663 1.81e-14 ***\n",
       "b4           122.713      5.717  21.464  < 2e-16 ***\n",
       "b5           -48.133      4.638 -10.379  < 2e-16 ***\n",
       "b7           -31.108      1.167 -26.648  < 2e-16 ***\n",
       "I(b3^2)       23.435      4.687   5.000 5.74e-07 ***\n",
       "I(b4^2)     -112.092      6.706 -16.716  < 2e-16 ***\n",
       "I(b5^2)       39.501      4.769   8.283  < 2e-16 ***\n",
       "---\n",
       "Signif. codes:  0 ‘***’ 0.001 ‘**’ 0.01 ‘*’ 0.05 ‘.’ 0.1 ‘ ’ 1\n",
       "\n",
       "(Dispersion parameter for binomial family taken to be 1)\n",
       "\n",
       "    Null deviance: 26183.7  on 50538  degrees of freedom\n",
       "Residual deviance:  4384.6  on 50530  degrees of freedom\n",
       "AIC: 4402.6\n",
       "\n",
       "Number of Fisher Scoring iterations: 10\n"
      ]
     },
     "metadata": {},
     "output_type": "display_data"
    },
    {
     "data": {
      "text/html": [
       "<table>\n",
       "<thead><tr><th></th><th scope=col>Df</th><th scope=col>Deviance</th><th scope=col>AIC</th><th scope=col>LRT</th><th scope=col>Pr(&gt;Chi)</th></tr></thead>\n",
       "<tbody>\n",
       "\t<tr><th scope=row>&lt;none&gt;</th><td>      NA</td><td>4384.613</td><td>4402.613</td><td>      NA</td><td>      NA</td></tr>\n",
       "\t<tr><th scope=row>b1</th><td>1.000000e+00</td><td>4.515572e+03</td><td>4.531572e+03</td><td>1.309591e+02</td><td>2.527597e-30</td></tr>\n",
       "\t<tr><th scope=row>b2</th><td>1.000000e+00</td><td>4.444103e+03</td><td>4.460103e+03</td><td>5.948960e+01</td><td>1.229423e-14</td></tr>\n",
       "\t<tr><th scope=row>b4</th><td> 1.000000e+00</td><td> 4.975129e+03</td><td> 4.991129e+03</td><td> 5.905160e+02</td><td>1.934956e-130</td></tr>\n",
       "\t<tr><th scope=row>b5</th><td>1.000000e+00</td><td>4.506136e+03</td><td>4.522136e+03</td><td>1.215230e+02</td><td>2.935795e-28</td></tr>\n",
       "\t<tr><th scope=row>b7</th><td>   1.000</td><td>6054.201</td><td>6070.201</td><td>1669.588</td><td>   0.000</td></tr>\n",
       "\t<tr><th scope=row>I(b3^2)</th><td>1.000000e+00</td><td>4.409987e+03</td><td>4.425987e+03</td><td>2.537362e+01</td><td>4.723338e-07</td></tr>\n",
       "\t<tr><th scope=row>I(b4^2)</th><td>1.000000e+00</td><td>4.648852e+03</td><td>4.664852e+03</td><td>2.642395e+02</td><td>2.043795e-59</td></tr>\n",
       "\t<tr><th scope=row>I(b5^2)</th><td>1.000000e+00</td><td>4.461277e+03</td><td>4.477277e+03</td><td>7.666359e+01</td><td>2.027064e-18</td></tr>\n",
       "</tbody>\n",
       "</table>\n"
      ],
      "text/latex": [
       "\\begin{tabular}{r|lllll}\n",
       "  & Df & Deviance & AIC & LRT & Pr(>Chi)\\\\\n",
       "\\hline\n",
       "\t<none> &       NA & 4384.613 & 4402.613 &       NA &       NA\\\\\n",
       "\tb1 & 1.000000e+00 & 4.515572e+03 & 4.531572e+03 & 1.309591e+02 & 2.527597e-30\\\\\n",
       "\tb2 & 1.000000e+00 & 4.444103e+03 & 4.460103e+03 & 5.948960e+01 & 1.229423e-14\\\\\n",
       "\tb4 &  1.000000e+00 &  4.975129e+03 &  4.991129e+03 &  5.905160e+02 & 1.934956e-130\\\\\n",
       "\tb5 & 1.000000e+00 & 4.506136e+03 & 4.522136e+03 & 1.215230e+02 & 2.935795e-28\\\\\n",
       "\tb7 &    1.000 & 6054.201 & 6070.201 & 1669.588 &    0.000\\\\\n",
       "\tI(b3\\textasciicircum{}2) & 1.000000e+00 & 4.409987e+03 & 4.425987e+03 & 2.537362e+01 & 4.723338e-07\\\\\n",
       "\tI(b4\\textasciicircum{}2) & 1.000000e+00 & 4.648852e+03 & 4.664852e+03 & 2.642395e+02 & 2.043795e-59\\\\\n",
       "\tI(b5\\textasciicircum{}2) & 1.000000e+00 & 4.461277e+03 & 4.477277e+03 & 7.666359e+01 & 2.027064e-18\\\\\n",
       "\\end{tabular}\n"
      ],
      "text/plain": [
       "Single term deletions\n",
       "\n",
       "Model:\n",
       "answ2 ~ b1 + b2 + b4 + b5 + b7 + I(b3^2) + I(b4^2) + I(b5^2)\n",
       "        Df Deviance    AIC     LRT  Pr(>Chi)    \n",
       "<none>       4384.6 4402.6                      \n",
       "b1       1   4515.6 4531.6  130.96 < 2.2e-16 ***\n",
       "b2       1   4444.1 4460.1   59.49 1.229e-14 ***\n",
       "b4       1   4975.1 4991.1  590.52 < 2.2e-16 ***\n",
       "b5       1   4506.1 4522.1  121.52 < 2.2e-16 ***\n",
       "b7       1   6054.2 6070.2 1669.59 < 2.2e-16 ***\n",
       "I(b3^2)  1   4410.0 4426.0   25.37 4.723e-07 ***\n",
       "I(b4^2)  1   4648.9 4664.9  264.24 < 2.2e-16 ***\n",
       "I(b5^2)  1   4461.3 4477.3   76.66 < 2.2e-16 ***\n",
       "---\n",
       "Signif. codes:  0 ‘***’ 0.001 ‘**’ 0.01 ‘*’ 0.05 ‘.’ 0.1 ‘ ’ 1"
      ]
     },
     "metadata": {},
     "output_type": "display_data"
    }
   ],
   "source": [
    "simple.glm21 = glm(answ2 ~ b1 + b2 + b4 + b5 +b7 + I(b3^2) + I(b4^2) + I(b5^2), data=pdata, family=binomial)\n",
    "summary(simple.glm21)\n",
    "drop1(simple.glm21, test=\"Chi\")"
   ]
  },
  {
   "cell_type": "markdown",
   "metadata": {},
   "source": [
    "Итак новый оптимальный набор переменных: b1, b2, b3, b4, b5, b7 и квадратичные члены каналов b3, b4, b5. AIC модели значительно улучшился, дойдя до значения 4402.6 (для сравнения: AIC у simple.glm16 равен 4133.3)."
   ]
  },
  {
   "cell_type": "markdown",
   "metadata": {
    "collapsed": true
   },
   "source": [
    "<a id='SnowValidation2'></a>\n",
    "##### Валидация модели-2"
   ]
  },
  {
   "cell_type": "code",
   "execution_count": 56,
   "metadata": {
    "collapsed": false
   },
   "outputs": [
    {
     "data": {
      "text/html": [
       "<strong>png:</strong> 2"
      ],
      "text/latex": [
       "\\textbf{png:} 2"
      ],
      "text/markdown": [
       "**png:** 2"
      ],
      "text/plain": [
       "png \n",
       "  2 "
      ]
     },
     "metadata": {},
     "output_type": "display_data"
    }
   ],
   "source": [
    "E21 = resid(simple.glm21, type=\"response\")\n",
    "ER21 = data.frame(err=E21, fitted=simple.glm21$fitted.values, \n",
    "                b1=pdata$b1, b2=pdata$b2, b3=pdata$b3, b4=pdata$b4, b5=pdata$b5, b6=pdata$b6, \n",
    "                b7=pdata$b7, b9=pdata$b9, b10=pdata$b10, b11=pdata$b11, scene=pdata$scene)\n",
    "\n",
    "# Сортируем по порядку прогнозируемых величин\n",
    "ER21 = ER21[order(ER21$fitted), ]\n",
    "\n",
    "# Разбиваем на группы\n",
    "group_size = 100\n",
    "ER21 = cbind(id=(1:length(ER21$fitted))%/% group_size, ER21)\n",
    "# Вычислим среднее значение ошибки в каждой группе и поместим в таблицу\n",
    "lookup_table = aggregate(ER21['err'], by=list(ER21$id), FUN=mean)\n",
    "names(lookup_table) = c('id', 'err')\n",
    "\n",
    "# Создадим вектор из средний значений ошибок \n",
    "a = sapply(ER21$id, function(id){lookup_table[lookup_table$id==id, 'err']})\n",
    "\n",
    "ER21 = cbind(ER21, mean.err=a)\n",
    "\n",
    "\n",
    "png(\"Img/CMASK/glm21_res_fitted_srt.png\", width=728, height=728, units=\"px\")\n",
    "  plot(ER21$fitted, ER21$mean.err, cex=0.1)\n",
    "dev.off()"
   ]
  },
  {
   "cell_type": "markdown",
   "metadata": {},
   "source": [
    "<img src=\"https://176.9.38.120/cruncher/files/deforestation/Img/CMASK/glm21_res_fitted_srt.png\">"
   ]
  },
  {
   "cell_type": "markdown",
   "metadata": {},
   "source": [
    "Проблемы подгонки модели сохранились: остатки для средних значений прогнозируемой величины положительны, а для низких и высоких величин -- отрицательны.\n",
    "\n",
    "Посмотрим на зависимость остатков от объясняющих переменных."
   ]
  },
  {
   "cell_type": "code",
   "execution_count": 57,
   "metadata": {
    "collapsed": false
   },
   "outputs": [
    {
     "data": {
      "text/html": [
       "<strong>png:</strong> 2"
      ],
      "text/latex": [
       "\\textbf{png:} 2"
      ],
      "text/markdown": [
       "**png:** 2"
      ],
      "text/plain": [
       "png \n",
       "  2 "
      ]
     },
     "metadata": {},
     "output_type": "display_data"
    }
   ],
   "source": [
    "png(\"Img/CMASK/glm21_res_bXX_srt.png\", width=728, height=728, units=\"px\")\n",
    "    par(mfrow = c(3, 4))\n",
    "    plot(ER21$b1, ER21$mean.err, cex=0.1)\n",
    "    plot(ER21$b2, ER21$mean.err, cex=0.1)\n",
    "    plot(ER21$b3, ER21$mean.err, cex=0.1)\n",
    "    plot(ER21$b4, ER21$mean.err, cex=0.1)\n",
    "\n",
    "    plot(ER21$b5, ER21$mean.err, cex=0.1)\n",
    "    plot(ER21$b6, ER21$mean.err, cex=0.1)\n",
    "    plot(ER21$b7, ER21$mean.err, cex=0.1)\n",
    "\n",
    "    plot(ER21$b9, ER21$mean.err, cex=0.1)\n",
    "\n",
    "    plot(ER21$b10, ER21$mean.err, cex=0.1)\n",
    "    plot(ER21$b11, ER21$mean.err, cex=0.1)\n",
    "\n",
    "    boxplot(ER21$mean.err ~ ER21$scene, cex=0.1)\n",
    "\n",
    "    par(opar)\n",
    "dev.off()"
   ]
  },
  {
   "cell_type": "markdown",
   "metadata": {},
   "source": [
    "<img src=\"https://176.9.38.120/cruncher/files/deforestation/Img/CMASK/glm21_res_bXX_srt.png\">"
   ]
  },
  {
   "cell_type": "markdown",
   "metadata": {},
   "source": [
    "Несмотря на то, что численно новая модель показывает более хорошее поведение, чем simple.glm18, проблема в зависимости остатков от объясняющих переменных в новой модели не изчезла: на графиках видны все те же проблемы, что и ранее."
   ]
  },
  {
   "cell_type": "markdown",
   "metadata": {},
   "source": [
    "<a id='SnowModel3'></a>\n",
    "#### Построение модели-3"
   ]
  },
  {
   "cell_type": "markdown",
   "metadata": {},
   "source": [
    "Посмотрим, как будет влиять на качество модели добавление членов, описывающих взаимодействие между переменными. Начнем с модели, содержащей все члены и будем постепенно избавляться от незначащих коэффициентов."
   ]
  },
  {
   "cell_type": "code",
   "execution_count": 59,
   "metadata": {
    "collapsed": false
   },
   "outputs": [
    {
     "name": "stderr",
     "output_type": "stream",
     "text": [
      "Warning message:\n",
      ": glm.fit: fitted probabilities numerically 0 or 1 occurred"
     ]
    },
    {
     "data": {
      "text/plain": [
       "\n",
       "Call:\n",
       "glm(formula = answ2 ~ b1 + b2 + b3 + b4 + b5 + b6 + b7 + b1:b2 + \n",
       "    b1:b3 + b1:b4 + b1:b5 + b1:b6 + b1:b7 + b2:b3 + b2:b4 + b2:b5 + \n",
       "    b2:b6 + b2:b7 + b3:b4 + b3:b5 + b3:b6 + b3:b7 + b4:b5 + b4:b6 + \n",
       "    b4:b7 + b5:b6 + b5:b7 + b6:b7, family = binomial, data = pdata)\n",
       "\n",
       "Deviance Residuals: \n",
       "    Min       1Q   Median       3Q      Max  \n",
       "-4.4512  -0.0201  -0.0042  -0.0013   4.6723  \n",
       "\n",
       "Coefficients:\n",
       "             Estimate Std. Error z value Pr(>|z|)    \n",
       "(Intercept)   -27.278      3.223  -8.464  < 2e-16 ***\n",
       "b1            110.583     61.932   1.786 0.074172 .  \n",
       "b2            -84.763     76.813  -1.103 0.269813    \n",
       "b3             57.737     80.208   0.720 0.471617    \n",
       "b4             76.813     50.301   1.527 0.126741    \n",
       "b5            -27.402     11.332  -2.418 0.015603 *  \n",
       "b6           -386.755     95.589  -4.046 5.21e-05 ***\n",
       "b7            433.011    115.792   3.740 0.000184 ***\n",
       "b1:b2         113.433    153.215   0.740 0.459089    \n",
       "b1:b3       -1243.721    794.490  -1.565 0.117481    \n",
       "b1:b4        1028.227    686.435   1.498 0.134153    \n",
       "b1:b5        -386.576    187.494  -2.062 0.039226 *  \n",
       "b1:b6        6437.010   1571.434   4.096 4.20e-05 ***\n",
       "b1:b7       -7187.489   1884.905  -3.813 0.000137 ***\n",
       "b2:b3         975.836    777.444   1.255 0.209412    \n",
       "b2:b4       -1249.839    758.905  -1.647 0.099579 .  \n",
       "b2:b5         509.681    240.591   2.118 0.034136 *  \n",
       "b2:b6       -5112.586   1655.069  -3.089 0.002008 ** \n",
       "b2:b7        5753.919   1990.136   2.891 0.003837 ** \n",
       "b3:b4         235.322    210.128   1.120 0.262757    \n",
       "b3:b5         -62.461    175.264  -0.356 0.721556    \n",
       "b3:b6       -1722.097   1033.297  -1.667 0.095593 .  \n",
       "b3:b7        2123.353   1285.279   1.652 0.098523 .  \n",
       "b4:b5         -71.926    110.256  -0.652 0.514170    \n",
       "b4:b6        -224.695    795.220  -0.283 0.777516    \n",
       "b4:b7         -87.508    967.750  -0.090 0.927950    \n",
       "b5:b6        1084.630    258.196   4.201 2.66e-05 ***\n",
       "b5:b7        -926.623    315.471  -2.937 0.003311 ** \n",
       "b6:b7        -432.904     33.332 -12.988  < 2e-16 ***\n",
       "---\n",
       "Signif. codes:  0 ‘***’ 0.001 ‘**’ 0.01 ‘*’ 0.05 ‘.’ 0.1 ‘ ’ 1\n",
       "\n",
       "(Dispersion parameter for binomial family taken to be 1)\n",
       "\n",
       "    Null deviance: 26183.7  on 50538  degrees of freedom\n",
       "Residual deviance:  3866.2  on 50510  degrees of freedom\n",
       "AIC: 3924.2\n",
       "\n",
       "Number of Fisher Scoring iterations: 12\n"
      ]
     },
     "metadata": {},
     "output_type": "display_data"
    },
    {
     "name": "stderr",
     "output_type": "stream",
     "text": [
      "Warning message:\n",
      ": glm.fit: fitted probabilities numerically 0 or 1 occurredWarning message:\n",
      ": glm.fit: fitted probabilities numerically 0 or 1 occurredWarning message:\n",
      ": glm.fit: fitted probabilities numerically 0 or 1 occurredWarning message:\n",
      ": glm.fit: fitted probabilities numerically 0 or 1 occurredWarning message:\n",
      ": glm.fit: fitted probabilities numerically 0 or 1 occurredWarning message:\n",
      ": glm.fit: fitted probabilities numerically 0 or 1 occurredWarning message:\n",
      ": glm.fit: fitted probabilities numerically 0 or 1 occurredWarning message:\n",
      ": glm.fit: fitted probabilities numerically 0 or 1 occurredWarning message:\n",
      ": glm.fit: fitted probabilities numerically 0 or 1 occurredWarning message:\n",
      ": glm.fit: fitted probabilities numerically 0 or 1 occurredWarning message:\n",
      ": glm.fit: fitted probabilities numerically 0 or 1 occurredWarning message:\n",
      ": glm.fit: fitted probabilities numerically 0 or 1 occurredWarning message:\n",
      ": glm.fit: fitted probabilities numerically 0 or 1 occurredWarning message:\n",
      ": glm.fit: fitted probabilities numerically 0 or 1 occurredWarning message:\n",
      ": glm.fit: fitted probabilities numerically 0 or 1 occurredWarning message:\n",
      ": glm.fit: fitted probabilities numerically 0 or 1 occurredWarning message:\n",
      ": glm.fit: fitted probabilities numerically 0 or 1 occurredWarning message:\n",
      ": glm.fit: fitted probabilities numerically 0 or 1 occurredWarning message:\n",
      ": glm.fit: fitted probabilities numerically 0 or 1 occurredWarning message:\n",
      ": glm.fit: fitted probabilities numerically 0 or 1 occurredWarning message:\n",
      ": glm.fit: fitted probabilities numerically 0 or 1 occurred"
     ]
    },
    {
     "data": {
      "text/html": [
       "<table>\n",
       "<thead><tr><th></th><th scope=col>Df</th><th scope=col>Deviance</th><th scope=col>AIC</th><th scope=col>LRT</th><th scope=col>Pr(&gt;Chi)</th></tr></thead>\n",
       "<tbody>\n",
       "\t<tr><th scope=row>&lt;none&gt;</th><td>      NA</td><td>3866.176</td><td>3924.176</td><td>      NA</td><td>      NA</td></tr>\n",
       "\t<tr><th scope=row>b1:b2</th><td>   1.0000000</td><td>3866.7291358</td><td>3922.7291358</td><td>   0.5528413</td><td>   0.4571591</td></tr>\n",
       "\t<tr><th scope=row>b1:b3</th><td>   1.0000000</td><td>3868.6985404</td><td>3924.6985404</td><td>   2.5222458</td><td>   0.1122506</td></tr>\n",
       "\t<tr><th scope=row>b1:b4</th><td>   1.0000000</td><td>3868.4555489</td><td>3924.4555489</td><td>   2.2792543</td><td>   0.1311149</td></tr>\n",
       "\t<tr><th scope=row>b1:b5</th><td>1.000000e+00</td><td>3.870411e+03</td><td>3.926411e+03</td><td>4.234946e+00</td><td>3.959989e-02</td></tr>\n",
       "\t<tr><th scope=row>b1:b6</th><td>1.000000e+00</td><td>3.882187e+03</td><td>3.938187e+03</td><td>1.601057e+01</td><td>6.298984e-05</td></tr>\n",
       "\t<tr><th scope=row>b1:b7</th><td>1.000000e+00</td><td>3.880179e+03</td><td>3.936179e+03</td><td>1.400295e+01</td><td>1.825245e-04</td></tr>\n",
       "\t<tr><th scope=row>b2:b3</th><td>   1.0000000</td><td>3867.7967063</td><td>3923.7967063</td><td>   1.6204117</td><td>   0.2030344</td></tr>\n",
       "\t<tr><th scope=row>b2:b4</th><td>1.000000e+00</td><td>3.868936e+03</td><td>3.924936e+03</td><td>2.759903e+00</td><td>9.665409e-02</td></tr>\n",
       "\t<tr><th scope=row>b2:b5</th><td>1.000000e+00</td><td>3.870635e+03</td><td>3.926635e+03</td><td>4.458361e+00</td><td>3.473081e-02</td></tr>\n",
       "\t<tr><th scope=row>b2:b6</th><td>1.000000e+00</td><td>3.875287e+03</td><td>3.931287e+03</td><td>9.110414e+00</td><td>2.541584e-03</td></tr>\n",
       "\t<tr><th scope=row>b2:b7</th><td>1.000000e+00</td><td>3.874238e+03</td><td>3.930238e+03</td><td>8.062081e+00</td><td>4.520124e-03</td></tr>\n",
       "\t<tr><th scope=row>b3:b4</th><td>   1.0000000</td><td>3867.5470772</td><td>3923.5470772</td><td>   1.3707827</td><td>   0.2416775</td></tr>\n",
       "\t<tr><th scope=row>b3:b5</th><td>   1.0000000</td><td>3866.3037846</td><td>3922.3037846</td><td>   0.1274900</td><td>   0.7210488</td></tr>\n",
       "\t<tr><th scope=row>b3:b6</th><td>1.000000e+00</td><td>3.868951e+03</td><td>3.924951e+03</td><td>2.774286e+00</td><td>9.578936e-02</td></tr>\n",
       "\t<tr><th scope=row>b3:b7</th><td>1.000000e+00</td><td>3.868925e+03</td><td>3.924925e+03</td><td>2.748290e+00</td><td>9.735853e-02</td></tr>\n",
       "\t<tr><th scope=row>b4:b5</th><td>   1.0000000</td><td>3866.6000699</td><td>3922.6000699</td><td>   0.4237754</td><td>   0.5150592</td></tr>\n",
       "\t<tr><th scope=row>b4:b6</th><td>1.000000e+00</td><td>3.866256e+03</td><td>3.922256e+03</td><td>8.003777e-02</td><td>7.772462e-01</td></tr>\n",
       "\t<tr><th scope=row>b4:b7</th><td>1.000000e+00</td><td>3.866184e+03</td><td>3.922184e+03</td><td>8.170627e-03</td><td>9.279761e-01</td></tr>\n",
       "\t<tr><th scope=row>b5:b6</th><td>1.000000e+00</td><td>3.883275e+03</td><td>3.939275e+03</td><td>1.709897e+01</td><td>3.548157e-05</td></tr>\n",
       "\t<tr><th scope=row>b5:b7</th><td>1.000000e+00</td><td>3.874635e+03</td><td>3.930635e+03</td><td>8.458420e+00</td><td>3.633573e-03</td></tr>\n",
       "\t<tr><th scope=row>b6:b7</th><td>1.000000e+00</td><td>4.132296e+03</td><td>4.188296e+03</td><td>2.661196e+02</td><td>7.955054e-60</td></tr>\n",
       "</tbody>\n",
       "</table>\n"
      ],
      "text/latex": [
       "\\begin{tabular}{r|lllll}\n",
       "  & Df & Deviance & AIC & LRT & Pr(>Chi)\\\\\n",
       "\\hline\n",
       "\t<none> &       NA & 3866.176 & 3924.176 &       NA &       NA\\\\\n",
       "\tb1:b2 &    1.0000000 & 3866.7291358 & 3922.7291358 &    0.5528413 &    0.4571591\\\\\n",
       "\tb1:b3 &    1.0000000 & 3868.6985404 & 3924.6985404 &    2.5222458 &    0.1122506\\\\\n",
       "\tb1:b4 &    1.0000000 & 3868.4555489 & 3924.4555489 &    2.2792543 &    0.1311149\\\\\n",
       "\tb1:b5 & 1.000000e+00 & 3.870411e+03 & 3.926411e+03 & 4.234946e+00 & 3.959989e-02\\\\\n",
       "\tb1:b6 & 1.000000e+00 & 3.882187e+03 & 3.938187e+03 & 1.601057e+01 & 6.298984e-05\\\\\n",
       "\tb1:b7 & 1.000000e+00 & 3.880179e+03 & 3.936179e+03 & 1.400295e+01 & 1.825245e-04\\\\\n",
       "\tb2:b3 &    1.0000000 & 3867.7967063 & 3923.7967063 &    1.6204117 &    0.2030344\\\\\n",
       "\tb2:b4 & 1.000000e+00 & 3.868936e+03 & 3.924936e+03 & 2.759903e+00 & 9.665409e-02\\\\\n",
       "\tb2:b5 & 1.000000e+00 & 3.870635e+03 & 3.926635e+03 & 4.458361e+00 & 3.473081e-02\\\\\n",
       "\tb2:b6 & 1.000000e+00 & 3.875287e+03 & 3.931287e+03 & 9.110414e+00 & 2.541584e-03\\\\\n",
       "\tb2:b7 & 1.000000e+00 & 3.874238e+03 & 3.930238e+03 & 8.062081e+00 & 4.520124e-03\\\\\n",
       "\tb3:b4 &    1.0000000 & 3867.5470772 & 3923.5470772 &    1.3707827 &    0.2416775\\\\\n",
       "\tb3:b5 &    1.0000000 & 3866.3037846 & 3922.3037846 &    0.1274900 &    0.7210488\\\\\n",
       "\tb3:b6 & 1.000000e+00 & 3.868951e+03 & 3.924951e+03 & 2.774286e+00 & 9.578936e-02\\\\\n",
       "\tb3:b7 & 1.000000e+00 & 3.868925e+03 & 3.924925e+03 & 2.748290e+00 & 9.735853e-02\\\\\n",
       "\tb4:b5 &    1.0000000 & 3866.6000699 & 3922.6000699 &    0.4237754 &    0.5150592\\\\\n",
       "\tb4:b6 & 1.000000e+00 & 3.866256e+03 & 3.922256e+03 & 8.003777e-02 & 7.772462e-01\\\\\n",
       "\tb4:b7 & 1.000000e+00 & 3.866184e+03 & 3.922184e+03 & 8.170627e-03 & 9.279761e-01\\\\\n",
       "\tb5:b6 & 1.000000e+00 & 3.883275e+03 & 3.939275e+03 & 1.709897e+01 & 3.548157e-05\\\\\n",
       "\tb5:b7 & 1.000000e+00 & 3.874635e+03 & 3.930635e+03 & 8.458420e+00 & 3.633573e-03\\\\\n",
       "\tb6:b7 & 1.000000e+00 & 4.132296e+03 & 4.188296e+03 & 2.661196e+02 & 7.955054e-60\\\\\n",
       "\\end{tabular}\n"
      ],
      "text/plain": [
       "Single term deletions\n",
       "\n",
       "Model:\n",
       "answ2 ~ b1 + b2 + b3 + b4 + b5 + b6 + b7 + b1:b2 + b1:b3 + b1:b4 + \n",
       "    b1:b5 + b1:b6 + b1:b7 + b2:b3 + b2:b4 + b2:b5 + b2:b6 + b2:b7 + \n",
       "    b3:b4 + b3:b5 + b3:b6 + b3:b7 + b4:b5 + b4:b6 + b4:b7 + b5:b6 + \n",
       "    b5:b7 + b6:b7\n",
       "       Df Deviance    AIC     LRT  Pr(>Chi)    \n",
       "<none>      3866.2 3924.2                      \n",
       "b1:b2   1   3866.7 3922.7   0.553 0.4571591    \n",
       "b1:b3   1   3868.7 3924.7   2.522 0.1122506    \n",
       "b1:b4   1   3868.5 3924.5   2.279 0.1311149    \n",
       "b1:b5   1   3870.4 3926.4   4.235 0.0395999 *  \n",
       "b1:b6   1   3882.2 3938.2  16.011 6.299e-05 ***\n",
       "b1:b7   1   3880.2 3936.2  14.003 0.0001825 ***\n",
       "b2:b3   1   3867.8 3923.8   1.620 0.2030344    \n",
       "b2:b4   1   3868.9 3924.9   2.760 0.0966541 .  \n",
       "b2:b5   1   3870.6 3926.6   4.458 0.0347308 *  \n",
       "b2:b6   1   3875.3 3931.3   9.110 0.0025416 ** \n",
       "b2:b7   1   3874.2 3930.2   8.062 0.0045201 ** \n",
       "b3:b4   1   3867.5 3923.5   1.371 0.2416775    \n",
       "b3:b5   1   3866.3 3922.3   0.127 0.7210488    \n",
       "b3:b6   1   3869.0 3925.0   2.774 0.0957894 .  \n",
       "b3:b7   1   3868.9 3924.9   2.748 0.0973585 .  \n",
       "b4:b5   1   3866.6 3922.6   0.424 0.5150592    \n",
       "b4:b6   1   3866.3 3922.3   0.080 0.7772462    \n",
       "b4:b7   1   3866.2 3922.2   0.008 0.9279761    \n",
       "b5:b6   1   3883.3 3939.3  17.099 3.548e-05 ***\n",
       "b5:b7   1   3874.6 3930.6   8.458 0.0036336 ** \n",
       "b6:b7   1   4132.3 4188.3 266.120 < 2.2e-16 ***\n",
       "---\n",
       "Signif. codes:  0 ‘***’ 0.001 ‘**’ 0.01 ‘*’ 0.05 ‘.’ 0.1 ‘ ’ 1"
      ]
     },
     "metadata": {},
     "output_type": "display_data"
    }
   ],
   "source": [
    "simple.glm22 = glm(answ2 ~ b1 + b2 + b3 + b4 + b5 + b6 + b7 + \n",
    "                   b1:b2 + b1:b3 + b1:b4 + b1:b5 + b1:b6 + b1:b7 +\n",
    "                   b2:b3 + b2:b4 + b2:b5 + b2:b6 + b2:b7 +\n",
    "                   b3:b4 + b3:b5 + b3:b6 + b3:b7+\n",
    "                   b4:b5 + b4:b6 + b4:b7 +\n",
    "                   b5:b6 + b5:b7 +\n",
    "                   b6:b7, \n",
    "                   data=pdata, family=binomial)\n",
    "summary(simple.glm22)\n",
    "drop1(simple.glm22, test=\"Chi\")"
   ]
  },
  {
   "cell_type": "markdown",
   "metadata": {},
   "source": [
    "Выкинем взаимодействие b4 и b7:"
   ]
  },
  {
   "cell_type": "code",
   "execution_count": 61,
   "metadata": {
    "collapsed": false
   },
   "outputs": [
    {
     "name": "stderr",
     "output_type": "stream",
     "text": [
      "Warning message:\n",
      ": glm.fit: fitted probabilities numerically 0 or 1 occurred"
     ]
    },
    {
     "data": {
      "text/plain": [
       "\n",
       "Call:\n",
       "glm(formula = answ2 ~ b1 + b2 + b3 + b4 + b5 + b6 + b7 + b1:b2 + \n",
       "    b1:b3 + b1:b4 + b1:b5 + b1:b6 + b1:b7 + b2:b3 + b2:b4 + b2:b5 + \n",
       "    b2:b6 + b2:b7 + b3:b4 + b3:b5 + b3:b6 + b3:b7 + b4:b5 + b4:b6 + \n",
       "    b5:b6 + b5:b7 + b6:b7, family = binomial, data = pdata)\n",
       "\n",
       "Deviance Residuals: \n",
       "    Min       1Q   Median       3Q      Max  \n",
       "-4.4510  -0.0201  -0.0042  -0.0013   4.6711  \n",
       "\n",
       "Coefficients:\n",
       "            Estimate Std. Error z value Pr(>|z|)    \n",
       "(Intercept)   -27.25       3.20  -8.515  < 2e-16 ***\n",
       "b1            110.68      61.88   1.789 0.073655 .  \n",
       "b2            -84.92      76.77  -1.106 0.268657    \n",
       "b3             56.53      79.06   0.715 0.474641    \n",
       "b4             78.03      48.44   1.611 0.107209    \n",
       "b5            -27.61      11.08  -2.493 0.012666 *  \n",
       "b6           -388.00      94.62  -4.101 4.12e-05 ***\n",
       "b7            434.43     114.76   3.786 0.000153 ***\n",
       "b1:b2         111.90     152.17   0.735 0.462132    \n",
       "b1:b3       -1229.89     778.52  -1.580 0.114158    \n",
       "b1:b4        1012.65     663.31   1.527 0.126844    \n",
       "b1:b5        -383.76     184.87  -2.076 0.037903 *  \n",
       "b1:b6        6391.93    1490.90   4.287 1.81e-05 ***\n",
       "b1:b7       -7132.65    1785.38  -3.995 6.47e-05 ***\n",
       "b2:b3         967.20     770.60   1.255 0.209433    \n",
       "b2:b4       -1234.35     737.74  -1.673 0.094300 .  \n",
       "b2:b5         505.71     236.49   2.138 0.032481 *  \n",
       "b2:b6       -5059.15    1545.87  -3.273 0.001065 ** \n",
       "b2:b7        5691.29    1865.32   3.051 0.002280 ** \n",
       "b3:b4         231.07     204.40   1.130 0.258293    \n",
       "b3:b5         -59.17     171.39  -0.345 0.729895    \n",
       "b3:b6       -1662.81     797.97  -2.084 0.037179 *  \n",
       "b3:b7        2045.62     954.70   2.143 0.032139 *  \n",
       "b4:b5         -72.84     109.82  -0.663 0.507146    \n",
       "b4:b6        -294.13     206.99  -1.421 0.155309    \n",
       "b5:b6        1093.65     238.13   4.593 4.38e-06 ***\n",
       "b5:b7        -937.92     289.69  -3.238 0.001205 ** \n",
       "b6:b7        -432.49      33.02 -13.099  < 2e-16 ***\n",
       "---\n",
       "Signif. codes:  0 ‘***’ 0.001 ‘**’ 0.01 ‘*’ 0.05 ‘.’ 0.1 ‘ ’ 1\n",
       "\n",
       "(Dispersion parameter for binomial family taken to be 1)\n",
       "\n",
       "    Null deviance: 26183.7  on 50538  degrees of freedom\n",
       "Residual deviance:  3866.2  on 50511  degrees of freedom\n",
       "AIC: 3922.2\n",
       "\n",
       "Number of Fisher Scoring iterations: 12\n"
      ]
     },
     "metadata": {},
     "output_type": "display_data"
    },
    {
     "name": "stderr",
     "output_type": "stream",
     "text": [
      "Warning message:\n",
      ": glm.fit: fitted probabilities numerically 0 or 1 occurredWarning message:\n",
      ": glm.fit: fitted probabilities numerically 0 or 1 occurredWarning message:\n",
      ": glm.fit: fitted probabilities numerically 0 or 1 occurredWarning message:\n",
      ": glm.fit: fitted probabilities numerically 0 or 1 occurredWarning message:\n",
      ": glm.fit: fitted probabilities numerically 0 or 1 occurredWarning message:\n",
      ": glm.fit: fitted probabilities numerically 0 or 1 occurredWarning message:\n",
      ": glm.fit: fitted probabilities numerically 0 or 1 occurredWarning message:\n",
      ": glm.fit: fitted probabilities numerically 0 or 1 occurredWarning message:\n",
      ": glm.fit: fitted probabilities numerically 0 or 1 occurredWarning message:\n",
      ": glm.fit: fitted probabilities numerically 0 or 1 occurredWarning message:\n",
      ": glm.fit: fitted probabilities numerically 0 or 1 occurredWarning message:\n",
      ": glm.fit: fitted probabilities numerically 0 or 1 occurredWarning message:\n",
      ": glm.fit: fitted probabilities numerically 0 or 1 occurredWarning message:\n",
      ": glm.fit: fitted probabilities numerically 0 or 1 occurredWarning message:\n",
      ": glm.fit: fitted probabilities numerically 0 or 1 occurredWarning message:\n",
      ": glm.fit: fitted probabilities numerically 0 or 1 occurredWarning message:\n",
      ": glm.fit: fitted probabilities numerically 0 or 1 occurredWarning message:\n",
      ": glm.fit: fitted probabilities numerically 0 or 1 occurredWarning message:\n",
      ": glm.fit: fitted probabilities numerically 0 or 1 occurredWarning message:\n",
      ": glm.fit: fitted probabilities numerically 0 or 1 occurred"
     ]
    },
    {
     "data": {
      "text/html": [
       "<table>\n",
       "<thead><tr><th></th><th scope=col>Df</th><th scope=col>Deviance</th><th scope=col>AIC</th><th scope=col>LRT</th><th scope=col>Pr(&gt;Chi)</th></tr></thead>\n",
       "<tbody>\n",
       "\t<tr><th scope=row>&lt;none&gt;</th><td>      NA</td><td>3866.184</td><td>3922.184</td><td>      NA</td><td>      NA</td></tr>\n",
       "\t<tr><th scope=row>b1:b2</th><td>   1.0000000</td><td>3866.7292953</td><td>3920.7292953</td><td>   0.5448302</td><td>   0.4604378</td></tr>\n",
       "\t<tr><th scope=row>b1:b3</th><td>   1.0000000</td><td>3868.7309681</td><td>3922.7309681</td><td>   2.5465029</td><td>   0.1105387</td></tr>\n",
       "\t<tr><th scope=row>b1:b4</th><td>   1.0000000</td><td>3868.5177606</td><td>3922.5177606</td><td>   2.3332954</td><td>   0.1266335</td></tr>\n",
       "\t<tr><th scope=row>b1:b5</th><td>1.000000e+00</td><td>3.870469e+03</td><td>3.924469e+03</td><td>4.284563e+00</td><td>3.845998e-02</td></tr>\n",
       "\t<tr><th scope=row>b1:b6</th><td>1.000000e+00</td><td>3.883862e+03</td><td>3.937862e+03</td><td>1.767717e+01</td><td>2.617498e-05</td></tr>\n",
       "\t<tr><th scope=row>b1:b7</th><td>1.000000e+00</td><td>3.881677e+03</td><td>3.935677e+03</td><td>1.549285e+01</td><td>8.281815e-05</td></tr>\n",
       "\t<tr><th scope=row>b2:b3</th><td>   1.000000</td><td>3867.798419</td><td>3921.798419</td><td>   1.613953</td><td>   0.203937</td></tr>\n",
       "\t<tr><th scope=row>b2:b4</th><td>1.000000e+00</td><td>3.868983e+03</td><td>3.922983e+03</td><td>2.798285e+00</td><td>9.436521e-02</td></tr>\n",
       "\t<tr><th scope=row>b2:b5</th><td>   1.0000000</td><td>3870.7075391</td><td>3924.7075391</td><td>   4.5230739</td><td>   0.0334407</td></tr>\n",
       "\t<tr><th scope=row>b2:b6</th><td>1.000000e+00</td><td>3.876250e+03</td><td>3.930250e+03</td><td>1.006511e+01</td><td>1.511035e-03</td></tr>\n",
       "\t<tr><th scope=row>b2:b7</th><td>1.000000e+00</td><td>3.875042e+03</td><td>3.929042e+03</td><td>8.857095e+00</td><td>2.919518e-03</td></tr>\n",
       "\t<tr><th scope=row>b3:b4</th><td>   1.0000000</td><td>3867.5672760</td><td>3921.5672760</td><td>   1.3828108</td><td>   0.2396229</td></tr>\n",
       "\t<tr><th scope=row>b3:b5</th><td>   1.0000000</td><td>3866.3040719</td><td>3920.3040719</td><td>   0.1196068</td><td>   0.7294614</td></tr>\n",
       "\t<tr><th scope=row>b3:b6</th><td>1.000000e+00</td><td>3.870533e+03</td><td>3.924533e+03</td><td>4.348759e+00</td><td>3.703592e-02</td></tr>\n",
       "\t<tr><th scope=row>b3:b7</th><td>1.000000e+00</td><td>3.870791e+03</td><td>3.924791e+03</td><td>4.606448e+00</td><td>3.185194e-02</td></tr>\n",
       "\t<tr><th scope=row>b4:b5</th><td>   1.0000000</td><td>3866.6223303</td><td>3920.6223303</td><td>   0.4378651</td><td>   0.5081547</td></tr>\n",
       "\t<tr><th scope=row>b4:b6</th><td>   1.0000000</td><td>3868.1707668</td><td>3922.1707668</td><td>   1.9863016</td><td>   0.1587281</td></tr>\n",
       "\t<tr><th scope=row>b5:b6</th><td>1.000000e+00</td><td>3.886598e+03</td><td>3.940598e+03</td><td>2.041378e+01</td><td>6.237911e-06</td></tr>\n",
       "\t<tr><th scope=row>b5:b7</th><td>1.000000e+00</td><td>3.876410e+03</td><td>3.930410e+03</td><td>1.022596e+01</td><td>1.384775e-03</td></tr>\n",
       "\t<tr><th scope=row>b6:b7</th><td>1.000000e+00</td><td>4.137887e+03</td><td>4.191887e+03</td><td>2.717028e+02</td><td>4.828305e-61</td></tr>\n",
       "</tbody>\n",
       "</table>\n"
      ],
      "text/latex": [
       "\\begin{tabular}{r|lllll}\n",
       "  & Df & Deviance & AIC & LRT & Pr(>Chi)\\\\\n",
       "\\hline\n",
       "\t<none> &       NA & 3866.184 & 3922.184 &       NA &       NA\\\\\n",
       "\tb1:b2 &    1.0000000 & 3866.7292953 & 3920.7292953 &    0.5448302 &    0.4604378\\\\\n",
       "\tb1:b3 &    1.0000000 & 3868.7309681 & 3922.7309681 &    2.5465029 &    0.1105387\\\\\n",
       "\tb1:b4 &    1.0000000 & 3868.5177606 & 3922.5177606 &    2.3332954 &    0.1266335\\\\\n",
       "\tb1:b5 & 1.000000e+00 & 3.870469e+03 & 3.924469e+03 & 4.284563e+00 & 3.845998e-02\\\\\n",
       "\tb1:b6 & 1.000000e+00 & 3.883862e+03 & 3.937862e+03 & 1.767717e+01 & 2.617498e-05\\\\\n",
       "\tb1:b7 & 1.000000e+00 & 3.881677e+03 & 3.935677e+03 & 1.549285e+01 & 8.281815e-05\\\\\n",
       "\tb2:b3 &    1.000000 & 3867.798419 & 3921.798419 &    1.613953 &    0.203937\\\\\n",
       "\tb2:b4 & 1.000000e+00 & 3.868983e+03 & 3.922983e+03 & 2.798285e+00 & 9.436521e-02\\\\\n",
       "\tb2:b5 &    1.0000000 & 3870.7075391 & 3924.7075391 &    4.5230739 &    0.0334407\\\\\n",
       "\tb2:b6 & 1.000000e+00 & 3.876250e+03 & 3.930250e+03 & 1.006511e+01 & 1.511035e-03\\\\\n",
       "\tb2:b7 & 1.000000e+00 & 3.875042e+03 & 3.929042e+03 & 8.857095e+00 & 2.919518e-03\\\\\n",
       "\tb3:b4 &    1.0000000 & 3867.5672760 & 3921.5672760 &    1.3828108 &    0.2396229\\\\\n",
       "\tb3:b5 &    1.0000000 & 3866.3040719 & 3920.3040719 &    0.1196068 &    0.7294614\\\\\n",
       "\tb3:b6 & 1.000000e+00 & 3.870533e+03 & 3.924533e+03 & 4.348759e+00 & 3.703592e-02\\\\\n",
       "\tb3:b7 & 1.000000e+00 & 3.870791e+03 & 3.924791e+03 & 4.606448e+00 & 3.185194e-02\\\\\n",
       "\tb4:b5 &    1.0000000 & 3866.6223303 & 3920.6223303 &    0.4378651 &    0.5081547\\\\\n",
       "\tb4:b6 &    1.0000000 & 3868.1707668 & 3922.1707668 &    1.9863016 &    0.1587281\\\\\n",
       "\tb5:b6 & 1.000000e+00 & 3.886598e+03 & 3.940598e+03 & 2.041378e+01 & 6.237911e-06\\\\\n",
       "\tb5:b7 & 1.000000e+00 & 3.876410e+03 & 3.930410e+03 & 1.022596e+01 & 1.384775e-03\\\\\n",
       "\tb6:b7 & 1.000000e+00 & 4.137887e+03 & 4.191887e+03 & 2.717028e+02 & 4.828305e-61\\\\\n",
       "\\end{tabular}\n"
      ],
      "text/plain": [
       "Single term deletions\n",
       "\n",
       "Model:\n",
       "answ2 ~ b1 + b2 + b3 + b4 + b5 + b6 + b7 + b1:b2 + b1:b3 + b1:b4 + \n",
       "    b1:b5 + b1:b6 + b1:b7 + b2:b3 + b2:b4 + b2:b5 + b2:b6 + b2:b7 + \n",
       "    b3:b4 + b3:b5 + b3:b6 + b3:b7 + b4:b5 + b4:b6 + b5:b6 + b5:b7 + \n",
       "    b6:b7\n",
       "       Df Deviance    AIC     LRT  Pr(>Chi)    \n",
       "<none>      3866.2 3922.2                      \n",
       "b1:b2   1   3866.7 3920.7   0.545  0.460438    \n",
       "b1:b3   1   3868.7 3922.7   2.547  0.110539    \n",
       "b1:b4   1   3868.5 3922.5   2.333  0.126634    \n",
       "b1:b5   1   3870.5 3924.5   4.285  0.038460 *  \n",
       "b1:b6   1   3883.9 3937.9  17.677 2.617e-05 ***\n",
       "b1:b7   1   3881.7 3935.7  15.493 8.282e-05 ***\n",
       "b2:b3   1   3867.8 3921.8   1.614  0.203937    \n",
       "b2:b4   1   3869.0 3923.0   2.798  0.094365 .  \n",
       "b2:b5   1   3870.7 3924.7   4.523  0.033441 *  \n",
       "b2:b6   1   3876.2 3930.2  10.065  0.001511 ** \n",
       "b2:b7   1   3875.0 3929.0   8.857  0.002920 ** \n",
       "b3:b4   1   3867.6 3921.6   1.383  0.239623    \n",
       "b3:b5   1   3866.3 3920.3   0.120  0.729461    \n",
       "b3:b6   1   3870.5 3924.5   4.349  0.037036 *  \n",
       "b3:b7   1   3870.8 3924.8   4.606  0.031852 *  \n",
       "b4:b5   1   3866.6 3920.6   0.438  0.508155    \n",
       "b4:b6   1   3868.2 3922.2   1.986  0.158728    \n",
       "b5:b6   1   3886.6 3940.6  20.414 6.238e-06 ***\n",
       "b5:b7   1   3876.4 3930.4  10.226  0.001385 ** \n",
       "b6:b7   1   4137.9 4191.9 271.703 < 2.2e-16 ***\n",
       "---\n",
       "Signif. codes:  0 ‘***’ 0.001 ‘**’ 0.01 ‘*’ 0.05 ‘.’ 0.1 ‘ ’ 1"
      ]
     },
     "metadata": {},
     "output_type": "display_data"
    }
   ],
   "source": [
    "simple.glm23 = glm(answ2 ~ b1 + b2 + b3 + b4 + b5 + b6 + b7 + \n",
    "                   b1:b2 + b1:b3 + b1:b4 + b1:b5 + b1:b6 + b1:b7 +\n",
    "                   b2:b3 + b2:b4 + b2:b5 + b2:b6 + b2:b7 +\n",
    "                   b3:b4 + b3:b5 + b3:b6 + b3:b7+\n",
    "                   b4:b5 + b4:b6 + \n",
    "                   b5:b6 + b5:b7 +\n",
    "                   b6:b7, \n",
    "                   data=pdata, family=binomial)\n",
    "summary(simple.glm23)\n",
    "drop1(simple.glm23, test=\"Chi\")"
   ]
  },
  {
   "cell_type": "code",
   "execution_count": 71,
   "metadata": {
    "collapsed": false
   },
   "outputs": [
    {
     "name": "stderr",
     "output_type": "stream",
     "text": [
      "Warning message:\n",
      ": glm.fit: fitted probabilities numerically 0 or 1 occurred"
     ]
    },
    {
     "data": {
      "text/plain": [
       "\n",
       "Call:\n",
       "glm(formula = answ2 ~ b1 + b2 + b3 + b4 + b5 + b6 + b7 + b1:b2 + \n",
       "    b1:b3 + b1:b4 + b1:b5 + b1:b6 + b1:b7 + b2:b3 + b2:b4 + b2:b5 + \n",
       "    b2:b6 + b2:b7 + b3:b4 + b3:b6 + b3:b7 + b4:b5 + b4:b6 + b5:b6 + \n",
       "    b5:b7 + b6:b7, family = binomial, data = pdata)\n",
       "\n",
       "Deviance Residuals: \n",
       "    Min       1Q   Median       3Q      Max  \n",
       "-4.4702  -0.0201  -0.0042  -0.0013   4.6733  \n",
       "\n",
       "Coefficients:\n",
       "             Estimate Std. Error z value Pr(>|z|)    \n",
       "(Intercept)   -27.208      3.175  -8.571  < 2e-16 ***\n",
       "b1            107.130     60.470   1.772  0.07646 .  \n",
       "b2            -76.799     72.775  -1.055  0.29129    \n",
       "b3             46.865     73.693   0.636  0.52481    \n",
       "b4             81.923     46.901   1.747  0.08069 .  \n",
       "b5            -27.520     11.003  -2.501  0.01238 *  \n",
       "b6           -388.401     94.499  -4.110 3.95e-05 ***\n",
       "b7            434.567    114.615   3.792  0.00015 ***\n",
       "b1:b2          99.147    147.270   0.673  0.50080    \n",
       "b1:b3       -1084.735    652.319  -1.663  0.09633 .  \n",
       "b1:b4         904.114    582.267   1.553  0.12048    \n",
       "b1:b5        -387.053    184.810  -2.094  0.03623 *  \n",
       "b1:b6        6428.773   1485.354   4.328 1.50e-05 ***\n",
       "b1:b7       -7161.691   1781.539  -4.020 5.82e-05 ***\n",
       "b2:b3         813.478    625.435   1.301  0.19338    \n",
       "b2:b4       -1077.429    579.483  -1.859  0.06299 .  \n",
       "b2:b5         485.626    229.400   2.117  0.03427 *  \n",
       "b2:b6       -5102.841   1541.251  -3.311  0.00093 ***\n",
       "b2:b7        5742.965   1859.546   3.088  0.00201 ** \n",
       "b3:b4         200.172    182.732   1.095  0.27332    \n",
       "b3:b6       -1684.571    795.053  -2.119  0.03411 *  \n",
       "b3:b7        2017.715    950.822   2.122  0.03383 *  \n",
       "b4:b5        -102.698     67.523  -1.521  0.12828    \n",
       "b4:b6        -264.706    188.411  -1.405  0.16004    \n",
       "b5:b6        1091.554    237.714   4.592 4.39e-06 ***\n",
       "b5:b7        -936.136    289.204  -3.237  0.00121 ** \n",
       "b6:b7        -431.392     32.833 -13.139  < 2e-16 ***\n",
       "---\n",
       "Signif. codes:  0 ‘***’ 0.001 ‘**’ 0.01 ‘*’ 0.05 ‘.’ 0.1 ‘ ’ 1\n",
       "\n",
       "(Dispersion parameter for binomial family taken to be 1)\n",
       "\n",
       "    Null deviance: 26183.7  on 50538  degrees of freedom\n",
       "Residual deviance:  3866.3  on 50512  degrees of freedom\n",
       "AIC: 3920.3\n",
       "\n",
       "Number of Fisher Scoring iterations: 12\n"
      ]
     },
     "metadata": {},
     "output_type": "display_data"
    },
    {
     "name": "stderr",
     "output_type": "stream",
     "text": [
      "Warning message:\n",
      ": glm.fit: fitted probabilities numerically 0 or 1 occurredWarning message:\n",
      ": glm.fit: fitted probabilities numerically 0 or 1 occurredWarning message:\n",
      ": glm.fit: fitted probabilities numerically 0 or 1 occurredWarning message:\n",
      ": glm.fit: fitted probabilities numerically 0 or 1 occurredWarning message:\n",
      ": glm.fit: fitted probabilities numerically 0 or 1 occurredWarning message:\n",
      ": glm.fit: fitted probabilities numerically 0 or 1 occurredWarning message:\n",
      ": glm.fit: fitted probabilities numerically 0 or 1 occurredWarning message:\n",
      ": glm.fit: fitted probabilities numerically 0 or 1 occurredWarning message:\n",
      ": glm.fit: fitted probabilities numerically 0 or 1 occurredWarning message:\n",
      ": glm.fit: fitted probabilities numerically 0 or 1 occurredWarning message:\n",
      ": glm.fit: fitted probabilities numerically 0 or 1 occurredWarning message:\n",
      ": glm.fit: fitted probabilities numerically 0 or 1 occurredWarning message:\n",
      ": glm.fit: fitted probabilities numerically 0 or 1 occurredWarning message:\n",
      ": glm.fit: fitted probabilities numerically 0 or 1 occurredWarning message:\n",
      ": glm.fit: fitted probabilities numerically 0 or 1 occurredWarning message:\n",
      ": glm.fit: fitted probabilities numerically 0 or 1 occurredWarning message:\n",
      ": glm.fit: fitted probabilities numerically 0 or 1 occurredWarning message:\n",
      ": glm.fit: fitted probabilities numerically 0 or 1 occurredWarning message:\n",
      ": glm.fit: fitted probabilities numerically 0 or 1 occurred"
     ]
    },
    {
     "data": {
      "text/html": [
       "<table>\n",
       "<thead><tr><th></th><th scope=col>Df</th><th scope=col>Deviance</th><th scope=col>AIC</th><th scope=col>LRT</th><th scope=col>Pr(&gt;Chi)</th></tr></thead>\n",
       "<tbody>\n",
       "\t<tr><th scope=row>&lt;none&gt;</th><td>      NA</td><td>3866.304</td><td>3920.304</td><td>      NA</td><td>      NA</td></tr>\n",
       "\t<tr><th scope=row>b1:b2</th><td>   1.0000000</td><td>3866.7599748</td><td>3918.7599748</td><td>   0.4559029</td><td>   0.4995450</td></tr>\n",
       "\t<tr><th scope=row>b1:b3</th><td>1.000000e+00</td><td>3.869074e+03</td><td>3.921074e+03</td><td>2.769765e+00</td><td>9.606025e-02</td></tr>\n",
       "\t<tr><th scope=row>b1:b4</th><td>   1.0000000</td><td>3868.6804496</td><td>3920.6804496</td><td>   2.3763776</td><td>   0.1231829</td></tr>\n",
       "\t<tr><th scope=row>b1:b5</th><td>1.000000e+00</td><td>3.870660e+03</td><td>3.922660e+03</td><td>4.356334e+00</td><td>3.687157e-02</td></tr>\n",
       "\t<tr><th scope=row>b1:b6</th><td>1.000000e+00</td><td>3.884327e+03</td><td>3.936327e+03</td><td>1.802313e+01</td><td>2.182375e-05</td></tr>\n",
       "\t<tr><th scope=row>b1:b7</th><td>1.000000e+00</td><td>3.882001e+03</td><td>3.934001e+03</td><td>1.569655e+01</td><td>7.435981e-05</td></tr>\n",
       "\t<tr><th scope=row>b2:b3</th><td>   1.0000000</td><td>3868.0073137</td><td>3920.0073137</td><td>   1.7032417</td><td>   0.1918646</td></tr>\n",
       "\t<tr><th scope=row>b2:b4</th><td>1.000000e+00</td><td>3.869656e+03</td><td>3.921656e+03</td><td>3.351529e+00</td><td>6.714263e-02</td></tr>\n",
       "\t<tr><th scope=row>b2:b5</th><td>1.000000e+00</td><td>3.870742e+03</td><td>3.922742e+03</td><td>4.437662e+00</td><td>3.515436e-02</td></tr>\n",
       "\t<tr><th scope=row>b2:b6</th><td>1.000000e+00</td><td>3.876574e+03</td><td>3.928574e+03</td><td>1.026980e+01</td><td>1.352257e-03</td></tr>\n",
       "\t<tr><th scope=row>b2:b7</th><td>1.000000e+00</td><td>3.875353e+03</td><td>3.927353e+03</td><td>9.048471e+00</td><td>2.629146e-03</td></tr>\n",
       "\t<tr><th scope=row>b3:b4</th><td>   1.0000000</td><td>3867.6028015</td><td>3919.6028015</td><td>   1.2987296</td><td>   0.2544454</td></tr>\n",
       "\t<tr><th scope=row>b3:b6</th><td>   1.0000000</td><td>3870.8048316</td><td>3922.8048316</td><td>   4.5007596</td><td>   0.0338798</td></tr>\n",
       "\t<tr><th scope=row>b3:b7</th><td>1.000000e+00</td><td>3.870828e+03</td><td>3.922828e+03</td><td>4.523591e+00</td><td>3.343058e-02</td></tr>\n",
       "\t<tr><th scope=row>b4:b5</th><td>   1.0000000</td><td>3868.6601427</td><td>3920.6601427</td><td>   2.3560708</td><td>   0.1247962</td></tr>\n",
       "\t<tr><th scope=row>b4:b6</th><td>   1.0000000</td><td>3868.2272697</td><td>3920.2272697</td><td>   1.9231977</td><td>   0.1655046</td></tr>\n",
       "\t<tr><th scope=row>b5:b6</th><td>1.000000e+00</td><td>3.886766e+03</td><td>3.938766e+03</td><td>2.046186e+01</td><td>6.083133e-06</td></tr>\n",
       "\t<tr><th scope=row>b5:b7</th><td>1.000000e+00</td><td>3.876555e+03</td><td>3.928555e+03</td><td>1.025076e+01</td><td>1.366286e-03</td></tr>\n",
       "\t<tr><th scope=row>b6:b7</th><td>1.000000e+00</td><td>4.138976e+03</td><td>4.190976e+03</td><td>2.726723e+02</td><td>2.968249e-61</td></tr>\n",
       "</tbody>\n",
       "</table>\n"
      ],
      "text/latex": [
       "\\begin{tabular}{r|lllll}\n",
       "  & Df & Deviance & AIC & LRT & Pr(>Chi)\\\\\n",
       "\\hline\n",
       "\t<none> &       NA & 3866.304 & 3920.304 &       NA &       NA\\\\\n",
       "\tb1:b2 &    1.0000000 & 3866.7599748 & 3918.7599748 &    0.4559029 &    0.4995450\\\\\n",
       "\tb1:b3 & 1.000000e+00 & 3.869074e+03 & 3.921074e+03 & 2.769765e+00 & 9.606025e-02\\\\\n",
       "\tb1:b4 &    1.0000000 & 3868.6804496 & 3920.6804496 &    2.3763776 &    0.1231829\\\\\n",
       "\tb1:b5 & 1.000000e+00 & 3.870660e+03 & 3.922660e+03 & 4.356334e+00 & 3.687157e-02\\\\\n",
       "\tb1:b6 & 1.000000e+00 & 3.884327e+03 & 3.936327e+03 & 1.802313e+01 & 2.182375e-05\\\\\n",
       "\tb1:b7 & 1.000000e+00 & 3.882001e+03 & 3.934001e+03 & 1.569655e+01 & 7.435981e-05\\\\\n",
       "\tb2:b3 &    1.0000000 & 3868.0073137 & 3920.0073137 &    1.7032417 &    0.1918646\\\\\n",
       "\tb2:b4 & 1.000000e+00 & 3.869656e+03 & 3.921656e+03 & 3.351529e+00 & 6.714263e-02\\\\\n",
       "\tb2:b5 & 1.000000e+00 & 3.870742e+03 & 3.922742e+03 & 4.437662e+00 & 3.515436e-02\\\\\n",
       "\tb2:b6 & 1.000000e+00 & 3.876574e+03 & 3.928574e+03 & 1.026980e+01 & 1.352257e-03\\\\\n",
       "\tb2:b7 & 1.000000e+00 & 3.875353e+03 & 3.927353e+03 & 9.048471e+00 & 2.629146e-03\\\\\n",
       "\tb3:b4 &    1.0000000 & 3867.6028015 & 3919.6028015 &    1.2987296 &    0.2544454\\\\\n",
       "\tb3:b6 &    1.0000000 & 3870.8048316 & 3922.8048316 &    4.5007596 &    0.0338798\\\\\n",
       "\tb3:b7 & 1.000000e+00 & 3.870828e+03 & 3.922828e+03 & 4.523591e+00 & 3.343058e-02\\\\\n",
       "\tb4:b5 &    1.0000000 & 3868.6601427 & 3920.6601427 &    2.3560708 &    0.1247962\\\\\n",
       "\tb4:b6 &    1.0000000 & 3868.2272697 & 3920.2272697 &    1.9231977 &    0.1655046\\\\\n",
       "\tb5:b6 & 1.000000e+00 & 3.886766e+03 & 3.938766e+03 & 2.046186e+01 & 6.083133e-06\\\\\n",
       "\tb5:b7 & 1.000000e+00 & 3.876555e+03 & 3.928555e+03 & 1.025076e+01 & 1.366286e-03\\\\\n",
       "\tb6:b7 & 1.000000e+00 & 4.138976e+03 & 4.190976e+03 & 2.726723e+02 & 2.968249e-61\\\\\n",
       "\\end{tabular}\n"
      ],
      "text/plain": [
       "Single term deletions\n",
       "\n",
       "Model:\n",
       "answ2 ~ b1 + b2 + b3 + b4 + b5 + b6 + b7 + b1:b2 + b1:b3 + b1:b4 + \n",
       "    b1:b5 + b1:b6 + b1:b7 + b2:b3 + b2:b4 + b2:b5 + b2:b6 + b2:b7 + \n",
       "    b3:b4 + b3:b6 + b3:b7 + b4:b5 + b4:b6 + b5:b6 + b5:b7 + b6:b7\n",
       "       Df Deviance    AIC     LRT  Pr(>Chi)    \n",
       "<none>      3866.3 3920.3                      \n",
       "b1:b2   1   3866.8 3918.8   0.456  0.499545    \n",
       "b1:b3   1   3869.1 3921.1   2.770  0.096060 .  \n",
       "b1:b4   1   3868.7 3920.7   2.376  0.123183    \n",
       "b1:b5   1   3870.7 3922.7   4.356  0.036872 *  \n",
       "b1:b6   1   3884.3 3936.3  18.023 2.182e-05 ***\n",
       "b1:b7   1   3882.0 3934.0  15.697 7.436e-05 ***\n",
       "b2:b3   1   3868.0 3920.0   1.703  0.191865    \n",
       "b2:b4   1   3869.7 3921.7   3.352  0.067143 .  \n",
       "b2:b5   1   3870.7 3922.7   4.438  0.035154 *  \n",
       "b2:b6   1   3876.6 3928.6  10.270  0.001352 ** \n",
       "b2:b7   1   3875.4 3927.4   9.048  0.002629 ** \n",
       "b3:b4   1   3867.6 3919.6   1.299  0.254445    \n",
       "b3:b6   1   3870.8 3922.8   4.501  0.033880 *  \n",
       "b3:b7   1   3870.8 3922.8   4.524  0.033431 *  \n",
       "b4:b5   1   3868.7 3920.7   2.356  0.124796    \n",
       "b4:b6   1   3868.2 3920.2   1.923  0.165505    \n",
       "b5:b6   1   3886.8 3938.8  20.462 6.083e-06 ***\n",
       "b5:b7   1   3876.6 3928.6  10.251  0.001366 ** \n",
       "b6:b7   1   4139.0 4191.0 272.672 < 2.2e-16 ***\n",
       "---\n",
       "Signif. codes:  0 ‘***’ 0.001 ‘**’ 0.01 ‘*’ 0.05 ‘.’ 0.1 ‘ ’ 1"
      ]
     },
     "metadata": {},
     "output_type": "display_data"
    }
   ],
   "source": [
    "simple.glm24 = glm(answ2 ~ b1 + b2 + b3 + b4 + b5 + b6 + b7 + \n",
    "                   b1:b2 + b1:b3 + b1:b4 + b1:b5 + b1:b6 + b1:b7 +\n",
    "                   b2:b3 + b2:b4 + b2:b5 + b2:b6 + b2:b7 +\n",
    "                   b3:b4 +         b3:b6 + b3:b7+\n",
    "                   b4:b5 + b4:b6 + \n",
    "                   b5:b6 + b5:b7 +\n",
    "                   b6:b7, \n",
    "                   data=pdata, family=binomial)\n",
    "summary(simple.glm24)\n",
    "drop1(simple.glm24, test=\"Chi\")"
   ]
  },
  {
   "cell_type": "code",
   "execution_count": 72,
   "metadata": {
    "collapsed": false
   },
   "outputs": [
    {
     "name": "stderr",
     "output_type": "stream",
     "text": [
      "Warning message:\n",
      ": glm.fit: fitted probabilities numerically 0 or 1 occurred"
     ]
    },
    {
     "data": {
      "text/plain": [
       "\n",
       "Call:\n",
       "glm(formula = answ2 ~ b1 + b2 + b3 + b4 + b5 + b6 + b7 + b1:b3 + \n",
       "    b1:b4 + b1:b5 + b1:b6 + b1:b7 + b2:b3 + b2:b4 + b2:b5 + b2:b6 + \n",
       "    b2:b7 + b3:b4 + +b3:b6 + b3:b7 + b4:b5 + b4:b6 + b5:b6 + \n",
       "    b5:b7 + b6:b7, family = binomial, data = pdata)\n",
       "\n",
       "Deviance Residuals: \n",
       "    Min       1Q   Median       3Q      Max  \n",
       "-4.4503  -0.0200  -0.0042  -0.0013   4.6730  \n",
       "\n",
       "Coefficients:\n",
       "             Estimate Std. Error z value Pr(>|z|)    \n",
       "(Intercept)   -28.231      2.798 -10.090  < 2e-16 ***\n",
       "b1            113.760     60.265   1.888 0.059070 .  \n",
       "b2            -58.513     67.586  -0.866 0.386627    \n",
       "b3             16.468     58.235   0.283 0.777337    \n",
       "b4             85.498     46.607   1.834 0.066586 .  \n",
       "b5            -25.017     10.285  -2.432 0.015002 *  \n",
       "b6           -382.304     94.033  -4.066 4.79e-05 ***\n",
       "b7            430.699    114.427   3.764 0.000167 ***\n",
       "b1:b3        -965.089    628.694  -1.535 0.124767    \n",
       "b1:b4         845.621    574.794   1.471 0.141244    \n",
       "b1:b5        -354.168    178.173  -1.988 0.046836 *  \n",
       "b1:b6        6298.656   1474.919   4.271 1.95e-05 ***\n",
       "b1:b7       -7046.410   1774.876  -3.970 7.18e-05 ***\n",
       "b2:b3         845.550    625.031   1.353 0.176115    \n",
       "b2:b4        -960.777    553.575  -1.736 0.082637 .  \n",
       "b2:b5         418.625    206.752   2.025 0.042891 *  \n",
       "b2:b6       -5000.133   1539.158  -3.249 0.001160 ** \n",
       "b2:b7        5597.661   1852.435   3.022 0.002513 ** \n",
       "b3:b4          95.967     91.757   1.046 0.295612    \n",
       "b3:b6       -1592.175    780.205  -2.041 0.041279 *  \n",
       "b3:b7        2031.530    946.808   2.146 0.031900 *  \n",
       "b4:b5         -73.322     51.070  -1.436 0.151080    \n",
       "b4:b6        -303.028    179.159  -1.691 0.090763 .  \n",
       "b5:b6        1067.826    234.770   4.548 5.41e-06 ***\n",
       "b5:b7        -917.594    287.307  -3.194 0.001404 ** \n",
       "b6:b7        -429.601     32.633 -13.164  < 2e-16 ***\n",
       "---\n",
       "Signif. codes:  0 ‘***’ 0.001 ‘**’ 0.01 ‘*’ 0.05 ‘.’ 0.1 ‘ ’ 1\n",
       "\n",
       "(Dispersion parameter for binomial family taken to be 1)\n",
       "\n",
       "    Null deviance: 26183.7  on 50538  degrees of freedom\n",
       "Residual deviance:  3866.8  on 50513  degrees of freedom\n",
       "AIC: 3918.8\n",
       "\n",
       "Number of Fisher Scoring iterations: 12\n"
      ]
     },
     "metadata": {},
     "output_type": "display_data"
    },
    {
     "name": "stderr",
     "output_type": "stream",
     "text": [
      "Warning message:\n",
      ": glm.fit: fitted probabilities numerically 0 or 1 occurredWarning message:\n",
      ": glm.fit: fitted probabilities numerically 0 or 1 occurredWarning message:\n",
      ": glm.fit: fitted probabilities numerically 0 or 1 occurredWarning message:\n",
      ": glm.fit: fitted probabilities numerically 0 or 1 occurredWarning message:\n",
      ": glm.fit: fitted probabilities numerically 0 or 1 occurredWarning message:\n",
      ": glm.fit: fitted probabilities numerically 0 or 1 occurredWarning message:\n",
      ": glm.fit: fitted probabilities numerically 0 or 1 occurredWarning message:\n",
      ": glm.fit: fitted probabilities numerically 0 or 1 occurredWarning message:\n",
      ": glm.fit: fitted probabilities numerically 0 or 1 occurredWarning message:\n",
      ": glm.fit: fitted probabilities numerically 0 or 1 occurredWarning message:\n",
      ": glm.fit: fitted probabilities numerically 0 or 1 occurredWarning message:\n",
      ": glm.fit: fitted probabilities numerically 0 or 1 occurredWarning message:\n",
      ": glm.fit: fitted probabilities numerically 0 or 1 occurredWarning message:\n",
      ": glm.fit: fitted probabilities numerically 0 or 1 occurredWarning message:\n",
      ": glm.fit: fitted probabilities numerically 0 or 1 occurredWarning message:\n",
      ": glm.fit: fitted probabilities numerically 0 or 1 occurredWarning message:\n",
      ": glm.fit: fitted probabilities numerically 0 or 1 occurredWarning message:\n",
      ": glm.fit: fitted probabilities numerically 0 or 1 occurred"
     ]
    },
    {
     "data": {
      "text/html": [
       "<table>\n",
       "<thead><tr><th></th><th scope=col>Df</th><th scope=col>Deviance</th><th scope=col>AIC</th><th scope=col>LRT</th><th scope=col>Pr(&gt;Chi)</th></tr></thead>\n",
       "<tbody>\n",
       "\t<tr><th scope=row>&lt;none&gt;</th><td>     NA</td><td>3866.76</td><td>3918.76</td><td>     NA</td><td>     NA</td></tr>\n",
       "\t<tr><th scope=row>b1:b3</th><td>   1.0000000</td><td>3869.1229698</td><td>3919.1229698</td><td>   2.3629949</td><td>   0.1242435</td></tr>\n",
       "\t<tr><th scope=row>b1:b4</th><td>   1.0000000</td><td>3868.8894687</td><td>3918.8894687</td><td>   2.1294939</td><td>   0.1444885</td></tr>\n",
       "\t<tr><th scope=row>b1:b5</th><td>1.000000e+00</td><td>3.870679e+03</td><td>3.920679e+03</td><td>3.919339e+00</td><td>4.773366e-02</td></tr>\n",
       "\t<tr><th scope=row>b1:b6</th><td>1.000000e+00</td><td>3.884343e+03</td><td>3.934343e+03</td><td>1.758296e+01</td><td>2.750418e-05</td></tr>\n",
       "\t<tr><th scope=row>b1:b7</th><td>1.000000e+00</td><td>3.882086e+03</td><td>3.932086e+03</td><td>1.532584e+01</td><td>9.047043e-05</td></tr>\n",
       "\t<tr><th scope=row>b2:b3</th><td>   1.0000000</td><td>3868.5935228</td><td>3918.5935228</td><td>   1.8335480</td><td>   0.1757091</td></tr>\n",
       "\t<tr><th scope=row>b2:b4</th><td>1.000000e+00</td><td>3.869676e+03</td><td>3.919676e+03</td><td>2.916182e+00</td><td>8.769515e-02</td></tr>\n",
       "\t<tr><th scope=row>b2:b5</th><td>1.000000e+00</td><td>3.870803e+03</td><td>3.920803e+03</td><td>4.043187e+00</td><td>4.434998e-02</td></tr>\n",
       "\t<tr><th scope=row>b2:b6</th><td>1.000000e+00</td><td>3.876692e+03</td><td>3.926692e+03</td><td>9.932245e+00</td><td>1.624083e-03</td></tr>\n",
       "\t<tr><th scope=row>b2:b7</th><td>1.000000e+00</td><td>3.875452e+03</td><td>3.925452e+03</td><td>8.692457e+00</td><td>3.195297e-03</td></tr>\n",
       "\t<tr><th scope=row>b3:b4</th><td>   1.0000000</td><td>3868.0187588</td><td>3918.0187588</td><td>   1.2587840</td><td>   0.2618814</td></tr>\n",
       "\t<tr><th scope=row>b3:b6</th><td>1.000000e+00</td><td>3.870910e+03</td><td>3.920910e+03</td><td>4.150095e+00</td><td>4.163219e-02</td></tr>\n",
       "\t<tr><th scope=row>b3:b7</th><td>1.000000e+00</td><td>3.871348e+03</td><td>3.921348e+03</td><td>4.587885e+00</td><td>3.219872e-02</td></tr>\n",
       "\t<tr><th scope=row>b4:b5</th><td>   1.0000000</td><td>3868.8066052</td><td>3918.8066052</td><td>   2.0466303</td><td>   0.1525435</td></tr>\n",
       "\t<tr><th scope=row>b4:b6</th><td>1.000000e+00</td><td>3.869527e+03</td><td>3.919527e+03</td><td>2.767109e+00</td><td>9.621978e-02</td></tr>\n",
       "\t<tr><th scope=row>b5:b6</th><td>1.000000e+00</td><td>3.886779e+03</td><td>3.936779e+03</td><td>2.001874e+01</td><td>7.668679e-06</td></tr>\n",
       "\t<tr><th scope=row>b5:b7</th><td>1.000000e+00</td><td>3.876670e+03</td><td>3.926670e+03</td><td>9.909557e+00</td><td>1.644227e-03</td></tr>\n",
       "\t<tr><th scope=row>b6:b7</th><td>1.000000e+00</td><td>4.139825e+03</td><td>4.189825e+03</td><td>2.730654e+02</td><td>2.436898e-61</td></tr>\n",
       "</tbody>\n",
       "</table>\n"
      ],
      "text/latex": [
       "\\begin{tabular}{r|lllll}\n",
       "  & Df & Deviance & AIC & LRT & Pr(>Chi)\\\\\n",
       "\\hline\n",
       "\t<none> &      NA & 3866.76 & 3918.76 &      NA &      NA\\\\\n",
       "\tb1:b3 &    1.0000000 & 3869.1229698 & 3919.1229698 &    2.3629949 &    0.1242435\\\\\n",
       "\tb1:b4 &    1.0000000 & 3868.8894687 & 3918.8894687 &    2.1294939 &    0.1444885\\\\\n",
       "\tb1:b5 & 1.000000e+00 & 3.870679e+03 & 3.920679e+03 & 3.919339e+00 & 4.773366e-02\\\\\n",
       "\tb1:b6 & 1.000000e+00 & 3.884343e+03 & 3.934343e+03 & 1.758296e+01 & 2.750418e-05\\\\\n",
       "\tb1:b7 & 1.000000e+00 & 3.882086e+03 & 3.932086e+03 & 1.532584e+01 & 9.047043e-05\\\\\n",
       "\tb2:b3 &    1.0000000 & 3868.5935228 & 3918.5935228 &    1.8335480 &    0.1757091\\\\\n",
       "\tb2:b4 & 1.000000e+00 & 3.869676e+03 & 3.919676e+03 & 2.916182e+00 & 8.769515e-02\\\\\n",
       "\tb2:b5 & 1.000000e+00 & 3.870803e+03 & 3.920803e+03 & 4.043187e+00 & 4.434998e-02\\\\\n",
       "\tb2:b6 & 1.000000e+00 & 3.876692e+03 & 3.926692e+03 & 9.932245e+00 & 1.624083e-03\\\\\n",
       "\tb2:b7 & 1.000000e+00 & 3.875452e+03 & 3.925452e+03 & 8.692457e+00 & 3.195297e-03\\\\\n",
       "\tb3:b4 &    1.0000000 & 3868.0187588 & 3918.0187588 &    1.2587840 &    0.2618814\\\\\n",
       "\tb3:b6 & 1.000000e+00 & 3.870910e+03 & 3.920910e+03 & 4.150095e+00 & 4.163219e-02\\\\\n",
       "\tb3:b7 & 1.000000e+00 & 3.871348e+03 & 3.921348e+03 & 4.587885e+00 & 3.219872e-02\\\\\n",
       "\tb4:b5 &    1.0000000 & 3868.8066052 & 3918.8066052 &    2.0466303 &    0.1525435\\\\\n",
       "\tb4:b6 & 1.000000e+00 & 3.869527e+03 & 3.919527e+03 & 2.767109e+00 & 9.621978e-02\\\\\n",
       "\tb5:b6 & 1.000000e+00 & 3.886779e+03 & 3.936779e+03 & 2.001874e+01 & 7.668679e-06\\\\\n",
       "\tb5:b7 & 1.000000e+00 & 3.876670e+03 & 3.926670e+03 & 9.909557e+00 & 1.644227e-03\\\\\n",
       "\tb6:b7 & 1.000000e+00 & 4.139825e+03 & 4.189825e+03 & 2.730654e+02 & 2.436898e-61\\\\\n",
       "\\end{tabular}\n"
      ],
      "text/plain": [
       "Single term deletions\n",
       "\n",
       "Model:\n",
       "answ2 ~ b1 + b2 + b3 + b4 + b5 + b6 + b7 + b1:b3 + b1:b4 + b1:b5 + \n",
       "    b1:b6 + b1:b7 + b2:b3 + b2:b4 + b2:b5 + b2:b6 + b2:b7 + b3:b4 + \n",
       "    +b3:b6 + b3:b7 + b4:b5 + b4:b6 + b5:b6 + b5:b7 + b6:b7\n",
       "       Df Deviance    AIC     LRT  Pr(>Chi)    \n",
       "<none>      3866.8 3918.8                      \n",
       "b1:b3   1   3869.1 3919.1   2.363  0.124243    \n",
       "b1:b4   1   3868.9 3918.9   2.129  0.144488    \n",
       "b1:b5   1   3870.7 3920.7   3.919  0.047734 *  \n",
       "b1:b6   1   3884.3 3934.3  17.583 2.750e-05 ***\n",
       "b1:b7   1   3882.1 3932.1  15.326 9.047e-05 ***\n",
       "b2:b3   1   3868.6 3918.6   1.834  0.175709    \n",
       "b2:b4   1   3869.7 3919.7   2.916  0.087695 .  \n",
       "b2:b5   1   3870.8 3920.8   4.043  0.044350 *  \n",
       "b2:b6   1   3876.7 3926.7   9.932  0.001624 ** \n",
       "b2:b7   1   3875.5 3925.5   8.692  0.003195 ** \n",
       "b3:b4   1   3868.0 3918.0   1.259  0.261881    \n",
       "b3:b6   1   3870.9 3920.9   4.150  0.041632 *  \n",
       "b3:b7   1   3871.3 3921.3   4.588  0.032199 *  \n",
       "b4:b5   1   3868.8 3918.8   2.047  0.152543    \n",
       "b4:b6   1   3869.5 3919.5   2.767  0.096220 .  \n",
       "b5:b6   1   3886.8 3936.8  20.019 7.669e-06 ***\n",
       "b5:b7   1   3876.7 3926.7   9.910  0.001644 ** \n",
       "b6:b7   1   4139.8 4189.8 273.065 < 2.2e-16 ***\n",
       "---\n",
       "Signif. codes:  0 ‘***’ 0.001 ‘**’ 0.01 ‘*’ 0.05 ‘.’ 0.1 ‘ ’ 1"
      ]
     },
     "metadata": {},
     "output_type": "display_data"
    }
   ],
   "source": [
    "simple.glm25 = glm(answ2 ~ b1 + b2 + b3 + b4 + b5 + b6 + b7 + \n",
    "                           b1:b3 + b1:b4 + b1:b5 + b1:b6 + b1:b7 +\n",
    "                   b2:b3 + b2:b4 + b2:b5 + b2:b6 + b2:b7 +\n",
    "                   b3:b4 +         b3:b6 + b3:b7+\n",
    "                   b4:b5 + b4:b6 + \n",
    "                   b5:b6 + b5:b7 +\n",
    "                   b6:b7, \n",
    "                   data=pdata, family=binomial)\n",
    "summary(simple.glm25)\n",
    "drop1(simple.glm25, test=\"Chi\")"
   ]
  },
  {
   "cell_type": "code",
   "execution_count": 73,
   "metadata": {
    "collapsed": false
   },
   "outputs": [
    {
     "name": "stderr",
     "output_type": "stream",
     "text": [
      "Warning message:\n",
      ": glm.fit: fitted probabilities numerically 0 or 1 occurred"
     ]
    },
    {
     "data": {
      "text/plain": [
       "\n",
       "Call:\n",
       "glm(formula = answ2 ~ b1 + b2 + b3 + b4 + b5 + b6 + b7 + +b1:b3 + \n",
       "    b1:b4 + b1:b5 + b1:b6 + b1:b7 + b2:b3 + b2:b4 + b2:b5 + b2:b6 + \n",
       "    b2:b7 + b3:b6 + b3:b7 + b4:b5 + b4:b6 + b5:b6 + b5:b7 + b6:b7, \n",
       "    family = binomial, data = pdata)\n",
       "\n",
       "Deviance Residuals: \n",
       "    Min       1Q   Median       3Q      Max  \n",
       "-4.4021  -0.0202  -0.0043  -0.0013   4.6661  \n",
       "\n",
       "Coefficients:\n",
       "             Estimate Std. Error z value Pr(>|z|)    \n",
       "(Intercept)   -27.880      2.654 -10.505  < 2e-16 ***\n",
       "b1            120.375     59.245   2.032 0.042173 *  \n",
       "b2            -77.897     64.163  -1.214 0.224730    \n",
       "b3             39.131     53.241   0.735 0.462359    \n",
       "b4             77.917     46.230   1.685 0.091909 .  \n",
       "b5            -27.494      9.635  -2.854 0.004323 ** \n",
       "b6           -394.217     93.302  -4.225 2.39e-05 ***\n",
       "b7            448.293    113.221   3.959 7.51e-05 ***\n",
       "b1:b3       -1049.421    628.814  -1.669 0.095139 .  \n",
       "b1:b4         809.498    576.625   1.404 0.160361    \n",
       "b1:b5        -257.386    152.677  -1.686 0.091830 .  \n",
       "b1:b6        6198.579   1471.317   4.213 2.52e-05 ***\n",
       "b1:b7       -7051.479   1778.777  -3.964 7.36e-05 ***\n",
       "b2:b3         951.252    622.444   1.528 0.126450    \n",
       "b2:b4        -863.045    552.583  -1.562 0.118326    \n",
       "b2:b5         286.848    164.522   1.744 0.081242 .  \n",
       "b2:b6       -4647.497   1525.147  -3.047 0.002309 ** \n",
       "b2:b7        5319.761   1860.719   2.859 0.004250 ** \n",
       "b3:b6       -1851.987    741.904  -2.496 0.012551 *  \n",
       "b3:b7        2373.050    896.586   2.647 0.008127 ** \n",
       "b4:b5         -29.986     33.174  -0.904 0.366046    \n",
       "b4:b6        -340.081    175.760  -1.935 0.053000 .  \n",
       "b5:b6        1107.043    230.979   4.793 1.64e-06 ***\n",
       "b5:b7        -970.929    281.854  -3.445 0.000571 ***\n",
       "b6:b7        -431.977     32.612 -13.246  < 2e-16 ***\n",
       "---\n",
       "Signif. codes:  0 ‘***’ 0.001 ‘**’ 0.01 ‘*’ 0.05 ‘.’ 0.1 ‘ ’ 1\n",
       "\n",
       "(Dispersion parameter for binomial family taken to be 1)\n",
       "\n",
       "    Null deviance: 26184  on 50538  degrees of freedom\n",
       "Residual deviance:  3868  on 50514  degrees of freedom\n",
       "AIC: 3918\n",
       "\n",
       "Number of Fisher Scoring iterations: 12\n"
      ]
     },
     "metadata": {},
     "output_type": "display_data"
    },
    {
     "name": "stderr",
     "output_type": "stream",
     "text": [
      "Warning message:\n",
      ": glm.fit: fitted probabilities numerically 0 or 1 occurredWarning message:\n",
      ": glm.fit: fitted probabilities numerically 0 or 1 occurredWarning message:\n",
      ": glm.fit: fitted probabilities numerically 0 or 1 occurredWarning message:\n",
      ": glm.fit: fitted probabilities numerically 0 or 1 occurredWarning message:\n",
      ": glm.fit: fitted probabilities numerically 0 or 1 occurredWarning message:\n",
      ": glm.fit: fitted probabilities numerically 0 or 1 occurredWarning message:\n",
      ": glm.fit: fitted probabilities numerically 0 or 1 occurredWarning message:\n",
      ": glm.fit: fitted probabilities numerically 0 or 1 occurredWarning message:\n",
      ": glm.fit: fitted probabilities numerically 0 or 1 occurredWarning message:\n",
      ": glm.fit: fitted probabilities numerically 0 or 1 occurredWarning message:\n",
      ": glm.fit: fitted probabilities numerically 0 or 1 occurredWarning message:\n",
      ": glm.fit: fitted probabilities numerically 0 or 1 occurredWarning message:\n",
      ": glm.fit: fitted probabilities numerically 0 or 1 occurredWarning message:\n",
      ": glm.fit: fitted probabilities numerically 0 or 1 occurredWarning message:\n",
      ": glm.fit: fitted probabilities numerically 0 or 1 occurredWarning message:\n",
      ": glm.fit: fitted probabilities numerically 0 or 1 occurredWarning message:\n",
      ": glm.fit: fitted probabilities numerically 0 or 1 occurred"
     ]
    },
    {
     "data": {
      "text/html": [
       "<table>\n",
       "<thead><tr><th></th><th scope=col>Df</th><th scope=col>Deviance</th><th scope=col>AIC</th><th scope=col>LRT</th><th scope=col>Pr(&gt;Chi)</th></tr></thead>\n",
       "<tbody>\n",
       "\t<tr><th scope=row>&lt;none&gt;</th><td>      NA</td><td>3868.019</td><td>3918.019</td><td>      NA</td><td>      NA</td></tr>\n",
       "\t<tr><th scope=row>b1:b3</th><td>   1.0000000</td><td>3870.8450601</td><td>3918.8450601</td><td>   2.8263013</td><td>   0.0927317</td></tr>\n",
       "\t<tr><th scope=row>b1:b4</th><td>   1.0000000</td><td>3869.9748339</td><td>3917.9748339</td><td>   1.9560751</td><td>   0.1619337</td></tr>\n",
       "\t<tr><th scope=row>b1:b5</th><td>1.000000e+00</td><td>3.870747e+03</td><td>3.918747e+03</td><td>2.727912e+00</td><td>9.860813e-02</td></tr>\n",
       "\t<tr><th scope=row>b1:b6</th><td>1.000000e+00</td><td>3.885137e+03</td><td>3.933137e+03</td><td>1.711816e+01</td><td>3.512481e-05</td></tr>\n",
       "\t<tr><th scope=row>b1:b7</th><td>1.000000e+00</td><td>3.883301e+03</td><td>3.931301e+03</td><td>1.528259e+01</td><td>9.256558e-05</td></tr>\n",
       "\t<tr><th scope=row>b2:b3</th><td>   1.000000</td><td>3870.398028</td><td>3918.398028</td><td>   2.379269</td><td>   0.122955</td></tr>\n",
       "\t<tr><th scope=row>b2:b4</th><td>   1.0000000</td><td>3870.4156007</td><td>3918.4156007</td><td>   2.3968419</td><td>   0.1215805</td></tr>\n",
       "\t<tr><th scope=row>b2:b5</th><td>1.000000e+00</td><td>3.870813e+03</td><td>3.918813e+03</td><td>2.794150e+00</td><td>9.460892e-02</td></tr>\n",
       "\t<tr><th scope=row>b2:b6</th><td>1.000000e+00</td><td>3.876887e+03</td><td>3.924887e+03</td><td>8.868206e+00</td><td>2.901801e-03</td></tr>\n",
       "\t<tr><th scope=row>b2:b7</th><td>1.000000e+00</td><td>3.875887e+03</td><td>3.923887e+03</td><td>7.868309e+00</td><td>5.030868e-03</td></tr>\n",
       "\t<tr><th scope=row>b3:b6</th><td>1.000000e+00</td><td>3.874245e+03</td><td>3.922245e+03</td><td>6.226120e+00</td><td>1.258793e-02</td></tr>\n",
       "\t<tr><th scope=row>b3:b7</th><td>1.000000e+00</td><td>3.875019e+03</td><td>3.923019e+03</td><td>7.000507e+00</td><td>8.148663e-03</td></tr>\n",
       "\t<tr><th scope=row>b4:b5</th><td>   1.0000000</td><td>3868.8131965</td><td>3916.8131965</td><td>   0.7944377</td><td>   0.3727616</td></tr>\n",
       "\t<tr><th scope=row>b4:b6</th><td>1.000000e+00</td><td>3.871575e+03</td><td>3.919575e+03</td><td>3.555877e+00</td><td>5.933493e-02</td></tr>\n",
       "\t<tr><th scope=row>b5:b6</th><td>1.000000e+00</td><td>3.890461e+03</td><td>3.938461e+03</td><td>2.244255e+01</td><td>2.165239e-06</td></tr>\n",
       "\t<tr><th scope=row>b5:b7</th><td>1.000000e+00</td><td>3.879621e+03</td><td>3.927621e+03</td><td>1.160264e+01</td><td>6.585844e-04</td></tr>\n",
       "\t<tr><th scope=row>b6:b7</th><td>1.000000e+00</td><td>4.142694e+03</td><td>4.190694e+03</td><td>2.746750e+02</td><td>1.086533e-61</td></tr>\n",
       "</tbody>\n",
       "</table>\n"
      ],
      "text/latex": [
       "\\begin{tabular}{r|lllll}\n",
       "  & Df & Deviance & AIC & LRT & Pr(>Chi)\\\\\n",
       "\\hline\n",
       "\t<none> &       NA & 3868.019 & 3918.019 &       NA &       NA\\\\\n",
       "\tb1:b3 &    1.0000000 & 3870.8450601 & 3918.8450601 &    2.8263013 &    0.0927317\\\\\n",
       "\tb1:b4 &    1.0000000 & 3869.9748339 & 3917.9748339 &    1.9560751 &    0.1619337\\\\\n",
       "\tb1:b5 & 1.000000e+00 & 3.870747e+03 & 3.918747e+03 & 2.727912e+00 & 9.860813e-02\\\\\n",
       "\tb1:b6 & 1.000000e+00 & 3.885137e+03 & 3.933137e+03 & 1.711816e+01 & 3.512481e-05\\\\\n",
       "\tb1:b7 & 1.000000e+00 & 3.883301e+03 & 3.931301e+03 & 1.528259e+01 & 9.256558e-05\\\\\n",
       "\tb2:b3 &    1.000000 & 3870.398028 & 3918.398028 &    2.379269 &    0.122955\\\\\n",
       "\tb2:b4 &    1.0000000 & 3870.4156007 & 3918.4156007 &    2.3968419 &    0.1215805\\\\\n",
       "\tb2:b5 & 1.000000e+00 & 3.870813e+03 & 3.918813e+03 & 2.794150e+00 & 9.460892e-02\\\\\n",
       "\tb2:b6 & 1.000000e+00 & 3.876887e+03 & 3.924887e+03 & 8.868206e+00 & 2.901801e-03\\\\\n",
       "\tb2:b7 & 1.000000e+00 & 3.875887e+03 & 3.923887e+03 & 7.868309e+00 & 5.030868e-03\\\\\n",
       "\tb3:b6 & 1.000000e+00 & 3.874245e+03 & 3.922245e+03 & 6.226120e+00 & 1.258793e-02\\\\\n",
       "\tb3:b7 & 1.000000e+00 & 3.875019e+03 & 3.923019e+03 & 7.000507e+00 & 8.148663e-03\\\\\n",
       "\tb4:b5 &    1.0000000 & 3868.8131965 & 3916.8131965 &    0.7944377 &    0.3727616\\\\\n",
       "\tb4:b6 & 1.000000e+00 & 3.871575e+03 & 3.919575e+03 & 3.555877e+00 & 5.933493e-02\\\\\n",
       "\tb5:b6 & 1.000000e+00 & 3.890461e+03 & 3.938461e+03 & 2.244255e+01 & 2.165239e-06\\\\\n",
       "\tb5:b7 & 1.000000e+00 & 3.879621e+03 & 3.927621e+03 & 1.160264e+01 & 6.585844e-04\\\\\n",
       "\tb6:b7 & 1.000000e+00 & 4.142694e+03 & 4.190694e+03 & 2.746750e+02 & 1.086533e-61\\\\\n",
       "\\end{tabular}\n"
      ],
      "text/plain": [
       "Single term deletions\n",
       "\n",
       "Model:\n",
       "answ2 ~ b1 + b2 + b3 + b4 + b5 + b6 + b7 + +b1:b3 + b1:b4 + b1:b5 + \n",
       "    b1:b6 + b1:b7 + b2:b3 + b2:b4 + b2:b5 + b2:b6 + b2:b7 + b3:b6 + \n",
       "    b3:b7 + b4:b5 + b4:b6 + b5:b6 + b5:b7 + b6:b7\n",
       "       Df Deviance    AIC     LRT  Pr(>Chi)    \n",
       "<none>      3868.0 3918.0                      \n",
       "b1:b3   1   3870.8 3918.8   2.826 0.0927317 .  \n",
       "b1:b4   1   3870.0 3918.0   1.956 0.1619337    \n",
       "b1:b5   1   3870.7 3918.7   2.728 0.0986081 .  \n",
       "b1:b6   1   3885.1 3933.1  17.118 3.512e-05 ***\n",
       "b1:b7   1   3883.3 3931.3  15.283 9.257e-05 ***\n",
       "b2:b3   1   3870.4 3918.4   2.379 0.1229550    \n",
       "b2:b4   1   3870.4 3918.4   2.397 0.1215805    \n",
       "b2:b5   1   3870.8 3918.8   2.794 0.0946089 .  \n",
       "b2:b6   1   3876.9 3924.9   8.868 0.0029018 ** \n",
       "b2:b7   1   3875.9 3923.9   7.868 0.0050309 ** \n",
       "b3:b6   1   3874.2 3922.2   6.226 0.0125879 *  \n",
       "b3:b7   1   3875.0 3923.0   7.001 0.0081487 ** \n",
       "b4:b5   1   3868.8 3916.8   0.794 0.3727616    \n",
       "b4:b6   1   3871.6 3919.6   3.556 0.0593349 .  \n",
       "b5:b6   1   3890.5 3938.5  22.443 2.165e-06 ***\n",
       "b5:b7   1   3879.6 3927.6  11.603 0.0006586 ***\n",
       "b6:b7   1   4142.7 4190.7 274.675 < 2.2e-16 ***\n",
       "---\n",
       "Signif. codes:  0 ‘***’ 0.001 ‘**’ 0.01 ‘*’ 0.05 ‘.’ 0.1 ‘ ’ 1"
      ]
     },
     "metadata": {},
     "output_type": "display_data"
    }
   ],
   "source": [
    "simple.glm26 = glm(answ2 ~ b1 + b2 + b3 + b4 + b5 + b6 + b7 + \n",
    "                           b1:b3 + b1:b4 + b1:b5 + b1:b6 + b1:b7 +\n",
    "                   b2:b3 + b2:b4 + b2:b5 + b2:b6 + b2:b7 +\n",
    "                                   b3:b6 + b3:b7+\n",
    "                   b4:b5 + b4:b6 + \n",
    "                   b5:b6 + b5:b7 +\n",
    "                   b6:b7, \n",
    "                   data=pdata, family=binomial)\n",
    "summary(simple.glm26)\n",
    "drop1(simple.glm26, test=\"Chi\")"
   ]
  },
  {
   "cell_type": "code",
   "execution_count": 74,
   "metadata": {
    "collapsed": false
   },
   "outputs": [
    {
     "name": "stderr",
     "output_type": "stream",
     "text": [
      "Warning message:\n",
      ": glm.fit: fitted probabilities numerically 0 or 1 occurred"
     ]
    },
    {
     "data": {
      "text/plain": [
       "\n",
       "Call:\n",
       "glm(formula = answ2 ~ b1 + b2 + b3 + b4 + b5 + b6 + b7 + b1:b3 + \n",
       "    b1:b4 + b1:b5 + b1:b6 + b1:b7 + b2:b3 + b2:b4 + b2:b5 + b2:b6 + \n",
       "    b2:b7 + b3:b6 + b3:b7 + b4:b6 + b5:b6 + b5:b7 + b6:b7, family = binomial, \n",
       "    data = pdata)\n",
       "\n",
       "Deviance Residuals: \n",
       "    Min       1Q   Median       3Q      Max  \n",
       "-4.4811  -0.0203  -0.0043  -0.0013   4.6742  \n",
       "\n",
       "Coefficients:\n",
       "             Estimate Std. Error z value Pr(>|z|)    \n",
       "(Intercept)   -27.635      2.648 -10.436  < 2e-16 ***\n",
       "b1            104.893     56.335   1.862 0.062607 .  \n",
       "b2            -54.790     58.429  -0.938 0.348389    \n",
       "b3             31.392     52.739   0.595 0.551694    \n",
       "b4             77.519     46.472   1.668 0.095302 .  \n",
       "b5            -29.055      9.584  -3.032 0.002433 ** \n",
       "b6           -394.350     93.382  -4.223 2.41e-05 ***\n",
       "b7            450.126    113.312   3.972 7.11e-05 ***\n",
       "b1:b3       -1120.630    617.564  -1.815 0.069586 .  \n",
       "b1:b4         853.754    571.147   1.495 0.134965    \n",
       "b1:b5        -184.234    132.247  -1.393 0.163587    \n",
       "b1:b6        6274.235   1474.550   4.255 2.09e-05 ***\n",
       "b1:b7       -7250.470   1768.406  -4.100 4.13e-05 ***\n",
       "b2:b3        1052.297    605.031   1.739 0.081992 .  \n",
       "b2:b4        -937.446    542.191  -1.729 0.083810 .  \n",
       "b2:b5         188.526    128.497   1.467 0.142333    \n",
       "b2:b6       -4762.049   1525.998  -3.121 0.001805 ** \n",
       "b2:b7        5621.179   1832.886   3.067 0.002163 ** \n",
       "b3:b6       -1796.007    740.088  -2.427 0.015235 *  \n",
       "b3:b7        2272.765    889.438   2.555 0.010610 *  \n",
       "b4:b6        -363.232    175.733  -2.067 0.038738 *  \n",
       "b5:b6        1115.884    231.045   4.830 1.37e-06 ***\n",
       "b5:b7        -984.412    281.876  -3.492 0.000479 ***\n",
       "b6:b7        -429.565     32.440 -13.242  < 2e-16 ***\n",
       "---\n",
       "Signif. codes:  0 ‘***’ 0.001 ‘**’ 0.01 ‘*’ 0.05 ‘.’ 0.1 ‘ ’ 1\n",
       "\n",
       "(Dispersion parameter for binomial family taken to be 1)\n",
       "\n",
       "    Null deviance: 26183.7  on 50538  degrees of freedom\n",
       "Residual deviance:  3868.8  on 50515  degrees of freedom\n",
       "AIC: 3916.8\n",
       "\n",
       "Number of Fisher Scoring iterations: 12\n"
      ]
     },
     "metadata": {},
     "output_type": "display_data"
    },
    {
     "name": "stderr",
     "output_type": "stream",
     "text": [
      "Warning message:\n",
      ": glm.fit: fitted probabilities numerically 0 or 1 occurredWarning message:\n",
      ": glm.fit: fitted probabilities numerically 0 or 1 occurredWarning message:\n",
      ": glm.fit: fitted probabilities numerically 0 or 1 occurredWarning message:\n",
      ": glm.fit: fitted probabilities numerically 0 or 1 occurredWarning message:\n",
      ": glm.fit: fitted probabilities numerically 0 or 1 occurredWarning message:\n",
      ": glm.fit: fitted probabilities numerically 0 or 1 occurredWarning message:\n",
      ": glm.fit: fitted probabilities numerically 0 or 1 occurredWarning message:\n",
      ": glm.fit: fitted probabilities numerically 0 or 1 occurredWarning message:\n",
      ": glm.fit: fitted probabilities numerically 0 or 1 occurredWarning message:\n",
      ": glm.fit: fitted probabilities numerically 0 or 1 occurredWarning message:\n",
      ": glm.fit: fitted probabilities numerically 0 or 1 occurredWarning message:\n",
      ": glm.fit: fitted probabilities numerically 0 or 1 occurredWarning message:\n",
      ": glm.fit: fitted probabilities numerically 0 or 1 occurredWarning message:\n",
      ": glm.fit: fitted probabilities numerically 0 or 1 occurredWarning message:\n",
      ": glm.fit: fitted probabilities numerically 0 or 1 occurredWarning message:\n",
      ": glm.fit: fitted probabilities numerically 0 or 1 occurred"
     ]
    },
    {
     "data": {
      "text/html": [
       "<table>\n",
       "<thead><tr><th></th><th scope=col>Df</th><th scope=col>Deviance</th><th scope=col>AIC</th><th scope=col>LRT</th><th scope=col>Pr(&gt;Chi)</th></tr></thead>\n",
       "<tbody>\n",
       "\t<tr><th scope=row>&lt;none&gt;</th><td>      NA</td><td>3868.813</td><td>3916.813</td><td>      NA</td><td>      NA</td></tr>\n",
       "\t<tr><th scope=row>b1:b3</th><td>1.000000e+00</td><td>3.872167e+03</td><td>3.918167e+03</td><td>3.353503e+00</td><td>6.706216e-02</td></tr>\n",
       "\t<tr><th scope=row>b1:b4</th><td>   1.0000000</td><td>3871.0160396</td><td>3917.0160396</td><td>   2.2028431</td><td>   0.1377565</td></tr>\n",
       "\t<tr><th scope=row>b1:b5</th><td>   1.0000000</td><td>3870.7473697</td><td>3916.7473697</td><td>   1.9341732</td><td>   0.1643026</td></tr>\n",
       "\t<tr><th scope=row>b1:b6</th><td>1.000000e+00</td><td>3.886203e+03</td><td>3.932203e+03</td><td>1.739024e+01</td><td>3.043858e-05</td></tr>\n",
       "\t<tr><th scope=row>b1:b7</th><td>1.000000e+00</td><td>3.885062e+03</td><td>3.931062e+03</td><td>1.624876e+01</td><td>5.554602e-05</td></tr>\n",
       "\t<tr><th scope=row>b2:b3</th><td>1.000000e+00</td><td>3.871918e+03</td><td>3.917918e+03</td><td>3.104986e+00</td><td>7.805288e-02</td></tr>\n",
       "\t<tr><th scope=row>b2:b4</th><td>   1.0000000</td><td>3871.7105629</td><td>3917.7105629</td><td>   2.8973664</td><td>   0.0887244</td></tr>\n",
       "\t<tr><th scope=row>b2:b5</th><td>   1.0000000</td><td>3870.9134270</td><td>3916.9134270</td><td>   2.1002305</td><td>   0.1472769</td></tr>\n",
       "\t<tr><th scope=row>b2:b6</th><td>1.000000e+00</td><td>3.878064e+03</td><td>3.924064e+03</td><td>9.250584e+00</td><td>2.354204e-03</td></tr>\n",
       "\t<tr><th scope=row>b2:b7</th><td>1.000000e+00</td><td>3.877793e+03</td><td>3.923793e+03</td><td>8.980293e+00</td><td>2.729068e-03</td></tr>\n",
       "\t<tr><th scope=row>b3:b6</th><td>1.000000e+00</td><td>3.874690e+03</td><td>3.920690e+03</td><td>5.876846e+00</td><td>1.534128e-02</td></tr>\n",
       "\t<tr><th scope=row>b3:b7</th><td>1.000000e+00</td><td>3.875317e+03</td><td>3.921317e+03</td><td>6.503575e+00</td><td>1.076578e-02</td></tr>\n",
       "\t<tr><th scope=row>b4:b6</th><td>1.000000e+00</td><td>3.872847e+03</td><td>3.918847e+03</td><td>4.034068e+00</td><td>4.459031e-02</td></tr>\n",
       "\t<tr><th scope=row>b5:b6</th><td>1.000000e+00</td><td>3.891430e+03</td><td>3.937430e+03</td><td>2.261710e+01</td><td>1.977171e-06</td></tr>\n",
       "\t<tr><th scope=row>b5:b7</th><td>1.000000e+00</td><td>3.880668e+03</td><td>3.926668e+03</td><td>1.185470e+01</td><td>5.751588e-04</td></tr>\n",
       "\t<tr><th scope=row>b6:b7</th><td>1.000000e+00</td><td>4.142898e+03</td><td>4.188898e+03</td><td>2.740844e+02</td><td>1.461382e-61</td></tr>\n",
       "</tbody>\n",
       "</table>\n"
      ],
      "text/latex": [
       "\\begin{tabular}{r|lllll}\n",
       "  & Df & Deviance & AIC & LRT & Pr(>Chi)\\\\\n",
       "\\hline\n",
       "\t<none> &       NA & 3868.813 & 3916.813 &       NA &       NA\\\\\n",
       "\tb1:b3 & 1.000000e+00 & 3.872167e+03 & 3.918167e+03 & 3.353503e+00 & 6.706216e-02\\\\\n",
       "\tb1:b4 &    1.0000000 & 3871.0160396 & 3917.0160396 &    2.2028431 &    0.1377565\\\\\n",
       "\tb1:b5 &    1.0000000 & 3870.7473697 & 3916.7473697 &    1.9341732 &    0.1643026\\\\\n",
       "\tb1:b6 & 1.000000e+00 & 3.886203e+03 & 3.932203e+03 & 1.739024e+01 & 3.043858e-05\\\\\n",
       "\tb1:b7 & 1.000000e+00 & 3.885062e+03 & 3.931062e+03 & 1.624876e+01 & 5.554602e-05\\\\\n",
       "\tb2:b3 & 1.000000e+00 & 3.871918e+03 & 3.917918e+03 & 3.104986e+00 & 7.805288e-02\\\\\n",
       "\tb2:b4 &    1.0000000 & 3871.7105629 & 3917.7105629 &    2.8973664 &    0.0887244\\\\\n",
       "\tb2:b5 &    1.0000000 & 3870.9134270 & 3916.9134270 &    2.1002305 &    0.1472769\\\\\n",
       "\tb2:b6 & 1.000000e+00 & 3.878064e+03 & 3.924064e+03 & 9.250584e+00 & 2.354204e-03\\\\\n",
       "\tb2:b7 & 1.000000e+00 & 3.877793e+03 & 3.923793e+03 & 8.980293e+00 & 2.729068e-03\\\\\n",
       "\tb3:b6 & 1.000000e+00 & 3.874690e+03 & 3.920690e+03 & 5.876846e+00 & 1.534128e-02\\\\\n",
       "\tb3:b7 & 1.000000e+00 & 3.875317e+03 & 3.921317e+03 & 6.503575e+00 & 1.076578e-02\\\\\n",
       "\tb4:b6 & 1.000000e+00 & 3.872847e+03 & 3.918847e+03 & 4.034068e+00 & 4.459031e-02\\\\\n",
       "\tb5:b6 & 1.000000e+00 & 3.891430e+03 & 3.937430e+03 & 2.261710e+01 & 1.977171e-06\\\\\n",
       "\tb5:b7 & 1.000000e+00 & 3.880668e+03 & 3.926668e+03 & 1.185470e+01 & 5.751588e-04\\\\\n",
       "\tb6:b7 & 1.000000e+00 & 4.142898e+03 & 4.188898e+03 & 2.740844e+02 & 1.461382e-61\\\\\n",
       "\\end{tabular}\n"
      ],
      "text/plain": [
       "Single term deletions\n",
       "\n",
       "Model:\n",
       "answ2 ~ b1 + b2 + b3 + b4 + b5 + b6 + b7 + b1:b3 + b1:b4 + b1:b5 + \n",
       "    b1:b6 + b1:b7 + b2:b3 + b2:b4 + b2:b5 + b2:b6 + b2:b7 + b3:b6 + \n",
       "    b3:b7 + b4:b6 + b5:b6 + b5:b7 + b6:b7\n",
       "       Df Deviance    AIC     LRT  Pr(>Chi)    \n",
       "<none>      3868.8 3916.8                      \n",
       "b1:b3   1   3872.2 3918.2   3.354 0.0670622 .  \n",
       "b1:b4   1   3871.0 3917.0   2.203 0.1377565    \n",
       "b1:b5   1   3870.7 3916.7   1.934 0.1643026    \n",
       "b1:b6   1   3886.2 3932.2  17.390 3.044e-05 ***\n",
       "b1:b7   1   3885.1 3931.1  16.249 5.555e-05 ***\n",
       "b2:b3   1   3871.9 3917.9   3.105 0.0780529 .  \n",
       "b2:b4   1   3871.7 3917.7   2.897 0.0887244 .  \n",
       "b2:b5   1   3870.9 3916.9   2.100 0.1472769    \n",
       "b2:b6   1   3878.1 3924.1   9.251 0.0023542 ** \n",
       "b2:b7   1   3877.8 3923.8   8.980 0.0027291 ** \n",
       "b3:b6   1   3874.7 3920.7   5.877 0.0153413 *  \n",
       "b3:b7   1   3875.3 3921.3   6.504 0.0107658 *  \n",
       "b4:b6   1   3872.8 3918.8   4.034 0.0445903 *  \n",
       "b5:b6   1   3891.4 3937.4  22.617 1.977e-06 ***\n",
       "b5:b7   1   3880.7 3926.7  11.855 0.0005752 ***\n",
       "b6:b7   1   4142.9 4188.9 274.084 < 2.2e-16 ***\n",
       "---\n",
       "Signif. codes:  0 ‘***’ 0.001 ‘**’ 0.01 ‘*’ 0.05 ‘.’ 0.1 ‘ ’ 1"
      ]
     },
     "metadata": {},
     "output_type": "display_data"
    }
   ],
   "source": [
    "simple.glm27 = glm(answ2 ~ b1 + b2 + b3 + b4 + b5 + b6 + b7 + \n",
    "                           b1:b3 + b1:b4 + b1:b5 + b1:b6 + b1:b7 +\n",
    "                   b2:b3 + b2:b4 + b2:b5 + b2:b6 + b2:b7 +\n",
    "                                    b3:b6 + b3:b7+\n",
    "                           b4:b6 + \n",
    "                   b5:b6 + b5:b7 +\n",
    "                   b6:b7, \n",
    "                   data=pdata, family=binomial)\n",
    "summary(simple.glm27)\n",
    "drop1(simple.glm27, test=\"Chi\")"
   ]
  },
  {
   "cell_type": "code",
   "execution_count": 75,
   "metadata": {
    "collapsed": false
   },
   "outputs": [
    {
     "name": "stderr",
     "output_type": "stream",
     "text": [
      "Warning message:\n",
      ": glm.fit: fitted probabilities numerically 0 or 1 occurred"
     ]
    },
    {
     "data": {
      "text/plain": [
       "\n",
       "Call:\n",
       "glm(formula = answ2 ~ b1 + b2 + b3 + b4 + b5 + b6 + b7 + b1:b3 + \n",
       "    b1:b4 + b1:b6 + b1:b7 + b2:b3 + b2:b4 + b2:b5 + b2:b6 + b2:b7 + \n",
       "    b3:b6 + b3:b7 + b4:b6 + b5:b6 + b5:b7 + b6:b7, family = binomial, \n",
       "    data = pdata)\n",
       "\n",
       "Deviance Residuals: \n",
       "    Min       1Q   Median       3Q      Max  \n",
       "-4.4772  -0.0204  -0.0043  -0.0013   4.6240  \n",
       "\n",
       "Coefficients:\n",
       "             Estimate Std. Error z value Pr(>|z|)    \n",
       "(Intercept)   -27.043      2.712  -9.971  < 2e-16 ***\n",
       "b1             86.737     56.768   1.528 0.126531    \n",
       "b2            -37.374     58.757  -0.636 0.524726    \n",
       "b3             10.223     50.454   0.203 0.839438    \n",
       "b4            100.548     43.434   2.315 0.020614 *  \n",
       "b5            -33.760      9.284  -3.636 0.000277 ***\n",
       "b6           -394.275     93.274  -4.227 2.37e-05 ***\n",
       "b7            450.040    113.191   3.976 7.01e-05 ***\n",
       "b1:b3        -664.799    528.779  -1.257 0.208668    \n",
       "b1:b4         276.997    400.789   0.691 0.489485    \n",
       "b1:b6        6212.489   1480.506   4.196 2.71e-05 ***\n",
       "b1:b7       -7252.681   1776.306  -4.083 4.45e-05 ***\n",
       "b2:b3         632.184    532.898   1.186 0.235499    \n",
       "b2:b4        -399.999    394.617  -1.014 0.310755    \n",
       "b2:b5          12.054     28.371   0.425 0.670926    \n",
       "b2:b6       -4714.500   1543.766  -3.054 0.002259 ** \n",
       "b2:b7        5641.222   1853.808   3.043 0.002342 ** \n",
       "b3:b6       -1741.215    743.009  -2.343 0.019106 *  \n",
       "b3:b7        2253.323    893.582   2.522 0.011680 *  \n",
       "b4:b6        -406.958    173.771  -2.342 0.019184 *  \n",
       "b5:b6        1122.343    230.128   4.877 1.08e-06 ***\n",
       "b5:b7        -981.642    280.733  -3.497 0.000471 ***\n",
       "b6:b7        -433.648     32.514 -13.337  < 2e-16 ***\n",
       "---\n",
       "Signif. codes:  0 ‘***’ 0.001 ‘**’ 0.01 ‘*’ 0.05 ‘.’ 0.1 ‘ ’ 1\n",
       "\n",
       "(Dispersion parameter for binomial family taken to be 1)\n",
       "\n",
       "    Null deviance: 26183.7  on 50538  degrees of freedom\n",
       "Residual deviance:  3870.7  on 50516  degrees of freedom\n",
       "AIC: 3916.7\n",
       "\n",
       "Number of Fisher Scoring iterations: 12\n"
      ]
     },
     "metadata": {},
     "output_type": "display_data"
    },
    {
     "name": "stderr",
     "output_type": "stream",
     "text": [
      "Warning message:\n",
      ": glm.fit: fitted probabilities numerically 0 or 1 occurredWarning message:\n",
      ": glm.fit: fitted probabilities numerically 0 or 1 occurredWarning message:\n",
      ": glm.fit: fitted probabilities numerically 0 or 1 occurredWarning message:\n",
      ": glm.fit: fitted probabilities numerically 0 or 1 occurredWarning message:\n",
      ": glm.fit: fitted probabilities numerically 0 or 1 occurredWarning message:\n",
      ": glm.fit: fitted probabilities numerically 0 or 1 occurredWarning message:\n",
      ": glm.fit: fitted probabilities numerically 0 or 1 occurredWarning message:\n",
      ": glm.fit: fitted probabilities numerically 0 or 1 occurredWarning message:\n",
      ": glm.fit: fitted probabilities numerically 0 or 1 occurredWarning message:\n",
      ": glm.fit: fitted probabilities numerically 0 or 1 occurredWarning message:\n",
      ": glm.fit: fitted probabilities numerically 0 or 1 occurredWarning message:\n",
      ": glm.fit: fitted probabilities numerically 0 or 1 occurredWarning message:\n",
      ": glm.fit: fitted probabilities numerically 0 or 1 occurredWarning message:\n",
      ": glm.fit: fitted probabilities numerically 0 or 1 occurredWarning message:\n",
      ": glm.fit: fitted probabilities numerically 0 or 1 occurred"
     ]
    },
    {
     "data": {
      "text/html": [
       "<table>\n",
       "<thead><tr><th></th><th scope=col>Df</th><th scope=col>Deviance</th><th scope=col>AIC</th><th scope=col>LRT</th><th scope=col>Pr(&gt;Chi)</th></tr></thead>\n",
       "<tbody>\n",
       "\t<tr><th scope=row>&lt;none&gt;</th><td>      NA</td><td>3870.747</td><td>3916.747</td><td>      NA</td><td>      NA</td></tr>\n",
       "\t<tr><th scope=row>b1:b3</th><td>   1.0000000</td><td>3872.3713167</td><td>3916.3713167</td><td>   1.6239470</td><td>   0.2025423</td></tr>\n",
       "\t<tr><th scope=row>b1:b4</th><td>   1.0000000</td><td>3871.2249435</td><td>3915.2249435</td><td>   0.4775738</td><td>   0.4895233</td></tr>\n",
       "\t<tr><th scope=row>b1:b6</th><td>1.000000e+00</td><td>3.887734e+03</td><td>3.931734e+03</td><td>1.698623e+01</td><td>3.765184e-05</td></tr>\n",
       "\t<tr><th scope=row>b1:b7</th><td>1.000000e+00</td><td>3.886910e+03</td><td>3.930910e+03</td><td>1.616224e+01</td><td>5.814171e-05</td></tr>\n",
       "\t<tr><th scope=row>b2:b3</th><td>   1.0000000</td><td>3872.2045051</td><td>3916.2045051</td><td>   1.4571354</td><td>   0.2273865</td></tr>\n",
       "\t<tr><th scope=row>b2:b4</th><td>   1.0000000</td><td>3871.7746650</td><td>3915.7746650</td><td>   1.0272953</td><td>   0.3107948</td></tr>\n",
       "\t<tr><th scope=row>b2:b5</th><td>   1.0000000</td><td>3870.9248991</td><td>3914.9248991</td><td>   0.1775294</td><td>   0.6735051</td></tr>\n",
       "\t<tr><th scope=row>b2:b6</th><td>1.000000e+00</td><td>3.879677e+03</td><td>3.923677e+03</td><td>8.929364e+00</td><td>2.806221e-03</td></tr>\n",
       "\t<tr><th scope=row>b2:b7</th><td>1.000000e+00</td><td>3.879639e+03</td><td>3.923639e+03</td><td>8.891892e+00</td><td>2.864398e-03</td></tr>\n",
       "\t<tr><th scope=row>b3:b6</th><td>1.000000e+00</td><td>3.876223e+03</td><td>3.920223e+03</td><td>5.476069e+00</td><td>1.927856e-02</td></tr>\n",
       "\t<tr><th scope=row>b3:b7</th><td>   1.0000000</td><td>3877.0761799</td><td>3921.0761799</td><td>   6.3288102</td><td>   0.0118792</td></tr>\n",
       "\t<tr><th scope=row>b4:b6</th><td>1.000000e+00</td><td>3.875912e+03</td><td>3.919912e+03</td><td>5.164415e+00</td><td>2.305422e-02</td></tr>\n",
       "\t<tr><th scope=row>b5:b6</th><td>1.000000e+00</td><td>3.893759e+03</td><td>3.937759e+03</td><td>2.301150e+01</td><td>1.610350e-06</td></tr>\n",
       "\t<tr><th scope=row>b5:b7</th><td>1.000000e+00</td><td>3.882609e+03</td><td>3.926609e+03</td><td>1.186115e+01</td><td>5.731705e-04</td></tr>\n",
       "\t<tr><th scope=row>b6:b7</th><td>1.000000e+00</td><td>4.151584e+03</td><td>4.195584e+03</td><td>2.808364e+02</td><td>4.935539e-63</td></tr>\n",
       "</tbody>\n",
       "</table>\n"
      ],
      "text/latex": [
       "\\begin{tabular}{r|lllll}\n",
       "  & Df & Deviance & AIC & LRT & Pr(>Chi)\\\\\n",
       "\\hline\n",
       "\t<none> &       NA & 3870.747 & 3916.747 &       NA &       NA\\\\\n",
       "\tb1:b3 &    1.0000000 & 3872.3713167 & 3916.3713167 &    1.6239470 &    0.2025423\\\\\n",
       "\tb1:b4 &    1.0000000 & 3871.2249435 & 3915.2249435 &    0.4775738 &    0.4895233\\\\\n",
       "\tb1:b6 & 1.000000e+00 & 3.887734e+03 & 3.931734e+03 & 1.698623e+01 & 3.765184e-05\\\\\n",
       "\tb1:b7 & 1.000000e+00 & 3.886910e+03 & 3.930910e+03 & 1.616224e+01 & 5.814171e-05\\\\\n",
       "\tb2:b3 &    1.0000000 & 3872.2045051 & 3916.2045051 &    1.4571354 &    0.2273865\\\\\n",
       "\tb2:b4 &    1.0000000 & 3871.7746650 & 3915.7746650 &    1.0272953 &    0.3107948\\\\\n",
       "\tb2:b5 &    1.0000000 & 3870.9248991 & 3914.9248991 &    0.1775294 &    0.6735051\\\\\n",
       "\tb2:b6 & 1.000000e+00 & 3.879677e+03 & 3.923677e+03 & 8.929364e+00 & 2.806221e-03\\\\\n",
       "\tb2:b7 & 1.000000e+00 & 3.879639e+03 & 3.923639e+03 & 8.891892e+00 & 2.864398e-03\\\\\n",
       "\tb3:b6 & 1.000000e+00 & 3.876223e+03 & 3.920223e+03 & 5.476069e+00 & 1.927856e-02\\\\\n",
       "\tb3:b7 &    1.0000000 & 3877.0761799 & 3921.0761799 &    6.3288102 &    0.0118792\\\\\n",
       "\tb4:b6 & 1.000000e+00 & 3.875912e+03 & 3.919912e+03 & 5.164415e+00 & 2.305422e-02\\\\\n",
       "\tb5:b6 & 1.000000e+00 & 3.893759e+03 & 3.937759e+03 & 2.301150e+01 & 1.610350e-06\\\\\n",
       "\tb5:b7 & 1.000000e+00 & 3.882609e+03 & 3.926609e+03 & 1.186115e+01 & 5.731705e-04\\\\\n",
       "\tb6:b7 & 1.000000e+00 & 4.151584e+03 & 4.195584e+03 & 2.808364e+02 & 4.935539e-63\\\\\n",
       "\\end{tabular}\n"
      ],
      "text/plain": [
       "Single term deletions\n",
       "\n",
       "Model:\n",
       "answ2 ~ b1 + b2 + b3 + b4 + b5 + b6 + b7 + b1:b3 + b1:b4 + b1:b6 + \n",
       "    b1:b7 + b2:b3 + b2:b4 + b2:b5 + b2:b6 + b2:b7 + b3:b6 + b3:b7 + \n",
       "    b4:b6 + b5:b6 + b5:b7 + b6:b7\n",
       "       Df Deviance    AIC     LRT  Pr(>Chi)    \n",
       "<none>      3870.7 3916.7                      \n",
       "b1:b3   1   3872.4 3916.4   1.624 0.2025423    \n",
       "b1:b4   1   3871.2 3915.2   0.478 0.4895233    \n",
       "b1:b6   1   3887.7 3931.7  16.986 3.765e-05 ***\n",
       "b1:b7   1   3886.9 3930.9  16.162 5.814e-05 ***\n",
       "b2:b3   1   3872.2 3916.2   1.457 0.2273865    \n",
       "b2:b4   1   3871.8 3915.8   1.027 0.3107948    \n",
       "b2:b5   1   3870.9 3914.9   0.178 0.6735051    \n",
       "b2:b6   1   3879.7 3923.7   8.929 0.0028062 ** \n",
       "b2:b7   1   3879.6 3923.6   8.892 0.0028644 ** \n",
       "b3:b6   1   3876.2 3920.2   5.476 0.0192786 *  \n",
       "b3:b7   1   3877.1 3921.1   6.329 0.0118792 *  \n",
       "b4:b6   1   3875.9 3919.9   5.164 0.0230542 *  \n",
       "b5:b6   1   3893.8 3937.8  23.012 1.610e-06 ***\n",
       "b5:b7   1   3882.6 3926.6  11.861 0.0005732 ***\n",
       "b6:b7   1   4151.6 4195.6 280.836 < 2.2e-16 ***\n",
       "---\n",
       "Signif. codes:  0 ‘***’ 0.001 ‘**’ 0.01 ‘*’ 0.05 ‘.’ 0.1 ‘ ’ 1"
      ]
     },
     "metadata": {},
     "output_type": "display_data"
    }
   ],
   "source": [
    "simple.glm28 = glm(answ2 ~ b1 + b2 + b3 + b4 + b5 + b6 + b7 + \n",
    "                           b1:b3 + b1:b4 +          b1:b6 + b1:b7 +\n",
    "                   b2:b3 + b2:b4 + b2:b5 + b2:b6 + b2:b7 +\n",
    "                                   b3:b6 + b3:b7+\n",
    "                           b4:b6 + \n",
    "                   b5:b6 + b5:b7 +\n",
    "                   b6:b7, \n",
    "                   data=pdata, family=binomial)\n",
    "summary(simple.glm28)\n",
    "drop1(simple.glm28, test=\"Chi\")"
   ]
  },
  {
   "cell_type": "code",
   "execution_count": 76,
   "metadata": {
    "collapsed": false
   },
   "outputs": [
    {
     "name": "stderr",
     "output_type": "stream",
     "text": [
      "Warning message:\n",
      ": glm.fit: fitted probabilities numerically 0 or 1 occurred"
     ]
    },
    {
     "data": {
      "text/plain": [
       "\n",
       "Call:\n",
       "glm(formula = answ2 ~ b1 + b2 + b3 + b4 + b5 + b6 + b7 + b1:b3 + \n",
       "    b1:b4 + b1:b6 + b1:b7 + b2:b3 + b2:b4 + b2:b6 + b2:b7 + b3:b6 + \n",
       "    b3:b7 + b4:b6 + b5:b6 + b5:b7 + b6:b7, family = binomial, \n",
       "    data = pdata)\n",
       "\n",
       "Deviance Residuals: \n",
       "    Min       1Q   Median       3Q      Max  \n",
       "-4.4549  -0.0203  -0.0043  -0.0013   4.6141  \n",
       "\n",
       "Coefficients:\n",
       "             Estimate Std. Error z value Pr(>|z|)    \n",
       "(Intercept)   -27.728      2.217 -12.508  < 2e-16 ***\n",
       "b1             94.808     54.444   1.741 0.081617 .  \n",
       "b2            -44.803     56.823  -0.788 0.430422    \n",
       "b3             18.889     46.078   0.410 0.681856    \n",
       "b4             92.145     38.544   2.391 0.016818 *  \n",
       "b5            -30.457      5.123  -5.946 2.75e-09 ***\n",
       "b6           -384.416     90.517  -4.247 2.17e-05 ***\n",
       "b7            436.976    109.193   4.002 6.28e-05 ***\n",
       "b1:b3        -741.330    499.490  -1.484 0.137762    \n",
       "b1:b4         319.658    389.606   0.820 0.411951    \n",
       "b1:b6        6033.430   1420.333   4.248 2.16e-05 ***\n",
       "b1:b7       -7041.288   1706.801  -4.125 3.70e-05 ***\n",
       "b2:b3         693.272    516.637   1.342 0.179630    \n",
       "b2:b4        -419.976    394.508  -1.065 0.287077    \n",
       "b2:b6       -4548.260   1496.432  -3.039 0.002370 ** \n",
       "b2:b7        5463.238   1809.434   3.019 0.002534 ** \n",
       "b3:b6       -1703.277    738.471  -2.306 0.021083 *  \n",
       "b3:b7        2181.202    879.008   2.481 0.013085 *  \n",
       "b4:b6        -403.769    173.108  -2.332 0.019676 *  \n",
       "b5:b6        1084.970    212.620   5.103 3.35e-07 ***\n",
       "b5:b7        -931.667    254.921  -3.655 0.000257 ***\n",
       "b6:b7        -434.936     32.421 -13.415  < 2e-16 ***\n",
       "---\n",
       "Signif. codes:  0 ‘***’ 0.001 ‘**’ 0.01 ‘*’ 0.05 ‘.’ 0.1 ‘ ’ 1\n",
       "\n",
       "(Dispersion parameter for binomial family taken to be 1)\n",
       "\n",
       "    Null deviance: 26183.7  on 50538  degrees of freedom\n",
       "Residual deviance:  3870.9  on 50517  degrees of freedom\n",
       "AIC: 3914.9\n",
       "\n",
       "Number of Fisher Scoring iterations: 11\n"
      ]
     },
     "metadata": {},
     "output_type": "display_data"
    },
    {
     "name": "stderr",
     "output_type": "stream",
     "text": [
      "Warning message:\n",
      ": glm.fit: fitted probabilities numerically 0 or 1 occurredWarning message:\n",
      ": glm.fit: fitted probabilities numerically 0 or 1 occurredWarning message:\n",
      ": glm.fit: fitted probabilities numerically 0 or 1 occurredWarning message:\n",
      ": glm.fit: fitted probabilities numerically 0 or 1 occurredWarning message:\n",
      ": glm.fit: fitted probabilities numerically 0 or 1 occurredWarning message:\n",
      ": glm.fit: fitted probabilities numerically 0 or 1 occurredWarning message:\n",
      ": glm.fit: fitted probabilities numerically 0 or 1 occurredWarning message:\n",
      ": glm.fit: fitted probabilities numerically 0 or 1 occurredWarning message:\n",
      ": glm.fit: fitted probabilities numerically 0 or 1 occurredWarning message:\n",
      ": glm.fit: fitted probabilities numerically 0 or 1 occurredWarning message:\n",
      ": glm.fit: fitted probabilities numerically 0 or 1 occurredWarning message:\n",
      ": glm.fit: fitted probabilities numerically 0 or 1 occurredWarning message:\n",
      ": glm.fit: fitted probabilities numerically 0 or 1 occurredWarning message:\n",
      ": glm.fit: fitted probabilities numerically 0 or 1 occurred"
     ]
    },
    {
     "data": {
      "text/html": [
       "<table>\n",
       "<thead><tr><th></th><th scope=col>Df</th><th scope=col>Deviance</th><th scope=col>AIC</th><th scope=col>LRT</th><th scope=col>Pr(&gt;Chi)</th></tr></thead>\n",
       "<tbody>\n",
       "\t<tr><th scope=row>&lt;none&gt;</th><td>      NA</td><td>3870.925</td><td>3914.925</td><td>      NA</td><td>      NA</td></tr>\n",
       "\t<tr><th scope=row>b1:b3</th><td>   1.0000000</td><td>3873.1378988</td><td>3915.1378988</td><td>   2.2129997</td><td>   0.1368523</td></tr>\n",
       "\t<tr><th scope=row>b1:b4</th><td>   1.0000000</td><td>3871.5941222</td><td>3913.5941222</td><td>   0.6692231</td><td>   0.4133226</td></tr>\n",
       "\t<tr><th scope=row>b1:b6</th><td>1.000000e+00</td><td>3.888397e+03</td><td>3.930397e+03</td><td>1.747205e+01</td><td>2.915622e-05</td></tr>\n",
       "\t<tr><th scope=row>b1:b7</th><td>1.000000e+00</td><td>3.887508e+03</td><td>3.929508e+03</td><td>1.658322e+01</td><td>4.656112e-05</td></tr>\n",
       "\t<tr><th scope=row>b2:b3</th><td>   1.0000000</td><td>3872.7419010</td><td>3914.7419010</td><td>   1.8170019</td><td>   0.1776706</td></tr>\n",
       "\t<tr><th scope=row>b2:b4</th><td>   1.0000000</td><td>3872.0501138</td><td>3914.0501138</td><td>   1.1252147</td><td>   0.2887984</td></tr>\n",
       "\t<tr><th scope=row>b2:b6</th><td>1.000000e+00</td><td>3.879813e+03</td><td>3.921813e+03</td><td>8.888473e+00</td><td>2.869766e-03</td></tr>\n",
       "\t<tr><th scope=row>b2:b7</th><td>1.000000e+00</td><td>3.879719e+03</td><td>3.921719e+03</td><td>8.794342e+00</td><td>3.021662e-03</td></tr>\n",
       "\t<tr><th scope=row>b3:b6</th><td>   1.0000000</td><td>3876.2377981</td><td>3918.2377981</td><td>   5.3128990</td><td>   0.0211681</td></tr>\n",
       "\t<tr><th scope=row>b3:b7</th><td>1.000000e+00</td><td>3.877084e+03</td><td>3.919084e+03</td><td>6.159431e+00</td><td>1.307132e-02</td></tr>\n",
       "\t<tr><th scope=row>b4:b6</th><td>   1.0000000</td><td>3876.0393922</td><td>3918.0393922</td><td>   5.1144931</td><td>   0.0237268</td></tr>\n",
       "\t<tr><th scope=row>b5:b6</th><td>1.000000e+00</td><td>3.896051e+03</td><td>3.938051e+03</td><td>2.512613e+01</td><td>5.370020e-07</td></tr>\n",
       "\t<tr><th scope=row>b5:b7</th><td>1.000000e+00</td><td>3.883921e+03</td><td>3.925921e+03</td><td>1.299640e+01</td><td>3.120903e-04</td></tr>\n",
       "\t<tr><th scope=row>b6:b7</th><td>1.000000e+00</td><td>4.158014e+03</td><td>4.200014e+03</td><td>2.870891e+02</td><td>2.142037e-64</td></tr>\n",
       "</tbody>\n",
       "</table>\n"
      ],
      "text/latex": [
       "\\begin{tabular}{r|lllll}\n",
       "  & Df & Deviance & AIC & LRT & Pr(>Chi)\\\\\n",
       "\\hline\n",
       "\t<none> &       NA & 3870.925 & 3914.925 &       NA &       NA\\\\\n",
       "\tb1:b3 &    1.0000000 & 3873.1378988 & 3915.1378988 &    2.2129997 &    0.1368523\\\\\n",
       "\tb1:b4 &    1.0000000 & 3871.5941222 & 3913.5941222 &    0.6692231 &    0.4133226\\\\\n",
       "\tb1:b6 & 1.000000e+00 & 3.888397e+03 & 3.930397e+03 & 1.747205e+01 & 2.915622e-05\\\\\n",
       "\tb1:b7 & 1.000000e+00 & 3.887508e+03 & 3.929508e+03 & 1.658322e+01 & 4.656112e-05\\\\\n",
       "\tb2:b3 &    1.0000000 & 3872.7419010 & 3914.7419010 &    1.8170019 &    0.1776706\\\\\n",
       "\tb2:b4 &    1.0000000 & 3872.0501138 & 3914.0501138 &    1.1252147 &    0.2887984\\\\\n",
       "\tb2:b6 & 1.000000e+00 & 3.879813e+03 & 3.921813e+03 & 8.888473e+00 & 2.869766e-03\\\\\n",
       "\tb2:b7 & 1.000000e+00 & 3.879719e+03 & 3.921719e+03 & 8.794342e+00 & 3.021662e-03\\\\\n",
       "\tb3:b6 &    1.0000000 & 3876.2377981 & 3918.2377981 &    5.3128990 &    0.0211681\\\\\n",
       "\tb3:b7 & 1.000000e+00 & 3.877084e+03 & 3.919084e+03 & 6.159431e+00 & 1.307132e-02\\\\\n",
       "\tb4:b6 &    1.0000000 & 3876.0393922 & 3918.0393922 &    5.1144931 &    0.0237268\\\\\n",
       "\tb5:b6 & 1.000000e+00 & 3.896051e+03 & 3.938051e+03 & 2.512613e+01 & 5.370020e-07\\\\\n",
       "\tb5:b7 & 1.000000e+00 & 3.883921e+03 & 3.925921e+03 & 1.299640e+01 & 3.120903e-04\\\\\n",
       "\tb6:b7 & 1.000000e+00 & 4.158014e+03 & 4.200014e+03 & 2.870891e+02 & 2.142037e-64\\\\\n",
       "\\end{tabular}\n"
      ],
      "text/plain": [
       "Single term deletions\n",
       "\n",
       "Model:\n",
       "answ2 ~ b1 + b2 + b3 + b4 + b5 + b6 + b7 + b1:b3 + b1:b4 + b1:b6 + \n",
       "    b1:b7 + b2:b3 + b2:b4 + b2:b6 + b2:b7 + b3:b6 + b3:b7 + b4:b6 + \n",
       "    b5:b6 + b5:b7 + b6:b7\n",
       "       Df Deviance    AIC     LRT  Pr(>Chi)    \n",
       "<none>      3870.9 3914.9                      \n",
       "b1:b3   1   3873.1 3915.1   2.213 0.1368523    \n",
       "b1:b4   1   3871.6 3913.6   0.669 0.4133226    \n",
       "b1:b6   1   3888.4 3930.4  17.472 2.916e-05 ***\n",
       "b1:b7   1   3887.5 3929.5  16.583 4.656e-05 ***\n",
       "b2:b3   1   3872.7 3914.7   1.817 0.1776706    \n",
       "b2:b4   1   3872.1 3914.1   1.125 0.2887984    \n",
       "b2:b6   1   3879.8 3921.8   8.888 0.0028698 ** \n",
       "b2:b7   1   3879.7 3921.7   8.794 0.0030217 ** \n",
       "b3:b6   1   3876.2 3918.2   5.313 0.0211681 *  \n",
       "b3:b7   1   3877.1 3919.1   6.159 0.0130713 *  \n",
       "b4:b6   1   3876.0 3918.0   5.114 0.0237268 *  \n",
       "b5:b6   1   3896.1 3938.1  25.126 5.370e-07 ***\n",
       "b5:b7   1   3883.9 3925.9  12.996 0.0003121 ***\n",
       "b6:b7   1   4158.0 4200.0 287.089 < 2.2e-16 ***\n",
       "---\n",
       "Signif. codes:  0 ‘***’ 0.001 ‘**’ 0.01 ‘*’ 0.05 ‘.’ 0.1 ‘ ’ 1"
      ]
     },
     "metadata": {},
     "output_type": "display_data"
    }
   ],
   "source": [
    "simple.glm29 = glm(answ2 ~ b1 + b2 + b3 + b4 + b5 + b6 + b7 + \n",
    "                           b1:b3 + b1:b4 +          b1:b6 + b1:b7 +\n",
    "                   b2:b3 + b2:b4 +         b2:b6 + b2:b7 +\n",
    "                                   b3:b6 + b3:b7+\n",
    "                           b4:b6 + \n",
    "                   b5:b6 + b5:b7 +\n",
    "                   b6:b7, \n",
    "                   data=pdata, family=binomial)\n",
    "summary(simple.glm29)\n",
    "drop1(simple.glm29, test=\"Chi\")"
   ]
  },
  {
   "cell_type": "code",
   "execution_count": 68,
   "metadata": {
    "collapsed": false
   },
   "outputs": [
    {
     "name": "stderr",
     "output_type": "stream",
     "text": [
      "Warning message:\n",
      ": glm.fit: fitted probabilities numerically 0 or 1 occurred"
     ]
    },
    {
     "data": {
      "text/plain": [
       "\n",
       "Call:\n",
       "glm(formula = answ2 ~ b1 + b2 + b3 + b4 + b5 + b6 + b7 + +b1:b3 + \n",
       "    b1:b6 + b1:b7 + b2:b3 + b2:b4 + b2:b6 + b2:b7 + b3:b6 + b3:b7 + \n",
       "    b4:b6 + b5:b6 + b5:b7 + b6:b7, family = binomial, data = pdata)\n",
       "\n",
       "Deviance Residuals: \n",
       "    Min       1Q   Median       3Q      Max  \n",
       "-4.6181  -0.0205  -0.0043  -0.0013   4.6103  \n",
       "\n",
       "Coefficients:\n",
       "             Estimate Std. Error z value Pr(>|z|)    \n",
       "(Intercept)   -27.055      2.045 -13.228  < 2e-16 ***\n",
       "b1             75.686     48.513   1.560 0.118736    \n",
       "b2            -25.564     51.130  -0.500 0.617082    \n",
       "b3              5.723     42.836   0.134 0.893717    \n",
       "b4            102.164     36.238   2.819 0.004814 ** \n",
       "b5            -30.909      5.078  -6.087 1.15e-09 ***\n",
       "b6           -390.731     90.072  -4.338 1.44e-05 ***\n",
       "b7            441.502    108.906   4.054 5.04e-05 ***\n",
       "b1:b3        -347.468    132.789  -2.617 0.008879 ** \n",
       "b1:b6        6243.856   1399.967   4.460 8.20e-06 ***\n",
       "b1:b7       -7226.277   1695.947  -4.261 2.04e-05 ***\n",
       "b2:b3         304.652    202.468   1.505 0.132403    \n",
       "b2:b4        -103.408     82.694  -1.250 0.211121    \n",
       "b2:b6       -4762.479   1482.030  -3.213 0.001311 ** \n",
       "b2:b7        5640.771   1806.705   3.122 0.001795 ** \n",
       "b3:b6       -1670.160    739.532  -2.258 0.023921 *  \n",
       "b3:b7        2218.785    880.266   2.521 0.011716 *  \n",
       "b4:b6        -450.530    161.773  -2.785 0.005354 ** \n",
       "b5:b6        1110.997    209.797   5.296 1.19e-07 ***\n",
       "b5:b7        -958.687    252.133  -3.802 0.000143 ***\n",
       "b6:b7        -436.959     32.274 -13.539  < 2e-16 ***\n",
       "---\n",
       "Signif. codes:  0 ‘***’ 0.001 ‘**’ 0.01 ‘*’ 0.05 ‘.’ 0.1 ‘ ’ 1\n",
       "\n",
       "(Dispersion parameter for binomial family taken to be 1)\n",
       "\n",
       "    Null deviance: 26183.7  on 50538  degrees of freedom\n",
       "Residual deviance:  3871.6  on 50518  degrees of freedom\n",
       "AIC: 3913.6\n",
       "\n",
       "Number of Fisher Scoring iterations: 12\n"
      ]
     },
     "metadata": {},
     "output_type": "display_data"
    },
    {
     "name": "stderr",
     "output_type": "stream",
     "text": [
      "Warning message:\n",
      ": glm.fit: fitted probabilities numerically 0 or 1 occurredWarning message:\n",
      ": glm.fit: fitted probabilities numerically 0 or 1 occurredWarning message:\n",
      ": glm.fit: fitted probabilities numerically 0 or 1 occurredWarning message:\n",
      ": glm.fit: fitted probabilities numerically 0 or 1 occurredWarning message:\n",
      ": glm.fit: fitted probabilities numerically 0 or 1 occurredWarning message:\n",
      ": glm.fit: fitted probabilities numerically 0 or 1 occurredWarning message:\n",
      ": glm.fit: fitted probabilities numerically 0 or 1 occurredWarning message:\n",
      ": glm.fit: fitted probabilities numerically 0 or 1 occurredWarning message:\n",
      ": glm.fit: fitted probabilities numerically 0 or 1 occurredWarning message:\n",
      ": glm.fit: fitted probabilities numerically 0 or 1 occurredWarning message:\n",
      ": glm.fit: fitted probabilities numerically 0 or 1 occurredWarning message:\n",
      ": glm.fit: fitted probabilities numerically 0 or 1 occurredWarning message:\n",
      ": glm.fit: fitted probabilities numerically 0 or 1 occurred"
     ]
    },
    {
     "data": {
      "text/html": [
       "<table>\n",
       "<thead><tr><th></th><th scope=col>Df</th><th scope=col>Deviance</th><th scope=col>AIC</th><th scope=col>LRT</th><th scope=col>Pr(&gt;Chi)</th></tr></thead>\n",
       "<tbody>\n",
       "\t<tr><th scope=row>&lt;none&gt;</th><td>      NA</td><td>3871.594</td><td>3913.594</td><td>      NA</td><td>      NA</td></tr>\n",
       "\t<tr><th scope=row>b1:b3</th><td>1.000000e+00</td><td>3.880972e+03</td><td>3.920972e+03</td><td>9.377737e+00</td><td>2.196365e-03</td></tr>\n",
       "\t<tr><th scope=row>b1:b6</th><td>1.000000e+00</td><td>3.890858e+03</td><td>3.930858e+03</td><td>1.926417e+01</td><td>1.138222e-05</td></tr>\n",
       "\t<tr><th scope=row>b1:b7</th><td>1.000000e+00</td><td>3.889298e+03</td><td>3.929298e+03</td><td>1.770390e+01</td><td>2.580970e-05</td></tr>\n",
       "\t<tr><th scope=row>b2:b3</th><td>1.000000e+00</td><td>3.874307e+03</td><td>3.914307e+03</td><td>2.713121e+00</td><td>9.952609e-02</td></tr>\n",
       "\t<tr><th scope=row>b2:b4</th><td>   1.0000000</td><td>3873.2736451</td><td>3913.2736451</td><td>   1.6795229</td><td>   0.1949879</td></tr>\n",
       "\t<tr><th scope=row>b2:b6</th><td>1.000000e+00</td><td>3.881522e+03</td><td>3.921522e+03</td><td>9.927394e+00</td><td>1.628369e-03</td></tr>\n",
       "\t<tr><th scope=row>b2:b7</th><td>1.000000e+00</td><td>3.881009e+03</td><td>3.921009e+03</td><td>9.415305e+00</td><td>2.151817e-03</td></tr>\n",
       "\t<tr><th scope=row>b3:b6</th><td>1.000000e+00</td><td>3.876695e+03</td><td>3.916695e+03</td><td>5.100386e+00</td><td>2.392052e-02</td></tr>\n",
       "\t<tr><th scope=row>b3:b7</th><td>1.000000e+00</td><td>3.877991e+03</td><td>3.917991e+03</td><td>6.396965e+00</td><td>1.143156e-02</td></tr>\n",
       "\t<tr><th scope=row>b4:b6</th><td>1.000000e+00</td><td>3.878827e+03</td><td>3.918827e+03</td><td>7.233211e+00</td><td>7.156708e-03</td></tr>\n",
       "\t<tr><th scope=row>b5:b6</th><td>1.000000e+00</td><td>3.899197e+03</td><td>3.939197e+03</td><td>2.760282e+01</td><td>1.489615e-07</td></tr>\n",
       "\t<tr><th scope=row>b5:b7</th><td>1.000000e+00</td><td>3.885847e+03</td><td>3.925847e+03</td><td>1.425312e+01</td><td>1.597958e-04</td></tr>\n",
       "\t<tr><th scope=row>b6:b7</th><td>1.000000e+00</td><td>4.160827e+03</td><td>4.200827e+03</td><td>2.892330e+02</td><td>7.305926e-65</td></tr>\n",
       "</tbody>\n",
       "</table>\n"
      ],
      "text/latex": [
       "\\begin{tabular}{r|lllll}\n",
       "  & Df & Deviance & AIC & LRT & Pr(>Chi)\\\\\n",
       "\\hline\n",
       "\t<none> &       NA & 3871.594 & 3913.594 &       NA &       NA\\\\\n",
       "\tb1:b3 & 1.000000e+00 & 3.880972e+03 & 3.920972e+03 & 9.377737e+00 & 2.196365e-03\\\\\n",
       "\tb1:b6 & 1.000000e+00 & 3.890858e+03 & 3.930858e+03 & 1.926417e+01 & 1.138222e-05\\\\\n",
       "\tb1:b7 & 1.000000e+00 & 3.889298e+03 & 3.929298e+03 & 1.770390e+01 & 2.580970e-05\\\\\n",
       "\tb2:b3 & 1.000000e+00 & 3.874307e+03 & 3.914307e+03 & 2.713121e+00 & 9.952609e-02\\\\\n",
       "\tb2:b4 &    1.0000000 & 3873.2736451 & 3913.2736451 &    1.6795229 &    0.1949879\\\\\n",
       "\tb2:b6 & 1.000000e+00 & 3.881522e+03 & 3.921522e+03 & 9.927394e+00 & 1.628369e-03\\\\\n",
       "\tb2:b7 & 1.000000e+00 & 3.881009e+03 & 3.921009e+03 & 9.415305e+00 & 2.151817e-03\\\\\n",
       "\tb3:b6 & 1.000000e+00 & 3.876695e+03 & 3.916695e+03 & 5.100386e+00 & 2.392052e-02\\\\\n",
       "\tb3:b7 & 1.000000e+00 & 3.877991e+03 & 3.917991e+03 & 6.396965e+00 & 1.143156e-02\\\\\n",
       "\tb4:b6 & 1.000000e+00 & 3.878827e+03 & 3.918827e+03 & 7.233211e+00 & 7.156708e-03\\\\\n",
       "\tb5:b6 & 1.000000e+00 & 3.899197e+03 & 3.939197e+03 & 2.760282e+01 & 1.489615e-07\\\\\n",
       "\tb5:b7 & 1.000000e+00 & 3.885847e+03 & 3.925847e+03 & 1.425312e+01 & 1.597958e-04\\\\\n",
       "\tb6:b7 & 1.000000e+00 & 4.160827e+03 & 4.200827e+03 & 2.892330e+02 & 7.305926e-65\\\\\n",
       "\\end{tabular}\n"
      ],
      "text/plain": [
       "Single term deletions\n",
       "\n",
       "Model:\n",
       "answ2 ~ b1 + b2 + b3 + b4 + b5 + b6 + b7 + +b1:b3 + b1:b6 + b1:b7 + \n",
       "    b2:b3 + b2:b4 + b2:b6 + b2:b7 + b3:b6 + b3:b7 + b4:b6 + b5:b6 + \n",
       "    b5:b7 + b6:b7\n",
       "       Df Deviance    AIC     LRT  Pr(>Chi)    \n",
       "<none>      3871.6 3913.6                      \n",
       "b1:b3   1   3881.0 3921.0   9.378 0.0021964 ** \n",
       "b1:b6   1   3890.9 3930.9  19.264 1.138e-05 ***\n",
       "b1:b7   1   3889.3 3929.3  17.704 2.581e-05 ***\n",
       "b2:b3   1   3874.3 3914.3   2.713 0.0995261 .  \n",
       "b2:b4   1   3873.3 3913.3   1.680 0.1949879    \n",
       "b2:b6   1   3881.5 3921.5   9.927 0.0016284 ** \n",
       "b2:b7   1   3881.0 3921.0   9.415 0.0021518 ** \n",
       "b3:b6   1   3876.7 3916.7   5.100 0.0239205 *  \n",
       "b3:b7   1   3878.0 3918.0   6.397 0.0114316 *  \n",
       "b4:b6   1   3878.8 3918.8   7.233 0.0071567 ** \n",
       "b5:b6   1   3899.2 3939.2  27.603 1.490e-07 ***\n",
       "b5:b7   1   3885.8 3925.8  14.253 0.0001598 ***\n",
       "b6:b7   1   4160.8 4200.8 289.233 < 2.2e-16 ***\n",
       "---\n",
       "Signif. codes:  0 ‘***’ 0.001 ‘**’ 0.01 ‘*’ 0.05 ‘.’ 0.1 ‘ ’ 1"
      ]
     },
     "metadata": {},
     "output_type": "display_data"
    }
   ],
   "source": [
    "simple.glm30 = glm(answ2 ~ b1 + b2 + b3 + b4 + b5 + b6 + b7 + \n",
    "                           b1:b3 +         b1:b6 + b1:b7 +\n",
    "                   b2:b3 + b2:b4 +         b2:b6 + b2:b7 +\n",
    "                                   b3:b6 + b3:b7+\n",
    "                           b4:b6 + \n",
    "                   b5:b6 + b5:b7 +\n",
    "                   b6:b7, \n",
    "                   data=pdata, family=binomial)\n",
    "summary(simple.glm30)\n",
    "drop1(simple.glm30, test=\"Chi\")"
   ]
  },
  {
   "cell_type": "code",
   "execution_count": 77,
   "metadata": {
    "collapsed": false
   },
   "outputs": [
    {
     "name": "stderr",
     "output_type": "stream",
     "text": [
      "Warning message:\n",
      ": glm.fit: fitted probabilities numerically 0 or 1 occurred"
     ]
    },
    {
     "data": {
      "text/plain": [
       "\n",
       "Call:\n",
       "glm(formula = answ2 ~ b1 + b2 + b3 + b4 + b5 + b6 + b7 + b1:b3 + \n",
       "    b1:b6 + b1:b7 + b2:b3 + b2:b6 + b2:b7 + b3:b6 + b3:b7 + b4:b6 + \n",
       "    b5:b6 + b5:b7 + b6:b7, family = binomial, data = pdata)\n",
       "\n",
       "Deviance Residuals: \n",
       "    Min       1Q   Median       3Q      Max  \n",
       "-4.7820  -0.0213  -0.0046  -0.0014   4.5718  \n",
       "\n",
       "Coefficients:\n",
       "             Estimate Std. Error z value Pr(>|z|)    \n",
       "(Intercept)   -26.905      1.908 -14.099  < 2e-16 ***\n",
       "b1             49.157     36.630   1.342 0.179607    \n",
       "b2              2.305     41.182   0.056 0.955358    \n",
       "b3             41.872     27.307   1.533 0.125179    \n",
       "b4             64.454     17.285   3.729 0.000192 ***\n",
       "b5            -29.799      4.839  -6.158 7.39e-10 ***\n",
       "b6           -406.420     85.289  -4.765 1.89e-06 ***\n",
       "b7            465.817    101.209   4.603 4.17e-06 ***\n",
       "b1:b3        -234.118     86.638  -2.702 0.006887 ** \n",
       "b1:b6        6535.895   1370.104   4.770 1.84e-06 ***\n",
       "b1:b7       -7687.165   1634.561  -4.703 2.57e-06 ***\n",
       "b2:b3          81.669     79.028   1.033 0.301407    \n",
       "b2:b6       -5031.933   1470.158  -3.423 0.000620 ***\n",
       "b2:b7        6047.936   1784.504   3.389 0.000701 ***\n",
       "b3:b6       -1679.642    710.920  -2.363 0.018146 *  \n",
       "b3:b7        2291.125    807.528   2.837 0.004551 ** \n",
       "b4:b6        -475.474    152.245  -3.123 0.001790 ** \n",
       "b5:b6        1147.912    190.017   6.041 1.53e-09 ***\n",
       "b5:b7       -1011.780    224.151  -4.514 6.37e-06 ***\n",
       "b6:b7        -434.727     32.022 -13.576  < 2e-16 ***\n",
       "---\n",
       "Signif. codes:  0 ‘***’ 0.001 ‘**’ 0.01 ‘*’ 0.05 ‘.’ 0.1 ‘ ’ 1\n",
       "\n",
       "(Dispersion parameter for binomial family taken to be 1)\n",
       "\n",
       "    Null deviance: 26183.7  on 50538  degrees of freedom\n",
       "Residual deviance:  3873.3  on 50519  degrees of freedom\n",
       "AIC: 3913.3\n",
       "\n",
       "Number of Fisher Scoring iterations: 10\n"
      ]
     },
     "metadata": {},
     "output_type": "display_data"
    },
    {
     "name": "stderr",
     "output_type": "stream",
     "text": [
      "Warning message:\n",
      ": glm.fit: fitted probabilities numerically 0 or 1 occurredWarning message:\n",
      ": glm.fit: fitted probabilities numerically 0 or 1 occurredWarning message:\n",
      ": glm.fit: fitted probabilities numerically 0 or 1 occurredWarning message:\n",
      ": glm.fit: fitted probabilities numerically 0 or 1 occurredWarning message:\n",
      ": glm.fit: fitted probabilities numerically 0 or 1 occurredWarning message:\n",
      ": glm.fit: fitted probabilities numerically 0 or 1 occurredWarning message:\n",
      ": glm.fit: fitted probabilities numerically 0 or 1 occurredWarning message:\n",
      ": glm.fit: fitted probabilities numerically 0 or 1 occurredWarning message:\n",
      ": glm.fit: fitted probabilities numerically 0 or 1 occurredWarning message:\n",
      ": glm.fit: fitted probabilities numerically 0 or 1 occurredWarning message:\n",
      ": glm.fit: fitted probabilities numerically 0 or 1 occurredWarning message:\n",
      ": glm.fit: fitted probabilities numerically 0 or 1 occurred"
     ]
    },
    {
     "data": {
      "text/html": [
       "<table>\n",
       "<thead><tr><th></th><th scope=col>Df</th><th scope=col>Deviance</th><th scope=col>AIC</th><th scope=col>LRT</th><th scope=col>Pr(&gt;Chi)</th></tr></thead>\n",
       "<tbody>\n",
       "\t<tr><th scope=row>&lt;none&gt;</th><td>      NA</td><td>3873.274</td><td>3913.274</td><td>      NA</td><td>      NA</td></tr>\n",
       "\t<tr><th scope=row>b1:b3</th><td>1.000000e+00</td><td>3.881385e+03</td><td>3.919385e+03</td><td>8.111390e+00</td><td>4.398799e-03</td></tr>\n",
       "\t<tr><th scope=row>b1:b6</th><td>1.000000e+00</td><td>3.895842e+03</td><td>3.933842e+03</td><td>2.256818e+01</td><td>2.028162e-06</td></tr>\n",
       "\t<tr><th scope=row>b1:b7</th><td>1.000000e+00</td><td>3.895738e+03</td><td>3.933738e+03</td><td>2.246388e+01</td><td>2.141327e-06</td></tr>\n",
       "\t<tr><th scope=row>b2:b3</th><td>   1.0000000</td><td>3874.4045223</td><td>3912.4045223</td><td>   1.1308771</td><td>   0.2875883</td></tr>\n",
       "\t<tr><th scope=row>b2:b6</th><td>1.000000e+00</td><td>3.884545e+03</td><td>3.922545e+03</td><td>1.127126e+01</td><td>7.871649e-04</td></tr>\n",
       "\t<tr><th scope=row>b2:b7</th><td>1.000000e+00</td><td>3.884374e+03</td><td>3.922374e+03</td><td>1.110009e+01</td><td>8.632366e-04</td></tr>\n",
       "\t<tr><th scope=row>b3:b6</th><td>1.000000e+00</td><td>3.879190e+03</td><td>3.917190e+03</td><td>5.916294e+00</td><td>1.500148e-02</td></tr>\n",
       "\t<tr><th scope=row>b3:b7</th><td>1.000000e+00</td><td>3.882873e+03</td><td>3.920873e+03</td><td>9.598942e+00</td><td>1.946895e-03</td></tr>\n",
       "\t<tr><th scope=row>b4:b6</th><td>1.000000e+00</td><td>3.882673e+03</td><td>3.920673e+03</td><td>9.399606e+00</td><td>2.170320e-03</td></tr>\n",
       "\t<tr><th scope=row>b5:b6</th><td>1.000000e+00</td><td>3.918447e+03</td><td>3.956447e+03</td><td>4.517302e+01</td><td>1.803734e-11</td></tr>\n",
       "\t<tr><th scope=row>b5:b7</th><td>1.000000e+00</td><td>3.899279e+03</td><td>3.937279e+03</td><td>2.600578e+01</td><td>3.403975e-07</td></tr>\n",
       "\t<tr><th scope=row>b6:b7</th><td>1.000000e+00</td><td>4.161160e+03</td><td>4.199160e+03</td><td>2.878861e+02</td><td>1.436017e-64</td></tr>\n",
       "</tbody>\n",
       "</table>\n"
      ],
      "text/latex": [
       "\\begin{tabular}{r|lllll}\n",
       "  & Df & Deviance & AIC & LRT & Pr(>Chi)\\\\\n",
       "\\hline\n",
       "\t<none> &       NA & 3873.274 & 3913.274 &       NA &       NA\\\\\n",
       "\tb1:b3 & 1.000000e+00 & 3.881385e+03 & 3.919385e+03 & 8.111390e+00 & 4.398799e-03\\\\\n",
       "\tb1:b6 & 1.000000e+00 & 3.895842e+03 & 3.933842e+03 & 2.256818e+01 & 2.028162e-06\\\\\n",
       "\tb1:b7 & 1.000000e+00 & 3.895738e+03 & 3.933738e+03 & 2.246388e+01 & 2.141327e-06\\\\\n",
       "\tb2:b3 &    1.0000000 & 3874.4045223 & 3912.4045223 &    1.1308771 &    0.2875883\\\\\n",
       "\tb2:b6 & 1.000000e+00 & 3.884545e+03 & 3.922545e+03 & 1.127126e+01 & 7.871649e-04\\\\\n",
       "\tb2:b7 & 1.000000e+00 & 3.884374e+03 & 3.922374e+03 & 1.110009e+01 & 8.632366e-04\\\\\n",
       "\tb3:b6 & 1.000000e+00 & 3.879190e+03 & 3.917190e+03 & 5.916294e+00 & 1.500148e-02\\\\\n",
       "\tb3:b7 & 1.000000e+00 & 3.882873e+03 & 3.920873e+03 & 9.598942e+00 & 1.946895e-03\\\\\n",
       "\tb4:b6 & 1.000000e+00 & 3.882673e+03 & 3.920673e+03 & 9.399606e+00 & 2.170320e-03\\\\\n",
       "\tb5:b6 & 1.000000e+00 & 3.918447e+03 & 3.956447e+03 & 4.517302e+01 & 1.803734e-11\\\\\n",
       "\tb5:b7 & 1.000000e+00 & 3.899279e+03 & 3.937279e+03 & 2.600578e+01 & 3.403975e-07\\\\\n",
       "\tb6:b7 & 1.000000e+00 & 4.161160e+03 & 4.199160e+03 & 2.878861e+02 & 1.436017e-64\\\\\n",
       "\\end{tabular}\n"
      ],
      "text/plain": [
       "Single term deletions\n",
       "\n",
       "Model:\n",
       "answ2 ~ b1 + b2 + b3 + b4 + b5 + b6 + b7 + b1:b3 + b1:b6 + b1:b7 + \n",
       "    b2:b3 + b2:b6 + b2:b7 + b3:b6 + b3:b7 + b4:b6 + b5:b6 + b5:b7 + \n",
       "    b6:b7\n",
       "       Df Deviance    AIC     LRT  Pr(>Chi)    \n",
       "<none>      3873.3 3913.3                      \n",
       "b1:b3   1   3881.4 3919.4   8.111 0.0043988 ** \n",
       "b1:b6   1   3895.8 3933.8  22.568 2.028e-06 ***\n",
       "b1:b7   1   3895.7 3933.7  22.464 2.141e-06 ***\n",
       "b2:b3   1   3874.4 3912.4   1.131 0.2875883    \n",
       "b2:b6   1   3884.5 3922.5  11.271 0.0007872 ***\n",
       "b2:b7   1   3884.4 3922.4  11.100 0.0008632 ***\n",
       "b3:b6   1   3879.2 3917.2   5.916 0.0150015 *  \n",
       "b3:b7   1   3882.9 3920.9   9.599 0.0019469 ** \n",
       "b4:b6   1   3882.7 3920.7   9.400 0.0021703 ** \n",
       "b5:b6   1   3918.4 3956.4  45.173 1.804e-11 ***\n",
       "b5:b7   1   3899.3 3937.3  26.006 3.404e-07 ***\n",
       "b6:b7   1   4161.2 4199.2 287.886 < 2.2e-16 ***\n",
       "---\n",
       "Signif. codes:  0 ‘***’ 0.001 ‘**’ 0.01 ‘*’ 0.05 ‘.’ 0.1 ‘ ’ 1"
      ]
     },
     "metadata": {},
     "output_type": "display_data"
    }
   ],
   "source": [
    "simple.glm31 = glm(answ2 ~ b1 + b2 + b3 + b4 + b5 + b6 + b7 + \n",
    "                           b1:b3 +         b1:b6 + b1:b7 +\n",
    "                   b2:b3 +         b2:b6 + b2:b7 +\n",
    "                                   b3:b6 + b3:b7+\n",
    "                           b4:b6 + \n",
    "                   b5:b6 + b5:b7 +\n",
    "                   b6:b7, \n",
    "                   data=pdata, family=binomial)\n",
    "summary(simple.glm31)\n",
    "drop1(simple.glm31, test=\"Chi\")"
   ]
  },
  {
   "cell_type": "code",
   "execution_count": 78,
   "metadata": {
    "collapsed": false
   },
   "outputs": [
    {
     "name": "stderr",
     "output_type": "stream",
     "text": [
      "Warning message:\n",
      ": glm.fit: fitted probabilities numerically 0 or 1 occurred"
     ]
    },
    {
     "data": {
      "text/plain": [
       "\n",
       "Call:\n",
       "glm(formula = answ2 ~ b1 + b2 + b3 + b4 + b5 + b6 + b7 + b1:b3 + \n",
       "    b1:b6 + b1:b7 + b2:b6 + b2:b7 + b3:b6 + b3:b7 + b4:b6 + b5:b6 + \n",
       "    b5:b7 + b6:b7, family = binomial, data = pdata)\n",
       "\n",
       "Deviance Residuals: \n",
       "    Min       1Q   Median       3Q      Max  \n",
       "-4.5997  -0.0211  -0.0045  -0.0014   4.5748  \n",
       "\n",
       "Coefficients:\n",
       "             Estimate Std. Error z value Pr(>|z|)    \n",
       "(Intercept)   -26.023      1.682 -15.473  < 2e-16 ***\n",
       "b1             29.625     29.427   1.007 0.314070    \n",
       "b2             21.293     35.594   0.598 0.549690    \n",
       "b3             34.736     25.898   1.341 0.179836    \n",
       "b4             65.834     16.956   3.883 0.000103 ***\n",
       "b5            -29.578      4.779  -6.190 6.03e-10 ***\n",
       "b6           -441.624     76.501  -5.773 7.80e-09 ***\n",
       "b7            510.671     88.710   5.757 8.58e-09 ***\n",
       "b1:b3        -144.494      8.057 -17.934  < 2e-16 ***\n",
       "b1:b6        7153.253   1231.782   5.807 6.35e-09 ***\n",
       "b1:b7       -8498.161   1433.141  -5.930 3.03e-09 ***\n",
       "b2:b6       -5533.573   1379.362  -4.012 6.03e-05 ***\n",
       "b2:b7        6702.589   1660.581   4.036 5.43e-05 ***\n",
       "b3:b6       -1784.724    702.607  -2.540 0.011081 *  \n",
       "b3:b7        2450.341    798.458   3.069 0.002149 ** \n",
       "b4:b6        -488.283    146.720  -3.328 0.000875 ***\n",
       "b5:b6        1203.690    182.664   6.590 4.41e-11 ***\n",
       "b5:b7       -1081.033    213.849  -5.055 4.30e-07 ***\n",
       "b6:b7        -433.514     31.966 -13.562  < 2e-16 ***\n",
       "---\n",
       "Signif. codes:  0 ‘***’ 0.001 ‘**’ 0.01 ‘*’ 0.05 ‘.’ 0.1 ‘ ’ 1\n",
       "\n",
       "(Dispersion parameter for binomial family taken to be 1)\n",
       "\n",
       "    Null deviance: 26183.7  on 50538  degrees of freedom\n",
       "Residual deviance:  3874.4  on 50520  degrees of freedom\n",
       "AIC: 3912.4\n",
       "\n",
       "Number of Fisher Scoring iterations: 10\n"
      ]
     },
     "metadata": {},
     "output_type": "display_data"
    },
    {
     "name": "stderr",
     "output_type": "stream",
     "text": [
      "Warning message:\n",
      ": glm.fit: fitted probabilities numerically 0 or 1 occurredWarning message:\n",
      ": glm.fit: fitted probabilities numerically 0 or 1 occurredWarning message:\n",
      ": glm.fit: fitted probabilities numerically 0 or 1 occurredWarning message:\n",
      ": glm.fit: fitted probabilities numerically 0 or 1 occurredWarning message:\n",
      ": glm.fit: fitted probabilities numerically 0 or 1 occurredWarning message:\n",
      ": glm.fit: fitted probabilities numerically 0 or 1 occurredWarning message:\n",
      ": glm.fit: fitted probabilities numerically 0 or 1 occurredWarning message:\n",
      ": glm.fit: fitted probabilities numerically 0 or 1 occurredWarning message:\n",
      ": glm.fit: fitted probabilities numerically 0 or 1 occurredWarning message:\n",
      ": glm.fit: fitted probabilities numerically 0 or 1 occurredWarning message:\n",
      ": glm.fit: fitted probabilities numerically 0 or 1 occurred"
     ]
    },
    {
     "data": {
      "text/html": [
       "<table>\n",
       "<thead><tr><th></th><th scope=col>Df</th><th scope=col>Deviance</th><th scope=col>AIC</th><th scope=col>LRT</th><th scope=col>Pr(&gt;Chi)</th></tr></thead>\n",
       "<tbody>\n",
       "\t<tr><th scope=row>&lt;none&gt;</th><td>      NA</td><td>3874.405</td><td>3912.405</td><td>      NA</td><td>      NA</td></tr>\n",
       "\t<tr><th scope=row>b1:b3</th><td>1.000000e+00</td><td>4.128872e+03</td><td>4.164872e+03</td><td>2.544673e+02</td><td>2.757785e-57</td></tr>\n",
       "\t<tr><th scope=row>b1:b6</th><td>1.000000e+00</td><td>3.908466e+03</td><td>3.944466e+03</td><td>3.406170e+01</td><td>5.339184e-09</td></tr>\n",
       "\t<tr><th scope=row>b1:b7</th><td>1.000000e+00</td><td>3.910565e+03</td><td>3.946565e+03</td><td>3.616032e+01</td><td>1.817337e-09</td></tr>\n",
       "\t<tr><th scope=row>b2:b6</th><td>1.000000e+00</td><td>3.889894e+03</td><td>3.925894e+03</td><td>1.548929e+01</td><td>8.297409e-05</td></tr>\n",
       "\t<tr><th scope=row>b2:b7</th><td>1.000000e+00</td><td>3.890130e+03</td><td>3.926130e+03</td><td>1.572590e+01</td><td>7.321467e-05</td></tr>\n",
       "\t<tr><th scope=row>b3:b6</th><td>1.000000e+00</td><td>3.881290e+03</td><td>3.917290e+03</td><td>6.885112e+00</td><td>8.691664e-03</td></tr>\n",
       "\t<tr><th scope=row>b3:b7</th><td>1.000000e+00</td><td>3.885605e+03</td><td>3.921605e+03</td><td>1.120096e+01</td><td>8.175490e-04</td></tr>\n",
       "\t<tr><th scope=row>b4:b6</th><td>1.000000e+00</td><td>3.885247e+03</td><td>3.921247e+03</td><td>1.084249e+01</td><td>9.919722e-04</td></tr>\n",
       "\t<tr><th scope=row>b5:b6</th><td>1.000000e+00</td><td>3.927467e+03</td><td>3.963467e+03</td><td>5.306237e+01</td><td>3.231242e-13</td></tr>\n",
       "\t<tr><th scope=row>b5:b7</th><td>1.000000e+00</td><td>3.906149e+03</td><td>3.942149e+03</td><td>3.174459e+01</td><td>1.758388e-08</td></tr>\n",
       "\t<tr><th scope=row>b6:b7</th><td>1.000000e+00</td><td>4.161160e+03</td><td>4.197160e+03</td><td>2.867559e+02</td><td>2.531797e-64</td></tr>\n",
       "</tbody>\n",
       "</table>\n"
      ],
      "text/latex": [
       "\\begin{tabular}{r|lllll}\n",
       "  & Df & Deviance & AIC & LRT & Pr(>Chi)\\\\\n",
       "\\hline\n",
       "\t<none> &       NA & 3874.405 & 3912.405 &       NA &       NA\\\\\n",
       "\tb1:b3 & 1.000000e+00 & 4.128872e+03 & 4.164872e+03 & 2.544673e+02 & 2.757785e-57\\\\\n",
       "\tb1:b6 & 1.000000e+00 & 3.908466e+03 & 3.944466e+03 & 3.406170e+01 & 5.339184e-09\\\\\n",
       "\tb1:b7 & 1.000000e+00 & 3.910565e+03 & 3.946565e+03 & 3.616032e+01 & 1.817337e-09\\\\\n",
       "\tb2:b6 & 1.000000e+00 & 3.889894e+03 & 3.925894e+03 & 1.548929e+01 & 8.297409e-05\\\\\n",
       "\tb2:b7 & 1.000000e+00 & 3.890130e+03 & 3.926130e+03 & 1.572590e+01 & 7.321467e-05\\\\\n",
       "\tb3:b6 & 1.000000e+00 & 3.881290e+03 & 3.917290e+03 & 6.885112e+00 & 8.691664e-03\\\\\n",
       "\tb3:b7 & 1.000000e+00 & 3.885605e+03 & 3.921605e+03 & 1.120096e+01 & 8.175490e-04\\\\\n",
       "\tb4:b6 & 1.000000e+00 & 3.885247e+03 & 3.921247e+03 & 1.084249e+01 & 9.919722e-04\\\\\n",
       "\tb5:b6 & 1.000000e+00 & 3.927467e+03 & 3.963467e+03 & 5.306237e+01 & 3.231242e-13\\\\\n",
       "\tb5:b7 & 1.000000e+00 & 3.906149e+03 & 3.942149e+03 & 3.174459e+01 & 1.758388e-08\\\\\n",
       "\tb6:b7 & 1.000000e+00 & 4.161160e+03 & 4.197160e+03 & 2.867559e+02 & 2.531797e-64\\\\\n",
       "\\end{tabular}\n"
      ],
      "text/plain": [
       "Single term deletions\n",
       "\n",
       "Model:\n",
       "answ2 ~ b1 + b2 + b3 + b4 + b5 + b6 + b7 + b1:b3 + b1:b6 + b1:b7 + \n",
       "    b2:b6 + b2:b7 + b3:b6 + b3:b7 + b4:b6 + b5:b6 + b5:b7 + b6:b7\n",
       "       Df Deviance    AIC     LRT  Pr(>Chi)    \n",
       "<none>      3874.4 3912.4                      \n",
       "b1:b3   1   4128.9 4164.9 254.467 < 2.2e-16 ***\n",
       "b1:b6   1   3908.5 3944.5  34.062 5.339e-09 ***\n",
       "b1:b7   1   3910.6 3946.6  36.160 1.817e-09 ***\n",
       "b2:b6   1   3889.9 3925.9  15.489 8.297e-05 ***\n",
       "b2:b7   1   3890.1 3926.1  15.726 7.321e-05 ***\n",
       "b3:b6   1   3881.3 3917.3   6.885 0.0086917 ** \n",
       "b3:b7   1   3885.6 3921.6  11.201 0.0008175 ***\n",
       "b4:b6   1   3885.2 3921.2  10.842 0.0009920 ***\n",
       "b5:b6   1   3927.5 3963.5  53.062 3.231e-13 ***\n",
       "b5:b7   1   3906.1 3942.1  31.745 1.758e-08 ***\n",
       "b6:b7   1   4161.2 4197.2 286.756 < 2.2e-16 ***\n",
       "---\n",
       "Signif. codes:  0 ‘***’ 0.001 ‘**’ 0.01 ‘*’ 0.05 ‘.’ 0.1 ‘ ’ 1"
      ]
     },
     "metadata": {},
     "output_type": "display_data"
    }
   ],
   "source": [
    "simple.glm32 = glm(answ2 ~ b1 + b2 + b3 + b4 + b5 + b6 + b7 + \n",
    "                           b1:b3 +         b1:b6 + b1:b7 +\n",
    "                                   b2:b6 + b2:b7 +\n",
    "                                   b3:b6 + b3:b7+\n",
    "                           b4:b6 + \n",
    "                   b5:b6 + b5:b7 +\n",
    "                   b6:b7, \n",
    "                   data=pdata, family=binomial)\n",
    "summary(simple.glm32)\n",
    "drop1(simple.glm32, test=\"Chi\")"
   ]
  },
  {
   "cell_type": "markdown",
   "metadata": {},
   "source": [
    "Пришли к тому моменту, когда нет возможности выкинуть незначимые члены. Заметим, что команда `summary(simple.glm32)` говорит о том, что у коэффициенты перед b1, b2, b3 незначимы, но мы не можем убрать эти переменные, поскольку они учавствуют во взаимодействиях сдругими переменными.\n",
    "\n",
    "Поэтому остановимся на данной модели и посмотрим, как ведут себя ее остатки."
   ]
  },
  {
   "cell_type": "markdown",
   "metadata": {},
   "source": [
    "<a id='SnowValidation3'></a>\n",
    "##### Валидация модели-3"
   ]
  },
  {
   "cell_type": "code",
   "execution_count": 79,
   "metadata": {
    "collapsed": false
   },
   "outputs": [
    {
     "data": {
      "text/html": [
       "<strong>png:</strong> 2"
      ],
      "text/latex": [
       "\\textbf{png:} 2"
      ],
      "text/markdown": [
       "**png:** 2"
      ],
      "text/plain": [
       "png \n",
       "  2 "
      ]
     },
     "metadata": {},
     "output_type": "display_data"
    }
   ],
   "source": [
    "E32 = resid(simple.glm32, type=\"response\")\n",
    "ER32 = data.frame(err=E32, fitted=simple.glm32$fitted.values, \n",
    "                b1=pdata$b1, b2=pdata$b2, b3=pdata$b3, b4=pdata$b4, b5=pdata$b5, b6=pdata$b6, \n",
    "                b7=pdata$b7, b9=pdata$b9, b10=pdata$b10, b11=pdata$b11, scene=pdata$scene)\n",
    "\n",
    "# Сортируем по порядку прогнозируемых величин\n",
    "ER32 = ER32[order(ER32$fitted), ]\n",
    "\n",
    "# Разбиваем на группы\n",
    "group_size = 100\n",
    "ER32 = cbind(id=(1:length(ER32$fitted))%/% group_size, ER32)\n",
    "# Вычислим среднее значение ошибки в каждой группе и поместим в таблицу\n",
    "lookup_table = aggregate(ER32['err'], by=list(ER32$id), FUN=mean)\n",
    "names(lookup_table) = c('id', 'err')\n",
    "\n",
    "# Создадим вектор из средний значений ошибок \n",
    "a = sapply(ER32$id, function(id){lookup_table[lookup_table$id==id, 'err']})\n",
    "\n",
    "ER32 = cbind(ER32, mean.err=a)\n",
    "\n",
    "\n",
    "png(\"Img/CMASK/glm32_res_fitted_srt.png\", width=728, height=728, units=\"px\")\n",
    "  plot(ER32$fitted, ER32$mean.err, cex=0.1)\n",
    "dev.off()"
   ]
  },
  {
   "cell_type": "markdown",
   "metadata": {},
   "source": [
    "<img src=\"https://176.9.38.120/cruncher/files/deforestation/Img/CMASK/glm32_res_fitted_srt.png\">"
   ]
  },
  {
   "cell_type": "markdown",
   "metadata": {},
   "source": [
    "На этом графике принципиальных улучшений не видно.\n",
    "\n",
    "Посмотрим графики зависимостей остатков от объясняющих переменных."
   ]
  },
  {
   "cell_type": "code",
   "execution_count": 80,
   "metadata": {
    "collapsed": false
   },
   "outputs": [
    {
     "data": {
      "text/html": [
       "<strong>png:</strong> 2"
      ],
      "text/latex": [
       "\\textbf{png:} 2"
      ],
      "text/markdown": [
       "**png:** 2"
      ],
      "text/plain": [
       "png \n",
       "  2 "
      ]
     },
     "metadata": {},
     "output_type": "display_data"
    }
   ],
   "source": [
    "png(\"Img/CMASK/glm32_res_bXX_srt.png\", width=728, height=728, units=\"px\")\n",
    "    par(mfrow = c(3, 4))\n",
    "    plot(ER32$b1, ER32$mean.err, cex=0.1)\n",
    "    plot(ER32$b2, ER32$mean.err, cex=0.1)\n",
    "    plot(ER32$b3, ER32$mean.err, cex=0.1)\n",
    "    plot(ER32$b4, ER32$mean.err, cex=0.1)\n",
    "\n",
    "    plot(ER32$b5, ER32$mean.err, cex=0.1)\n",
    "    plot(ER32$b6, ER32$mean.err, cex=0.1)\n",
    "    plot(ER32$b7, ER32$mean.err, cex=0.1)\n",
    "\n",
    "    plot(ER32$b9, ER32$mean.err, cex=0.1)\n",
    "\n",
    "    plot(ER32$b10, ER32$mean.err, cex=0.1)\n",
    "    plot(ER32$b11, ER32$mean.err, cex=0.1)\n",
    "\n",
    "    boxplot(ER32$mean.err ~ ER32$scene, cex=0.1)\n",
    "\n",
    "    par(opar)\n",
    "dev.off()"
   ]
  },
  {
   "cell_type": "markdown",
   "metadata": {},
   "source": [
    "<img src=\"https://176.9.38.120/cruncher/files/deforestation/Img/CMASK/glm32_res_bXX_srt.png\">"
   ]
  },
  {
   "cell_type": "markdown",
   "metadata": {},
   "source": [
    "На графиках видно, что закономерности в распределении остатков не исчезли, например, видна тенденция к низким значениям отстаков при низких значениях b4. У части других переменных та же самая проблема.\n",
    "\n",
    "Таким образом, несмотря на улучшившийся AIC, снизившийся до 3912.4, нельзя сказать, что данная модель дает хорошее описание классов снег-не-снег."
   ]
  },
  {
   "cell_type": "markdown",
   "metadata": {},
   "source": [
    "<a id='SnowResume'></a>\n",
    "##### Вывод"
   ]
  },
  {
   "cell_type": "markdown",
   "metadata": {},
   "source": [
    "В этом разделе были построены модели логистической регрессии с различными вариантами объясняющих переменных. Наиболее точной моделью является модель `simple.glm32`. К сожалению, все модели, в том числе и `simple.glm32` показывают определенные закономерности в распределении остатков. Это говорит о том, что:\n",
    "\n",
    " * либо выбрана неверная статистическая модель;\n",
    " * либо выбранные объясняющие переменные не позволяют качественно отделить классы.\n",
    " \n",
    "Таким образом следует или дальше пытаться подобрать переменные, включая в модель степенные члены и члены с их взаимодействием, или строить классификатор на базе других статистических моделей, а не логистической регрессии. Первый путь сопряжен с большим объемом работ, поэтому в следующем разделе будет представлена попытка построить аддитивную модель."
   ]
  },
  {
   "cell_type": "code",
   "execution_count": null,
   "metadata": {
    "collapsed": true
   },
   "outputs": [],
   "source": []
  },
  {
   "cell_type": "code",
   "execution_count": 35,
   "metadata": {
    "collapsed": false
   },
   "outputs": [
    {
     "name": "stderr",
     "output_type": "stream",
     "text": [
      "Loading required package: nlme\n",
      "This is mgcv 1.7-28. For overview type 'help(\"mgcv-package\")'.\n"
     ]
    }
   ],
   "source": [
    "library(mgcv)"
   ]
  }
 ],
 "metadata": {
  "kernelspec": {
   "display_name": "R",
   "language": "R",
   "name": "ir"
  },
  "language_info": {
   "codemirror_mode": "r",
   "file_extension": ".r",
   "mimetype": "text/x-r-source",
   "name": "R",
   "pygments_lexer": "r",
   "version": "3.3.1"
  }
 },
 "nbformat": 4,
 "nbformat_minor": 0
}
