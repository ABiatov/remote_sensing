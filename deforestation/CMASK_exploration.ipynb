{
 "cells": [
  {
   "cell_type": "markdown",
   "metadata": {},
   "source": [
    "# Статанализ масок облаков и снега"
   ]
  },
  {
   "cell_type": "markdown",
   "metadata": {},
   "source": [
    "В файл были экспортированы обучающие данные по облачности и снегу (см. https://176.9.38.120/cruncher/notebooks/deforestation/CMask_trainings.ipynb)."
   ]
  },
  {
   "cell_type": "code",
   "execution_count": 1,
   "metadata": {
    "collapsed": false
   },
   "outputs": [],
   "source": [
    "points = read.table('data/CMask_trainings/random_points.csv', header=TRUE, sep=';')\n",
    "\n",
    "# summary(points)"
   ]
  },
  {
   "cell_type": "markdown",
   "metadata": {},
   "source": [
    "Содержимое колонок:\n",
    "\n",
    "  * cat -- идентификатор точки, в которой производились измерения;\n",
    "  * l1_b1 -- l1_b11 -- данные LANDSAT8 (после атмосферной коррекции) по сцене LC81120282015365LGN00;\n",
    "  * l2_b1 -- l2_b11 -- данные LANDSAT8 (после атмосферной коррекции) по сцене LC81130272015356LGN00;\n",
    "  * t1, t2 -- данные по наземным объектам сцен LC81120282015365LGN00 и LC81130272015356LGN00 соответственно, значения: 1-облака;2-снег;3-остальное.\n",
    "  * x, y -- координаты (UTM);"
   ]
  },
  {
   "cell_type": "markdown",
   "metadata": {},
   "source": [
    "Соберем данные в dataframe для удобства анализа так, чтобы в нем одна строка соответствовала одному измерению, а не двум, как сейчас:"
   ]
  },
  {
   "cell_type": "code",
   "execution_count": 2,
   "metadata": {
    "collapsed": false
   },
   "outputs": [
    {
     "data": {
      "text/plain": [
       "      cat              x                y               t        \n",
       " Min.   :    1   Min.   :434113   Min.   :4979683   Cloud: 1579  \n",
       " 1st Qu.:12508   1st Qu.:496221   1st Qu.:5060181   Snow : 3644  \n",
       " Median :24998   Median :536605   Median :5117104   Other:45316  \n",
       " Mean   :24998   Mean   :541089   Mean   :5112347                \n",
       " 3rd Qu.:37496   3rd Qu.:586255   3rd Qu.:5165598                \n",
       " Max.   :50000   Max.   :664168   Max.   :5215814                \n",
       "       b1               b2                b3                b4         \n",
       " Min.   :0.1124   Min.   :0.08453   Min.   :0.04529   Min.   :0.02953  \n",
       " 1st Qu.:0.2011   1st Qu.:0.16832   1st Qu.:0.11290   1st Qu.:0.09587  \n",
       " Median :0.2291   Median :0.19891   Median :0.14421   Median :0.13350  \n",
       " Mean   :0.2529   Mean   :0.22642   Mean   :0.17388   Mean   :0.17051  \n",
       " 3rd Qu.:0.2732   3rd Qu.:0.24862   3rd Qu.:0.19710   3rd Qu.:0.19912  \n",
       " Max.   :0.9407   Max.   :1.07539   Max.   :1.17382   Max.   :1.45950  \n",
       "       b5               b6                 b7                  b8         \n",
       " Min.   :0.0266   Min.   :0.002429   Min.   :0.0009371   Min.   :0.03806  \n",
       " 1st Qu.:0.1505   1st Qu.:0.045226   1st Qu.:0.0346359   1st Qu.:0.10428  \n",
       " Median :0.2089   Median :0.064413   Median :0.0517046   Median :0.13835  \n",
       " Mean   :0.2411   Mean   :0.070830   Mean   :0.0587442   Mean   :0.17102  \n",
       " 3rd Qu.:0.2940   3rd Qu.:0.085904   3rd Qu.:0.0727751   3rd Qu.:0.19648  \n",
       " Max.   :1.7880   Max.   :0.835206   Max.   :0.7258888   Max.   :1.25935  \n",
       "       b9                  b10             b11        scene     \n",
       " Min.   :-0.0001246   Min.   :232.4   Min.   :224.4   S1:41907  \n",
       " 1st Qu.: 0.0038000   1st Qu.:250.1   1st Qu.:247.7   S2: 8632  \n",
       " Median : 0.0054196   Median :252.2   Median :249.9             \n",
       " Mean   : 0.0106870   Mean   :252.4   Mean   :250.0             \n",
       " 3rd Qu.: 0.0095934   3rd Qu.:254.5   3rd Qu.:252.3             \n",
       " Max.   : 0.2826308   Max.   :263.5   Max.   :261.4             "
      ]
     },
     "metadata": {},
     "output_type": "display_data"
    }
   ],
   "source": [
    "tmp1 = points[c('cat', 'x', 'y', 't1',\n",
    "                'l1_b1', 'l1_b2', 'l1_b3', 'l1_b4', 'l1_b5', 'l1_b6', \n",
    "                'l1_b7', 'l1_b8', 'l1_b9', 'l1_b10', 'l1_b11'\n",
    "               )]\n",
    "names(tmp1) = c('cat', 'x', 'y', 't',\n",
    "                'b1', 'b2', 'b3', 'b4', 'b5', 'b6', 'b7', 'b8', 'b9', 'b10', 'b11'\n",
    "               )\n",
    "\n",
    "tmp1$scene = 'S1' # 'LC81120282015365LGN00'\n",
    "\n",
    "tmp2 = points[c('cat', 'x', 'y', 't2',\n",
    "                'l2_b1', 'l2_b2', 'l2_b3', 'l2_b4', 'l2_b5', 'l2_b6', \n",
    "                'l2_b7', 'l2_b8', 'l2_b9', 'l2_b10', 'l2_b11'\n",
    "               )]\n",
    "names(tmp2) = c('cat', 'x', 'y', 't',\n",
    "                'b1', 'b2', 'b3', 'b4', 'b5', 'b6', 'b7', 'b8', 'b9', 'b10', 'b11'\n",
    "               )\n",
    "tmp2$scene = 'S2' # 'LC81130272015356LGN00'\n",
    "\n",
    "\n",
    "points = rbind(tmp1, tmp2)\n",
    "\n",
    "points$t[points$t==0] = NA\n",
    "\n",
    "points$scene = factor(points$scene)\n",
    "points$t = factor(points$t)\n",
    "levels(points$t) <- list(Cloud=1, Snow=2, Other=3)\n",
    "\n",
    "points = na.omit(points)\n",
    "\n",
    "summary(points)"
   ]
  },
  {
   "cell_type": "markdown",
   "metadata": {},
   "source": [
    "Видим, что в 9-м канале после атмосферной коррекции получились отрицательные значения. Объясняется это, по всей видимости, тем, что используемые в ходе коррекции константы (gain или bias, см. метаданные) содержали неподходящие для данной сцены значения."
   ]
  },
  {
   "cell_type": "code",
   "execution_count": 3,
   "metadata": {
    "collapsed": false
   },
   "outputs": [
    {
     "data": {
      "text/html": [
       "<ol class=list-inline>\n",
       "\t<li>50539</li>\n",
       "\t<li>16</li>\n",
       "</ol>\n"
      ],
      "text/latex": [
       "\\begin{enumerate*}\n",
       "\\item 50539\n",
       "\\item 16\n",
       "\\end{enumerate*}\n"
      ],
      "text/markdown": [
       "1. 50539\n",
       "2. 16\n",
       "\n",
       "\n"
      ],
      "text/plain": [
       "[1] 50539    16"
      ]
     },
     "metadata": {},
     "output_type": "display_data"
    }
   ],
   "source": [
    "# Число примеров, оставшихся после удаления отсутсвующих данных\n",
    "dim(points)"
   ]
  },
  {
   "cell_type": "markdown",
   "metadata": {},
   "source": [
    "## Первый взгляд на данные"
   ]
  },
  {
   "cell_type": "markdown",
   "metadata": {},
   "source": [
    "### Отражающая способность различных объектов"
   ]
  },
  {
   "cell_type": "markdown",
   "metadata": {},
   "source": [
    "Построим ящики с усами по каждому каналу и сравним какие значения отражающей способности типичны для каждого типа поверхности."
   ]
  },
  {
   "cell_type": "code",
   "execution_count": 4,
   "metadata": {
    "collapsed": false
   },
   "outputs": [
    {
     "data": {
      "text/html": [
       "<strong>png:</strong> 2"
      ],
      "text/latex": [
       "\\textbf{png:} 2"
      ],
      "text/markdown": [
       "**png:** 2"
      ],
      "text/plain": [
       "png \n",
       "  2 "
      ]
     },
     "metadata": {},
     "output_type": "display_data"
    }
   ],
   "source": [
    "opar = par(no.readonly = TRUE)      # make a copy of current settings\n",
    "\n",
    "png(\"Img/CMASK/type_vs_bands.png\", width=728, height=728, units=\"px\")\n",
    "    par(mfrow = c(3,4))\n",
    "    boxplot(b1 ~ t, data=points, ylab='b1')\n",
    "    boxplot(b2 ~ t, data=points, ylab='b2')\n",
    "    boxplot(b3 ~ t, data=points, ylab='b3')\n",
    "    boxplot(b4 ~ t, data=points, ylab='b4')\n",
    "\n",
    "    boxplot(b5 ~ t, data=points, ylab='b5')\n",
    "    boxplot(b6 ~ t, data=points, ylab='b6')\n",
    "    boxplot(b7 ~ t, data=points, ylab='b7')\n",
    "    boxplot(b8 ~ t, data=points, ylab='b8')\n",
    "\n",
    "    boxplot(b9 ~ t, data=points, ylab='b9')\n",
    "    boxplot(b10 ~ t, data=points, ylab='b10')\n",
    "    boxplot(b11 ~ t, data=points, ylab='b11')\n",
    "    par(opar)\n",
    "dev.off()"
   ]
  },
  {
   "cell_type": "markdown",
   "metadata": {},
   "source": [
    "<img src=\"https://176.9.38.120/cruncher/files/deforestation/Img/CMASK/type_vs_bands.png\">\n",
    "\n",
    "* 1-й--5-й и 8-й каналы ведут себя примерно одинаково: яркости пикслеей, соотвествующие снегу, выше, чем яркости облачных пикселей. А яркость пикселей облаков и снега обычно выше, чем пикселей других объектов. Однако, нельзя провести четкой границы -- области яркостей пикселей различных объектов довольно сильно пересекаются. Видно, что в этих каналах распределение имеет длинный правый хвост: на графиках видны выбросы в верхней части ящиков. Возможно, что стоит преобразовать каналы, чтобы получить более симметричное распределение. Поскольку восьмой канал - панхроматический, то он несет в основном пространственную информацию, а ничего нового с точки зрения спектральной информации не привносит. Поэтому в дальнейшем он буде опущен при анализе.\n",
    "* 6-й--7-й каналы: высокое отражение в облачных областях, чуть меньшее в заснеженных и еще меньше для остальных объектов. Точно также данные показывают длинный правый хвост в распределении.\n",
    "* 9-й канал: очень длинный правый хвост в облачных пикселях. Значения облачных пикселей в целом значительно выше, чем у остальных. Поскольку этот канал был разработан для исследования атмосферных эффектов, то, возможно, этот канал будет одним из основных маркеров облако/не облако.\n",
    "* 10-й и 11-й каналы (температура) cхожи между собой: на них заметно, что температура облаков обычно выше, чем остальных объектов (зима?), хотя у облаков бросается в глаза очень длинный левый хвост распределения."
   ]
  },
  {
   "cell_type": "markdown",
   "metadata": {},
   "source": [
    "Преобразуем данные, чтобы получить более равномерные распределения. При этом выкинем из анализа 8-й канал, основную часть каналов прологарифмируем для избавления от длинных хвостов, 9-й канал возведем в степень, а 10-й и 11-й каналы оставим без изменений (длинный хвост только у облаков, а не у всего канала):"
   ]
  },
  {
   "cell_type": "code",
   "execution_count": 5,
   "metadata": {
    "collapsed": false
   },
   "outputs": [
    {
     "data": {
      "text/html": [
       "<strong>png:</strong> 2"
      ],
      "text/latex": [
       "\\textbf{png:} 2"
      ],
      "text/markdown": [
       "**png:** 2"
      ],
      "text/plain": [
       "png \n",
       "  2 "
      ]
     },
     "metadata": {},
     "output_type": "display_data"
    }
   ],
   "source": [
    "png(\"Img/CMASK/type_vs_logbands.png\", width=728, height=728, units=\"px\")\n",
    "    par(mfrow = c(2, 4))\n",
    "    boxplot(log(b1) ~ t, data=points, ylab='log(b1')\n",
    "    boxplot(log(b2) ~ t, data=points, ylab='log(b2')\n",
    "    boxplot(log(b3) ~ t, data=points, ylab='log(b3')\n",
    "    boxplot(log(b4) ~ t, data=points, ylab='log(b4')\n",
    "\n",
    "    boxplot(log(b5) ~ t, data=points, ylab='log(b5)')\n",
    "    boxplot(log(b6) ~ t, data=points, ylab='log(b6)')\n",
    "    boxplot(log(b7) ~ t, data=points, ylab='log(b7)')\n",
    "\n",
    "    boxplot(I(b9^0.5) ~ t, data=points, ylab='sqrt(b9)')\n",
    "    par(opar)\n",
    "dev.off()"
   ]
  },
  {
   "cell_type": "markdown",
   "metadata": {},
   "source": [
    "<img src=\"https://176.9.38.120/cruncher/files/deforestation/Img/CMASK/type_vs_logbands.png\">\n",
    "\n",
    "Видно, что распределения частично выровнялись, хотя местами по-прежнему остались длинные хвосты."
   ]
  },
  {
   "cell_type": "markdown",
   "metadata": {},
   "source": [
    "### Зависимость от сцены"
   ]
  },
  {
   "cell_type": "markdown",
   "metadata": {},
   "source": [
    "Построим те же самые ящики с усами, но попробуем понять, насколько отличаются данные не только из-за объектов, но и из-за того, что они представлены в разных сценах."
   ]
  },
  {
   "cell_type": "code",
   "execution_count": 6,
   "metadata": {
    "collapsed": false
   },
   "outputs": [
    {
     "data": {
      "text/html": [
       "<strong>png:</strong> 2"
      ],
      "text/latex": [
       "\\textbf{png:} 2"
      ],
      "text/markdown": [
       "**png:** 2"
      ],
      "text/plain": [
       "png \n",
       "  2 "
      ]
     },
     "metadata": {},
     "output_type": "display_data"
    }
   ],
   "source": [
    "png(\"Img/CMASK/scene_vs_logbands.png\", width=728, height=728, units=\"px\")\n",
    "    par(mfrow = c(3, 4))\n",
    "    boxplot(log(b1) ~ scene, data=points, ylab='log(b1)')\n",
    "    boxplot(log(b2) ~ scene, data=points, ylab='log(b2)')\n",
    "    boxplot(log(b3) ~ scene, data=points, ylab='log(b3)')\n",
    "    boxplot(log(b4) ~ scene, data=points, ylab='log(b4)')\n",
    "\n",
    "    boxplot(log(b5) ~ scene, data=points, ylab='log(b5)')\n",
    "    boxplot(log(b6) ~ scene, data=points, ylab='log(b6)')\n",
    "    boxplot(log(b7) ~ scene, data=points, ylab='log(b7)')\n",
    "\n",
    "    boxplot(I(b9^0.5) ~ scene, data=points, ylab='sqrt(b9)')\n",
    "\n",
    "    boxplot(b10 ~ scene, data=points, ylab='b10')\n",
    "    boxplot(b11 ~ scene, data=points, ylab='b11')\n",
    "\n",
    "    par(opar)\n",
    "dev.off()"
   ]
  },
  {
   "cell_type": "markdown",
   "metadata": {},
   "source": [
    "<img src=\"https://176.9.38.120/cruncher/files/deforestation/Img/CMASK/scene_vs_logbands.png\">\n",
    "\n",
    "Итак, мы видим, что сцена 2 (LC81130272015356LGN00) более яркая, чем сцена 1 (LC81120282015365LGN00) во всех каналах. Вопрос в том, насколько велика эта вариативность данных, которая вносится разными условиями съемки, и не может ли оказаться так, что условия съемки влияют на яркость пикселей гораздо больше, чем тип обеъкта (см., например, различия якркостей в 10-м и 11-м каналах).\n",
    "\n",
    "Для того, чтобы ответить на этот вопрос построим ящики для отдельных каналов."
   ]
  },
  {
   "cell_type": "markdown",
   "metadata": {},
   "source": [
    "#### Канал B1\n",
    "\n",
    "В первом канале видно, что яркость снега может меняться в достаточно широких пределах в зависимости от сцены, настолько, что она яркости облаков и снежных участков могут пересекаться в большой степени."
   ]
  },
  {
   "cell_type": "code",
   "execution_count": 7,
   "metadata": {
    "collapsed": false
   },
   "outputs": [
    {
     "data": {
      "text/html": [
       "<strong>png:</strong> 2"
      ],
      "text/latex": [
       "\\textbf{png:} 2"
      ],
      "text/markdown": [
       "**png:** 2"
      ],
      "text/plain": [
       "png \n",
       "  2 "
      ]
     },
     "metadata": {},
     "output_type": "display_data"
    }
   ],
   "source": [
    "png(\"Img/CMASK/scene_type_vs_b1.png\", width=728, height=728, units=\"px\")\n",
    "    boxplot(log(b1) ~ scene+t, data=points, ylab='log(b1)')\n",
    "dev.off()"
   ]
  },
  {
   "cell_type": "markdown",
   "metadata": {},
   "source": [
    "<img src=\"https://176.9.38.120/cruncher/files/deforestation/Img/CMASK/scene_type_vs_b1.png\">"
   ]
  },
  {
   "cell_type": "markdown",
   "metadata": {},
   "source": [
    "#### Канал B2\n",
    "\n",
    "Аналогичная картина и во втором канале."
   ]
  },
  {
   "cell_type": "code",
   "execution_count": 8,
   "metadata": {
    "collapsed": false
   },
   "outputs": [
    {
     "data": {
      "text/html": [
       "<strong>png:</strong> 2"
      ],
      "text/latex": [
       "\\textbf{png:} 2"
      ],
      "text/markdown": [
       "**png:** 2"
      ],
      "text/plain": [
       "png \n",
       "  2 "
      ]
     },
     "metadata": {},
     "output_type": "display_data"
    }
   ],
   "source": [
    "png(\"Img/CMASK/scene_type_vs_b2.png\", width=728, height=728, units=\"px\")\n",
    "    boxplot(log(b2) ~ scene+t, data=points, ylab='log(b2)')\n",
    "dev.off()"
   ]
  },
  {
   "cell_type": "markdown",
   "metadata": {},
   "source": [
    "<img src=\"https://176.9.38.120/cruncher/files/deforestation/Img/CMASK/scene_type_vs_b2.png\">"
   ]
  },
  {
   "cell_type": "markdown",
   "metadata": {},
   "source": [
    "#### Канал B3\n",
    "\n",
    "Аналогично и в третьем:"
   ]
  },
  {
   "cell_type": "code",
   "execution_count": 9,
   "metadata": {
    "collapsed": false
   },
   "outputs": [
    {
     "data": {
      "text/html": [
       "<strong>png:</strong> 2"
      ],
      "text/latex": [
       "\\textbf{png:} 2"
      ],
      "text/markdown": [
       "**png:** 2"
      ],
      "text/plain": [
       "png \n",
       "  2 "
      ]
     },
     "metadata": {},
     "output_type": "display_data"
    }
   ],
   "source": [
    "png(\"Img/CMASK/scene_type_vs_b3.png\", width=728, height=728, units=\"px\")\n",
    "    boxplot(log(b3) ~ scene+t, data=points, ylab='log(b3)')\n",
    "dev.off()"
   ]
  },
  {
   "cell_type": "markdown",
   "metadata": {},
   "source": [
    "<img src=\"https://176.9.38.120/cruncher/files/deforestation/Img/CMASK/scene_type_vs_b3.png\">"
   ]
  },
  {
   "cell_type": "markdown",
   "metadata": {},
   "source": [
    "#### Канал B4"
   ]
  },
  {
   "cell_type": "code",
   "execution_count": 10,
   "metadata": {
    "collapsed": false
   },
   "outputs": [
    {
     "data": {
      "text/html": [
       "<strong>png:</strong> 2"
      ],
      "text/latex": [
       "\\textbf{png:} 2"
      ],
      "text/markdown": [
       "**png:** 2"
      ],
      "text/plain": [
       "png \n",
       "  2 "
      ]
     },
     "metadata": {},
     "output_type": "display_data"
    }
   ],
   "source": [
    "png(\"Img/CMASK/scene_type_vs_b4.png\", width=728, height=728, units=\"px\")\n",
    "    boxplot(log(b4) ~ scene+t, data=points, ylab='log(b4)')\n",
    "dev.off()"
   ]
  },
  {
   "cell_type": "markdown",
   "metadata": {},
   "source": [
    "<img src=\"https://176.9.38.120/cruncher/files/deforestation/Img/CMASK/scene_type_vs_b4.png\">"
   ]
  },
  {
   "cell_type": "markdown",
   "metadata": {},
   "source": [
    "#### Канал B5"
   ]
  },
  {
   "cell_type": "code",
   "execution_count": 11,
   "metadata": {
    "collapsed": false
   },
   "outputs": [
    {
     "data": {
      "text/html": [
       "<strong>png:</strong> 2"
      ],
      "text/latex": [
       "\\textbf{png:} 2"
      ],
      "text/markdown": [
       "**png:** 2"
      ],
      "text/plain": [
       "png \n",
       "  2 "
      ]
     },
     "metadata": {},
     "output_type": "display_data"
    }
   ],
   "source": [
    "png(\"Img/CMASK/scene_type_vs_b5.png\", width=728, height=728, units=\"px\")\n",
    "    boxplot(log(b5) ~ scene+t, data=points, ylab='log(b5)')\n",
    "dev.off()"
   ]
  },
  {
   "cell_type": "markdown",
   "metadata": {},
   "source": [
    "<img src=\"https://176.9.38.120/cruncher/files/deforestation/Img/CMASK/scene_type_vs_b5.png\">"
   ]
  },
  {
   "cell_type": "markdown",
   "metadata": {},
   "source": [
    "#### Канал B6\n",
    "\n",
    "Зато 6-й канал, похоже, меньше зависит от сцены, чем предыдущие:"
   ]
  },
  {
   "cell_type": "code",
   "execution_count": 12,
   "metadata": {
    "collapsed": false
   },
   "outputs": [
    {
     "data": {
      "text/html": [
       "<strong>png:</strong> 2"
      ],
      "text/latex": [
       "\\textbf{png:} 2"
      ],
      "text/markdown": [
       "**png:** 2"
      ],
      "text/plain": [
       "png \n",
       "  2 "
      ]
     },
     "metadata": {},
     "output_type": "display_data"
    }
   ],
   "source": [
    "png(\"Img/CMASK/scene_type_vs_b6.png\", width=728, height=728, units=\"px\")\n",
    "    boxplot(log(b6) ~ scene+t, data=points, ylab='log(b6)')\n",
    "dev.off()"
   ]
  },
  {
   "cell_type": "markdown",
   "metadata": {},
   "source": [
    "<img src=\"https://176.9.38.120/cruncher/files/deforestation/Img/CMASK/scene_type_vs_b6.png\">"
   ]
  },
  {
   "cell_type": "markdown",
   "metadata": {},
   "source": [
    "#### Канал B7\n",
    "\n",
    "Очень похож на 6-й канал, но вариативность данных внутри классов в нем чуть меньше."
   ]
  },
  {
   "cell_type": "code",
   "execution_count": 13,
   "metadata": {
    "collapsed": false
   },
   "outputs": [
    {
     "data": {
      "text/html": [
       "<strong>png:</strong> 2"
      ],
      "text/latex": [
       "\\textbf{png:} 2"
      ],
      "text/markdown": [
       "**png:** 2"
      ],
      "text/plain": [
       "png \n",
       "  2 "
      ]
     },
     "metadata": {},
     "output_type": "display_data"
    }
   ],
   "source": [
    "png(\"Img/CMASK/scene_type_vs_b7.png\", width=728, height=728, units=\"px\")\n",
    "    boxplot(log(b7) ~ scene+t, data=points, ylab='log(b7)')\n",
    "dev.off()"
   ]
  },
  {
   "cell_type": "markdown",
   "metadata": {},
   "source": [
    "<img src=\"https://176.9.38.120/cruncher/files/deforestation/Img/CMASK/scene_type_vs_b7.png\">"
   ]
  },
  {
   "cell_type": "markdown",
   "metadata": {},
   "source": [
    "#### Канал B9\n",
    "\n",
    "В 9-м канале вариативность яркостей облачных пикселей между сценами очень велика. Похоже, что от сцены тут зависит больше, чем от типа объекта."
   ]
  },
  {
   "cell_type": "code",
   "execution_count": 14,
   "metadata": {
    "collapsed": false
   },
   "outputs": [
    {
     "data": {
      "text/html": [
       "<strong>png:</strong> 2"
      ],
      "text/latex": [
       "\\textbf{png:} 2"
      ],
      "text/markdown": [
       "**png:** 2"
      ],
      "text/plain": [
       "png \n",
       "  2 "
      ]
     },
     "metadata": {},
     "output_type": "display_data"
    }
   ],
   "source": [
    "png(\"Img/CMASK/scene_type_vs_b9.png\", width=728, height=728, units=\"px\")\n",
    "    boxplot(I(b9^0.5) ~ scene+t, data=points, ylab='sqrt(b9)')\n",
    "dev.off()"
   ]
  },
  {
   "cell_type": "markdown",
   "metadata": {},
   "source": [
    "<img src=\"https://176.9.38.120/cruncher/files/deforestation/Img/CMASK/scene_type_vs_b9.png\">"
   ]
  },
  {
   "cell_type": "markdown",
   "metadata": {},
   "source": [
    "#### Канал B10\n",
    "\n",
    "Аналогичная проблема облачных пикселей и в 10-м канале: от сцены зависит больше, чем от типа объекта, особенно ярко это проявляется для облаков."
   ]
  },
  {
   "cell_type": "code",
   "execution_count": 15,
   "metadata": {
    "collapsed": false
   },
   "outputs": [
    {
     "data": {
      "text/html": [
       "<strong>png:</strong> 2"
      ],
      "text/latex": [
       "\\textbf{png:} 2"
      ],
      "text/markdown": [
       "**png:** 2"
      ],
      "text/plain": [
       "png \n",
       "  2 "
      ]
     },
     "metadata": {},
     "output_type": "display_data"
    }
   ],
   "source": [
    "png(\"Img/CMASK/scene_type_vs_b10.png\", width=728, height=728, units=\"px\")\n",
    "    boxplot(b10 ~ scene+t, data=points, ylab='b10')\n",
    "dev.off()"
   ]
  },
  {
   "cell_type": "markdown",
   "metadata": {},
   "source": [
    "<img src=\"https://176.9.38.120/cruncher/files/deforestation/Img/CMASK/scene_type_vs_b10.png\">"
   ]
  },
  {
   "cell_type": "markdown",
   "metadata": {},
   "source": [
    "#### Канал B11\n",
    "\n",
    "Та же самая проблема: от сцены зависит больше, чем от типа объекта."
   ]
  },
  {
   "cell_type": "code",
   "execution_count": 16,
   "metadata": {
    "collapsed": false
   },
   "outputs": [
    {
     "data": {
      "text/html": [
       "<strong>png:</strong> 2"
      ],
      "text/latex": [
       "\\textbf{png:} 2"
      ],
      "text/markdown": [
       "**png:** 2"
      ],
      "text/plain": [
       "png \n",
       "  2 "
      ]
     },
     "metadata": {},
     "output_type": "display_data"
    }
   ],
   "source": [
    "png(\"Img/CMASK/scene_type_vs_b11.png\", width=728, height=728, units=\"px\")\n",
    "    boxplot(b11 ~ scene+t, data=points, ylab='b11')\n",
    "dev.off()"
   ]
  },
  {
   "cell_type": "markdown",
   "metadata": {},
   "source": [
    "<img src=\"https://176.9.38.120/cruncher/files/deforestation/Img/CMASK/scene_type_vs_b11.png\">"
   ]
  },
  {
   "cell_type": "markdown",
   "metadata": {},
   "source": [
    "### Вывод\n",
    "\n",
    " * Для различения облаков и снега, видимо, необходимо использовать каналы 1--7. В каналах 9--11 также содержится полезная информация, но воспользоваться ей будет сложнее из-за большей вариативности из-за условий съемки.\n",
    " * Каналы 1--5 и каналы 6--7 образуют две группы переменных. Переменные в каждой группе ведут себя схожим образом (поведение каналов 1--5 очень похоже между собой для выбранных классов; аналогично с каналами 6 и 7). Поскольку многие методы очень чувствительны к корреляции объясняющих переменных, то есть смысл подумать о том, чтобы выбрать по одному каналу из каждой группы. Возможно такое уменьшение числа переменных (но и корреляции между ними) даст положительный эффект на точность распознавания."
   ]
  },
  {
   "cell_type": "markdown",
   "metadata": {},
   "source": [
    "## Простая модель"
   ]
  },
  {
   "cell_type": "markdown",
   "metadata": {},
   "source": [
    "В этом разделе построим простейшую модель на основе логистической регрессии и посмотрим, насколько она решает задачу разделения интересующих нас объектов. Пойдем по следующей схеме работы:\n",
    "\n",
    "1. Предварительный выбор объясняющих переменных. Объясняющих переменных (каналов, в нашем случае) много, но они сильно коррелируют между собой. Для большей устойчивости решения выберем несколько переменных, остальные пока проигнорируем (на следующем этапе оценим правильность выбора переменных).\n",
    "2. Создание фиктивных переменных. Поскольку у нас выделено три объекта (класс \"все остальное\" назовем условно одним объектом), и они не упорядочены, то нам понадобится создать фиктивные переменные, которые мы будем использовать.\n",
    "3. Построение моделей, отражающих связь между объясняющими переменными и зависимыми.\n",
    "4. Исследуем модели, проверив, выполняются ли условия, на которые опирается процедура построения логистической регрессии.\n",
    "5. Посмотрим, насколько изменится качество модели, если выбрать другой набор объясняющих переменных."
   ]
  },
  {
   "cell_type": "markdown",
   "metadata": {},
   "source": [
    "### Предварительный выбор объясняющих переменных"
   ]
  },
  {
   "cell_type": "markdown",
   "metadata": {},
   "source": [
    "Посмотрим еще раз на взаимную корреляциию объясняющих переменных (для ускорения отрисовки сделаем небольшую подвыборку данных). "
   ]
  },
  {
   "cell_type": "code",
   "execution_count": 17,
   "metadata": {
    "collapsed": false
   },
   "outputs": [
    {
     "data": {
      "text/html": [
       "<strong>png:</strong> 2"
      ],
      "text/latex": [
       "\\textbf{png:} 2"
      ],
      "text/markdown": [
       "**png:** 2"
      ],
      "text/plain": [
       "png \n",
       "  2 "
      ]
     },
     "metadata": {},
     "output_type": "display_data"
    }
   ],
   "source": [
    "psample_ind = sample(1:length(points[, 1]), size=500)\n",
    "psample = points[psample_ind, ]\n",
    "\n",
    "png(\"Img/CMASK/all_bands.png\", width=728, height=728, units=\"px\")\n",
    "  pairs(~log(b1)+log(b2)+log(b3)+log(b4)+log(b5)+log(b6)+log(b7)+sqrt(b9)+b10+b11, data=psample, pch=19, cex=0.1) \n",
    "dev.off()"
   ]
  },
  {
   "cell_type": "markdown",
   "metadata": {},
   "source": [
    "<img src=\"https://176.9.38.120/cruncher/files/deforestation/Img/CMASK/all_bands.png\">\n",
    "\n",
    "Итак, мы видим, что очень сильна корреляция между 6-м и 7-м каналами, затем между 10-м и 11-м каналами, а также между 1-м, 2-м, 3-м и 4-м каналами, на эти 4 канала довольно похож 5-й, но все-таки, видимо, его следует выделить в отдельную группу. Ту же самую картину мы увидим, если расчитаем коэффициент корреляции между этими переменными:"
   ]
  },
  {
   "cell_type": "code",
   "execution_count": 18,
   "metadata": {
    "collapsed": false
   },
   "outputs": [
    {
     "data": {
      "text/html": [
       "<table>\n",
       "<thead><tr><th></th><th scope=col>log.points.b1.</th><th scope=col>log.points.b2.</th><th scope=col>log.points.b3.</th><th scope=col>log.points.b4.</th><th scope=col>log.points.b5.</th><th scope=col>log.points.b6.</th><th scope=col>log.points.b7.</th><th scope=col>sqrt.points.b9...0.001.</th><th scope=col>points.b10</th><th scope=col>points.b11</th></tr></thead>\n",
       "<tbody>\n",
       "\t<tr><th scope=row>log.points.b1.</th><td>1.00000000</td><td>0.99643789</td><td>0.97640161</td><td>0.95345085</td><td>0.77579622</td><td>0.56200970</td><td>0.62302423</td><td>0.29965771</td><td>0.01198254</td><td>0.02497259</td></tr>\n",
       "\t<tr><th scope=row>log.points.b2.</th><td>0.99643789</td><td>1.00000000</td><td>0.99004006</td><td>0.97379873</td><td>0.81480322</td><td>0.60138721</td><td>0.66103290</td><td>0.30740683</td><td>0.01602131</td><td>0.02772187</td></tr>\n",
       "\t<tr><th scope=row>log.points.b3.</th><td>0.97640161</td><td>0.99004006</td><td>1.00000000</td><td>0.99516799</td><td>0.87531299</td><td>0.66887306</td><td>0.72502000</td><td>0.32957672</td><td>0.03250685</td><td>0.03846292</td></tr>\n",
       "\t<tr><th scope=row>log.points.b4.</th><td>0.95345085</td><td>0.97379873</td><td>0.99516799</td><td>1.00000000</td><td>0.90528235</td><td>0.71371878</td><td>0.76711295</td><td>0.32894256</td><td>0.04238753</td><td>0.04732758</td></tr>\n",
       "\t<tr><th scope=row>log.points.b5.</th><td>0.7757962</td><td>0.8148032</td><td>0.8753130</td><td>0.9052823</td><td>1.0000000</td><td>0.8443377</td><td>0.8717325</td><td>0.3428986</td><td>0.1084754</td><td>0.1026983</td></tr>\n",
       "\t<tr><th scope=row>log.points.b6.</th><td>0.56200970</td><td>0.60138721</td><td>0.66887306</td><td>0.71371878</td><td>0.84433771</td><td>1.00000000</td><td>0.99188780</td><td>0.44287939</td><td>0.08266380</td><td>0.06304586</td></tr>\n",
       "\t<tr><th scope=row>log.points.b7.</th><td>0.62302423</td><td>0.66103290</td><td>0.72502000</td><td>0.76711295</td><td>0.87173245</td><td>0.99188780</td><td>1.00000000</td><td>0.44975283</td><td>0.05640044</td><td>0.03886842</td></tr>\n",
       "\t<tr><th scope=row>sqrt.points.b9...0.001.</th><td> 0.2996577</td><td> 0.3074068</td><td> 0.3295767</td><td> 0.3289426</td><td> 0.3428986</td><td> 0.4428794</td><td> 0.4497528</td><td> 1.0000000</td><td>-0.3242166</td><td>-0.4123782</td></tr>\n",
       "\t<tr><th scope=row>points.b10</th><td> 0.01198254</td><td> 0.01602131</td><td> 0.03250685</td><td> 0.04238753</td><td> 0.10847537</td><td> 0.08266380</td><td> 0.05640044</td><td>-0.32421662</td><td> 1.00000000</td><td> 0.98045369</td></tr>\n",
       "\t<tr><th scope=row>points.b11</th><td> 0.02497259</td><td> 0.02772187</td><td> 0.03846292</td><td> 0.04732758</td><td> 0.10269832</td><td> 0.06304586</td><td> 0.03886842</td><td>-0.41237817</td><td> 0.98045369</td><td> 1.00000000</td></tr>\n",
       "</tbody>\n",
       "</table>\n"
      ],
      "text/latex": [
       "\\begin{tabular}{r|llllllllll}\n",
       "  & log.points.b1. & log.points.b2. & log.points.b3. & log.points.b4. & log.points.b5. & log.points.b6. & log.points.b7. & sqrt.points.b9...0.001. & points.b10 & points.b11\\\\\n",
       "\\hline\n",
       "\tlog.points.b1. & 1.00000000 & 0.99643789 & 0.97640161 & 0.95345085 & 0.77579622 & 0.56200970 & 0.62302423 & 0.29965771 & 0.01198254 & 0.02497259\\\\\n",
       "\tlog.points.b2. & 0.99643789 & 1.00000000 & 0.99004006 & 0.97379873 & 0.81480322 & 0.60138721 & 0.66103290 & 0.30740683 & 0.01602131 & 0.02772187\\\\\n",
       "\tlog.points.b3. & 0.97640161 & 0.99004006 & 1.00000000 & 0.99516799 & 0.87531299 & 0.66887306 & 0.72502000 & 0.32957672 & 0.03250685 & 0.03846292\\\\\n",
       "\tlog.points.b4. & 0.95345085 & 0.97379873 & 0.99516799 & 1.00000000 & 0.90528235 & 0.71371878 & 0.76711295 & 0.32894256 & 0.04238753 & 0.04732758\\\\\n",
       "\tlog.points.b5. & 0.7757962 & 0.8148032 & 0.8753130 & 0.9052823 & 1.0000000 & 0.8443377 & 0.8717325 & 0.3428986 & 0.1084754 & 0.1026983\\\\\n",
       "\tlog.points.b6. & 0.56200970 & 0.60138721 & 0.66887306 & 0.71371878 & 0.84433771 & 1.00000000 & 0.99188780 & 0.44287939 & 0.08266380 & 0.06304586\\\\\n",
       "\tlog.points.b7. & 0.62302423 & 0.66103290 & 0.72502000 & 0.76711295 & 0.87173245 & 0.99188780 & 1.00000000 & 0.44975283 & 0.05640044 & 0.03886842\\\\\n",
       "\tsqrt.points.b9...0.001. &  0.2996577 &  0.3074068 &  0.3295767 &  0.3289426 &  0.3428986 &  0.4428794 &  0.4497528 &  1.0000000 & -0.3242166 & -0.4123782\\\\\n",
       "\tpoints.b10 &  0.01198254 &  0.01602131 &  0.03250685 &  0.04238753 &  0.10847537 &  0.08266380 &  0.05640044 & -0.32421662 &  1.00000000 &  0.98045369\\\\\n",
       "\tpoints.b11 &  0.02497259 &  0.02772187 &  0.03846292 &  0.04732758 &  0.10269832 &  0.06304586 &  0.03886842 & -0.41237817 &  0.98045369 &  1.00000000\\\\\n",
       "\\end{tabular}\n"
      ],
      "text/markdown": [
       "1. 1\n",
       "2. 0.996437886650905\n",
       "3. 0.976401605105503\n",
       "4. 0.953450853876443\n",
       "5. 0.775796222915959\n",
       "6. 0.562009697179605\n",
       "7. 0.623024234480269\n",
       "8. 0.299657709859052\n",
       "9. 0.0119825356248786\n",
       "10. 0.024972586289897\n",
       "11. 0.996437886650905\n",
       "12. 1\n",
       "13. 0.990040058879812\n",
       "14. 0.973798726935459\n",
       "15. 0.814803218530026\n",
       "16. 0.601387213565488\n",
       "17. 0.661032895862415\n",
       "18. 0.307406830619578\n",
       "19. 0.0160213117370027\n",
       "20. 0.0277218663066616\n",
       "21. 0.976401605105503\n",
       "22. 0.990040058879812\n",
       "23. 1\n",
       "24. 0.995167985972503\n",
       "25. 0.87531298902371\n",
       "26. 0.668873064025037\n",
       "27. 0.725019999044484\n",
       "28. 0.329576717543431\n",
       "29. 0.0325068523708487\n",
       "30. 0.0384629151831027\n",
       "31. 0.953450853876443\n",
       "32. 0.973798726935459\n",
       "33. 0.995167985972503\n",
       "34. 1\n",
       "35. 0.905282347655729\n",
       "36. 0.713718778020536\n",
       "37. 0.767112948871196\n",
       "38. 0.328942556769787\n",
       "39. 0.0423875318255715\n",
       "40. 0.0473275776002085\n",
       "41. 0.775796222915959\n",
       "42. 0.814803218530026\n",
       "43. 0.87531298902371\n",
       "44. 0.905282347655729\n",
       "45. 1\n",
       "46. 0.844337712703935\n",
       "47. 0.871732454525606\n",
       "48. 0.342898572343585\n",
       "49. 0.108475374289212\n",
       "50. 0.10269831801555\n",
       "51. 0.562009697179605\n",
       "52. 0.601387213565488\n",
       "53. 0.668873064025037\n",
       "54. 0.713718778020536\n",
       "55. 0.844337712703935\n",
       "56. 1\n",
       "57. 0.991887803004992\n",
       "58. 0.442879385641016\n",
       "59. 0.0826637982205459\n",
       "60. 0.0630458561570635\n",
       "61. 0.623024234480269\n",
       "62. 0.661032895862415\n",
       "63. 0.725019999044484\n",
       "64. 0.767112948871196\n",
       "65. 0.871732454525606\n",
       "66. 0.991887803004992\n",
       "67. 1\n",
       "68. 0.44975282696785\n",
       "69. 0.056400437610034\n",
       "70. 0.0388684218449842\n",
       "71. 0.299657709859052\n",
       "72. 0.307406830619578\n",
       "73. 0.329576717543431\n",
       "74. 0.328942556769787\n",
       "75. 0.342898572343585\n",
       "76. 0.442879385641016\n",
       "77. 0.44975282696785\n",
       "78. 1\n",
       "79. -0.324216618410855\n",
       "80. -0.412378170169657\n",
       "81. 0.0119825356248786\n",
       "82. 0.0160213117370027\n",
       "83. 0.0325068523708487\n",
       "84. 0.0423875318255715\n",
       "85. 0.108475374289212\n",
       "86. 0.0826637982205459\n",
       "87. 0.056400437610034\n",
       "88. -0.324216618410855\n",
       "89. 1\n",
       "90. 0.980453688977778\n",
       "91. 0.024972586289897\n",
       "92. 0.0277218663066616\n",
       "93. 0.0384629151831027\n",
       "94. 0.0473275776002085\n",
       "95. 0.10269831801555\n",
       "96. 0.0630458561570635\n",
       "97. 0.0388684218449842\n",
       "98. -0.412378170169657\n",
       "99. 0.980453688977778\n",
       "100. 1\n",
       "\n",
       "\n"
      ],
      "text/plain": [
       "                        log.points.b1. log.points.b2. log.points.b3.\n",
       "log.points.b1.              1.00000000     0.99643789     0.97640161\n",
       "log.points.b2.              0.99643789     1.00000000     0.99004006\n",
       "log.points.b3.              0.97640161     0.99004006     1.00000000\n",
       "log.points.b4.              0.95345085     0.97379873     0.99516799\n",
       "log.points.b5.              0.77579622     0.81480322     0.87531299\n",
       "log.points.b6.              0.56200970     0.60138721     0.66887306\n",
       "log.points.b7.              0.62302423     0.66103290     0.72502000\n",
       "sqrt.points.b9...0.001.     0.29965771     0.30740683     0.32957672\n",
       "points.b10                  0.01198254     0.01602131     0.03250685\n",
       "points.b11                  0.02497259     0.02772187     0.03846292\n",
       "                        log.points.b4. log.points.b5. log.points.b6.\n",
       "log.points.b1.              0.95345085      0.7757962     0.56200970\n",
       "log.points.b2.              0.97379873      0.8148032     0.60138721\n",
       "log.points.b3.              0.99516799      0.8753130     0.66887306\n",
       "log.points.b4.              1.00000000      0.9052823     0.71371878\n",
       "log.points.b5.              0.90528235      1.0000000     0.84433771\n",
       "log.points.b6.              0.71371878      0.8443377     1.00000000\n",
       "log.points.b7.              0.76711295      0.8717325     0.99188780\n",
       "sqrt.points.b9...0.001.     0.32894256      0.3428986     0.44287939\n",
       "points.b10                  0.04238753      0.1084754     0.08266380\n",
       "points.b11                  0.04732758      0.1026983     0.06304586\n",
       "                        log.points.b7. sqrt.points.b9...0.001.  points.b10\n",
       "log.points.b1.              0.62302423               0.2996577  0.01198254\n",
       "log.points.b2.              0.66103290               0.3074068  0.01602131\n",
       "log.points.b3.              0.72502000               0.3295767  0.03250685\n",
       "log.points.b4.              0.76711295               0.3289426  0.04238753\n",
       "log.points.b5.              0.87173245               0.3428986  0.10847537\n",
       "log.points.b6.              0.99188780               0.4428794  0.08266380\n",
       "log.points.b7.              1.00000000               0.4497528  0.05640044\n",
       "sqrt.points.b9...0.001.     0.44975283               1.0000000 -0.32421662\n",
       "points.b10                  0.05640044              -0.3242166  1.00000000\n",
       "points.b11                  0.03886842              -0.4123782  0.98045369\n",
       "                         points.b11\n",
       "log.points.b1.           0.02497259\n",
       "log.points.b2.           0.02772187\n",
       "log.points.b3.           0.03846292\n",
       "log.points.b4.           0.04732758\n",
       "log.points.b5.           0.10269832\n",
       "log.points.b6.           0.06304586\n",
       "log.points.b7.           0.03886842\n",
       "sqrt.points.b9...0.001. -0.41237817\n",
       "points.b10               0.98045369\n",
       "points.b11               1.00000000"
      ]
     },
     "metadata": {},
     "output_type": "display_data"
    }
   ],
   "source": [
    "cor(data.frame(log(points$b1), log(points$b2), log(points$b3), log(points$b4), log(points$b5),\n",
    "    log(points$b6), log(points$b7), sqrt(points$b9+0.001), points$b10, points$b11))"
   ]
  },
  {
   "cell_type": "markdown",
   "metadata": {},
   "source": [
    "### Фиктивные переменные"
   ]
  },
  {
   "cell_type": "markdown",
   "metadata": {},
   "source": [
    "Возможно, есть хороший способ создания фиткивных переменных вместо одной зависимой переменной, но я на него не наткнулся, поэтому всю процедуру сделаю руками: введу три новых переменных answ1, answ2, answ3 которые будут кодировать тот факт, что пиксель принадлежит облачному, снежному или иному участку снимка соответственно. Для этого создам новый набор данных, в котором будут содержаться только интересующие нас переменные."
   ]
  },
  {
   "cell_type": "code",
   "execution_count": 19,
   "metadata": {
    "collapsed": true
   },
   "outputs": [],
   "source": [
    "pdata = data.frame(answ1=(points$t=='Cloud'), answ2=(points$t=='Snow'), answ3=(points$t=='Other'), \n",
    "                   b1=points$b1, b5=points$b5, b7=points$b7)"
   ]
  },
  {
   "cell_type": "markdown",
   "metadata": {},
   "source": [
    "### Построение моделей"
   ]
  },
  {
   "cell_type": "markdown",
   "metadata": {},
   "source": [
    "Построим три модели (по числу фиктивных переменных) на базе логистической регрессии."
   ]
  },
  {
   "cell_type": "code",
   "execution_count": 20,
   "metadata": {
    "collapsed": false
   },
   "outputs": [
    {
     "name": "stderr",
     "output_type": "stream",
     "text": [
      "Warning message:\n",
      ": glm.fit: fitted probabilities numerically 0 or 1 occurredWarning message:\n",
      ": glm.fit: fitted probabilities numerically 0 or 1 occurred"
     ]
    }
   ],
   "source": [
    "simple.glm1 = glm(answ1~log(b1)+log(b5)+log(b7), data=pdata, family='binomial')\n",
    "simple.glm2 = glm(answ2~log(b1)+log(b5)+log(b7), data=pdata, family='binomial')\n",
    "simple.glm3 = glm(answ3~log(b1)+log(b5)+log(b7), data=pdata, family='binomial')"
   ]
  },
  {
   "cell_type": "markdown",
   "metadata": {},
   "source": [
    "Выпали предупрежедения о том, что вероятности очень близки к 1 или 0. Это не очень хороший знак. Будем разбираться дальше."
   ]
  },
  {
   "cell_type": "code",
   "execution_count": 21,
   "metadata": {
    "collapsed": false
   },
   "outputs": [
    {
     "data": {
      "text/plain": [
       "\n",
       "Call:\n",
       "glm(formula = answ1 ~ log(b1) + log(b5) + log(b7), family = \"binomial\", \n",
       "    data = pdata)\n",
       "\n",
       "Deviance Residuals: \n",
       "    Min       1Q   Median       3Q      Max  \n",
       "-3.5716  -0.0112  -0.0024  -0.0003   4.5273  \n",
       "\n",
       "Coefficients:\n",
       "            Estimate Std. Error z value Pr(>|z|)    \n",
       "(Intercept)  22.9042     0.7465  30.683  < 2e-16 ***\n",
       "log(b1)       4.0425     0.6865   5.888  3.9e-09 ***\n",
       "log(b5)      -9.3558     0.5574 -16.784  < 2e-16 ***\n",
       "log(b7)      14.7126     0.4827  30.477  < 2e-16 ***\n",
       "---\n",
       "Signif. codes:  0 ‘***’ 0.001 ‘**’ 0.01 ‘*’ 0.05 ‘.’ 0.1 ‘ ’ 1\n",
       "\n",
       "(Dispersion parameter for binomial family taken to be 1)\n",
       "\n",
       "    Null deviance: 14053.6  on 50538  degrees of freedom\n",
       "Residual deviance:  1461.2  on 50535  degrees of freedom\n",
       "AIC: 1469.2\n",
       "\n",
       "Number of Fisher Scoring iterations: 11\n"
      ]
     },
     "metadata": {},
     "output_type": "display_data"
    }
   ],
   "source": [
    "summary(simple.glm1)"
   ]
  },
  {
   "cell_type": "code",
   "execution_count": 22,
   "metadata": {
    "collapsed": false
   },
   "outputs": [
    {
     "data": {
      "text/plain": [
       "\n",
       "Call:\n",
       "glm(formula = answ2 ~ log(b1) + log(b5) + log(b7), family = \"binomial\", \n",
       "    data = pdata)\n",
       "\n",
       "Deviance Residuals: \n",
       "    Min       1Q   Median       3Q      Max  \n",
       "-3.8715  -0.0743  -0.0243  -0.0073   3.3855  \n",
       "\n",
       "Coefficients:\n",
       "            Estimate Std. Error z value Pr(>|z|)    \n",
       "(Intercept)   3.0938     0.1986   15.58   <2e-16 ***\n",
       "log(b1)       6.6087     0.2064   32.01   <2e-16 ***\n",
       "log(b5)       7.9575     0.1998   39.82   <2e-16 ***\n",
       "log(b7)      -3.8843     0.1096  -35.45   <2e-16 ***\n",
       "---\n",
       "Signif. codes:  0 ‘***’ 0.001 ‘**’ 0.01 ‘*’ 0.05 ‘.’ 0.1 ‘ ’ 1\n",
       "\n",
       "(Dispersion parameter for binomial family taken to be 1)\n",
       "\n",
       "    Null deviance: 26183.7  on 50538  degrees of freedom\n",
       "Residual deviance:  6011.9  on 50535  degrees of freedom\n",
       "AIC: 6019.9\n",
       "\n",
       "Number of Fisher Scoring iterations: 9\n"
      ]
     },
     "metadata": {},
     "output_type": "display_data"
    }
   ],
   "source": [
    "summary(simple.glm2)"
   ]
  },
  {
   "cell_type": "code",
   "execution_count": 23,
   "metadata": {
    "collapsed": false
   },
   "outputs": [
    {
     "data": {
      "text/plain": [
       "\n",
       "Call:\n",
       "glm(formula = answ3 ~ log(b1) + log(b5) + log(b7), family = \"binomial\", \n",
       "    data = pdata)\n",
       "\n",
       "Deviance Residuals: \n",
       "    Min       1Q   Median       3Q      Max  \n",
       "-4.5720   0.0006   0.0059   0.0364   4.3836  \n",
       "\n",
       "Coefficients:\n",
       "            Estimate Std. Error z value Pr(>|z|)    \n",
       "(Intercept) -24.9639     0.4746 -52.602   <2e-16 ***\n",
       "log(b1)     -13.3866     0.3108 -43.071   <2e-16 ***\n",
       "log(b5)      -1.5586     0.1703  -9.154   <2e-16 ***\n",
       "log(b7)      -4.1086     0.1225 -33.546   <2e-16 ***\n",
       "---\n",
       "Signif. codes:  0 ‘***’ 0.001 ‘**’ 0.01 ‘*’ 0.05 ‘.’ 0.1 ‘ ’ 1\n",
       "\n",
       "(Dispersion parameter for binomial family taken to be 1)\n",
       "\n",
       "    Null deviance: 33595.6  on 50538  degrees of freedom\n",
       "Residual deviance:  5664.6  on 50535  degrees of freedom\n",
       "AIC: 5672.6\n",
       "\n",
       "Number of Fisher Scoring iterations: 9\n"
      ]
     },
     "metadata": {},
     "output_type": "display_data"
    }
   ],
   "source": [
    "summary(simple.glm3)"
   ]
  },
  {
   "cell_type": "code",
   "execution_count": 24,
   "metadata": {
    "collapsed": false
   },
   "outputs": [
    {
     "data": {
      "text/plain": [
       "     Min.   1st Qu.    Median      Mean   3rd Qu.      Max. \n",
       "0.0000000 0.0000001 0.0000043 0.0312400 0.0000968 1.0000000 "
      ]
     },
     "metadata": {},
     "output_type": "display_data"
    }
   ],
   "source": [
    "summary(simple.glm1$fitted.values)"
   ]
  },
  {
   "cell_type": "code",
   "execution_count": null,
   "metadata": {
    "collapsed": true
   },
   "outputs": [],
   "source": []
  }
 ],
 "metadata": {
  "kernelspec": {
   "display_name": "R",
   "language": "R",
   "name": "ir"
  },
  "language_info": {
   "codemirror_mode": "r",
   "file_extension": ".r",
   "mimetype": "text/x-r-source",
   "name": "R",
   "pygments_lexer": "r",
   "version": "3.0.2"
  }
 },
 "nbformat": 4,
 "nbformat_minor": 0
}
