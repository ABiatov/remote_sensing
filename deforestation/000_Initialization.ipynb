{
 "cells": [
  {
   "cell_type": "markdown",
   "metadata": {
    "deletable": true,
    "editable": true
   },
   "source": [
    "# Поиск вырубок. Инициализация."
   ]
  },
  {
   "cell_type": "markdown",
   "metadata": {
    "deletable": true,
    "editable": true
   },
   "source": [
    "Описывается инициализация данных. Основные моменты:\n",
    "\n",
    "1. Основное хранилище данных - GRASS GIS.\n",
    "2. В БД GRASS [импортируются растры](#import_landsat) Landsat 8.\n",
    "  * Для каждой сцены [производится расчет](#scene_import) отражательной способности (i.landsat.toar).\n",
    "3. В БД GRASS [импортируются композиты](#import_landsat_composites) Landsat 8, созданные на базе медианы зимних снимков (три комозита за 15-й, 16-й и 17-й года).\n",
    "4. [Импортируются растры](#import_planet) PlanetLabs (без расчета ToAR).\n",
    "5. [Импортированы контура](#import_train) рубок за летний период 15-го года и зимний периоды 2015-2016гг.\n",
    "6. [Импортирован слой лесов](#import_forest2000) за 2000 г.(на основе данных https://earthenginepartners.appspot.com/science-2013-global-forest/download_v1.2.html).\n",
    "7. [Импортируются UMD-Alarm](#import_alarm).\n",
    "\n",
    "(Импорт STRM описывается в [отдельном документе](006_TopoCorrection.ipynb), посвященном топографической коррекции)"
   ]
  },
  {
   "cell_type": "markdown",
   "metadata": {
    "deletable": true,
    "editable": true
   },
   "source": [
    "## Вспомогательные функции и модули"
   ]
  },
  {
   "cell_type": "markdown",
   "metadata": {
    "deletable": true,
    "editable": true
   },
   "source": [
    "Импортируем вспомогательные модули."
   ]
  },
  {
   "cell_type": "code",
   "execution_count": null,
   "metadata": {
    "collapsed": false,
    "deletable": true,
    "editable": true
   },
   "outputs": [],
   "source": [
    "import os\n",
    "import glob\n",
    "import tempfile\n",
    "import shutil\n",
    "import datetime\n",
    "\n",
    "import utilites\n",
    "reload(utilites)"
   ]
  },
  {
   "cell_type": "markdown",
   "metadata": {
    "deletable": true,
    "editable": true
   },
   "source": [
    "Импортируем функции для выполнения рутинных действий."
   ]
  },
  {
   "cell_type": "markdown",
   "metadata": {
    "deletable": true,
    "editable": true
   },
   "source": [
    "Функция распаковки архивов. Параметры: data_file -- архив, extract_dir -- каталог, в который производится распаковка."
   ]
  },
  {
   "cell_type": "code",
   "execution_count": null,
   "metadata": {
    "collapsed": false,
    "deletable": true,
    "editable": true
   },
   "outputs": [],
   "source": [
    "from utilites import unpack"
   ]
  },
  {
   "cell_type": "markdown",
   "metadata": {
    "deletable": true,
    "editable": true
   },
   "source": [
    "Функции, чтобы не запутаться в том, как формируется название location (будут использоваться в разных местах кода):"
   ]
  },
  {
   "cell_type": "code",
   "execution_count": null,
   "metadata": {
    "collapsed": false,
    "deletable": true,
    "editable": true
   },
   "outputs": [],
   "source": [
    "from utilites import (\n",
    "    get_gisbase_path,\n",
    "    get_grassdata_path,\n",
    "    get_location_name,\n",
    "    get_ll_location_name,\n",
    "    get_location_path,\n",
    ")\n",
    "\n",
    "print get_location_path()"
   ]
  },
  {
   "cell_type": "markdown",
   "metadata": {
    "deletable": true,
    "editable": true
   },
   "source": [
    "Функции для работы с файлами сцены:"
   ]
  },
  {
   "cell_type": "code",
   "execution_count": null,
   "metadata": {
    "collapsed": true,
    "deletable": true,
    "editable": true
   },
   "outputs": [],
   "source": [
    "from utilites import (\n",
    "    filename_to_bandname,\n",
    "    get_raster_list,\n",
    "    find_meta\n",
    ")"
   ]
  },
  {
   "cell_type": "markdown",
   "metadata": {
    "deletable": true,
    "editable": true
   },
   "source": [
    "## Импорт данных"
   ]
  },
  {
   "cell_type": "markdown",
   "metadata": {
    "deletable": true,
    "editable": true
   },
   "source": [
    "Сначала создадим объект GRASS, через который будем выполнять запросы."
   ]
  },
  {
   "cell_type": "code",
   "execution_count": null,
   "metadata": {
    "collapsed": true
   },
   "outputs": [],
   "source": [
    "from grasslib import GRASS"
   ]
  },
  {
   "cell_type": "code",
   "execution_count": null,
   "metadata": {
    "collapsed": false,
    "deletable": true,
    "editable": true
   },
   "outputs": [],
   "source": [
    "grs = GRASS(gisbase=get_gisbase_path(), \n",
    "            dbase=get_grassdata_path(), \n",
    "            location=get_location_name()\n",
    ")"
   ]
  },
  {
   "cell_type": "markdown",
   "metadata": {
    "deletable": true,
    "editable": true
   },
   "source": [
    "### Импорт Landsat<a id='import_landsat'></a>"
   ]
  },
  {
   "cell_type": "markdown",
   "metadata": {
    "deletable": true,
    "editable": true
   },
   "source": [
    "Пусть сцены лежат в подкаталоге Data домашнего каталога. Создадим переменную SCENE_DIR, храняющую пути к этому каталогу:"
   ]
  },
  {
   "cell_type": "code",
   "execution_count": null,
   "metadata": {
    "collapsed": false,
    "deletable": true,
    "editable": true
   },
   "outputs": [],
   "source": [
    "HOME_DIR = os.getenv(\"HOME\")\n",
    "SCENE_DIR = os.path.join(HOME_DIR, 'Data', 'LANDSAT', 'Winter')\n",
    "\n",
    "print SCENE_DIR"
   ]
  },
  {
   "cell_type": "markdown",
   "metadata": {
    "deletable": true,
    "editable": true
   },
   "source": [
    "Получим список сцен:"
   ]
  },
  {
   "cell_type": "code",
   "execution_count": null,
   "metadata": {
    "collapsed": false,
    "deletable": true,
    "editable": true
   },
   "outputs": [],
   "source": [
    "scenes = glob.glob(os.path.join(SCENE_DIR, '*gz'))\n",
    "\n",
    "print scenes"
   ]
  },
  {
   "cell_type": "markdown",
   "metadata": {
    "deletable": true,
    "editable": true
   },
   "source": [
    "#### Создание БД GRASS <a id='create_location'></a>"
   ]
  },
  {
   "cell_type": "markdown",
   "metadata": {
    "deletable": true,
    "editable": true
   },
   "source": [
    "Если область GRASS для работы уже создана, можно сразу переходить к [импорту сцен](#scene_import). Если нет -- создадим в домашнем каталоге каталог GRASSDATA и внутри него LOCATION для хранения сцен. Для этого распакуем во временный каталог первую сцену, прочитаем из нее геоданные и создадим соответствующий LOCATION."
   ]
  },
  {
   "cell_type": "code",
   "execution_count": null,
   "metadata": {
    "collapsed": false,
    "deletable": true,
    "editable": true
   },
   "outputs": [],
   "source": [
    "scene = scenes[0]\n",
    "location = get_location_path()\n",
    "\n",
    "try:\n",
    "    temp_dir = tempfile.mkdtemp()\n",
    "    print temp_dir\n",
    "    if unpack(scene, temp_dir):\n",
    "        print 'Unpacked'\n",
    "    else:\n",
    "        print \"Can't unpack scene\"\n",
    "    \n",
    "    # Возьмем первый попавшийся канал и прочитаем из него геоданные\n",
    "    file_list = get_raster_list(temp_dir)\n",
    "    geofile = os.path.join(temp_dir, file_list[0])\n",
    "    print geofile\n",
    "    \n",
    "    cmd = 'grass70 -text -e -c %s %s' % (geofile, location)\n",
    "    print cmd\n",
    "    \n",
    "    exitcode = os.system(cmd)\n",
    "    if exitcode != 0:\n",
    "        print \"Can't create location\"\n",
    "finally:\n",
    "    shutil.rmtree(temp_dir)\n",
    "    print 'Removed'\n"
   ]
  },
  {
   "cell_type": "markdown",
   "metadata": {
    "deletable": true,
    "editable": true
   },
   "source": [
    "### MAPSET"
   ]
  },
  {
   "cell_type": "markdown",
   "metadata": {
    "deletable": true,
    "editable": true
   },
   "source": [
    "Поскольку у на с данные из разных источников, удобнее их хранить в различных MAPSET:\n",
    " * landsat\n",
    " * planet"
   ]
  },
  {
   "cell_type": "code",
   "execution_count": null,
   "metadata": {
    "collapsed": false,
    "deletable": true,
    "editable": true
   },
   "outputs": [],
   "source": [
    "grs.grass.run_command('g.mapset', mapset='landsat', flags='c')\n",
    "grs.grass.run_command('g.mapset', mapset='planet', flags='c')\n",
    "grs.grass.run_command('g.mapset', mapset='basemaps', flags='c')"
   ]
  },
  {
   "cell_type": "markdown",
   "metadata": {
    "deletable": true,
    "editable": true
   },
   "source": [
    "#### Импорт сцен <a id='scene_import'></a>"
   ]
  },
  {
   "cell_type": "markdown",
   "metadata": {
    "deletable": true,
    "editable": true
   },
   "source": [
    "Импортируем сцены и рассчитаем спектральную отражательную способность (ToAR Reflectance):\n",
    "\n",
    "1. Распаковываем сцену во временный каталог.\n",
    "2. Импортируем каналы сцены.\n",
    "3. Устанавливаем значения null (нет данных).\n",
    "4. Рассчитываем отражательную способность.\n",
    "5. i.landsat.toar может генерировать значения яркостей пикселей, выходящие за допустимый диапазон [0, 1]. Это происходит из-за неточных параметров в метаданных. Пробежимся по всем созданным растрам и отсечем то, что выходит из допустимых пределов.\n",
    "6. Создадим временной штамп\n",
    "7. Прописываем другие метаданные (угол Солнца и пр.)\n",
    "8. Удаляем импортированные растры, хранящие DN (уже не нужны, есть растры отражательной способности).\n",
    "9. Удаляем временный каталог, содержащий распакованные сцены."
   ]
  },
  {
   "cell_type": "code",
   "execution_count": null,
   "metadata": {
    "collapsed": false,
    "deletable": true,
    "editable": true
   },
   "outputs": [],
   "source": [
    "# Определим для удобства функцию\n",
    "def import_scene(grs, scene):\n",
    "    try:\n",
    "        # Шаг 1\n",
    "        temp_dir = tempfile.mkdtemp()\n",
    "        if unpack(scene, temp_dir):\n",
    "            print 'Unpacked', scene\n",
    "        else:\n",
    "            print \"Can't unpack scene\", scene\n",
    "            \n",
    "        metafile = find_meta(temp_dir)\n",
    "        # Создадим Timestamp по дате создания снимка\n",
    "        \n",
    "        #  number: Landsat Number\n",
    "        #  creation: Creation timestamp\n",
    "        #  date: Date\n",
    "        #  sun_elev: Sun Elevation\n",
    "        #  sensor: Sensor\n",
    "        #  bands: Bands count\n",
    "        #  sunaz: Sun Azimuth Angle\n",
    "        #  time: Time\n",
    "        creation = grs.grass.read_command(\n",
    "            'i.landsat.toar', input='dummy', output='dummy',\n",
    "            metfile=metafile, lsatmet='date', flags='p').split()\n",
    "        \n",
    "        metadata = {}\n",
    "        meta_keys = ['number', 'creation', 'date', 'sun_elev', 'sensor',\n",
    "                    'bands', 'sunaz', 'time']\n",
    "        for key in meta_keys:\n",
    "            value = grs.grass.read_command(\n",
    "                'i.landsat.toar', input='dummy', output='dummy',\n",
    "                metfile=metafile, lsatmet=key, flags='p'\n",
    "            ).split()[0]\n",
    "            metadata[key] = value\n",
    "\n",
    "        # Создадим Timestamp по дате создания снимка\n",
    "        # creation: \"date=2015-12-31\"\n",
    "        creation = metadata['creation'].split('=')[1]\n",
    "        y, m, d = [int(x) for x in creation.split('-')]\n",
    "        creation = datetime.datetime(y, m, d)\n",
    "        creation = creation.strftime('%-d %b %Y').lower()\n",
    "\n",
    "        rasters = get_raster_list(temp_dir)\n",
    "        for rst in rasters:\n",
    "            # Шаг 2\n",
    "            band_name = filename_to_bandname(rst)\n",
    "            grs.grass.run_command('r.in.gdal', input=rst, output=band_name, overwrite=True, flags='e')\n",
    "            # Не все растры будут удалены, поэтому timestamp ставим на все, чтобы не разбирать,\n",
    "            # где он нужен, а где нет\n",
    "            grs.grass.run_command('r.timestamp', map=band_name, date=creation)\n",
    "\n",
    "            # Шаг 3\n",
    "            grs.grass.run_command('r.null', map=band_name, setnull=0)\n",
    "\n",
    "\n",
    "        # Шаг 4\n",
    "        indx = band_name.rindex('B')    # Названия всех каналов устроены одинаково\n",
    "        prefix = band_name[:indx + 1]   # поэтому для вычисления префикса можно использовать любой\n",
    "        toar_pref = 'toar_' + prefix\n",
    "        \n",
    "        grs.grass.run_command('g.region', raster=prefix+'1') # Охват одинаковый у всех каналов\n",
    "        grs.grass.run_command('i.landsat.toar', input=prefix, output=toar_pref,\n",
    "               metfile=metafile, sensor='oli8', overwrite=True)\n",
    "        # Коррекция + Timestamp\n",
    "        for rst in grs.grass.list_strings('rast', mapset='landsat', pattern=toar_pref+'*'):\n",
    "            # Шаг 5\n",
    "            rst_name = rst.split('@')[0]\n",
    "            if rst_name[-2:] in ['B1', 'B2', 'B3', 'B4', 'B5', 'B6', 'B7', 'B8', 'B9']:\n",
    "                # print \"%s = max(min(%s, 1.0), 0.0)\" % (rst_name, rst)\n",
    "                grs.grass.run_command('r.mapcalc',\n",
    "                              expression=\"%s = max(min(%s, 1.0), 0.0)\" % (rst_name, rst),\n",
    "                              overwrite=True)\n",
    "\n",
    "            # Шаг 6\n",
    "            grs.grass.run_command('r.timestamp', map=rst, date=creation)\n",
    "            # Шаг 7\n",
    "            for key in meta_keys:\n",
    "                meta = \"METADATA: %s\" % (metadata[key], )\n",
    "                grs.grass.run_command('r.support', map=rst, hist=meta)\n",
    "            \n",
    "\n",
    "        # Шаг 8\n",
    "        grs.grass.run_command('g.remove', type='rast', \n",
    "                              pattern='%s*' % (prefix, ), \n",
    "                              exclude=\"*BQA\",\n",
    "                              flags='f')\n",
    "\n",
    "\n",
    "    finally:\n",
    "        # Шаг 9\n",
    "        shutil.rmtree(temp_dir)\n",
    "        print 'Removed', scene"
   ]
  },
  {
   "cell_type": "code",
   "execution_count": null,
   "metadata": {
    "collapsed": false,
    "deletable": true,
    "editable": true,
    "scrolled": true
   },
   "outputs": [],
   "source": [
    "creation ='-'\n",
    "for rst in grs.grass.list_strings('rast', mapset='landsat', pattern='toar_LC81120272015365LGN00_B*'):\n",
    "    print rst\n"
   ]
  },
  {
   "cell_type": "markdown",
   "metadata": {
    "deletable": true,
    "editable": true
   },
   "source": [
    "Переключимся в MAPSET landsat и импортируем данные:"
   ]
  },
  {
   "cell_type": "code",
   "execution_count": null,
   "metadata": {
    "collapsed": false,
    "deletable": true,
    "editable": true,
    "scrolled": true
   },
   "outputs": [],
   "source": [
    "print grs.grass.read_command('g.mapset', mapset='landsat', flags='c')\n",
    "print grs.grass.read_command('g.mapset', flags='p')\n",
    "\n",
    "grs.grass.run_command('g.region', region='all_scenes@landsat')\n",
    "grs.grass.run_command('g.remove', type='rast', pattern=\"MASK\", flags='f')\n",
    "\n",
    "# grs.grass.run_command('g.remove', type=\"rast\", pattern=\"toar*\", flags='f')\n",
    "# grs.grass.run_command('g.remove', type=\"rast\", pattern=\"L*\", flags='f')\n",
    "\n",
    "for scene in scenes:\n",
    "    import_scene(grs, scene)"
   ]
  },
  {
   "cell_type": "markdown",
   "metadata": {
    "deletable": true,
    "editable": true
   },
   "source": [
    "#### Группы растров"
   ]
  },
  {
   "cell_type": "markdown",
   "metadata": {
    "deletable": true,
    "editable": true
   },
   "source": [
    "Создадим группы растров для удобства работы (многие GRASSовские модули обработки изображений \"хотят\" на входе группу)."
   ]
  },
  {
   "cell_type": "code",
   "execution_count": null,
   "metadata": {
    "collapsed": false,
    "deletable": true,
    "editable": true
   },
   "outputs": [],
   "source": [
    "print grs.grass.read_command('g.mapset', flags='p')\n",
    "rasters = grs.grass.list_strings(\"rast\")\n",
    "print rasters[:10]"
   ]
  },
  {
   "cell_type": "code",
   "execution_count": null,
   "metadata": {
    "collapsed": false,
    "deletable": true,
    "editable": true
   },
   "outputs": [],
   "source": [
    "group_names = set([name.rpartition('_')[0] for name in rasters])\n",
    "group_names = list(group_names)\n",
    "\n",
    "for gname in group_names:\n",
    "    rnames = grs.grass.read_command('g.list', type='raster', \n",
    "                              pattern=gname+'*', \n",
    "                              separator=',')\n",
    "    rnames = rnames.strip()\n",
    "    grs.grass.run_command('g.remove', type='group', name=gname, flags='f')  # Удалим группу, если она есть\n",
    "    grs.grass.run_command('i.group', group=gname, input=rnames)"
   ]
  },
  {
   "cell_type": "code",
   "execution_count": null,
   "metadata": {
    "collapsed": false,
    "deletable": true,
    "editable": true
   },
   "outputs": [],
   "source": [
    "groups = grs.grass.read_command('g.list', type='group', mapset='landsat')\n",
    "print groups"
   ]
  },
  {
   "cell_type": "code",
   "execution_count": null,
   "metadata": {
    "collapsed": false,
    "deletable": true,
    "editable": true
   },
   "outputs": [],
   "source": [
    "example = grs.grass.read_command('i.group', group=gname, flags='lg')\n",
    "print gname"
   ]
  },
  {
   "cell_type": "markdown",
   "metadata": {
    "deletable": true,
    "editable": true
   },
   "source": [
    "### Импорт зимних композитов Landsat<a id='import_landsat_composites'></a>"
   ]
  },
  {
   "cell_type": "markdown",
   "metadata": {
    "deletable": true,
    "editable": true
   },
   "source": [
    "Импортируем композиты по зимним снимкам (растры в одном временном диапазоне покрывают разные участки территории):\n",
    "\n",
    "Период | Название растров\n",
    "-------|----------------\n",
    "2016-11-01 : 2017-01-31| clippedL8TOA17-0000009216-0000000000.tif, clippedL8TOA17-0000009216-0000009216.tif, clippedL8TOA17-0000000000-0000018432.tif, clippedL8TOA17-0000000000-0000009216.tif, clippedL8TOA17-0000000000-0000000000.tif\n",
    "2015-11-01 : 2016-03-01| clippedL8TOA16-0000000000-0000000000.tif, clippedL8TOA16-0000000000-0000009216.tif, clippedL8TOA16-0000000000-0000018432.tif, clippedL8TOA16-0000009216-0000000000.tif, clippedL8TOA16-0000009216-0000009216.tif \n",
    "2014-11-01 : 2015-03-01| clippedL8TOA15-0000000000-0000000000.tif, clippedL8TOA15-0000000000-0000009216.tif, clippedL8TOA15-0000000000-0000018432.tif, clippedL8TOA15-0000009216-0000009216.tif, clippedL8TOA15-0000009216-0000000000.tif \n",
    "\n",
    "Каждый композит устроен одинаково: были выбраны безоблачные пиксели за указанный период и посчитана медиана для этих снимков. Ниже идет код на JS, при помощи которого был создан композит за зиму 16-17-го годов:\n",
    "\n",
    "```\n",
    "var filterL8TOA17 = ee.ImageCollection('LANDSAT/LC8_L1T_TOA_FMASK')\n",
    "  .filterBounds(mask)\n",
    "  .filterDate('2016-11-01', '2017-02-01')\n",
    "  .map(function(img){\n",
    "      var cloudMask = img.select('fmask').lt(4);\n",
    "      return img.mask(img.mask().and(cloudMask));\n",
    "})\n",
    ";\n",
    "var medianL8TOA17 = filterL8TOA17.median();\n",
    "var clippedL8TOA17 = medianL8TOA17.clipToCollection(mask);\n",
    "```"
   ]
  },
  {
   "cell_type": "markdown",
   "metadata": {
    "deletable": true,
    "editable": true
   },
   "source": [
    "В обрабатываемых растрах по 13 каналов: первые 11 это исходные каналы, 12-й и 13-й каналы растра это fmask и BQA. Поскольку растры находятся в системе координат широта-долгота, то сничала импортируем их в отдельную область, а затем переключитмся в UTM и перепроецируем данные."
   ]
  },
  {
   "cell_type": "code",
   "execution_count": null,
   "metadata": {
    "collapsed": false,
    "deletable": true,
    "editable": true
   },
   "outputs": [],
   "source": [
    "HOME_DIR = os.getenv(\"HOME\")\n",
    "SCENE_DIR = os.path.join(HOME_DIR, 'Data', 'Composite', 'FE')\n",
    "\n",
    "print SCENE_DIR"
   ]
  },
  {
   "cell_type": "code",
   "execution_count": null,
   "metadata": {
    "collapsed": false,
    "deletable": true,
    "editable": true
   },
   "outputs": [],
   "source": [
    "scenes17 = [\n",
    "    'clippedL8TOA17-0000009216-0000000000.tif', \n",
    "    'clippedL8TOA17-0000009216-0000009216.tif', \n",
    "    'clippedL8TOA17-0000000000-0000018432.tif', \n",
    "    'clippedL8TOA17-0000000000-0000009216.tif', \n",
    "    'clippedL8TOA17-0000000000-0000000000.tif'\n",
    "]\n",
    "\n",
    "scenes16 = [\n",
    "    'clippedL8TOA16-0000000000-0000000000.tif', \n",
    "    'clippedL8TOA16-0000000000-0000009216.tif', \n",
    "    'clippedL8TOA16-0000000000-0000018432.tif', \n",
    "    'clippedL8TOA16-0000009216-0000000000.tif', \n",
    "    'clippedL8TOA16-0000009216-0000009216.tif'\n",
    "]\n",
    "\n",
    "scenes15 = [\n",
    "    'clippedL8TOA15-0000000000-0000000000.tif', \n",
    "    'clippedL8TOA15-0000000000-0000009216.tif', \n",
    "    'clippedL8TOA15-0000000000-0000018432.tif', \n",
    "    'clippedL8TOA15-0000009216-0000009216.tif', \n",
    "    'clippedL8TOA15-0000009216-0000000000.tif'\n",
    "]\n",
    "\n",
    "scenes17 = [os.path.join(SCENE_DIR, s) for s in scenes17]\n",
    "scenes16 = [os.path.join(SCENE_DIR, s) for s in scenes16]\n",
    "scenes15 = [os.path.join(SCENE_DIR, s) for s in scenes15]"
   ]
  },
  {
   "cell_type": "code",
   "execution_count": null,
   "metadata": {
    "collapsed": true,
    "deletable": true,
    "editable": true
   },
   "outputs": [],
   "source": [
    "# Определим для удобства функцию\n",
    "def import_basemap(grs, scene_list, result_name, resolution='0.000269494585236'):\n",
    "    # default resolution = 30m in degree\n",
    "    \n",
    "    \n",
    "    # Исходные данные в системе координат широта-долгота\n",
    "    map_names = []\n",
    "    for scene in scene_list:\n",
    "        name = filename_to_bandname(scene)\n",
    "        grs.grass.run_command('r.in.gdal', input=scene, output=name, overwrite=True)\n",
    "        map_names.append(name)\n",
    "    \n",
    "    print map_names\n",
    "    # Склеиваем все куски в один общий растр\n",
    "    grs.grass.run_command('g.region', res=resolution)\n",
    "    for band_num in range(1, 14):\n",
    "        maps = [\"%s.%s\" % (m, band_num) for m in map_names]\n",
    "        outname = \"%s.%s\" % (result_name, band_num)\n",
    "        kwargs = dict(input=','.join(maps), output=outname, overwrite=True)\n",
    "        print kwargs\n",
    "        grs.grass.run_command('r.patch', **kwargs)\n",
    "        \n",
    "    # Удаляем ненужные куски\n",
    "    for name in map_names:\n",
    "         grs.grass.run_command('g.remove', type='rast', pattern=name+'*', flags='f')\n",
    "        \n",
    "    "
   ]
  },
  {
   "cell_type": "code",
   "execution_count": null,
   "metadata": {
    "collapsed": false,
    "deletable": true,
    "editable": true
   },
   "outputs": [],
   "source": [
    "grs = GRASS(gisbase='/usr/lib/grass72', \n",
    "            dbase=get_grassdata_path(), \n",
    "            location=get_ll_location_name()\n",
    ")\n",
    "grs.grass.run_command('g.mapset', mapset='basemaps', flags='c')"
   ]
  },
  {
   "cell_type": "code",
   "execution_count": null,
   "metadata": {
    "collapsed": false,
    "deletable": true,
    "editable": true,
    "scrolled": false
   },
   "outputs": [],
   "source": [
    "import_basemap(grs, scenes17, 'composite17')\n",
    "import_basemap(grs, scenes16, 'composite16')\n",
    "import_basemap(grs, scenes15, 'composite15')"
   ]
  },
  {
   "cell_type": "markdown",
   "metadata": {
    "deletable": true,
    "editable": true
   },
   "source": [
    "Переключаемся в нашу рабочую область и перепроецируем данные:"
   ]
  },
  {
   "cell_type": "code",
   "execution_count": null,
   "metadata": {
    "collapsed": true
   },
   "outputs": [],
   "source": [
    "grs = GRASS(gisbase=get_gisbase_path(), \n",
    "            dbase=get_grassdata_path(), \n",
    "            location=get_location_name()\n",
    ")\n"
   ]
  },
  {
   "cell_type": "code",
   "execution_count": null,
   "metadata": {
    "collapsed": false,
    "deletable": true,
    "editable": true
   },
   "outputs": [],
   "source": [
    "grs.grass.read_command('g.mapset', mapset='basemaps')\n",
    "print grs.grass.read_command('g.mapset', flags='p')\n",
    "\n",
    "# Установим охват, чтобы он накрывал все сцены\n",
    "grs.grass.run_command('g.region', region='all_scenes@landsat')"
   ]
  },
  {
   "cell_type": "code",
   "execution_count": null,
   "metadata": {
    "collapsed": false,
    "deletable": true,
    "editable": true
   },
   "outputs": [],
   "source": [
    "grs.grass.run_command('g.remove', type='rast', name='MASK', flags='f')\n",
    "for basename in ['composite17', 'composite16', 'composite15']:\n",
    "    for band_num in range(1,14):\n",
    "        raster_name = \"%s.%s\" % (basename, band_num)\n",
    "        print raster_name\n",
    "        grs.grass.run_command('r.proj', location=get_ll_location_name(), mapset='basemaps', \n",
    "                      input=raster_name, output=raster_name, overwrite=True)"
   ]
  },
  {
   "cell_type": "markdown",
   "metadata": {
    "deletable": true,
    "editable": true
   },
   "source": [
    "### Импорт данных PlanetLabs<a id='import_planet'></a>"
   ]
  },
  {
   "cell_type": "markdown",
   "metadata": {
    "deletable": true,
    "editable": true
   },
   "source": [
    "Пропишем пути:"
   ]
  },
  {
   "cell_type": "code",
   "execution_count": null,
   "metadata": {
    "collapsed": false,
    "deletable": true,
    "editable": true
   },
   "outputs": [],
   "source": [
    "HOME_DIR = os.getenv(\"HOME\")\n",
    "SCENE_DIR = os.path.join(HOME_DIR, 'Data', 'PLANET')\n",
    "\n",
    "print SCENE_DIR"
   ]
  },
  {
   "cell_type": "markdown",
   "metadata": {
    "deletable": true,
    "editable": true
   },
   "source": [
    "Функция импорта сцены (она значительно проще, чем фукнция импорта LANDSAT, поскольку данные хранятся в виде многоканального Geotiff). При этом там присутствует альфа-канал, в котором замаскированны значения \"нет-данных\": все, что лежит вне диапазона 255 альфа-канала, является недостоверным и должно быть сброшено в null."
   ]
  },
  {
   "cell_type": "code",
   "execution_count": null,
   "metadata": {
    "collapsed": true,
    "deletable": true,
    "editable": true
   },
   "outputs": [],
   "source": [
    "# Определим для удобства функцию\n",
    "def import_planet_scene(grs, scene):\n",
    "    \n",
    "    name = filename_to_bandname(scene)\n",
    "    print name\n",
    "    grs.grass.run_command('r.in.gdal', input=scene, output=name, overwrite=True, flags='e')\n",
    "    # Timestamp\n",
    "    y, m, d = int(name[:4]), int(name[4:6]), int(name[6:8])\n",
    "    creation = datetime.datetime(y, m, d)\n",
    "    creation = creation.strftime('%-d %b %Y').lower()\n",
    "    \n",
    "    grs.grass.run_command('g.region', raster=name + '.red')\n",
    "    \n",
    "    \n",
    "    # Установим null по альфа-каналу:\n",
    "    for suffix in ['red', 'green', 'blue']:\n",
    "        expr = \"%s.%s = if(%s.alpha==255, %s.%s, null())\" % (name, suffix, name, name, suffix)\n",
    "        grs.grass.run_command('r.mapcalc', expression=expr, overwrite=True)\n",
    "        grs.grass.run_command('r.timestamp', map=\"%s.%s\" % (name, suffix), date=creation)\n",
    "    \n",
    "    grs.grass.run_command('r.composite', \n",
    "                          red=name + '.red',\n",
    "                          green=name + '.green',\n",
    "                          blue=name + '.blue',\n",
    "                          output=name + '.composite',\n",
    "                          levels=256,\n",
    "                          overwrite=True\n",
    "    )\n",
    "       "
   ]
  },
  {
   "cell_type": "markdown",
   "metadata": {
    "deletable": true,
    "editable": true
   },
   "source": [
    "Запускаем импорт:"
   ]
  },
  {
   "cell_type": "code",
   "execution_count": null,
   "metadata": {
    "collapsed": false,
    "deletable": true,
    "editable": true
   },
   "outputs": [],
   "source": [
    "grs.grass.run_command('g.mapset', mapset='planet')\n",
    "\n",
    "scenes = glob.glob(os.path.join(SCENE_DIR, '*tif'))\n",
    "\n",
    "for scene in scenes:\n",
    "    import_planet_scene(grs, scene)"
   ]
  },
  {
   "cell_type": "code",
   "execution_count": null,
   "metadata": {
    "collapsed": false,
    "deletable": true,
    "editable": true
   },
   "outputs": [],
   "source": [
    "grs.grass.run_command('g.mapset', mapset='planet')\n",
    "grs.grass.run_command('g.region', res='3')\n",
    "print grs.grass.list_strings('rast', mapset='planet')\n",
    "print grs.grass.read_command('r.info', map='20160215_051104_0b0f_visual.red')"
   ]
  },
  {
   "cell_type": "markdown",
   "metadata": {
    "collapsed": false,
    "deletable": true,
    "editable": true
   },
   "source": [
    "### Импорт рубок<a id='import_train'></a>"
   ]
  },
  {
   "cell_type": "code",
   "execution_count": null,
   "metadata": {
    "collapsed": false,
    "deletable": true,
    "editable": true
   },
   "outputs": [],
   "source": [
    "grs.grass.run_command('g.mapset', mapset='PERMANENT')"
   ]
  },
  {
   "cell_type": "markdown",
   "metadata": {
    "deletable": true,
    "editable": true
   },
   "source": [
    "Пусть данные по рубкам лежат в каталоге \"Data/ALARM/trainings2016\"."
   ]
  },
  {
   "cell_type": "code",
   "execution_count": null,
   "metadata": {
    "collapsed": false,
    "deletable": true,
    "editable": true
   },
   "outputs": [],
   "source": [
    "train_file = os.path.join(\n",
    "    HOME_DIR,'Data/ALARM/trainings2016', 'training2015-2016_winter.shp')"
   ]
  },
  {
   "cell_type": "code",
   "execution_count": null,
   "metadata": {
    "collapsed": false,
    "deletable": true,
    "editable": true
   },
   "outputs": [],
   "source": [
    "grs.grass.run_command(\n",
    "    'v.in.ogr', input=train_file,\n",
    "    output='train15_16', overwrite=True\n",
    ")"
   ]
  },
  {
   "cell_type": "code",
   "execution_count": null,
   "metadata": {
    "collapsed": false,
    "deletable": true,
    "editable": true
   },
   "outputs": [],
   "source": [
    "grs.grass.run_command(\"v.db.addcolumn\", map=\"train15_16\", columns=\"jdate int, jday int, jyear int\")\n",
    "grs.grass.run_command('v.db.update', map='train15_16', column='jdate', query_column=\"date\")\n",
    "grs.grass.run_command('v.db.update', map='train15_16', column='jyear', query_column=\"substr(date, 1, 2)\")\n",
    "grs.grass.run_command('v.db.update', map='train15_16', column='jday', query_column=\"substr(date, 3)\")"
   ]
  },
  {
   "cell_type": "markdown",
   "metadata": {
    "deletable": true,
    "editable": true
   },
   "source": [
    "Добавим в БД координаты центроида рубки."
   ]
  },
  {
   "cell_type": "code",
   "execution_count": null,
   "metadata": {
    "collapsed": false,
    "deletable": true,
    "editable": true
   },
   "outputs": [],
   "source": [
    "grs.grass.run_command(\"v.db.addcolumn\", map=\"train15_16\", columns=\"x double, y double\")\n",
    "grs.grass.run_command(\"v.to.db\", map=\"train15_16\", \n",
    "                      type=\"centroid\", option=\"coor\", columns=\"x,y\")"
   ]
  },
  {
   "cell_type": "code",
   "execution_count": null,
   "metadata": {
    "collapsed": false,
    "deletable": true,
    "editable": true
   },
   "outputs": [],
   "source": [
    "rows = grs.grass.read_command(\"v.db.select\", map=\"train15_16\", flags='c')\n",
    "rows = rows.split()\n",
    "for row in rows[:5]:\n",
    "    print row"
   ]
  },
  {
   "cell_type": "markdown",
   "metadata": {
    "deletable": true,
    "editable": true
   },
   "source": [
    "### Импорт слоя лесов<a id='import_forest2000'></a>"
   ]
  },
  {
   "cell_type": "markdown",
   "metadata": {
    "deletable": true,
    "editable": true
   },
   "source": [
    "Сначала импортируем данные по лесному покрову в область с системой координат Широта/Долгота, а затем перепроецируем их в отдельную область с системой кооднитат UTM."
   ]
  },
  {
   "cell_type": "code",
   "execution_count": null,
   "metadata": {
    "collapsed": false,
    "deletable": true,
    "editable": true
   },
   "outputs": [],
   "source": [
    "grs = GRASS(gisbase=get_gisbase_path(), \n",
    "            dbase=get_grassdata_path(), \n",
    "            location=get_ll_location_name()\n",
    ")\n",
    "\n",
    "grs.grass.run_command('g.mapset', mapset='treecover', flags='c')"
   ]
  },
  {
   "cell_type": "markdown",
   "metadata": {
    "deletable": true,
    "editable": true
   },
   "source": [
    "Импортируем данные:"
   ]
  },
  {
   "cell_type": "code",
   "execution_count": null,
   "metadata": {
    "collapsed": false,
    "deletable": true,
    "editable": true
   },
   "outputs": [],
   "source": [
    "HOME_DIR = os.getenv(\"HOME\")\n",
    "DATA_DIR = os.path.join(HOME_DIR, 'Data', 'UMD', 'TreeCover')\n",
    "name = os.path.join(DATA_DIR, 'Hansen_GFC2015_treecover2000_50N_130E.tif')\n",
    "\n",
    "grs.grass.run_command('r.in.gdal', input=name, output='treecover', overwrite=True)"
   ]
  },
  {
   "cell_type": "markdown",
   "metadata": {
    "deletable": true,
    "editable": true
   },
   "source": [
    "Перепроецируем, для этого переключимся в область UTM и создадим отдельный набор данных для хранения treecover:"
   ]
  },
  {
   "cell_type": "code",
   "execution_count": null,
   "metadata": {
    "collapsed": false,
    "deletable": true,
    "editable": true
   },
   "outputs": [],
   "source": [
    "grs = GRASS(gisbase='/usr/lib/grass70', \n",
    "            dbase=get_grassdata_path(), \n",
    "            location=get_location_name()\n",
    ")\n",
    "\n",
    "grs.grass.run_command('g.mapset', mapset='treecover', flags='c')\n",
    "print grs.grass.read_command('g.mapset', flags='p')"
   ]
  },
  {
   "cell_type": "markdown",
   "metadata": {
    "deletable": true,
    "editable": true
   },
   "source": [
    "Установим регион, покрывающий все интересующие нас сцены:"
   ]
  },
  {
   "cell_type": "code",
   "execution_count": null,
   "metadata": {
    "collapsed": false,
    "deletable": true,
    "editable": true
   },
   "outputs": [],
   "source": [
    "grs.grass.run_command('g.region', region='all_scenes@landsat')"
   ]
  },
  {
   "cell_type": "markdown",
   "metadata": {
    "deletable": true,
    "editable": true
   },
   "source": [
    "Перепроецируем:"
   ]
  },
  {
   "cell_type": "code",
   "execution_count": null,
   "metadata": {
    "collapsed": false,
    "deletable": true,
    "editable": true
   },
   "outputs": [],
   "source": [
    "grs.grass.run_command('r.proj', location=get_ll_location_name(), mapset='treecover', \n",
    "                      input='treecover', output='treecover', overwrite=True)"
   ]
  },
  {
   "cell_type": "markdown",
   "metadata": {
    "deletable": true,
    "editable": true
   },
   "source": [
    "#### Создание маски лесов"
   ]
  },
  {
   "cell_type": "markdown",
   "metadata": {
    "deletable": true,
    "editable": true
   },
   "source": [
    "Переклассифицируем слой в маску лесов, пометив 0 (не лес) все, что покрыто лесами менее чем на 30%:"
   ]
  },
  {
   "cell_type": "code",
   "execution_count": null,
   "metadata": {
    "collapsed": false,
    "deletable": true,
    "editable": true
   },
   "outputs": [],
   "source": [
    "rules = \"\"\"\n",
    "0 thru 30\t= 0\t\tnon-forest\n",
    "* \t\t\t= 1\t\tforest\n",
    "\"\"\"\n",
    "\n",
    "grs.grass.write_command('r.reclass', \n",
    "                        input='treecover', rules='-', output='forest.mask.30', stdin=rules, \n",
    "                        overwrite=True)\n",
    "\n",
    "print grs.grass.read_command('r.report', map='forest.mask.30', units='c')"
   ]
  },
  {
   "cell_type": "markdown",
   "metadata": {
    "deletable": true,
    "editable": true
   },
   "source": [
    "Аналогично создадим маску с уровнем 60%:"
   ]
  },
  {
   "cell_type": "code",
   "execution_count": null,
   "metadata": {
    "collapsed": false,
    "deletable": true,
    "editable": true
   },
   "outputs": [],
   "source": [
    "rules = \"\"\"\n",
    "0 thru 60\t= 0\t\tnon-forest\n",
    "* \t\t\t= 1\t\tforest\n",
    "\"\"\"\n",
    "\n",
    "grs.grass.write_command('r.reclass', \n",
    "                        input='treecover', rules='-', output='forest.mask.60', stdin=rules, \n",
    "                        overwrite=True)\n",
    "\n",
    "print grs.grass.read_command('r.report', map='forest.mask.60', units='c')"
   ]
  },
  {
   "cell_type": "markdown",
   "metadata": {},
   "source": [
    "### Импорт UMD-ALARM<a id='import_alarm'></a>"
   ]
  },
  {
   "cell_type": "markdown",
   "metadata": {},
   "source": [
    "Как и с другими данными в системе координат широта-долгота, сначала импортируем растры в LatLon, а затем перепроцируем их в UTM."
   ]
  },
  {
   "cell_type": "code",
   "execution_count": null,
   "metadata": {
    "collapsed": false
   },
   "outputs": [],
   "source": [
    "grs = GRASS(gisbase=get_gisbase_path(), \n",
    "            dbase=get_grassdata_path(), \n",
    "            location=get_ll_location_name()\n",
    ")\n",
    "grs.grass.run_command('g.mapset', mapset='umd_alarm', flags='c')"
   ]
  },
  {
   "cell_type": "code",
   "execution_count": null,
   "metadata": {
    "collapsed": false
   },
   "outputs": [],
   "source": [
    "print grs.grass.read_command('g.mapset', flags='p')"
   ]
  },
  {
   "cell_type": "code",
   "execution_count": null,
   "metadata": {
    "collapsed": true
   },
   "outputs": [],
   "source": [
    "HOME_DIR = os.getenv(\"HOME\")\n",
    "DATA_DIR = os.path.join(HOME_DIR, 'Data', 'UMD', 'Alarm')\n",
    "\n",
    "rasters = []\n",
    "names = ['FE_conf2016m.tif', 'FE_day2016m.tif']\n",
    "for n in names:\n",
    "    name = os.path.join(DATA_DIR, n)\n",
    "    rast_name = n[3:-4]\n",
    "    grs.grass.run_command('r.in.gdal', input=name, output=rast_name, overwrite=True)\n",
    "    rasters.append(rast_name)"
   ]
  },
  {
   "cell_type": "code",
   "execution_count": null,
   "metadata": {
    "collapsed": false
   },
   "outputs": [],
   "source": [
    "grs = GRASS(gisbase=get_gisbase_path(), \n",
    "            dbase=get_grassdata_path(), \n",
    "            location=get_location_name()\n",
    ")\n",
    "\n",
    "grs.grass.run_command('g.mapset', mapset='umd_alarm', flags='c')\n",
    "print grs.grass.read_command('g.mapset', flags='p')"
   ]
  },
  {
   "cell_type": "code",
   "execution_count": null,
   "metadata": {
    "collapsed": false,
    "scrolled": true
   },
   "outputs": [],
   "source": [
    "grs.grass.run_command('g.region', region='all_scenes@landsat')\n",
    "\n",
    "for rast_name in rasters:\n",
    "    grs.grass.run_command('r.proj', location=get_ll_location_name(), mapset='umd_alarm', \n",
    "                      input=rast_name, output=rast_name, overwrite=True)"
   ]
  },
  {
   "cell_type": "code",
   "execution_count": null,
   "metadata": {
    "collapsed": true
   },
   "outputs": [],
   "source": []
  }
 ],
 "metadata": {
  "kernelspec": {
   "display_name": "Python 2",
   "language": "python",
   "name": "python2"
  },
  "language_info": {
   "codemirror_mode": {
    "name": "ipython",
    "version": 2
   },
   "file_extension": ".py",
   "mimetype": "text/x-python",
   "name": "python",
   "nbconvert_exporter": "python",
   "pygments_lexer": "ipython2",
   "version": "2.7.12"
  }
 },
 "nbformat": 4,
 "nbformat_minor": 0
}
