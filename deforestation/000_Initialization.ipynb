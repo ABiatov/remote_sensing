{
 "cells": [
  {
   "cell_type": "markdown",
   "metadata": {},
   "source": [
    "# Поиск вырубок. Инициализация."
   ]
  },
  {
   "cell_type": "markdown",
   "metadata": {},
   "source": [
    "Описывается инициализация данных. Основные моменты:\n",
    "\n",
    "1. Основное хранилище данных - GRASS GIS.\n",
    "2. В БД GRASS [импортируются растры](#import_landsat) Landsat 8.\n",
    "3. Для каждой сцены [производится расчет](#scene_import) отражательной способности (i.landsat.toar).\n",
    "4. Импортированы контура рубок за 2015-2016гг."
   ]
  },
  {
   "cell_type": "markdown",
   "metadata": {},
   "source": [
    "## Вспомогательные функции и модули"
   ]
  },
  {
   "cell_type": "markdown",
   "metadata": {},
   "source": [
    "Импортируем вспомогательные модули."
   ]
  },
  {
   "cell_type": "code",
   "execution_count": 8,
   "metadata": {
    "collapsed": false
   },
   "outputs": [
    {
     "data": {
      "text/plain": [
       "<module 'utilites' from 'utilites.pyc'>"
      ]
     },
     "execution_count": 8,
     "metadata": {},
     "output_type": "execute_result"
    }
   ],
   "source": [
    "import os\n",
    "import glob\n",
    "import tempfile\n",
    "import shutil\n",
    "\n",
    "import utilites\n",
    "reload(utilites)"
   ]
  },
  {
   "cell_type": "markdown",
   "metadata": {},
   "source": [
    "Импортируем функции для выполнения рутинных действий."
   ]
  },
  {
   "cell_type": "markdown",
   "metadata": {},
   "source": [
    "Функция распаковки архивов. Параметры: data_file -- архив, extract_dir -- каталог, в который производится распаковка."
   ]
  },
  {
   "cell_type": "code",
   "execution_count": 2,
   "metadata": {
    "collapsed": false
   },
   "outputs": [],
   "source": [
    "from utilites import unpack"
   ]
  },
  {
   "cell_type": "markdown",
   "metadata": {},
   "source": [
    "Функции, чтобы не запутаться в том, как формируется название location (будут использоваться в разных местах кода):"
   ]
  },
  {
   "cell_type": "code",
   "execution_count": 3,
   "metadata": {
    "collapsed": false
   },
   "outputs": [
    {
     "name": "stdout",
     "output_type": "stream",
     "text": [
      "/home/klsvd/GRASSDATA/LANDSAT\n"
     ]
    }
   ],
   "source": [
    "from utilites import (\n",
    "    get_grassdata_path,\n",
    "    get_location_name,\n",
    "    get_location_path,\n",
    ")\n",
    "\n",
    "print get_location_path()"
   ]
  },
  {
   "cell_type": "markdown",
   "metadata": {},
   "source": [
    "Функции для работы с файлами сцены:"
   ]
  },
  {
   "cell_type": "code",
   "execution_count": 4,
   "metadata": {
    "collapsed": true
   },
   "outputs": [],
   "source": [
    "from utilites import (\n",
    "    filename_to_bandname,\n",
    "    get_raster_list,\n",
    "    find_meta\n",
    ")"
   ]
  },
  {
   "cell_type": "markdown",
   "metadata": {},
   "source": [
    "## Импорт данных"
   ]
  },
  {
   "cell_type": "markdown",
   "metadata": {},
   "source": [
    "Сначала создадим объект GRASS, через который будем выполнять запросы."
   ]
  },
  {
   "cell_type": "code",
   "execution_count": 9,
   "metadata": {
    "collapsed": true
   },
   "outputs": [],
   "source": [
    "from grasslib import GRASS\n",
    "\n",
    "grs = GRASS(gisbase='/usr/lib/grass70', \n",
    "            dbase=get_grassdata_path(), \n",
    "            location=get_location_name()\n",
    ")"
   ]
  },
  {
   "cell_type": "markdown",
   "metadata": {},
   "source": [
    "### Импорт Landsat<a id='import_landsat'></a>"
   ]
  },
  {
   "cell_type": "markdown",
   "metadata": {},
   "source": [
    "Пусть сцены лежат в подкаталоге Data домашнего каталога. Создадим переменную SCENE_DIR, храняющую пути к этому каталогу:"
   ]
  },
  {
   "cell_type": "code",
   "execution_count": 5,
   "metadata": {
    "collapsed": false
   },
   "outputs": [
    {
     "name": "stdout",
     "output_type": "stream",
     "text": [
      "/home/klsvd/Data\n"
     ]
    }
   ],
   "source": [
    "HOME_DIR = os.getenv(\"HOME\")\n",
    "SCENE_DIR = os.path.join(HOME_DIR, 'Data')\n",
    "\n",
    "print SCENE_DIR"
   ]
  },
  {
   "cell_type": "markdown",
   "metadata": {},
   "source": [
    "Получим список сцен:"
   ]
  },
  {
   "cell_type": "code",
   "execution_count": 6,
   "metadata": {
    "collapsed": false
   },
   "outputs": [
    {
     "name": "stdout",
     "output_type": "stream",
     "text": [
      "['/home/klsvd/Data/LC81120272015365LGN00.tar.gz', '/home/klsvd/Data/LC81120282015141LGN00.tar.gz', '/home/klsvd/Data/LC81120282016032LGN01.tar.gz', '/home/klsvd/Data/LC81120272016032LGN01.tar.gz', '/home/klsvd/Data/LC81120282015317LGN00.tar.gz', '/home/klsvd/Data/LC81120282015237LGN00.tar.gz', '/home/klsvd/Data/LC81120282016016LGN00.tar.gz', '/home/klsvd/Data/LC81120272015157LGN00.tar.gz', '/home/klsvd/Data/LC81120272015189LGN00.tar.gz', '/home/klsvd/Data/LC81120282015189LGN00.tar.gz', '/home/klsvd/Data/LC81120272015333LGN00.tar.gz', '/home/klsvd/Data/LC81120282015365LGN00.tar.gz']\n"
     ]
    }
   ],
   "source": [
    "scenes = glob.glob(os.path.join(SCENE_DIR, '*gz'))\n",
    "\n",
    "print scenes"
   ]
  },
  {
   "cell_type": "markdown",
   "metadata": {},
   "source": [
    "#### Создание БД GRASS <a id='create_location'></a>"
   ]
  },
  {
   "cell_type": "markdown",
   "metadata": {},
   "source": [
    "Если область GRASS для работы уже создана, можно сразу переходить к [импорту сцен](#scene_import). Если нет -- создадим в домашнем каталоге каталог GRASSDATA и внутри него LOCATION для хранения сцен. Для этого распакуем во временный каталог первую сцену, прочитаем из нее геоданные и создадим соответствующий LOCATION."
   ]
  },
  {
   "cell_type": "code",
   "execution_count": 7,
   "metadata": {
    "collapsed": false
   },
   "outputs": [
    {
     "name": "stdout",
     "output_type": "stream",
     "text": [
      "/tmp/tmpFUyJpE\n",
      "Unpacked\n",
      "/tmp/tmpFUyJpE/LC81120272015365LGN00_B2.TIF\n",
      "grass70 -text -e -c /tmp/tmpFUyJpE/LC81120272015365LGN00_B2.TIF /home/klsvd/GRASSDATA/LANDSAT\n",
      "Removed\n"
     ]
    }
   ],
   "source": [
    "scene = scenes[0]\n",
    "location = get_location_path()\n",
    "\n",
    "try:\n",
    "    temp_dir = tempfile.mkdtemp()\n",
    "    print temp_dir\n",
    "    if unpack(scene, temp_dir):\n",
    "        print 'Unpacked'\n",
    "    else:\n",
    "        print \"Can't unpack scene\"\n",
    "    \n",
    "    # Возьмем первый попавшийся канал и прочитаем из него геоданные\n",
    "    file_list = get_raster_list(temp_dir)\n",
    "    geofile = os.path.join(temp_dir, file_list[0])\n",
    "    print geofile\n",
    "    \n",
    "    cmd = 'grass70 -text -e -c %s %s' % (geofile, location)\n",
    "    print cmd\n",
    "    \n",
    "    exitcode = os.system(cmd)\n",
    "    if exitcode != 0:\n",
    "        print \"Can't create location\"\n",
    "finally:\n",
    "    shutil.rmtree(temp_dir)\n",
    "    print 'Removed'\n"
   ]
  },
  {
   "cell_type": "markdown",
   "metadata": {},
   "source": [
    "#### Импорт сцен <a id='scene_import'></a>"
   ]
  },
  {
   "cell_type": "markdown",
   "metadata": {},
   "source": [
    "Импортируем сцены и рассчитаем спектральную отражательную способность (ToAR Reflectance):\n",
    "\n",
    "1. Распаковываем сцену во временный каталог.\n",
    "2. Импортируем каналы сцены.\n",
    "3. Устанавливаем значения null (нет данных).\n",
    "4. Рассчитываем отражательную способность.\n",
    "5. Удаляем импортированные растры, хранящие DN (уже не нужны, есть растры отражательной способности).\n",
    "6. Удаляем временный каталог, содержащий распакованные сцены."
   ]
  },
  {
   "cell_type": "code",
   "execution_count": 8,
   "metadata": {
    "collapsed": false,
    "scrolled": true
   },
   "outputs": [
    {
     "name": "stdout",
     "output_type": "stream",
     "text": [
      "Unpacked\n",
      "Removed\n",
      "Unpacked\n",
      "Removed\n",
      "Unpacked\n",
      "Removed\n",
      "Unpacked\n",
      "Removed\n",
      "Unpacked\n",
      "Removed\n",
      "Unpacked\n",
      "Removed\n",
      "Unpacked\n",
      "Removed\n",
      "Unpacked\n",
      "Removed\n",
      "Unpacked\n",
      "Removed\n",
      "Unpacked\n",
      "Removed\n",
      "Unpacked\n",
      "Removed\n",
      "Unpacked\n",
      "Removed\n"
     ]
    }
   ],
   "source": [
    "# Определим для удобства функцию\n",
    "def import_scene(grs, scene):\n",
    "    try:\n",
    "        # Шаг 1\n",
    "        temp_dir = tempfile.mkdtemp()\n",
    "        if unpack(scene, temp_dir):\n",
    "            print 'Unpacked'\n",
    "        else:\n",
    "            print \"Can't unpack scene\"\n",
    "\n",
    "        rasters = get_raster_list(temp_dir)\n",
    "        for rst in rasters:\n",
    "            # Шаг 2\n",
    "            band_name = filename_to_bandname(rst)\n",
    "            grs.grass.run_command('r.in.gdal', input=rst, output=band_name, overwrite=True, flags='e')\n",
    "\n",
    "            # Шаг 3\n",
    "            grs.grass.run_command('r.null', map=band_name, setnull=0)\n",
    "\n",
    "\n",
    "        # Шаг 4\n",
    "        indx = band_name.rindex('B')    # Названия всех каналов устроены одинаково\n",
    "        prefix = band_name[:indx + 1]   # поэтому для вычисления префикса можно использовать любой\n",
    "        metafile = find_meta(temp_dir)\n",
    "        grs.grass.run_command('i.landsat.toar', input=prefix, output='toar_' + prefix,\n",
    "                metfile=metafile, sensor='oli8', overwrite=True)\n",
    "        \n",
    "\n",
    "        # Шаг 5\n",
    "        grs.grass.run_command('g.remove', type='rast', \n",
    "                              pattern='%s*' % (prefix, ), \n",
    "                              exclude=\"*BQA\",\n",
    "                              flags='f')\n",
    "\n",
    "\n",
    "    finally:\n",
    "        # Шаг 6\n",
    "        shutil.rmtree(temp_dir)\n",
    "        print 'Removed'\n",
    "        \n",
    "        \n",
    "for scene in scenes:\n",
    "    import_scene(grs, scene)\n"
   ]
  },
  {
   "cell_type": "markdown",
   "metadata": {},
   "source": [
    "#### Группы растров"
   ]
  },
  {
   "cell_type": "markdown",
   "metadata": {},
   "source": [
    "Создадим группы растров для удобства работы (многие GRASSовские модули обработки изображений \"хотят\" на входе группу)."
   ]
  },
  {
   "cell_type": "code",
   "execution_count": 9,
   "metadata": {
    "collapsed": false
   },
   "outputs": [
    {
     "name": "stdout",
     "output_type": "stream",
     "text": [
      "['LC81120272015157LGN00_BQA@PERMANENT', 'LC81120272015189LGN00_BQA@PERMANENT', 'LC81120272015333LGN00_BQA@PERMANENT', 'LC81120272015365LGN00_BQA@PERMANENT', 'LC81120272016032LGN01_BQA@PERMANENT', 'LC81120282015141LGN00_BQA@PERMANENT', 'LC81120282015189LGN00_BQA@PERMANENT', 'LC81120282015237LGN00_BQA@PERMANENT', 'LC81120282015317LGN00_BQA@PERMANENT', 'LC81120282015365LGN00_BQA@PERMANENT']\n"
     ]
    }
   ],
   "source": [
    "rasters = grs.grass.list_strings(\"rast\")\n",
    "print rasters[:10]"
   ]
  },
  {
   "cell_type": "code",
   "execution_count": 10,
   "metadata": {
    "collapsed": false
   },
   "outputs": [
    {
     "name": "stdout",
     "output_type": "stream",
     "text": [
      "[]\n"
     ]
    }
   ],
   "source": [
    "vectors = grs.grass.list_strings(\"vect\")\n",
    "print vectors"
   ]
  },
  {
   "cell_type": "code",
   "execution_count": 11,
   "metadata": {
    "collapsed": false
   },
   "outputs": [
    {
     "name": "stdout",
     "output_type": "stream",
     "text": [
      "LC81120272015157LGN00\n",
      "LC81120272015189LGN00\n",
      "LC81120272015333LGN00\n",
      "LC81120272015365LGN00\n",
      "LC81120272016032LGN01\n",
      "LC81120282015141LGN00\n",
      "LC81120282015189LGN00\n",
      "LC81120282015237LGN00\n",
      "LC81120282015317LGN00\n",
      "LC81120282015365LGN00\n",
      "LC81120282016016LGN00\n",
      "LC81120282016032LGN01\n",
      "toar_LC81120272015157LGN00\n",
      "toar_LC81120272015189LGN00\n",
      "toar_LC81120272015333LGN00\n",
      "toar_LC81120272015365LGN00\n",
      "toar_LC81120272016032LGN01\n",
      "toar_LC81120282015141LGN00\n",
      "toar_LC81120282015189LGN00\n",
      "toar_LC81120282015237LGN00\n",
      "toar_LC81120282015317LGN00\n",
      "toar_LC81120282015365LGN00\n",
      "toar_LC81120282016016LGN00\n",
      "toar_LC81120282016032LGN01\n",
      "\n"
     ]
    }
   ],
   "source": [
    "group_names = set([name.rpartition('_')[0] for name in rasters])\n",
    "group_names = list(group_names)\n",
    "\n",
    "for gname in group_names:\n",
    "    rnames = grs.grass.read_command('g.list', type='raster', \n",
    "                              pattern=gname+'*', \n",
    "                              separator=',')\n",
    "    rnames = rnames.strip()\n",
    "    grs.grass.run_command('i.group', group=gname,\n",
    "                   input=rnames)\n",
    "\n",
    "groups = grs.grass.read_command('g.list', type='group')\n",
    "print groups"
   ]
  },
  {
   "cell_type": "code",
   "execution_count": 12,
   "metadata": {
    "collapsed": false
   },
   "outputs": [
    {
     "name": "stdout",
     "output_type": "stream",
     "text": [
      "toar_LC81120282016016LGN00_B1@PERMANENT\n",
      "toar_LC81120282016016LGN00_B10@PERMANENT\n",
      "toar_LC81120282016016LGN00_B11@PERMANENT\n",
      "toar_LC81120282016016LGN00_B2@PERMANENT\n",
      "toar_LC81120282016016LGN00_B3@PERMANENT\n",
      "toar_LC81120282016016LGN00_B4@PERMANENT\n",
      "toar_LC81120282016016LGN00_B5@PERMANENT\n",
      "toar_LC81120282016016LGN00_B6@PERMANENT\n",
      "toar_LC81120282016016LGN00_B7@PERMANENT\n",
      "toar_LC81120282016016LGN00_B8@PERMANENT\n",
      "toar_LC81120282016016LGN00_B9@PERMANENT\n",
      "\n"
     ]
    }
   ],
   "source": [
    "example = grs.grass.read_command('i.group', group=gname, flags='lg')\n",
    "print example"
   ]
  },
  {
   "cell_type": "markdown",
   "metadata": {
    "collapsed": false
   },
   "source": [
    "### Импорт рубок<a id='import_train'></a>"
   ]
  },
  {
   "cell_type": "markdown",
   "metadata": {},
   "source": [
    "Пусть данные по рубкам лежат в каталоге \"Data/ALARM/trainings2016\"."
   ]
  },
  {
   "cell_type": "code",
   "execution_count": 15,
   "metadata": {
    "collapsed": false
   },
   "outputs": [],
   "source": [
    "train_file = os.path.join(\n",
    "    HOME_DIR,'Data/ALARM/trainings2016', 'training2015-2016_winter.shp')"
   ]
  },
  {
   "cell_type": "code",
   "execution_count": 16,
   "metadata": {
    "collapsed": false
   },
   "outputs": [
    {
     "data": {
      "text/plain": [
       "0"
      ]
     },
     "execution_count": 16,
     "metadata": {},
     "output_type": "execute_result"
    }
   ],
   "source": [
    "grs.grass.run_command(\n",
    "    'v.in.ogr', input=train_file,\n",
    "    output='train15_16', overwrite=True\n",
    ")"
   ]
  }
 ],
 "metadata": {
  "kernelspec": {
   "display_name": "Python 2",
   "language": "python",
   "name": "python2"
  },
  "language_info": {
   "codemirror_mode": {
    "name": "ipython",
    "version": 2
   },
   "file_extension": ".py",
   "mimetype": "text/x-python",
   "name": "python",
   "nbconvert_exporter": "python",
   "pygments_lexer": "ipython2",
   "version": "2.7.6"
  }
 },
 "nbformat": 4,
 "nbformat_minor": 0
}
