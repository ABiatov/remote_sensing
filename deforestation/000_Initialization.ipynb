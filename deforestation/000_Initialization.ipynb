{
 "cells": [
  {
   "cell_type": "markdown",
   "metadata": {},
   "source": [
    "# Поиск вырубок. Инициализация."
   ]
  },
  {
   "cell_type": "markdown",
   "metadata": {},
   "source": [
    "Описывается инициализация данных. Основные моменты:\n",
    "\n",
    "1. Основное хранилище данных - GRASS GIS.\n",
    "2. В БД GRASS [импортируются растры](#import_landsat) Landsat 8.\n",
    "3. Для каждой сцены [производится расчет](#scene_import) отражательной способности (i.landsat.toar).\n",
    "4. [Импортируются растры](#import_planet) PlanetLabs (без расчета ToAR).\n",
    "5. [Импортированы контура](#import_train) рубок за 2015-2016гг.\n",
    "6. [Импортирован слой лесов](#import_forest2000) за 2000 г.(на основе данных https://earthenginepartners.appspot.com/science-2013-global-forest/download_v1.2.html).\n",
    "\n",
    "(Импорт STRM описывается в [отдельном документе](006_TopoCorrection.ipynb), посвященном топографической коррекции)"
   ]
  },
  {
   "cell_type": "markdown",
   "metadata": {},
   "source": [
    "## Вспомогательные функции и модули"
   ]
  },
  {
   "cell_type": "markdown",
   "metadata": {},
   "source": [
    "Импортируем вспомогательные модули."
   ]
  },
  {
   "cell_type": "code",
   "execution_count": 1,
   "metadata": {
    "collapsed": false
   },
   "outputs": [
    {
     "data": {
      "text/plain": [
       "<module 'utilites' from 'utilites.pyc'>"
      ]
     },
     "execution_count": 1,
     "metadata": {},
     "output_type": "execute_result"
    }
   ],
   "source": [
    "import os\n",
    "import glob\n",
    "import tempfile\n",
    "import shutil\n",
    "import datetime\n",
    "\n",
    "import utilites\n",
    "reload(utilites)"
   ]
  },
  {
   "cell_type": "markdown",
   "metadata": {},
   "source": [
    "Импортируем функции для выполнения рутинных действий."
   ]
  },
  {
   "cell_type": "markdown",
   "metadata": {},
   "source": [
    "Функция распаковки архивов. Параметры: data_file -- архив, extract_dir -- каталог, в который производится распаковка."
   ]
  },
  {
   "cell_type": "code",
   "execution_count": 2,
   "metadata": {
    "collapsed": false
   },
   "outputs": [],
   "source": [
    "from utilites import unpack"
   ]
  },
  {
   "cell_type": "markdown",
   "metadata": {},
   "source": [
    "Функции, чтобы не запутаться в том, как формируется название location (будут использоваться в разных местах кода):"
   ]
  },
  {
   "cell_type": "code",
   "execution_count": 3,
   "metadata": {
    "collapsed": false
   },
   "outputs": [
    {
     "name": "stdout",
     "output_type": "stream",
     "text": [
      "/home/cruncher/GRASSDATA/FOREST\n"
     ]
    }
   ],
   "source": [
    "from utilites import (\n",
    "    get_grassdata_path,\n",
    "    get_location_name,\n",
    "    get_ll_location_name,\n",
    "    get_location_path,\n",
    ")\n",
    "\n",
    "print get_location_path()"
   ]
  },
  {
   "cell_type": "markdown",
   "metadata": {},
   "source": [
    "Функции для работы с файлами сцены:"
   ]
  },
  {
   "cell_type": "code",
   "execution_count": 4,
   "metadata": {
    "collapsed": true
   },
   "outputs": [],
   "source": [
    "from utilites import (\n",
    "    filename_to_bandname,\n",
    "    get_raster_list,\n",
    "    find_meta\n",
    ")"
   ]
  },
  {
   "cell_type": "markdown",
   "metadata": {},
   "source": [
    "## Импорт данных"
   ]
  },
  {
   "cell_type": "markdown",
   "metadata": {},
   "source": [
    "Сначала создадим объект GRASS, через который будем выполнять запросы."
   ]
  },
  {
   "cell_type": "code",
   "execution_count": 5,
   "metadata": {
    "collapsed": false
   },
   "outputs": [],
   "source": [
    "from grasslib import GRASS\n",
    "\n",
    "grs = GRASS(gisbase='/usr/lib/grass70', \n",
    "            dbase=get_grassdata_path(), \n",
    "            location=get_location_name()\n",
    ")"
   ]
  },
  {
   "cell_type": "markdown",
   "metadata": {},
   "source": [
    "### Импорт Landsat<a id='import_landsat'></a>"
   ]
  },
  {
   "cell_type": "markdown",
   "metadata": {},
   "source": [
    "Пусть сцены лежат в подкаталоге Data домашнего каталога. Создадим переменную SCENE_DIR, храняющую пути к этому каталогу:"
   ]
  },
  {
   "cell_type": "code",
   "execution_count": null,
   "metadata": {
    "collapsed": false
   },
   "outputs": [],
   "source": [
    "HOME_DIR = os.getenv(\"HOME\")\n",
    "SCENE_DIR = os.path.join(HOME_DIR, 'Data', 'LANDSAT', 'Winter')\n",
    "\n",
    "print SCENE_DIR"
   ]
  },
  {
   "cell_type": "markdown",
   "metadata": {},
   "source": [
    "Получим список сцен:"
   ]
  },
  {
   "cell_type": "code",
   "execution_count": null,
   "metadata": {
    "collapsed": false
   },
   "outputs": [],
   "source": [
    "scenes = glob.glob(os.path.join(SCENE_DIR, '*gz'))\n",
    "\n",
    "print scenes"
   ]
  },
  {
   "cell_type": "markdown",
   "metadata": {},
   "source": [
    "#### Создание БД GRASS <a id='create_location'></a>"
   ]
  },
  {
   "cell_type": "markdown",
   "metadata": {},
   "source": [
    "Если область GRASS для работы уже создана, можно сразу переходить к [импорту сцен](#scene_import). Если нет -- создадим в домашнем каталоге каталог GRASSDATA и внутри него LOCATION для хранения сцен. Для этого распакуем во временный каталог первую сцену, прочитаем из нее геоданные и создадим соответствующий LOCATION."
   ]
  },
  {
   "cell_type": "code",
   "execution_count": null,
   "metadata": {
    "collapsed": false
   },
   "outputs": [],
   "source": [
    "scene = scenes[0]\n",
    "location = get_location_path()\n",
    "\n",
    "try:\n",
    "    temp_dir = tempfile.mkdtemp()\n",
    "    print temp_dir\n",
    "    if unpack(scene, temp_dir):\n",
    "        print 'Unpacked'\n",
    "    else:\n",
    "        print \"Can't unpack scene\"\n",
    "    \n",
    "    # Возьмем первый попавшийся канал и прочитаем из него геоданные\n",
    "    file_list = get_raster_list(temp_dir)\n",
    "    geofile = os.path.join(temp_dir, file_list[0])\n",
    "    print geofile\n",
    "    \n",
    "    cmd = 'grass70 -text -e -c %s %s' % (geofile, location)\n",
    "    print cmd\n",
    "    \n",
    "    exitcode = os.system(cmd)\n",
    "    if exitcode != 0:\n",
    "        print \"Can't create location\"\n",
    "finally:\n",
    "    shutil.rmtree(temp_dir)\n",
    "    print 'Removed'\n"
   ]
  },
  {
   "cell_type": "markdown",
   "metadata": {},
   "source": [
    "### MAPSET"
   ]
  },
  {
   "cell_type": "markdown",
   "metadata": {},
   "source": [
    "Поскольку у на с данные из разных источников, удобнее их хранить в различных MAPSET:\n",
    " * landsat\n",
    " * planet"
   ]
  },
  {
   "cell_type": "code",
   "execution_count": null,
   "metadata": {
    "collapsed": false
   },
   "outputs": [],
   "source": [
    "grs.grass.run_command('g.mapset', mapset='landsat', flags='c')\n",
    "grs.grass.run_command('g.mapset', mapset='planet', flags='c')"
   ]
  },
  {
   "cell_type": "markdown",
   "metadata": {},
   "source": [
    "#### Импорт сцен <a id='scene_import'></a>"
   ]
  },
  {
   "cell_type": "markdown",
   "metadata": {},
   "source": [
    "Импортируем сцены и рассчитаем спектральную отражательную способность (ToAR Reflectance):\n",
    "\n",
    "1. Распаковываем сцену во временный каталог.\n",
    "2. Импортируем каналы сцены.\n",
    "3. Устанавливаем значения null (нет данных).\n",
    "4. Рассчитываем отражательную способность.\n",
    "5. i.landsat.toar может генерировать значения яркостей пикселей, выходящие за допустимый диапазон [0, 1]. Это происходит из-за неточных параметров в метаданных. Пробежимся по всем созданным растрам и отсечем то, что выходит из допустимых пределов.\n",
    "6. Создадим временной штамп\n",
    "7. Прописываем другие метаданные (угол Солнца и пр.)\n",
    "8. Удаляем импортированные растры, хранящие DN (уже не нужны, есть растры отражательной способности).\n",
    "9. Удаляем временный каталог, содержащий распакованные сцены."
   ]
  },
  {
   "cell_type": "code",
   "execution_count": null,
   "metadata": {
    "collapsed": false
   },
   "outputs": [],
   "source": [
    "# Определим для удобства функцию\n",
    "def import_scene(grs, scene):\n",
    "    try:\n",
    "        # Шаг 1\n",
    "        temp_dir = tempfile.mkdtemp()\n",
    "        if unpack(scene, temp_dir):\n",
    "            print 'Unpacked', scene\n",
    "        else:\n",
    "            print \"Can't unpack scene\", scene\n",
    "            \n",
    "        metafile = find_meta(temp_dir)\n",
    "        # Создадим Timestamp по дате создания снимка\n",
    "        \n",
    "        #  number: Landsat Number\n",
    "        #  creation: Creation timestamp\n",
    "        #  date: Date\n",
    "        #  sun_elev: Sun Elevation\n",
    "        #  sensor: Sensor\n",
    "        #  bands: Bands count\n",
    "        #  sunaz: Sun Azimuth Angle\n",
    "        #  time: Time\n",
    "        creation = grs.grass.read_command(\n",
    "            'i.landsat.toar', input='dummy', output='dummy',\n",
    "            metfile=metafile, lsatmet='date', flags='p').split()\n",
    "        \n",
    "        metadata = {}\n",
    "        meta_keys = ['number', 'creation', 'date', 'sun_elev', 'sensor',\n",
    "                    'bands', 'sunaz', 'time']\n",
    "        for key in meta_keys:\n",
    "            value = grs.grass.read_command(\n",
    "                'i.landsat.toar', input='dummy', output='dummy',\n",
    "                metfile=metafile, lsatmet=key, flags='p'\n",
    "            ).split()[0]\n",
    "            metadata[key] = value\n",
    "\n",
    "        # Создадим Timestamp по дате создания снимка\n",
    "        # creation: \"date=2015-12-31\"\n",
    "        creation = metadata['creation'].split('=')[1]\n",
    "        y, m, d = [int(x) for x in creation.split('-')]\n",
    "        creation = datetime.datetime(y, m, d)\n",
    "        creation = creation.strftime('%-d %b %Y').lower()\n",
    "\n",
    "        rasters = get_raster_list(temp_dir)\n",
    "        for rst in rasters:\n",
    "            # Шаг 2\n",
    "            band_name = filename_to_bandname(rst)\n",
    "            grs.grass.run_command('r.in.gdal', input=rst, output=band_name, overwrite=True, flags='e')\n",
    "            # Не все растры будут удалены, поэтому timestamp ставим на все, чтобы не разбирать,\n",
    "            # где он нужен, а где нет\n",
    "            grs.grass.run_command('r.timestamp', map=band_name, date=creation)\n",
    "\n",
    "            # Шаг 3\n",
    "            grs.grass.run_command('r.null', map=band_name, setnull=0)\n",
    "\n",
    "\n",
    "        # Шаг 4\n",
    "        indx = band_name.rindex('B')    # Названия всех каналов устроены одинаково\n",
    "        prefix = band_name[:indx + 1]   # поэтому для вычисления префикса можно использовать любой\n",
    "        toar_pref = 'toar_' + prefix\n",
    "        \n",
    "        grs.grass.run_command('g.region', raster=prefix+'1') # Охват одинаковый у всех каналов\n",
    "        grs.grass.run_command('i.landsat.toar', input=prefix, output=toar_pref,\n",
    "               metfile=metafile, sensor='oli8', overwrite=True)\n",
    "        # Коррекция + Timestamp\n",
    "        for rst in grs.grass.list_strings('rast', mapset='landsat', pattern=toar_pref+'*'):\n",
    "            # Шаг 5\n",
    "            rst_name = rst.split('@')[0]\n",
    "            if rst_name[-2:] in ['B1', 'B2', 'B3', 'B4', 'B5', 'B6', 'B7', 'B8', 'B9']:\n",
    "                # print \"%s = max(min(%s, 1.0), 0.0)\" % (rst_name, rst)\n",
    "                grs.grass.run_command('r.mapcalc',\n",
    "                              expression=\"%s = max(min(%s, 1.0), 0.0)\" % (rst_name, rst),\n",
    "                              overwrite=True)\n",
    "\n",
    "            # Шаг 6\n",
    "            grs.grass.run_command('r.timestamp', map=rst, date=creation)\n",
    "            # Шаг 7\n",
    "            for key in meta_keys:\n",
    "                meta = \"METADATA: %s\" % (metadata[key], )\n",
    "                grs.grass.run_command('r.support', map=rst, hist=meta)\n",
    "            \n",
    "\n",
    "        # Шаг 8\n",
    "        grs.grass.run_command('g.remove', type='rast', \n",
    "                              pattern='%s*' % (prefix, ), \n",
    "                              exclude=\"*BQA\",\n",
    "                              flags='f')\n",
    "\n",
    "\n",
    "    finally:\n",
    "        # Шаг 9\n",
    "        shutil.rmtree(temp_dir)\n",
    "        print 'Removed', scene"
   ]
  },
  {
   "cell_type": "code",
   "execution_count": null,
   "metadata": {
    "collapsed": false
   },
   "outputs": [],
   "source": [
    "creation ='-'\n",
    "for rst in grs.grass.list_strings('rast', mapset='landsat', pattern='toar_LC81120272015365LGN00_B*'):\n",
    "    print rst\n"
   ]
  },
  {
   "cell_type": "markdown",
   "metadata": {},
   "source": [
    "Переключимся в MAPSET landsat и импортируем данные:"
   ]
  },
  {
   "cell_type": "code",
   "execution_count": null,
   "metadata": {
    "collapsed": false,
    "scrolled": true
   },
   "outputs": [],
   "source": [
    "grs.grass.run_command('g.mapset', mapset='landsat')\n",
    "\n",
    "for scene in scenes:\n",
    "    # print scene\n",
    "    import_scene(grs, scene)"
   ]
  },
  {
   "cell_type": "markdown",
   "metadata": {},
   "source": [
    "#### Группы растров"
   ]
  },
  {
   "cell_type": "markdown",
   "metadata": {},
   "source": [
    "Создадим группы растров для удобства работы (многие GRASSовские модули обработки изображений \"хотят\" на входе группу)."
   ]
  },
  {
   "cell_type": "code",
   "execution_count": null,
   "metadata": {
    "collapsed": false
   },
   "outputs": [],
   "source": [
    "print grs.grass.read_command('g.mapset', flags='p')\n",
    "rasters = grs.grass.list_strings(\"rast\")\n",
    "print rasters[:10]"
   ]
  },
  {
   "cell_type": "code",
   "execution_count": null,
   "metadata": {
    "collapsed": false
   },
   "outputs": [],
   "source": [
    "group_names = set([name.rpartition('_')[0] for name in rasters])\n",
    "group_names = list(group_names)\n",
    "\n",
    "for gname in group_names:\n",
    "    rnames = grs.grass.read_command('g.list', type='raster', \n",
    "                              pattern=gname+'*', \n",
    "                              separator=',')\n",
    "    rnames = rnames.strip()\n",
    "    grs.grass.run_command('g.remove', type='group', name=gname, flags='f')  # Удалим группу, если она есть\n",
    "    grs.grass.run_command('i.group', group=gname, input=rnames)"
   ]
  },
  {
   "cell_type": "code",
   "execution_count": null,
   "metadata": {
    "collapsed": false
   },
   "outputs": [],
   "source": [
    "groups = grs.grass.read_command('g.list', type='group', mapset='landsat')\n",
    "print groups"
   ]
  },
  {
   "cell_type": "code",
   "execution_count": null,
   "metadata": {
    "collapsed": false
   },
   "outputs": [],
   "source": [
    "example = grs.grass.read_command('i.group', group=gname, flags='lg')\n",
    "print gname"
   ]
  },
  {
   "cell_type": "markdown",
   "metadata": {},
   "source": [
    "### Импорт данных PlanetLabs<a id='import_planet'></a>"
   ]
  },
  {
   "cell_type": "markdown",
   "metadata": {},
   "source": [
    "Пропишем пути:"
   ]
  },
  {
   "cell_type": "code",
   "execution_count": null,
   "metadata": {
    "collapsed": false
   },
   "outputs": [],
   "source": [
    "HOME_DIR = os.getenv(\"HOME\")\n",
    "SCENE_DIR = os.path.join(HOME_DIR, 'Data', 'PLANET')\n",
    "\n",
    "print SCENE_DIR"
   ]
  },
  {
   "cell_type": "markdown",
   "metadata": {},
   "source": [
    "Функция импорта сцены (она значительно проще, чем фукнция импорта LANDSAT, поскольку данные хранятся в виде многоканального Geotiff). При этом там присутствует альфа-канал, в котором замаскированны значения \"нет-данных\": все, что лежит вне диапазона 255 альфа-канала, является недостоверным и должно быть сброшено в null."
   ]
  },
  {
   "cell_type": "code",
   "execution_count": null,
   "metadata": {
    "collapsed": true
   },
   "outputs": [],
   "source": [
    "# Определим для удобства функцию\n",
    "def import_planet_scene(grs, scene):\n",
    "    \n",
    "    name = filename_to_bandname(scene)\n",
    "    print name\n",
    "    grs.grass.run_command('r.in.gdal', input=scene, output=name, overwrite=True, flags='e')\n",
    "    # Timestamp\n",
    "    y, m, d = int(name[:4]), int(name[4:6]), int(name[6:8])\n",
    "    creation = datetime.datetime(y, m, d)\n",
    "    creation = creation.strftime('%-d %b %Y').lower()\n",
    "    \n",
    "    grs.grass.run_command('g.region', raster=name + '.red')\n",
    "    \n",
    "    \n",
    "    # Установим null по альфа-каналу:\n",
    "    for suffix in ['red', 'green', 'blue']:\n",
    "        expr = \"%s.%s = if(%s.alpha==255, %s.%s, null())\" % (name, suffix, name, name, suffix)\n",
    "        grs.grass.run_command('r.mapcalc', expression=expr, overwrite=True)\n",
    "        grs.grass.run_command('r.timestamp', map=\"%s.%s\" % (name, suffix), date=creation)\n",
    "    \n",
    "    grs.grass.run_command('r.composite', \n",
    "                          red=name + '.red',\n",
    "                          green=name + '.green',\n",
    "                          blue=name + '.blue',\n",
    "                          output=name + '.composite',\n",
    "                          levels=256,\n",
    "                          overwrite=True\n",
    "    )\n",
    "       "
   ]
  },
  {
   "cell_type": "markdown",
   "metadata": {},
   "source": [
    "Запускаем импорт:"
   ]
  },
  {
   "cell_type": "code",
   "execution_count": null,
   "metadata": {
    "collapsed": false
   },
   "outputs": [],
   "source": [
    "grs.grass.run_command('g.mapset', mapset='planet')\n",
    "\n",
    "scenes = glob.glob(os.path.join(SCENE_DIR, '*tif'))\n",
    "\n",
    "for scene in scenes:\n",
    "    import_planet_scene(grs, scene)"
   ]
  },
  {
   "cell_type": "code",
   "execution_count": null,
   "metadata": {
    "collapsed": false
   },
   "outputs": [],
   "source": [
    "grs.grass.run_command('g.mapset', mapset='planet')\n",
    "grs.grass.run_command('g.region', res='3')\n",
    "print grs.grass.list_strings('rast', mapset='planet')\n",
    "print grs.grass.read_command('r.info', map='20160215_051104_0b0f_visual.red')"
   ]
  },
  {
   "cell_type": "markdown",
   "metadata": {
    "collapsed": false
   },
   "source": [
    "### Импорт рубок<a id='import_train'></a>"
   ]
  },
  {
   "cell_type": "code",
   "execution_count": null,
   "metadata": {
    "collapsed": false
   },
   "outputs": [],
   "source": [
    "grs.grass.run_command('g.mapset', mapset='PERMANENT')"
   ]
  },
  {
   "cell_type": "markdown",
   "metadata": {},
   "source": [
    "Пусть данные по рубкам лежат в каталоге \"Data/ALARM/trainings2016\"."
   ]
  },
  {
   "cell_type": "code",
   "execution_count": null,
   "metadata": {
    "collapsed": false
   },
   "outputs": [],
   "source": [
    "train_file = os.path.join(\n",
    "    HOME_DIR,'Data/ALARM/trainings2016', 'training2015-2016_winter.shp')"
   ]
  },
  {
   "cell_type": "code",
   "execution_count": null,
   "metadata": {
    "collapsed": false
   },
   "outputs": [],
   "source": [
    "grs.grass.run_command(\n",
    "    'v.in.ogr', input=train_file,\n",
    "    output='train15_16', overwrite=True\n",
    ")"
   ]
  },
  {
   "cell_type": "code",
   "execution_count": null,
   "metadata": {
    "collapsed": false
   },
   "outputs": [],
   "source": [
    "grs.grass.run_command(\"v.db.addcolumn\", map=\"train15_16\", columns=\"jdate int, jday int, jyear int\")\n",
    "grs.grass.run_command('v.db.update', map='train15_16', column='jdate', query_column=\"date\")\n",
    "grs.grass.run_command('v.db.update', map='train15_16', column='jyear', query_column=\"substr(date, 1, 2)\")\n",
    "grs.grass.run_command('v.db.update', map='train15_16', column='jday', query_column=\"substr(date, 3)\")"
   ]
  },
  {
   "cell_type": "markdown",
   "metadata": {},
   "source": [
    "Добавим в БД координаты центроида рубки."
   ]
  },
  {
   "cell_type": "code",
   "execution_count": null,
   "metadata": {
    "collapsed": false
   },
   "outputs": [],
   "source": [
    "grs.grass.run_command(\"v.db.addcolumn\", map=\"train15_16\", columns=\"x double, y double\")\n",
    "grs.grass.run_command(\"v.to.db\", map=\"train15_16\", \n",
    "                      type=\"centroid\", option=\"coor\", columns=\"x,y\")"
   ]
  },
  {
   "cell_type": "code",
   "execution_count": null,
   "metadata": {
    "collapsed": false
   },
   "outputs": [],
   "source": [
    "rows = grs.grass.read_command(\"v.db.select\", map=\"train15_16\", flags='c')\n",
    "rows = rows.split()\n",
    "for row in rows[:5]:\n",
    "    print row"
   ]
  },
  {
   "cell_type": "markdown",
   "metadata": {},
   "source": [
    "### Импорт слоя лесов<a id='import_forest2000'></a>"
   ]
  },
  {
   "cell_type": "markdown",
   "metadata": {},
   "source": [
    "Сначала импортируем данные по лесному покрову в область с системой координат Широта/Долгота, а затем перепроецируем их в отдельную область с системой кооднитат UTM."
   ]
  },
  {
   "cell_type": "code",
   "execution_count": 9,
   "metadata": {
    "collapsed": false
   },
   "outputs": [
    {
     "data": {
      "text/plain": [
       "0"
      ]
     },
     "execution_count": 9,
     "metadata": {},
     "output_type": "execute_result"
    }
   ],
   "source": [
    "grs = GRASS(gisbase='/usr/lib/grass70', \n",
    "            dbase=get_grassdata_path(), \n",
    "            location=get_ll_location_name()\n",
    ")\n",
    "\n",
    "grs.grass.run_command('g.mapset', mapset='treecover', flags='c')"
   ]
  },
  {
   "cell_type": "markdown",
   "metadata": {},
   "source": [
    "Импортируем данные:"
   ]
  },
  {
   "cell_type": "code",
   "execution_count": 10,
   "metadata": {
    "collapsed": false
   },
   "outputs": [
    {
     "data": {
      "text/plain": [
       "0"
      ]
     },
     "execution_count": 10,
     "metadata": {},
     "output_type": "execute_result"
    }
   ],
   "source": [
    "HOME_DIR = os.getenv(\"HOME\")\n",
    "DATA_DIR = os.path.join(HOME_DIR, 'Data', 'UMD', 'TreeCover')\n",
    "name = os.path.join(DATA_DIR, 'Hansen_GFC2015_treecover2000_50N_130E.tif')\n",
    "\n",
    "grs.grass.run_command('r.in.gdal', input=name, output='treecover', overwrite=True)"
   ]
  },
  {
   "cell_type": "markdown",
   "metadata": {},
   "source": [
    "Перепроецируем, для этого переключимся в область UTM и создадим отдельный набор данных для хранения treecover:"
   ]
  },
  {
   "cell_type": "code",
   "execution_count": 11,
   "metadata": {
    "collapsed": false
   },
   "outputs": [
    {
     "name": "stdout",
     "output_type": "stream",
     "text": [
      "treecover\n",
      "\n"
     ]
    }
   ],
   "source": [
    "grs = GRASS(gisbase='/usr/lib/grass70', \n",
    "            dbase=get_grassdata_path(), \n",
    "            location=get_location_name()\n",
    ")\n",
    "\n",
    "grs.grass.run_command('g.mapset', mapset='treecover', flags='c')\n",
    "print grs.grass.read_command('g.mapset', flags='p')"
   ]
  },
  {
   "cell_type": "markdown",
   "metadata": {},
   "source": [
    "Установим регион, покрывающий все интересующие нас сцены:"
   ]
  },
  {
   "cell_type": "code",
   "execution_count": 12,
   "metadata": {
    "collapsed": false
   },
   "outputs": [
    {
     "data": {
      "text/plain": [
       "0"
      ]
     },
     "execution_count": 12,
     "metadata": {},
     "output_type": "execute_result"
    }
   ],
   "source": [
    "grs.grass.run_command('g.region', region='all_scenes@landsat')"
   ]
  },
  {
   "cell_type": "markdown",
   "metadata": {},
   "source": [
    "Перепроецируем:"
   ]
  },
  {
   "cell_type": "code",
   "execution_count": 13,
   "metadata": {
    "collapsed": false
   },
   "outputs": [
    {
     "data": {
      "text/plain": [
       "0"
      ]
     },
     "execution_count": 13,
     "metadata": {},
     "output_type": "execute_result"
    }
   ],
   "source": [
    "grs.grass.run_command('r.proj', location=get_ll_location_name(), mapset='treecover', \n",
    "                      input='treecover', output='treecover', overwrite=True)"
   ]
  },
  {
   "cell_type": "markdown",
   "metadata": {},
   "source": [
    "#### Создание маски лесов"
   ]
  },
  {
   "cell_type": "markdown",
   "metadata": {},
   "source": [
    "Переклассифицируем слой в маску лесов, пометив 0 (не лес) все, что покрыто лесами менее чем на 30%:"
   ]
  },
  {
   "cell_type": "code",
   "execution_count": 19,
   "metadata": {
    "collapsed": false
   },
   "outputs": [
    {
     "name": "stdout",
     "output_type": "stream",
     "text": [
      "+-----------------------------------------------------------------------------+\n",
      "|                         RASTER MAP CATEGORY REPORT                          |\n",
      "|LOCATION: FOREST                                     Wed Jan 25 15:24:03 2017|\n",
      "|-----------------------------------------------------------------------------|\n",
      "|          north: 5374515    east: 708015                                     |\n",
      "|REGION    south: 4978485    west: 350985                                     |\n",
      "|          res:        30    res:      30                                     |\n",
      "|-----------------------------------------------------------------------------|\n",
      "|MASK: none                                                                   |\n",
      "|-----------------------------------------------------------------------------|\n",
      "|MAP: Reclass of treecover in treecover (forest.mask.30 in treecover)         |\n",
      "|-----------------------------------------------------------------------------|\n",
      "|                       Category Information                        |     cell|\n",
      "|#|description                                                      |    count|\n",
      "|-----------------------------------------------------------------------------|\n",
      "|0|non-forest . . . . . . . . . . . . . . . . . . . . . . . . . . . | 46660306|\n",
      "|1|forest . . . . . . . . . . . . . . . . . . . . . . . . . . . . . |110444795|\n",
      "|-----------------------------------------------------------------------------|\n",
      "|TOTAL                                                              |157105101|\n",
      "+-----------------------------------------------------------------------------+\n",
      "\n"
     ]
    }
   ],
   "source": [
    "rules = \"\"\"\n",
    "0 thru 30\t= 0\t\tnon-forest\n",
    "* \t\t\t= 1\t\tforest\n",
    "\"\"\"\n",
    "\n",
    "grs.grass.write_command('r.reclass', \n",
    "                        input='treecover', rules='-', output='forest.mask.30', stdin=rules, \n",
    "                        overwrite=True)\n",
    "\n",
    "print grs.grass.read_command('r.report', map='forest.mask.30', units='c')"
   ]
  }
 ],
 "metadata": {
  "kernelspec": {
   "display_name": "Python 2",
   "language": "python",
   "name": "python2"
  },
  "language_info": {
   "codemirror_mode": {
    "name": "ipython",
    "version": 2
   },
   "file_extension": ".py",
   "mimetype": "text/x-python",
   "name": "python",
   "nbconvert_exporter": "python",
   "pygments_lexer": "ipython2",
   "version": "2.7.6"
  }
 },
 "nbformat": 4,
 "nbformat_minor": 0
}
