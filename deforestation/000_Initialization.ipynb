{
 "cells": [
  {
   "cell_type": "markdown",
   "metadata": {},
   "source": [
    "# Поиск вырубок. Инициализация."
   ]
  },
  {
   "cell_type": "markdown",
   "metadata": {},
   "source": [
    "Описывается инициализация данных. Без особых подробностей, основные этапы:\n",
    "\n",
    "1. Основное хранилище данных - GRASS GIS.\n",
    "2. В БД импортируются растры Landsat 8.\n",
    "3. Для каждой сцены производится расчет отражательной способности (i.landsat.toar), атмосферной коррекции не производится.\n",
    "4. Импортированы контура рубок за 2015-2016гг."
   ]
  },
  {
   "cell_type": "markdown",
   "metadata": {},
   "source": [
    "## Содержимое PERMANENT"
   ]
  },
  {
   "cell_type": "code",
   "execution_count": 1,
   "metadata": {
    "collapsed": false
   },
   "outputs": [],
   "source": [
    "from grasslib import GRASS\n",
    "grs = GRASS(gisbase='/usr/lib/grass70', dbase='/home/dima/GRASSDATA', location='AML')"
   ]
  },
  {
   "cell_type": "code",
   "execution_count": 2,
   "metadata": {
    "collapsed": false
   },
   "outputs": [
    {
     "name": "stdout",
     "output_type": "stream",
     "text": [
      "['LC81120272015157LGN00_B1', 'LC81120272015157LGN00_B10', 'LC81120272015157LGN00_B11', 'LC81120272015157LGN00_B2', 'LC81120272015157LGN00_B3', 'LC81120272015157LGN00_B4', 'LC81120272015157LGN00_B5', 'LC81120272015157LGN00_B6', 'LC81120272015157LGN00_B7', 'LC81120272015157LGN00_B8']\n"
     ]
    }
   ],
   "source": [
    "rasters = grs.grass.read_command('g.list', type='raster').split()\n",
    "print rasters[:10]"
   ]
  },
  {
   "cell_type": "code",
   "execution_count": 3,
   "metadata": {
    "collapsed": false
   },
   "outputs": [
    {
     "name": "stdout",
     "output_type": "stream",
     "text": [
      "train15_16\n",
      "\n"
     ]
    }
   ],
   "source": [
    "vectors = grs.grass.read_command('g.list', type='vector')\n",
    "print vectors"
   ]
  },
  {
   "cell_type": "markdown",
   "metadata": {},
   "source": [
    "Создадим группы растров для удобства работы"
   ]
  },
  {
   "cell_type": "code",
   "execution_count": 4,
   "metadata": {
    "collapsed": false
   },
   "outputs": [
    {
     "name": "stdout",
     "output_type": "stream",
     "text": [
      "LC81120272015157LGN00\n",
      "LC81120272015189LGN00\n",
      "LC81120272015333LGN00\n",
      "LC81120272015365LGN00\n",
      "LC81120272016032LGN01\n",
      "LC81120282015141LGN00\n",
      "LC81120282015189LGN00\n",
      "LC81120282015237LGN00\n",
      "LC81120282015317LGN00\n",
      "LC81120282015365LGN00\n",
      "LC81120282016016LGN00\n",
      "LC81120282016032LGN01\n",
      "toar_LC81120272015157LGN00\n",
      "toar_LC81120272015189LGN00\n",
      "toar_LC81120272015333LGN00\n",
      "toar_LC81120272015365LGN00\n",
      "toar_LC81120272016032LGN01\n",
      "toar_LC81120282015141LGN00\n",
      "toar_LC81120282015189LGN00\n",
      "toar_LC81120282015237LGN00\n",
      "toar_LC81120282015317LGN00\n",
      "toar_LC81120282015365LGN00\n",
      "toar_LC81120282016016LGN00\n",
      "toar_LC81120282016032LGN01\n",
      "\n"
     ]
    }
   ],
   "source": [
    "group_names = set([name.rpartition('_')[0] for name in rasters])\n",
    "group_names = list(group_names)\n",
    "\n",
    "for gname in group_names:\n",
    "    rnames = grs.grass.read_command('g.list', type='raster', \n",
    "                              pattern=gname+'*', \n",
    "                              separator=',')\n",
    "    rnames = rnames.strip()\n",
    "    grs.grass.run_command('i.group', group=gname,\n",
    "                   input=rnames)\n",
    "\n",
    "groups = grs.grass.read_command('g.list', type='group')\n",
    "print groups"
   ]
  },
  {
   "cell_type": "code",
   "execution_count": 5,
   "metadata": {
    "collapsed": false
   },
   "outputs": [
    {
     "name": "stdout",
     "output_type": "stream",
     "text": [
      "toar_LC81120282016016LGN00_B1@PERMANENT\n",
      "toar_LC81120282016016LGN00_B10@PERMANENT\n",
      "toar_LC81120282016016LGN00_B11@PERMANENT\n",
      "toar_LC81120282016016LGN00_B2@PERMANENT\n",
      "toar_LC81120282016016LGN00_B3@PERMANENT\n",
      "toar_LC81120282016016LGN00_B4@PERMANENT\n",
      "toar_LC81120282016016LGN00_B5@PERMANENT\n",
      "toar_LC81120282016016LGN00_B6@PERMANENT\n",
      "toar_LC81120282016016LGN00_B7@PERMANENT\n",
      "toar_LC81120282016016LGN00_B8@PERMANENT\n",
      "toar_LC81120282016016LGN00_B9@PERMANENT\n",
      "\n"
     ]
    }
   ],
   "source": [
    "example = grs.grass.read_command('i.group', group=gname, flags='lg')\n",
    "print example"
   ]
  },
  {
   "cell_type": "code",
   "execution_count": null,
   "metadata": {
    "collapsed": false
   },
   "outputs": [],
   "source": []
  }
 ],
 "metadata": {
  "kernelspec": {
   "display_name": "Python 2",
   "language": "python",
   "name": "python2"
  },
  "language_info": {
   "codemirror_mode": {
    "name": "ipython",
    "version": 2
   },
   "file_extension": ".py",
   "mimetype": "text/x-python",
   "name": "python",
   "nbconvert_exporter": "python",
   "pygments_lexer": "ipython2",
   "version": "2.7.6"
  }
 },
 "nbformat": 4,
 "nbformat_minor": 0
}
