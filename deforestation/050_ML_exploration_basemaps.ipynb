{
 "cells": [
  {
   "cell_type": "markdown",
   "metadata": {
    "deletable": true,
    "editable": true
   },
   "source": [
    "# Поиск отличий классов вырубка/не-вырубка с использованием базовых слоев"
   ]
  },
  {
   "cell_type": "markdown",
   "metadata": {
    "deletable": true,
    "editable": true
   },
   "source": [
    "Параметры подключения к БД GRASS:"
   ]
  },
  {
   "cell_type": "code",
   "execution_count": 1,
   "metadata": {
    "collapsed": true,
    "deletable": true,
    "editable": true
   },
   "outputs": [],
   "source": [
    "source('grasslib.R')"
   ]
  },
  {
   "cell_type": "code",
   "execution_count": 2,
   "metadata": {
    "collapsed": false,
    "deletable": true,
    "editable": true
   },
   "outputs": [
    {
     "name": "stderr",
     "output_type": "stream",
     "text": [
      "Loading required package: sp\n",
      "Loading required package: XML\n",
      "GRASS GIS interface loaded with GRASS version: (GRASS not running)\n"
     ]
    }
   ],
   "source": [
    "library(rgrass7)"
   ]
  },
  {
   "cell_type": "markdown",
   "metadata": {
    "deletable": true,
    "editable": true
   },
   "source": [
    "## Исходные данные"
   ]
  },
  {
   "cell_type": "markdown",
   "metadata": {
    "deletable": true,
    "editable": true
   },
   "source": [
    "Подключимся к БД GRASS и прочитаем растры в переменную для дальнейшего анализа:"
   ]
  },
  {
   "cell_type": "code",
   "execution_count": 3,
   "metadata": {
    "collapsed": false,
    "deletable": true,
    "editable": true
   },
   "outputs": [
    {
     "data": {
      "text/plain": [
       "gisdbase    //home/klsvd/GRASSDATA \n",
       "location    FOREST \n",
       "mapset      basemap_test \n",
       "rows        4400 \n",
       "columns     3967 \n",
       "north       5374515 \n",
       "south       4978485 \n",
       "west        350985 \n",
       "east        708015 \n",
       "nsres       90.00682 \n",
       "ewres       90 \n",
       "projection  +proj=utm +no_defs +zone=53 +a=6378137 +rf=298.257223563\n",
       "+towgs84=0.000,0.000,0.000 +to_meter=1 "
      ]
     },
     "metadata": {},
     "output_type": "display_data"
    }
   ],
   "source": [
    "initGRASS(gisBase = get_gisbase_path(), home = tempdir(), \n",
    "          gisDbase = get_grassdata_path(),\n",
    "          location = get_location_name(), mapset = \"basemap_test\")"
   ]
  },
  {
   "cell_type": "markdown",
   "metadata": {
    "deletable": true,
    "editable": true
   },
   "source": [
    "Список растров, с которыми будем работать (сами растры сгенерированы в [блокноте](050_ML_basemaps.ipynb)). Это данные разностей между медианами зимних снимков за зиму 15-16 и 14-15 годов:"
   ]
  },
  {
   "cell_type": "code",
   "execution_count": 4,
   "metadata": {
    "collapsed": false,
    "deletable": true,
    "editable": true
   },
   "outputs": [
    {
     "name": "stdout",
     "output_type": "stream",
     "text": [
      "diff1615.1@basemaps\n",
      "diff1615.10@basemaps\n",
      "diff1615.11@basemaps\n",
      "diff1615.2@basemaps\n",
      "diff1615.3@basemaps\n",
      "diff1615.4@basemaps\n",
      "diff1615.5@basemaps\n",
      "diff1615.6@basemaps\n",
      "diff1615.7@basemaps\n",
      "diff1615.8@basemaps\n",
      "diff1615.9@basemaps\n"
     ]
    }
   ],
   "source": [
    "maps = execGRASS('g.list', parameters = list(type = \"rast\", pattern = \"diff1615*\", mapset=\"basemaps\"), flags = \"m\")"
   ]
  },
  {
   "cell_type": "code",
   "execution_count": 5,
   "metadata": {
    "collapsed": false,
    "deletable": true,
    "editable": true
   },
   "outputs": [
    {
     "data": {
      "text/html": [
       "<dl>\n",
       "\t<dt>$resOut</dt>\n",
       "\t\t<dd><ol class=list-inline>\n",
       "\t<li>'diff1615.1@basemaps'</li>\n",
       "\t<li>'diff1615.10@basemaps'</li>\n",
       "\t<li>'diff1615.11@basemaps'</li>\n",
       "\t<li>'diff1615.2@basemaps'</li>\n",
       "\t<li>'diff1615.3@basemaps'</li>\n",
       "\t<li>'diff1615.4@basemaps'</li>\n",
       "\t<li>'diff1615.5@basemaps'</li>\n",
       "\t<li>'diff1615.6@basemaps'</li>\n",
       "\t<li>'diff1615.7@basemaps'</li>\n",
       "\t<li>'diff1615.8@basemaps'</li>\n",
       "\t<li>'diff1615.9@basemaps'</li>\n",
       "</ol>\n",
       "</dd>\n",
       "\t<dt>$resErr</dt>\n",
       "\t\t<dd></dd>\n",
       "</dl>\n"
      ],
      "text/latex": [
       "\\begin{description}\n",
       "\\item[\\$resOut] \\begin{enumerate*}\n",
       "\\item 'diff1615.1@basemaps'\n",
       "\\item 'diff1615.10@basemaps'\n",
       "\\item 'diff1615.11@basemaps'\n",
       "\\item 'diff1615.2@basemaps'\n",
       "\\item 'diff1615.3@basemaps'\n",
       "\\item 'diff1615.4@basemaps'\n",
       "\\item 'diff1615.5@basemaps'\n",
       "\\item 'diff1615.6@basemaps'\n",
       "\\item 'diff1615.7@basemaps'\n",
       "\\item 'diff1615.8@basemaps'\n",
       "\\item 'diff1615.9@basemaps'\n",
       "\\end{enumerate*}\n",
       "\n",
       "\\item[\\$resErr] \n",
       "\\end{description}\n"
      ],
      "text/markdown": [
       "$resOut\n",
       ":   1. 'diff1615.1@basemaps'\n",
       "2. 'diff1615.10@basemaps'\n",
       "3. 'diff1615.11@basemaps'\n",
       "4. 'diff1615.2@basemaps'\n",
       "5. 'diff1615.3@basemaps'\n",
       "6. 'diff1615.4@basemaps'\n",
       "7. 'diff1615.5@basemaps'\n",
       "8. 'diff1615.6@basemaps'\n",
       "9. 'diff1615.7@basemaps'\n",
       "10. 'diff1615.8@basemaps'\n",
       "11. 'diff1615.9@basemaps'\n",
       "\n",
       "\n",
       "\n",
       "$resErr\n",
       ":   \n",
       "\n",
       "\n"
      ],
      "text/plain": [
       "$resOut\n",
       " [1] \"diff1615.1@basemaps\"  \"diff1615.10@basemaps\" \"diff1615.11@basemaps\"\n",
       " [4] \"diff1615.2@basemaps\"  \"diff1615.3@basemaps\"  \"diff1615.4@basemaps\" \n",
       " [7] \"diff1615.5@basemaps\"  \"diff1615.6@basemaps\"  \"diff1615.7@basemaps\" \n",
       "[10] \"diff1615.8@basemaps\"  \"diff1615.9@basemaps\" \n",
       "\n",
       "$resErr\n",
       "character(0)\n"
      ]
     },
     "metadata": {},
     "output_type": "display_data"
    }
   ],
   "source": [
    "attributes(maps)\n",
    "maps = attributes(maps)$resOut"
   ]
  },
  {
   "cell_type": "code",
   "execution_count": 6,
   "metadata": {
    "collapsed": false,
    "deletable": true,
    "editable": true
   },
   "outputs": [
    {
     "data": {
      "text/html": [
       "<ol class=list-inline>\n",
       "\t<li>'diff1615.1@basemaps'</li>\n",
       "\t<li>'diff1615.10@basemaps'</li>\n",
       "\t<li>'diff1615.11@basemaps'</li>\n",
       "\t<li>'diff1615.2@basemaps'</li>\n",
       "\t<li>'diff1615.3@basemaps'</li>\n",
       "\t<li>'diff1615.4@basemaps'</li>\n",
       "\t<li>'diff1615.5@basemaps'</li>\n",
       "\t<li>'diff1615.6@basemaps'</li>\n",
       "\t<li>'diff1615.7@basemaps'</li>\n",
       "\t<li>'diff1615.8@basemaps'</li>\n",
       "\t<li>'diff1615.9@basemaps'</li>\n",
       "\t<li>'tr1516.alrm@basemaps'</li>\n",
       "</ol>\n"
      ],
      "text/latex": [
       "\\begin{enumerate*}\n",
       "\\item 'diff1615.1@basemaps'\n",
       "\\item 'diff1615.10@basemaps'\n",
       "\\item 'diff1615.11@basemaps'\n",
       "\\item 'diff1615.2@basemaps'\n",
       "\\item 'diff1615.3@basemaps'\n",
       "\\item 'diff1615.4@basemaps'\n",
       "\\item 'diff1615.5@basemaps'\n",
       "\\item 'diff1615.6@basemaps'\n",
       "\\item 'diff1615.7@basemaps'\n",
       "\\item 'diff1615.8@basemaps'\n",
       "\\item 'diff1615.9@basemaps'\n",
       "\\item 'tr1516.alrm@basemaps'\n",
       "\\end{enumerate*}\n"
      ],
      "text/markdown": [
       "1. 'diff1615.1@basemaps'\n",
       "2. 'diff1615.10@basemaps'\n",
       "3. 'diff1615.11@basemaps'\n",
       "4. 'diff1615.2@basemaps'\n",
       "5. 'diff1615.3@basemaps'\n",
       "6. 'diff1615.4@basemaps'\n",
       "7. 'diff1615.5@basemaps'\n",
       "8. 'diff1615.6@basemaps'\n",
       "9. 'diff1615.7@basemaps'\n",
       "10. 'diff1615.8@basemaps'\n",
       "11. 'diff1615.9@basemaps'\n",
       "12. 'tr1516.alrm@basemaps'\n",
       "\n",
       "\n"
      ],
      "text/plain": [
       " [1] \"diff1615.1@basemaps\"  \"diff1615.10@basemaps\" \"diff1615.11@basemaps\"\n",
       " [4] \"diff1615.2@basemaps\"  \"diff1615.3@basemaps\"  \"diff1615.4@basemaps\" \n",
       " [7] \"diff1615.5@basemaps\"  \"diff1615.6@basemaps\"  \"diff1615.7@basemaps\" \n",
       "[10] \"diff1615.8@basemaps\"  \"diff1615.9@basemaps\"  \"tr1516.alrm@basemaps\""
      ]
     },
     "metadata": {},
     "output_type": "display_data"
    }
   ],
   "source": [
    "names = c(maps, c(\"tr1516.alrm@basemaps\"))\n",
    "names"
   ]
  },
  {
   "cell_type": "markdown",
   "metadata": {
    "deletable": true,
    "editable": true
   },
   "source": [
    "Уменьшим разрешение области для снижения количества обрабатываемых данных:"
   ]
  },
  {
   "cell_type": "code",
   "execution_count": 7,
   "metadata": {
    "collapsed": false,
    "deletable": true,
    "editable": true
   },
   "outputs": [
    {
     "name": "stdout",
     "output_type": "stream",
     "text": [
      "projection: 1 (UTM)\n",
      "zone:       53\n",
      "datum:      wgs84\n",
      "ellipsoid:  wgs84\n",
      "north:      5374515\n",
      "south:      4978485\n",
      "west:       350985\n",
      "east:       708015\n",
      "nsres:      90.00681818\n",
      "ewres:      90\n",
      "rows:       4400\n",
      "cols:       3967\n",
      "cells:      17454800\n"
     ]
    }
   ],
   "source": [
    "execGRASS(\"g.region\", parameters = list(raster = 'tr1516.alrm@basemaps', res=\"90\"), flags='p')"
   ]
  },
  {
   "cell_type": "markdown",
   "metadata": {
    "deletable": true,
    "editable": true
   },
   "source": [
    "Читаем данные:"
   ]
  },
  {
   "cell_type": "code",
   "execution_count": 8,
   "metadata": {
    "collapsed": false,
    "deletable": true,
    "editable": true
   },
   "outputs": [
    {
     "name": "stdout",
     "output_type": "stream",
     "text": [
      "Creating BIL support files...\n",
      "Exporting raster as floating values (bytes=4)\n",
      "   0%\b\b\b\b\b   3%\b\b\b\b\b   6%\b\b\b\b\b   9%\b\b\b\b\b  12%\b\b\b\b\b  15%\b\b\b\b\b  18%\b\b\b\b\b  21%\b\b\b\b\b  24%\b\b\b\b\b  27%\b\b\b\b\b  30%\b\b\b\b\b  33%\b\b\b\b\b  36%\b\b\b\b\b  39%\b\b\b\b\b  42%\b\b\b\b\b  45%\b\b\b\b\b  48%\b\b\b\b\b  51%\b\b\b\b\b  54%\b\b\b\b\b  57%\b\b\b\b\b  60%\b\b\b\b\b  63%\b\b\b\b\b  66%\b\b\b\b\b  69%\b\b\b\b\b  72%\b\b\b\b\b  75%\b\b\b\b\b  78%\b\b\b\b\b  81%\b\b\b\b\b  84%\b\b\b\b\b  87%\b\b\b\b\b  90%\b\b\b\b\b  93%\b\b\b\b\b  96%\b\b\b\b\b  99%\b\b\b\b\b 100%\b\b\b\b\b\n",
      "Creating BIL support files...\n",
      "Exporting raster as floating values (bytes=4)\n",
      "   0%\b\b\b\b\b   3%\b\b\b\b\b   6%\b\b\b\b\b   9%\b\b\b\b\b  12%\b\b\b\b\b  15%\b\b\b\b\b  18%\b\b\b\b\b  21%\b\b\b\b\b  24%\b\b\b\b\b  27%\b\b\b\b\b  30%\b\b\b\b\b  33%\b\b\b\b\b  36%\b\b\b\b\b  39%\b\b\b\b\b  42%\b\b\b\b\b  45%\b\b\b\b\b  48%\b\b\b\b\b  51%\b\b\b\b\b  54%\b\b\b\b\b  57%\b\b\b\b\b  60%\b\b\b\b\b  63%\b\b\b\b\b  66%\b\b\b\b\b  69%\b\b\b\b\b  72%\b\b\b\b\b  75%\b\b\b\b\b  78%\b\b\b\b\b  81%\b\b\b\b\b  84%\b\b\b\b\b  87%\b\b\b\b\b  90%\b\b\b\b\b  93%\b\b\b\b\b  96%\b\b\b\b\b  99%\b\b\b\b\b 100%\b\b\b\b\b\n",
      "Creating BIL support files...\n",
      "Exporting raster as floating values (bytes=4)\n",
      "   0%\b\b\b\b\b   3%\b\b\b\b\b   6%\b\b\b\b\b   9%\b\b\b\b\b  12%\b\b\b\b\b  15%\b\b\b\b\b  18%\b\b\b\b\b  21%\b\b\b\b\b  24%\b\b\b\b\b  27%\b\b\b\b\b  30%\b\b\b\b\b  33%\b\b\b\b\b  36%\b\b\b\b\b  39%\b\b\b\b\b  42%\b\b\b\b\b  45%\b\b\b\b\b  48%\b\b\b\b\b  51%\b\b\b\b\b  54%\b\b\b\b\b  57%\b\b\b\b\b  60%\b\b\b\b\b  63%\b\b\b\b\b  66%\b\b\b\b\b  69%\b\b\b\b\b  72%\b\b\b\b\b  75%\b\b\b\b\b  78%\b\b\b\b\b  81%\b\b\b\b\b  84%\b\b\b\b\b  87%\b\b\b\b\b  90%\b\b\b\b\b  93%\b\b\b\b\b  96%\b\b\b\b\b  99%\b\b\b\b\b 100%\b\b\b\b\b\n",
      "Creating BIL support files...\n",
      "Exporting raster as floating values (bytes=4)\n",
      "   0%\b\b\b\b\b   3%\b\b\b\b\b   6%\b\b\b\b\b   9%\b\b\b\b\b  12%\b\b\b\b\b  15%\b\b\b\b\b  18%\b\b\b\b\b  21%\b\b\b\b\b  24%\b\b\b\b\b  27%\b\b\b\b\b  30%\b\b\b\b\b  33%\b\b\b\b\b  36%\b\b\b\b\b  39%\b\b\b\b\b  42%\b\b\b\b\b  45%\b\b\b\b\b  48%\b\b\b\b\b  51%\b\b\b\b\b  54%\b\b\b\b\b  57%\b\b\b\b\b  60%\b\b\b\b\b  63%\b\b\b\b\b  66%\b\b\b\b\b  69%\b\b\b\b\b  72%\b\b\b\b\b  75%\b\b\b\b\b  78%\b\b\b\b\b  81%\b\b\b\b\b  84%\b\b\b\b\b  87%\b\b\b\b\b  90%\b\b\b\b\b  93%\b\b\b\b\b  96%\b\b\b\b\b  99%\b\b\b\b\b 100%\b\b\b\b\b\n",
      "Creating BIL support files...\n",
      "Exporting raster as floating values (bytes=4)\n",
      "   0%\b\b\b\b\b   3%\b\b\b\b\b   6%\b\b\b\b\b   9%\b\b\b\b\b  12%\b\b\b\b\b  15%\b\b\b\b\b  18%\b\b\b\b\b  21%\b\b\b\b\b  24%\b\b\b\b\b  27%\b\b\b\b\b  30%\b\b\b\b\b  33%\b\b\b\b\b  36%\b\b\b\b\b  39%\b\b\b\b\b  42%\b\b\b\b\b  45%\b\b\b\b\b  48%\b\b\b\b\b  51%\b\b\b\b\b  54%\b\b\b\b\b  57%\b\b\b\b\b  60%\b\b\b\b\b  63%\b\b\b\b\b  66%\b\b\b\b\b  69%\b\b\b\b\b  72%\b\b\b\b\b  75%\b\b\b\b\b  78%\b\b\b\b\b  81%\b\b\b\b\b  84%\b\b\b\b\b  87%\b\b\b\b\b  90%\b\b\b\b\b  93%\b\b\b\b\b  96%\b\b\b\b\b  99%\b\b\b\b\b 100%\b\b\b\b\b\n",
      "Creating BIL support files...\n",
      "Exporting raster as floating values (bytes=4)\n",
      "   0%\b\b\b\b\b   3%\b\b\b\b\b   6%\b\b\b\b\b   9%\b\b\b\b\b  12%\b\b\b\b\b  15%\b\b\b\b\b  18%\b\b\b\b\b  21%\b\b\b\b\b  24%\b\b\b\b\b  27%\b\b\b\b\b  30%\b\b\b\b\b  33%\b\b\b\b\b  36%\b\b\b\b\b  39%\b\b\b\b\b  42%\b\b\b\b\b  45%\b\b\b\b\b  48%\b\b\b\b\b  51%\b\b\b\b\b  54%\b\b\b\b\b  57%\b\b\b\b\b  60%\b\b\b\b\b  63%\b\b\b\b\b  66%\b\b\b\b\b  69%\b\b\b\b\b  72%\b\b\b\b\b  75%\b\b\b\b\b  78%\b\b\b\b\b  81%\b\b\b\b\b  84%\b\b\b\b\b  87%\b\b\b\b\b  90%\b\b\b\b\b  93%\b\b\b\b\b  96%\b\b\b\b\b  99%\b\b\b\b\b 100%\b\b\b\b\b\n",
      "Creating BIL support files...\n",
      "Exporting raster as floating values (bytes=4)\n",
      "   0%\b\b\b\b\b   3%\b\b\b\b\b   6%\b\b\b\b\b   9%\b\b\b\b\b  12%\b\b\b\b\b  15%\b\b\b\b\b  18%\b\b\b\b\b  21%\b\b\b\b\b  24%\b\b\b\b\b  27%\b\b\b\b\b  30%\b\b\b\b\b  33%\b\b\b\b\b  36%\b\b\b\b\b  39%\b\b\b\b\b  42%\b\b\b\b\b  45%\b\b\b\b\b  48%\b\b\b\b\b  51%\b\b\b\b\b  54%\b\b\b\b\b  57%\b\b\b\b\b  60%\b\b\b\b\b  63%\b\b\b\b\b  66%\b\b\b\b\b  69%\b\b\b\b\b  72%\b\b\b\b\b  75%\b\b\b\b\b  78%\b\b\b\b\b  81%\b\b\b\b\b  84%\b\b\b\b\b  87%\b\b\b\b\b  90%\b\b\b\b\b  93%\b\b\b\b\b  96%\b\b\b\b\b  99%\b\b\b\b\b 100%\b\b\b\b\b\n",
      "Creating BIL support files...\n",
      "Exporting raster as floating values (bytes=4)\n",
      "   0%\b\b\b\b\b   3%\b\b\b\b\b   6%\b\b\b\b\b   9%\b\b\b\b\b  12%\b\b\b\b\b  15%\b\b\b\b\b  18%\b\b\b\b\b  21%\b\b\b\b\b  24%\b\b\b\b\b  27%\b\b\b\b\b  30%\b\b\b\b\b  33%\b\b\b\b\b  36%\b\b\b\b\b  39%\b\b\b\b\b  42%\b\b\b\b\b  45%\b\b\b\b\b  48%\b\b\b\b\b  51%\b\b\b\b\b  54%\b\b\b\b\b  57%\b\b\b\b\b  60%\b\b\b\b\b  63%\b\b\b\b\b  66%\b\b\b\b\b  69%\b\b\b\b\b  72%\b\b\b\b\b  75%\b\b\b\b\b  78%\b\b\b\b\b  81%\b\b\b\b\b  84%\b\b\b\b\b  87%\b\b\b\b\b  90%\b\b\b\b\b  93%\b\b\b\b\b  96%\b\b\b\b\b  99%\b\b\b\b\b 100%\b\b\b\b\b\n",
      "Creating BIL support files...\n",
      "Exporting raster as floating values (bytes=4)\n",
      "   0%\b\b\b\b\b   3%\b\b\b\b\b   6%\b\b\b\b\b   9%\b\b\b\b\b  12%\b\b\b\b\b  15%\b\b\b\b\b  18%\b\b\b\b\b  21%\b\b\b\b\b  24%\b\b\b\b\b  27%\b\b\b\b\b  30%\b\b\b\b\b  33%\b\b\b\b\b  36%\b\b\b\b\b  39%\b\b\b\b\b  42%\b\b\b\b\b  45%\b\b\b\b\b  48%\b\b\b\b\b  51%\b\b\b\b\b  54%\b\b\b\b\b  57%\b\b\b\b\b  60%\b\b\b\b\b  63%\b\b\b\b\b  66%\b\b\b\b\b  69%\b\b\b\b\b  72%\b\b\b\b\b  75%\b\b\b\b\b  78%\b\b\b\b\b  81%\b\b\b\b\b  84%\b\b\b\b\b  87%\b\b\b\b\b  90%\b\b\b\b\b  93%\b\b\b\b\b  96%\b\b\b\b\b  99%\b\b\b\b\b 100%\b\b\b\b\b\n",
      "Creating BIL support files...\n",
      "Exporting raster as floating values (bytes=4)\n",
      "   0%\b\b\b\b\b   3%\b\b\b\b\b   6%\b\b\b\b\b   9%\b\b\b\b\b  12%\b\b\b\b\b  15%\b\b\b\b\b  18%\b\b\b\b\b  21%\b\b\b\b\b  24%\b\b\b\b\b  27%\b\b\b\b\b  30%\b\b\b\b\b  33%\b\b\b\b\b  36%\b\b\b\b\b  39%\b\b\b\b\b  42%\b\b\b\b\b  45%\b\b\b\b\b  48%\b\b\b\b\b  51%\b\b\b\b\b  54%\b\b\b\b\b  57%\b\b\b\b\b  60%\b\b\b\b\b  63%\b\b\b\b\b  66%\b\b\b\b\b  69%\b\b\b\b\b  72%\b\b\b\b\b  75%\b\b\b\b\b  78%\b\b\b\b\b  81%\b\b\b\b\b  84%\b\b\b\b\b  87%\b\b\b\b\b  90%\b\b\b\b\b  93%\b\b\b\b\b  96%\b\b\b\b\b  99%\b\b\b\b\b 100%\b\b\b\b\b\n",
      "Creating BIL support files...\n",
      "Exporting raster as floating values (bytes=4)\n",
      "   0%\b\b\b\b\b   3%\b\b\b\b\b   6%\b\b\b\b\b   9%\b\b\b\b\b  12%\b\b\b\b\b  15%\b\b\b\b\b  18%\b\b\b\b\b  21%\b\b\b\b\b  24%\b\b\b\b\b  27%\b\b\b\b\b  30%\b\b\b\b\b  33%\b\b\b\b\b  36%\b\b\b\b\b  39%\b\b\b\b\b  42%\b\b\b\b\b  45%\b\b\b\b\b  48%\b\b\b\b\b  51%\b\b\b\b\b  54%\b\b\b\b\b  57%\b\b\b\b\b  60%\b\b\b\b\b  63%\b\b\b\b\b  66%\b\b\b\b\b  69%\b\b\b\b\b  72%\b\b\b\b\b  75%\b\b\b\b\b  78%\b\b\b\b\b  81%\b\b\b\b\b  84%\b\b\b\b\b  87%\b\b\b\b\b  90%\b\b\b\b\b  93%\b\b\b\b\b  96%\b\b\b\b\b  99%\b\b\b\b\b 100%\b\b\b\b\b\n",
      "Creating BIL support files...\n",
      "Exporting raster as integer values (bytes=4)\n",
      "   0%\b\b\b\b\b   3%\b\b\b\b\b   6%\b\b\b\b\b   9%\b\b\b\b\b  12%\b\b\b\b\b  15%\b\b\b\b\b  18%\b\b\b\b\b  21%\b\b\b\b\b  24%\b\b\b\b\b  27%\b\b\b\b\b  30%\b\b\b\b\b  33%\b\b\b\b\b  36%\b\b\b\b\b  39%\b\b\b\b\b  42%\b\b\b\b\b  45%\b\b\b\b\b  48%\b\b\b\b\b  51%\b\b\b\b\b  54%\b\b\b\b\b  57%\b\b\b\b\b  60%\b\b\b\b\b  63%\b\b\b\b\b  66%\b\b\b\b\b  69%\b\b\b\b\b  72%\b\b\b\b\b  75%\b\b\b\b\b  78%\b\b\b\b\b  81%\b\b\b\b\b  84%\b\b\b\b\b  87%\b\b\b\b\b  90%\b\b\b\b\b  93%\b\b\b\b\b  96%\b\b\b\b\b  99%\b\b\b\b\b 100%\b\b\b\b\b\n"
     ]
    },
    {
     "name": "stderr",
     "output_type": "stream",
     "text": [
      "Warning message in .read_rast_non_plugin(vname = vname, NODATA = NODATA, driverFileExt = driverFileExt, :\n",
      "“non-unique category labels; category number appended”"
     ]
    }
   ],
   "source": [
    "predictor_count = length(maps)\n",
    "all_data <- readRAST(names, cat=c(rep(FALSE, predictor_count), TRUE), ignore.stderr = TRUE)"
   ]
  },
  {
   "cell_type": "code",
   "execution_count": 9,
   "metadata": {
    "collapsed": false,
    "deletable": true,
    "editable": true
   },
   "outputs": [
    {
     "name": "stdout",
     "output_type": "stream",
     "text": [
      "Formal class 'SpatialGridDataFrame' [package \"sp\"] with 4 slots\n",
      "  ..@ data       :'data.frame':\t17454800 obs. of  12 variables:\n",
      "  .. ..$ diff1615.1.basemaps : num [1:17454800] NA NA NA NA NA NA NA NA NA NA ...\n",
      "  .. ..$ diff1615.10.basemaps: num [1:17454800] NA NA NA NA NA NA NA NA NA NA ...\n",
      "  .. ..$ diff1615.11.basemaps: num [1:17454800] NA NA NA NA NA NA NA NA NA NA ...\n",
      "  .. ..$ diff1615.2.basemaps : num [1:17454800] NA NA NA NA NA NA NA NA NA NA ...\n",
      "  .. ..$ diff1615.3.basemaps : num [1:17454800] NA NA NA NA NA NA NA NA NA NA ...\n",
      "  .. ..$ diff1615.4.basemaps : num [1:17454800] NA NA NA NA NA NA NA NA NA NA ...\n",
      "  .. ..$ diff1615.5.basemaps : num [1:17454800] NA NA NA NA NA NA NA NA NA NA ...\n",
      "  .. ..$ diff1615.6.basemaps : num [1:17454800] NA NA NA NA NA NA NA NA NA NA ...\n",
      "  .. ..$ diff1615.7.basemaps : num [1:17454800] NA NA NA NA NA NA NA NA NA NA ...\n",
      "  .. ..$ diff1615.8.basemaps : num [1:17454800] NA NA NA NA NA NA NA NA NA NA ...\n",
      "  .. ..$ diff1615.9.basemaps : num [1:17454800] NA NA NA NA NA NA NA NA NA NA ...\n",
      "  .. ..$ tr1516.alrm.basemaps: Factor w/ 2 levels \"_0\",\"_1\": 1 1 1 1 1 1 1 1 1 1 ...\n",
      "  ..@ grid       :Formal class 'GridTopology' [package \"sp\"] with 3 slots\n",
      "  .. .. ..@ cellcentre.offset: num [1:2] 351030 4978530\n",
      "  .. .. ..@ cellsize         : num [1:2] 90 90\n",
      "  .. .. ..@ cells.dim        : int [1:2] 3967 4400\n",
      "  ..@ bbox       : num [1:2, 1:2] 350985 4978485 708015 5374515\n",
      "  .. ..- attr(*, \"dimnames\")=List of 2\n",
      "  .. .. ..$ : NULL\n",
      "  .. .. ..$ : chr [1:2] \"min\" \"max\"\n",
      "  ..@ proj4string:Formal class 'CRS' [package \"sp\"] with 1 slot\n",
      "  .. .. ..@ projargs: chr \"+proj=utm +no_defs +zone=53 +a=6378137 +rf=298.257223563 +towgs84=0.000,0.000,0.000 +to_meter=1\"\n"
     ]
    }
   ],
   "source": [
    "str(all_data)"
   ]
  },
  {
   "cell_type": "code",
   "execution_count": 10,
   "metadata": {
    "collapsed": false,
    "deletable": true,
    "editable": true
   },
   "outputs": [
    {
     "name": "stdout",
     "output_type": "stream",
     "text": [
      "'data.frame':\t17454800 obs. of  12 variables:\n",
      " $ diff1615.1.basemaps : num  NA NA NA NA NA NA NA NA NA NA ...\n",
      " $ diff1615.10.basemaps: num  NA NA NA NA NA NA NA NA NA NA ...\n",
      " $ diff1615.11.basemaps: num  NA NA NA NA NA NA NA NA NA NA ...\n",
      " $ diff1615.2.basemaps : num  NA NA NA NA NA NA NA NA NA NA ...\n",
      " $ diff1615.3.basemaps : num  NA NA NA NA NA NA NA NA NA NA ...\n",
      " $ diff1615.4.basemaps : num  NA NA NA NA NA NA NA NA NA NA ...\n",
      " $ diff1615.5.basemaps : num  NA NA NA NA NA NA NA NA NA NA ...\n",
      " $ diff1615.6.basemaps : num  NA NA NA NA NA NA NA NA NA NA ...\n",
      " $ diff1615.7.basemaps : num  NA NA NA NA NA NA NA NA NA NA ...\n",
      " $ diff1615.8.basemaps : num  NA NA NA NA NA NA NA NA NA NA ...\n",
      " $ diff1615.9.basemaps : num  NA NA NA NA NA NA NA NA NA NA ...\n",
      " $ tr1516.alrm.basemaps: Factor w/ 2 levels \"_0\",\"_1\": 1 1 1 1 1 1 1 1 1 1 ...\n"
     ]
    }
   ],
   "source": [
    "str(all_data@data)"
   ]
  },
  {
   "cell_type": "markdown",
   "metadata": {
    "deletable": true,
    "editable": true
   },
   "source": [
    "Изображение в восьмом канале:"
   ]
  },
  {
   "cell_type": "code",
   "execution_count": 11,
   "metadata": {
    "collapsed": false,
    "deletable": true,
    "editable": true
   },
   "outputs": [
    {
     "data": {
      "image/png": "[encoded data removed]",
      "text/plain": [
       "plot without title"
      ]
     },
     "metadata": {},
     "output_type": "display_data"
    }
   ],
   "source": [
    "image(all_data, \"diff1615.5.basemaps\", col = rainbow(40))"
   ]
  },
  {
   "cell_type": "markdown",
   "metadata": {
    "deletable": true,
    "editable": true
   },
   "source": [
    "## Описательные статистики"
   ]
  },
  {
   "cell_type": "markdown",
   "metadata": {
    "deletable": true,
    "editable": true
   },
   "source": [
    "Как видим, на один пиксель рубок (рубки закодированы единицами) приходится почти полторы тысячи не-рубок (закодированы нулями):"
   ]
  },
  {
   "cell_type": "code",
   "execution_count": 12,
   "metadata": {
    "collapsed": false,
    "deletable": true,
    "editable": true
   },
   "outputs": [
    {
     "data": {
      "text/plain": [
       "\n",
       "      _0       _1 \n",
       "17441845    12955 "
      ]
     },
     "metadata": {},
     "output_type": "display_data"
    }
   ],
   "source": [
    "table(all_data$tr1516.alrm.basemaps)"
   ]
  },
  {
   "cell_type": "markdown",
   "metadata": {
    "deletable": true,
    "editable": true
   },
   "source": [
    "Т.е. рубка очень редкое событие, нужно это учитвывать при построении моделей."
   ]
  },
  {
   "cell_type": "markdown",
   "metadata": {
    "deletable": true,
    "editable": true
   },
   "source": [
    "### Ящики с усами"
   ]
  },
  {
   "cell_type": "markdown",
   "metadata": {
    "deletable": true,
    "editable": true
   },
   "source": [
    "Посмотрим, различаются ли средние и разброс в зависимости от типа объекта (рубка/не-рубка). Для этого по каждому каналу построим ящики с усами."
   ]
  },
  {
   "cell_type": "markdown",
   "metadata": {
    "deletable": true,
    "editable": true
   },
   "source": [
    "#### Первый канал"
   ]
  },
  {
   "cell_type": "code",
   "execution_count": 13,
   "metadata": {
    "collapsed": false,
    "deletable": true,
    "editable": true
   },
   "outputs": [
    {
     "data": {
      "image/png": "[encoded data removed]",
      "text/plain": [
       "plot without title"
      ]
     },
     "metadata": {},
     "output_type": "display_data"
    }
   ],
   "source": [
    "boxplot(all_data$diff1615.1.basemaps ~ all_data$tr1516.alrm.basemaps)"
   ]
  },
  {
   "cell_type": "markdown",
   "metadata": {
    "deletable": true,
    "editable": true
   },
   "source": [
    "В первом канале медианы приблизительно равны (для рубок медиана очень незначительно выше), но для рубок разброс больше, чем для не-рубок. Правда, этот разброс может быть обусловлен тем, что точек с рубками в тысячу раз меньше, чем не-рубок. В дальнейшем нужно будет проверить, может ли полученное различие быть объяснено перекосом в примерах.\n",
    "\n",
    "**Замечание.** Ящики показывают очень сильный сдвиг значений в отрицательную область: медиана не-рубок ниже нуля. С учетом того, что мы анализируем разности *усредненных значений (точнее медиан зимних снимков)*, то это говорит о том, что зимой 15-16 годов снимки фиксировали в среднем более высокие значения отражательной способности, чем чем зимой 14-15 годов. А это в свою очередь говорит о том, что данные из года в год \"гуляют\" довольно сильно и простое усреденение медианой снимков работает не очень хорошо. Как следствие, скорее всего нужно разбираться с нормированием снимков [см. блокнот](007_Normalization.ipynb).\n",
    "\n",
    "\n",
    "Графики в разных каналах достаточно похожи между собой (за исключением тепловых), поэтому при прочтении можно сразу [перейти к выводам по ящикам](#BoxResume) или [общим выводам по блокноту](#Resume)."
   ]
  },
  {
   "cell_type": "markdown",
   "metadata": {
    "deletable": true,
    "editable": true
   },
   "source": [
    "#### Второй канал"
   ]
  },
  {
   "cell_type": "code",
   "execution_count": 14,
   "metadata": {
    "collapsed": false,
    "deletable": true,
    "editable": true
   },
   "outputs": [
    {
     "data": {
      "image/png": "[encoded data removed]",
      "text/plain": [
       "plot without title"
      ]
     },
     "metadata": {},
     "output_type": "display_data"
    }
   ],
   "source": [
    "boxplot(all_data$diff1615.2.basemaps ~ all_data$tr1516.alrm.basemaps)"
   ]
  },
  {
   "cell_type": "markdown",
   "metadata": {
    "deletable": true,
    "editable": true
   },
   "source": [
    "Ситуация во втором канале аналогична первому."
   ]
  },
  {
   "cell_type": "markdown",
   "metadata": {
    "deletable": true,
    "editable": true
   },
   "source": [
    "#### Третий канал"
   ]
  },
  {
   "cell_type": "code",
   "execution_count": 15,
   "metadata": {
    "collapsed": false,
    "deletable": true,
    "editable": true
   },
   "outputs": [
    {
     "data": {
      "image/png": "[encoded data removed]",
      "text/plain": [
       "plot without title"
      ]
     },
     "metadata": {},
     "output_type": "display_data"
    }
   ],
   "source": [
    "boxplot(all_data$diff1615.3.basemaps ~ all_data$tr1516.alrm.basemaps)"
   ]
  },
  {
   "cell_type": "markdown",
   "metadata": {
    "deletable": true,
    "editable": true
   },
   "source": [
    "Аналогично первому каналу."
   ]
  },
  {
   "cell_type": "markdown",
   "metadata": {
    "deletable": true,
    "editable": true
   },
   "source": [
    "#### Четвертый канал"
   ]
  },
  {
   "cell_type": "code",
   "execution_count": 16,
   "metadata": {
    "collapsed": false,
    "deletable": true,
    "editable": true
   },
   "outputs": [
    {
     "data": {
      "image/png": "[encoded data removed]",
      "text/plain": [
       "plot without title"
      ]
     },
     "metadata": {},
     "output_type": "display_data"
    }
   ],
   "source": [
    "boxplot(all_data$diff1615.4.basemaps ~ all_data$tr1516.alrm.basemaps)"
   ]
  },
  {
   "cell_type": "markdown",
   "metadata": {
    "deletable": true,
    "editable": true
   },
   "source": [
    "Аналогично первому каналу."
   ]
  },
  {
   "cell_type": "markdown",
   "metadata": {
    "deletable": true,
    "editable": true
   },
   "source": [
    "#### Пятый канал"
   ]
  },
  {
   "cell_type": "code",
   "execution_count": 17,
   "metadata": {
    "collapsed": false,
    "deletable": true,
    "editable": true
   },
   "outputs": [
    {
     "data": {
      "image/png": "[encoded data removed]",
      "text/plain": [
       "plot without title"
      ]
     },
     "metadata": {},
     "output_type": "display_data"
    }
   ],
   "source": [
    "boxplot(all_data$diff1615.5.basemaps ~ all_data$tr1516.alrm.basemaps)"
   ]
  },
  {
   "cell_type": "markdown",
   "metadata": {
    "deletable": true,
    "editable": true
   },
   "source": [
    "Аналогично первому каналу."
   ]
  },
  {
   "cell_type": "markdown",
   "metadata": {
    "deletable": true,
    "editable": true
   },
   "source": [
    "#### Шестой канал"
   ]
  },
  {
   "cell_type": "code",
   "execution_count": 18,
   "metadata": {
    "collapsed": false,
    "deletable": true,
    "editable": true
   },
   "outputs": [
    {
     "data": {
      "image/png": "[encoded data removed]",
      "text/plain": [
       "plot without title"
      ]
     },
     "metadata": {},
     "output_type": "display_data"
    }
   ],
   "source": [
    "boxplot(all_data$diff1615.6.basemaps ~ all_data$tr1516.alrm.basemaps)"
   ]
  },
  {
   "cell_type": "markdown",
   "metadata": {
    "deletable": true,
    "editable": true
   },
   "source": [
    "Аналогично первому каналу, но разница в разбросе уже почти незаметна."
   ]
  },
  {
   "cell_type": "markdown",
   "metadata": {
    "deletable": true,
    "editable": true
   },
   "source": [
    "#### Седьмой канал"
   ]
  },
  {
   "cell_type": "code",
   "execution_count": 19,
   "metadata": {
    "collapsed": false,
    "deletable": true,
    "editable": true
   },
   "outputs": [
    {
     "data": {
      "image/png": "[encoded data removed]",
      "text/plain": [
       "plot without title"
      ]
     },
     "metadata": {},
     "output_type": "display_data"
    }
   ],
   "source": [
    "boxplot(all_data$diff1615.7.basemaps ~ all_data$tr1516.alrm.basemaps)"
   ]
  },
  {
   "cell_type": "markdown",
   "metadata": {
    "deletable": true,
    "editable": true
   },
   "source": [
    "Кое-что интересное: разброс для рубок больше, чем для не-рубок, медиана визуально выше для рубок."
   ]
  },
  {
   "cell_type": "markdown",
   "metadata": {
    "deletable": true,
    "editable": true
   },
   "source": [
    "#### Восьмой канал"
   ]
  },
  {
   "cell_type": "code",
   "execution_count": 20,
   "metadata": {
    "collapsed": false,
    "deletable": true,
    "editable": true
   },
   "outputs": [
    {
     "data": {
      "image/png": "[encoded data removed]",
      "text/plain": [
       "plot without title"
      ]
     },
     "metadata": {},
     "output_type": "display_data"
    }
   ],
   "source": [
    "boxplot(all_data$diff1615.8.basemaps ~ all_data$tr1516.alrm.basemaps)"
   ]
  },
  {
   "cell_type": "markdown",
   "metadata": {
    "deletable": true,
    "editable": true
   },
   "source": [
    "Аналогично первому."
   ]
  },
  {
   "cell_type": "markdown",
   "metadata": {
    "deletable": true,
    "editable": true
   },
   "source": [
    "#### Девятый канал"
   ]
  },
  {
   "cell_type": "code",
   "execution_count": 21,
   "metadata": {
    "collapsed": false,
    "deletable": true,
    "editable": true
   },
   "outputs": [
    {
     "data": {
      "image/png": "[encoded data removed]",
      "text/plain": [
       "plot without title"
      ]
     },
     "metadata": {},
     "output_type": "display_data"
    }
   ],
   "source": [
    "boxplot(all_data$diff1615.9.basemaps ~ all_data$tr1516.alrm.basemaps)"
   ]
  },
  {
   "cell_type": "markdown",
   "metadata": {
    "deletable": true,
    "editable": true
   },
   "source": [
    "В девятом канале медиана для рубок ниже, чем для не-рубок, разброс для рубок выше, чем для не-рубок."
   ]
  },
  {
   "cell_type": "markdown",
   "metadata": {
    "deletable": true,
    "editable": true
   },
   "source": [
    "#### Десятый канал"
   ]
  },
  {
   "cell_type": "code",
   "execution_count": 22,
   "metadata": {
    "collapsed": false,
    "deletable": true,
    "editable": true
   },
   "outputs": [
    {
     "data": {
      "image/png": "[encoded data removed]",
      "text/plain": [
       "plot without title"
      ]
     },
     "metadata": {},
     "output_type": "display_data"
    }
   ],
   "source": [
    "boxplot(all_data$diff1615.10.basemaps ~ all_data$tr1516.alrm.basemaps)"
   ]
  },
  {
   "cell_type": "markdown",
   "metadata": {
    "deletable": true,
    "editable": true
   },
   "source": [
    "В десятом канале ящики почти одинаковые."
   ]
  },
  {
   "cell_type": "markdown",
   "metadata": {
    "deletable": true,
    "editable": true
   },
   "source": [
    "#### Одиннадцатый канал"
   ]
  },
  {
   "cell_type": "code",
   "execution_count": 23,
   "metadata": {
    "collapsed": false,
    "deletable": true,
    "editable": true
   },
   "outputs": [
    {
     "data": {
      "image/png": "[encoded data removed]",
      "text/plain": [
       "plot without title"
      ]
     },
     "metadata": {},
     "output_type": "display_data"
    }
   ],
   "source": [
    "boxplot(all_data$diff1615.11.basemaps ~ all_data$tr1516.alrm.basemaps)"
   ]
  },
  {
   "cell_type": "markdown",
   "metadata": {
    "deletable": true,
    "editable": true
   },
   "source": [
    "Аналогично десятому каналу."
   ]
  },
  {
   "cell_type": "markdown",
   "metadata": {
    "deletable": true,
    "editable": true
   },
   "source": [
    "<a id='BoxResume'></a>\n",
    "#### Выводы по ящикам "
   ]
  },
  {
   "cell_type": "markdown",
   "metadata": {
    "deletable": true,
    "editable": true
   },
   "source": [
    "Как было сказано выше, ящики показывают очень сдвиг значений (в отрицательную область у первых каналов и в положительную у тепловых). Это говорит о том, что данные из года в год \"гуляют\" довольно сильно и простое усреденение медианой снимков работает не очень хорошо. Как следствие, скорее всего нужно разбираться с нормированием снимков.\n",
    "\n",
    "1. Десятый и одиннадцатый каналы, скорее всего, можно не рассматривать: не очень похоже, что они дают много информации для разделения классов.\n",
    "2. Нужно проверить, насколько значимо различие в разбросе для каналов с 1-го по 6-й, можно ли этот разброс считать закономерными или же он проявление случайных (неучтенных) факторов. Аналогично с медианами - насколько значимы отличия медиан в этих каналах.\n",
    "3. Разность медиан в 7-м канале выглядит довольно приличной. Проверить значимость этого различия.\n",
    "4. Для 9-го канала следует проверить значимость различия медиан и разброса."
   ]
  },
  {
   "cell_type": "markdown",
   "metadata": {
    "deletable": true,
    "editable": true
   },
   "source": [
    "## Статесты (поканально)"
   ]
  },
  {
   "cell_type": "markdown",
   "metadata": {
    "deletable": true,
    "editable": true
   },
   "source": [
    "Итак, пробежим по каждому каналу и выдвинем гипотезу $H_0$ о том, что выборки рубки/не-рубки взяты из одного распределения, альтернативной гипотезой $H_1$ будет та, что выборки взяты из разных распределений. Для проверки будем использовать критерий Колмогорова-Смирнова."
   ]
  },
  {
   "cell_type": "markdown",
   "metadata": {
    "deletable": true,
    "editable": true
   },
   "source": [
    "### Первый канал"
   ]
  },
  {
   "cell_type": "code",
   "execution_count": 24,
   "metadata": {
    "collapsed": false,
    "deletable": true,
    "editable": true
   },
   "outputs": [
    {
     "name": "stderr",
     "output_type": "stream",
     "text": [
      "Warning message in ks.test(x, y):\n",
      "“p-value will be approximate in the presence of ties”"
     ]
    },
    {
     "data": {
      "text/plain": [
       "\n",
       "\tTwo-sample Kolmogorov-Smirnov test\n",
       "\n",
       "data:  x and y\n",
       "D = 0.14465, p-value < 2.2e-16\n",
       "alternative hypothesis: two-sided\n"
      ]
     },
     "metadata": {},
     "output_type": "display_data"
    }
   ],
   "source": [
    "x = all_data$diff1615.1.basemaps[all_data$tr1516.alrm.basemaps == \"_1\"]\n",
    "y = all_data$diff1615.1.basemaps[all_data$tr1516.alrm.basemaps == \"_0\"]\n",
    "\n",
    "ks.test(x,y)"
   ]
  },
  {
   "cell_type": "markdown",
   "metadata": {
    "deletable": true,
    "editable": true
   },
   "source": [
    "Вышло предупреждение. Согласно исходному коду, оно возникает, если в выборках x и/или y встречаются повторы. Типа данные берутся из непрерывного распределения и повторов быть не должно с вероятностью 1. Вопрос, насколько это влияет на результат в нашем случае? Разбираемся дальше. В документации написано:\n",
    "\n",
    "Exact p-values are not available for the two-sample case if one-sided or in the presence of ties. If exact = NULL (the default), an exact p-value is computed if the sample size is less than 100 in the one-sample case and there are no ties, and if the product of the sample sizes is less than 10000 in the two-sample case. **Otherwise, asymptotic distributions are used whose approximations may be inaccurate in small samples.** In the one-sample two-sided case, exact p-values are obtained as described in Marsaglia, Tsang & Wang (2003) (but not using the optional approximation in the right tail, so this can be slow for small p-values). The formula of Birnbaum & Tingey (1951) is used for the one-sample one-sided case.\n",
    "\n",
    "Судя по тому, что там сказано о выборках небольшого объема, то в нашем случае мы можем игнорировать предупреждение.\n",
    "\n",
    "Таким образом, получили очень низкое p-value, что говорит о том, что мы можем с чистой совестью отбросить гипотезу $H_0$ о том, что выборки сделаны из одного распределения."
   ]
  },
  {
   "cell_type": "markdown",
   "metadata": {
    "deletable": true,
    "editable": true
   },
   "source": [
    "### Второй и последующий каналы"
   ]
  },
  {
   "cell_type": "code",
   "execution_count": 25,
   "metadata": {
    "collapsed": false,
    "deletable": true,
    "editable": true
   },
   "outputs": [
    {
     "name": "stderr",
     "output_type": "stream",
     "text": [
      "Warning message in ks.test(x, y):\n",
      "“p-value will be approximate in the presence of ties”"
     ]
    },
    {
     "data": {
      "text/plain": [
       "\n",
       "\tTwo-sample Kolmogorov-Smirnov test\n",
       "\n",
       "data:  x and y\n",
       "D = 0.14783, p-value < 2.2e-16\n",
       "alternative hypothesis: two-sided\n"
      ]
     },
     "metadata": {},
     "output_type": "display_data"
    }
   ],
   "source": [
    "x = all_data$diff1615.2.basemaps[all_data$tr1516.alrm.basemaps == \"_1\"]\n",
    "y = all_data$diff1615.2.basemaps[all_data$tr1516.alrm.basemaps == \"_0\"]\n",
    "ks.test(x,y)"
   ]
  },
  {
   "cell_type": "code",
   "execution_count": 26,
   "metadata": {
    "collapsed": false
   },
   "outputs": [
    {
     "name": "stderr",
     "output_type": "stream",
     "text": [
      "Warning message in ks.test(x, y):\n",
      "“p-value will be approximate in the presence of ties”"
     ]
    },
    {
     "data": {
      "text/plain": [
       "\n",
       "\tTwo-sample Kolmogorov-Smirnov test\n",
       "\n",
       "data:  x and y\n",
       "D = 0.15708, p-value < 2.2e-16\n",
       "alternative hypothesis: two-sided\n"
      ]
     },
     "metadata": {},
     "output_type": "display_data"
    }
   ],
   "source": [
    "x = all_data$diff1615.3.basemaps[all_data$tr1516.alrm.basemaps == \"_1\"]\n",
    "y = all_data$diff1615.3.basemaps[all_data$tr1516.alrm.basemaps == \"_0\"]\n",
    "ks.test(x,y)"
   ]
  },
  {
   "cell_type": "code",
   "execution_count": 27,
   "metadata": {
    "collapsed": false
   },
   "outputs": [
    {
     "name": "stderr",
     "output_type": "stream",
     "text": [
      "Warning message in ks.test(x, y):\n",
      "“p-value will be approximate in the presence of ties”"
     ]
    },
    {
     "data": {
      "text/plain": [
       "\n",
       "\tTwo-sample Kolmogorov-Smirnov test\n",
       "\n",
       "data:  x and y\n",
       "D = 0.15836, p-value < 2.2e-16\n",
       "alternative hypothesis: two-sided\n"
      ]
     },
     "metadata": {},
     "output_type": "display_data"
    }
   ],
   "source": [
    "x = all_data$diff1615.4.basemaps[all_data$tr1516.alrm.basemaps == \"_1\"]\n",
    "y = all_data$diff1615.4.basemaps[all_data$tr1516.alrm.basemaps == \"_0\"]\n",
    "ks.test(x,y)"
   ]
  },
  {
   "cell_type": "code",
   "execution_count": 28,
   "metadata": {
    "collapsed": false
   },
   "outputs": [
    {
     "name": "stderr",
     "output_type": "stream",
     "text": [
      "Warning message in ks.test(x, y):\n",
      "“p-value will be approximate in the presence of ties”"
     ]
    },
    {
     "data": {
      "text/plain": [
       "\n",
       "\tTwo-sample Kolmogorov-Smirnov test\n",
       "\n",
       "data:  x and y\n",
       "D = 0.11546, p-value < 2.2e-16\n",
       "alternative hypothesis: two-sided\n"
      ]
     },
     "metadata": {},
     "output_type": "display_data"
    }
   ],
   "source": [
    "x = all_data$diff1615.5.basemaps[all_data$tr1516.alrm.basemaps == \"_1\"]\n",
    "y = all_data$diff1615.5.basemaps[all_data$tr1516.alrm.basemaps == \"_0\"]\n",
    "ks.test(x,y)"
   ]
  },
  {
   "cell_type": "code",
   "execution_count": 29,
   "metadata": {
    "collapsed": false
   },
   "outputs": [
    {
     "name": "stderr",
     "output_type": "stream",
     "text": [
      "Warning message in ks.test(x, y):\n",
      "“p-value will be approximate in the presence of ties”"
     ]
    },
    {
     "data": {
      "text/plain": [
       "\n",
       "\tTwo-sample Kolmogorov-Smirnov test\n",
       "\n",
       "data:  x and y\n",
       "D = 0.068119, p-value < 2.2e-16\n",
       "alternative hypothesis: two-sided\n"
      ]
     },
     "metadata": {},
     "output_type": "display_data"
    }
   ],
   "source": [
    "x = all_data$diff1615.6.basemaps[all_data$tr1516.alrm.basemaps == \"_1\"]\n",
    "y = all_data$diff1615.6.basemaps[all_data$tr1516.alrm.basemaps == \"_0\"]\n",
    "ks.test(x,y)"
   ]
  },
  {
   "cell_type": "code",
   "execution_count": 30,
   "metadata": {
    "collapsed": false
   },
   "outputs": [
    {
     "name": "stderr",
     "output_type": "stream",
     "text": [
      "Warning message in ks.test(x, y):\n",
      "“p-value will be approximate in the presence of ties”"
     ]
    },
    {
     "data": {
      "text/plain": [
       "\n",
       "\tTwo-sample Kolmogorov-Smirnov test\n",
       "\n",
       "data:  x and y\n",
       "D = 0.32277, p-value < 2.2e-16\n",
       "alternative hypothesis: two-sided\n"
      ]
     },
     "metadata": {},
     "output_type": "display_data"
    }
   ],
   "source": [
    "x = all_data$diff1615.7.basemaps[all_data$tr1516.alrm.basemaps == \"_1\"]\n",
    "y = all_data$diff1615.7.basemaps[all_data$tr1516.alrm.basemaps == \"_0\"]\n",
    "ks.test(x,y)"
   ]
  },
  {
   "cell_type": "code",
   "execution_count": 31,
   "metadata": {
    "collapsed": false
   },
   "outputs": [
    {
     "name": "stderr",
     "output_type": "stream",
     "text": [
      "Warning message in ks.test(x, y):\n",
      "“p-value will be approximate in the presence of ties”"
     ]
    },
    {
     "data": {
      "text/plain": [
       "\n",
       "\tTwo-sample Kolmogorov-Smirnov test\n",
       "\n",
       "data:  x and y\n",
       "D = 0.15729, p-value < 2.2e-16\n",
       "alternative hypothesis: two-sided\n"
      ]
     },
     "metadata": {},
     "output_type": "display_data"
    }
   ],
   "source": [
    "x = all_data$diff1615.8.basemaps[all_data$tr1516.alrm.basemaps == \"_1\"]\n",
    "y = all_data$diff1615.8.basemaps[all_data$tr1516.alrm.basemaps == \"_0\"]\n",
    "ks.test(x,y)"
   ]
  },
  {
   "cell_type": "code",
   "execution_count": 32,
   "metadata": {
    "collapsed": false
   },
   "outputs": [
    {
     "name": "stderr",
     "output_type": "stream",
     "text": [
      "Warning message in ks.test(x, y):\n",
      "“p-value will be approximate in the presence of ties”"
     ]
    },
    {
     "data": {
      "text/plain": [
       "\n",
       "\tTwo-sample Kolmogorov-Smirnov test\n",
       "\n",
       "data:  x and y\n",
       "D = 0.18696, p-value < 2.2e-16\n",
       "alternative hypothesis: two-sided\n"
      ]
     },
     "metadata": {},
     "output_type": "display_data"
    }
   ],
   "source": [
    "x = all_data$diff1615.9.basemaps[all_data$tr1516.alrm.basemaps == \"_1\"]\n",
    "y = all_data$diff1615.9.basemaps[all_data$tr1516.alrm.basemaps == \"_0\"]\n",
    "ks.test(x,y)"
   ]
  },
  {
   "cell_type": "code",
   "execution_count": 33,
   "metadata": {
    "collapsed": false
   },
   "outputs": [
    {
     "name": "stderr",
     "output_type": "stream",
     "text": [
      "Warning message in ks.test(x, y):\n",
      "“p-value will be approximate in the presence of ties”"
     ]
    },
    {
     "data": {
      "text/plain": [
       "\n",
       "\tTwo-sample Kolmogorov-Smirnov test\n",
       "\n",
       "data:  x and y\n",
       "D = 0.047364, p-value < 2.2e-16\n",
       "alternative hypothesis: two-sided\n"
      ]
     },
     "metadata": {},
     "output_type": "display_data"
    }
   ],
   "source": [
    "x = all_data$diff1615.10.basemaps[all_data$tr1516.alrm.basemaps == \"_1\"]\n",
    "y = all_data$diff1615.10.basemaps[all_data$tr1516.alrm.basemaps == \"_0\"]\n",
    "ks.test(x,y)"
   ]
  },
  {
   "cell_type": "code",
   "execution_count": 34,
   "metadata": {
    "collapsed": false,
    "deletable": true,
    "editable": true
   },
   "outputs": [
    {
     "name": "stderr",
     "output_type": "stream",
     "text": [
      "Warning message in ks.test(x, y):\n",
      "“p-value will be approximate in the presence of ties”"
     ]
    },
    {
     "data": {
      "text/plain": [
       "\n",
       "\tTwo-sample Kolmogorov-Smirnov test\n",
       "\n",
       "data:  x and y\n",
       "D = 0.0483, p-value < 2.2e-16\n",
       "alternative hypothesis: two-sided\n"
      ]
     },
     "metadata": {},
     "output_type": "display_data"
    }
   ],
   "source": [
    "x = all_data$diff1615.11.basemaps[all_data$tr1516.alrm.basemaps == \"_1\"]\n",
    "y = all_data$diff1615.11.basemaps[all_data$tr1516.alrm.basemaps == \"_0\"]\n",
    "ks.test(x,y)"
   ]
  },
  {
   "cell_type": "markdown",
   "metadata": {},
   "source": [
    "Итак, все тесты говорят, что выборки можно считать полученными из разных распределений."
   ]
  },
  {
   "cell_type": "markdown",
   "metadata": {
    "collapsed": true,
    "deletable": true,
    "editable": true
   },
   "source": [
    "<a id='Resume'></a>\n",
    "## Общие выводы"
   ]
  },
  {
   "cell_type": "markdown",
   "metadata": {},
   "source": [
    "Ящики с усами показывают, а статистические тесты подтверждают, что рубки и не-рубки различаются между собой. Однако, \n",
    " * мы исследовали объекты рубок (которые приходятся на лесные зоны) и не-рубок (которые приходятся на все зоны, а не только лес); не исключено, что именно это различие выборок и было \"поймано\" на графиках; этому вопросу посвещается [отдельный блокнот](050_ML_exploration_basemaps.1.ipynb);\n",
    " * даже если выделенные различия реальны, нет гарантии, что они устойчивы (см. вопрос о систематическом смещения разности зимних медиан): почти во всех каналах разность между значениями одной зимы и второй отлична от нуля; нужно убедиться, что это смещение меньше, чем отличие, обусловленное типом объекта."
   ]
  },
  {
   "cell_type": "code",
   "execution_count": null,
   "metadata": {
    "collapsed": true
   },
   "outputs": [],
   "source": []
  }
 ],
 "metadata": {
  "kernelspec": {
   "display_name": "R",
   "language": "R",
   "name": "ir"
  },
  "language_info": {
   "codemirror_mode": "r",
   "file_extension": ".r",
   "mimetype": "text/x-r-source",
   "name": "R",
   "pygments_lexer": "r",
   "version": "3.2.3"
  }
 },
 "nbformat": 4,
 "nbformat_minor": 0
}
