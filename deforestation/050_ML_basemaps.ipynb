{
 "cells": [
  {
   "cell_type": "markdown",
   "metadata": {
    "deletable": true,
    "editable": true
   },
   "source": [
    "# Выбор модели для классификации вырубка/не-вырубка с использованием базовых слоев"
   ]
  },
  {
   "cell_type": "markdown",
   "metadata": {
    "deletable": true,
    "editable": true
   },
   "source": [
    "В данном разделе обучаются и подгоняются параметры нескольких моделей для решения задачи поиска вырубок.\n",
    "\n",
    "**Замечание:** по ходу дела тестировалось большое количество типов моделей, встроенных в "
   ]
  },
  {
   "cell_type": "markdown",
   "metadata": {
    "deletable": true,
    "editable": true
   },
   "source": [
    "## Обучающая выборка"
   ]
  },
  {
   "cell_type": "markdown",
   "metadata": {
    "deletable": true,
    "editable": true
   },
   "source": [
    "Сначала посмотрим на то, насколько вообще можно обучить модель, попытавшись переобучить ее. Т.е. для начала обучим систему без разбиения выборки на обучающую и тестовую, получившийся результат даст представление о верхней границе качества."
   ]
  },
  {
   "cell_type": "code",
   "execution_count": null,
   "metadata": {
    "collapsed": true,
    "deletable": true,
    "editable": true
   },
   "outputs": [],
   "source": [
    "import os\n",
    "import pickle\n",
    "\n",
    "import pandas as pd\n",
    "import numpy as np\n",
    "import sklearn as sk\n",
    "\n",
    "from sklearn.pipeline import Pipeline\n",
    "\n",
    "from sklearn.metrics import confusion_matrix\n",
    "\n",
    "from sklearn.model_selection import GridSearchCV"
   ]
  },
  {
   "cell_type": "code",
   "execution_count": null,
   "metadata": {
    "collapsed": true,
    "deletable": true,
    "editable": true
   },
   "outputs": [],
   "source": [
    "import utilites\n",
    "\n",
    "from utilites import (\n",
    "    get_grassdata_path,\n",
    "    get_location_name,\n",
    "    get_ll_location_name,\n",
    "    get_location_path,\n",
    "    get_gisbase_path\n",
    ")\n",
    "\n",
    "import grasslib\n",
    "reload(grasslib)\n",
    "\n",
    "from grasslib import GRASS"
   ]
  },
  {
   "cell_type": "code",
   "execution_count": null,
   "metadata": {
    "collapsed": true,
    "deletable": true,
    "editable": true
   },
   "outputs": [],
   "source": [
    "grs = GRASS(gisbase=get_gisbase_path(), \n",
    "            dbase=get_grassdata_path(), \n",
    "            location=get_location_name(),\n",
    "            mapset='basemaps'\n",
    ")"
   ]
  },
  {
   "cell_type": "markdown",
   "metadata": {
    "deletable": true,
    "editable": true
   },
   "source": [
    "## Обучающая выборка"
   ]
  },
  {
   "cell_type": "markdown",
   "metadata": {
    "deletable": true,
    "editable": true
   },
   "source": [
    "Создадим обучающую выборку, которая будет классифицировать данные по рубкам за зиму 15-16 годов."
   ]
  },
  {
   "cell_type": "code",
   "execution_count": null,
   "metadata": {
    "collapsed": false,
    "deletable": true,
    "editable": true
   },
   "outputs": [],
   "source": [
    "print grs.grass.read_command('g.region', region='all_scenes@landsat', flags='p')"
   ]
  },
  {
   "cell_type": "markdown",
   "metadata": {
    "deletable": true,
    "editable": true
   },
   "source": [
    "Слой зимних рубок, которые должны быть обнаружены зимой 15-16 годов:"
   ]
  },
  {
   "cell_type": "code",
   "execution_count": null,
   "metadata": {
    "collapsed": false,
    "deletable": true,
    "editable": true
   },
   "outputs": [],
   "source": [
    "grs.grass.run_command('v.to.rast', \n",
    "                      input='train', output='tr1516.bin', \n",
    "                      where=\"winter='w1516'\", use='val', value=1, \n",
    "                      overwrite=True)\n",
    "grs.grass.run_command('r.null', map='tr1516.bin', null=0)\n",
    "print grs.grass.read_command('r.report', map='tr1516.bin', units='c')"
   ]
  },
  {
   "cell_type": "markdown",
   "metadata": {
    "deletable": true,
    "editable": true
   },
   "source": [
    "Слой алармов, которые должны быть обнаружены зимой 15-16гг:"
   ]
  },
  {
   "cell_type": "code",
   "execution_count": null,
   "metadata": {
    "collapsed": false,
    "deletable": true,
    "editable": true
   },
   "outputs": [],
   "source": [
    "# В начале весны ловятся прошлогодние зимние рубки, поэтому выкинем их из обучающего множества\n",
    "grs.grass.run_command('r.mapcalc', \n",
    "                      expression=\"tr1516.alrm = (alarm_2015@umd_alarm > 170)\", \n",
    "                      overwrite=True)\n",
    "print grs.grass.read_command('r.report', map='tr1516.alrm', units='c')"
   ]
  },
  {
   "cell_type": "code",
   "execution_count": null,
   "metadata": {
    "collapsed": false,
    "deletable": true,
    "editable": true
   },
   "outputs": [],
   "source": [
    "inputs = grs.grass.list_strings('rast', pattern=\"diff1615*\")\n",
    "inputs"
   ]
  },
  {
   "cell_type": "raw",
   "metadata": {
    "deletable": true,
    "editable": true
   },
   "source": [
    "inputs = [\n",
    "    # Before\n",
    "    'composite15.1@basemaps',\n",
    "    'composite15.2@basemaps',\n",
    "    'composite15.3@basemaps',\n",
    "    'composite15.4@basemaps',\n",
    "    'composite15.5@basemaps',\n",
    "    'composite15.6@basemaps',\n",
    "    'composite15.7@basemaps',\n",
    "    'composite15.8@basemaps',\n",
    "    'composite15.9@basemaps',\n",
    "    'composite15.10@basemaps',\n",
    "    'composite15.11@basemaps',\n",
    "    \n",
    "    # After\n",
    "    'composite16.1@basemaps',\n",
    "    'composite16.2@basemaps',\n",
    "    'composite16.3@basemaps',\n",
    "    'composite16.4@basemaps',\n",
    "    'composite16.5@basemaps',\n",
    "    'composite16.6@basemaps',\n",
    "    'composite16.7@basemaps',\n",
    "    'composite16.8@basemaps',\n",
    "    'composite16.9@basemaps',\n",
    "    'composite16.10@basemaps',\n",
    "    'composite16.11@basemaps',\n",
    "]"
   ]
  },
  {
   "cell_type": "code",
   "execution_count": null,
   "metadata": {
    "collapsed": false,
    "deletable": true,
    "editable": true
   },
   "outputs": [],
   "source": [
    "print grs.grass.read_command('g.region', region='all_scenes@landsat', res=90, flags='p')"
   ]
  },
  {
   "cell_type": "code",
   "execution_count": null,
   "metadata": {
    "collapsed": false,
    "deletable": true,
    "editable": true
   },
   "outputs": [],
   "source": [
    "X_train = grs.rasters_to_array(inputs)"
   ]
  },
  {
   "cell_type": "code",
   "execution_count": null,
   "metadata": {
    "collapsed": false,
    "deletable": true,
    "editable": true
   },
   "outputs": [],
   "source": [
    "y_train = grs.rasters_to_array(['tr1516.alrm']).ravel()"
   ]
  },
  {
   "cell_type": "code",
   "execution_count": null,
   "metadata": {
    "collapsed": true,
    "deletable": true,
    "editable": true
   },
   "outputs": [],
   "source": []
  },
  {
   "cell_type": "markdown",
   "metadata": {
    "deletable": true,
    "editable": true
   },
   "source": [
    "## Случайный лес"
   ]
  },
  {
   "cell_type": "code",
   "execution_count": null,
   "metadata": {
    "collapsed": true,
    "deletable": true,
    "editable": true
   },
   "outputs": [],
   "source": [
    "from sklearn.ensemble import RandomForestClassifier"
   ]
  },
  {
   "cell_type": "code",
   "execution_count": null,
   "metadata": {
    "collapsed": false,
    "deletable": true,
    "editable": true
   },
   "outputs": [],
   "source": [
    "forest = RandomForestClassifier(n_estimators=100, random_state=1, n_jobs=7)"
   ]
  },
  {
   "cell_type": "code",
   "execution_count": null,
   "metadata": {
    "collapsed": false,
    "deletable": true,
    "editable": true
   },
   "outputs": [],
   "source": [
    "forest.fit(X_train, y_train)"
   ]
  },
  {
   "cell_type": "code",
   "execution_count": null,
   "metadata": {
    "collapsed": false,
    "deletable": true,
    "editable": true
   },
   "outputs": [],
   "source": [
    "y_pred = forest.predict(X_train)\n",
    "print confusion_matrix(y_train, y_pred)\n",
    "grs.grass.run_command('g.remove', type='rast', name='forest.result90m', flags='f')\n",
    "grs.array_to_rast(arr=y_pred, map_name='forest.result90m')"
   ]
  },
  {
   "cell_type": "markdown",
   "metadata": {
    "deletable": true,
    "editable": true
   },
   "source": [
    "Сохраним модель в файл. Применим модель к данным (на которых она обучалась) и посчитаем матрицу ошибок."
   ]
  },
  {
   "cell_type": "code",
   "execution_count": null,
   "metadata": {
    "collapsed": false,
    "deletable": true,
    "editable": true
   },
   "outputs": [],
   "source": [
    "pickle.dump(forest, open(os.path.join('Models', 'forest_classifier.pkl'), 'wb'), protocol=2)\n",
    "model = pickle.load(open(os.path.join('Models', 'forest_classifier.pkl'), 'rb'))\n",
    "tmp = model.predict(X_train)\n",
    "\n",
    "confusion_matrix(y_train, tmp)\n",
    "del(tmp)"
   ]
  },
  {
   "cell_type": "raw",
   "metadata": {
    "deletable": true,
    "editable": true
   },
   "source": [
    "# Матрица ошибок:\n",
    "array([[17441845,        0],\n",
    "       [    1772,    11183]])"
   ]
  },
  {
   "cell_type": "markdown",
   "metadata": {
    "deletable": true,
    "editable": true
   },
   "source": [
    "То, что модель показала низкий процент ошибок - хороший знак, как минимум рубки видим, что отличаются от остального. Правда, это та верхняя граница точности, которую можно надеятся получить при помощи данной модели: скорее всего произошло переобучение и предсказательная способность модели низка."
   ]
  },
  {
   "cell_type": "markdown",
   "metadata": {
    "deletable": true,
    "editable": true
   },
   "source": [
    "## Растры прогнозов"
   ]
  },
  {
   "cell_type": "markdown",
   "metadata": {
    "deletable": true,
    "editable": true
   },
   "source": [
    "Применим модель и сохраним растры прогнозов."
   ]
  },
  {
   "cell_type": "code",
   "execution_count": null,
   "metadata": {
    "collapsed": false,
    "deletable": true,
    "editable": true
   },
   "outputs": [],
   "source": [
    "print grs.grass.read_command('g.region', region='all_scenes@landsat', res=60, flags='p')"
   ]
  },
  {
   "cell_type": "code",
   "execution_count": null,
   "metadata": {
    "collapsed": true,
    "deletable": true,
    "editable": true
   },
   "outputs": [],
   "source": [
    "model = pickle.load(open(os.path.join('Models', 'forest_classifier.pkl'), 'rb'))"
   ]
  },
  {
   "cell_type": "code",
   "execution_count": null,
   "metadata": {
    "collapsed": true,
    "deletable": true,
    "editable": true
   },
   "outputs": [],
   "source": [
    "X_train = grs.rasters_to_array(inputs)"
   ]
  },
  {
   "cell_type": "markdown",
   "metadata": {
    "deletable": true,
    "editable": true
   },
   "source": [
    "Как показала практика, расчет результатов на нормальном разрешении не лезет в память, поэтому разобьем множест во на куски, потом склеим результаты по каждому куску в одно целое."
   ]
  },
  {
   "cell_type": "code",
   "execution_count": null,
   "metadata": {
    "collapsed": false,
    "deletable": true,
    "editable": true
   },
   "outputs": [],
   "source": [
    "p1, p2, p3 = X_train.shape[0]/4, X_train.shape[0]/2, X_train.shape[0]*3/4\n",
    "print (p1, p2, p3)\n",
    "\n",
    "X1 = X_train[: p1, :]\n",
    "X2 = X_train[p1:p2, :]\n",
    "X3 = X_train[p2:p3, :]\n",
    "X4 = X_train[p3:, :]"
   ]
  },
  {
   "cell_type": "code",
   "execution_count": null,
   "metadata": {
    "collapsed": false,
    "deletable": true,
    "editable": true
   },
   "outputs": [],
   "source": [
    "result1 = model.predict(X1)"
   ]
  },
  {
   "cell_type": "code",
   "execution_count": null,
   "metadata": {
    "collapsed": true,
    "deletable": true,
    "editable": true
   },
   "outputs": [],
   "source": [
    "result2 = model.predict(X2)"
   ]
  },
  {
   "cell_type": "code",
   "execution_count": null,
   "metadata": {
    "collapsed": true,
    "deletable": true,
    "editable": true
   },
   "outputs": [],
   "source": [
    "result3 = model.predict(X3)"
   ]
  },
  {
   "cell_type": "code",
   "execution_count": null,
   "metadata": {
    "collapsed": true,
    "deletable": true,
    "editable": true
   },
   "outputs": [],
   "source": [
    "result4 = model.predict(X4)"
   ]
  },
  {
   "cell_type": "code",
   "execution_count": null,
   "metadata": {
    "collapsed": false,
    "deletable": true,
    "editable": true
   },
   "outputs": [],
   "source": [
    "y_pred = np.concatenate((result1, result2, result3, result4))"
   ]
  },
  {
   "cell_type": "code",
   "execution_count": null,
   "metadata": {
    "collapsed": true,
    "deletable": true,
    "editable": true
   },
   "outputs": [],
   "source": [
    "del(result1, result2, result3, result4)"
   ]
  },
  {
   "cell_type": "code",
   "execution_count": null,
   "metadata": {
    "collapsed": false,
    "deletable": true,
    "editable": true
   },
   "outputs": [],
   "source": [
    "grs.grass.run_command('g.remove', type='rast', name='forest.result60m', flags='f')\n",
    "grs.array_to_rast(arr=y_pred, map_name='forest.result60m')"
   ]
  },
  {
   "cell_type": "markdown",
   "metadata": {
    "collapsed": true,
    "deletable": true,
    "editable": true
   },
   "source": [
    "Разрешение в 30 метров:"
   ]
  },
  {
   "cell_type": "code",
   "execution_count": null,
   "metadata": {
    "collapsed": false,
    "deletable": true,
    "editable": true
   },
   "outputs": [],
   "source": [
    "print grs.grass.read_command('g.region', region='all_scenes@landsat', res=30, flags='p')"
   ]
  },
  {
   "cell_type": "code",
   "execution_count": null,
   "metadata": {
    "collapsed": false,
    "deletable": true,
    "editable": true
   },
   "outputs": [],
   "source": [
    "# del(X_train)\n",
    "X_train = grs.rasters_to_array(inputs)"
   ]
  },
  {
   "cell_type": "code",
   "execution_count": null,
   "metadata": {
    "collapsed": false,
    "deletable": true,
    "editable": true
   },
   "outputs": [],
   "source": [
    "size = X_train.shape[0]\n",
    "bins = np.linspace(0, size).astype(np.int)\n",
    "bins"
   ]
  },
  {
   "cell_type": "code",
   "execution_count": null,
   "metadata": {
    "collapsed": false,
    "deletable": true,
    "editable": true
   },
   "outputs": [],
   "source": [
    "i = 0\n",
    "result = model.predict(X_train[bins[i]: bins[i+1], :])"
   ]
  },
  {
   "cell_type": "code",
   "execution_count": null,
   "metadata": {
    "collapsed": false,
    "deletable": true,
    "editable": true
   },
   "outputs": [],
   "source": [
    "last = len(bins) - 2\n",
    "for i in range(1, last):\n",
    "    r = model.predict(X_train[bins[i]: bins[i+1], :])\n",
    "    result = np.concatenate((result, r))\n",
    "\n",
    "r = model.predict(X_train[bins[last]:, :])\n",
    "result = np.concatenate((result, r))"
   ]
  },
  {
   "cell_type": "code",
   "execution_count": null,
   "metadata": {
    "collapsed": false,
    "deletable": true,
    "editable": true
   },
   "outputs": [],
   "source": [
    "len(result)"
   ]
  },
  {
   "cell_type": "code",
   "execution_count": null,
   "metadata": {
    "collapsed": true,
    "deletable": true,
    "editable": true
   },
   "outputs": [],
   "source": [
    "grs.grass.run_command('g.remove', type='rast', name='forest.result30m', flags='f')\n",
    "grs.array_to_rast(arr=result, map_name='forest.result30m')"
   ]
  },
  {
   "cell_type": "markdown",
   "metadata": {
    "deletable": true,
    "editable": true
   },
   "source": [
    "## Обучение с перекрестной проверкой"
   ]
  },
  {
   "cell_type": "markdown",
   "metadata": {
    "deletable": true,
    "editable": true
   },
   "source": [
    "Обучим модель \"по-правильному\" с использованием перекрестной проверки и тестового множества."
   ]
  },
  {
   "cell_type": "code",
   "execution_count": null,
   "metadata": {
    "collapsed": false,
    "deletable": true,
    "editable": true,
    "scrolled": true
   },
   "outputs": [],
   "source": [
    "print grs.grass.read_command('g.region', region='all_scenes@landsat', flags='p')"
   ]
  },
  {
   "cell_type": "markdown",
   "metadata": {
    "deletable": true,
    "editable": true
   },
   "source": [
    "Разобьем данные на обучающее и тестовое множества. Чтобы избежать проблем с пространственной автокорреляцией, когда пикселы, попавшие в одну и ту же рубку будут похожи по своим свойствам в силу пространственно-временной близости события, сделаем так, что в обучающее и тестовое множества будут попадать полигоны, а не пиксели. Для этого каждому полигону рубки назначим уникальный идентификатор и будем разбрасывать пиксели по обучающему и тестовму множествам по этим идентификаторам."
   ]
  },
  {
   "cell_type": "code",
   "execution_count": null,
   "metadata": {
    "collapsed": false,
    "deletable": true,
    "editable": true
   },
   "outputs": [],
   "source": [
    "grs.grass.run_command('r.null', setnull=0, map='tr1516.alrm')\n",
    "\n",
    "grs.grass.run_command('r.to.vect', input='tr1516.alrm', output='tr1516_alrm', type='area', \n",
    "                      overwrite=True)\n",
    "grs.grass.run_command('v.to.rast', input='tr1516_alrm', output='tr1516.alrm.uniq', use='cat', \n",
    "                      overwrite=True)\n",
    "\n",
    "grs.grass.run_command('r.null', null=0, map='tr1516.alrm')\n",
    "grs.grass.run_command('r.null', null=0, map='tr1516.alrm.uniq')"
   ]
  },
  {
   "cell_type": "code",
   "execution_count": null,
   "metadata": {
    "collapsed": false,
    "deletable": true,
    "editable": true
   },
   "outputs": [],
   "source": [
    "print grs.grass.read_command('r.report', map='tr1516.alrm.uniq', units='c')"
   ]
  },
  {
   "cell_type": "markdown",
   "metadata": {},
   "source": [
    "Уменьшим рабочее разрешение, иначе слишком долго обучать модели:"
   ]
  },
  {
   "cell_type": "code",
   "execution_count": null,
   "metadata": {
    "collapsed": false,
    "deletable": true,
    "editable": true
   },
   "outputs": [],
   "source": [
    "print grs.grass.read_command('g.region', region='all_scenes@landsat', res=90, flags='p')"
   ]
  },
  {
   "cell_type": "code",
   "execution_count": null,
   "metadata": {
    "collapsed": true,
    "deletable": true,
    "editable": true
   },
   "outputs": [],
   "source": [
    "data = grs.rasters_to_array(inputs + ['tr1516.alrm.uniq'])"
   ]
  },
  {
   "cell_type": "markdown",
   "metadata": {},
   "source": [
    "Пикселям, попавшим в категории \"не рубки\" тоже назначим уникальные идентификаторы:"
   ]
  },
  {
   "cell_type": "code",
   "execution_count": null,
   "metadata": {
    "collapsed": true,
    "deletable": true,
    "editable": true
   },
   "outputs": [],
   "source": [
    "mask = (data[:, -1] == 0)"
   ]
  },
  {
   "cell_type": "code",
   "execution_count": null,
   "metadata": {
    "collapsed": false,
    "deletable": true,
    "editable": true
   },
   "outputs": [],
   "source": [
    "count0 = np.count_nonzero(mask)\n",
    "nums = -np.random.rand(count0)\n",
    "data[mask, -1] = nums"
   ]
  },
  {
   "cell_type": "code",
   "execution_count": null,
   "metadata": {
    "collapsed": false,
    "deletable": true,
    "editable": true
   },
   "outputs": [],
   "source": [
    "cats = np.unique(data[:, -1])"
   ]
  },
  {
   "cell_type": "markdown",
   "metadata": {},
   "source": [
    "Собственно разбиение на множества:"
   ]
  },
  {
   "cell_type": "code",
   "execution_count": null,
   "metadata": {
    "collapsed": false,
    "deletable": true,
    "editable": true
   },
   "outputs": [],
   "source": [
    "train_cat, test_cat = sk.model_selection.train_test_split(cats, test_size=0.33, random_state=1)"
   ]
  },
  {
   "cell_type": "code",
   "execution_count": null,
   "metadata": {
    "collapsed": false,
    "deletable": true,
    "editable": true
   },
   "outputs": [],
   "source": [
    "len (train_cat), len(test_cat), len(cats)"
   ]
  },
  {
   "cell_type": "code",
   "execution_count": null,
   "metadata": {
    "collapsed": false,
    "deletable": true,
    "editable": true
   },
   "outputs": [],
   "source": [
    "test_data = data[np.in1d(data[:, -1], test_cat), :]\n",
    "train_data = data[np.in1d(data[:, -1], train_cat), :]\n",
    "\n",
    "test_data.shape, train_data.shape"
   ]
  },
  {
   "cell_type": "code",
   "execution_count": null,
   "metadata": {
    "collapsed": false,
    "deletable": true,
    "editable": true
   },
   "outputs": [],
   "source": [
    "X_test = test_data[:, :-1]\n",
    "y_test = test_data[:, -1].ravel()\n",
    "\n",
    "X_test.shape"
   ]
  },
  {
   "cell_type": "code",
   "execution_count": null,
   "metadata": {
    "collapsed": false,
    "deletable": true,
    "editable": true
   },
   "outputs": [],
   "source": [
    "X_train = train_data[:, :-1]\n",
    "y_train = train_data[:, -1].ravel()\n",
    "\n",
    "X_train.shape"
   ]
  },
  {
   "cell_type": "code",
   "execution_count": null,
   "metadata": {
    "collapsed": false,
    "deletable": true,
    "editable": true
   },
   "outputs": [],
   "source": [
    "mask = y_train > 0\n",
    "y_train[mask] = 1\n",
    "\n",
    "mask = y_train < 0\n",
    "y_train[mask] = 0"
   ]
  },
  {
   "cell_type": "code",
   "execution_count": null,
   "metadata": {
    "collapsed": false,
    "deletable": true,
    "editable": true
   },
   "outputs": [],
   "source": [
    "mask = y_test > 0\n",
    "y_test[mask] = 1\n",
    "\n",
    "mask = y_test < 0\n",
    "y_test[mask] = 0"
   ]
  },
  {
   "cell_type": "markdown",
   "metadata": {},
   "source": [
    "Обучим одну модель (случайный лес, параметры по умолчанию), оценим ошибку и ее разброс при помощи перекрестной проверки:"
   ]
  },
  {
   "cell_type": "code",
   "execution_count": null,
   "metadata": {
    "collapsed": false,
    "deletable": true,
    "editable": true
   },
   "outputs": [],
   "source": [
    "pipe_forest = Pipeline([\n",
    "        # ('pca', PCA(n_components=10)), \n",
    "        ('clf', RandomForestClassifier(random_state=1, n_jobs=7))\n",
    "])\n",
    "\n",
    "\n",
    "scores = sk.model_selection.cross_val_score(\n",
    "    estimator=pipe_forest,\n",
    "    X=X_train,\n",
    "    y=y_train,\n",
    "    cv=10\n",
    ")\n",
    "\n",
    "print('CV accuracy scores: %s' % scores)\n",
    "print('CV accuracy: %.3f +/- %.3f' % (np.mean(scores), np.std(scores) * 2))"
   ]
  },
  {
   "cell_type": "markdown",
   "metadata": {},
   "source": [
    "Проверим качество на теством множестве:"
   ]
  },
  {
   "cell_type": "code",
   "execution_count": null,
   "metadata": {
    "collapsed": false,
    "deletable": true,
    "editable": true
   },
   "outputs": [],
   "source": [
    "pipe_forest.fit(X_train, y_train)\n",
    "y_pred = pipe_forest.predict(X_test)\n",
    "confusion_matrix(y_test, y_pred)"
   ]
  },
  {
   "cell_type": "raw",
   "metadata": {
    "collapsed": true,
    "deletable": true,
    "editable": true
   },
   "source": [
    "# Ошибка низка но исключительно за счет перевеса \"не рубок\":\n",
    "array([[5755755,       1],\n",
    "       [   4469,       0]])"
   ]
  },
  {
   "cell_type": "markdown",
   "metadata": {
    "collapsed": true,
    "deletable": true,
    "editable": true
   },
   "source": [
    "При помощи перекрестной проверки найдем модель с оптимальным числом деревьев в лесу (**осторожно, так просто из любопытства не запускать: обучается 4 дня!**):"
   ]
  },
  {
   "cell_type": "code",
   "execution_count": null,
   "metadata": {
    "collapsed": false,
    "deletable": true,
    "editable": true
   },
   "outputs": [],
   "source": [
    "param_range = range(2, 21) + [25, 30, 40, 50, 60, 70, 80, 90, 100]\n",
    "param_grid = [{'clf__n_estimators': param_range}]\n",
    "gs = GridSearchCV(\n",
    "    estimator=pipe_forest,\n",
    "    param_grid=param_grid,\n",
    "    scoring='accuracy',\n",
    "    cv=10\n",
    ")\n",
    "gs = gs.fit(X_train, y_train)\n",
    "print(gs.best_score_)\n",
    "print(gs.best_params_)"
   ]
  },
  {
   "cell_type": "markdown",
   "metadata": {
    "deletable": true,
    "editable": true
   },
   "source": [
    "### Прогноз"
   ]
  },
  {
   "cell_type": "markdown",
   "metadata": {},
   "source": [
    "Проверим результат на тестовом множестве:"
   ]
  },
  {
   "cell_type": "code",
   "execution_count": null,
   "metadata": {
    "collapsed": false,
    "deletable": true,
    "editable": true
   },
   "outputs": [],
   "source": [
    "best_model = gs.best_estimator_\n",
    "y_pred = best_model.predict(X_test)\n",
    "confusion_matrix(y_test, y_pred)"
   ]
  },
  {
   "cell_type": "raw",
   "metadata": {},
   "source": [
    "array([[5755754,       2],\n",
    "       [   4468,       1]])"
   ]
  },
  {
   "cell_type": "markdown",
   "metadata": {},
   "source": [
    "Как и ранее: если все пометить, как \"не рубки\", то ошибка будет низкой, но реальное качество поиска рубок на нуле."
   ]
  },
  {
   "cell_type": "markdown",
   "metadata": {},
   "source": [
    "Запустим работу модели на всех данных, сохраним резульаты в растры:"
   ]
  },
  {
   "cell_type": "code",
   "execution_count": null,
   "metadata": {
    "collapsed": false,
    "deletable": true,
    "editable": true
   },
   "outputs": [],
   "source": [
    "print grs.grass.read_command('g.region', region='all_scenes@landsat', res=30, flags='p')"
   ]
  },
  {
   "cell_type": "code",
   "execution_count": null,
   "metadata": {
    "collapsed": false,
    "deletable": true,
    "editable": true
   },
   "outputs": [],
   "source": [
    "X_train = grs.rasters_to_array(inputs)\n",
    "size = X_train.shape[0]\n",
    "bins = np.linspace(0, size).astype(np.int)\n",
    "print bins\n",
    "\n",
    "i = 0\n",
    "result = best_model.predict(X_train[bins[i]: bins[i+1], :])\n",
    "\n",
    "last = len(bins) - 2\n",
    "for i in range(1, last):\n",
    "    r = best_model.predict(X_train[bins[i]: bins[i+1], :])\n",
    "    result = np.concatenate((result, r))\n",
    "\n",
    "r = best_model.predict(X_train[bins[last]:, :])\n",
    "result = np.concatenate((result, r))\n",
    "print len(result)\n",
    "\n",
    "\n",
    "# grs.grass.run_command('g.remove', type='rast', name='forest.result30m', flags='f')\n",
    "grs.array_to_rast(arr=result, map_name='forest.cv.result30m')"
   ]
  },
  {
   "cell_type": "code",
   "execution_count": null,
   "metadata": {
    "collapsed": true,
    "deletable": true,
    "editable": true
   },
   "outputs": [],
   "source": []
  },
  {
   "cell_type": "code",
   "execution_count": null,
   "metadata": {
    "collapsed": true,
    "deletable": true,
    "editable": true
   },
   "outputs": [],
   "source": []
  },
  {
   "cell_type": "code",
   "execution_count": null,
   "metadata": {
    "collapsed": true,
    "deletable": true,
    "editable": true
   },
   "outputs": [],
   "source": []
  }
 ],
 "metadata": {
  "kernelspec": {
   "display_name": "Python 2",
   "language": "python",
   "name": "python2"
  },
  "language_info": {
   "codemirror_mode": {
    "name": "ipython",
    "version": 2
   },
   "file_extension": ".py",
   "mimetype": "text/x-python",
   "name": "python",
   "nbconvert_exporter": "python",
   "pygments_lexer": "ipython2",
   "version": "2.7.12"
  }
 },
 "nbformat": 4,
 "nbformat_minor": 0
}
