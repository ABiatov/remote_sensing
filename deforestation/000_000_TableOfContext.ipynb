{
 "cells": [
  {
   "cell_type": "markdown",
   "metadata": {},
   "source": [
    "## Названия растров"
   ]
  },
  {
   "cell_type": "markdown",
   "metadata": {},
   "source": [
    "Поскольку обработка состоит из большого числа этапов, то удобно все результаты того или иного преобразования сцены называть по одной схеме:\n",
    "\n",
    "Номер |Этап | Пример названия\n",
    "-----|----------------\n",
    "1 | Импорт | от этого этапа остаются только LC81120282015189LGN00_BQA, остальные удалены.\n",
    "2 | Расчет ToAR для импортированных растров из этапа 1 | toar_LC81120272015045LGN00_B9\n",
    "3 | Топографическая коррекция для растров из этапа 2 | topo.toar_LC81120272015045LGN00_B6\n",
    "4 | Применена маска облачности к растрам из этапа 3. Все, что под облаками - NULL | clean.LC81130272016055LGN00_B3\n",
    " | |\n"
   ]
  },
  {
   "cell_type": "code",
   "execution_count": null,
   "metadata": {
    "collapsed": true
   },
   "outputs": [],
   "source": []
  },
  {
   "cell_type": "code",
   "execution_count": null,
   "metadata": {
    "collapsed": true
   },
   "outputs": [],
   "source": []
  }
 ],
 "metadata": {
  "kernelspec": {
   "display_name": "Python 2",
   "language": "python",
   "name": "python2"
  },
  "language_info": {
   "codemirror_mode": {
    "name": "ipython",
    "version": 2
   },
   "file_extension": ".py",
   "mimetype": "text/x-python",
   "name": "python",
   "nbconvert_exporter": "python",
   "pygments_lexer": "ipython2",
   "version": "2.7.6"
  }
 },
 "nbformat": 4,
 "nbformat_minor": 0
}
