{
 "cells": [
  {
   "cell_type": "markdown",
   "metadata": {},
   "source": [
    "# Краткая инструкция"
   ]
  },
  {
   "cell_type": "markdown",
   "metadata": {},
   "source": [
    "К системе подключен GRASS и полноценный терминал.\n",
    "\n",
    "Система в целом \"вандалоустойчивая\" так что не бойтесь экспериментировать. При соблюдении следующих рекомендаций, проблем не будет:\n",
    " \n",
    " * У вас есть доступ на запись в PERMANENT, в котором хранятся основные данные. Но экспериментальную работу желательно вести работу в отдельном MAPSET, чтобы ненароком не испортить исходные данные (в GRASS можно читать данные из любых MAPSET, а удалять/записывать в текущий). Как подключиться к GRASS и создать/перейти в отдельный MAPSET сказано ниже.\n",
    " * Система работает из-под одного пользователя (klsvd), весь код хранится в репозитории. Понимаю, что не очень удобно работать из-под одного пользователя, но пока так. При необходимости закоммитить результаты работы и отправить их в репу -- обращайтесь ко мне (КД). Чтобы не испортить работу других, желательно создать для тестов отдельный блокнот-песочницу и отлаживаться в нем.\n",
    " \n",
    "Это именно рекомендации, а не жесткие требования.\n",
    "\n",
    "Ниже идут подробности процесса. В первый раз лучше прочитать все подряд, в дальнейшем можно пользоваться шпаргалкой:\n",
    "\n",
    " * [Как подключаться к GRASS](#connect_grass).\n",
    " * [Как создать MAPSET](#create_mapset).\n",
    " * [Полный цикл -- создание области, обработка, просмотр результатов](#all_steps).\n",
    " * [Как пользоваться WMS](#wms)."
   ]
  },
  {
   "cell_type": "markdown",
   "metadata": {},
   "source": [
    "## Python"
   ]
  },
  {
   "cell_type": "markdown",
   "metadata": {},
   "source": [
    "В настоящий момент к блокнотам подключен только Python версии 2.7. Есть возможность подключить другие языки, в том числе R. Если нужно - сообщайте. В блокнотах дается доступ к \"обычному\" Python, т.е. все, что можно сделать с ним в терминале, можно сделать и в блокноте. Для этого нужно набрать требуемый код в ячейке и нажать кнопку 'Run cell' (или набрать на клавиатуре сочетание клавиш Ctrl-Enter)."
   ]
  },
  {
   "cell_type": "code",
   "execution_count": 1,
   "metadata": {
    "collapsed": false
   },
   "outputs": [
    {
     "name": "stdout",
     "output_type": "stream",
     "text": [
      "Версия gdal: 1110200\n",
      "2000\n"
     ]
    }
   ],
   "source": [
    "import gdal\n",
    "\n",
    "print 'Версия gdal:', gdal.VersionInfo()\n",
    "\n",
    "x = 10\n",
    "print x * 200"
   ]
  },
  {
   "cell_type": "markdown",
   "metadata": {
    "collapsed": true
   },
   "source": [
    "## Подключение к GRASS<a id='connect_grass'></a>"
   ]
  },
  {
   "cell_type": "markdown",
   "metadata": {
    "collapsed": true
   },
   "source": [
    "Для удобства работы с GRASS был написан объект, хранящийся в модуле grasslib. Поэтому вначале его следует импортировать. Для запуска GRASS нужно знать пути к исполняемому коду и каталогу с данными. Для удобства эти пути прописаны в одном месте (в случае переезда нужно будет менять только один файл, а не лазить по всем блокнотам), поэтому модуль, хранящий пути, также следует импортировать. Помимо путей в нем лежат несколько других полезных функций (модуль называется utilites, можете открыть и посмотреть, что там внутри)."
   ]
  },
  {
   "cell_type": "markdown",
   "metadata": {},
   "source": [
    "Импортируем необходимые модули:"
   ]
  },
  {
   "cell_type": "code",
   "execution_count": 2,
   "metadata": {
    "collapsed": true
   },
   "outputs": [],
   "source": [
    "import utilites\n",
    "reload(utilites)\n",
    "\n",
    "from utilites import (\n",
    "    get_grassdata_path,\n",
    "    get_location_name,\n",
    "    get_location_path,\n",
    ")"
   ]
  },
  {
   "cell_type": "markdown",
   "metadata": {},
   "source": [
    "Создадим объект - обертку над GRASS, для этого нужно передать ему пути подключения к исполняемому коду, каталогу с данными GRASS, название LOCATION и (опционально) MAPSET. Если MAPSET не указан, то по умолчанию подключение производится к PERMANENT."
   ]
  },
  {
   "cell_type": "code",
   "execution_count": 3,
   "metadata": {
    "collapsed": false
   },
   "outputs": [],
   "source": [
    "from grasslib import GRASS\n",
    "\n",
    "grs = GRASS(gisbase='/usr/lib/grass70', \n",
    "            dbase=get_grassdata_path(), \n",
    "            location=get_location_name(),\n",
    "            mapset='PERMANENT'\n",
    ")"
   ]
  },
  {
   "cell_type": "markdown",
   "metadata": {},
   "source": [
    "Начиная с этого момента можно использовать обертку для исполнение команд в GRASS (через `grs.grass.*`). Для работы доступно все, что доступно в GRASS из Python, т.е. практически без ограничений. Наиболее важные функции: run_command(), read_command(), write_command(), их хватает на 99% обычной работы (подробности можно посмотреть в [презентации с gisconf](http://kolesovdmitry.github.io/gisconf-grass-scripting/slides) и в документации к GRASS). Например:"
   ]
  },
  {
   "cell_type": "code",
   "execution_count": 4,
   "metadata": {
    "collapsed": false
   },
   "outputs": [
    {
     "name": "stdout",
     "output_type": "stream",
     "text": [
      "train15_16\n",
      "\n"
     ]
    }
   ],
   "source": [
    "grs.grass.run_command('g.list', type='rast')\n",
    "x = grs.grass.read_command('g.list', type='vect')\n",
    "print x"
   ]
  },
  {
   "cell_type": "markdown",
   "metadata": {},
   "source": [
    "## Создание MAPSET<a id='create_mapset'></a>"
   ]
  },
  {
   "cell_type": "markdown",
   "metadata": {},
   "source": [
    "Для того, чтобы не мусорить в PERMANENT, эксперименты рекомендуется проводить в отдельных MAPSETах. Ниже показан пример создания MAPSET под названием test и переключение в него при помощи команды `g.mapset`. Флаг `-c` позволяет создать новый MAPSET, если этот флаг не указан, то будет произведено переключение в существующий (если его существует, будет выведена ошибка). "
   ]
  },
  {
   "cell_type": "code",
   "execution_count": 5,
   "metadata": {
    "collapsed": false
   },
   "outputs": [
    {
     "name": "stdout",
     "output_type": "stream",
     "text": [
      "Существующие MAPSET: PERMANENT exploration test \n",
      "\n",
      "Текущий MAPSET: PERMANENT\n",
      "\n",
      "Текущий MAPSET: test\n",
      "\n"
     ]
    }
   ],
   "source": [
    "# Выведем список всех известных системе MAPSET\n",
    "print 'Существующие MAPSET:', grs.grass.read_command('g.mapset', flags='l')\n",
    "\n",
    "# Выведем текущий MAPSET\n",
    "print 'Текущий MAPSET:', grs.grass.read_command('g.mapset', flags='p')\n",
    "\n",
    "grs.grass.run_command('g.mapset', mapset='test', flags='c')\n",
    "\n",
    "print 'Текущий MAPSET:', grs.grass.read_command('g.mapset', flags='p')"
   ]
  },
  {
   "cell_type": "markdown",
   "metadata": {},
   "source": [
    "Так же можно подключиться к нужному MAPSET в момент инициализации GRASS (см. раздел о подключении к GRASS)."
   ]
  },
  {
   "cell_type": "markdown",
   "metadata": {},
   "source": [
    "## Обработка данных и просмотр результатов<a id='all_steps'></a>"
   ]
  },
  {
   "cell_type": "markdown",
   "metadata": {},
   "source": [
    "Покажем этот процесс на примере. Предположим, нам нужно рассчитать NDVI по одной из сцен и посмотреть, что получилось. Для этого создадим в MAPSET с названием `test` требуемый растр и подключим его через WMS в ГИС. \n",
    "\n",
    "Последовательность действий:\n",
    "1. Переключимся в `test` (если мы еще не там).\n",
    "2. Выберем сцену.\n",
    "3. Рассчитаем NDVI.\n",
    "4. Подключаемся к WMS."
   ]
  },
  {
   "cell_type": "markdown",
   "metadata": {},
   "source": [
    "### Шаг 1: переключение в MAPSET."
   ]
  },
  {
   "cell_type": "code",
   "execution_count": 6,
   "metadata": {
    "collapsed": false
   },
   "outputs": [
    {
     "name": "stdout",
     "output_type": "stream",
     "text": [
      "test\n",
      "\n"
     ]
    }
   ],
   "source": [
    "mapset = grs.grass.read_command('g.mapset', mapset='test', flags='p')\n",
    "print mapset"
   ]
  },
  {
   "cell_type": "markdown",
   "metadata": {},
   "source": [
    "### Шаг 2: список растров (групп растров)."
   ]
  },
  {
   "cell_type": "markdown",
   "metadata": {},
   "source": [
    "Выведем список известных сцен (воспользуемся тем, что они сгруппированы, см. блокнот 000_Initialization)."
   ]
  },
  {
   "cell_type": "code",
   "execution_count": 7,
   "metadata": {
    "collapsed": false
   },
   "outputs": [
    {
     "name": "stdout",
     "output_type": "stream",
     "text": [
      "LC81120272015157LGN00\n",
      "LC81120272015189LGN00\n",
      "LC81120272015333LGN00\n",
      "LC81120272015365LGN00\n",
      "LC81120272016032LGN01\n",
      "LC81120282015141LGN00\n",
      "LC81120282015189LGN00\n",
      "LC81120282015237LGN00\n",
      "LC81120282015317LGN00\n",
      "LC81120282015365LGN00\n",
      "LC81120282016016LGN00\n",
      "LC81120282016032LGN01\n",
      "toar_LC81120272015157LGN00\n",
      "toar_LC81120272015189LGN00\n",
      "toar_LC81120272015333LGN00\n",
      "toar_LC81120272015365LGN00\n",
      "toar_LC81120272016032LGN01\n",
      "toar_LC81120282015141LGN00\n",
      "toar_LC81120282015189LGN00\n",
      "toar_LC81120282015237LGN00\n",
      "toar_LC81120282015317LGN00\n",
      "toar_LC81120282015365LGN00\n",
      "toar_LC81120282016016LGN00\n",
      "toar_LC81120282016032LGN01\n",
      "\n"
     ]
    }
   ],
   "source": [
    "groups = grs.grass.read_command('g.list', type='group')\n",
    "print groups"
   ]
  },
  {
   "cell_type": "markdown",
   "metadata": {},
   "source": [
    "Выберем одну из этих сцен, например, LC81120282016032LGN01. По ней уже рассчитаны ToA Reflectance, поэтому можно считать NDVI. (Напомним, что основные данные хранятся в PERMANENT). Установим регион по одному из ратров сцены и запустим расчеты через растровый калькулятор."
   ]
  },
  {
   "cell_type": "markdown",
   "metadata": {},
   "source": [
    "### Шаг 3: обработка."
   ]
  },
  {
   "cell_type": "code",
   "execution_count": 8,
   "metadata": {
    "collapsed": false
   },
   "outputs": [
    {
     "name": "stdout",
     "output_type": "stream",
     "text": [
      " +----------------------------------------------------------------------------+\n",
      " | Map:      ndvi                           Date: Sat Apr 16 10:59:30 2016    |\n",
      " | Mapset:   test                           Login of Creator: klsvd           |\n",
      " | Location: LANDSAT                                                          |\n",
      " | DataBase: /home/klsvd/GRASSDATA                                            |\n",
      " | Title:     ( ndvi )                                                        |\n",
      " | Timestamp: none                                                            |\n",
      " |----------------------------------------------------------------------------|\n",
      " |                                                                            |\n",
      " |   Type of Map:  raster               Number of Categories: 0               |\n",
      " |   Data Type:    DCELL                                                      |\n",
      " |   Rows:         7911                                                       |\n",
      " |   Columns:      7781                                                       |\n",
      " |   Total Cells:  61555491                                                   |\n",
      " |        Projection: UTM (zone 53)                                           |\n",
      " |            N:    5215815    S:    4978485   Res:    30                     |\n",
      " |            E:     666915    W:     433485   Res:    30                     |\n",
      " |   Range of data:    min = -1.88838040359838  max = 0.996539481554926       |\n",
      " |                                                                            |\n",
      " |   Data Description:                                                        |\n",
      " |    generated by r.mapcalc                                                  |\n",
      " |                                                                            |\n",
      " |   Comments:                                                                |\n",
      " |    (toar_LC81120282016032LGN01_B5@PERMANENT -                              |\n",
      " |    toar_LC81120282016032LGN01_B4@PERMANENT) /                              |\n",
      " |    (toar_LC81120282016032LGN01_B5@PERMANENT +                              |\n",
      " |    toar_LC81120282016032LGN01_B4@PERMANENT)                                |\n",
      " |                                                                            |\n",
      " +----------------------------------------------------------------------------+\n",
      "\n",
      "\n"
     ]
    }
   ],
   "source": [
    "grs.grass.run_command('g.region', raster=\"toar_LC81120282016032LGN01_B5@PERMANENT\")\n",
    "\n",
    "expr = \"ndvi = (%s - %s)/(%s + %s)\" % \\\n",
    "    ('toar_LC81120282016032LGN01_B5@PERMANENT', 'toar_LC81120282016032LGN01_B4@PERMANENT',\n",
    "     'toar_LC81120282016032LGN01_B5@PERMANENT', 'toar_LC81120282016032LGN01_B4@PERMANENT')\n",
    "\n",
    "\n",
    "grs.grass.run_command('r.mapcalc', expression=expr, overwrite=True)\n",
    "\n",
    "print grs.grass.read_command('r.info', map='ndvi')"
   ]
  },
  {
   "cell_type": "markdown",
   "metadata": {},
   "source": [
    "Как видим, растр создан, для удобства назначим ему цвета по стандартной схеме цветов ndvi:"
   ]
  },
  {
   "cell_type": "code",
   "execution_count": 9,
   "metadata": {
    "collapsed": false
   },
   "outputs": [
    {
     "data": {
      "text/plain": [
       "0"
      ]
     },
     "execution_count": 9,
     "metadata": {},
     "output_type": "execute_result"
    }
   ],
   "source": [
    "grs.grass.run_command('r.colors', map='ndvi', color='ndvi')"
   ]
  },
  {
   "cell_type": "markdown",
   "metadata": {
    "collapsed": true
   },
   "source": [
    "### Шаг 4: WMS.<a id='wms'></a>"
   ]
  },
  {
   "cell_type": "markdown",
   "metadata": {
    "collapsed": true
   },
   "source": [
    "WMS сервер доступен по адресу: `http://[ip-адрес]/wms/Название-MAPSET/`. По этому адресу можно подключиться в любой ГИС и просмотреть содержимое запрошенного MAPSET и PERMANENT (данные, хранящиеся в PERMANENT, доступны для просмотра из любого MAPSET).\n",
    "\n",
    "Например, полученный нами растр NDVI будет доступен по адресу: `http://[ip-адрес]/wms/test/`."
   ]
  },
  {
   "cell_type": "code",
   "execution_count": null,
   "metadata": {
    "collapsed": true
   },
   "outputs": [],
   "source": []
  }
 ],
 "metadata": {
  "kernelspec": {
   "display_name": "Python 2",
   "language": "python",
   "name": "python2"
  },
  "language_info": {
   "codemirror_mode": {
    "name": "ipython",
    "version": 2
   },
   "file_extension": ".py",
   "mimetype": "text/x-python",
   "name": "python",
   "nbconvert_exporter": "python",
   "pygments_lexer": "ipython2",
   "version": "2.7.6"
  }
 },
 "nbformat": 4,
 "nbformat_minor": 0
}
