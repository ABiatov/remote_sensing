{
 "cells": [
  {
   "cell_type": "markdown",
   "metadata": {},
   "source": [
    "# Топографическая коррекция"
   ]
  },
  {
   "cell_type": "markdown",
   "metadata": {},
   "source": [
    "В данном документе производится топографическая коррекция сцен Ландсат.\n",
    "\n",
    "Для того, чтобы произвести топографическую коррекцию нам необходимы данные по высотам рельефа. Следовательно, нам потребуется импортировать высотные данные. В качестве таких данных возьмем SRTM. (Есть ли на Дальний Восток данные получше?). Таким образом схема работы будет такой:\n",
    "\n",
    "1. Импорт SRTM в набор данных GRASS.\n",
    "2. Коррекция всех имеющихся сцен Landsat.\n"
   ]
  },
  {
   "cell_type": "markdown",
   "metadata": {},
   "source": [
    "## Импорт STRM"
   ]
  },
  {
   "cell_type": "markdown",
   "metadata": {},
   "source": [
    "Поскольку данные STRM растпространяются в системе координат широта-долгота, то сначала импортируем данные в область, соответствующую системе координат исходных данных, а затем перепроециуем их в нужную нам проекцию."
   ]
  },
  {
   "cell_type": "code",
   "execution_count": 9,
   "metadata": {
    "collapsed": true
   },
   "outputs": [],
   "source": [
    "import os\n",
    "\n",
    "import utilites\n",
    "reload(utilites)\n",
    "\n",
    "from utilites import (\n",
    "    get_grassdata_path,\n",
    "    get_location_name,\n",
    "    get_ll_location_name,\n",
    "    get_location_path,\n",
    ")\n",
    "\n",
    "\n",
    "from grasslib import GRASS"
   ]
  },
  {
   "cell_type": "code",
   "execution_count": 11,
   "metadata": {
    "collapsed": false
   },
   "outputs": [
    {
     "data": {
      "text/plain": [
       "0"
      ]
     },
     "execution_count": 11,
     "metadata": {},
     "output_type": "execute_result"
    }
   ],
   "source": [
    "grs = GRASS(gisbase='/usr/lib/grass70', \n",
    "            dbase=get_grassdata_path(), \n",
    "            location=get_ll_location_name()\n",
    ")\n",
    "\n",
    "grs.grass.run_command('g.mapset', mapset='srtm', flags='c')"
   ]
  },
  {
   "cell_type": "markdown",
   "metadata": {},
   "source": [
    "Импортируем данные по высотам:"
   ]
  },
  {
   "cell_type": "code",
   "execution_count": 12,
   "metadata": {
    "collapsed": false
   },
   "outputs": [
    {
     "name": "stdout",
     "output_type": "stream",
     "text": [
      "/home/cruncher/Data/SRTM\n"
     ]
    }
   ],
   "source": [
    "HOME_DIR = os.getenv(\"HOME\")\n",
    "ELEV_DIR = os.path.join(HOME_DIR, 'Data', 'SRTM')\n",
    "\n",
    "print ELEV_DIR"
   ]
  },
  {
   "cell_type": "code",
   "execution_count": 14,
   "metadata": {
    "collapsed": false
   },
   "outputs": [
    {
     "name": "stdout",
     "output_type": "stream",
     "text": [
      "srtm_63_03\n",
      "srtm_64_03\n"
     ]
    }
   ],
   "source": [
    "basenames = ['srtm_63_03', 'srtm_64_03']\n",
    "for bs in basenames:\n",
    "    name = os.path.join(ELEV_DIR, bs+'.tif')\n",
    "    print bs\n",
    "    grs.grass.run_command('r.in.gdal', input=name, output=bs, overwrite=True, flags='e')\n",
    "    "
   ]
  },
  {
   "cell_type": "markdown",
   "metadata": {},
   "source": [
    "Объединим разные куски SRTM в один для удобства работы, а отдельные части удалим:"
   ]
  },
  {
   "cell_type": "code",
   "execution_count": 18,
   "metadata": {
    "collapsed": false
   },
   "outputs": [],
   "source": [
    "grs.grass.run_command(\n",
    "    'r.patch', input=','.join(basenames), \n",
    "    output='srtm',\n",
    "    overwrite=True\n",
    ")\n",
    "for bs in basenames:\n",
    "    grs.grass.run_command('g.remove', type='rast', name=bs, flags='f')"
   ]
  },
  {
   "cell_type": "markdown",
   "metadata": {},
   "source": [
    "Перепроецируем, для этого переключимся в область UTM и создадим отдельный набор данных для хранения высот:"
   ]
  },
  {
   "cell_type": "code",
   "execution_count": 19,
   "metadata": {
    "collapsed": false
   },
   "outputs": [
    {
     "name": "stdout",
     "output_type": "stream",
     "text": [
      "elevation\n",
      "\n"
     ]
    }
   ],
   "source": [
    "grs = GRASS(gisbase='/usr/lib/grass70', \n",
    "            dbase=get_grassdata_path(), \n",
    "            location=get_location_name()\n",
    ")\n",
    "\n",
    "grs.grass.run_command('g.mapset', mapset='elevation', flags='c')\n",
    "print grs.grass.read_command('g.mapset', flags='p')"
   ]
  },
  {
   "cell_type": "markdown",
   "metadata": {},
   "source": [
    "Установим регион, покрывающий все интересующие нас сцены:"
   ]
  },
  {
   "cell_type": "code",
   "execution_count": 22,
   "metadata": {
    "collapsed": false
   },
   "outputs": [
    {
     "data": {
      "text/plain": [
       "0"
      ]
     },
     "execution_count": 22,
     "metadata": {},
     "output_type": "execute_result"
    }
   ],
   "source": [
    "grs.grass.run_command('g.region', region='all_scenes@landsat')"
   ]
  },
  {
   "cell_type": "markdown",
   "metadata": {},
   "source": [
    "Перепроецируем:"
   ]
  },
  {
   "cell_type": "code",
   "execution_count": 23,
   "metadata": {
    "collapsed": false
   },
   "outputs": [
    {
     "data": {
      "text/plain": [
       "0"
      ]
     },
     "execution_count": 23,
     "metadata": {},
     "output_type": "execute_result"
    }
   ],
   "source": [
    "grs.grass.run_command('r.proj', location=get_ll_location_name(), mapset='srtm', input='srtm', output='srtm')"
   ]
  },
  {
   "cell_type": "markdown",
   "metadata": {
    "collapsed": true
   },
   "source": [
    "## Топографическая коррекция"
   ]
  },
  {
   "cell_type": "markdown",
   "metadata": {
    "collapsed": true
   },
   "source": [
    "Для топографической коррекци нам нужно знать параметры освещенности в момент съемки: азимут на Солнце и зенитный угол. Эти параметры предоставляются в метаданных к снимку и они "
   ]
  },
  {
   "cell_type": "code",
   "execution_count": null,
   "metadata": {
    "collapsed": true
   },
   "outputs": [],
   "source": []
  },
  {
   "cell_type": "code",
   "execution_count": null,
   "metadata": {
    "collapsed": true
   },
   "outputs": [],
   "source": []
  }
 ],
 "metadata": {
  "kernelspec": {
   "display_name": "Python 2",
   "language": "python",
   "name": "python2"
  },
  "language_info": {
   "codemirror_mode": {
    "name": "ipython",
    "version": 2
   },
   "file_extension": ".py",
   "mimetype": "text/x-python",
   "name": "python",
   "nbconvert_exporter": "python",
   "pygments_lexer": "ipython2",
   "version": "2.7.6"
  }
 },
 "nbformat": 4,
 "nbformat_minor": 0
}
