{
 "cells": [
  {
   "cell_type": "markdown",
   "metadata": {},
   "source": [
    "# Топографическая коррекция"
   ]
  },
  {
   "cell_type": "markdown",
   "metadata": {},
   "source": [
    "В данном документе производится топографическая коррекция сцен Ландсат.\n",
    "\n",
    "Для того, чтобы произвести топографическую коррекцию нам необходимы данные по высотам рельефа. Следовательно, нам потребуется импортировать высотные данные. В качестве таких данных возьмем SRTM. (Есть ли на Дальний Восток данные получше?). Таким образом схема работы будет такой:\n",
    "\n",
    "1. Импорт SRTM в набор данных GRASS.\n",
    "2. Коррекция всех имеющихся сцен Landsat.\n"
   ]
  },
  {
   "cell_type": "markdown",
   "metadata": {},
   "source": [
    "## Импорт STRM"
   ]
  },
  {
   "cell_type": "markdown",
   "metadata": {},
   "source": [
    "Поскольку данные STRM растпространяются в системе координат широта-долгота, то сначала импортируем данные в область, соответствующую системе координат исходных данных, а затем перепроециуем их в нужную нам проекцию."
   ]
  },
  {
   "cell_type": "code",
   "execution_count": null,
   "metadata": {
    "collapsed": true
   },
   "outputs": [],
   "source": [
    "import os\n",
    "import uuid\n",
    "\n",
    "import utilites\n",
    "reload(utilites)\n",
    "\n",
    "from utilites import (\n",
    "    get_grassdata_path,\n",
    "    get_location_name,\n",
    "    get_ll_location_name,\n",
    "    get_location_path,\n",
    ")\n",
    "\n",
    "\n",
    "from grasslib import GRASS"
   ]
  },
  {
   "cell_type": "code",
   "execution_count": null,
   "metadata": {
    "collapsed": false
   },
   "outputs": [],
   "source": [
    "grs = GRASS(gisbase='/usr/lib/grass70', \n",
    "            dbase=get_grassdata_path(), \n",
    "            location=get_ll_location_name()\n",
    ")\n",
    "\n",
    "grs.grass.run_command('g.mapset', mapset='srtm', flags='c')"
   ]
  },
  {
   "cell_type": "markdown",
   "metadata": {},
   "source": [
    "Импортируем данные по высотам:"
   ]
  },
  {
   "cell_type": "code",
   "execution_count": null,
   "metadata": {
    "collapsed": false
   },
   "outputs": [],
   "source": [
    "HOME_DIR = os.getenv(\"HOME\")\n",
    "ELEV_DIR = os.path.join(HOME_DIR, 'Data', 'SRTM')\n",
    "\n",
    "print ELEV_DIR"
   ]
  },
  {
   "cell_type": "code",
   "execution_count": null,
   "metadata": {
    "collapsed": false
   },
   "outputs": [],
   "source": [
    "basenames = ['srtm_63_03', 'srtm_64_03']\n",
    "for bs in basenames:\n",
    "    name = os.path.join(ELEV_DIR, bs+'.tif')\n",
    "    print bs\n",
    "    grs.grass.run_command('r.in.gdal', input=name, output=bs, overwrite=True, flags='e')\n",
    "    "
   ]
  },
  {
   "cell_type": "markdown",
   "metadata": {},
   "source": [
    "Объединим разные куски SRTM в один для удобства работы, а отдельные части удалим:"
   ]
  },
  {
   "cell_type": "code",
   "execution_count": null,
   "metadata": {
    "collapsed": false
   },
   "outputs": [],
   "source": [
    "grs.grass.run_command(\n",
    "    'r.patch', input=','.join(basenames), \n",
    "    output='srtm',\n",
    "    overwrite=True\n",
    ")\n",
    "for bs in basenames:\n",
    "    grs.grass.run_command('g.remove', type='rast', name=bs, flags='f')"
   ]
  },
  {
   "cell_type": "markdown",
   "metadata": {},
   "source": [
    "Перепроецируем, для этого переключимся в область UTM и создадим отдельный набор данных для хранения высот:"
   ]
  },
  {
   "cell_type": "code",
   "execution_count": null,
   "metadata": {
    "collapsed": false
   },
   "outputs": [],
   "source": [
    "grs = GRASS(gisbase='/usr/lib/grass70', \n",
    "            dbase=get_grassdata_path(), \n",
    "            location=get_location_name()\n",
    ")\n",
    "\n",
    "grs.grass.run_command('g.mapset', mapset='elevation', flags='c')\n",
    "print grs.grass.read_command('g.mapset', flags='p')"
   ]
  },
  {
   "cell_type": "markdown",
   "metadata": {},
   "source": [
    "Установим регион, покрывающий все интересующие нас сцены:"
   ]
  },
  {
   "cell_type": "code",
   "execution_count": null,
   "metadata": {
    "collapsed": false
   },
   "outputs": [],
   "source": [
    "grs.grass.run_command('g.region', region='all_scenes@landsat')"
   ]
  },
  {
   "cell_type": "markdown",
   "metadata": {},
   "source": [
    "Перепроецируем:"
   ]
  },
  {
   "cell_type": "code",
   "execution_count": null,
   "metadata": {
    "collapsed": false
   },
   "outputs": [],
   "source": [
    "grs.grass.run_command('r.proj', location=get_ll_location_name(), mapset='srtm', \n",
    "                      input='srtm', output='srtm', overwrite=True)"
   ]
  },
  {
   "cell_type": "markdown",
   "metadata": {
    "collapsed": true
   },
   "source": [
    "## Топографическая коррекция"
   ]
  },
  {
   "cell_type": "markdown",
   "metadata": {
    "collapsed": true
   },
   "source": [
    "Для топографической коррекци нам нужно знать параметры освещенности в момент съемки: азимут на Солнце и зенитный угол. Эти параметры предоставляются в метаданных к снимку и они были сохранены в файл метаданных в GRASS (см. [функцию импорта Landsat в блокноте](000_Initialization.ipynb)). В дальнейшем эти метаданные были скопированы в растры, очищенные от облачности (в блокнотах этот момент не описан, см. соответствующие команды в history.txt, раздел 2.1.).\n",
    "\n",
    "Названия очищенных от облачности файлов clean.landsatID_BX (например, clean.LC81130272016087LGN00_B7). Получить доступ к метаданным можно через r.support (правда, его придется разбирать на части)."
   ]
  },
  {
   "cell_type": "markdown",
   "metadata": {},
   "source": [
    "### Анализ метаданных"
   ]
  },
  {
   "cell_type": "markdown",
   "metadata": {},
   "source": [
    "Переключаемся в LOCATION с данными Landsat:"
   ]
  },
  {
   "cell_type": "code",
   "execution_count": null,
   "metadata": {
    "collapsed": false
   },
   "outputs": [],
   "source": [
    "grs.grass.run_command('g.mapset', mapset='landsat')\n",
    "print grs.grass.read_command('g.mapset', flags='p')"
   ]
  },
  {
   "cell_type": "markdown",
   "metadata": {},
   "source": [
    "Посмотрим на метаданные одного из растров:"
   ]
  },
  {
   "cell_type": "code",
   "execution_count": null,
   "metadata": {
    "collapsed": false
   },
   "outputs": [],
   "source": [
    "mapname = \"clean.LC81130272016087LGN00_B7\"\n",
    "# Временный файл: \n",
    "tempfile = uuid.uuid4().hex\n",
    "\n",
    "grs.grass.run_command('r.support', map=mapname, savehistory=tempfile)\n",
    "print open(tempfile).read()\n",
    "\n",
    "os.unlink(tempfile)\n"
   ]
  },
  {
   "cell_type": "markdown",
   "metadata": {
    "collapsed": true
   },
   "source": [
    "Нас интересуют параметры: \n",
    " * sunaz: азимут Солнца\n",
    " * sun_elev: угол, дополнительный к зенитному, т.е. зенитный угол = 90 - sun_elev"
   ]
  },
  {
   "cell_type": "markdown",
   "metadata": {},
   "source": [
    "Напишем функцию, которая принимает на вход название растра и возвращает пару (sunaz, sun_elev). Помимо очевидного входного параметра (имя растра) функции нужно передать объект-обертку вокруг GRASS."
   ]
  },
  {
   "cell_type": "code",
   "execution_count": null,
   "metadata": {
    "collapsed": false
   },
   "outputs": [],
   "source": [
    "def get_sun_position(raster_name, grass):\n",
    "    tempfile = uuid.uuid4().hex\n",
    "    try:\n",
    "        grass.run_command('r.support', map=mapname, savehistory=tempfile)\n",
    "        for line in open(tempfile).readlines():\n",
    "            search = 'METADATA: sunaz='\n",
    "            position = line.find(search)\n",
    "            if position >= 0:\n",
    "                sunaz = float(line[position + len(search):])\n",
    "                \n",
    "            search = 'METADATA: sun_elev='\n",
    "            position = line.find(search)\n",
    "            if position >= 0:\n",
    "                sun_elev = float(line[position + len(search):])\n",
    "    except:\n",
    "        raise\n",
    "    finally:\n",
    "        os.unlink(tempfile)\n",
    "        \n",
    "    return (sunaz, sun_elev)\n",
    "\n",
    "\n",
    "get_sun_position(mapname, grs.grass)    "
   ]
  },
  {
   "cell_type": "markdown",
   "metadata": {},
   "source": [
    "### Топографическая коррекция"
   ]
  },
  {
   "cell_type": "markdown",
   "metadata": {},
   "source": [
    "Создадим функцию для топографической коррекции. Функция будет принимать на входе список растров для коррекции, модель рельефа и префикс названий выходных растров, в которых будет сохранен результат коррекции. Кроме того, функции нужно передать объект-обертку вокруг GRASS."
   ]
  },
  {
   "cell_type": "code",
   "execution_count": null,
   "metadata": {
    "collapsed": false
   },
   "outputs": [],
   "source": [
    "def topo_corr(map_list, elevation, result_prefix, grass):\n",
    "    \n",
    "    \n",
    "    sunaz, sun_elev = get_sun_position(map_list[0], grass)\n",
    "    zenith = 90 - sun_elev\n",
    "    \n",
    "    maps = ','.join(map_list)\n",
    "    \n",
    "    tempfile = 'tmp' + uuid.uuid4().hex\n",
    "    try:\n",
    "        # first pass: create illumination model\n",
    "        grass.run_command('i.topo.corr', flags='i', \n",
    "                          base=elevation, zenith=zenith, azimuth=sunaz, \n",
    "                          output=tempfile, overwrite=True)\n",
    "\n",
    "        # second pass: apply illumination model\n",
    "        grass.run_command('i.topo.corr', base=tempfile, \n",
    "               input=maps, output=result_prefix, zenith=zenith, method='c-factor')\n",
    "    finally:\n",
    "        grass.run_command('g.remove', type='rast', name=tempfile, flags='f')"
   ]
  },
  {
   "cell_type": "markdown",
   "metadata": {},
   "source": [
    "Пример запуска:"
   ]
  },
  {
   "cell_type": "code",
   "execution_count": null,
   "metadata": {
    "collapsed": false
   },
   "outputs": [],
   "source": [
    "grs.grass.run_command('g.region', rast='toar_LC81130272016087LGN00_B1')\n",
    "map_list = ['toar_LC81130272016087LGN00_B1', 'toar_LC81130272016087LGN00_B2', \n",
    "            'toar_LC81130272016087LGN00_B3', 'toar_LC81130272016087LGN00_B4']\n",
    "topo_corr(map_list, 'srtm@elevation', 'topo', grs.grass)"
   ]
  },
  {
   "cell_type": "markdown",
   "metadata": {},
   "source": [
    "Удалим результаты эксперимента:"
   ]
  },
  {
   "cell_type": "code",
   "execution_count": null,
   "metadata": {
    "collapsed": false
   },
   "outputs": [],
   "source": [
    "for name in map_list:\n",
    "    grs.grass.run_command('g.remove', type='rast', name='topo_'+name, flags='f')"
   ]
  },
  {
   "cell_type": "markdown",
   "metadata": {
    "collapsed": true
   },
   "source": [
    "#### Коррекция всех сцен"
   ]
  },
  {
   "cell_type": "markdown",
   "metadata": {},
   "source": [
    "Список сцен получим по растрам QA (удобно использовать: один растр на сцену, уникальный суффикс)."
   ]
  },
  {
   "cell_type": "code",
   "execution_count": null,
   "metadata": {
    "collapsed": false
   },
   "outputs": [],
   "source": [
    "scenes = grs.grass.list_strings('rast', mapset='landsat', pattern='*_BQA')\n",
    "# s is something like 'LC81130272014049LGN00_BQA@landsat'\n",
    "scenes = [s[:-12] for s in scenes]\n",
    "print scenes[:3]"
   ]
  },
  {
   "cell_type": "code",
   "execution_count": null,
   "metadata": {
    "collapsed": false
   },
   "outputs": [],
   "source": [
    "bands = ['_B1', '_B2', '_B3', '_B4', '_B5', '_B6', '_B7', '_B8', '_B9', '_B10', '_B11']\n",
    "toar_prefix = 'toar_'\n",
    "for s in scenes:\n",
    "    map_list = [toar_prefix + s + b for b in bands]\n",
    "    grs.grass.run_command('g.region', rast=map_list[0])\n",
    "    topo_corr(map_list, 'srtm@elevation', 'topo', grs.grass)"
   ]
  },
  {
   "cell_type": "code",
   "execution_count": null,
   "metadata": {
    "collapsed": true
   },
   "outputs": [],
   "source": []
  }
 ],
 "metadata": {
  "kernelspec": {
   "display_name": "Python 2",
   "language": "python",
   "name": "python2"
  },
  "language_info": {
   "codemirror_mode": {
    "name": "ipython",
    "version": 2
   },
   "file_extension": ".py",
   "mimetype": "text/x-python",
   "name": "python",
   "nbconvert_exporter": "python",
   "pygments_lexer": "ipython2",
   "version": "2.7.6"
  }
 },
 "nbformat": 4,
 "nbformat_minor": 0
}
