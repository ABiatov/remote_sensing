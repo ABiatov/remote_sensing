{
 "cells": [
  {
   "cell_type": "markdown",
   "metadata": {},
   "source": [
    "# Препроцессинг сцен Ландсат: маски облачности"
   ]
  },
  {
   "cell_type": "markdown",
   "metadata": {},
   "source": [
    "В этом документе производится очистка сцен от облаков и их теней на базе канала BQA. [В блокноте](CMASK_exploration.ipynb) рассматривается другой подход к выделению облачности: облака ищутся самостоятельно на базе обучающей выборки."
   ]
  },
  {
   "cell_type": "code",
   "execution_count": null,
   "metadata": {
    "collapsed": false
   },
   "outputs": [],
   "source": [
    "import os\n",
    "import uuid\n",
    "\n",
    "import utilites\n",
    "reload(utilites)\n",
    "\n",
    "from utilites import (\n",
    "    get_grassdata_path,\n",
    "    get_location_name,\n",
    "    get_ll_location_name,\n",
    "    get_location_path,\n",
    ")\n",
    "\n",
    "\n",
    "from grasslib import GRASS\n",
    "\n",
    "grs = GRASS(gisbase='/usr/lib/grass70', \n",
    "            dbase=get_grassdata_path(), \n",
    "            location=get_location_name()\n",
    ")\n",
    "\n",
    "grs.grass.run_command('g.mapset', mapset='landsat', flags='c')\n",
    "print grs.grass.read_command('g.mapset', flags='p')"
   ]
  },
  {
   "cell_type": "markdown",
   "metadata": {},
   "source": [
    "Создадим функцию для маскирования. Она будет принимать на вход название растра BQA, список названий растров-каналов сцены, префикс результата и объект-обертку над GRASS, который будет производить обработку."
   ]
  },
  {
   "cell_type": "code",
   "execution_count": null,
   "metadata": {
    "collapsed": true
   },
   "outputs": [],
   "source": [
    "def mask_scene(bqa_name, raster_list, prefix, grass):\n",
    "    tempfile = uuid.uuid4().hex\n",
    "    tempname = 'tmp' + uuid.uuid4().hex\n",
    "    try:\n",
    "        grass.run_command('i.landsat8.qc', \n",
    "                          cloud=\"Maybe,Yes\", cloud_shadow='Maybe,Yes', \n",
    "                          output=tempfile)\n",
    "        grass.run_command('r.reclass',\n",
    "                           input=bqa_name, output=tempname, rules=tempfile)\n",
    "        \n",
    "        for rast_name in raster_list:\n",
    "            out_name = prefix + rast_name\n",
    "            expr = '%s=if(isnull(%s), null(), %s)' % (out_name, tempname, rast_name)\n",
    "            grass.run_command('r.mapcalc',\n",
    "                              expression=expr, overwrite=True)\n",
    "    finally:\n",
    "        os.unlink(tempfile)\n",
    "        grass.run_command('g.remove', type='rast', name=tempname, flags='f')"
   ]
  },
  {
   "cell_type": "markdown",
   "metadata": {
    "collapsed": true
   },
   "source": [
    "Пример использования:"
   ]
  },
  {
   "cell_type": "raw",
   "metadata": {
    "collapsed": true
   },
   "source": [
    "# Сгенерируем названия растров для обработки\n",
    "landsat_id = 'LC81120272015333LGN00'\n",
    "bqa = landsat_id + '_BQA'\n",
    "raster_list = []\n",
    "for band_num in range(1,12):\n",
    "    raster_list.append('topo.toar_' + landsat_id + '_B' + str(band_num))\n",
    "\n",
    "mask_scene(bqa, raster_list, 'clean.', grs.grass)"
   ]
  },
  {
   "cell_type": "markdown",
   "metadata": {},
   "source": [
    "### Замаскируем все имеющиеся сцены:"
   ]
  },
  {
   "cell_type": "code",
   "execution_count": null,
   "metadata": {
    "collapsed": false
   },
   "outputs": [],
   "source": [
    "scenes = grs.grass.list_strings('rast', mapset='landsat', pattern='*_BQA')\n",
    "# s is something like 'LC81130272014049LGN00_BQA@landsat'\n",
    "scenes = [s[:-12] for s in scenes]\n",
    "print scenes[:3]"
   ]
  },
  {
   "cell_type": "code",
   "execution_count": null,
   "metadata": {
    "collapsed": false
   },
   "outputs": [],
   "source": [
    "bands = ['_B1', '_B2', '_B3', '_B4', '_B5', '_B6', '_B7', '_B8', '_B9', '_B10', '_B11']\n",
    "prefix = 'topo.toar_'\n",
    "for s in scenes:\n",
    "    print s\n",
    "    map_list = [prefix + s + b for b in bands]\n",
    "    grs.grass.run_command('g.region', rast=map_list[0])\n",
    "    mask_scene(s + '_BQA', map_list, 'clean.', grs.grass)"
   ]
  },
  {
   "cell_type": "code",
   "execution_count": null,
   "metadata": {
    "collapsed": false
   },
   "outputs": [],
   "source": []
  },
  {
   "cell_type": "code",
   "execution_count": null,
   "metadata": {
    "collapsed": true
   },
   "outputs": [],
   "source": []
  }
 ],
 "metadata": {
  "kernelspec": {
   "display_name": "Python 2",
   "language": "python",
   "name": "python2"
  },
  "language_info": {
   "codemirror_mode": {
    "name": "ipython",
    "version": 2
   },
   "file_extension": ".py",
   "mimetype": "text/x-python",
   "name": "python",
   "nbconvert_exporter": "python",
   "pygments_lexer": "ipython2",
   "version": "2.7.6"
  }
 },
 "nbformat": 4,
 "nbformat_minor": 0
}
