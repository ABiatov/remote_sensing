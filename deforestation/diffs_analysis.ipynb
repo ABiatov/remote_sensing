{
 "cells": [
  {
   "cell_type": "markdown",
   "metadata": {
    "deletable": true,
    "editable": true
   },
   "source": [
    "# Анализ растров [norm.]diff1516.N "
   ]
  },
  {
   "cell_type": "code",
   "execution_count": null,
   "metadata": {
    "collapsed": true,
    "deletable": true,
    "editable": true
   },
   "outputs": [],
   "source": [
    "import numpy as np\n",
    "\n",
    "import utilites\n",
    "\n",
    "from utilites import (\n",
    "    get_grassdata_path,\n",
    "    get_location_name,\n",
    "    get_ll_location_name,\n",
    "    get_location_path,\n",
    "    get_gisbase_path\n",
    ")\n",
    "\n",
    "import grasslib\n",
    "reload(grasslib)\n",
    "\n",
    "from grasslib import GRASS"
   ]
  },
  {
   "cell_type": "code",
   "execution_count": null,
   "metadata": {
    "collapsed": true,
    "deletable": true,
    "editable": true
   },
   "outputs": [],
   "source": [
    "grs = GRASS(gisbase=get_gisbase_path(), \n",
    "            dbase=get_grassdata_path(), \n",
    "            location=get_location_name(),\n",
    "            mapset='klsvd'\n",
    ")"
   ]
  },
  {
   "cell_type": "code",
   "execution_count": null,
   "metadata": {
    "collapsed": false,
    "deletable": true,
    "editable": true
   },
   "outputs": [],
   "source": [
    "# inputs = ['diff1615.%d@basemaps'%i for i in range(1, 12)]\n",
    "inputs = ['norm.diff1615.%d@basemaps'%i for i in range(1, 12)]\n",
    "print inputs\n",
    "output = 'wint1516.alrm@umd_alarm'"
   ]
  },
  {
   "cell_type": "code",
   "execution_count": null,
   "metadata": {
    "collapsed": false,
    "deletable": true,
    "editable": true
   },
   "outputs": [],
   "source": [
    "grs.grass.run_command('g.region', region=\"all_scenes@landsat\", res=240)"
   ]
  },
  {
   "cell_type": "code",
   "execution_count": null,
   "metadata": {
    "collapsed": true,
    "deletable": true,
    "editable": true
   },
   "outputs": [],
   "source": [
    "from sklearn.model_selection import train_test_split\n",
    "\n",
    "X_data = grs.rasters_to_array(inputs)\n",
    "Y_data = grs.rasters_to_array([output]).ravel()\n",
    "\n",
    "# In output raster '1' is 'alarm', nan is 'not alarm'\n",
    "Y_data = np.nan_to_num(Y_data)"
   ]
  },
  {
   "cell_type": "code",
   "execution_count": null,
   "metadata": {
    "collapsed": false,
    "deletable": true,
    "editable": true
   },
   "outputs": [],
   "source": [
    "print X_data.shape\n",
    "print Y_data.shape\n",
    "print np.count_nonzero(Y_data)"
   ]
  },
  {
   "cell_type": "code",
   "execution_count": null,
   "metadata": {
    "collapsed": false,
    "deletable": true,
    "editable": true
   },
   "outputs": [],
   "source": [
    "# Сортируем так чтобы объекты-рубки оказались в конце списка, \n",
    "# чтобы на графиках их было видно - они будут отрисовываться после объектов-нерубок\n",
    "Y_inds = Y_data.argsort()\n",
    "\n",
    "X_data_sorted = X_data[Y_inds]\n",
    "Y_data_sorted = Y_data[Y_inds]"
   ]
  },
  {
   "cell_type": "code",
   "execution_count": null,
   "metadata": {
    "collapsed": false,
    "deletable": true,
    "editable": true
   },
   "outputs": [],
   "source": [
    "from matplotlib.colors import ListedColormap\n",
    "\n",
    "%pylab inline\n",
    "\n",
    "# Аттрибутов у нас 11.\n",
    "# i, j - инексы аттрибутов которое хотим отразить на графике\n",
    "def print_plot(i, j, sorted_x, sorted_y):\n",
    "    \n",
    "    colors = ListedColormap(['red', 'blue'])\n",
    "    \n",
    "    pylab.figure(figsize=(16,12))\n",
    "    pylab.scatter(\n",
    "        sorted_x[ : , i],\n",
    "        sorted_x[ : , j],\n",
    "        c = sorted_y[ : ],\n",
    "        cmap = colors)\n",
    "    pylab.title('Attributes %d %d' % (i, j))\n",
    "    pylab.xlabel('attr %d' % i)\n",
    "    pylab.ylabel('attr %d' % j)\n",
    "    plt.colorbar()\n",
    "    pylab.show()"
   ]
  },
  {
   "cell_type": "code",
   "execution_count": null,
   "metadata": {
    "collapsed": false,
    "deletable": true,
    "editable": true
   },
   "outputs": [],
   "source": [
    "for i in range(11):\n",
    "    for j in range(11):\n",
    "        if j > i:\n",
    "            print_plot(i, j, X_data_sorted, Y_data_sorted)"
   ]
  },
  {
   "cell_type": "markdown",
   "metadata": {
    "collapsed": false,
    "deletable": true,
    "editable": true
   },
   "source": [
    "## Те же действия внутри маски лесов"
   ]
  },
  {
   "cell_type": "markdown",
   "metadata": {
    "deletable": true,
    "editable": true
   },
   "source": [
    "Замаскируем все леса. Что лежит вне маски лесов, становится null. (У меня тенденция забывать удалять маску после использования. Поэтому я оберну все в try-finally)"
   ]
  },
  {
   "cell_type": "code",
   "execution_count": null,
   "metadata": {
    "collapsed": true,
    "deletable": true,
    "editable": true
   },
   "outputs": [],
   "source": [
    "try:\n",
    "    grs.grass.run_command('r.mapcalc', expression=\"MASK = forest.mask.60@treecover\")\n",
    "    X_data = grs.rasters_to_array(inputs)\n",
    "    Y_data = grs.rasters_to_array([output]).ravel()\n",
    "finally:\n",
    "    # grs.grass.run_command('g.remove', type='rast', name=\"MASK\", flags='f')\n",
    "    grs.grass.run_command('r.mask', flags='r')\n",
    "    \n",
    "# In output raster '1' is 'alarm', nan is 'not alarm'\n",
    "Y_data = np.nan_to_num(Y_data)"
   ]
  },
  {
   "cell_type": "code",
   "execution_count": null,
   "metadata": {
    "collapsed": false,
    "deletable": true,
    "editable": true
   },
   "outputs": [],
   "source": [
    "print X_data.shape\n",
    "print Y_data.shape\n",
    "print np.count_nonzero(Y_data)"
   ]
  },
  {
   "cell_type": "code",
   "execution_count": null,
   "metadata": {
    "collapsed": true,
    "deletable": true,
    "editable": true
   },
   "outputs": [],
   "source": [
    "# Сортируем так чтобы объекты-рубки оказались в конце списка, \n",
    "# чтобы на графиках их было видно - они будут отрисовываться после объектов-нерубок\n",
    "Y_inds = Y_data.argsort()\n",
    "\n",
    "X_data_sorted = X_data[Y_inds]\n",
    "Y_data_sorted = Y_data[Y_inds]"
   ]
  },
  {
   "cell_type": "code",
   "execution_count": null,
   "metadata": {
    "collapsed": false,
    "deletable": true,
    "editable": true
   },
   "outputs": [],
   "source": [
    "for i in range(11):\n",
    "    for j in range(11):\n",
    "        if j > i:\n",
    "            print_plot(i, j, X_data_sorted, Y_data_sorted)"
   ]
  },
  {
   "cell_type": "code",
   "execution_count": null,
   "metadata": {
    "collapsed": true,
    "deletable": true,
    "editable": true
   },
   "outputs": [],
   "source": []
  },
  {
   "cell_type": "code",
   "execution_count": null,
   "metadata": {
    "collapsed": false,
    "deletable": true,
    "editable": true
   },
   "outputs": [],
   "source": [
    "inputs = ['diff1615.%d@basemaps'%i for i in range(1, 12)]\n",
    "# inputs = ['norm.diff1615.%d@basemaps'%i for i in range(1, 12)]\n",
    "print inputs\n",
    "output = 'wint1516.alrm@umd_alarm'"
   ]
  },
  {
   "cell_type": "code",
   "execution_count": null,
   "metadata": {
    "collapsed": true,
    "deletable": true,
    "editable": true
   },
   "outputs": [],
   "source": [
    "try:\n",
    "    grs.grass.run_command('r.mapcalc', expression=\"MASK = forest.mask.60@treecover\")\n",
    "    X_data = grs.rasters_to_array(inputs)\n",
    "    Y_data = grs.rasters_to_array([output]).ravel()\n",
    "finally:\n",
    "    # grs.grass.run_command('g.remove', type='rast', name=\"MASK\", flags='f')\n",
    "    grs.grass.run_command('r.mask', flags='r')\n",
    "    \n",
    "# In output raster '1' is 'alarm', nan is 'not alarm'\n",
    "Y_data = np.nan_to_num(Y_data)"
   ]
  },
  {
   "cell_type": "code",
   "execution_count": null,
   "metadata": {
    "collapsed": false,
    "deletable": true,
    "editable": true
   },
   "outputs": [],
   "source": [
    "print X_data.shape\n",
    "print Y_data.shape\n",
    "print np.count_nonzero(Y_data)\n",
    "\n",
    "# Сортируем так чтобы объекты-рубки оказались в конце списка, \n",
    "# чтобы на графиках их было видно - они будут отрисовываться после объектов-нерубок\n",
    "Y_inds = Y_data.argsort()\n",
    "\n",
    "X_data_sorted = X_data[Y_inds]\n",
    "Y_data_sorted = Y_data[Y_inds]"
   ]
  },
  {
   "cell_type": "code",
   "execution_count": null,
   "metadata": {
    "collapsed": false,
    "deletable": true,
    "editable": true
   },
   "outputs": [],
   "source": [
    "for i in range(11):\n",
    "    for j in range(11):\n",
    "        if j > i:\n",
    "            print_plot(i, j, X_data_sorted, Y_data_sorted)"
   ]
  },
  {
   "cell_type": "markdown",
   "metadata": {
    "collapsed": false,
    "deletable": true,
    "editable": true
   },
   "source": [
    "## Оценка плотностей"
   ]
  },
  {
   "cell_type": "markdown",
   "metadata": {},
   "source": [
    "Графики показывают то, что алармы имеют тенденцию накапливаться около нуля, а не-алармы разбросаны чуть больше. Оценим плотности распределения точек для алармов и не-алармов в виде гауссовых смесей."
   ]
  },
  {
   "cell_type": "code",
   "execution_count": null,
   "metadata": {
    "collapsed": false
   },
   "outputs": [],
   "source": [
    "# inputs = ['diff1615.%d@basemaps'%i for i in range(1, 12)]\n",
    "inputs = ['norm.diff1615.%d@basemaps'%i for i in range(1, 12)]\n",
    "print inputs\n",
    "output = 'wint1516.alrm@umd_alarm'\n",
    "\n",
    "try:\n",
    "    grs.grass.run_command('r.mapcalc', expression=\"MASK = forest.mask.60@treecover\")\n",
    "    X_data = grs.rasters_to_array(inputs)\n",
    "    Y_data = grs.rasters_to_array([output]).ravel()\n",
    "finally:\n",
    "    # grs.grass.run_command('g.remove', type='rast', name=\"MASK\", flags='f')\n",
    "    grs.grass.run_command('r.mask', flags='r')\n",
    "    \n",
    "# In output raster '1' is 'alarm', nan is 'not alarm'\n",
    "Y_data = np.nan_to_num(Y_data)"
   ]
  },
  {
   "cell_type": "code",
   "execution_count": null,
   "metadata": {
    "collapsed": false
   },
   "outputs": [],
   "source": [
    "X_alarm = X_data[Y_data==1]\n",
    "print X_alarm.shape\n",
    "X_alarm = X_alarm[~np.isnan(X_alarm).any(axis=1), :]\n",
    "print X_alarm.shape"
   ]
  },
  {
   "cell_type": "code",
   "execution_count": null,
   "metadata": {
    "collapsed": false
   },
   "outputs": [],
   "source": [
    "X_nonalarm = X_data[Y_data==0]\n",
    "print X_nonalarm.shape\n",
    "X_nonalarm = X_nonalarm[~np.isnan(X_nonalarm).any(axis=1), :]\n",
    "print X_nonalarm.shape"
   ]
  },
  {
   "cell_type": "code",
   "execution_count": null,
   "metadata": {
    "collapsed": false,
    "deletable": true,
    "editable": true
   },
   "outputs": [],
   "source": [
    "from sklearn import mixture\n",
    "\n",
    "lowest_bic = np.infty\n",
    "bic = []\n",
    "n_components_range = range(1, 7)\n",
    "for n_components in n_components_range:\n",
    "    # Fit a Gaussian mixture with EM\n",
    "    gmm = mixture.GaussianMixture(n_components=n_components,\n",
    "                                  covariance_type='full')\n",
    "    gmm.fit(X_alarm)\n",
    "    bic.append(gmm.bic(X_alarm))\n",
    "    if bic[-1] < lowest_bic:\n",
    "        lowest_bic = bic[-1]\n",
    "        best_gmm_alarm = gmm\n",
    "\n",
    "bic"
   ]
  },
  {
   "cell_type": "code",
   "execution_count": null,
   "metadata": {
    "collapsed": false
   },
   "outputs": [],
   "source": [
    "lowest_bic = np.infty\n",
    "bic = []\n",
    "n_components_range = range(1, 20)\n",
    "for n_components in n_components_range:\n",
    "    # Fit a Gaussian mixture with EM\n",
    "    gmm = mixture.GaussianMixture(n_components=n_components,\n",
    "                                  covariance_type='full')\n",
    "    gmm.fit(X_nonalarm)\n",
    "    bic.append(gmm.bic(X_nonalarm))\n",
    "    if bic[-1] < lowest_bic:\n",
    "        lowest_bic = bic[-1]\n",
    "        best_gmm_nonalarm = gmm\n",
    "\n",
    "bic"
   ]
  },
  {
   "cell_type": "code",
   "execution_count": null,
   "metadata": {
    "collapsed": false
   },
   "outputs": [],
   "source": [
    "print best_gmm_alarm.means_\n",
    "# print best_gmm_alarm.covariances_"
   ]
  },
  {
   "cell_type": "code",
   "execution_count": null,
   "metadata": {
    "collapsed": false
   },
   "outputs": [],
   "source": [
    "print best_gmm_nonalarm.means_\n",
    "# print best_gmm_nonalarm.covariances_"
   ]
  },
  {
   "cell_type": "markdown",
   "metadata": {},
   "source": [
    "## Исходные каналы (не разности)"
   ]
  },
  {
   "cell_type": "code",
   "execution_count": null,
   "metadata": {
    "collapsed": false
   },
   "outputs": [],
   "source": [
    "inputs15 = ['composite15.%d@basemaps'%i for i in range(1, 12)]\n",
    "inputs16 = ['composite16.%d@basemaps'%i for i in range(1, 12)]\n",
    "inputs = inputs15 + inputs16\n",
    "\n",
    "# inputs = ['norm.diff1615.%d@basemaps'%i for i in range(1, 12)]\n",
    "print inputs\n",
    "output = 'wint1516.alrm@umd_alarm'\n",
    "\n",
    "try:\n",
    "    grs.grass.run_command('r.mapcalc', expression=\"MASK = forest.mask.60@treecover\")\n",
    "    X_data = grs.rasters_to_array(inputs)\n",
    "    Y_data = grs.rasters_to_array([output]).ravel()\n",
    "finally:\n",
    "    # grs.grass.run_command('g.remove', type='rast', name=\"MASK\", flags='f')\n",
    "    grs.grass.run_command('r.mask', flags='r')\n",
    "    \n",
    "# In output raster '1' is 'alarm', nan is 'not alarm'\n",
    "Y_data = np.nan_to_num(Y_data)\n",
    "\n",
    "print X_data.shape\n",
    "print Y_data.shape\n",
    "print np.count_nonzero(Y_data)\n",
    "\n",
    "# Сортируем так чтобы объекты-рубки оказались в конце списка, \n",
    "# чтобы на графиках их было видно - они будут отрисовываться после объектов-нерубок\n",
    "Y_inds = Y_data.argsort()\n",
    "\n",
    "X_data_sorted = X_data[Y_inds]\n",
    "Y_data_sorted = Y_data[Y_inds]"
   ]
  },
  {
   "cell_type": "code",
   "execution_count": null,
   "metadata": {
    "collapsed": false
   },
   "outputs": [],
   "source": [
    "for i in range(11):\n",
    "    j = i + 11\n",
    "    print_plot(i, j, X_data_sorted, Y_data_sorted)"
   ]
  },
  {
   "cell_type": "code",
   "execution_count": null,
   "metadata": {
    "collapsed": true
   },
   "outputs": [],
   "source": []
  }
 ],
 "metadata": {
  "kernelspec": {
   "display_name": "Python 2",
   "language": "python",
   "name": "python2"
  },
  "language_info": {
   "codemirror_mode": {
    "name": "ipython",
    "version": 2
   },
   "file_extension": ".py",
   "mimetype": "text/x-python",
   "name": "python",
   "nbconvert_exporter": "python",
   "pygments_lexer": "ipython2",
   "version": "2.7.12"
  }
 },
 "nbformat": 4,
 "nbformat_minor": 2
}
