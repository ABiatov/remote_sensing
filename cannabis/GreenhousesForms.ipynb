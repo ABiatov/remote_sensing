{
 "cells": [
  {
   "cell_type": "markdown",
   "metadata": {},
   "source": [
    "# Formes and sizes of greenhouses"
   ]
  },
  {
   "cell_type": "markdown",
   "metadata": {},
   "source": [
    "In this document we explore forms and sizes of greenhouses. Visual exploration of greenhouses are described in [separate doc](https://176.9.38.120/cruncher/notebooks/cannabis/Visual-Interpretation.ipynb).\n",
    "\n",
    "As we have found in the previose notebook, a lot of greenhouses are rectangular, so we begin the exploration with the next assumption:\n",
    "  * greengouses are rectangular."
   ]
  },
  {
   "cell_type": "markdown",
   "metadata": {},
   "source": [
    "Suppose for simplicity that all greenhouses are rectangular.\n",
    "\n",
    "We have reprojected the shapefile in UTM-10 projection and calculated perimeter and area of the greenhouses."
   ]
  },
  {
   "cell_type": "code",
   "execution_count": 1,
   "metadata": {
    "collapsed": false
   },
   "outputs": [
    {
     "data": {
      "text/plain": [
       "       id              name            s                  p           \n",
       " Min.   :   1.0   10703  :   3   Min.   :     0.0   Min.   :  0.1465  \n",
       " 1st Qu.: 861.2   122    :   3   1st Qu.:    35.8   1st Qu.: 26.8455  \n",
       " Median :1721.5   129    :   3   Median :    71.0   Median : 39.8066  \n",
       " Mean   :1721.5   5485   :   3   Mean   :   989.3   Mean   : 44.8516  \n",
       " 3rd Qu.:2581.8   85     :   3   3rd Qu.:   132.9   3rd Qu.: 56.8388  \n",
       " Max.   :3442.0   100    :   2   Max.   :935297.6   Max.   :403.9714  \n",
       "                  (Other):3425                                        "
      ]
     },
     "metadata": {},
     "output_type": "display_data"
    },
    {
     "data": {
      "text/html": [
       "<table>\n",
       "<thead><tr><th></th><th scope=col>id</th><th scope=col>name</th><th scope=col>s</th><th scope=col>p</th></tr></thead>\n",
       "<tbody>\n",
       "\t<tr><th scope=row>206</th><td>206             </td><td>84              </td><td>849324.640580217</td><td>19.16362401697  </td></tr>\n",
       "\t<tr><th scope=row>1104</th><td>924             </td><td>10042           </td><td>565615.128765039</td><td>1.03329644048   </td></tr>\n",
       "\t<tr><th scope=row>1127</th><td>947             </td><td>5009            </td><td>3461.86631846739</td><td>232.39953864673 </td></tr>\n",
       "\t<tr><th scope=row>1589</th><td>1469            </td><td>5134            </td><td>5167.49569032703</td><td>403.97135019799 </td></tr>\n",
       "\t<tr><th scope=row>2698</th><td>2608            </td><td>10557           </td><td>669703.225971626</td><td>49.03945337027  </td></tr>\n",
       "\t<tr><th scope=row>2922</th><td>2862            </td><td>5715            </td><td>935297.621498672</td><td>34.18512703221  </td></tr>\n",
       "</tbody>\n",
       "</table>\n"
      ],
      "text/latex": [
       "\\begin{tabular}{r|llll}\n",
       "  & id & name & s & p\\\\\n",
       "\\hline\n",
       "\t206 & 206              & 84               & 849324.640580217 & 19.16362401697  \\\\\n",
       "\t1104 & 924              & 10042            & 565615.128765039 & 1.03329644048   \\\\\n",
       "\t1127 & 947              & 5009             & 3461.86631846739 & 232.39953864673 \\\\\n",
       "\t1589 & 1469             & 5134             & 5167.49569032703 & 403.97135019799 \\\\\n",
       "\t2698 & 2608             & 10557            & 669703.225971626 & 49.03945337027  \\\\\n",
       "\t2922 & 2862             & 5715             & 935297.621498672 & 34.18512703221  \\\\\n",
       "\\end{tabular}\n"
      ],
      "text/plain": [
       "       id  name          s          p\n",
       "206   206    84 849324.641  19.163624\n",
       "1104  924 10042 565615.129   1.033296\n",
       "1127  947  5009   3461.866 232.399539\n",
       "1589 1469  5134   5167.496 403.971350\n",
       "2698 2608 10557 669703.226  49.039453\n",
       "2922 2862  5715 935297.621  34.185127"
      ]
     },
     "metadata": {},
     "output_type": "display_data"
    }
   ],
   "source": [
    "gh = read.table('DATA/greenhouses32610.csv', header=T, sep=',')\n",
    "gh = data.frame(id=gh$OBJECTID, name=gh$Name, s=gh$Shape_Area, p=gh$Shape_Leng)\n",
    "summary(gh)\n",
    "\n",
    "gh[gh$s > 3000, ]"
   ]
  },
  {
   "cell_type": "markdown",
   "metadata": {},
   "source": [
    "We can see that some poligons have toplologocal errors. For example [poligon Name=10042](http://kolesov.nextgis.com/resource/100/display?base=osm-mapnik&lon=-123.9459&lat=40.0911&angle=0&zoom=28&styles=99) has 565615 sq meters area and 1 meter perimeter. Remove such poligons from the data:"
   ]
  },
  {
   "cell_type": "code",
   "execution_count": 2,
   "metadata": {
    "collapsed": false
   },
   "outputs": [
    {
     "data": {
      "text/plain": [
       "       id              name            s                  p          \n",
       " Min.   :   1.0   1025   :   2   Min.   :   5.351   Min.   :  9.674  \n",
       " 1st Qu.: 856.8   1026   :   2   1st Qu.:  38.754   1st Qu.: 28.368  \n",
       " Median :1735.5   1036   :   2   Median :  73.722   Median : 40.444  \n",
       " Mean   :1726.3   3188   :   2   Mean   : 115.649   Mean   : 46.220  \n",
       " 3rd Qu.:2597.2   3189   :   2   3rd Qu.: 136.344   3rd Qu.: 57.733  \n",
       " Max.   :3442.0   5343   :   2   Max.   :5167.496   Max.   :403.971  \n",
       "                  (Other):3320                                       "
      ]
     },
     "metadata": {},
     "output_type": "display_data"
    }
   ],
   "source": [
    "gh$s[gh$s > 10000] = NA\n",
    "gh$s[gh$s < 5] = NA\n",
    "gh$p[gh$p < 2] = NA\n",
    "gh = na.omit(gh)\n",
    "\n",
    "summary(gh)"
   ]
  },
  {
   "cell_type": "markdown",
   "metadata": {},
   "source": [
    "If a greenhouse is rectangular, then we can write the next system of equations:\n",
    "\n",
    "$$\n",
    "\\begin{array}\n",
    "  & a_1 a_2 = s \\\\ \n",
    "  & 2(a_1+a_2) = p \n",
    "\\end{array}\n",
    "$$\n",
    "Where `a1` is the smallest side of the rectangule, `a2` is the bigest, `s` is the area and `p` is the perimeter.\n",
    "\n",
    "We can solve the equation:\n",
    "\n",
    "$$\n",
    "\\begin{array}\n",
    "  & a_1 = \\frac{p}{2}-a_2 \\\\ \n",
    "  & a_2 = \\frac{p+\\sqrt{p^2 - 16 s}}{4}\n",
    "\\end{array}\n",
    "$$"
   ]
  },
  {
   "cell_type": "code",
   "execution_count": 3,
   "metadata": {
    "collapsed": false
   },
   "outputs": [
    {
     "name": "stderr",
     "output_type": "stream",
     "text": [
      "Warning message:\n",
      "In sqrt(gh$p^2 - 16 * gh$s): созданы NaN"
     ]
    },
    {
     "data": {
      "text/plain": [
       "       id              name            s                  p          \n",
       " Min.   :   1.0   1025   :   2   Min.   :   5.351   Min.   :  9.674  \n",
       " 1st Qu.: 856.8   1026   :   2   1st Qu.:  38.754   1st Qu.: 28.368  \n",
       " Median :1735.5   1036   :   2   Median :  73.722   Median : 40.444  \n",
       " Mean   :1726.3   3188   :   2   Mean   : 115.649   Mean   : 46.220  \n",
       " 3rd Qu.:2597.2   3189   :   2   3rd Qu.: 136.344   3rd Qu.: 57.733  \n",
       " Max.   :3442.0   5343   :   2   Max.   :5167.496   Max.   :403.971  \n",
       "                  (Other):3320                                       \n",
       "       a2         \n",
       " Min.   :  3.087  \n",
       " 1st Qu.:  9.906  \n",
       " Median : 15.079  \n",
       " Mean   : 17.775  \n",
       " 3rd Qu.: 22.988  \n",
       " Max.   :171.930  \n",
       " NA's   :188      "
      ]
     },
     "metadata": {},
     "output_type": "display_data"
    }
   ],
   "source": [
    "gh$a2 = (gh$p + sqrt(gh$p^2 - 16 * gh$s))/4\n",
    "\n",
    "summary(gh)"
   ]
  },
  {
   "cell_type": "markdown",
   "metadata": {},
   "source": [
    "There are polygon with wrong descriminants (below zero). We cheched some of them, they also have wrong toplogy. So we can ommit them."
   ]
  },
  {
   "cell_type": "code",
   "execution_count": 4,
   "metadata": {
    "collapsed": false
   },
   "outputs": [
    {
     "data": {
      "text/plain": [
       "       id              name            s                  p         \n",
       " Min.   :   1.0   1025   :   2   Min.   :   5.351   Min.   : 10.12  \n",
       " 1st Qu.: 839.8   1026   :   2   1st Qu.:  39.523   1st Qu.: 29.09  \n",
       " Median :1739.5   1036   :   2   Median :  74.784   Median : 41.10  \n",
       " Mean   :1725.5   3188   :   2   Mean   : 114.580   Mean   : 46.78  \n",
       " 3rd Qu.:2620.2   3189   :   2   3rd Qu.: 136.885   3rd Qu.: 58.41  \n",
       " Max.   :3442.0   5343   :   2   Max.   :5167.496   Max.   :403.97  \n",
       "                  (Other):3132                                      \n",
       "       a2                a1         \n",
       " Min.   :  3.087   Min.   : 0.9002  \n",
       " 1st Qu.:  9.906   1st Qu.: 3.5454  \n",
       " Median : 15.079   Median : 4.8056  \n",
       " Mean   : 17.775   Mean   : 5.6162  \n",
       " 3rd Qu.: 22.988   3rd Qu.: 7.0096  \n",
       " Max.   :171.930   Max.   :36.3811  \n",
       "                                    "
      ]
     },
     "metadata": {},
     "output_type": "display_data"
    }
   ],
   "source": [
    "gh = na.omit(gh)\n",
    "gh$a1 = (gh$p)/2 - gh$a2\n",
    "summary(gh)"
   ]
  },
  {
   "cell_type": "markdown",
   "metadata": {},
   "source": [
    "Draw the sides of the greengouses."
   ]
  },
  {
   "cell_type": "code",
   "execution_count": 5,
   "metadata": {
    "collapsed": false
   },
   "outputs": [
    {
     "data": {
      "text/html": [
       "<strong>png:</strong> 2"
      ],
      "text/latex": [
       "\\textbf{png:} 2"
      ],
      "text/markdown": [
       "**png:** 2"
      ],
      "text/plain": [
       "png \n",
       "  2 "
      ]
     },
     "metadata": {},
     "output_type": "display_data"
    }
   ],
   "source": [
    "png(\"Img/rect_sizes.png\", width=728, height=728, units=\"px\")\n",
    "  plot(gh$a1, gh$a2, pch = 19, cex=0.01)\n",
    "dev.off()"
   ]
  },
  {
   "cell_type": "markdown",
   "metadata": {},
   "source": [
    "<img src=\"Img/rect_sizes.png\">"
   ]
  },
  {
   "cell_type": "markdown",
   "metadata": {},
   "source": [
    "We can see that the length parameters have variations but most of the greenhoses are not very big. They are usually 4x10 -- 7x25 meters. But there are very big greenhouses for example 30x170.\n",
    "\n",
    "The question about form and size have to be explored more, but this plot gives us enought information to continue analysis of the textures (see the contlusion in the [previouse doc](https://176.9.38.120/cruncher/notebooks/cannabis/Visual-Interpretation.ipynb))."
   ]
  }
 ],
 "metadata": {
  "kernelspec": {
   "display_name": "R",
   "language": "R",
   "name": "ir"
  },
  "language_info": {
   "codemirror_mode": "r",
   "file_extension": ".r",
   "mimetype": "text/x-r-source",
   "name": "R",
   "pygments_lexer": "r",
   "version": "3.0.2"
  }
 },
 "nbformat": 4,
 "nbformat_minor": 0
}
