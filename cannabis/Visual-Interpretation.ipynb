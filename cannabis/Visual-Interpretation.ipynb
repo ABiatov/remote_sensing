{
 "cells": [
  {
   "cell_type": "markdown",
   "metadata": {},
   "source": [
    "# Exploration of PlanetLabs data for searching of cannabis plants"
   ]
  },
  {
   "cell_type": "markdown",
   "metadata": {},
   "source": [
    "## The aim\n",
    "\n",
    "The goal of the document is searching of the answers to the questions\n",
    "\n",
    "  * How do greenhouses look on PlanetLabs photos?\n",
    "  * Whether it is possible to distinguish greenhouses from other object? (In forests, cities, etc.)\n",
    "  * What are the main characteristics of greenhouses that help us to distinguish greenhouses and other objects?\n",
    "  "
   ]
  },
  {
   "cell_type": "markdown",
   "metadata": {},
   "source": [
    "## Exploration"
   ]
  },
  {
   "cell_type": "markdown",
   "metadata": {},
   "source": [
    "### Maps\n",
    "\n",
    "We have taken several random polygons to exploration, the result is presented in the table. ObjectID is the row number from `greenhouses.shp` file.\n",
    "\n",
    "Ask us for the credentials of the next maps.\n",
    "\n",
    "\n",
    "ObjectID|Date|Comments\n",
    "-----|----|-----------\n",
    "4, 5 | [2015.09.19](http://kolesov.nextgis.com/resource/100/display?base=osm-mapnik&lon=-123.9042&lat=39.9588&angle=0&zoom=18&styles=99,163)|The greenhouses are bright spots in a forest. But the same bright spots [to north](http://kolesov.nextgis.com/resource/100/display?base=osm-mapnik&lon=-123.8949&lat=39.9716&angle=0&zoom=16&styles=99,163) are not marked as greenhouses. Are they constructed later, are they other building but not greenhouses? \n",
    "109, 110| [2016.06.10](http://kolesov.nextgis.com/resource/100/display?base=osm-mapnik&lon=-123.4732&lat=39.9893&angle=0&zoom=18&styles=99,359)| The greenhouses are bright spots in a forest, but there are other brigth spots in the forest (sandy soil, roads). The differences in greenhouses and soil are shape and size: the greenhouses are small, the shape is almost rectangular. \n",
    "236| [2016.07.11](http://kolesov.nextgis.com/resource/100/display?base=osm-mapnik&lon=-123.6396&lat=40.0182&angle=0&zoom=17&styles=99,557)| The greenhouses are bright spots in a forest. But unlike the prviouse example the greenhouses are situated in soil patches. The greenhouses are quite brighter then soil.\n",
    "476| [2015.09.19](http://kolesov.nextgis.com/resource/100/display?base=osm-mapnik&lon=-124.0617&lat=40.0418&angle=0&zoom=17&styles=99,157), [2016.06.10](http://kolesov.nextgis.com/resource/100/display?base=osm-mapnik&lon=-124.0617&lat=40.0418&angle=0&zoom=17&styles=99,367) | The greenhouse is not visible. Some bright spots are located near the greenhouses footprints, but not in the same locations. Are the greenhouses moved to other places?\n",
    "537, 539, 543, 548| [2016.07.11](http://kolesov.nextgis.com/resource/100/display?base=osm-mapnik&lon=-123.6048&lat=40.0454&angle=0&zoom=18&styles=99,557) | The greenhouses are bright spots in soil area. There are some other bright spots, but they are not marked as greenhouses. Are they new greenhouses? Are they other type of buildings?\n",
    "731| [2016.06.10](http://kolesov.nextgis.com/resource/100/display?base=osm-mapnik&lon=-123.7787&lat=40.0678&angle=0&zoom=18&styles=99,369) | The greenhouses are bright spots in soil area. There are some other bright spots, but they are not marked as greenhouses. Are they new greenhouses? But they might be other type of buildings because they have bigger sizes.\n",
    "829| [2016.06.10](http://kolesov.nextgis.com/resource/100/display?base=osm-mapnik&lon=-123.7651&lat=40.0787&angle=0&zoom=17&styles=99,369), [2016.07.11](http://kolesov.nextgis.com/resource/100/display?base=osm-mapnik&lon=-123.7641&lat=40.0796&angle=0&zoom=17&styles=99,553) | Several greenhouses form one big brigth spot. There are some other bright spots, but they are not marked as greenhouses and they are less bright.\n",
    "1121| [2016.06.10](http://kolesov.nextgis.com/resource/100/display?base=osm-mapnik&lon=-123.7313&lat=40.1029&angle=0&zoom=17&styles=99,371), [2016.07.11](http://kolesov.nextgis.com/resource/100/display?base=osm-mapnik&lon=-123.7313&lat=40.1029&angle=0&zoom=17&styles=99,553) | The greenhouses are bright spots, but some greenhouses are allmost invisible. Some (big) brigth spots are not greenhouses. *Note. The time difference of the photos is near 1 month, but the greenhouses aspect very different. The positions of the grenhouses are 'moved' more then 20 meters. Is this because of different sun positions + vew angles?*\n",
    "1269| [2016.06.10](http://kolesov.nextgis.com/resource/100/display?base=osm-mapnik&lon=-123.8282&lat=40.1191&angle=0&zoom=17&styles=99,369), [2016.07.11](http://kolesov.nextgis.com/resource/100/display?base=osm-mapnik&lon=-123.8282&lat=40.1191&angle=0&zoom=17&styles=99,551) | The greenhouses are bright spots. But the place is a townside, this is very diffucult conditions to recognize greenhouses because of other buildings (they are bright spots also).\n",
    "1968| [2016.07.01](http://kolesov.nextgis.com/resource/100/display?base=osm-mapnik&lon=-123.8284&lat=40.3004&angle=0&zoom=16&styles=99,407,409) | The marked greenhouses are invisible on the photos (was the greenhouses moved? are they in tree shadows?). There are a lot of other bright spots (are they new greenhouses? are they buildings of other types?)\n",
    "2398| [2015.10.30](http://kolesov.nextgis.com/resource/100/display?base=osm-mapnik&lon=-123.7296&lat=40.4736&angle=0&zoom=17&styles=99,195), [2015.11.04-i](http://kolesov.nextgis.com/resource/100/display?base=osm-mapnik&lon=-123.7296&lat=40.4736&angle=0&zoom=17&styles=99,235), [2015.11.04-ii](http://kolesov.nextgis.com/resource/100/display?base=osm-mapnik&lon=-123.7296&lat=40.4736&angle=0&zoom=17&styles=99,233), [2015.11.04-iii](http://kolesov.nextgis.com/resource/100/display?base=osm-mapnik&lon=-123.7296&lat=40.4736&angle=0&zoom=17&styles=99,261), [2016.05.10](http://kolesov.nextgis.com/resource/100/display?base=osm-mapnik&lon=-123.7296&lat=40.4736&angle=0&zoom=17&styles=99,345), [2016.07.02](http://kolesov.nextgis.com/resource/100/display?base=osm-mapnik&lon=-123.7296&lat=40.4736&angle=0&zoom=17&styles=99,455) | This is very helpfull place. Some photos was taken in one day, but greenhouses are invisible on one of them and very brigth on other. We can see that view angles and sun positions are crucial.\n",
    "2731| [2016.07.02](http://kolesov.nextgis.com/resource/100/display?base=osm-mapnik&lon=-123.5474&lat=40.5047&angle=0&zoom=17&styles=99,459), [2016.07.01](http://kolesov.nextgis.com/resource/100/display?base=osm-mapnik&lon=-123.5474&lat=40.5047&angle=0&zoom=17&styles=99,417) | The greenhouses are bright spots. But the places of the spots are \"moved\" more then 75 meters! Is it because of hills? Or is it because of wrong geopositioning of Planet data?\n",
    "3430-3434 |[2016.07.11](http://kolesov.nextgis.com/resource/100/display?base=osm-mapnik&lon=-123.5170&lat=41.3371&angle=0&zoom=17&styles=99,529), [2016.07.11](http://kolesov.nextgis.com/resource/100/display?base=osm-mapnik&lon=-123.5159&lat=41.3370&angle=0&zoom=17&styles=99,531)| The greenhouses aren't visible (are they constructed last year? are view point/sun angle isn't convinient)\n",
    "3416-3420 |[2016.07.11](http://kolesov.nextgis.com/resource/100/display?base=osm-mapnik&lon=-123.5444&lat=41.2889&angle=0&zoom=17&styles=99,531,557)| Ther are a lot of other bright objects. (Are they also greenhouses? It is doubtfully because this place is a town, the bright objects should be houses)"
   ]
  },
  {
   "cell_type": "markdown",
   "metadata": {},
   "source": [
    "### Size\n",
    "\n",
    "Most of the shapes of greenhouses are rectangular. The shapes can be seen in the training data, but not in the photos (resolution of the photos is too rought for recognize the shapes).  The question \"What is the \"average\" size of a greenhouse?\" is important for analysis because most of texture descriptions are depends on scale and size of used running window.\n",
    " \n",
    "The question is explored in [separate notebook](https://176.9.38.120/cruncher/notebooks/cannabis/GreenhousesForms.ipynb), we show there that usual greenhouse size is 4x10 -- 7x25 meters."
   ]
  },
  {
   "cell_type": "markdown",
   "metadata": {
    "collapsed": true
   },
   "source": [
    "## Summary\n",
    "\n",
    " * Usually greenhouses are bright spots.\n",
    " * There are bright spots of other types (sandy soil for example), but the brightest spots are greenhouses an other buildings.\n",
    " * Typical shapes of greenhouses are rectangual and the typical size of greenhouses are 4x10 -- 7x25 meters.\n",
    " * The Planet photos are not well preprocessed for geopositioning: a greenhouse on one photo can \"be shifted\" by 75 meters from another photo.\n",
    " * A greenhouse may be  is clearly visible in one photo and totally invisible in other photo (taken in the same day)."
   ]
  }
 ],
 "metadata": {
  "kernelspec": {
   "display_name": "Python 2",
   "language": "python",
   "name": "python2"
  },
  "language_info": {
   "codemirror_mode": {
    "name": "ipython",
    "version": 2
   },
   "file_extension": ".py",
   "mimetype": "text/x-python",
   "name": "python",
   "nbconvert_exporter": "python",
   "pygments_lexer": "ipython2",
   "version": "2.7.6"
  }
 },
 "nbformat": 4,
 "nbformat_minor": 0
}
